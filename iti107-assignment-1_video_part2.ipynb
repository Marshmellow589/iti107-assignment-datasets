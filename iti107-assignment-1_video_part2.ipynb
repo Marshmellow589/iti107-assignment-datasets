{
 "cells": [
  {
   "cell_type": "markdown",
   "metadata": {
    "id": "view-in-github"
   },
   "source": [
    "<a href=\"https://colab.research.google.com/github/nyp-sit/iti107-2024S2/blob/main/session-3/yolo8_custom_train.ipynb\" target=\"_parent\"><img src=\"https://colab.research.google.com/assets/colab-badge.svg\" alt=\"Open In Colab\"/></a>"
   ]
  },
  {
   "cell_type": "markdown",
   "metadata": {
    "id": "p9fM_zdIhpGt"
   },
   "source": [
    "# Object Detection using YOLO\n",
    "\n"
   ]
  },
  {
   "cell_type": "markdown",
   "metadata": {
    "id": "Ui8i_pB5sItu"
   },
   "source": [
    "## Streaming\n",
    "\n",
    "We can also do real-time detection on a video or camera steram.\n",
    "\n",
    "The code below uses openCV library to display video in a window, and can only be run locally on a local laptop.\n",
    "\n",
    "If you are training your model on Google Colab, you will download the exported OpenVINO model to a local PC. If you are training your model locally, then the exported model should already be on your local PC.\n",
    "\n",
    "Run the following code to zip up the OpenVINO folder and download to local PC.\n"
   ]
  },
  {
   "cell_type": "markdown",
   "metadata": {
    "id": "xTTV-ndvuOx7"
   },
   "source": [
    "*Note: If you encountered error message \"NotImplementedError: A UTF-8 locale is required. Got ANSI_X3.4-1968\", uncomment the following cell and run it.*\n"
   ]
  },
  {
   "cell_type": "code",
   "execution_count": null,
   "metadata": {
    "id": "_O-nmcYRuMIg"
   },
   "outputs": [],
   "source": [
    "# import locale\n",
    "# locale.getpreferredencoding = lambda: \"UTF-8\""
   ]
  },
  {
   "cell_type": "code",
   "execution_count": 19,
   "metadata": {},
   "outputs": [
    {
     "name": "stdout",
     "output_type": "stream",
     "text": [
      "Requirement already satisfied: ultralytics in e:\\anaconda\\envs\\pythontest\\lib\\site-packages (8.3.46)\n",
      "Requirement already satisfied: numpy>=1.23.0 in e:\\anaconda\\envs\\pythontest\\lib\\site-packages (from ultralytics) (1.24.4)\n",
      "Requirement already satisfied: matplotlib>=3.3.0 in e:\\anaconda\\envs\\pythontest\\lib\\site-packages (from ultralytics) (3.5.3)\n",
      "Requirement already satisfied: opencv-python>=4.6.0 in e:\\anaconda\\envs\\pythontest\\lib\\site-packages (from ultralytics) (4.6.0.66)\n",
      "Requirement already satisfied: pillow>=7.1.2 in e:\\anaconda\\envs\\pythontest\\lib\\site-packages (from ultralytics) (9.3.0)\n",
      "Requirement already satisfied: pyyaml>=5.3.1 in e:\\anaconda\\envs\\pythontest\\lib\\site-packages (from ultralytics) (6.0.1)\n",
      "Requirement already satisfied: requests>=2.23.0 in e:\\anaconda\\envs\\pythontest\\lib\\site-packages (from ultralytics) (2.32.2)\n",
      "Requirement already satisfied: scipy>=1.4.1 in e:\\anaconda\\envs\\pythontest\\lib\\site-packages (from ultralytics) (1.10.1)\n",
      "Requirement already satisfied: torch>=1.8.0 in e:\\anaconda\\envs\\pythontest\\lib\\site-packages (from ultralytics) (2.4.1)\n",
      "Requirement already satisfied: torchvision>=0.9.0 in e:\\anaconda\\envs\\pythontest\\lib\\site-packages (from ultralytics) (0.19.1)\n",
      "Requirement already satisfied: tqdm>=4.64.0 in e:\\anaconda\\envs\\pythontest\\lib\\site-packages (from ultralytics) (4.66.4)\n",
      "Requirement already satisfied: psutil in e:\\anaconda\\envs\\pythontest\\lib\\site-packages (from ultralytics) (5.9.0)\n",
      "Requirement already satisfied: py-cpuinfo in e:\\anaconda\\envs\\pythontest\\lib\\site-packages (from ultralytics) (9.0.0)\n",
      "Requirement already satisfied: pandas>=1.1.4 in e:\\anaconda\\envs\\pythontest\\lib\\site-packages (from ultralytics) (1.4.4)\n",
      "Requirement already satisfied: seaborn>=0.11.0 in e:\\anaconda\\envs\\pythontest\\lib\\site-packages (from ultralytics) (0.11.1)\n",
      "Requirement already satisfied: ultralytics-thop>=2.0.0 in e:\\anaconda\\envs\\pythontest\\lib\\site-packages (from ultralytics) (2.0.12)\n",
      "Requirement already satisfied: cycler>=0.10 in e:\\anaconda\\envs\\pythontest\\lib\\site-packages (from matplotlib>=3.3.0->ultralytics) (0.11.0)\n",
      "Requirement already satisfied: fonttools>=4.22.0 in e:\\anaconda\\envs\\pythontest\\lib\\site-packages (from matplotlib>=3.3.0->ultralytics) (4.51.0)\n",
      "Requirement already satisfied: kiwisolver>=1.0.1 in e:\\anaconda\\envs\\pythontest\\lib\\site-packages (from matplotlib>=3.3.0->ultralytics) (1.4.4)\n",
      "Requirement already satisfied: packaging>=20.0 in e:\\anaconda\\envs\\pythontest\\lib\\site-packages (from matplotlib>=3.3.0->ultralytics) (24.1)\n",
      "Requirement already satisfied: pyparsing>=2.2.1 in e:\\anaconda\\envs\\pythontest\\lib\\site-packages (from matplotlib>=3.3.0->ultralytics) (3.0.9)\n",
      "Requirement already satisfied: python-dateutil>=2.7 in e:\\anaconda\\envs\\pythontest\\lib\\site-packages (from matplotlib>=3.3.0->ultralytics) (2.8.2)\n",
      "Requirement already satisfied: pytz>=2020.1 in e:\\anaconda\\envs\\pythontest\\lib\\site-packages (from pandas>=1.1.4->ultralytics) (2024.1)\n",
      "Requirement already satisfied: charset-normalizer<4,>=2 in e:\\anaconda\\envs\\pythontest\\lib\\site-packages (from requests>=2.23.0->ultralytics) (2.0.4)\n",
      "Requirement already satisfied: idna<4,>=2.5 in e:\\anaconda\\envs\\pythontest\\lib\\site-packages (from requests>=2.23.0->ultralytics) (3.7)\n",
      "Requirement already satisfied: urllib3<3,>=1.21.1 in e:\\anaconda\\envs\\pythontest\\lib\\site-packages (from requests>=2.23.0->ultralytics) (1.26.19)\n",
      "Requirement already satisfied: certifi>=2017.4.17 in e:\\anaconda\\envs\\pythontest\\lib\\site-packages (from requests>=2.23.0->ultralytics) (2024.8.30)\n",
      "Requirement already satisfied: filelock in e:\\anaconda\\envs\\pythontest\\lib\\site-packages (from torch>=1.8.0->ultralytics) (3.13.1)\n",
      "Requirement already satisfied: typing-extensions>=4.8.0 in e:\\anaconda\\envs\\pythontest\\lib\\site-packages (from torch>=1.8.0->ultralytics) (4.11.0)\n",
      "Requirement already satisfied: sympy in e:\\anaconda\\envs\\pythontest\\lib\\site-packages (from torch>=1.8.0->ultralytics) (1.13.3)\n",
      "Requirement already satisfied: networkx in e:\\anaconda\\envs\\pythontest\\lib\\site-packages (from torch>=1.8.0->ultralytics) (2.6.3)\n",
      "Requirement already satisfied: jinja2 in e:\\anaconda\\envs\\pythontest\\lib\\site-packages (from torch>=1.8.0->ultralytics) (3.0.3)\n",
      "Requirement already satisfied: fsspec in e:\\anaconda\\envs\\pythontest\\lib\\site-packages (from torch>=1.8.0->ultralytics) (2024.9.0)\n",
      "Requirement already satisfied: colorama in e:\\anaconda\\envs\\pythontest\\lib\\site-packages (from tqdm>=4.64.0->ultralytics) (0.4.6)\n",
      "Requirement already satisfied: six>=1.5 in e:\\anaconda\\envs\\pythontest\\lib\\site-packages (from python-dateutil>=2.7->matplotlib>=3.3.0->ultralytics) (1.15.0)\n",
      "Requirement already satisfied: MarkupSafe>=2.0 in e:\\anaconda\\envs\\pythontest\\lib\\site-packages (from jinja2->torch>=1.8.0->ultralytics) (2.0.1)\n",
      "Requirement already satisfied: mpmath<1.4,>=1.1.0 in e:\\anaconda\\envs\\pythontest\\lib\\site-packages (from sympy->torch>=1.8.0->ultralytics) (1.3.0)\n",
      "Requirement already satisfied: comet_ml in e:\\anaconda\\envs\\pythontest\\lib\\site-packages (3.47.4)\n",
      "Requirement already satisfied: everett<3.2.0,>=1.0.1 in e:\\anaconda\\envs\\pythontest\\lib\\site-packages (from everett[ini]<3.2.0,>=1.0.1->comet_ml) (3.1.0)\n",
      "Requirement already satisfied: jsonschema!=3.1.0,>=2.6.0 in e:\\anaconda\\envs\\pythontest\\lib\\site-packages (from comet_ml) (4.19.2)\n",
      "Requirement already satisfied: psutil>=5.6.3 in e:\\anaconda\\envs\\pythontest\\lib\\site-packages (from comet_ml) (5.9.0)\n",
      "Requirement already satisfied: python-box<7.0.0 in e:\\anaconda\\envs\\pythontest\\lib\\site-packages (from comet_ml) (6.1.0)\n",
      "Requirement already satisfied: requests-toolbelt>=0.8.0 in e:\\anaconda\\envs\\pythontest\\lib\\site-packages (from comet_ml) (1.0.0)\n",
      "Requirement already satisfied: requests>=2.18.4 in e:\\anaconda\\envs\\pythontest\\lib\\site-packages (from comet_ml) (2.32.2)\n",
      "Requirement already satisfied: semantic-version>=2.8.0 in e:\\anaconda\\envs\\pythontest\\lib\\site-packages (from comet_ml) (2.10.0)\n",
      "Requirement already satisfied: sentry-sdk>=1.1.0 in e:\\anaconda\\envs\\pythontest\\lib\\site-packages (from comet_ml) (2.19.0)\n",
      "Requirement already satisfied: simplejson in e:\\anaconda\\envs\\pythontest\\lib\\site-packages (from comet_ml) (3.19.3)\n",
      "Requirement already satisfied: urllib3>=1.21.1 in e:\\anaconda\\envs\\pythontest\\lib\\site-packages (from comet_ml) (1.26.19)\n",
      "Requirement already satisfied: wrapt>=1.11.2 in e:\\anaconda\\envs\\pythontest\\lib\\site-packages (from comet_ml) (1.17.0)\n",
      "Requirement already satisfied: wurlitzer>=1.0.2 in e:\\anaconda\\envs\\pythontest\\lib\\site-packages (from comet_ml) (3.1.1)\n",
      "Requirement already satisfied: dulwich!=0.20.33,>=0.20.6 in e:\\anaconda\\envs\\pythontest\\lib\\site-packages (from comet_ml) (0.22.4)\n",
      "Requirement already satisfied: rich>=13.3.2 in e:\\anaconda\\envs\\pythontest\\lib\\site-packages (from comet_ml) (13.7.1)\n",
      "Requirement already satisfied: configobj in e:\\anaconda\\envs\\pythontest\\lib\\site-packages (from everett[ini]<3.2.0,>=1.0.1->comet_ml) (5.0.9)\n",
      "Requirement already satisfied: attrs>=22.2.0 in e:\\anaconda\\envs\\pythontest\\lib\\site-packages (from jsonschema!=3.1.0,>=2.6.0->comet_ml) (23.1.0)\n",
      "Requirement already satisfied: importlib-resources>=1.4.0 in e:\\anaconda\\envs\\pythontest\\lib\\site-packages (from jsonschema!=3.1.0,>=2.6.0->comet_ml) (6.4.0)\n",
      "Requirement already satisfied: jsonschema-specifications>=2023.03.6 in e:\\anaconda\\envs\\pythontest\\lib\\site-packages (from jsonschema!=3.1.0,>=2.6.0->comet_ml) (2023.7.1)\n",
      "Requirement already satisfied: pkgutil-resolve-name>=1.3.10 in e:\\anaconda\\envs\\pythontest\\lib\\site-packages (from jsonschema!=3.1.0,>=2.6.0->comet_ml) (1.3.10)\n",
      "Requirement already satisfied: referencing>=0.28.4 in e:\\anaconda\\envs\\pythontest\\lib\\site-packages (from jsonschema!=3.1.0,>=2.6.0->comet_ml) (0.30.2)\n",
      "Requirement already satisfied: rpds-py>=0.7.1 in e:\\anaconda\\envs\\pythontest\\lib\\site-packages (from jsonschema!=3.1.0,>=2.6.0->comet_ml) (0.10.6)\n",
      "Requirement already satisfied: charset-normalizer<4,>=2 in e:\\anaconda\\envs\\pythontest\\lib\\site-packages (from requests>=2.18.4->comet_ml) (2.0.4)\n",
      "Requirement already satisfied: idna<4,>=2.5 in e:\\anaconda\\envs\\pythontest\\lib\\site-packages (from requests>=2.18.4->comet_ml) (3.7)\n",
      "Requirement already satisfied: certifi>=2017.4.17 in e:\\anaconda\\envs\\pythontest\\lib\\site-packages (from requests>=2.18.4->comet_ml) (2024.8.30)\n",
      "Requirement already satisfied: markdown-it-py>=2.2.0 in e:\\anaconda\\envs\\pythontest\\lib\\site-packages (from rich>=13.3.2->comet_ml) (3.0.0)\n",
      "Requirement already satisfied: pygments<3.0.0,>=2.13.0 in e:\\anaconda\\envs\\pythontest\\lib\\site-packages (from rich>=13.3.2->comet_ml) (2.15.1)\n",
      "Requirement already satisfied: typing-extensions<5.0,>=4.0.0 in e:\\anaconda\\envs\\pythontest\\lib\\site-packages (from rich>=13.3.2->comet_ml) (4.11.0)\n",
      "Requirement already satisfied: zipp>=3.1.0 in e:\\anaconda\\envs\\pythontest\\lib\\site-packages (from importlib-resources>=1.4.0->jsonschema!=3.1.0,>=2.6.0->comet_ml) (3.17.0)\n",
      "Requirement already satisfied: mdurl~=0.1 in e:\\anaconda\\envs\\pythontest\\lib\\site-packages (from markdown-it-py>=2.2.0->rich>=13.3.2->comet_ml) (0.1.2)\n"
     ]
    }
   ],
   "source": [
    "!pip install ultralytics\n",
    "!pip install comet_ml"
   ]
  },
  {
   "cell_type": "code",
   "execution_count": 20,
   "metadata": {},
   "outputs": [],
   "source": [
    "import ultralytics\n",
    "from ultralytics import YOLO\n",
    "from PIL import Image"
   ]
  },
  {
   "cell_type": "code",
   "execution_count": 21,
   "metadata": {},
   "outputs": [
    {
     "name": "stdout",
     "output_type": "stream",
     "text": [
      "Requirement already satisfied: openvino in e:\\anaconda\\envs\\pythontest\\lib\\site-packages (2024.0.0)\n",
      "Requirement already satisfied: numpy>=1.16.6 in e:\\anaconda\\envs\\pythontest\\lib\\site-packages (from openvino) (1.24.4)\n",
      "Requirement already satisfied: openvino-telemetry>=2023.2.1 in e:\\anaconda\\envs\\pythontest\\lib\\site-packages (from openvino) (2024.5.0)\n",
      "Requirement already satisfied: packaging in e:\\anaconda\\envs\\pythontest\\lib\\site-packages (from openvino) (24.1)\n"
     ]
    }
   ],
   "source": [
    "!pip install openvino"
   ]
  },
  {
   "cell_type": "markdown",
   "metadata": {
    "id": "2nvf5BvM9_q2"
   },
   "source": [
    "### Streaming and display video"
   ]
  },
  {
   "cell_type": "code",
   "execution_count": 22,
   "metadata": {
    "colab": {
     "base_uri": "https://localhost:8080/",
     "height": 506
    },
    "id": "8TWG6JBVPE86",
    "outputId": "d6b36ecb-f845-4992-f8c6-c6f17cab0bc0"
   },
   "outputs": [
    {
     "name": "stdout",
     "output_type": "stream",
     "text": [
      "Loading iti107_assignment\\train\\weights\\best_int8_openvino_model for OpenVINO inference...\n",
      "Using OpenVINO LATENCY mode for batch=1 inference...\n",
      "\n",
      "0: 640x640 3 extinguisher-helmets, 3 fire extinguishers, 1 fire signage, 52.3ms\n",
      "Speed: 8.0ms preprocess, 52.3ms inference, 4.0ms postprocess per image at shape (1, 3, 640, 640)\n",
      "\n",
      "0: 640x640 3 extinguisher-helmets, 4 fire extinguishers, 1 fire signage, 2 helmets, 46.8ms\n",
      "Speed: 10.0ms preprocess, 46.8ms inference, 1.0ms postprocess per image at shape (1, 3, 640, 640)\n",
      "\n",
      "0: 640x640 3 extinguisher-helmets, 3 fire extinguishers, 1 fire signage, 46.2ms\n",
      "Speed: 6.0ms preprocess, 46.2ms inference, 1.0ms postprocess per image at shape (1, 3, 640, 640)\n",
      "\n",
      "0: 640x640 3 extinguisher-helmets, 4 fire extinguishers, 3 fire signages, 2 helmets, 53.4ms\n",
      "Speed: 9.7ms preprocess, 53.4ms inference, 1.0ms postprocess per image at shape (1, 3, 640, 640)\n",
      "\n",
      "0: 640x640 3 extinguisher-helmets, 4 fire extinguishers, 3 fire signages, 44.7ms\n",
      "Speed: 5.0ms preprocess, 44.7ms inference, 1.0ms postprocess per image at shape (1, 3, 640, 640)\n",
      "\n",
      "0: 640x640 3 extinguisher-helmets, 4 fire extinguishers, 3 fire signages, 1 helmet, 40.9ms\n",
      "Speed: 7.5ms preprocess, 40.9ms inference, 1.0ms postprocess per image at shape (1, 3, 640, 640)\n",
      "\n",
      "0: 640x640 3 extinguisher-helmets, 4 fire extinguishers, 4 fire signages, 45.6ms\n",
      "Speed: 7.0ms preprocess, 45.6ms inference, 2.7ms postprocess per image at shape (1, 3, 640, 640)\n",
      "\n",
      "0: 640x640 3 extinguisher-helmets, 5 fire extinguishers, 1 fire signage, 3 helmets, 88.8ms\n",
      "Speed: 6.1ms preprocess, 88.8ms inference, 1.3ms postprocess per image at shape (1, 3, 640, 640)\n",
      "\n",
      "0: 640x640 3 extinguisher-helmets, 5 fire extinguishers, 1 fire signage, 3 helmets, 48.2ms\n",
      "Speed: 3.7ms preprocess, 48.2ms inference, 1.0ms postprocess per image at shape (1, 3, 640, 640)\n",
      "\n",
      "0: 640x640 4 extinguisher-helmets, 7 fire extinguishers, 1 fire signage, 2 helmets, 31.5ms\n",
      "Speed: 4.0ms preprocess, 31.5ms inference, 1.0ms postprocess per image at shape (1, 3, 640, 640)\n",
      "\n",
      "0: 640x640 5 extinguisher-helmets, 7 fire extinguishers, 1 fire signage, 2 helmets, 28.4ms\n",
      "Speed: 4.0ms preprocess, 28.4ms inference, 1.0ms postprocess per image at shape (1, 3, 640, 640)\n",
      "\n",
      "0: 640x640 5 extinguisher-helmets, 6 fire extinguishers, 1 fire signage, 2 helmets, 28.3ms\n",
      "Speed: 17.4ms preprocess, 28.3ms inference, 1.0ms postprocess per image at shape (1, 3, 640, 640)\n",
      "\n",
      "0: 640x640 6 extinguisher-helmets, 6 fire extinguishers, 1 fire signage, 3 helmets, 23.5ms\n",
      "Speed: 8.3ms preprocess, 23.5ms inference, 1.0ms postprocess per image at shape (1, 3, 640, 640)\n",
      "\n",
      "0: 640x640 5 extinguisher-helmets, 6 fire extinguishers, 3 fire signages, 2 helmets, 22.2ms\n",
      "Speed: 3.7ms preprocess, 22.2ms inference, 1.0ms postprocess per image at shape (1, 3, 640, 640)\n",
      "\n",
      "0: 640x640 5 extinguisher-helmets, 9 fire extinguishers, 3 fire signages, 1 helmet, 22.6ms\n",
      "Speed: 5.6ms preprocess, 22.6ms inference, 2.0ms postprocess per image at shape (1, 3, 640, 640)\n",
      "\n",
      "0: 640x640 5 extinguisher-helmets, 6 fire extinguishers, 3 fire signages, 1 helmet, 12.7ms\n",
      "Speed: 4.5ms preprocess, 12.7ms inference, 10.0ms postprocess per image at shape (1, 3, 640, 640)\n",
      "\n",
      "0: 640x640 3 extinguisher-helmets, 9 fire extinguishers, 3 fire signages, 1 helmet, 22.7ms\n",
      "Speed: 5.0ms preprocess, 22.7ms inference, 1.0ms postprocess per image at shape (1, 3, 640, 640)\n",
      "\n",
      "0: 640x640 5 extinguisher-helmets, 9 fire extinguishers, 4 fire signages, 1 helmet, 21.8ms\n",
      "Speed: 4.9ms preprocess, 21.8ms inference, 1.0ms postprocess per image at shape (1, 3, 640, 640)\n",
      "\n",
      "0: 640x640 5 extinguisher-helmets, 8 fire extinguishers, 2 fire signages, 1 helmet, 19.9ms\n",
      "Speed: 6.1ms preprocess, 19.9ms inference, 1.0ms postprocess per image at shape (1, 3, 640, 640)\n",
      "\n",
      "0: 640x640 2 extinguisher-helmets, 8 fire extinguishers, 1 fire signage, 1 helmet, 21.1ms\n",
      "Speed: 3.0ms preprocess, 21.1ms inference, 1.0ms postprocess per image at shape (1, 3, 640, 640)\n",
      "\n",
      "0: 640x640 3 extinguisher-helmets, 7 fire extinguishers, 1 fire signage, 1 helmet, 22.8ms\n",
      "Speed: 11.4ms preprocess, 22.8ms inference, 2.0ms postprocess per image at shape (1, 3, 640, 640)\n",
      "\n",
      "0: 640x640 4 extinguisher-helmets, 7 fire extinguishers, 1 fire signage, 1 helmet, 19.2ms\n",
      "Speed: 13.5ms preprocess, 19.2ms inference, 0.0ms postprocess per image at shape (1, 3, 640, 640)\n",
      "\n",
      "0: 640x640 4 extinguisher-helmets, 6 fire extinguishers, 1 fire signage, 1 helmet, 21.9ms\n",
      "Speed: 6.0ms preprocess, 21.9ms inference, 1.0ms postprocess per image at shape (1, 3, 640, 640)\n",
      "\n",
      "0: 640x640 5 extinguisher-helmets, 7 fire extinguishers, 1 fire signage, 1 helmet, 21.7ms\n",
      "Speed: 17.5ms preprocess, 21.7ms inference, 1.0ms postprocess per image at shape (1, 3, 640, 640)\n",
      "\n",
      "0: 640x640 4 extinguisher-helmets, 5 fire extinguishers, 1 fire signage, 1 helmet, 23.6ms\n",
      "Speed: 10.9ms preprocess, 23.6ms inference, 1.0ms postprocess per image at shape (1, 3, 640, 640)\n",
      "\n",
      "0: 640x640 3 extinguisher-helmets, 6 fire extinguishers, 1 fire signage, 1 helmet, 21.7ms\n",
      "Speed: 14.2ms preprocess, 21.7ms inference, 1.5ms postprocess per image at shape (1, 3, 640, 640)\n",
      "\n",
      "0: 640x640 4 extinguisher-helmets, 5 fire extinguishers, 1 fire signage, 1 helmet, 26.7ms\n",
      "Speed: 5.5ms preprocess, 26.7ms inference, 1.0ms postprocess per image at shape (1, 3, 640, 640)\n",
      "\n",
      "0: 640x640 4 extinguisher-helmets, 5 fire extinguishers, 1 fire signage, 1 helmet, 33.7ms\n",
      "Speed: 0.0ms preprocess, 33.7ms inference, 0.0ms postprocess per image at shape (1, 3, 640, 640)\n",
      "\n",
      "0: 640x640 3 extinguisher-helmets, 6 fire extinguishers, 1 fire signage, 1 helmet, 33.1ms\n",
      "Speed: 0.0ms preprocess, 33.1ms inference, 0.0ms postprocess per image at shape (1, 3, 640, 640)\n",
      "\n",
      "0: 640x640 3 extinguisher-helmets, 5 fire extinguishers, 1 fire signage, 1 helmet, 33.3ms\n",
      "Speed: 0.0ms preprocess, 33.3ms inference, 0.0ms postprocess per image at shape (1, 3, 640, 640)\n",
      "\n",
      "0: 640x640 3 extinguisher-helmets, 6 fire extinguishers, 1 fire signage, 1 helmet, 33.3ms\n",
      "Speed: 0.0ms preprocess, 33.3ms inference, 0.0ms postprocess per image at shape (1, 3, 640, 640)\n",
      "\n",
      "0: 640x640 3 extinguisher-helmets, 7 fire extinguishers, 2 fire signages, 27.9ms\n",
      "Speed: 13.4ms preprocess, 27.9ms inference, 1.2ms postprocess per image at shape (1, 3, 640, 640)\n",
      "\n",
      "0: 640x640 3 extinguisher-helmets, 6 fire extinguishers, 2 fire signages, 28.2ms\n",
      "Speed: 5.0ms preprocess, 28.2ms inference, 1.0ms postprocess per image at shape (1, 3, 640, 640)\n",
      "\n",
      "0: 640x640 3 extinguisher-helmets, 3 fire extinguishers, 2 fire signages, 1 helmet, 26.4ms\n",
      "Speed: 4.0ms preprocess, 26.4ms inference, 1.0ms postprocess per image at shape (1, 3, 640, 640)\n",
      "\n",
      "0: 640x640 3 extinguisher-helmets, 3 fire extinguishers, 2 fire signages, 1 helmet, 26.7ms\n",
      "Speed: 4.5ms preprocess, 26.7ms inference, 1.1ms postprocess per image at shape (1, 3, 640, 640)\n",
      "\n",
      "0: 640x640 3 extinguisher-helmets, 5 fire extinguishers, 2 fire signages, 22.2ms\n",
      "Speed: 4.0ms preprocess, 22.2ms inference, 3.0ms postprocess per image at shape (1, 3, 640, 640)\n",
      "\n",
      "0: 640x640 3 extinguisher-helmets, 5 fire extinguishers, 2 fire signages, 21.7ms\n",
      "Speed: 5.0ms preprocess, 21.7ms inference, 1.0ms postprocess per image at shape (1, 3, 640, 640)\n",
      "\n",
      "0: 640x640 1 extinguisher-helmet, 3 fire extinguishers, 2 fire signages, 31.9ms\n",
      "Speed: 0.0ms preprocess, 31.9ms inference, 0.0ms postprocess per image at shape (1, 3, 640, 640)\n",
      "\n",
      "0: 640x640 2 extinguisher-helmets, 4 fire extinguishers, 2 fire signages, 38.7ms\n",
      "Speed: 0.0ms preprocess, 38.7ms inference, 0.0ms postprocess per image at shape (1, 3, 640, 640)\n",
      "\n",
      "0: 640x640 2 extinguisher-helmets, 4 fire extinguishers, 2 fire signages, 33.6ms\n",
      "Speed: 0.0ms preprocess, 33.6ms inference, 1.0ms postprocess per image at shape (1, 3, 640, 640)\n",
      "\n",
      "0: 640x640 2 extinguisher-helmets, 4 fire extinguishers, 2 fire signages, 23.3ms\n",
      "Speed: 5.0ms preprocess, 23.3ms inference, 1.0ms postprocess per image at shape (1, 3, 640, 640)\n",
      "\n",
      "0: 640x640 3 extinguisher-helmets, 5 fire extinguishers, 3 fire signages, 37.7ms\n",
      "Speed: 0.0ms preprocess, 37.7ms inference, 1.0ms postprocess per image at shape (1, 3, 640, 640)\n",
      "\n",
      "0: 640x640 3 extinguisher-helmets, 4 fire extinguishers, 2 fire signages, 24.6ms\n",
      "Speed: 9.9ms preprocess, 24.6ms inference, 1.0ms postprocess per image at shape (1, 3, 640, 640)\n",
      "\n",
      "0: 640x640 3 extinguisher-helmets, 4 fire extinguishers, 2 fire signages, 36.9ms\n",
      "Speed: 0.0ms preprocess, 36.9ms inference, 1.0ms postprocess per image at shape (1, 3, 640, 640)\n",
      "\n",
      "0: 640x640 2 extinguisher-helmets, 5 fire extinguishers, 2 fire signages, 26.4ms\n",
      "Speed: 4.0ms preprocess, 26.4ms inference, 1.0ms postprocess per image at shape (1, 3, 640, 640)\n",
      "\n",
      "0: 640x640 2 extinguisher-helmets, 4 fire extinguishers, 3 fire signages, 25.9ms\n",
      "Speed: 3.5ms preprocess, 25.9ms inference, 0.7ms postprocess per image at shape (1, 3, 640, 640)\n",
      "\n",
      "0: 640x640 1 extinguisher-helmet, 5 fire extinguishers, 3 fire signages, 1 helmet, 25.9ms\n",
      "Speed: 8.4ms preprocess, 25.9ms inference, 1.0ms postprocess per image at shape (1, 3, 640, 640)\n",
      "\n",
      "0: 640x640 1 extinguisher-helmet, 6 fire extinguishers, 2 fire signages, 1 helmet, 42.2ms\n",
      "Speed: 0.0ms preprocess, 42.2ms inference, 1.0ms postprocess per image at shape (1, 3, 640, 640)\n",
      "\n",
      "0: 640x640 1 fire extinguisher, 1 fire signage, 25.2ms\n",
      "Speed: 13.0ms preprocess, 25.2ms inference, 1.0ms postprocess per image at shape (1, 3, 640, 640)\n",
      "\n",
      "0: 640x640 2 fire extinguishers, 1 fire signage, 19.5ms\n",
      "Speed: 0.0ms preprocess, 19.5ms inference, 12.5ms postprocess per image at shape (1, 3, 640, 640)\n",
      "\n",
      "0: 640x640 2 fire extinguishers, 1 fire signage, 33.3ms\n",
      "Speed: 0.0ms preprocess, 33.3ms inference, 1.0ms postprocess per image at shape (1, 3, 640, 640)\n",
      "\n",
      "0: 640x640 2 fire extinguishers, 2 fire signages, 30.4ms\n",
      "Speed: 0.0ms preprocess, 30.4ms inference, 2.5ms postprocess per image at shape (1, 3, 640, 640)\n",
      "\n",
      "0: 640x640 1 fire extinguisher, 1 fire signage, 37.9ms\n",
      "Speed: 0.0ms preprocess, 37.9ms inference, 1.0ms postprocess per image at shape (1, 3, 640, 640)\n",
      "\n",
      "0: 640x640 1 fire extinguisher, 27.4ms\n",
      "Speed: 2.8ms preprocess, 27.4ms inference, 0.0ms postprocess per image at shape (1, 3, 640, 640)\n",
      "\n",
      "0: 640x640 1 fire extinguisher, 30.2ms\n",
      "Speed: 1.1ms preprocess, 30.2ms inference, 1.0ms postprocess per image at shape (1, 3, 640, 640)\n",
      "\n",
      "0: 640x640 1 fire extinguisher, 25.6ms\n",
      "Speed: 9.9ms preprocess, 25.6ms inference, 1.0ms postprocess per image at shape (1, 3, 640, 640)\n",
      "\n",
      "0: 640x640 1 fire extinguisher, 17.1ms\n",
      "Speed: 8.6ms preprocess, 17.1ms inference, 12.2ms postprocess per image at shape (1, 3, 640, 640)\n",
      "\n",
      "0: 640x640 1 fire extinguisher, 25.0ms\n",
      "Speed: 5.0ms preprocess, 25.0ms inference, 1.0ms postprocess per image at shape (1, 3, 640, 640)\n",
      "\n",
      "0: 640x640 1 fire extinguisher, 2 fire signages, 32.1ms\n",
      "Speed: 0.0ms preprocess, 32.1ms inference, 1.0ms postprocess per image at shape (1, 3, 640, 640)\n",
      "\n",
      "0: 640x640 3 fire signages, 33.3ms\n",
      "Speed: 0.0ms preprocess, 33.3ms inference, 1.0ms postprocess per image at shape (1, 3, 640, 640)\n",
      "\n",
      "0: 640x640 1 fire extinguisher, 2 fire signages, 18.2ms\n",
      "Speed: 6.9ms preprocess, 18.2ms inference, 0.0ms postprocess per image at shape (1, 3, 640, 640)\n",
      "\n",
      "0: 640x640 1 fire extinguisher, 3 fire signages, 16.2ms\n",
      "Speed: 2.4ms preprocess, 16.2ms inference, 0.0ms postprocess per image at shape (1, 3, 640, 640)\n",
      "\n",
      "0: 640x640 1 fire extinguisher, 3 fire signages, 29.9ms\n",
      "Speed: 0.0ms preprocess, 29.9ms inference, 1.0ms postprocess per image at shape (1, 3, 640, 640)\n",
      "\n",
      "0: 640x640 3 fire signages, 38.0ms\n",
      "Speed: 0.0ms preprocess, 38.0ms inference, 1.0ms postprocess per image at shape (1, 3, 640, 640)\n",
      "\n",
      "0: 640x640 1 fire extinguisher, 2 fire signages, 23.8ms\n",
      "Speed: 12.6ms preprocess, 23.8ms inference, 0.0ms postprocess per image at shape (1, 3, 640, 640)\n",
      "\n",
      "0: 640x640 1 fire extinguisher, 3 fire signages, 28.8ms\n",
      "Speed: 0.0ms preprocess, 28.8ms inference, 0.1ms postprocess per image at shape (1, 3, 640, 640)\n",
      "\n",
      "0: 640x640 2 fire signages, 32.6ms\n",
      "Speed: 0.0ms preprocess, 32.6ms inference, 1.0ms postprocess per image at shape (1, 3, 640, 640)\n",
      "\n",
      "0: 640x640 1 fire extinguisher, 2 fire signages, 32.3ms\n",
      "Speed: 0.0ms preprocess, 32.3ms inference, 0.0ms postprocess per image at shape (1, 3, 640, 640)\n",
      "\n",
      "0: 640x640 3 fire signages, 25.7ms\n",
      "Speed: 4.6ms preprocess, 25.7ms inference, 1.0ms postprocess per image at shape (1, 3, 640, 640)\n",
      "\n",
      "0: 640x640 3 fire signages, 19.9ms\n",
      "Speed: 2.5ms preprocess, 19.9ms inference, 0.0ms postprocess per image at shape (1, 3, 640, 640)\n",
      "\n",
      "0: 640x640 1 fire signage, 31.7ms\n",
      "Speed: 0.0ms preprocess, 31.7ms inference, 1.0ms postprocess per image at shape (1, 3, 640, 640)\n",
      "\n",
      "0: 640x640 2 fire signages, 31.9ms\n",
      "Speed: 0.0ms preprocess, 31.9ms inference, 0.0ms postprocess per image at shape (1, 3, 640, 640)\n",
      "\n",
      "0: 640x640 2 fire signages, 23.8ms\n",
      "Speed: 10.6ms preprocess, 23.8ms inference, 0.0ms postprocess per image at shape (1, 3, 640, 640)\n",
      "\n",
      "0: 640x640 1 fire extinguisher, 1 fire signage, 20.7ms\n",
      "Speed: 4.1ms preprocess, 20.7ms inference, 0.0ms postprocess per image at shape (1, 3, 640, 640)\n",
      "\n",
      "0: 640x640 1 fire signage, 16.5ms\n",
      "Speed: 2.6ms preprocess, 16.5ms inference, 0.0ms postprocess per image at shape (1, 3, 640, 640)\n",
      "\n",
      "0: 640x640 2 fire signages, 14.6ms\n",
      "Speed: 3.2ms preprocess, 14.6ms inference, 0.0ms postprocess per image at shape (1, 3, 640, 640)\n",
      "\n",
      "0: 640x640 2 fire signages, 29.9ms\n",
      "Speed: 0.0ms preprocess, 29.9ms inference, 1.0ms postprocess per image at shape (1, 3, 640, 640)\n",
      "\n",
      "0: 640x640 2 fire signages, 31.0ms\n",
      "Speed: 0.0ms preprocess, 31.0ms inference, 1.0ms postprocess per image at shape (1, 3, 640, 640)\n",
      "\n",
      "0: 640x640 2 fire signages, 26.4ms\n",
      "Speed: 0.0ms preprocess, 26.4ms inference, 1.0ms postprocess per image at shape (1, 3, 640, 640)\n",
      "\n",
      "0: 640x640 1 fire extinguisher, 1 fire signage, 30.8ms\n",
      "Speed: 0.0ms preprocess, 30.8ms inference, 1.0ms postprocess per image at shape (1, 3, 640, 640)\n",
      "\n",
      "0: 640x640 1 fire extinguisher, 1 fire signage, 18.5ms\n",
      "Speed: 9.5ms preprocess, 18.5ms inference, 0.0ms postprocess per image at shape (1, 3, 640, 640)\n",
      "\n",
      "0: 640x640 1 fire extinguisher, 1 fire signage, 21.5ms\n",
      "Speed: 7.8ms preprocess, 21.5ms inference, 0.0ms postprocess per image at shape (1, 3, 640, 640)\n",
      "\n",
      "0: 640x640 1 fire extinguisher, 1 fire signage, 23.0ms\n",
      "Speed: 4.9ms preprocess, 23.0ms inference, 0.0ms postprocess per image at shape (1, 3, 640, 640)\n",
      "\n",
      "0: 640x640 1 fire extinguisher, 1 fire signage, 19.9ms\n",
      "Speed: 2.7ms preprocess, 19.9ms inference, 0.0ms postprocess per image at shape (1, 3, 640, 640)\n",
      "\n",
      "0: 640x640 1 fire extinguisher, 1 fire signage, 16.2ms\n",
      "Speed: 0.7ms preprocess, 16.2ms inference, 0.0ms postprocess per image at shape (1, 3, 640, 640)\n",
      "\n",
      "0: 640x640 1 fire extinguisher, 1 fire signage, 23.5ms\n",
      "Speed: 5.4ms preprocess, 23.5ms inference, 1.0ms postprocess per image at shape (1, 3, 640, 640)\n",
      "\n",
      "0: 640x640 1 fire extinguisher, 1 fire signage, 25.0ms\n",
      "Speed: 3.1ms preprocess, 25.0ms inference, 1.0ms postprocess per image at shape (1, 3, 640, 640)\n",
      "\n",
      "0: 640x640 1 fire extinguisher, 1 fire signage, 26.9ms\n",
      "Speed: 0.0ms preprocess, 26.9ms inference, 1.0ms postprocess per image at shape (1, 3, 640, 640)\n",
      "\n",
      "0: 640x640 1 fire extinguisher, 1 fire signage, 27.5ms\n",
      "Speed: 0.0ms preprocess, 27.5ms inference, 1.0ms postprocess per image at shape (1, 3, 640, 640)\n",
      "\n",
      "0: 640x640 1 fire extinguisher, 3 fire signages, 27.2ms\n",
      "Speed: 17.2ms preprocess, 27.2ms inference, 0.0ms postprocess per image at shape (1, 3, 640, 640)\n",
      "\n",
      "0: 640x640 1 fire extinguisher, 3 fire signages, 35.3ms\n",
      "Speed: 0.0ms preprocess, 35.3ms inference, 1.0ms postprocess per image at shape (1, 3, 640, 640)\n",
      "\n",
      "0: 640x640 1 fire extinguisher, 3 fire signages, 20.7ms\n",
      "Speed: 3.4ms preprocess, 20.7ms inference, 0.0ms postprocess per image at shape (1, 3, 640, 640)\n",
      "\n",
      "0: 640x640 1 fire extinguisher, 3 fire signages, 17.0ms\n",
      "Speed: 2.4ms preprocess, 17.0ms inference, 0.0ms postprocess per image at shape (1, 3, 640, 640)\n",
      "\n",
      "0: 640x640 1 fire extinguisher, 3 fire signages, 30.4ms\n",
      "Speed: 0.0ms preprocess, 30.4ms inference, 1.0ms postprocess per image at shape (1, 3, 640, 640)\n",
      "\n",
      "0: 640x640 1 fire extinguisher, 3 fire signages, 34.4ms\n",
      "Speed: 0.0ms preprocess, 34.4ms inference, 1.0ms postprocess per image at shape (1, 3, 640, 640)\n",
      "\n",
      "0: 640x640 1 fire extinguisher, 3 fire signages, 16.7ms\n",
      "Speed: 14.3ms preprocess, 16.7ms inference, 0.0ms postprocess per image at shape (1, 3, 640, 640)\n",
      "\n",
      "0: 640x640 1 fire extinguisher, 3 fire signages, 20.6ms\n",
      "Speed: 1.5ms preprocess, 20.6ms inference, 0.0ms postprocess per image at shape (1, 3, 640, 640)\n",
      "\n",
      "0: 640x640 1 fire extinguisher, 3 fire signages, 31.6ms\n",
      "Speed: 0.0ms preprocess, 31.6ms inference, 1.0ms postprocess per image at shape (1, 3, 640, 640)\n",
      "\n",
      "0: 640x640 1 fire extinguisher, 3 fire signages, 16.3ms\n",
      "Speed: 16.2ms preprocess, 16.3ms inference, 0.0ms postprocess per image at shape (1, 3, 640, 640)\n",
      "\n",
      "0: 640x640 1 fire extinguisher, 3 fire signages, 28.8ms\n",
      "Speed: 0.0ms preprocess, 28.8ms inference, 1.0ms postprocess per image at shape (1, 3, 640, 640)\n",
      "\n",
      "0: 640x640 1 fire extinguisher, 4 fire signages, 27.4ms\n",
      "Speed: 3.4ms preprocess, 27.4ms inference, 1.0ms postprocess per image at shape (1, 3, 640, 640)\n",
      "\n",
      "0: 640x640 1 fire extinguisher, 4 fire signages, 15.4ms\n",
      "Speed: 1.8ms preprocess, 15.4ms inference, 12.0ms postprocess per image at shape (1, 3, 640, 640)\n",
      "\n",
      "0: 640x640 1 fire extinguisher, 4 fire signages, 31.4ms\n",
      "Speed: 0.0ms preprocess, 31.4ms inference, 1.0ms postprocess per image at shape (1, 3, 640, 640)\n",
      "\n",
      "0: 640x640 1 fire extinguisher, 4 fire signages, 17.1ms\n",
      "Speed: 16.1ms preprocess, 17.1ms inference, 8.8ms postprocess per image at shape (1, 3, 640, 640)\n",
      "\n",
      "0: 640x640 1 fire extinguisher, 3 fire signages, 28.6ms\n",
      "Speed: 0.0ms preprocess, 28.6ms inference, 1.0ms postprocess per image at shape (1, 3, 640, 640)\n",
      "\n",
      "0: 640x640 1 fire extinguisher, 3 fire signages, 30.5ms\n",
      "Speed: 0.0ms preprocess, 30.5ms inference, 1.0ms postprocess per image at shape (1, 3, 640, 640)\n",
      "\n",
      "0: 640x640 1 fire extinguisher, 3 fire signages, 37.0ms\n",
      "Speed: 0.0ms preprocess, 37.0ms inference, 1.0ms postprocess per image at shape (1, 3, 640, 640)\n",
      "\n",
      "0: 640x640 1 fire extinguisher, 3 fire signages, 26.7ms\n",
      "Speed: 4.0ms preprocess, 26.7ms inference, 1.0ms postprocess per image at shape (1, 3, 640, 640)\n",
      "\n",
      "0: 640x640 1 fire extinguisher, 3 fire signages, 31.2ms\n",
      "Speed: 0.0ms preprocess, 31.2ms inference, 1.0ms postprocess per image at shape (1, 3, 640, 640)\n",
      "\n",
      "0: 640x640 1 fire extinguisher, 2 fire signages, 22.0ms\n",
      "Speed: 8.4ms preprocess, 22.0ms inference, 0.0ms postprocess per image at shape (1, 3, 640, 640)\n",
      "\n",
      "0: 640x640 1 fire extinguisher, 2 fire signages, 16.8ms\n",
      "Speed: 2.9ms preprocess, 16.8ms inference, 0.0ms postprocess per image at shape (1, 3, 640, 640)\n",
      "\n",
      "0: 640x640 1 fire extinguisher, 2 fire signages, 16.5ms\n",
      "Speed: 0.9ms preprocess, 16.5ms inference, 12.0ms postprocess per image at shape (1, 3, 640, 640)\n",
      "\n",
      "0: 640x640 1 fire extinguisher, 2 fire signages, 30.6ms\n",
      "Speed: 0.0ms preprocess, 30.6ms inference, 1.0ms postprocess per image at shape (1, 3, 640, 640)\n",
      "\n",
      "0: 640x640 1 fire extinguisher, 2 fire signages, 32.7ms\n",
      "Speed: 0.0ms preprocess, 32.7ms inference, 1.0ms postprocess per image at shape (1, 3, 640, 640)\n",
      "\n",
      "0: 640x640 1 fire extinguisher, 2 fire signages, 24.7ms\n",
      "Speed: 14.8ms preprocess, 24.7ms inference, 0.0ms postprocess per image at shape (1, 3, 640, 640)\n",
      "\n",
      "0: 640x640 1 fire extinguisher, 3 fire signages, 16.3ms\n",
      "Speed: 2.8ms preprocess, 16.3ms inference, 0.0ms postprocess per image at shape (1, 3, 640, 640)\n",
      "\n",
      "0: 640x640 1 fire extinguisher, 3 fire signages, 33.8ms\n",
      "Speed: 0.0ms preprocess, 33.8ms inference, 0.0ms postprocess per image at shape (1, 3, 640, 640)\n",
      "\n",
      "0: 640x640 1 fire extinguisher, 3 fire signages, 20.7ms\n",
      "Speed: 13.9ms preprocess, 20.7ms inference, 0.0ms postprocess per image at shape (1, 3, 640, 640)\n",
      "\n",
      "0: 640x640 3 fire signages, 17.2ms\n",
      "Speed: 1.7ms preprocess, 17.2ms inference, 11.6ms postprocess per image at shape (1, 3, 640, 640)\n",
      "\n",
      "0: 640x640 2 fire signages, 29.1ms\n",
      "Speed: 0.0ms preprocess, 29.1ms inference, 1.0ms postprocess per image at shape (1, 3, 640, 640)\n",
      "\n",
      "0: 640x640 2 fire signages, 39.8ms\n",
      "Speed: 7.5ms preprocess, 39.8ms inference, 1.0ms postprocess per image at shape (1, 3, 640, 640)\n",
      "\n",
      "0: 640x640 2 fire signages, 25.3ms\n",
      "Speed: 6.6ms preprocess, 25.3ms inference, 0.0ms postprocess per image at shape (1, 3, 640, 640)\n",
      "\n",
      "0: 640x640 3 fire signages, 16.7ms\n",
      "Speed: 3.9ms preprocess, 16.7ms inference, 0.0ms postprocess per image at shape (1, 3, 640, 640)\n",
      "\n",
      "0: 640x640 3 fire signages, 28.5ms\n",
      "Speed: 0.0ms preprocess, 28.5ms inference, 1.0ms postprocess per image at shape (1, 3, 640, 640)\n",
      "\n",
      "0: 640x640 3 fire signages, 28.4ms\n",
      "Speed: 0.0ms preprocess, 28.4ms inference, 1.0ms postprocess per image at shape (1, 3, 640, 640)\n",
      "\n",
      "0: 640x640 1 fire extinguisher, 3 fire signages, 16.2ms\n",
      "Speed: 5.9ms preprocess, 16.2ms inference, 0.0ms postprocess per image at shape (1, 3, 640, 640)\n",
      "\n",
      "0: 640x640 1 fire extinguisher, 3 fire signages, 16.5ms\n",
      "Speed: 3.2ms preprocess, 16.5ms inference, 0.0ms postprocess per image at shape (1, 3, 640, 640)\n",
      "\n",
      "0: 640x640 1 fire extinguisher, 3 fire signages, 26.3ms\n",
      "Speed: 2.5ms preprocess, 26.3ms inference, 1.0ms postprocess per image at shape (1, 3, 640, 640)\n",
      "\n",
      "0: 640x640 1 fire extinguisher, 2 fire signages, 25.0ms\n",
      "Speed: 0.0ms preprocess, 25.0ms inference, 0.0ms postprocess per image at shape (1, 3, 640, 640)\n",
      "\n",
      "0: 640x640 1 fire extinguisher, 2 fire signages, 24.8ms\n",
      "Speed: 9.2ms preprocess, 24.8ms inference, 1.0ms postprocess per image at shape (1, 3, 640, 640)\n",
      "\n",
      "0: 640x640 1 fire extinguisher, 2 fire signages, 20.3ms\n",
      "Speed: 0.0ms preprocess, 20.3ms inference, 0.0ms postprocess per image at shape (1, 3, 640, 640)\n",
      "\n",
      "0: 640x640 1 fire extinguisher, 2 fire signages, 29.0ms\n",
      "Speed: 0.0ms preprocess, 29.0ms inference, 1.0ms postprocess per image at shape (1, 3, 640, 640)\n",
      "\n",
      "0: 640x640 1 fire extinguisher, 2 fire signages, 28.1ms\n",
      "Speed: 1.3ms preprocess, 28.1ms inference, 1.0ms postprocess per image at shape (1, 3, 640, 640)\n",
      "\n",
      "0: 640x640 1 fire extinguisher, 2 fire signages, 31.5ms\n",
      "Speed: 0.0ms preprocess, 31.5ms inference, 0.0ms postprocess per image at shape (1, 3, 640, 640)\n",
      "\n",
      "0: 640x640 1 fire extinguisher, 2 fire signages, 25.5ms\n",
      "Speed: 4.8ms preprocess, 25.5ms inference, 1.0ms postprocess per image at shape (1, 3, 640, 640)\n",
      "\n",
      "0: 640x640 1 fire extinguisher, 2 fire signages, 14.2ms\n",
      "Speed: 4.5ms preprocess, 14.2ms inference, 0.0ms postprocess per image at shape (1, 3, 640, 640)\n",
      "\n",
      "0: 640x640 1 fire extinguisher, 1 fire signage, 16.7ms\n",
      "Speed: 1.1ms preprocess, 16.7ms inference, 0.0ms postprocess per image at shape (1, 3, 640, 640)\n",
      "\n",
      "0: 640x640 1 fire extinguisher, 1 fire signage, 16.7ms\n",
      "Speed: 1.4ms preprocess, 16.7ms inference, 0.0ms postprocess per image at shape (1, 3, 640, 640)\n",
      "\n",
      "0: 640x640 1 fire extinguisher, 1 fire signage, 16.6ms\n",
      "Speed: 2.4ms preprocess, 16.6ms inference, 0.0ms postprocess per image at shape (1, 3, 640, 640)\n",
      "\n",
      "0: 640x640 1 fire extinguisher, 2 fire signages, 16.0ms\n",
      "Speed: 0.0ms preprocess, 16.0ms inference, 0.0ms postprocess per image at shape (1, 3, 640, 640)\n",
      "\n",
      "0: 640x640 1 fire extinguisher, 2 fire signages, 19.6ms\n",
      "Speed: 5.0ms preprocess, 19.6ms inference, 3.8ms postprocess per image at shape (1, 3, 640, 640)\n",
      "\n",
      "0: 640x640 1 fire extinguisher, 2 fire signages, 23.9ms\n",
      "Speed: 4.5ms preprocess, 23.9ms inference, 1.0ms postprocess per image at shape (1, 3, 640, 640)\n",
      "\n",
      "0: 640x640 1 fire extinguisher, 2 fire signages, 29.7ms\n",
      "Speed: 0.0ms preprocess, 29.7ms inference, 1.0ms postprocess per image at shape (1, 3, 640, 640)\n",
      "\n",
      "0: 640x640 1 fire extinguisher, 3 fire signages, 23.8ms\n",
      "Speed: 11.3ms preprocess, 23.8ms inference, 1.0ms postprocess per image at shape (1, 3, 640, 640)\n",
      "\n",
      "0: 640x640 1 fire extinguisher, 3 fire signages, 16.4ms\n",
      "Speed: 4.1ms preprocess, 16.4ms inference, 0.0ms postprocess per image at shape (1, 3, 640, 640)\n",
      "\n",
      "0: 640x640 1 fire extinguisher, 1 fire signage, 29.4ms\n",
      "Speed: 0.0ms preprocess, 29.4ms inference, 0.0ms postprocess per image at shape (1, 3, 640, 640)\n",
      "\n",
      "0: 640x640 1 fire extinguisher, 2 fire signages, 30.4ms\n",
      "Speed: 1.8ms preprocess, 30.4ms inference, 1.0ms postprocess per image at shape (1, 3, 640, 640)\n",
      "\n",
      "0: 640x640 1 fire extinguisher, 2 fire signages, 23.9ms\n",
      "Speed: 10.1ms preprocess, 23.9ms inference, 1.0ms postprocess per image at shape (1, 3, 640, 640)\n",
      "\n",
      "0: 640x640 1 fire extinguisher, 3 fire signages, 17.6ms\n",
      "Speed: 2.9ms preprocess, 17.6ms inference, 0.0ms postprocess per image at shape (1, 3, 640, 640)\n",
      "\n",
      "0: 640x640 1 fire extinguisher, 3 fire signages, 23.0ms\n",
      "Speed: 6.0ms preprocess, 23.0ms inference, 1.0ms postprocess per image at shape (1, 3, 640, 640)\n",
      "\n",
      "0: 640x640 1 fire extinguisher, 2 fire signages, 29.9ms\n",
      "Speed: 0.0ms preprocess, 29.9ms inference, 1.0ms postprocess per image at shape (1, 3, 640, 640)\n",
      "\n",
      "0: 640x640 1 fire extinguisher, 2 fire signages, 16.7ms\n",
      "Speed: 6.5ms preprocess, 16.7ms inference, 0.0ms postprocess per image at shape (1, 3, 640, 640)\n",
      "\n",
      "0: 640x640 1 fire extinguisher, 2 fire signages, 28.8ms\n",
      "Speed: 0.0ms preprocess, 28.8ms inference, 1.0ms postprocess per image at shape (1, 3, 640, 640)\n",
      "\n",
      "0: 640x640 2 fire extinguishers, 2 fire signages, 28.3ms\n",
      "Speed: 0.0ms preprocess, 28.3ms inference, 0.0ms postprocess per image at shape (1, 3, 640, 640)\n",
      "\n",
      "0: 640x640 1 fire extinguisher, 2 fire signages, 19.2ms\n",
      "Speed: 13.7ms preprocess, 19.2ms inference, 5.0ms postprocess per image at shape (1, 3, 640, 640)\n",
      "\n",
      "0: 640x640 1 fire extinguisher, 2 fire signages, 22.5ms\n",
      "Speed: 2.3ms preprocess, 22.5ms inference, 0.0ms postprocess per image at shape (1, 3, 640, 640)\n",
      "\n",
      "0: 640x640 1 fire extinguisher, 2 fire signages, 18.3ms\n",
      "Speed: 4.0ms preprocess, 18.3ms inference, 6.0ms postprocess per image at shape (1, 3, 640, 640)\n",
      "\n",
      "0: 640x640 1 fire extinguisher, 2 fire signages, 28.0ms\n",
      "Speed: 0.0ms preprocess, 28.0ms inference, 0.0ms postprocess per image at shape (1, 3, 640, 640)\n",
      "\n",
      "0: 640x640 1 fire extinguisher, 3 fire signages, 29.3ms\n",
      "Speed: 10.0ms preprocess, 29.3ms inference, 0.0ms postprocess per image at shape (1, 3, 640, 640)\n",
      "\n",
      "0: 640x640 1 fire extinguisher, 3 fire signages, 26.4ms\n",
      "Speed: 3.4ms preprocess, 26.4ms inference, 0.7ms postprocess per image at shape (1, 3, 640, 640)\n",
      "\n",
      "0: 640x640 3 fire signages, 34.9ms\n",
      "Speed: 0.0ms preprocess, 34.9ms inference, 0.0ms postprocess per image at shape (1, 3, 640, 640)\n",
      "\n",
      "0: 640x640 2 fire signages, 24.6ms\n",
      "Speed: 9.7ms preprocess, 24.6ms inference, 0.0ms postprocess per image at shape (1, 3, 640, 640)\n",
      "\n",
      "0: 640x640 2 fire signages, 18.6ms\n",
      "Speed: 11.7ms preprocess, 18.6ms inference, 0.0ms postprocess per image at shape (1, 3, 640, 640)\n",
      "\n",
      "0: 640x640 2 fire signages, 19.8ms\n",
      "Speed: 4.0ms preprocess, 19.8ms inference, 0.0ms postprocess per image at shape (1, 3, 640, 640)\n",
      "\n",
      "0: 640x640 2 fire signages, 12.6ms\n",
      "Speed: 4.1ms preprocess, 12.6ms inference, 0.0ms postprocess per image at shape (1, 3, 640, 640)\n",
      "\n",
      "0: 640x640 2 fire signages, 21.5ms\n",
      "Speed: 1.1ms preprocess, 21.5ms inference, 0.0ms postprocess per image at shape (1, 3, 640, 640)\n",
      "\n",
      "0: 640x640 2 fire signages, 26.8ms\n",
      "Speed: 0.9ms preprocess, 26.8ms inference, 1.0ms postprocess per image at shape (1, 3, 640, 640)\n",
      "\n",
      "0: 640x640 2 fire signages, 24.9ms\n",
      "Speed: 2.1ms preprocess, 24.9ms inference, 1.0ms postprocess per image at shape (1, 3, 640, 640)\n",
      "\n",
      "0: 640x640 2 fire signages, 26.7ms\n",
      "Speed: 2.4ms preprocess, 26.7ms inference, 0.0ms postprocess per image at shape (1, 3, 640, 640)\n",
      "\n",
      "0: 640x640 2 fire signages, 30.5ms\n",
      "Speed: 0.0ms preprocess, 30.5ms inference, 12.4ms postprocess per image at shape (1, 3, 640, 640)\n",
      "\n",
      "0: 640x640 2 fire signages, 25.4ms\n",
      "Speed: 4.0ms preprocess, 25.4ms inference, 1.0ms postprocess per image at shape (1, 3, 640, 640)\n",
      "\n",
      "0: 640x640 2 fire signages, 23.2ms\n",
      "Speed: 3.4ms preprocess, 23.2ms inference, 0.0ms postprocess per image at shape (1, 3, 640, 640)\n",
      "\n",
      "0: 640x640 2 fire signages, 20.3ms\n",
      "Speed: 10.1ms preprocess, 20.3ms inference, 0.0ms postprocess per image at shape (1, 3, 640, 640)\n",
      "\n",
      "0: 640x640 2 fire signages, 16.6ms\n",
      "Speed: 4.4ms preprocess, 16.6ms inference, 0.0ms postprocess per image at shape (1, 3, 640, 640)\n",
      "\n",
      "0: 640x640 2 fire signages, 27.5ms\n",
      "Speed: 1.4ms preprocess, 27.5ms inference, 1.0ms postprocess per image at shape (1, 3, 640, 640)\n",
      "\n",
      "0: 640x640 4 fire signages, 22.3ms\n",
      "Speed: 5.0ms preprocess, 22.3ms inference, 1.0ms postprocess per image at shape (1, 3, 640, 640)\n",
      "\n",
      "0: 640x640 4 fire signages, 22.6ms\n",
      "Speed: 4.1ms preprocess, 22.6ms inference, 1.2ms postprocess per image at shape (1, 3, 640, 640)\n",
      "\n",
      "0: 640x640 5 fire signages, 21.4ms\n",
      "Speed: 4.3ms preprocess, 21.4ms inference, 0.0ms postprocess per image at shape (1, 3, 640, 640)\n",
      "\n",
      "0: 640x640 5 fire signages, 25.0ms\n",
      "Speed: 2.7ms preprocess, 25.0ms inference, 1.3ms postprocess per image at shape (1, 3, 640, 640)\n",
      "\n",
      "0: 640x640 4 fire signages, 24.6ms\n",
      "Speed: 10.7ms preprocess, 24.6ms inference, 1.0ms postprocess per image at shape (1, 3, 640, 640)\n",
      "\n",
      "0: 640x640 4 fire signages, 20.5ms\n",
      "Speed: 7.8ms preprocess, 20.5ms inference, 0.0ms postprocess per image at shape (1, 3, 640, 640)\n",
      "\n",
      "0: 640x640 4 fire signages, 25.5ms\n",
      "Speed: 4.0ms preprocess, 25.5ms inference, 1.0ms postprocess per image at shape (1, 3, 640, 640)\n",
      "\n",
      "0: 640x640 4 fire signages, 31.4ms\n",
      "Speed: 0.0ms preprocess, 31.4ms inference, 0.0ms postprocess per image at shape (1, 3, 640, 640)\n",
      "\n",
      "0: 640x640 5 fire signages, 23.4ms\n",
      "Speed: 5.3ms preprocess, 23.4ms inference, 0.0ms postprocess per image at shape (1, 3, 640, 640)\n",
      "\n",
      "0: 640x640 5 fire signages, 25.5ms\n",
      "Speed: 2.8ms preprocess, 25.5ms inference, 0.0ms postprocess per image at shape (1, 3, 640, 640)\n",
      "\n",
      "0: 640x640 5 fire signages, 29.5ms\n",
      "Speed: 0.0ms preprocess, 29.5ms inference, 1.0ms postprocess per image at shape (1, 3, 640, 640)\n",
      "\n",
      "0: 640x640 4 fire signages, 24.1ms\n",
      "Speed: 5.5ms preprocess, 24.1ms inference, 0.0ms postprocess per image at shape (1, 3, 640, 640)\n",
      "\n",
      "0: 640x640 4 fire signages, 24.6ms\n",
      "Speed: 3.2ms preprocess, 24.6ms inference, 1.0ms postprocess per image at shape (1, 3, 640, 640)\n",
      "\n",
      "0: 640x640 5 fire signages, 22.1ms\n",
      "Speed: 4.8ms preprocess, 22.1ms inference, 0.0ms postprocess per image at shape (1, 3, 640, 640)\n",
      "\n",
      "0: 640x640 7 fire signages, 28.9ms\n",
      "Speed: 5.6ms preprocess, 28.9ms inference, 1.0ms postprocess per image at shape (1, 3, 640, 640)\n",
      "\n",
      "0: 640x640 6 fire signages, 22.6ms\n",
      "Speed: 4.0ms preprocess, 22.6ms inference, 0.0ms postprocess per image at shape (1, 3, 640, 640)\n",
      "\n",
      "0: 640x640 5 fire signages, 32.5ms\n",
      "Speed: 0.0ms preprocess, 32.5ms inference, 0.0ms postprocess per image at shape (1, 3, 640, 640)\n",
      "\n",
      "0: 640x640 6 fire signages, 23.6ms\n",
      "Speed: 4.6ms preprocess, 23.6ms inference, 1.0ms postprocess per image at shape (1, 3, 640, 640)\n",
      "\n",
      "0: 640x640 4 fire signages, 28.6ms\n",
      "Speed: 2.8ms preprocess, 28.6ms inference, 1.0ms postprocess per image at shape (1, 3, 640, 640)\n",
      "\n",
      "0: 640x640 4 fire signages, 24.9ms\n",
      "Speed: 4.2ms preprocess, 24.9ms inference, 1.0ms postprocess per image at shape (1, 3, 640, 640)\n",
      "\n",
      "0: 640x640 3 fire signages, 22.0ms\n",
      "Speed: 5.0ms preprocess, 22.0ms inference, 0.0ms postprocess per image at shape (1, 3, 640, 640)\n",
      "\n",
      "0: 640x640 4 fire signages, 16.0ms\n",
      "Speed: 4.5ms preprocess, 16.0ms inference, 8.3ms postprocess per image at shape (1, 3, 640, 640)\n",
      "\n",
      "0: 640x640 4 fire signages, 24.2ms\n",
      "Speed: 3.7ms preprocess, 24.2ms inference, 1.0ms postprocess per image at shape (1, 3, 640, 640)\n",
      "\n",
      "0: 640x640 4 fire signages, 24.3ms\n",
      "Speed: 30.7ms preprocess, 24.3ms inference, 1.0ms postprocess per image at shape (1, 3, 640, 640)\n",
      "\n",
      "0: 640x640 5 fire signages, 25.5ms\n",
      "Speed: 2.8ms preprocess, 25.5ms inference, 1.0ms postprocess per image at shape (1, 3, 640, 640)\n",
      "\n",
      "0: 640x640 4 fire signages, 26.3ms\n",
      "Speed: 0.8ms preprocess, 26.3ms inference, 1.0ms postprocess per image at shape (1, 3, 640, 640)\n",
      "\n",
      "0: 640x640 4 fire signages, 27.6ms\n",
      "Speed: 3.3ms preprocess, 27.6ms inference, 2.0ms postprocess per image at shape (1, 3, 640, 640)\n",
      "\n",
      "0: 640x640 4 fire signages, 19.6ms\n",
      "Speed: 3.0ms preprocess, 19.6ms inference, 0.0ms postprocess per image at shape (1, 3, 640, 640)\n",
      "\n",
      "0: 640x640 3 fire signages, 24.2ms\n",
      "Speed: 4.0ms preprocess, 24.2ms inference, 1.0ms postprocess per image at shape (1, 3, 640, 640)\n",
      "\n",
      "0: 640x640 3 fire signages, 21.3ms\n",
      "Speed: 4.2ms preprocess, 21.3ms inference, 1.0ms postprocess per image at shape (1, 3, 640, 640)\n",
      "\n",
      "0: 640x640 1 fire extinguisher, 1 fire signage, 2 helmets, 19.2ms\n",
      "Speed: 2.6ms preprocess, 19.2ms inference, 1.6ms postprocess per image at shape (1, 3, 640, 640)\n",
      "\n",
      "0: 640x640 1 fire extinguisher, 2 helmets, 15.2ms\n",
      "Speed: 4.6ms preprocess, 15.2ms inference, 4.7ms postprocess per image at shape (1, 3, 640, 640)\n",
      "\n",
      "0: 640x640 1 fire extinguisher, 1 fire signage, 2 helmets, 35.3ms\n",
      "Speed: 0.0ms preprocess, 35.3ms inference, 1.0ms postprocess per image at shape (1, 3, 640, 640)\n",
      "\n",
      "0: 640x640 1 fire extinguisher, 2 helmets, 18.6ms\n",
      "Speed: 5.3ms preprocess, 18.6ms inference, 1.0ms postprocess per image at shape (1, 3, 640, 640)\n",
      "\n",
      "0: 640x640 3 fire extinguishers, 2 helmets, 22.3ms\n",
      "Speed: 6.3ms preprocess, 22.3ms inference, 0.0ms postprocess per image at shape (1, 3, 640, 640)\n",
      "\n",
      "0: 640x640 2 fire extinguishers, 2 helmets, 24.2ms\n",
      "Speed: 12.0ms preprocess, 24.2ms inference, 0.0ms postprocess per image at shape (1, 3, 640, 640)\n",
      "\n",
      "0: 640x640 1 fire extinguisher, 1 helmet, 16.8ms\n",
      "Speed: 5.0ms preprocess, 16.8ms inference, 0.0ms postprocess per image at shape (1, 3, 640, 640)\n",
      "\n",
      "0: 640x640 1 fire extinguisher, 1 helmet, 32.2ms\n",
      "Speed: 0.0ms preprocess, 32.2ms inference, 1.3ms postprocess per image at shape (1, 3, 640, 640)\n",
      "\n",
      "0: 640x640 1 fire extinguisher, 1 helmet, 24.0ms\n",
      "Speed: 5.2ms preprocess, 24.0ms inference, 0.0ms postprocess per image at shape (1, 3, 640, 640)\n",
      "\n",
      "0: 640x640 1 fire extinguisher, 1 helmet, 27.2ms\n",
      "Speed: 2.7ms preprocess, 27.2ms inference, 1.0ms postprocess per image at shape (1, 3, 640, 640)\n",
      "\n",
      "0: 640x640 1 fire extinguisher, 1 helmet, 34.5ms\n",
      "Speed: 8.6ms preprocess, 34.5ms inference, 1.0ms postprocess per image at shape (1, 3, 640, 640)\n",
      "\n",
      "0: 640x640 1 fire extinguisher, 1 helmet, 23.9ms\n",
      "Speed: 3.5ms preprocess, 23.9ms inference, 0.6ms postprocess per image at shape (1, 3, 640, 640)\n",
      "\n",
      "0: 640x640 2 helmets, 19.4ms\n",
      "Speed: 4.0ms preprocess, 19.4ms inference, 0.0ms postprocess per image at shape (1, 3, 640, 640)\n",
      "\n",
      "0: 640x640 3 fire extinguishers, 3 helmets, 20.8ms\n",
      "Speed: 5.0ms preprocess, 20.8ms inference, 0.0ms postprocess per image at shape (1, 3, 640, 640)\n",
      "\n",
      "0: 640x640 3 fire extinguishers, 3 helmets, 27.4ms\n",
      "Speed: 4.0ms preprocess, 27.4ms inference, 1.0ms postprocess per image at shape (1, 3, 640, 640)\n",
      "\n",
      "0: 640x640 3 fire extinguishers, 1 fire signage, 3 helmets, 16.2ms\n",
      "Speed: 11.6ms preprocess, 16.2ms inference, 0.0ms postprocess per image at shape (1, 3, 640, 640)\n",
      "\n",
      "0: 640x640 3 fire extinguishers, 1 fire signage, 3 helmets, 24.3ms\n",
      "Speed: 4.0ms preprocess, 24.3ms inference, 1.0ms postprocess per image at shape (1, 3, 640, 640)\n",
      "\n",
      "0: 640x640 5 fire extinguishers, 1 fire signage, 3 helmets, 26.2ms\n",
      "Speed: 2.1ms preprocess, 26.2ms inference, 1.0ms postprocess per image at shape (1, 3, 640, 640)\n",
      "\n",
      "0: 640x640 3 fire extinguishers, 1 helmet, 30.4ms\n",
      "Speed: 4.6ms preprocess, 30.4ms inference, 0.5ms postprocess per image at shape (1, 3, 640, 640)\n",
      "\n",
      "0: 640x640 4 fire extinguishers, 1 helmet, 22.6ms\n",
      "Speed: 5.9ms preprocess, 22.6ms inference, 0.0ms postprocess per image at shape (1, 3, 640, 640)\n",
      "\n",
      "0: 640x640 2 fire extinguishers, 1 helmet, 16.6ms\n",
      "Speed: 4.0ms preprocess, 16.6ms inference, 8.9ms postprocess per image at shape (1, 3, 640, 640)\n",
      "\n",
      "0: 640x640 2 fire extinguishers, 1 helmet, 31.8ms\n",
      "Speed: 0.0ms preprocess, 31.8ms inference, 0.0ms postprocess per image at shape (1, 3, 640, 640)\n",
      "\n",
      "0: 640x640 3 fire extinguishers, 1 helmet, 33.6ms\n",
      "Speed: 0.0ms preprocess, 33.6ms inference, 1.0ms postprocess per image at shape (1, 3, 640, 640)\n",
      "\n",
      "0: 640x640 3 fire extinguishers, 2 helmets, 25.1ms\n",
      "Speed: 4.0ms preprocess, 25.1ms inference, 0.0ms postprocess per image at shape (1, 3, 640, 640)\n",
      "\n",
      "0: 640x640 3 fire extinguishers, 3 helmets, 25.0ms\n",
      "Speed: 3.8ms preprocess, 25.0ms inference, 1.0ms postprocess per image at shape (1, 3, 640, 640)\n",
      "\n",
      "0: 640x640 3 fire extinguishers, 3 helmets, 18.2ms\n",
      "Speed: 11.4ms preprocess, 18.2ms inference, 0.0ms postprocess per image at shape (1, 3, 640, 640)\n",
      "\n",
      "0: 640x640 5 fire extinguishers, 1 helmet, 42.7ms\n",
      "Speed: 4.5ms preprocess, 42.7ms inference, 0.0ms postprocess per image at shape (1, 3, 640, 640)\n",
      "\n",
      "0: 640x640 4 fire extinguishers, 1 helmet, 18.0ms\n",
      "Speed: 10.5ms preprocess, 18.0ms inference, 0.0ms postprocess per image at shape (1, 3, 640, 640)\n",
      "\n",
      "0: 640x640 3 fire extinguishers, 1 fire signage, 1 helmet, 19.7ms\n",
      "Speed: 11.8ms preprocess, 19.7ms inference, 2.5ms postprocess per image at shape (1, 3, 640, 640)\n",
      "\n",
      "0: 640x640 3 fire extinguishers, 1 helmet, 19.9ms\n",
      "Speed: 5.0ms preprocess, 19.9ms inference, 1.0ms postprocess per image at shape (1, 3, 640, 640)\n",
      "\n",
      "0: 640x640 2 fire extinguishers, 1 helmet, 22.2ms\n",
      "Speed: 4.0ms preprocess, 22.2ms inference, 1.0ms postprocess per image at shape (1, 3, 640, 640)\n",
      "\n",
      "0: 640x640 3 fire extinguishers, 2 fire signages, 1 helmet, 22.2ms\n",
      "Speed: 4.5ms preprocess, 22.2ms inference, 1.0ms postprocess per image at shape (1, 3, 640, 640)\n",
      "\n",
      "0: 640x640 3 fire extinguishers, 2 fire signages, 1 helmet, 29.8ms\n",
      "Speed: 0.0ms preprocess, 29.8ms inference, 0.0ms postprocess per image at shape (1, 3, 640, 640)\n",
      "\n",
      "0: 640x640 3 fire extinguishers, 2 fire signages, 1 helmet, 18.2ms\n",
      "Speed: 5.0ms preprocess, 18.2ms inference, 0.0ms postprocess per image at shape (1, 3, 640, 640)\n",
      "\n",
      "0: 640x640 2 fire extinguishers, 2 fire signages, 1 helmet, 27.1ms\n",
      "Speed: 4.4ms preprocess, 27.1ms inference, 1.0ms postprocess per image at shape (1, 3, 640, 640)\n",
      "\n",
      "0: 640x640 3 fire extinguishers, 2 fire signages, 28.5ms\n",
      "Speed: 0.0ms preprocess, 28.5ms inference, 0.0ms postprocess per image at shape (1, 3, 640, 640)\n",
      "\n",
      "0: 640x640 3 fire extinguishers, 2 fire signages, 16.6ms\n",
      "Speed: 4.0ms preprocess, 16.6ms inference, 0.0ms postprocess per image at shape (1, 3, 640, 640)\n",
      "\n",
      "0: 640x640 4 fire extinguishers, 2 fire signages, 31.6ms\n",
      "Speed: 0.0ms preprocess, 31.6ms inference, 0.0ms postprocess per image at shape (1, 3, 640, 640)\n",
      "\n",
      "0: 640x640 1 fire extinguisher, 1 fire signage, 16.4ms\n",
      "Speed: 5.1ms preprocess, 16.4ms inference, 0.0ms postprocess per image at shape (1, 3, 640, 640)\n",
      "\n",
      "0: 640x640 1 fire signage, 31.7ms\n",
      "Speed: 0.0ms preprocess, 31.7ms inference, 0.0ms postprocess per image at shape (1, 3, 640, 640)\n",
      "\n",
      "0: 640x640 2 fire signages, 23.3ms\n",
      "Speed: 5.0ms preprocess, 23.3ms inference, 1.0ms postprocess per image at shape (1, 3, 640, 640)\n",
      "\n",
      "0: 640x640 3 fire signages, 22.0ms\n",
      "Speed: 5.0ms preprocess, 22.0ms inference, 1.0ms postprocess per image at shape (1, 3, 640, 640)\n",
      "\n",
      "0: 640x640 3 fire signages, 21.8ms\n",
      "Speed: 3.3ms preprocess, 21.8ms inference, 1.0ms postprocess per image at shape (1, 3, 640, 640)\n",
      "\n",
      "0: 640x640 1 fire extinguisher, 1 fire signage, 29.4ms\n",
      "Speed: 0.0ms preprocess, 29.4ms inference, 1.0ms postprocess per image at shape (1, 3, 640, 640)\n",
      "\n",
      "0: 640x640 1 fire signage, 24.4ms\n",
      "Speed: 6.8ms preprocess, 24.4ms inference, 0.0ms postprocess per image at shape (1, 3, 640, 640)\n",
      "\n",
      "0: 640x640 1 fire signage, 1 helmet, 22.9ms\n",
      "Speed: 5.9ms preprocess, 22.9ms inference, 0.0ms postprocess per image at shape (1, 3, 640, 640)\n",
      "\n",
      "0: 640x640 1 fire signage, 1 helmet, 22.7ms\n",
      "Speed: 4.0ms preprocess, 22.7ms inference, 0.8ms postprocess per image at shape (1, 3, 640, 640)\n",
      "\n",
      "0: 640x640 1 fire extinguisher, 2 fire signages, 23.6ms\n",
      "Speed: 4.0ms preprocess, 23.6ms inference, 0.0ms postprocess per image at shape (1, 3, 640, 640)\n",
      "\n",
      "0: 640x640 1 fire extinguisher, 2 fire signages, 25.2ms\n",
      "Speed: 5.0ms preprocess, 25.2ms inference, 1.0ms postprocess per image at shape (1, 3, 640, 640)\n",
      "\n",
      "0: 640x640 1 fire extinguisher, 2 fire signages, 35.0ms\n",
      "Speed: 0.0ms preprocess, 35.0ms inference, 1.0ms postprocess per image at shape (1, 3, 640, 640)\n",
      "\n",
      "0: 640x640 2 fire signages, 28.9ms\n",
      "Speed: 2.1ms preprocess, 28.9ms inference, 1.0ms postprocess per image at shape (1, 3, 640, 640)\n",
      "\n",
      "0: 640x640 3 fire signages, 29.1ms\n",
      "Speed: 0.0ms preprocess, 29.1ms inference, 1.0ms postprocess per image at shape (1, 3, 640, 640)\n",
      "\n",
      "0: 640x640 2 fire signages, 21.9ms\n",
      "Speed: 5.8ms preprocess, 21.9ms inference, 0.0ms postprocess per image at shape (1, 3, 640, 640)\n",
      "\n",
      "0: 640x640 2 fire signages, 24.0ms\n",
      "Speed: 4.0ms preprocess, 24.0ms inference, 0.0ms postprocess per image at shape (1, 3, 640, 640)\n",
      "\n",
      "0: 640x640 2 fire signages, 23.7ms\n",
      "Speed: 4.0ms preprocess, 23.7ms inference, 1.6ms postprocess per image at shape (1, 3, 640, 640)\n",
      "\n",
      "0: 640x640 1 fire signage, 30.4ms\n",
      "Speed: 0.0ms preprocess, 30.4ms inference, 0.0ms postprocess per image at shape (1, 3, 640, 640)\n",
      "\n",
      "0: 640x640 1 fire signage, 17.7ms\n",
      "Speed: 5.0ms preprocess, 17.7ms inference, 0.0ms postprocess per image at shape (1, 3, 640, 640)\n",
      "\n",
      "0: 640x640 1 fire signage, 27.9ms\n",
      "Speed: 0.0ms preprocess, 27.9ms inference, 1.0ms postprocess per image at shape (1, 3, 640, 640)\n",
      "\n",
      "0: 640x640 1 fire signage, 25.4ms\n",
      "Speed: 4.0ms preprocess, 25.4ms inference, 0.0ms postprocess per image at shape (1, 3, 640, 640)\n",
      "\n",
      "0: 640x640 1 fire signage, 28.6ms\n",
      "Speed: 0.0ms preprocess, 28.6ms inference, 0.7ms postprocess per image at shape (1, 3, 640, 640)\n",
      "\n",
      "0: 640x640 1 fire signage, 27.1ms\n",
      "Speed: 0.0ms preprocess, 27.1ms inference, 1.0ms postprocess per image at shape (1, 3, 640, 640)\n",
      "\n",
      "0: 640x640 1 fire signage, 24.1ms\n",
      "Speed: 0.0ms preprocess, 24.1ms inference, 0.0ms postprocess per image at shape (1, 3, 640, 640)\n",
      "\n",
      "0: 640x640 2 fire signages, 35.1ms\n",
      "Speed: 0.0ms preprocess, 35.1ms inference, 1.0ms postprocess per image at shape (1, 3, 640, 640)\n",
      "\n",
      "0: 640x640 1 fire extinguisher, 1 fire signage, 21.7ms\n",
      "Speed: 5.7ms preprocess, 21.7ms inference, 1.0ms postprocess per image at shape (1, 3, 640, 640)\n",
      "\n",
      "0: 640x640 1 fire signage, 23.2ms\n",
      "Speed: 3.2ms preprocess, 23.2ms inference, 1.0ms postprocess per image at shape (1, 3, 640, 640)\n",
      "\n",
      "0: 640x640 2 fire signages, 26.6ms\n",
      "Speed: 0.0ms preprocess, 26.6ms inference, 1.0ms postprocess per image at shape (1, 3, 640, 640)\n",
      "\n",
      "0: 640x640 2 fire signages, 30.7ms\n",
      "Speed: 0.0ms preprocess, 30.7ms inference, 0.8ms postprocess per image at shape (1, 3, 640, 640)\n",
      "\n",
      "0: 640x640 1 fire signage, 23.7ms\n",
      "Speed: 7.4ms preprocess, 23.7ms inference, 1.7ms postprocess per image at shape (1, 3, 640, 640)\n",
      "\n",
      "0: 640x640 2 fire signages, 22.4ms\n",
      "Speed: 5.4ms preprocess, 22.4ms inference, 1.0ms postprocess per image at shape (1, 3, 640, 640)\n",
      "\n",
      "0: 640x640 1 fire signage, 27.4ms\n",
      "Speed: 3.1ms preprocess, 27.4ms inference, 1.0ms postprocess per image at shape (1, 3, 640, 640)\n",
      "\n",
      "0: 640x640 2 fire signages, 25.6ms\n",
      "Speed: 2.1ms preprocess, 25.6ms inference, 1.0ms postprocess per image at shape (1, 3, 640, 640)\n",
      "\n",
      "0: 640x640 2 fire signages, 21.9ms\n",
      "Speed: 4.0ms preprocess, 21.9ms inference, 0.0ms postprocess per image at shape (1, 3, 640, 640)\n",
      "\n",
      "0: 640x640 2 fire signages, 29.1ms\n",
      "Speed: 0.0ms preprocess, 29.1ms inference, 1.0ms postprocess per image at shape (1, 3, 640, 640)\n",
      "\n",
      "0: 640x640 1 fire signage, 21.7ms\n",
      "Speed: 5.9ms preprocess, 21.7ms inference, 1.0ms postprocess per image at shape (1, 3, 640, 640)\n",
      "\n",
      "0: 640x640 1 fire signage, 23.8ms\n",
      "Speed: 5.3ms preprocess, 23.8ms inference, 1.0ms postprocess per image at shape (1, 3, 640, 640)\n",
      "\n",
      "0: 640x640 1 fire signage, 23.3ms\n",
      "Speed: 4.0ms preprocess, 23.3ms inference, 0.0ms postprocess per image at shape (1, 3, 640, 640)\n",
      "\n",
      "0: 640x640 1 fire signage, 28.3ms\n",
      "Speed: 2.0ms preprocess, 28.3ms inference, 1.0ms postprocess per image at shape (1, 3, 640, 640)\n",
      "\n",
      "0: 640x640 1 fire signage, 28.7ms\n",
      "Speed: 3.9ms preprocess, 28.7ms inference, 1.0ms postprocess per image at shape (1, 3, 640, 640)\n",
      "\n",
      "0: 640x640 1 fire signage, 23.7ms\n",
      "Speed: 4.8ms preprocess, 23.7ms inference, 0.0ms postprocess per image at shape (1, 3, 640, 640)\n",
      "\n",
      "0: 640x640 2 fire signages, 23.6ms\n",
      "Speed: 5.2ms preprocess, 23.6ms inference, 1.0ms postprocess per image at shape (1, 3, 640, 640)\n",
      "\n",
      "0: 640x640 1 fire signage, 23.7ms\n",
      "Speed: 4.0ms preprocess, 23.7ms inference, 1.3ms postprocess per image at shape (1, 3, 640, 640)\n",
      "\n",
      "0: 640x640 1 fire signage, 28.5ms\n",
      "Speed: 0.0ms preprocess, 28.5ms inference, 0.1ms postprocess per image at shape (1, 3, 640, 640)\n",
      "\n",
      "0: 640x640 1 fire signage, 16.6ms\n",
      "Speed: 0.0ms preprocess, 16.6ms inference, 10.1ms postprocess per image at shape (1, 3, 640, 640)\n",
      "\n",
      "0: 640x640 1 fire signage, 27.9ms\n",
      "Speed: 3.6ms preprocess, 27.9ms inference, 1.0ms postprocess per image at shape (1, 3, 640, 640)\n",
      "\n",
      "0: 640x640 1 fire signage, 28.2ms\n",
      "Speed: 0.0ms preprocess, 28.2ms inference, 1.0ms postprocess per image at shape (1, 3, 640, 640)\n",
      "\n",
      "0: 640x640 1 fire signage, 23.7ms\n",
      "Speed: 5.5ms preprocess, 23.7ms inference, 1.0ms postprocess per image at shape (1, 3, 640, 640)\n",
      "\n",
      "0: 640x640 1 fire signage, 16.4ms\n",
      "Speed: 0.0ms preprocess, 16.4ms inference, 0.0ms postprocess per image at shape (1, 3, 640, 640)\n",
      "\n",
      "0: 640x640 2 fire signages, 24.3ms\n",
      "Speed: 4.0ms preprocess, 24.3ms inference, 0.0ms postprocess per image at shape (1, 3, 640, 640)\n",
      "\n",
      "0: 640x640 1 fire signage, 17.2ms\n",
      "Speed: 0.0ms preprocess, 17.2ms inference, 0.0ms postprocess per image at shape (1, 3, 640, 640)\n",
      "\n",
      "0: 640x640 1 fire signage, 19.5ms\n",
      "Speed: 5.4ms preprocess, 19.5ms inference, 7.3ms postprocess per image at shape (1, 3, 640, 640)\n",
      "\n",
      "0: 640x640 1 fire signage, 8.3ms\n",
      "Speed: 5.0ms preprocess, 8.3ms inference, 11.5ms postprocess per image at shape (1, 3, 640, 640)\n",
      "\n",
      "0: 640x640 1 fire signage, 22.1ms\n",
      "Speed: 4.0ms preprocess, 22.1ms inference, 1.0ms postprocess per image at shape (1, 3, 640, 640)\n",
      "\n",
      "0: 640x640 1 fire signage, 23.3ms\n",
      "Speed: 4.7ms preprocess, 23.3ms inference, 1.0ms postprocess per image at shape (1, 3, 640, 640)\n",
      "\n",
      "0: 640x640 1 fire signage, 29.4ms\n",
      "Speed: 0.9ms preprocess, 29.4ms inference, 2.5ms postprocess per image at shape (1, 3, 640, 640)\n",
      "\n",
      "0: 640x640 1 fire signage, 15.6ms\n",
      "Speed: 5.7ms preprocess, 15.6ms inference, 0.0ms postprocess per image at shape (1, 3, 640, 640)\n",
      "\n",
      "0: 640x640 1 fire signage, 26.0ms\n",
      "Speed: 5.2ms preprocess, 26.0ms inference, 1.0ms postprocess per image at shape (1, 3, 640, 640)\n",
      "\n",
      "0: 640x640 1 fire signage, 24.7ms\n",
      "Speed: 4.0ms preprocess, 24.7ms inference, 1.8ms postprocess per image at shape (1, 3, 640, 640)\n",
      "\n",
      "0: 640x640 1 fire signage, 21.9ms\n",
      "Speed: 5.2ms preprocess, 21.9ms inference, 1.0ms postprocess per image at shape (1, 3, 640, 640)\n",
      "\n",
      "0: 640x640 1 fire signage, 24.5ms\n",
      "Speed: 6.6ms preprocess, 24.5ms inference, 0.8ms postprocess per image at shape (1, 3, 640, 640)\n",
      "\n",
      "0: 640x640 1 fire signage, 24.4ms\n",
      "Speed: 9.8ms preprocess, 24.4ms inference, 0.7ms postprocess per image at shape (1, 3, 640, 640)\n",
      "\n",
      "0: 640x640 1 fire signage, 26.4ms\n",
      "Speed: 6.0ms preprocess, 26.4ms inference, 0.0ms postprocess per image at shape (1, 3, 640, 640)\n",
      "\n",
      "0: 640x640 1 fire signage, 40.3ms\n",
      "Speed: 4.7ms preprocess, 40.3ms inference, 3.1ms postprocess per image at shape (1, 3, 640, 640)\n",
      "\n",
      "0: 640x640 2 fire signages, 21.2ms\n",
      "Speed: 4.5ms preprocess, 21.2ms inference, 0.0ms postprocess per image at shape (1, 3, 640, 640)\n",
      "\n",
      "0: 640x640 2 fire signages, 23.6ms\n",
      "Speed: 5.1ms preprocess, 23.6ms inference, 0.4ms postprocess per image at shape (1, 3, 640, 640)\n",
      "\n",
      "0: 640x640 2 fire signages, 24.8ms\n",
      "Speed: 5.1ms preprocess, 24.8ms inference, 1.3ms postprocess per image at shape (1, 3, 640, 640)\n",
      "\n",
      "0: 640x640 2 fire signages, 20.6ms\n",
      "Speed: 13.9ms preprocess, 20.6ms inference, 0.0ms postprocess per image at shape (1, 3, 640, 640)\n",
      "\n",
      "0: 640x640 2 fire signages, 1 helmet, 38.9ms\n",
      "Speed: 3.5ms preprocess, 38.9ms inference, 1.0ms postprocess per image at shape (1, 3, 640, 640)\n",
      "\n",
      "0: 640x640 3 fire signages, 1 helmet, 24.8ms\n",
      "Speed: 6.0ms preprocess, 24.8ms inference, 1.0ms postprocess per image at shape (1, 3, 640, 640)\n",
      "\n",
      "0: 640x640 3 fire extinguishers, 2 fire signages, 25.2ms\n",
      "Speed: 7.6ms preprocess, 25.2ms inference, 1.4ms postprocess per image at shape (1, 3, 640, 640)\n",
      "\n",
      "0: 640x640 3 fire extinguishers, 2 fire signages, 33.1ms\n",
      "Speed: 0.0ms preprocess, 33.1ms inference, 1.0ms postprocess per image at shape (1, 3, 640, 640)\n",
      "\n",
      "0: 640x640 3 fire extinguishers, 2 fire signages, 25.2ms\n",
      "Speed: 4.0ms preprocess, 25.2ms inference, 2.0ms postprocess per image at shape (1, 3, 640, 640)\n",
      "\n",
      "0: 640x640 3 fire extinguishers, 2 fire signages, 42.5ms\n",
      "Speed: 5.0ms preprocess, 42.5ms inference, 1.0ms postprocess per image at shape (1, 3, 640, 640)\n",
      "\n",
      "0: 640x640 3 fire extinguishers, 2 fire signages, 23.0ms\n",
      "Speed: 5.0ms preprocess, 23.0ms inference, 1.2ms postprocess per image at shape (1, 3, 640, 640)\n",
      "\n",
      "0: 640x640 3 fire extinguishers, 1 fire signage, 22.4ms\n",
      "Speed: 10.1ms preprocess, 22.4ms inference, 0.0ms postprocess per image at shape (1, 3, 640, 640)\n",
      "\n",
      "0: 640x640 3 fire extinguishers, 1 fire signage, 25.3ms\n",
      "Speed: 5.0ms preprocess, 25.3ms inference, 0.5ms postprocess per image at shape (1, 3, 640, 640)\n",
      "\n",
      "0: 640x640 3 fire extinguishers, 2 fire signages, 24.7ms\n",
      "Speed: 4.7ms preprocess, 24.7ms inference, 1.0ms postprocess per image at shape (1, 3, 640, 640)\n",
      "\n",
      "0: 640x640 3 fire extinguishers, 2 fire signages, 34.5ms\n",
      "Speed: 0.0ms preprocess, 34.5ms inference, 18.7ms postprocess per image at shape (1, 3, 640, 640)\n",
      "\n",
      "0: 640x640 1 extinguisher-helmet, 3 fire extinguishers, 1 fire signage, 24.0ms\n",
      "Speed: 4.0ms preprocess, 24.0ms inference, 2.0ms postprocess per image at shape (1, 3, 640, 640)\n",
      "\n",
      "0: 640x640 3 fire extinguishers, 1 fire signage, 22.8ms\n",
      "Speed: 6.0ms preprocess, 22.8ms inference, 1.0ms postprocess per image at shape (1, 3, 640, 640)\n",
      "\n",
      "0: 640x640 3 fire extinguishers, 1 fire signage, 28.1ms\n",
      "Speed: 0.0ms preprocess, 28.1ms inference, 1.1ms postprocess per image at shape (1, 3, 640, 640)\n",
      "\n",
      "0: 640x640 3 fire extinguishers, 1 fire signage, 29.4ms\n",
      "Speed: 0.0ms preprocess, 29.4ms inference, 1.0ms postprocess per image at shape (1, 3, 640, 640)\n",
      "\n",
      "0: 640x640 3 fire extinguishers, 2 fire signages, 35.8ms\n",
      "Speed: 5.4ms preprocess, 35.8ms inference, 1.7ms postprocess per image at shape (1, 3, 640, 640)\n",
      "\n",
      "0: 640x640 3 fire extinguishers, 3 fire signages, 24.3ms\n",
      "Speed: 8.7ms preprocess, 24.3ms inference, 2.0ms postprocess per image at shape (1, 3, 640, 640)\n",
      "\n",
      "0: 640x640 3 fire extinguishers, 3 fire signages, 16.9ms\n",
      "Speed: 5.8ms preprocess, 16.9ms inference, 0.0ms postprocess per image at shape (1, 3, 640, 640)\n",
      "\n",
      "0: 640x640 4 fire extinguishers, 3 fire signages, 17.8ms\n",
      "Speed: 14.9ms preprocess, 17.8ms inference, 1.0ms postprocess per image at shape (1, 3, 640, 640)\n",
      "\n",
      "0: 640x640 3 fire extinguishers, 3 fire signages, 16.0ms\n",
      "Speed: 7.7ms preprocess, 16.0ms inference, 1.0ms postprocess per image at shape (1, 3, 640, 640)\n",
      "\n",
      "0: 640x640 3 fire extinguishers, 3 fire signages, 22.0ms\n",
      "Speed: 2.6ms preprocess, 22.0ms inference, 0.0ms postprocess per image at shape (1, 3, 640, 640)\n",
      "\n",
      "0: 640x640 2 fire extinguishers, 3 fire signages, 21.4ms\n",
      "Speed: 28.9ms preprocess, 21.4ms inference, 1.0ms postprocess per image at shape (1, 3, 640, 640)\n",
      "\n",
      "0: 640x640 2 fire extinguishers, 3 fire signages, 1 helmet, 18.4ms\n",
      "Speed: 7.2ms preprocess, 18.4ms inference, 1.0ms postprocess per image at shape (1, 3, 640, 640)\n",
      "\n",
      "0: 640x640 2 fire extinguishers, 3 fire signages, 1 helmet, 17.8ms\n",
      "Speed: 7.5ms preprocess, 17.8ms inference, 0.0ms postprocess per image at shape (1, 3, 640, 640)\n",
      "\n",
      "0: 640x640 3 fire extinguishers, 2 fire signages, 22.8ms\n",
      "Speed: 10.7ms preprocess, 22.8ms inference, 2.0ms postprocess per image at shape (1, 3, 640, 640)\n",
      "\n",
      "0: 640x640 1 extinguisher-helmet, 3 fire extinguishers, 2 fire signages, 19.7ms\n",
      "Speed: 11.8ms preprocess, 19.7ms inference, 1.0ms postprocess per image at shape (1, 3, 640, 640)\n",
      "\n",
      "0: 640x640 1 extinguisher-helmet, 3 fire extinguishers, 3 fire signages, 21.8ms\n",
      "Speed: 6.0ms preprocess, 21.8ms inference, 21.3ms postprocess per image at shape (1, 3, 640, 640)\n",
      "\n",
      "0: 640x640 2 fire extinguishers, 3 fire signages, 27.5ms\n",
      "Speed: 6.9ms preprocess, 27.5ms inference, 1.0ms postprocess per image at shape (1, 3, 640, 640)\n",
      "\n",
      "0: 640x640 2 fire extinguishers, 1 fire signage, 21.4ms\n",
      "Speed: 4.7ms preprocess, 21.4ms inference, 0.0ms postprocess per image at shape (1, 3, 640, 640)\n",
      "\n",
      "0: 640x640 1 extinguisher-helmet, 2 fire extinguishers, 2 fire signages, 20.0ms\n",
      "Speed: 5.8ms preprocess, 20.0ms inference, 2.0ms postprocess per image at shape (1, 3, 640, 640)\n",
      "\n",
      "0: 640x640 1 extinguisher-helmet, 3 fire extinguishers, 2 fire signages, 18.9ms\n",
      "Speed: 6.7ms preprocess, 18.9ms inference, 0.0ms postprocess per image at shape (1, 3, 640, 640)\n",
      "\n",
      "0: 640x640 3 fire extinguishers, 2 fire signages, 19.5ms\n",
      "Speed: 5.0ms preprocess, 19.5ms inference, 1.0ms postprocess per image at shape (1, 3, 640, 640)\n",
      "\n",
      "0: 640x640 3 fire extinguishers, 3 fire signages, 27.1ms\n",
      "Speed: 5.3ms preprocess, 27.1ms inference, 1.0ms postprocess per image at shape (1, 3, 640, 640)\n",
      "\n",
      "0: 640x640 3 fire extinguishers, 1 fire signage, 19.0ms\n",
      "Speed: 7.4ms preprocess, 19.0ms inference, 2.1ms postprocess per image at shape (1, 3, 640, 640)\n",
      "\n",
      "0: 640x640 3 fire extinguishers, 3 fire signages, 16.7ms\n",
      "Speed: 14.1ms preprocess, 16.7ms inference, 1.0ms postprocess per image at shape (1, 3, 640, 640)\n",
      "\n",
      "0: 640x640 3 fire extinguishers, 2 fire signages, 18.2ms\n",
      "Speed: 7.8ms preprocess, 18.2ms inference, 1.8ms postprocess per image at shape (1, 3, 640, 640)\n",
      "\n",
      "0: 640x640 2 fire extinguishers, 1 fire signage, 25.9ms\n",
      "Speed: 5.8ms preprocess, 25.9ms inference, 0.9ms postprocess per image at shape (1, 3, 640, 640)\n",
      "\n",
      "0: 640x640 3 fire extinguishers, 2 fire signages, 29.0ms\n",
      "Speed: 1.3ms preprocess, 29.0ms inference, 1.0ms postprocess per image at shape (1, 3, 640, 640)\n",
      "\n",
      "0: 640x640 3 fire extinguishers, 2 fire signages, 24.8ms\n",
      "Speed: 7.3ms preprocess, 24.8ms inference, 1.1ms postprocess per image at shape (1, 3, 640, 640)\n",
      "\n",
      "0: 640x640 3 fire extinguishers, 2 fire signages, 26.4ms\n",
      "Speed: 6.0ms preprocess, 26.4ms inference, 2.0ms postprocess per image at shape (1, 3, 640, 640)\n",
      "\n",
      "0: 640x640 3 fire extinguishers, 2 fire signages, 24.2ms\n",
      "Speed: 10.1ms preprocess, 24.2ms inference, 1.0ms postprocess per image at shape (1, 3, 640, 640)\n",
      "\n",
      "0: 640x640 4 fire extinguishers, 1 fire signage, 20.9ms\n",
      "Speed: 6.9ms preprocess, 20.9ms inference, 0.0ms postprocess per image at shape (1, 3, 640, 640)\n",
      "\n",
      "0: 640x640 3 fire extinguishers, 24.4ms\n",
      "Speed: 5.3ms preprocess, 24.4ms inference, 2.2ms postprocess per image at shape (1, 3, 640, 640)\n",
      "\n",
      "0: 640x640 3 fire extinguishers, 42.2ms\n",
      "Speed: 6.0ms preprocess, 42.2ms inference, 2.0ms postprocess per image at shape (1, 3, 640, 640)\n",
      "\n",
      "0: 640x640 3 fire extinguishers, 1 fire signage, 26.5ms\n",
      "Speed: 8.7ms preprocess, 26.5ms inference, 1.0ms postprocess per image at shape (1, 3, 640, 640)\n",
      "\n",
      "0: 640x640 3 fire extinguishers, 1 fire signage, 27.4ms\n",
      "Speed: 9.7ms preprocess, 27.4ms inference, 1.0ms postprocess per image at shape (1, 3, 640, 640)\n",
      "\n",
      "0: 640x640 2 fire extinguishers, 2 fire signages, 25.2ms\n",
      "Speed: 6.0ms preprocess, 25.2ms inference, 0.0ms postprocess per image at shape (1, 3, 640, 640)\n",
      "\n",
      "0: 640x640 3 fire extinguishers, 1 fire signage, 35.5ms\n",
      "Speed: 0.0ms preprocess, 35.5ms inference, 1.0ms postprocess per image at shape (1, 3, 640, 640)\n",
      "\n",
      "0: 640x640 3 fire extinguishers, 1 fire signage, 25.8ms\n",
      "Speed: 6.0ms preprocess, 25.8ms inference, 2.0ms postprocess per image at shape (1, 3, 640, 640)\n",
      "\n",
      "0: 640x640 2 fire extinguishers, 2 fire signages, 24.1ms\n",
      "Speed: 8.0ms preprocess, 24.1ms inference, 2.3ms postprocess per image at shape (1, 3, 640, 640)\n",
      "\n",
      "0: 640x640 2 fire extinguishers, 2 fire signages, 25.2ms\n",
      "Speed: 7.8ms preprocess, 25.2ms inference, 1.0ms postprocess per image at shape (1, 3, 640, 640)\n",
      "\n",
      "0: 640x640 1 fire extinguisher, 2 fire signages, 15.3ms\n",
      "Speed: 5.2ms preprocess, 15.3ms inference, 0.0ms postprocess per image at shape (1, 3, 640, 640)\n",
      "\n",
      "0: 640x640 1 fire extinguisher, 2 fire signages, 15.5ms\n",
      "Speed: 7.6ms preprocess, 15.5ms inference, 0.0ms postprocess per image at shape (1, 3, 640, 640)\n",
      "\n",
      "0: 640x640 1 fire extinguisher, 2 fire signages, 25.2ms\n",
      "Speed: 7.3ms preprocess, 25.2ms inference, 1.0ms postprocess per image at shape (1, 3, 640, 640)\n",
      "\n",
      "0: 640x640 1 fire extinguisher, 3 fire signages, 25.8ms\n",
      "Speed: 7.0ms preprocess, 25.8ms inference, 1.0ms postprocess per image at shape (1, 3, 640, 640)\n",
      "\n",
      "0: 640x640 1 fire extinguisher, 4 fire signages, 22.2ms\n",
      "Speed: 7.0ms preprocess, 22.2ms inference, 5.8ms postprocess per image at shape (1, 3, 640, 640)\n",
      "\n",
      "0: 640x640 1 fire extinguisher, 2 fire signages, 26.5ms\n",
      "Speed: 7.0ms preprocess, 26.5ms inference, 1.0ms postprocess per image at shape (1, 3, 640, 640)\n",
      "\n",
      "0: 640x640 1 fire extinguisher, 2 fire signages, 21.1ms\n",
      "Speed: 9.9ms preprocess, 21.1ms inference, 0.0ms postprocess per image at shape (1, 3, 640, 640)\n",
      "\n",
      "0: 640x640 1 fire extinguisher, 3 fire signages, 21.6ms\n",
      "Speed: 7.5ms preprocess, 21.6ms inference, 0.0ms postprocess per image at shape (1, 3, 640, 640)\n",
      "\n",
      "0: 640x640 3 fire extinguishers, 3 fire signages, 39.6ms\n",
      "Speed: 7.8ms preprocess, 39.6ms inference, 1.6ms postprocess per image at shape (1, 3, 640, 640)\n",
      "\n",
      "0: 640x640 2 fire extinguishers, 4 fire signages, 24.8ms\n",
      "Speed: 10.0ms preprocess, 24.8ms inference, 2.0ms postprocess per image at shape (1, 3, 640, 640)\n",
      "\n",
      "0: 640x640 3 fire extinguishers, 4 fire signages, 23.3ms\n",
      "Speed: 9.3ms preprocess, 23.3ms inference, 0.0ms postprocess per image at shape (1, 3, 640, 640)\n",
      "\n",
      "0: 640x640 2 fire signages, 24.8ms\n",
      "Speed: 7.4ms preprocess, 24.8ms inference, 1.1ms postprocess per image at shape (1, 3, 640, 640)\n",
      "\n",
      "0: 640x640 2 fire signages, 25.9ms\n",
      "Speed: 9.0ms preprocess, 25.9ms inference, 2.0ms postprocess per image at shape (1, 3, 640, 640)\n",
      "\n",
      "0: 640x640 2 fire signages, 32.6ms\n",
      "Speed: 6.9ms preprocess, 32.6ms inference, 2.5ms postprocess per image at shape (1, 3, 640, 640)\n",
      "\n",
      "0: 640x640 2 fire signages, 25.5ms\n",
      "Speed: 5.3ms preprocess, 25.5ms inference, 1.0ms postprocess per image at shape (1, 3, 640, 640)\n",
      "\n",
      "0: 640x640 2 fire signages, 14.1ms\n",
      "Speed: 5.5ms preprocess, 14.1ms inference, 0.0ms postprocess per image at shape (1, 3, 640, 640)\n",
      "\n",
      "0: 640x640 2 fire signages, 24.1ms\n",
      "Speed: 1.1ms preprocess, 24.1ms inference, 0.0ms postprocess per image at shape (1, 3, 640, 640)\n",
      "\n",
      "0: 640x640 2 fire signages, 16.2ms\n",
      "Speed: 8.1ms preprocess, 16.2ms inference, 11.9ms postprocess per image at shape (1, 3, 640, 640)\n",
      "\n",
      "0: 640x640 2 fire signages, 24.9ms\n",
      "Speed: 7.0ms preprocess, 24.9ms inference, 1.0ms postprocess per image at shape (1, 3, 640, 640)\n",
      "\n",
      "0: 640x640 2 fire signages, 26.4ms\n",
      "Speed: 7.5ms preprocess, 26.4ms inference, 2.6ms postprocess per image at shape (1, 3, 640, 640)\n",
      "\n",
      "0: 640x640 2 fire signages, 24.2ms\n",
      "Speed: 13.8ms preprocess, 24.2ms inference, 1.0ms postprocess per image at shape (1, 3, 640, 640)\n",
      "\n",
      "0: 640x640 2 fire signages, 32.9ms\n",
      "Speed: 0.0ms preprocess, 32.9ms inference, 2.0ms postprocess per image at shape (1, 3, 640, 640)\n",
      "\n",
      "0: 640x640 2 fire signages, 27.2ms\n",
      "Speed: 4.6ms preprocess, 27.2ms inference, 1.0ms postprocess per image at shape (1, 3, 640, 640)\n",
      "\n",
      "0: 640x640 2 fire signages, 22.3ms\n",
      "Speed: 13.2ms preprocess, 22.3ms inference, 2.0ms postprocess per image at shape (1, 3, 640, 640)\n",
      "\n",
      "0: 640x640 2 fire signages, 27.8ms\n",
      "Speed: 6.0ms preprocess, 27.8ms inference, 1.0ms postprocess per image at shape (1, 3, 640, 640)\n",
      "\n",
      "0: 640x640 2 fire signages, 25.0ms\n",
      "Speed: 7.0ms preprocess, 25.0ms inference, 1.0ms postprocess per image at shape (1, 3, 640, 640)\n",
      "\n",
      "0: 640x640 1 fire signage, 19.9ms\n",
      "Speed: 6.0ms preprocess, 19.9ms inference, 0.0ms postprocess per image at shape (1, 3, 640, 640)\n",
      "\n",
      "0: 640x640 2 fire signages, 24.7ms\n",
      "Speed: 8.0ms preprocess, 24.7ms inference, 0.0ms postprocess per image at shape (1, 3, 640, 640)\n",
      "\n",
      "0: 640x640 2 fire signages, 24.3ms\n",
      "Speed: 7.0ms preprocess, 24.3ms inference, 0.6ms postprocess per image at shape (1, 3, 640, 640)\n",
      "\n",
      "0: 640x640 1 fire signage, 24.1ms\n",
      "Speed: 5.0ms preprocess, 24.1ms inference, 1.0ms postprocess per image at shape (1, 3, 640, 640)\n",
      "\n",
      "0: 640x640 1 fire signage, 26.4ms\n",
      "Speed: 8.8ms preprocess, 26.4ms inference, 0.0ms postprocess per image at shape (1, 3, 640, 640)\n",
      "\n",
      "0: 640x640 2 fire signages, 24.8ms\n",
      "Speed: 6.8ms preprocess, 24.8ms inference, 0.0ms postprocess per image at shape (1, 3, 640, 640)\n",
      "\n",
      "0: 640x640 1 fire signage, 31.5ms\n",
      "Speed: 0.0ms preprocess, 31.5ms inference, 2.0ms postprocess per image at shape (1, 3, 640, 640)\n",
      "\n",
      "0: 640x640 1 fire signage, 27.2ms\n",
      "Speed: 5.3ms preprocess, 27.2ms inference, 1.0ms postprocess per image at shape (1, 3, 640, 640)\n",
      "\n",
      "0: 640x640 1 fire signage, 25.1ms\n",
      "Speed: 13.9ms preprocess, 25.1ms inference, 2.2ms postprocess per image at shape (1, 3, 640, 640)\n",
      "\n",
      "0: 640x640 1 fire signage, 26.1ms\n",
      "Speed: 8.5ms preprocess, 26.1ms inference, 2.0ms postprocess per image at shape (1, 3, 640, 640)\n",
      "\n",
      "0: 640x640 1 fire signage, 24.5ms\n",
      "Speed: 6.0ms preprocess, 24.5ms inference, 0.5ms postprocess per image at shape (1, 3, 640, 640)\n",
      "\n",
      "0: 640x640 1 fire signage, 23.8ms\n",
      "Speed: 6.8ms preprocess, 23.8ms inference, 2.0ms postprocess per image at shape (1, 3, 640, 640)\n",
      "\n",
      "0: 640x640 1 fire signage, 26.1ms\n",
      "Speed: 10.5ms preprocess, 26.1ms inference, 1.0ms postprocess per image at shape (1, 3, 640, 640)\n",
      "\n",
      "0: 640x640 1 fire signage, 29.1ms\n",
      "Speed: 9.0ms preprocess, 29.1ms inference, 2.0ms postprocess per image at shape (1, 3, 640, 640)\n",
      "\n",
      "0: 640x640 1 fire signage, 20.2ms\n",
      "Speed: 7.3ms preprocess, 20.2ms inference, 0.0ms postprocess per image at shape (1, 3, 640, 640)\n",
      "\n",
      "0: 640x640 1 fire extinguisher, 2 fire signages, 21.7ms\n",
      "Speed: 6.8ms preprocess, 21.7ms inference, 0.0ms postprocess per image at shape (1, 3, 640, 640)\n",
      "\n",
      "0: 640x640 1 fire extinguisher, 1 fire signage, 25.3ms\n",
      "Speed: 6.0ms preprocess, 25.3ms inference, 3.0ms postprocess per image at shape (1, 3, 640, 640)\n",
      "\n",
      "0: 640x640 1 fire extinguisher, 1 fire signage, 26.2ms\n",
      "Speed: 9.6ms preprocess, 26.2ms inference, 2.0ms postprocess per image at shape (1, 3, 640, 640)\n",
      "\n",
      "0: 640x640 1 fire extinguisher, 1 fire signage, 36.0ms\n",
      "Speed: 6.0ms preprocess, 36.0ms inference, 1.0ms postprocess per image at shape (1, 3, 640, 640)\n",
      "\n",
      "0: 640x640 1 fire extinguisher, 1 fire signage, 30.9ms\n",
      "Speed: 2.0ms preprocess, 30.9ms inference, 2.0ms postprocess per image at shape (1, 3, 640, 640)\n",
      "\n",
      "0: 640x640 1 fire extinguisher, 1 fire signage, 10.7ms\n",
      "Speed: 8.0ms preprocess, 10.7ms inference, 15.5ms postprocess per image at shape (1, 3, 640, 640)\n",
      "\n",
      "0: 640x640 1 fire extinguisher, 1 fire signage, 31.2ms\n",
      "Speed: 0.0ms preprocess, 31.2ms inference, 1.0ms postprocess per image at shape (1, 3, 640, 640)\n",
      "\n",
      "0: 640x640 1 fire extinguisher, 1 fire signage, 39.9ms\n",
      "Speed: 6.0ms preprocess, 39.9ms inference, 1.0ms postprocess per image at shape (1, 3, 640, 640)\n",
      "\n",
      "0: 640x640 1 fire extinguisher, 2 fire signages, 25.4ms\n",
      "Speed: 9.9ms preprocess, 25.4ms inference, 2.0ms postprocess per image at shape (1, 3, 640, 640)\n",
      "\n",
      "0: 640x640 1 fire extinguisher, 2 fire signages, 27.6ms\n",
      "Speed: 4.4ms preprocess, 27.6ms inference, 0.0ms postprocess per image at shape (1, 3, 640, 640)\n",
      "\n",
      "0: 640x640 1 fire extinguisher, 1 fire signage, 24.9ms\n",
      "Speed: 7.6ms preprocess, 24.9ms inference, 0.0ms postprocess per image at shape (1, 3, 640, 640)\n",
      "\n",
      "0: 640x640 1 fire extinguisher, 1 fire signage, 45.2ms\n",
      "Speed: 3.4ms preprocess, 45.2ms inference, 1.0ms postprocess per image at shape (1, 3, 640, 640)\n",
      "\n",
      "0: 640x640 1 fire extinguisher, 1 fire signage, 28.6ms\n",
      "Speed: 0.0ms preprocess, 28.6ms inference, 0.0ms postprocess per image at shape (1, 3, 640, 640)\n",
      "\n",
      "0: 640x640 1 fire extinguisher, 3 fire signages, 31.4ms\n",
      "Speed: 1.6ms preprocess, 31.4ms inference, 2.0ms postprocess per image at shape (1, 3, 640, 640)\n",
      "\n",
      "0: 640x640 1 fire extinguisher, 3 fire signages, 21.0ms\n",
      "Speed: 11.4ms preprocess, 21.0ms inference, 0.0ms postprocess per image at shape (1, 3, 640, 640)\n",
      "\n",
      "0: 640x640 1 fire extinguisher, 2 fire signages, 23.6ms\n",
      "Speed: 5.0ms preprocess, 23.6ms inference, 1.0ms postprocess per image at shape (1, 3, 640, 640)\n",
      "\n",
      "0: 640x640 1 fire extinguisher, 3 fire signages, 26.0ms\n",
      "Speed: 5.0ms preprocess, 26.0ms inference, 1.0ms postprocess per image at shape (1, 3, 640, 640)\n",
      "\n",
      "0: 640x640 1 fire extinguisher, 2 fire signages, 23.6ms\n",
      "Speed: 6.0ms preprocess, 23.6ms inference, 2.0ms postprocess per image at shape (1, 3, 640, 640)\n",
      "\n",
      "0: 640x640 1 fire extinguisher, 3 fire signages, 25.3ms\n",
      "Speed: 10.2ms preprocess, 25.3ms inference, 1.0ms postprocess per image at shape (1, 3, 640, 640)\n",
      "\n",
      "0: 640x640 1 fire extinguisher, 3 fire signages, 26.1ms\n",
      "Speed: 7.5ms preprocess, 26.1ms inference, 1.0ms postprocess per image at shape (1, 3, 640, 640)\n",
      "\n",
      "0: 640x640 2 fire signages, 25.4ms\n",
      "Speed: 8.0ms preprocess, 25.4ms inference, 1.0ms postprocess per image at shape (1, 3, 640, 640)\n",
      "\n",
      "0: 640x640 1 fire extinguisher, 2 fire signages, 24.6ms\n",
      "Speed: 15.2ms preprocess, 24.6ms inference, 1.0ms postprocess per image at shape (1, 3, 640, 640)\n",
      "\n",
      "0: 640x640 1 fire extinguisher, 1 fire signage, 24.5ms\n",
      "Speed: 17.3ms preprocess, 24.5ms inference, 1.0ms postprocess per image at shape (1, 3, 640, 640)\n",
      "\n",
      "0: 640x640 1 fire extinguisher, 2 fire signages, 25.5ms\n",
      "Speed: 7.3ms preprocess, 25.5ms inference, 0.0ms postprocess per image at shape (1, 3, 640, 640)\n",
      "\n",
      "0: 640x640 1 fire extinguisher, 2 fire signages, 25.2ms\n",
      "Speed: 5.0ms preprocess, 25.2ms inference, 2.0ms postprocess per image at shape (1, 3, 640, 640)\n",
      "\n",
      "0: 640x640 1 fire extinguisher, 1 fire signage, 16.7ms\n",
      "Speed: 6.0ms preprocess, 16.7ms inference, 9.5ms postprocess per image at shape (1, 3, 640, 640)\n",
      "\n",
      "0: 640x640 1 fire extinguisher, 2 fire signages, 33.5ms\n",
      "Speed: 8.0ms preprocess, 33.5ms inference, 1.0ms postprocess per image at shape (1, 3, 640, 640)\n",
      "\n",
      "0: 640x640 1 fire extinguisher, 2 fire signages, 26.9ms\n",
      "Speed: 7.4ms preprocess, 26.9ms inference, 2.0ms postprocess per image at shape (1, 3, 640, 640)\n",
      "\n",
      "0: 640x640 1 fire extinguisher, 2 fire signages, 12.3ms\n",
      "Speed: 5.5ms preprocess, 12.3ms inference, 16.1ms postprocess per image at shape (1, 3, 640, 640)\n",
      "\n",
      "0: 640x640 1 fire extinguisher, 1 fire signage, 24.2ms\n",
      "Speed: 13.3ms preprocess, 24.2ms inference, 2.0ms postprocess per image at shape (1, 3, 640, 640)\n",
      "\n",
      "0: 640x640 1 fire extinguisher, 1 fire signage, 30.7ms\n",
      "Speed: 11.4ms preprocess, 30.7ms inference, 1.0ms postprocess per image at shape (1, 3, 640, 640)\n",
      "\n",
      "0: 640x640 1 fire extinguisher, 2 fire signages, 25.3ms\n",
      "Speed: 7.0ms preprocess, 25.3ms inference, 1.0ms postprocess per image at shape (1, 3, 640, 640)\n",
      "\n",
      "0: 640x640 1 fire extinguisher, 2 fire signages, 23.7ms\n",
      "Speed: 9.9ms preprocess, 23.7ms inference, 1.1ms postprocess per image at shape (1, 3, 640, 640)\n",
      "\n",
      "0: 640x640 1 fire extinguisher, 2 fire signages, 24.1ms\n",
      "Speed: 16.5ms preprocess, 24.1ms inference, 2.0ms postprocess per image at shape (1, 3, 640, 640)\n",
      "\n",
      "0: 640x640 1 fire extinguisher, 2 fire signages, 43.0ms\n",
      "Speed: 7.0ms preprocess, 43.0ms inference, 1.0ms postprocess per image at shape (1, 3, 640, 640)\n",
      "\n",
      "0: 640x640 1 fire extinguisher, 2 fire signages, 23.0ms\n",
      "Speed: 16.7ms preprocess, 23.0ms inference, 1.0ms postprocess per image at shape (1, 3, 640, 640)\n",
      "\n",
      "0: 640x640 1 fire extinguisher, 1 fire signage, 24.9ms\n",
      "Speed: 10.5ms preprocess, 24.9ms inference, 1.0ms postprocess per image at shape (1, 3, 640, 640)\n",
      "\n",
      "0: 640x640 1 fire extinguisher, 2 fire signages, 22.7ms\n",
      "Speed: 4.9ms preprocess, 22.7ms inference, 0.0ms postprocess per image at shape (1, 3, 640, 640)\n",
      "\n",
      "0: 640x640 1 fire extinguisher, 3 fire signages, 40.3ms\n",
      "Speed: 7.0ms preprocess, 40.3ms inference, 1.8ms postprocess per image at shape (1, 3, 640, 640)\n",
      "\n",
      "0: 640x640 1 fire extinguisher, 3 fire signages, 22.6ms\n",
      "Speed: 6.0ms preprocess, 22.6ms inference, 0.0ms postprocess per image at shape (1, 3, 640, 640)\n",
      "\n",
      "0: 640x640 1 fire signage, 24.2ms\n",
      "Speed: 9.5ms preprocess, 24.2ms inference, 1.9ms postprocess per image at shape (1, 3, 640, 640)\n",
      "\n",
      "0: 640x640 1 fire signage, 22.6ms\n",
      "Speed: 12.8ms preprocess, 22.6ms inference, 1.0ms postprocess per image at shape (1, 3, 640, 640)\n",
      "\n",
      "0: 640x640 2 fire signages, 28.9ms\n",
      "Speed: 6.9ms preprocess, 28.9ms inference, 2.4ms postprocess per image at shape (1, 3, 640, 640)\n",
      "\n",
      "0: 640x640 1 fire signage, 25.8ms\n",
      "Speed: 5.0ms preprocess, 25.8ms inference, 1.0ms postprocess per image at shape (1, 3, 640, 640)\n",
      "\n",
      "0: 640x640 2 fire signages, 25.9ms\n",
      "Speed: 3.2ms preprocess, 25.9ms inference, 2.0ms postprocess per image at shape (1, 3, 640, 640)\n",
      "\n",
      "0: 640x640 1 fire signage, 24.5ms\n",
      "Speed: 5.1ms preprocess, 24.5ms inference, 1.5ms postprocess per image at shape (1, 3, 640, 640)\n",
      "\n",
      "0: 640x640 2 fire signages, 23.6ms\n",
      "Speed: 8.0ms preprocess, 23.6ms inference, 2.0ms postprocess per image at shape (1, 3, 640, 640)\n",
      "\n",
      "0: 640x640 1 fire signage, 25.9ms\n",
      "Speed: 6.0ms preprocess, 25.9ms inference, 3.0ms postprocess per image at shape (1, 3, 640, 640)\n",
      "\n",
      "0: 640x640 1 fire signage, 23.6ms\n",
      "Speed: 7.7ms preprocess, 23.6ms inference, 0.0ms postprocess per image at shape (1, 3, 640, 640)\n",
      "\n",
      "0: 640x640 1 fire signage, 25.6ms\n",
      "Speed: 7.0ms preprocess, 25.6ms inference, 1.0ms postprocess per image at shape (1, 3, 640, 640)\n",
      "\n",
      "0: 640x640 1 fire signage, 26.4ms\n",
      "Speed: 7.8ms preprocess, 26.4ms inference, 2.0ms postprocess per image at shape (1, 3, 640, 640)\n",
      "\n",
      "0: 640x640 1 fire signage, 24.9ms\n",
      "Speed: 5.0ms preprocess, 24.9ms inference, 1.0ms postprocess per image at shape (1, 3, 640, 640)\n",
      "\n",
      "0: 640x640 1 fire signage, 25.4ms\n",
      "Speed: 10.3ms preprocess, 25.4ms inference, 1.0ms postprocess per image at shape (1, 3, 640, 640)\n",
      "\n",
      "0: 640x640 1 fire signage, 23.1ms\n",
      "Speed: 9.7ms preprocess, 23.1ms inference, 1.0ms postprocess per image at shape (1, 3, 640, 640)\n",
      "\n",
      "0: 640x640 1 fire signage, 24.1ms\n",
      "Speed: 10.3ms preprocess, 24.1ms inference, 1.0ms postprocess per image at shape (1, 3, 640, 640)\n",
      "\n",
      "0: 640x640 1 fire signage, 24.5ms\n",
      "Speed: 8.0ms preprocess, 24.5ms inference, 1.0ms postprocess per image at shape (1, 3, 640, 640)\n",
      "\n",
      "0: 640x640 1 fire signage, 23.5ms\n",
      "Speed: 11.8ms preprocess, 23.5ms inference, 1.0ms postprocess per image at shape (1, 3, 640, 640)\n",
      "\n",
      "0: 640x640 1 fire signage, 23.9ms\n",
      "Speed: 7.3ms preprocess, 23.9ms inference, 1.0ms postprocess per image at shape (1, 3, 640, 640)\n",
      "\n",
      "0: 640x640 1 fire signage, 29.3ms\n",
      "Speed: 5.0ms preprocess, 29.3ms inference, 1.2ms postprocess per image at shape (1, 3, 640, 640)\n",
      "\n",
      "0: 640x640 1 fire signage, 23.5ms\n",
      "Speed: 7.6ms preprocess, 23.5ms inference, 3.0ms postprocess per image at shape (1, 3, 640, 640)\n",
      "\n",
      "0: 640x640 1 fire signage, 24.1ms\n",
      "Speed: 6.4ms preprocess, 24.1ms inference, 1.9ms postprocess per image at shape (1, 3, 640, 640)\n",
      "\n",
      "0: 640x640 1 fire signage, 42.7ms\n",
      "Speed: 8.4ms preprocess, 42.7ms inference, 2.1ms postprocess per image at shape (1, 3, 640, 640)\n",
      "\n",
      "0: 640x640 1 fire signage, 13.4ms\n",
      "Speed: 8.6ms preprocess, 13.4ms inference, 11.2ms postprocess per image at shape (1, 3, 640, 640)\n",
      "\n",
      "0: 640x640 2 fire signages, 29.3ms\n",
      "Speed: 3.0ms preprocess, 29.3ms inference, 0.0ms postprocess per image at shape (1, 3, 640, 640)\n",
      "\n",
      "0: 640x640 2 fire signages, 24.8ms\n",
      "Speed: 11.7ms preprocess, 24.8ms inference, 1.0ms postprocess per image at shape (1, 3, 640, 640)\n",
      "\n",
      "0: 640x640 2 fire signages, 23.8ms\n",
      "Speed: 8.6ms preprocess, 23.8ms inference, 1.0ms postprocess per image at shape (1, 3, 640, 640)\n",
      "\n",
      "0: 640x640 2 fire signages, 27.3ms\n",
      "Speed: 1.9ms preprocess, 27.3ms inference, 1.0ms postprocess per image at shape (1, 3, 640, 640)\n",
      "\n",
      "0: 640x640 2 fire signages, 22.6ms\n",
      "Speed: 8.6ms preprocess, 22.6ms inference, 2.0ms postprocess per image at shape (1, 3, 640, 640)\n",
      "\n",
      "0: 640x640 2 fire signages, 26.1ms\n",
      "Speed: 11.6ms preprocess, 26.1ms inference, 1.8ms postprocess per image at shape (1, 3, 640, 640)\n",
      "\n",
      "0: 640x640 1 fire signage, 1 helmet, 24.0ms\n",
      "Speed: 12.6ms preprocess, 24.0ms inference, 2.0ms postprocess per image at shape (1, 3, 640, 640)\n",
      "\n",
      "0: 640x640 2 fire signages, 1 helmet, 26.7ms\n",
      "Speed: 10.0ms preprocess, 26.7ms inference, 2.0ms postprocess per image at shape (1, 3, 640, 640)\n",
      "\n",
      "0: 640x640 2 fire signages, 1 helmet, 25.0ms\n",
      "Speed: 5.2ms preprocess, 25.0ms inference, 1.0ms postprocess per image at shape (1, 3, 640, 640)\n",
      "\n",
      "0: 640x640 2 fire signages, 1 helmet, 19.9ms\n",
      "Speed: 13.9ms preprocess, 19.9ms inference, 9.3ms postprocess per image at shape (1, 3, 640, 640)\n",
      "\n",
      "0: 640x640 1 fire signage, 1 helmet, 38.3ms\n",
      "Speed: 10.8ms preprocess, 38.3ms inference, 1.0ms postprocess per image at shape (1, 3, 640, 640)\n",
      "\n",
      "0: 640x640 3 fire signages, 25.1ms\n",
      "Speed: 8.0ms preprocess, 25.1ms inference, 2.0ms postprocess per image at shape (1, 3, 640, 640)\n",
      "\n",
      "0: 640x640 2 fire signages, 34.0ms\n",
      "Speed: 0.0ms preprocess, 34.0ms inference, 2.0ms postprocess per image at shape (1, 3, 640, 640)\n",
      "\n",
      "0: 640x640 2 fire signages, 28.2ms\n",
      "Speed: 2.0ms preprocess, 28.2ms inference, 1.0ms postprocess per image at shape (1, 3, 640, 640)\n",
      "\n",
      "0: 640x640 2 fire signages, 24.8ms\n",
      "Speed: 10.0ms preprocess, 24.8ms inference, 1.0ms postprocess per image at shape (1, 3, 640, 640)\n",
      "\n",
      "0: 640x640 2 fire signages, 23.6ms\n",
      "Speed: 8.4ms preprocess, 23.6ms inference, 1.0ms postprocess per image at shape (1, 3, 640, 640)\n",
      "\n",
      "0: 640x640 2 fire signages, 18.6ms\n",
      "Speed: 9.4ms preprocess, 18.6ms inference, 0.0ms postprocess per image at shape (1, 3, 640, 640)\n",
      "\n",
      "0: 640x640 2 fire signages, 25.8ms\n",
      "Speed: 32.3ms preprocess, 25.8ms inference, 2.0ms postprocess per image at shape (1, 3, 640, 640)\n",
      "\n",
      "0: 640x640 2 fire signages, 25.3ms\n",
      "Speed: 8.1ms preprocess, 25.3ms inference, 1.0ms postprocess per image at shape (1, 3, 640, 640)\n",
      "\n",
      "0: 640x640 2 fire signages, 15.9ms\n",
      "Speed: 10.3ms preprocess, 15.9ms inference, 0.0ms postprocess per image at shape (1, 3, 640, 640)\n",
      "\n",
      "0: 640x640 2 fire signages, 24.5ms\n",
      "Speed: 6.2ms preprocess, 24.5ms inference, 1.5ms postprocess per image at shape (1, 3, 640, 640)\n",
      "\n",
      "0: 640x640 2 fire signages, 24.0ms\n",
      "Speed: 5.5ms preprocess, 24.0ms inference, 1.0ms postprocess per image at shape (1, 3, 640, 640)\n",
      "\n",
      "0: 640x640 2 fire signages, 24.8ms\n",
      "Speed: 9.0ms preprocess, 24.8ms inference, 1.0ms postprocess per image at shape (1, 3, 640, 640)\n",
      "\n",
      "0: 640x640 2 fire signages, 37.0ms\n",
      "Speed: 8.0ms preprocess, 37.0ms inference, 2.0ms postprocess per image at shape (1, 3, 640, 640)\n",
      "\n",
      "0: 640x640 2 fire signages, 28.3ms\n",
      "Speed: 5.0ms preprocess, 28.3ms inference, 2.0ms postprocess per image at shape (1, 3, 640, 640)\n",
      "\n",
      "0: 640x640 2 fire signages, 26.0ms\n",
      "Speed: 6.0ms preprocess, 26.0ms inference, 1.0ms postprocess per image at shape (1, 3, 640, 640)\n",
      "\n",
      "0: 640x640 2 fire signages, 24.6ms\n",
      "Speed: 8.2ms preprocess, 24.6ms inference, 1.0ms postprocess per image at shape (1, 3, 640, 640)\n",
      "\n",
      "0: 640x640 2 fire signages, 32.9ms\n",
      "Speed: 2.4ms preprocess, 32.9ms inference, 2.0ms postprocess per image at shape (1, 3, 640, 640)\n",
      "\n",
      "0: 640x640 2 fire signages, 27.6ms\n",
      "Speed: 4.8ms preprocess, 27.6ms inference, 2.0ms postprocess per image at shape (1, 3, 640, 640)\n",
      "\n",
      "0: 640x640 2 fire signages, 23.9ms\n",
      "Speed: 6.9ms preprocess, 23.9ms inference, 2.5ms postprocess per image at shape (1, 3, 640, 640)\n",
      "\n",
      "0: 640x640 2 fire signages, 24.0ms\n",
      "Speed: 8.5ms preprocess, 24.0ms inference, 0.7ms postprocess per image at shape (1, 3, 640, 640)\n",
      "\n",
      "0: 640x640 2 fire signages, 26.7ms\n",
      "Speed: 6.1ms preprocess, 26.7ms inference, 2.0ms postprocess per image at shape (1, 3, 640, 640)\n",
      "\n",
      "0: 640x640 2 fire signages, 32.5ms\n",
      "Speed: 0.0ms preprocess, 32.5ms inference, 0.0ms postprocess per image at shape (1, 3, 640, 640)\n",
      "\n",
      "0: 640x640 2 fire signages, 25.3ms\n",
      "Speed: 6.0ms preprocess, 25.3ms inference, 0.0ms postprocess per image at shape (1, 3, 640, 640)\n",
      "\n",
      "0: 640x640 2 fire signages, 28.3ms\n",
      "Speed: 7.3ms preprocess, 28.3ms inference, 2.0ms postprocess per image at shape (1, 3, 640, 640)\n",
      "\n",
      "0: 640x640 2 fire signages, 25.9ms\n",
      "Speed: 8.5ms preprocess, 25.9ms inference, 3.0ms postprocess per image at shape (1, 3, 640, 640)\n",
      "\n",
      "0: 640x640 2 fire signages, 23.6ms\n",
      "Speed: 8.0ms preprocess, 23.6ms inference, 1.0ms postprocess per image at shape (1, 3, 640, 640)\n",
      "\n",
      "0: 640x640 2 fire signages, 24.2ms\n",
      "Speed: 6.5ms preprocess, 24.2ms inference, 3.0ms postprocess per image at shape (1, 3, 640, 640)\n",
      "\n",
      "0: 640x640 2 fire signages, 22.8ms\n",
      "Speed: 7.3ms preprocess, 22.8ms inference, 1.0ms postprocess per image at shape (1, 3, 640, 640)\n",
      "\n",
      "0: 640x640 2 fire signages, 22.9ms\n",
      "Speed: 6.0ms preprocess, 22.9ms inference, 1.0ms postprocess per image at shape (1, 3, 640, 640)\n",
      "\n",
      "0: 640x640 2 fire signages, 23.3ms\n",
      "Speed: 4.3ms preprocess, 23.3ms inference, 1.0ms postprocess per image at shape (1, 3, 640, 640)\n",
      "\n",
      "0: 640x640 2 fire signages, 20.3ms\n",
      "Speed: 6.0ms preprocess, 20.3ms inference, 0.0ms postprocess per image at shape (1, 3, 640, 640)\n",
      "\n",
      "0: 640x640 2 fire signages, 23.8ms\n",
      "Speed: 9.4ms preprocess, 23.8ms inference, 2.1ms postprocess per image at shape (1, 3, 640, 640)\n",
      "\n",
      "0: 640x640 2 fire signages, 24.6ms\n",
      "Speed: 7.5ms preprocess, 24.6ms inference, 2.0ms postprocess per image at shape (1, 3, 640, 640)\n",
      "\n",
      "0: 640x640 2 fire signages, 23.7ms\n",
      "Speed: 8.8ms preprocess, 23.7ms inference, 2.0ms postprocess per image at shape (1, 3, 640, 640)\n",
      "\n",
      "0: 640x640 2 fire signages, 20.7ms\n",
      "Speed: 6.3ms preprocess, 20.7ms inference, 1.0ms postprocess per image at shape (1, 3, 640, 640)\n",
      "\n",
      "0: 640x640 2 fire signages, 21.5ms\n",
      "Speed: 5.7ms preprocess, 21.5ms inference, 0.9ms postprocess per image at shape (1, 3, 640, 640)\n",
      "\n",
      "0: 640x640 3 fire signages, 17.7ms\n",
      "Speed: 7.7ms preprocess, 17.7ms inference, 1.0ms postprocess per image at shape (1, 3, 640, 640)\n",
      "\n",
      "0: 640x640 3 fire signages, 1 helmet, 16.7ms\n",
      "Speed: 6.0ms preprocess, 16.7ms inference, 1.0ms postprocess per image at shape (1, 3, 640, 640)\n",
      "\n",
      "0: 640x640 2 fire signages, 1 helmet, 20.9ms\n",
      "Speed: 4.5ms preprocess, 20.9ms inference, 1.0ms postprocess per image at shape (1, 3, 640, 640)\n",
      "\n",
      "0: 640x640 2 fire signages, 1 helmet, 18.8ms\n",
      "Speed: 6.5ms preprocess, 18.8ms inference, 1.0ms postprocess per image at shape (1, 3, 640, 640)\n",
      "\n",
      "0: 640x640 2 fire signages, 1 helmet, 21.9ms\n",
      "Speed: 1.2ms preprocess, 21.9ms inference, 1.3ms postprocess per image at shape (1, 3, 640, 640)\n",
      "\n",
      "0: 640x640 2 fire signages, 1 helmet, 21.4ms\n",
      "Speed: 6.4ms preprocess, 21.4ms inference, 1.0ms postprocess per image at shape (1, 3, 640, 640)\n",
      "\n",
      "0: 640x640 2 fire signages, 1 helmet, 17.6ms\n",
      "Speed: 6.0ms preprocess, 17.6ms inference, 1.0ms postprocess per image at shape (1, 3, 640, 640)\n",
      "\n",
      "0: 640x640 2 fire signages, 17.3ms\n",
      "Speed: 5.9ms preprocess, 17.3ms inference, 1.0ms postprocess per image at shape (1, 3, 640, 640)\n",
      "\n",
      "0: 640x640 2 fire signages, 19.4ms\n",
      "Speed: 6.9ms preprocess, 19.4ms inference, 3.0ms postprocess per image at shape (1, 3, 640, 640)\n",
      "\n",
      "0: 640x640 2 fire signages, 18.6ms\n",
      "Speed: 10.6ms preprocess, 18.6ms inference, 1.0ms postprocess per image at shape (1, 3, 640, 640)\n",
      "\n",
      "0: 640x640 2 fire signages, 20.1ms\n",
      "Speed: 7.4ms preprocess, 20.1ms inference, 1.0ms postprocess per image at shape (1, 3, 640, 640)\n",
      "\n",
      "0: 640x640 2 fire signages, 19.4ms\n",
      "Speed: 7.0ms preprocess, 19.4ms inference, 1.0ms postprocess per image at shape (1, 3, 640, 640)\n",
      "\n",
      "0: 640x640 2 fire signages, 24.3ms\n",
      "Speed: 8.1ms preprocess, 24.3ms inference, 1.0ms postprocess per image at shape (1, 3, 640, 640)\n",
      "\n",
      "0: 640x640 2 fire signages, 22.0ms\n",
      "Speed: 6.6ms preprocess, 22.0ms inference, 2.3ms postprocess per image at shape (1, 3, 640, 640)\n",
      "\n",
      "0: 640x640 3 fire signages, 22.8ms\n",
      "Speed: 6.9ms preprocess, 22.8ms inference, 2.0ms postprocess per image at shape (1, 3, 640, 640)\n",
      "\n",
      "0: 640x640 2 fire signages, 22.8ms\n",
      "Speed: 9.7ms preprocess, 22.8ms inference, 2.0ms postprocess per image at shape (1, 3, 640, 640)\n",
      "\n",
      "0: 640x640 2 fire signages, 24.7ms\n",
      "Speed: 10.4ms preprocess, 24.7ms inference, 3.0ms postprocess per image at shape (1, 3, 640, 640)\n",
      "\n",
      "0: 640x640 3 fire signages, 28.8ms\n",
      "Speed: 8.1ms preprocess, 28.8ms inference, 1.0ms postprocess per image at shape (1, 3, 640, 640)\n",
      "\n",
      "0: 640x640 3 fire signages, 24.8ms\n",
      "Speed: 11.3ms preprocess, 24.8ms inference, 1.0ms postprocess per image at shape (1, 3, 640, 640)\n",
      "\n",
      "0: 640x640 3 fire signages, 39.1ms\n",
      "Speed: 8.3ms preprocess, 39.1ms inference, 1.0ms postprocess per image at shape (1, 3, 640, 640)\n",
      "\n",
      "0: 640x640 3 fire signages, 27.1ms\n",
      "Speed: 10.4ms preprocess, 27.1ms inference, 0.9ms postprocess per image at shape (1, 3, 640, 640)\n",
      "\n",
      "0: 640x640 3 fire signages, 22.8ms\n",
      "Speed: 16.0ms preprocess, 22.8ms inference, 0.0ms postprocess per image at shape (1, 3, 640, 640)\n",
      "\n",
      "0: 640x640 3 fire signages, 25.2ms\n",
      "Speed: 12.2ms preprocess, 25.2ms inference, 0.0ms postprocess per image at shape (1, 3, 640, 640)\n",
      "\n",
      "0: 640x640 3 fire signages, 20.4ms\n",
      "Speed: 8.9ms preprocess, 20.4ms inference, 6.9ms postprocess per image at shape (1, 3, 640, 640)\n",
      "\n",
      "0: 640x640 3 fire signages, 26.2ms\n",
      "Speed: 9.9ms preprocess, 26.2ms inference, 0.0ms postprocess per image at shape (1, 3, 640, 640)\n",
      "\n",
      "0: 640x640 3 fire signages, 26.9ms\n",
      "Speed: 8.3ms preprocess, 26.9ms inference, 2.5ms postprocess per image at shape (1, 3, 640, 640)\n",
      "\n",
      "0: 640x640 3 fire signages, 25.3ms\n",
      "Speed: 6.3ms preprocess, 25.3ms inference, 1.0ms postprocess per image at shape (1, 3, 640, 640)\n",
      "\n",
      "0: 640x640 3 fire signages, 37.3ms\n",
      "Speed: 12.3ms preprocess, 37.3ms inference, 1.8ms postprocess per image at shape (1, 3, 640, 640)\n",
      "\n",
      "0: 640x640 3 fire signages, 26.5ms\n",
      "Speed: 10.0ms preprocess, 26.5ms inference, 1.0ms postprocess per image at shape (1, 3, 640, 640)\n",
      "\n",
      "0: 640x640 3 fire signages, 27.1ms\n",
      "Speed: 11.0ms preprocess, 27.1ms inference, 2.0ms postprocess per image at shape (1, 3, 640, 640)\n",
      "\n",
      "0: 640x640 2 fire signages, 24.9ms\n",
      "Speed: 11.5ms preprocess, 24.9ms inference, 3.0ms postprocess per image at shape (1, 3, 640, 640)\n",
      "\n",
      "0: 640x640 2 fire signages, 23.9ms\n",
      "Speed: 6.0ms preprocess, 23.9ms inference, 2.0ms postprocess per image at shape (1, 3, 640, 640)\n",
      "\n",
      "0: 640x640 2 fire signages, 26.9ms\n",
      "Speed: 6.3ms preprocess, 26.9ms inference, 1.4ms postprocess per image at shape (1, 3, 640, 640)\n",
      "\n",
      "0: 640x640 2 fire signages, 24.6ms\n",
      "Speed: 6.6ms preprocess, 24.6ms inference, 1.0ms postprocess per image at shape (1, 3, 640, 640)\n",
      "\n",
      "0: 640x640 2 fire signages, 23.8ms\n",
      "Speed: 23.3ms preprocess, 23.8ms inference, 2.0ms postprocess per image at shape (1, 3, 640, 640)\n",
      "\n",
      "0: 640x640 2 fire signages, 26.0ms\n",
      "Speed: 8.0ms preprocess, 26.0ms inference, 3.0ms postprocess per image at shape (1, 3, 640, 640)\n",
      "\n",
      "0: 640x640 2 fire signages, 26.3ms\n",
      "Speed: 14.8ms preprocess, 26.3ms inference, 2.0ms postprocess per image at shape (1, 3, 640, 640)\n",
      "\n",
      "0: 640x640 2 fire signages, 26.4ms\n",
      "Speed: 8.0ms preprocess, 26.4ms inference, 1.0ms postprocess per image at shape (1, 3, 640, 640)\n",
      "\n",
      "0: 640x640 2 fire signages, 27.5ms\n",
      "Speed: 11.2ms preprocess, 27.5ms inference, 3.0ms postprocess per image at shape (1, 3, 640, 640)\n",
      "\n",
      "0: 640x640 2 fire signages, 25.9ms\n",
      "Speed: 7.7ms preprocess, 25.9ms inference, 3.0ms postprocess per image at shape (1, 3, 640, 640)\n",
      "\n",
      "0: 640x640 2 fire signages, 16.8ms\n",
      "Speed: 26.2ms preprocess, 16.8ms inference, 0.0ms postprocess per image at shape (1, 3, 640, 640)\n",
      "\n",
      "0: 640x640 2 fire signages, 26.3ms\n",
      "Speed: 9.1ms preprocess, 26.3ms inference, 1.0ms postprocess per image at shape (1, 3, 640, 640)\n",
      "\n",
      "0: 640x640 5 fire signages, 25.1ms\n",
      "Speed: 13.6ms preprocess, 25.1ms inference, 1.0ms postprocess per image at shape (1, 3, 640, 640)\n",
      "\n",
      "0: 640x640 3 fire signages, 24.5ms\n",
      "Speed: 5.6ms preprocess, 24.5ms inference, 1.0ms postprocess per image at shape (1, 3, 640, 640)\n",
      "\n",
      "0: 640x640 2 fire signages, 25.8ms\n",
      "Speed: 6.4ms preprocess, 25.8ms inference, 1.0ms postprocess per image at shape (1, 3, 640, 640)\n",
      "\n",
      "0: 640x640 1 fire extinguisher, 36.4ms\n",
      "Speed: 6.2ms preprocess, 36.4ms inference, 1.0ms postprocess per image at shape (1, 3, 640, 640)\n",
      "\n",
      "0: 640x640 1 fire extinguisher, 24.3ms\n",
      "Speed: 6.0ms preprocess, 24.3ms inference, 1.0ms postprocess per image at shape (1, 3, 640, 640)\n",
      "\n",
      "0: 640x640 1 fire extinguisher, 25.4ms\n",
      "Speed: 7.1ms preprocess, 25.4ms inference, 1.0ms postprocess per image at shape (1, 3, 640, 640)\n",
      "\n",
      "0: 640x640 1 fire extinguisher, 24.1ms\n",
      "Speed: 8.0ms preprocess, 24.1ms inference, 1.0ms postprocess per image at shape (1, 3, 640, 640)\n",
      "\n",
      "0: 640x640 1 fire extinguisher, 24.5ms\n",
      "Speed: 5.0ms preprocess, 24.5ms inference, 1.0ms postprocess per image at shape (1, 3, 640, 640)\n",
      "\n",
      "0: 640x640 1 fire extinguisher, 1 fire signage, 25.6ms\n",
      "Speed: 5.0ms preprocess, 25.6ms inference, 2.0ms postprocess per image at shape (1, 3, 640, 640)\n",
      "\n",
      "0: 640x640 1 fire signage, 24.6ms\n",
      "Speed: 10.2ms preprocess, 24.6ms inference, 1.0ms postprocess per image at shape (1, 3, 640, 640)\n",
      "\n",
      "0: 640x640 1 fire signage, 23.9ms\n",
      "Speed: 12.7ms preprocess, 23.9ms inference, 1.0ms postprocess per image at shape (1, 3, 640, 640)\n",
      "\n",
      "0: 640x640 1 fire extinguisher, 25.4ms\n",
      "Speed: 5.0ms preprocess, 25.4ms inference, 3.0ms postprocess per image at shape (1, 3, 640, 640)\n",
      "\n",
      "0: 640x640 2 fire extinguishers, 1 fire signage, 24.7ms\n",
      "Speed: 7.0ms preprocess, 24.7ms inference, 1.0ms postprocess per image at shape (1, 3, 640, 640)\n",
      "\n",
      "0: 640x640 1 fire extinguisher, 25.5ms\n",
      "Speed: 7.7ms preprocess, 25.5ms inference, 2.0ms postprocess per image at shape (1, 3, 640, 640)\n",
      "\n",
      "0: 640x640 1 fire extinguisher, 25.9ms\n",
      "Speed: 5.0ms preprocess, 25.9ms inference, 1.0ms postprocess per image at shape (1, 3, 640, 640)\n",
      "\n",
      "0: 640x640 1 fire extinguisher, 33.0ms\n",
      "Speed: 0.0ms preprocess, 33.0ms inference, 1.0ms postprocess per image at shape (1, 3, 640, 640)\n",
      "\n",
      "0: 640x640 1 fire extinguisher, 33.2ms\n",
      "Speed: 7.6ms preprocess, 33.2ms inference, 1.0ms postprocess per image at shape (1, 3, 640, 640)\n",
      "\n",
      "0: 640x640 1 fire extinguisher, 24.5ms\n",
      "Speed: 5.1ms preprocess, 24.5ms inference, 2.0ms postprocess per image at shape (1, 3, 640, 640)\n",
      "\n",
      "0: 640x640 1 fire extinguisher, 20.8ms\n",
      "Speed: 10.0ms preprocess, 20.8ms inference, 0.0ms postprocess per image at shape (1, 3, 640, 640)\n",
      "\n",
      "0: 640x640 1 fire extinguisher, 26.2ms\n",
      "Speed: 8.0ms preprocess, 26.2ms inference, 1.0ms postprocess per image at shape (1, 3, 640, 640)\n",
      "\n",
      "0: 640x640 1 fire extinguisher, 32.4ms\n",
      "Speed: 0.0ms preprocess, 32.4ms inference, 1.0ms postprocess per image at shape (1, 3, 640, 640)\n",
      "\n",
      "0: 640x640 1 fire signage, 2 helmets, 25.2ms\n",
      "Speed: 8.0ms preprocess, 25.2ms inference, 2.3ms postprocess per image at shape (1, 3, 640, 640)\n",
      "\n",
      "0: 640x640 1 fire extinguisher, 1 fire signage, 2 helmets, 26.0ms\n",
      "Speed: 4.6ms preprocess, 26.0ms inference, 1.0ms postprocess per image at shape (1, 3, 640, 640)\n",
      "\n",
      "0: 640x640 1 fire signage, 1 helmet, 22.2ms\n",
      "Speed: 5.3ms preprocess, 22.2ms inference, 0.0ms postprocess per image at shape (1, 3, 640, 640)\n",
      "\n",
      "0: 640x640 1 fire signage, 1 helmet, 23.8ms\n",
      "Speed: 6.0ms preprocess, 23.8ms inference, 2.5ms postprocess per image at shape (1, 3, 640, 640)\n",
      "\n",
      "0: 640x640 1 fire signage, 1 helmet, 24.9ms\n",
      "Speed: 10.1ms preprocess, 24.9ms inference, 2.0ms postprocess per image at shape (1, 3, 640, 640)\n",
      "\n",
      "0: 640x640 1 fire signage, 1 helmet, 24.7ms\n",
      "Speed: 6.8ms preprocess, 24.7ms inference, 1.0ms postprocess per image at shape (1, 3, 640, 640)\n",
      "\n",
      "0: 640x640 1 fire signage, 1 helmet, 24.9ms\n",
      "Speed: 7.0ms preprocess, 24.9ms inference, 1.0ms postprocess per image at shape (1, 3, 640, 640)\n",
      "\n",
      "0: 640x640 1 fire signage, 1 helmet, 25.5ms\n",
      "Speed: 6.7ms preprocess, 25.5ms inference, 1.0ms postprocess per image at shape (1, 3, 640, 640)\n",
      "\n",
      "0: 640x640 1 fire signage, 1 helmet, 24.9ms\n",
      "Speed: 9.0ms preprocess, 24.9ms inference, 1.0ms postprocess per image at shape (1, 3, 640, 640)\n",
      "\n",
      "0: 640x640 1 fire signage, 23.4ms\n",
      "Speed: 6.0ms preprocess, 23.4ms inference, 1.0ms postprocess per image at shape (1, 3, 640, 640)\n",
      "\n",
      "0: 640x640 1 fire signage, 21.4ms\n",
      "Speed: 9.0ms preprocess, 21.4ms inference, 0.0ms postprocess per image at shape (1, 3, 640, 640)\n",
      "\n",
      "0: 640x640 1 fire signage, 1 helmet, 25.3ms\n",
      "Speed: 5.0ms preprocess, 25.3ms inference, 1.0ms postprocess per image at shape (1, 3, 640, 640)\n",
      "\n",
      "0: 640x640 1 fire signage, 2 helmets, 24.6ms\n",
      "Speed: 7.7ms preprocess, 24.6ms inference, 1.0ms postprocess per image at shape (1, 3, 640, 640)\n",
      "\n",
      "0: 640x640 1 fire signage, 23.5ms\n",
      "Speed: 7.7ms preprocess, 23.5ms inference, 1.0ms postprocess per image at shape (1, 3, 640, 640)\n",
      "\n",
      "0: 640x640 1 fire extinguisher, 1 fire signage, 1 helmet, 25.6ms\n",
      "Speed: 6.0ms preprocess, 25.6ms inference, 1.0ms postprocess per image at shape (1, 3, 640, 640)\n",
      "\n",
      "0: 640x640 1 fire signage, 3 helmets, 26.0ms\n",
      "Speed: 7.6ms preprocess, 26.0ms inference, 2.0ms postprocess per image at shape (1, 3, 640, 640)\n",
      "\n",
      "0: 640x640 1 fire signage, 2 helmets, 23.9ms\n",
      "Speed: 5.8ms preprocess, 23.9ms inference, 2.0ms postprocess per image at shape (1, 3, 640, 640)\n",
      "\n",
      "0: 640x640 1 fire signage, 2 helmets, 25.8ms\n",
      "Speed: 9.4ms preprocess, 25.8ms inference, 3.0ms postprocess per image at shape (1, 3, 640, 640)\n",
      "\n",
      "0: 640x640 1 fire signage, 1 helmet, 24.4ms\n",
      "Speed: 9.1ms preprocess, 24.4ms inference, 3.0ms postprocess per image at shape (1, 3, 640, 640)\n",
      "\n",
      "0: 640x640 1 fire extinguisher, 1 fire signage, 2 helmets, 22.3ms\n",
      "Speed: 7.6ms preprocess, 22.3ms inference, 0.0ms postprocess per image at shape (1, 3, 640, 640)\n",
      "\n",
      "0: 640x640 1 fire signage, 1 helmet, 24.7ms\n",
      "Speed: 4.2ms preprocess, 24.7ms inference, 1.0ms postprocess per image at shape (1, 3, 640, 640)\n",
      "\n",
      "0: 640x640 1 fire signage, 2 helmets, 24.8ms\n",
      "Speed: 6.0ms preprocess, 24.8ms inference, 1.0ms postprocess per image at shape (1, 3, 640, 640)\n",
      "\n",
      "0: 640x640 1 fire signage, 28.6ms\n",
      "Speed: 8.0ms preprocess, 28.6ms inference, 1.0ms postprocess per image at shape (1, 3, 640, 640)\n",
      "\n",
      "0: 640x640 1 fire signage, 3 helmets, 29.2ms\n",
      "Speed: 1.4ms preprocess, 29.2ms inference, 1.0ms postprocess per image at shape (1, 3, 640, 640)\n",
      "\n",
      "0: 640x640 1 fire signage, 3 helmets, 26.5ms\n",
      "Speed: 10.0ms preprocess, 26.5ms inference, 2.0ms postprocess per image at shape (1, 3, 640, 640)\n",
      "\n",
      "0: 640x640 1 fire signage, 1 helmet, 23.9ms\n",
      "Speed: 6.3ms preprocess, 23.9ms inference, 1.6ms postprocess per image at shape (1, 3, 640, 640)\n",
      "\n",
      "0: 640x640 1 fire signage, 1 helmet, 27.5ms\n",
      "Speed: 5.0ms preprocess, 27.5ms inference, 1.0ms postprocess per image at shape (1, 3, 640, 640)\n",
      "\n",
      "0: 640x640 1 fire signage, 1 helmet, 24.4ms\n",
      "Speed: 7.0ms preprocess, 24.4ms inference, 1.0ms postprocess per image at shape (1, 3, 640, 640)\n",
      "\n",
      "0: 640x640 1 fire signage, 2 helmets, 25.7ms\n",
      "Speed: 9.6ms preprocess, 25.7ms inference, 1.0ms postprocess per image at shape (1, 3, 640, 640)\n",
      "\n",
      "0: 640x640 1 fire signage, 2 helmets, 27.3ms\n",
      "Speed: 7.0ms preprocess, 27.3ms inference, 1.0ms postprocess per image at shape (1, 3, 640, 640)\n",
      "\n",
      "0: 640x640 1 fire signage, 2 helmets, 30.5ms\n",
      "Speed: 6.0ms preprocess, 30.5ms inference, 2.7ms postprocess per image at shape (1, 3, 640, 640)\n",
      "\n",
      "0: 640x640 1 fire signage, 1 helmet, 25.3ms\n",
      "Speed: 7.1ms preprocess, 25.3ms inference, 1.8ms postprocess per image at shape (1, 3, 640, 640)\n",
      "\n",
      "0: 640x640 1 fire extinguisher, 6 fire signages, 23.7ms\n",
      "Speed: 11.2ms preprocess, 23.7ms inference, 2.0ms postprocess per image at shape (1, 3, 640, 640)\n",
      "\n",
      "0: 640x640 1 fire extinguisher, 6 fire signages, 27.8ms\n",
      "Speed: 3.8ms preprocess, 27.8ms inference, 1.0ms postprocess per image at shape (1, 3, 640, 640)\n",
      "\n",
      "0: 640x640 1 fire extinguisher, 6 fire signages, 23.8ms\n",
      "Speed: 9.7ms preprocess, 23.8ms inference, 1.0ms postprocess per image at shape (1, 3, 640, 640)\n",
      "\n",
      "0: 640x640 1 fire extinguisher, 5 fire signages, 25.0ms\n",
      "Speed: 9.0ms preprocess, 25.0ms inference, 2.0ms postprocess per image at shape (1, 3, 640, 640)\n",
      "\n",
      "0: 640x640 1 fire extinguisher, 6 fire signages, 17.9ms\n",
      "Speed: 5.2ms preprocess, 17.9ms inference, 0.0ms postprocess per image at shape (1, 3, 640, 640)\n",
      "\n",
      "0: 640x640 1 fire extinguisher, 6 fire signages, 23.9ms\n",
      "Speed: 9.0ms preprocess, 23.9ms inference, 2.8ms postprocess per image at shape (1, 3, 640, 640)\n",
      "\n",
      "0: 640x640 1 fire extinguisher, 6 fire signages, 25.2ms\n",
      "Speed: 6.0ms preprocess, 25.2ms inference, 2.0ms postprocess per image at shape (1, 3, 640, 640)\n",
      "\n",
      "0: 640x640 1 fire extinguisher, 6 fire signages, 25.4ms\n",
      "Speed: 7.6ms preprocess, 25.4ms inference, 2.0ms postprocess per image at shape (1, 3, 640, 640)\n",
      "\n",
      "0: 640x640 1 fire extinguisher, 6 fire signages, 24.7ms\n",
      "Speed: 9.0ms preprocess, 24.7ms inference, 1.0ms postprocess per image at shape (1, 3, 640, 640)\n",
      "\n",
      "0: 640x640 1 fire extinguisher, 6 fire signages, 25.6ms\n",
      "Speed: 7.0ms preprocess, 25.6ms inference, 1.0ms postprocess per image at shape (1, 3, 640, 640)\n",
      "\n",
      "0: 640x640 1 fire extinguisher, 6 fire signages, 24.7ms\n",
      "Speed: 7.6ms preprocess, 24.7ms inference, 2.0ms postprocess per image at shape (1, 3, 640, 640)\n",
      "\n",
      "0: 640x640 1 fire extinguisher, 6 fire signages, 25.7ms\n",
      "Speed: 7.4ms preprocess, 25.7ms inference, 1.0ms postprocess per image at shape (1, 3, 640, 640)\n",
      "\n",
      "0: 640x640 1 fire extinguisher, 6 fire signages, 28.1ms\n",
      "Speed: 3.5ms preprocess, 28.1ms inference, 1.0ms postprocess per image at shape (1, 3, 640, 640)\n",
      "\n",
      "0: 640x640 1 fire extinguisher, 6 fire signages, 22.1ms\n",
      "Speed: 10.6ms preprocess, 22.1ms inference, 0.0ms postprocess per image at shape (1, 3, 640, 640)\n",
      "\n",
      "0: 640x640 1 fire extinguisher, 5 fire signages, 26.2ms\n",
      "Speed: 8.0ms preprocess, 26.2ms inference, 1.0ms postprocess per image at shape (1, 3, 640, 640)\n",
      "\n",
      "0: 640x640 1 fire extinguisher, 6 fire signages, 24.6ms\n",
      "Speed: 9.1ms preprocess, 24.6ms inference, 2.0ms postprocess per image at shape (1, 3, 640, 640)\n",
      "\n",
      "0: 640x640 1 fire extinguisher, 5 fire signages, 24.6ms\n",
      "Speed: 7.0ms preprocess, 24.6ms inference, 0.6ms postprocess per image at shape (1, 3, 640, 640)\n",
      "\n",
      "0: 640x640 1 fire extinguisher, 6 fire signages, 23.9ms\n",
      "Speed: 8.0ms preprocess, 23.9ms inference, 2.0ms postprocess per image at shape (1, 3, 640, 640)\n",
      "\n",
      "0: 640x640 1 fire extinguisher, 5 fire signages, 31.3ms\n",
      "Speed: 2.8ms preprocess, 31.3ms inference, 4.0ms postprocess per image at shape (1, 3, 640, 640)\n",
      "\n",
      "0: 640x640 1 fire extinguisher, 6 fire signages, 16.4ms\n",
      "Speed: 7.5ms preprocess, 16.4ms inference, 0.0ms postprocess per image at shape (1, 3, 640, 640)\n",
      "\n",
      "0: 640x640 1 fire extinguisher, 6 fire signages, 24.6ms\n",
      "Speed: 8.6ms preprocess, 24.6ms inference, 2.1ms postprocess per image at shape (1, 3, 640, 640)\n",
      "\n",
      "0: 640x640 1 fire extinguisher, 6 fire signages, 26.0ms\n",
      "Speed: 6.0ms preprocess, 26.0ms inference, 1.0ms postprocess per image at shape (1, 3, 640, 640)\n",
      "\n",
      "0: 640x640 1 fire extinguisher, 6 fire signages, 27.0ms\n",
      "Speed: 8.6ms preprocess, 27.0ms inference, 1.0ms postprocess per image at shape (1, 3, 640, 640)\n",
      "\n",
      "0: 640x640 1 fire extinguisher, 5 fire signages, 24.8ms\n",
      "Speed: 6.7ms preprocess, 24.8ms inference, 4.0ms postprocess per image at shape (1, 3, 640, 640)\n",
      "\n",
      "0: 640x640 1 fire extinguisher, 6 fire signages, 24.5ms\n",
      "Speed: 9.5ms preprocess, 24.5ms inference, 1.0ms postprocess per image at shape (1, 3, 640, 640)\n",
      "\n",
      "0: 640x640 1 fire extinguisher, 6 fire signages, 25.0ms\n",
      "Speed: 5.5ms preprocess, 25.0ms inference, 1.0ms postprocess per image at shape (1, 3, 640, 640)\n",
      "\n",
      "0: 640x640 1 fire extinguisher, 6 fire signages, 24.7ms\n",
      "Speed: 6.0ms preprocess, 24.7ms inference, 0.6ms postprocess per image at shape (1, 3, 640, 640)\n",
      "\n",
      "0: 640x640 1 fire extinguisher, 5 fire signages, 24.5ms\n",
      "Speed: 6.0ms preprocess, 24.5ms inference, 1.0ms postprocess per image at shape (1, 3, 640, 640)\n",
      "\n",
      "0: 640x640 1 fire extinguisher, 6 fire signages, 23.1ms\n",
      "Speed: 8.8ms preprocess, 23.1ms inference, 1.0ms postprocess per image at shape (1, 3, 640, 640)\n",
      "\n",
      "0: 640x640 1 fire extinguisher, 5 fire signages, 24.1ms\n",
      "Speed: 6.0ms preprocess, 24.1ms inference, 1.0ms postprocess per image at shape (1, 3, 640, 640)\n",
      "\n",
      "0: 640x640 1 fire extinguisher, 6 fire signages, 26.3ms\n",
      "Speed: 8.1ms preprocess, 26.3ms inference, 1.0ms postprocess per image at shape (1, 3, 640, 640)\n",
      "\n",
      "0: 640x640 1 fire extinguisher, 6 fire signages, 22.8ms\n",
      "Speed: 7.6ms preprocess, 22.8ms inference, 1.0ms postprocess per image at shape (1, 3, 640, 640)\n",
      "\n",
      "0: 640x640 1 fire extinguisher, 6 fire signages, 25.1ms\n",
      "Speed: 15.9ms preprocess, 25.1ms inference, 2.0ms postprocess per image at shape (1, 3, 640, 640)\n",
      "\n",
      "0: 640x640 1 fire extinguisher, 6 fire signages, 24.7ms\n",
      "Speed: 5.7ms preprocess, 24.7ms inference, 1.7ms postprocess per image at shape (1, 3, 640, 640)\n",
      "\n",
      "0: 640x640 1 fire extinguisher, 6 fire signages, 44.8ms\n",
      "Speed: 6.0ms preprocess, 44.8ms inference, 1.0ms postprocess per image at shape (1, 3, 640, 640)\n",
      "\n",
      "0: 640x640 1 fire extinguisher, 6 fire signages, 25.5ms\n",
      "Speed: 6.8ms preprocess, 25.5ms inference, 1.0ms postprocess per image at shape (1, 3, 640, 640)\n",
      "\n",
      "0: 640x640 1 fire extinguisher, 5 fire signages, 28.6ms\n",
      "Speed: 4.3ms preprocess, 28.6ms inference, 1.6ms postprocess per image at shape (1, 3, 640, 640)\n",
      "\n",
      "0: 640x640 1 fire extinguisher, 6 fire signages, 23.9ms\n",
      "Speed: 9.0ms preprocess, 23.9ms inference, 1.0ms postprocess per image at shape (1, 3, 640, 640)\n",
      "\n",
      "0: 640x640 1 fire extinguisher, 6 fire signages, 24.7ms\n",
      "Speed: 5.0ms preprocess, 24.7ms inference, 1.0ms postprocess per image at shape (1, 3, 640, 640)\n",
      "\n",
      "0: 640x640 1 fire extinguisher, 6 fire signages, 24.1ms\n",
      "Speed: 6.2ms preprocess, 24.1ms inference, 1.0ms postprocess per image at shape (1, 3, 640, 640)\n",
      "\n",
      "0: 640x640 1 fire extinguisher, 6 fire signages, 24.2ms\n",
      "Speed: 6.1ms preprocess, 24.2ms inference, 0.9ms postprocess per image at shape (1, 3, 640, 640)\n",
      "\n",
      "0: 640x640 1 fire extinguisher, 6 fire signages, 17.9ms\n",
      "Speed: 4.9ms preprocess, 17.9ms inference, 0.0ms postprocess per image at shape (1, 3, 640, 640)\n",
      "\n",
      "0: 640x640 1 fire extinguisher, 6 fire signages, 27.4ms\n",
      "Speed: 9.4ms preprocess, 27.4ms inference, 2.2ms postprocess per image at shape (1, 3, 640, 640)\n",
      "\n",
      "0: 640x640 1 fire extinguisher, 6 fire signages, 27.6ms\n",
      "Speed: 5.4ms preprocess, 27.6ms inference, 2.0ms postprocess per image at shape (1, 3, 640, 640)\n",
      "\n",
      "0: 640x640 1 fire extinguisher, 6 fire signages, 24.1ms\n",
      "Speed: 5.5ms preprocess, 24.1ms inference, 1.0ms postprocess per image at shape (1, 3, 640, 640)\n",
      "\n",
      "0: 640x640 1 fire extinguisher, 6 fire signages, 28.5ms\n",
      "Speed: 5.0ms preprocess, 28.5ms inference, 1.0ms postprocess per image at shape (1, 3, 640, 640)\n",
      "\n",
      "0: 640x640 1 fire extinguisher, 6 fire signages, 26.8ms\n",
      "Speed: 8.6ms preprocess, 26.8ms inference, 1.0ms postprocess per image at shape (1, 3, 640, 640)\n",
      "\n",
      "0: 640x640 1 fire extinguisher, 6 fire signages, 27.5ms\n",
      "Speed: 5.1ms preprocess, 27.5ms inference, 2.0ms postprocess per image at shape (1, 3, 640, 640)\n",
      "\n",
      "0: 640x640 1 fire extinguisher, 6 fire signages, 18.3ms\n",
      "Speed: 6.0ms preprocess, 18.3ms inference, 0.0ms postprocess per image at shape (1, 3, 640, 640)\n",
      "\n",
      "0: 640x640 1 fire extinguisher, 7 fire signages, 23.7ms\n",
      "Speed: 6.0ms preprocess, 23.7ms inference, 2.0ms postprocess per image at shape (1, 3, 640, 640)\n",
      "\n",
      "0: 640x640 1 fire extinguisher, 23.7ms\n",
      "Speed: 8.8ms preprocess, 23.7ms inference, 1.0ms postprocess per image at shape (1, 3, 640, 640)\n",
      "\n",
      "0: 640x640 2 fire extinguishers, 25.7ms\n",
      "Speed: 9.0ms preprocess, 25.7ms inference, 1.0ms postprocess per image at shape (1, 3, 640, 640)\n",
      "\n",
      "0: 640x640 2 fire extinguishers, 24.5ms\n",
      "Speed: 6.1ms preprocess, 24.5ms inference, 0.9ms postprocess per image at shape (1, 3, 640, 640)\n",
      "\n",
      "0: 640x640 2 fire extinguishers, 29.0ms\n",
      "Speed: 6.1ms preprocess, 29.0ms inference, 1.2ms postprocess per image at shape (1, 3, 640, 640)\n",
      "\n",
      "0: 640x640 1 fire extinguisher, 25.2ms\n",
      "Speed: 7.1ms preprocess, 25.2ms inference, 1.0ms postprocess per image at shape (1, 3, 640, 640)\n",
      "\n",
      "0: 640x640 2 fire extinguishers, 22.8ms\n",
      "Speed: 6.0ms preprocess, 22.8ms inference, 1.0ms postprocess per image at shape (1, 3, 640, 640)\n",
      "\n",
      "0: 640x640 2 fire extinguishers, 1 fire signage, 22.3ms\n",
      "Speed: 9.0ms preprocess, 22.3ms inference, 1.0ms postprocess per image at shape (1, 3, 640, 640)\n",
      "\n",
      "0: 640x640 2 fire extinguishers, 1 fire signage, 24.2ms\n",
      "Speed: 9.0ms preprocess, 24.2ms inference, 1.0ms postprocess per image at shape (1, 3, 640, 640)\n",
      "\n",
      "0: 640x640 1 fire extinguisher, 1 fire signage, 24.9ms\n",
      "Speed: 5.5ms preprocess, 24.9ms inference, 1.0ms postprocess per image at shape (1, 3, 640, 640)\n",
      "\n",
      "0: 640x640 1 fire extinguisher, 1 fire signage, 29.4ms\n",
      "Speed: 4.8ms preprocess, 29.4ms inference, 1.0ms postprocess per image at shape (1, 3, 640, 640)\n",
      "\n",
      "0: 640x640 1 fire extinguisher, 23.3ms\n",
      "Speed: 16.4ms preprocess, 23.3ms inference, 1.0ms postprocess per image at shape (1, 3, 640, 640)\n",
      "\n",
      "0: 640x640 1 fire extinguisher, 22.8ms\n",
      "Speed: 6.7ms preprocess, 22.8ms inference, 2.0ms postprocess per image at shape (1, 3, 640, 640)\n",
      "\n",
      "0: 640x640 1 fire extinguisher, 30.6ms\n",
      "Speed: 0.0ms preprocess, 30.6ms inference, 0.0ms postprocess per image at shape (1, 3, 640, 640)\n",
      "\n",
      "0: 640x640 1 fire extinguisher, 27.6ms\n",
      "Speed: 7.0ms preprocess, 27.6ms inference, 1.1ms postprocess per image at shape (1, 3, 640, 640)\n",
      "\n",
      "0: 640x640 1 fire extinguisher, 25.4ms\n",
      "Speed: 6.0ms preprocess, 25.4ms inference, 1.4ms postprocess per image at shape (1, 3, 640, 640)\n",
      "\n",
      "0: 640x640 1 fire extinguisher, 23.9ms\n",
      "Speed: 6.0ms preprocess, 23.9ms inference, 1.0ms postprocess per image at shape (1, 3, 640, 640)\n",
      "\n",
      "0: 640x640 1 fire extinguisher, 25.8ms\n",
      "Speed: 5.0ms preprocess, 25.8ms inference, 1.0ms postprocess per image at shape (1, 3, 640, 640)\n",
      "\n",
      "0: 640x640 1 fire extinguisher, 24.6ms\n",
      "Speed: 6.0ms preprocess, 24.6ms inference, 1.0ms postprocess per image at shape (1, 3, 640, 640)\n",
      "\n",
      "0: 640x640 1 fire extinguisher, 1 helmet, 22.0ms\n",
      "Speed: 9.2ms preprocess, 22.0ms inference, 0.0ms postprocess per image at shape (1, 3, 640, 640)\n",
      "\n",
      "0: 640x640 1 fire extinguisher, 1 helmet, 24.8ms\n",
      "Speed: 5.0ms preprocess, 24.8ms inference, 1.0ms postprocess per image at shape (1, 3, 640, 640)\n",
      "\n",
      "0: 640x640 1 helmet, 23.5ms\n",
      "Speed: 6.0ms preprocess, 23.5ms inference, 2.0ms postprocess per image at shape (1, 3, 640, 640)\n",
      "\n",
      "0: 640x640 (no detections), 25.2ms\n",
      "Speed: 6.0ms preprocess, 25.2ms inference, 1.0ms postprocess per image at shape (1, 3, 640, 640)\n",
      "\n",
      "0: 640x640 (no detections), 14.3ms\n",
      "Speed: 5.9ms preprocess, 14.3ms inference, 0.0ms postprocess per image at shape (1, 3, 640, 640)\n",
      "\n",
      "0: 640x640 (no detections), 23.8ms\n",
      "Speed: 6.2ms preprocess, 23.8ms inference, 1.5ms postprocess per image at shape (1, 3, 640, 640)\n",
      "\n",
      "0: 640x640 (no detections), 32.1ms\n",
      "Speed: 0.0ms preprocess, 32.1ms inference, 1.0ms postprocess per image at shape (1, 3, 640, 640)\n",
      "\n",
      "0: 640x640 1 fire signage, 26.4ms\n",
      "Speed: 5.0ms preprocess, 26.4ms inference, 2.0ms postprocess per image at shape (1, 3, 640, 640)\n",
      "\n",
      "0: 640x640 1 fire signage, 24.2ms\n",
      "Speed: 11.0ms preprocess, 24.2ms inference, 2.0ms postprocess per image at shape (1, 3, 640, 640)\n",
      "\n",
      "0: 640x640 2 fire signages, 26.2ms\n",
      "Speed: 6.0ms preprocess, 26.2ms inference, 1.0ms postprocess per image at shape (1, 3, 640, 640)\n",
      "\n",
      "0: 640x640 1 fire signage, 26.7ms\n",
      "Speed: 5.7ms preprocess, 26.7ms inference, 2.0ms postprocess per image at shape (1, 3, 640, 640)\n",
      "\n",
      "0: 640x640 1 fire signage, 24.8ms\n",
      "Speed: 5.0ms preprocess, 24.8ms inference, 1.5ms postprocess per image at shape (1, 3, 640, 640)\n",
      "\n",
      "0: 640x640 1 fire signage, 24.4ms\n",
      "Speed: 5.0ms preprocess, 24.4ms inference, 2.1ms postprocess per image at shape (1, 3, 640, 640)\n",
      "\n",
      "0: 640x640 1 fire signage, 22.7ms\n",
      "Speed: 6.1ms preprocess, 22.7ms inference, 3.0ms postprocess per image at shape (1, 3, 640, 640)\n",
      "\n",
      "0: 640x640 1 fire signage, 17.7ms\n",
      "Speed: 8.5ms preprocess, 17.7ms inference, 0.0ms postprocess per image at shape (1, 3, 640, 640)\n",
      "\n",
      "0: 640x640 2 fire signages, 24.7ms\n",
      "Speed: 5.0ms preprocess, 24.7ms inference, 1.0ms postprocess per image at shape (1, 3, 640, 640)\n",
      "\n",
      "0: 640x640 2 fire signages, 50.0ms\n",
      "Speed: 5.0ms preprocess, 50.0ms inference, 2.1ms postprocess per image at shape (1, 3, 640, 640)\n",
      "\n",
      "0: 640x640 1 fire signage, 1 helmet, 31.9ms\n",
      "Speed: 3.5ms preprocess, 31.9ms inference, 2.0ms postprocess per image at shape (1, 3, 640, 640)\n",
      "\n",
      "0: 640x640 1 fire signage, 1 helmet, 25.7ms\n",
      "Speed: 6.5ms preprocess, 25.7ms inference, 1.1ms postprocess per image at shape (1, 3, 640, 640)\n",
      "\n",
      "0: 640x640 1 fire signage, 1 helmet, 24.5ms\n",
      "Speed: 5.5ms preprocess, 24.5ms inference, 1.0ms postprocess per image at shape (1, 3, 640, 640)\n",
      "\n",
      "0: 640x640 1 fire signage, 1 helmet, 23.8ms\n",
      "Speed: 9.6ms preprocess, 23.8ms inference, 1.0ms postprocess per image at shape (1, 3, 640, 640)\n",
      "\n",
      "0: 640x640 1 fire signage, 1 helmet, 24.0ms\n",
      "Speed: 6.5ms preprocess, 24.0ms inference, 2.0ms postprocess per image at shape (1, 3, 640, 640)\n",
      "\n",
      "0: 640x640 1 fire signage, 1 helmet, 44.7ms\n",
      "Speed: 5.0ms preprocess, 44.7ms inference, 11.3ms postprocess per image at shape (1, 3, 640, 640)\n",
      "\n",
      "0: 640x640 1 fire signage, 1 helmet, 27.4ms\n",
      "Speed: 9.0ms preprocess, 27.4ms inference, 2.0ms postprocess per image at shape (1, 3, 640, 640)\n",
      "\n",
      "0: 640x640 1 fire signage, 1 helmet, 28.4ms\n",
      "Speed: 5.0ms preprocess, 28.4ms inference, 2.0ms postprocess per image at shape (1, 3, 640, 640)\n",
      "\n",
      "0: 640x640 1 fire extinguisher, 2 helmets, 27.6ms\n",
      "Speed: 5.1ms preprocess, 27.6ms inference, 1.0ms postprocess per image at shape (1, 3, 640, 640)\n",
      "\n",
      "0: 640x640 1 fire extinguisher, 2 helmets, 23.5ms\n",
      "Speed: 8.6ms preprocess, 23.5ms inference, 1.0ms postprocess per image at shape (1, 3, 640, 640)\n",
      "\n",
      "0: 640x640 1 fire extinguisher, 2 helmets, 27.0ms\n",
      "Speed: 6.1ms preprocess, 27.0ms inference, 2.0ms postprocess per image at shape (1, 3, 640, 640)\n",
      "\n",
      "0: 640x640 1 fire extinguisher, 1 helmet, 28.0ms\n",
      "Speed: 5.4ms preprocess, 28.0ms inference, 1.0ms postprocess per image at shape (1, 3, 640, 640)\n",
      "\n",
      "0: 640x640 1 fire extinguisher, 2 helmets, 24.1ms\n",
      "Speed: 7.0ms preprocess, 24.1ms inference, 2.0ms postprocess per image at shape (1, 3, 640, 640)\n",
      "\n",
      "0: 640x640 1 fire extinguisher, 2 helmets, 24.2ms\n",
      "Speed: 6.0ms preprocess, 24.2ms inference, 2.0ms postprocess per image at shape (1, 3, 640, 640)\n",
      "\n",
      "0: 640x640 1 fire extinguisher, 2 helmets, 27.1ms\n",
      "Speed: 8.3ms preprocess, 27.1ms inference, 1.0ms postprocess per image at shape (1, 3, 640, 640)\n",
      "\n",
      "0: 640x640 1 fire extinguisher, 2 helmets, 27.4ms\n",
      "Speed: 7.6ms preprocess, 27.4ms inference, 2.2ms postprocess per image at shape (1, 3, 640, 640)\n",
      "\n",
      "0: 640x640 1 fire extinguisher, 2 helmets, 26.7ms\n",
      "Speed: 7.4ms preprocess, 26.7ms inference, 1.0ms postprocess per image at shape (1, 3, 640, 640)\n",
      "\n",
      "0: 640x640 1 fire extinguisher, 1 helmet, 31.5ms\n",
      "Speed: 5.0ms preprocess, 31.5ms inference, 3.0ms postprocess per image at shape (1, 3, 640, 640)\n",
      "\n",
      "0: 640x640 1 fire extinguisher, 2 helmets, 21.8ms\n",
      "Speed: 5.0ms preprocess, 21.8ms inference, 0.0ms postprocess per image at shape (1, 3, 640, 640)\n",
      "\n",
      "0: 640x640 1 fire extinguisher, 1 fire signage, 1 helmet, 26.2ms\n",
      "Speed: 7.0ms preprocess, 26.2ms inference, 1.0ms postprocess per image at shape (1, 3, 640, 640)\n",
      "\n",
      "0: 640x640 1 fire extinguisher, 1 helmet, 26.4ms\n",
      "Speed: 3.8ms preprocess, 26.4ms inference, 1.0ms postprocess per image at shape (1, 3, 640, 640)\n",
      "\n",
      "0: 640x640 1 fire extinguisher, 1 fire signage, 1 helmet, 29.2ms\n",
      "Speed: 8.0ms preprocess, 29.2ms inference, 2.0ms postprocess per image at shape (1, 3, 640, 640)\n",
      "\n",
      "0: 640x640 1 fire extinguisher, 1 fire signage, 2 helmets, 45.5ms\n",
      "Speed: 5.0ms preprocess, 45.5ms inference, 1.8ms postprocess per image at shape (1, 3, 640, 640)\n",
      "\n",
      "0: 640x640 1 fire extinguisher, 1 fire signage, 2 helmets, 27.2ms\n",
      "Speed: 7.5ms preprocess, 27.2ms inference, 1.0ms postprocess per image at shape (1, 3, 640, 640)\n",
      "\n",
      "0: 640x640 1 fire extinguisher, 1 fire signage, 2 helmets, 24.1ms\n",
      "Speed: 7.5ms preprocess, 24.1ms inference, 3.0ms postprocess per image at shape (1, 3, 640, 640)\n",
      "\n",
      "0: 640x640 1 fire extinguisher, 1 fire signage, 2 helmets, 21.1ms\n",
      "Speed: 5.0ms preprocess, 21.1ms inference, 0.0ms postprocess per image at shape (1, 3, 640, 640)\n",
      "\n",
      "0: 640x640 3 fire extinguishers, 2 helmets, 20.7ms\n",
      "Speed: 11.9ms preprocess, 20.7ms inference, 5.4ms postprocess per image at shape (1, 3, 640, 640)\n",
      "\n",
      "0: 640x640 2 fire extinguishers, 2 helmets, 50.2ms\n",
      "Speed: 0.0ms preprocess, 50.2ms inference, 1.0ms postprocess per image at shape (1, 3, 640, 640)\n",
      "\n",
      "0: 640x640 1 fire extinguisher, 1 helmet, 21.0ms\n",
      "Speed: 5.9ms preprocess, 21.0ms inference, 0.0ms postprocess per image at shape (1, 3, 640, 640)\n",
      "\n",
      "0: 640x640 2 fire extinguishers, 2 fire signages, 1 helmet, 25.8ms\n",
      "Speed: 6.4ms preprocess, 25.8ms inference, 1.0ms postprocess per image at shape (1, 3, 640, 640)\n",
      "\n",
      "0: 640x640 1 helmet, 24.3ms\n",
      "Speed: 7.2ms preprocess, 24.3ms inference, 2.0ms postprocess per image at shape (1, 3, 640, 640)\n",
      "\n",
      "0: 640x640 1 helmet, 23.6ms\n",
      "Speed: 6.1ms preprocess, 23.6ms inference, 1.0ms postprocess per image at shape (1, 3, 640, 640)\n",
      "\n",
      "0: 640x640 2 fire signages, 1 helmet, 25.5ms\n",
      "Speed: 7.0ms preprocess, 25.5ms inference, 2.0ms postprocess per image at shape (1, 3, 640, 640)\n",
      "\n",
      "0: 640x640 1 fire extinguisher, 3 fire signages, 2 helmets, 24.4ms\n",
      "Speed: 18.9ms preprocess, 24.4ms inference, 1.3ms postprocess per image at shape (1, 3, 640, 640)\n",
      "\n",
      "0: 640x640 2 fire signages, 2 helmets, 23.5ms\n",
      "Speed: 5.6ms preprocess, 23.5ms inference, 2.0ms postprocess per image at shape (1, 3, 640, 640)\n",
      "\n",
      "0: 640x640 1 fire extinguisher, 2 fire signages, 1 helmet, 26.8ms\n",
      "Speed: 9.3ms preprocess, 26.8ms inference, 2.3ms postprocess per image at shape (1, 3, 640, 640)\n",
      "\n",
      "0: 640x640 2 fire signages, 1 helmet, 26.5ms\n",
      "Speed: 8.2ms preprocess, 26.5ms inference, 2.0ms postprocess per image at shape (1, 3, 640, 640)\n",
      "\n",
      "0: 640x640 1 fire extinguisher, 2 fire signages, 2 helmets, 17.7ms\n",
      "Speed: 6.0ms preprocess, 17.7ms inference, 1.5ms postprocess per image at shape (1, 3, 640, 640)\n",
      "\n",
      "0: 640x640 1 fire extinguisher, 2 fire signages, 1 helmet, 19.4ms\n",
      "Speed: 8.0ms preprocess, 19.4ms inference, 3.0ms postprocess per image at shape (1, 3, 640, 640)\n",
      "\n",
      "0: 640x640 2 fire signages, 3 helmets, 19.2ms\n",
      "Speed: 11.0ms preprocess, 19.2ms inference, 2.5ms postprocess per image at shape (1, 3, 640, 640)\n",
      "\n",
      "0: 640x640 3 fire signages, 3 helmets, 17.6ms\n",
      "Speed: 5.0ms preprocess, 17.6ms inference, 1.5ms postprocess per image at shape (1, 3, 640, 640)\n",
      "\n",
      "0: 640x640 3 fire signages, 3 helmets, 20.8ms\n",
      "Speed: 5.8ms preprocess, 20.8ms inference, 2.0ms postprocess per image at shape (1, 3, 640, 640)\n",
      "\n",
      "0: 640x640 3 fire signages, 3 helmets, 27.2ms\n",
      "Speed: 3.9ms preprocess, 27.2ms inference, 2.0ms postprocess per image at shape (1, 3, 640, 640)\n",
      "\n",
      "0: 640x640 3 fire signages, 3 helmets, 23.5ms\n",
      "Speed: 8.0ms preprocess, 23.5ms inference, 2.0ms postprocess per image at shape (1, 3, 640, 640)\n",
      "\n",
      "0: 640x640 2 fire signages, 1 helmet, 22.7ms\n",
      "Speed: 6.7ms preprocess, 22.7ms inference, 2.0ms postprocess per image at shape (1, 3, 640, 640)\n",
      "\n",
      "0: 640x640 2 fire signages, 1 helmet, 23.0ms\n",
      "Speed: 11.9ms preprocess, 23.0ms inference, 1.0ms postprocess per image at shape (1, 3, 640, 640)\n",
      "\n",
      "0: 640x640 2 fire signages, 1 helmet, 24.3ms\n",
      "Speed: 6.3ms preprocess, 24.3ms inference, 2.0ms postprocess per image at shape (1, 3, 640, 640)\n",
      "\n",
      "0: 640x640 2 fire signages, 1 helmet, 26.3ms\n",
      "Speed: 6.0ms preprocess, 26.3ms inference, 1.0ms postprocess per image at shape (1, 3, 640, 640)\n",
      "\n",
      "0: 640x640 2 fire signages, 1 helmet, 25.0ms\n",
      "Speed: 11.1ms preprocess, 25.0ms inference, 1.0ms postprocess per image at shape (1, 3, 640, 640)\n",
      "\n",
      "0: 640x640 1 fire extinguisher, 1 helmet, 24.2ms\n",
      "Speed: 6.1ms preprocess, 24.2ms inference, 0.0ms postprocess per image at shape (1, 3, 640, 640)\n",
      "\n",
      "0: 640x640 1 helmet, 25.1ms\n",
      "Speed: 6.0ms preprocess, 25.1ms inference, 1.2ms postprocess per image at shape (1, 3, 640, 640)\n",
      "\n",
      "0: 640x640 1 helmet, 26.2ms\n",
      "Speed: 8.2ms preprocess, 26.2ms inference, 2.0ms postprocess per image at shape (1, 3, 640, 640)\n",
      "\n",
      "0: 640x640 1 helmet, 26.6ms\n",
      "Speed: 7.7ms preprocess, 26.6ms inference, 1.9ms postprocess per image at shape (1, 3, 640, 640)\n",
      "\n",
      "0: 640x640 1 helmet, 25.5ms\n",
      "Speed: 7.3ms preprocess, 25.5ms inference, 2.0ms postprocess per image at shape (1, 3, 640, 640)\n",
      "\n",
      "0: 640x640 1 helmet, 25.2ms\n",
      "Speed: 9.2ms preprocess, 25.2ms inference, 2.1ms postprocess per image at shape (1, 3, 640, 640)\n",
      "\n",
      "0: 640x640 4 fire signages, 25.7ms\n",
      "Speed: 11.0ms preprocess, 25.7ms inference, 3.0ms postprocess per image at shape (1, 3, 640, 640)\n",
      "\n",
      "0: 640x640 5 fire signages, 26.9ms\n",
      "Speed: 12.0ms preprocess, 26.9ms inference, 2.5ms postprocess per image at shape (1, 3, 640, 640)\n",
      "\n",
      "0: 640x640 4 fire signages, 25.7ms\n",
      "Speed: 10.7ms preprocess, 25.7ms inference, 2.0ms postprocess per image at shape (1, 3, 640, 640)\n",
      "\n",
      "0: 640x640 5 fire signages, 26.5ms\n",
      "Speed: 9.0ms preprocess, 26.5ms inference, 2.0ms postprocess per image at shape (1, 3, 640, 640)\n",
      "\n",
      "0: 640x640 3 fire signages, 29.5ms\n",
      "Speed: 18.6ms preprocess, 29.5ms inference, 1.0ms postprocess per image at shape (1, 3, 640, 640)\n",
      "\n",
      "0: 640x640 5 fire signages, 26.7ms\n",
      "Speed: 8.5ms preprocess, 26.7ms inference, 1.0ms postprocess per image at shape (1, 3, 640, 640)\n",
      "\n",
      "0: 640x640 5 fire signages, 25.6ms\n",
      "Speed: 5.0ms preprocess, 25.6ms inference, 2.0ms postprocess per image at shape (1, 3, 640, 640)\n",
      "\n",
      "0: 640x640 7 fire signages, 26.3ms\n",
      "Speed: 6.0ms preprocess, 26.3ms inference, 1.0ms postprocess per image at shape (1, 3, 640, 640)\n",
      "\n",
      "0: 640x640 7 fire signages, 23.6ms\n",
      "Speed: 7.0ms preprocess, 23.6ms inference, 1.0ms postprocess per image at shape (1, 3, 640, 640)\n",
      "\n",
      "0: 640x640 6 fire signages, 24.6ms\n",
      "Speed: 4.8ms preprocess, 24.6ms inference, 1.0ms postprocess per image at shape (1, 3, 640, 640)\n",
      "\n",
      "0: 640x640 6 fire signages, 38.9ms\n",
      "Speed: 5.0ms preprocess, 38.9ms inference, 1.0ms postprocess per image at shape (1, 3, 640, 640)\n",
      "\n",
      "0: 640x640 6 fire signages, 23.8ms\n",
      "Speed: 7.4ms preprocess, 23.8ms inference, 2.0ms postprocess per image at shape (1, 3, 640, 640)\n",
      "\n",
      "0: 640x640 4 fire signages, 22.7ms\n",
      "Speed: 6.0ms preprocess, 22.7ms inference, 1.0ms postprocess per image at shape (1, 3, 640, 640)\n",
      "\n",
      "0: 640x640 4 fire signages, 24.8ms\n",
      "Speed: 5.9ms preprocess, 24.8ms inference, 1.0ms postprocess per image at shape (1, 3, 640, 640)\n",
      "\n",
      "0: 640x640 6 fire signages, 23.7ms\n",
      "Speed: 5.7ms preprocess, 23.7ms inference, 1.4ms postprocess per image at shape (1, 3, 640, 640)\n",
      "\n",
      "0: 640x640 5 fire signages, 23.4ms\n",
      "Speed: 6.4ms preprocess, 23.4ms inference, 1.1ms postprocess per image at shape (1, 3, 640, 640)\n",
      "\n",
      "0: 640x640 5 fire signages, 24.4ms\n",
      "Speed: 7.1ms preprocess, 24.4ms inference, 1.0ms postprocess per image at shape (1, 3, 640, 640)\n",
      "\n",
      "0: 640x640 5 fire signages, 23.8ms\n",
      "Speed: 8.5ms preprocess, 23.8ms inference, 1.0ms postprocess per image at shape (1, 3, 640, 640)\n",
      "\n",
      "0: 640x640 5 fire signages, 28.5ms\n",
      "Speed: 6.0ms preprocess, 28.5ms inference, 1.0ms postprocess per image at shape (1, 3, 640, 640)\n",
      "\n",
      "0: 640x640 6 fire signages, 26.8ms\n",
      "Speed: 4.6ms preprocess, 26.8ms inference, 1.0ms postprocess per image at shape (1, 3, 640, 640)\n",
      "\n",
      "0: 640x640 5 fire signages, 24.5ms\n",
      "Speed: 9.0ms preprocess, 24.5ms inference, 1.0ms postprocess per image at shape (1, 3, 640, 640)\n",
      "\n",
      "0: 640x640 6 fire signages, 22.9ms\n",
      "Speed: 7.2ms preprocess, 22.9ms inference, 1.0ms postprocess per image at shape (1, 3, 640, 640)\n",
      "\n",
      "0: 640x640 5 fire signages, 28.3ms\n",
      "Speed: 2.9ms preprocess, 28.3ms inference, 1.0ms postprocess per image at shape (1, 3, 640, 640)\n",
      "\n",
      "0: 640x640 5 fire signages, 24.4ms\n",
      "Speed: 6.0ms preprocess, 24.4ms inference, 2.0ms postprocess per image at shape (1, 3, 640, 640)\n",
      "\n",
      "0: 640x640 6 fire signages, 23.8ms\n",
      "Speed: 6.0ms preprocess, 23.8ms inference, 1.6ms postprocess per image at shape (1, 3, 640, 640)\n",
      "\n",
      "0: 640x640 5 fire signages, 23.4ms\n",
      "Speed: 7.0ms preprocess, 23.4ms inference, 1.0ms postprocess per image at shape (1, 3, 640, 640)\n",
      "\n",
      "0: 640x640 5 fire signages, 24.7ms\n",
      "Speed: 5.5ms preprocess, 24.7ms inference, 1.0ms postprocess per image at shape (1, 3, 640, 640)\n",
      "\n",
      "0: 640x640 5 fire signages, 25.5ms\n",
      "Speed: 5.0ms preprocess, 25.5ms inference, 2.0ms postprocess per image at shape (1, 3, 640, 640)\n",
      "\n",
      "0: 640x640 5 fire signages, 27.6ms\n",
      "Speed: 5.0ms preprocess, 27.6ms inference, 1.0ms postprocess per image at shape (1, 3, 640, 640)\n",
      "\n",
      "0: 640x640 3 fire signages, 24.5ms\n",
      "Speed: 8.7ms preprocess, 24.5ms inference, 2.0ms postprocess per image at shape (1, 3, 640, 640)\n",
      "\n",
      "0: 640x640 4 fire signages, 24.8ms\n",
      "Speed: 6.0ms preprocess, 24.8ms inference, 1.4ms postprocess per image at shape (1, 3, 640, 640)\n",
      "\n",
      "0: 640x640 4 fire signages, 25.4ms\n",
      "Speed: 5.4ms preprocess, 25.4ms inference, 1.0ms postprocess per image at shape (1, 3, 640, 640)\n",
      "\n",
      "0: 640x640 1 fire extinguisher, 3 fire signages, 24.0ms\n",
      "Speed: 14.1ms preprocess, 24.0ms inference, 2.0ms postprocess per image at shape (1, 3, 640, 640)\n",
      "\n",
      "0: 640x640 1 fire extinguisher, 3 fire signages, 25.4ms\n",
      "Speed: 5.0ms preprocess, 25.4ms inference, 1.0ms postprocess per image at shape (1, 3, 640, 640)\n",
      "\n",
      "0: 640x640 1 fire extinguisher, 3 fire signages, 24.7ms\n",
      "Speed: 4.5ms preprocess, 24.7ms inference, 1.0ms postprocess per image at shape (1, 3, 640, 640)\n",
      "\n",
      "0: 640x640 1 fire extinguisher, 3 fire signages, 24.6ms\n",
      "Speed: 6.0ms preprocess, 24.6ms inference, 1.0ms postprocess per image at shape (1, 3, 640, 640)\n",
      "\n",
      "0: 640x640 1 fire extinguisher, 3 fire signages, 25.2ms\n",
      "Speed: 8.0ms preprocess, 25.2ms inference, 1.0ms postprocess per image at shape (1, 3, 640, 640)\n",
      "\n",
      "0: 640x640 1 fire extinguisher, 3 fire signages, 25.3ms\n",
      "Speed: 9.0ms preprocess, 25.3ms inference, 2.0ms postprocess per image at shape (1, 3, 640, 640)\n",
      "\n",
      "0: 640x640 1 fire extinguisher, 3 fire signages, 25.9ms\n",
      "Speed: 6.4ms preprocess, 25.9ms inference, 1.0ms postprocess per image at shape (1, 3, 640, 640)\n",
      "\n",
      "0: 640x640 6 fire signages, 25.8ms\n",
      "Speed: 5.0ms preprocess, 25.8ms inference, 0.1ms postprocess per image at shape (1, 3, 640, 640)\n",
      "\n",
      "0: 640x640 4 fire signages, 25.7ms\n",
      "Speed: 7.5ms preprocess, 25.7ms inference, 1.0ms postprocess per image at shape (1, 3, 640, 640)\n",
      "\n",
      "0: 640x640 5 fire signages, 23.5ms\n",
      "Speed: 6.6ms preprocess, 23.5ms inference, 3.3ms postprocess per image at shape (1, 3, 640, 640)\n",
      "\n",
      "0: 640x640 5 fire signages, 24.3ms\n",
      "Speed: 4.0ms preprocess, 24.3ms inference, 0.5ms postprocess per image at shape (1, 3, 640, 640)\n",
      "\n",
      "0: 640x640 5 fire signages, 24.4ms\n",
      "Speed: 5.0ms preprocess, 24.4ms inference, 1.0ms postprocess per image at shape (1, 3, 640, 640)\n",
      "\n",
      "0: 640x640 4 fire signages, 25.9ms\n",
      "Speed: 8.0ms preprocess, 25.9ms inference, 1.0ms postprocess per image at shape (1, 3, 640, 640)\n",
      "\n",
      "0: 640x640 4 fire signages, 26.2ms\n",
      "Speed: 5.3ms preprocess, 26.2ms inference, 1.0ms postprocess per image at shape (1, 3, 640, 640)\n",
      "\n",
      "0: 640x640 4 fire signages, 25.4ms\n",
      "Speed: 9.0ms preprocess, 25.4ms inference, 1.0ms postprocess per image at shape (1, 3, 640, 640)\n",
      "\n",
      "0: 640x640 4 fire signages, 23.5ms\n",
      "Speed: 6.5ms preprocess, 23.5ms inference, 1.0ms postprocess per image at shape (1, 3, 640, 640)\n",
      "\n",
      "0: 640x640 4 fire signages, 25.9ms\n",
      "Speed: 6.2ms preprocess, 25.9ms inference, 1.0ms postprocess per image at shape (1, 3, 640, 640)\n",
      "\n",
      "0: 640x640 4 fire signages, 26.3ms\n",
      "Speed: 8.0ms preprocess, 26.3ms inference, 1.0ms postprocess per image at shape (1, 3, 640, 640)\n",
      "\n",
      "0: 640x640 4 fire signages, 23.7ms\n",
      "Speed: 7.0ms preprocess, 23.7ms inference, 2.0ms postprocess per image at shape (1, 3, 640, 640)\n",
      "\n",
      "0: 640x640 6 fire signages, 25.5ms\n",
      "Speed: 12.0ms preprocess, 25.5ms inference, 2.0ms postprocess per image at shape (1, 3, 640, 640)\n",
      "\n",
      "0: 640x640 5 fire signages, 23.1ms\n",
      "Speed: 5.6ms preprocess, 23.1ms inference, 2.0ms postprocess per image at shape (1, 3, 640, 640)\n",
      "\n",
      "0: 640x640 5 fire signages, 23.8ms\n",
      "Speed: 7.0ms preprocess, 23.8ms inference, 1.3ms postprocess per image at shape (1, 3, 640, 640)\n",
      "\n",
      "0: 640x640 6 fire signages, 25.8ms\n",
      "Speed: 5.3ms preprocess, 25.8ms inference, 2.0ms postprocess per image at shape (1, 3, 640, 640)\n",
      "\n",
      "0: 640x640 4 fire signages, 24.0ms\n",
      "Speed: 5.6ms preprocess, 24.0ms inference, 1.0ms postprocess per image at shape (1, 3, 640, 640)\n",
      "\n",
      "0: 640x640 4 fire signages, 23.6ms\n",
      "Speed: 9.0ms preprocess, 23.6ms inference, 2.0ms postprocess per image at shape (1, 3, 640, 640)\n",
      "\n",
      "0: 640x640 4 fire signages, 24.6ms\n",
      "Speed: 7.9ms preprocess, 24.6ms inference, 1.0ms postprocess per image at shape (1, 3, 640, 640)\n",
      "\n",
      "0: 640x640 6 fire signages, 24.4ms\n",
      "Speed: 6.2ms preprocess, 24.4ms inference, 1.0ms postprocess per image at shape (1, 3, 640, 640)\n",
      "\n",
      "0: 640x640 1 fire extinguisher, 3 fire signages, 23.5ms\n",
      "Speed: 7.0ms preprocess, 23.5ms inference, 2.0ms postprocess per image at shape (1, 3, 640, 640)\n",
      "\n",
      "0: 640x640 6 fire signages, 25.4ms\n",
      "Speed: 8.0ms preprocess, 25.4ms inference, 2.0ms postprocess per image at shape (1, 3, 640, 640)\n",
      "\n",
      "0: 640x640 5 fire signages, 23.9ms\n",
      "Speed: 4.0ms preprocess, 23.9ms inference, 1.0ms postprocess per image at shape (1, 3, 640, 640)\n",
      "\n",
      "0: 640x640 6 fire signages, 24.3ms\n",
      "Speed: 5.2ms preprocess, 24.3ms inference, 1.0ms postprocess per image at shape (1, 3, 640, 640)\n",
      "\n",
      "0: 640x640 4 fire signages, 25.1ms\n",
      "Speed: 10.0ms preprocess, 25.1ms inference, 2.0ms postprocess per image at shape (1, 3, 640, 640)\n",
      "\n",
      "0: 640x640 1 fire extinguisher, 5 fire signages, 25.7ms\n",
      "Speed: 7.2ms preprocess, 25.7ms inference, 3.0ms postprocess per image at shape (1, 3, 640, 640)\n",
      "\n",
      "0: 640x640 1 fire extinguisher, 1 helmet, 22.6ms\n",
      "Speed: 6.7ms preprocess, 22.6ms inference, 2.0ms postprocess per image at shape (1, 3, 640, 640)\n",
      "\n",
      "0: 640x640 1 fire extinguisher, 1 helmet, 24.6ms\n",
      "Speed: 5.0ms preprocess, 24.6ms inference, 2.0ms postprocess per image at shape (1, 3, 640, 640)\n",
      "\n",
      "0: 640x640 1 fire extinguisher, 1 helmet, 22.2ms\n",
      "Speed: 6.0ms preprocess, 22.2ms inference, 0.0ms postprocess per image at shape (1, 3, 640, 640)\n",
      "\n",
      "0: 640x640 1 fire extinguisher, 1 helmet, 26.1ms\n",
      "Speed: 8.7ms preprocess, 26.1ms inference, 1.0ms postprocess per image at shape (1, 3, 640, 640)\n",
      "\n",
      "0: 640x640 2 fire extinguishers, 1 helmet, 27.9ms\n",
      "Speed: 1.4ms preprocess, 27.9ms inference, 2.0ms postprocess per image at shape (1, 3, 640, 640)\n",
      "\n",
      "0: 640x640 1 fire extinguisher, 23.8ms\n",
      "Speed: 7.5ms preprocess, 23.8ms inference, 2.0ms postprocess per image at shape (1, 3, 640, 640)\n",
      "\n",
      "0: 640x640 1 fire extinguisher, 25.1ms\n",
      "Speed: 9.0ms preprocess, 25.1ms inference, 1.0ms postprocess per image at shape (1, 3, 640, 640)\n",
      "\n",
      "0: 640x640 1 fire extinguisher, 1 helmet, 22.3ms\n",
      "Speed: 5.0ms preprocess, 22.3ms inference, 0.0ms postprocess per image at shape (1, 3, 640, 640)\n",
      "\n",
      "0: 640x640 1 fire extinguisher, 45.0ms\n",
      "Speed: 7.0ms preprocess, 45.0ms inference, 1.3ms postprocess per image at shape (1, 3, 640, 640)\n",
      "\n",
      "0: 640x640 1 fire extinguisher, 1 helmet, 31.2ms\n",
      "Speed: 2.6ms preprocess, 31.2ms inference, 1.0ms postprocess per image at shape (1, 3, 640, 640)\n",
      "\n",
      "0: 640x640 1 fire extinguisher, 23.7ms\n",
      "Speed: 8.7ms preprocess, 23.7ms inference, 2.0ms postprocess per image at shape (1, 3, 640, 640)\n",
      "\n",
      "0: 640x640 1 fire extinguisher, 1 helmet, 24.7ms\n",
      "Speed: 6.3ms preprocess, 24.7ms inference, 2.0ms postprocess per image at shape (1, 3, 640, 640)\n",
      "\n",
      "0: 640x640 1 fire extinguisher, 1 helmet, 25.0ms\n",
      "Speed: 24.5ms preprocess, 25.0ms inference, 2.0ms postprocess per image at shape (1, 3, 640, 640)\n",
      "\n",
      "0: 640x640 1 fire extinguisher, 16.8ms\n",
      "Speed: 10.7ms preprocess, 16.8ms inference, 0.0ms postprocess per image at shape (1, 3, 640, 640)\n",
      "\n",
      "0: 640x640 1 fire extinguisher, 1 helmet, 25.7ms\n",
      "Speed: 5.5ms preprocess, 25.7ms inference, 3.0ms postprocess per image at shape (1, 3, 640, 640)\n",
      "\n",
      "0: 640x640 1 fire extinguisher, 1 helmet, 24.7ms\n",
      "Speed: 10.4ms preprocess, 24.7ms inference, 3.0ms postprocess per image at shape (1, 3, 640, 640)\n",
      "\n",
      "0: 640x640 1 fire extinguisher, 2 helmets, 24.7ms\n",
      "Speed: 7.6ms preprocess, 24.7ms inference, 2.0ms postprocess per image at shape (1, 3, 640, 640)\n",
      "\n",
      "0: 640x640 1 fire extinguisher, 2 helmets, 23.7ms\n",
      "Speed: 7.5ms preprocess, 23.7ms inference, 3.4ms postprocess per image at shape (1, 3, 640, 640)\n",
      "\n",
      "0: 640x640 1 fire extinguisher, 2 helmets, 26.2ms\n",
      "Speed: 6.0ms preprocess, 26.2ms inference, 1.0ms postprocess per image at shape (1, 3, 640, 640)\n",
      "\n",
      "0: 640x640 1 fire extinguisher, 2 helmets, 44.1ms\n",
      "Speed: 0.5ms preprocess, 44.1ms inference, 1.0ms postprocess per image at shape (1, 3, 640, 640)\n",
      "\n",
      "0: 640x640 1 fire extinguisher, 1 helmet, 26.4ms\n",
      "Speed: 6.5ms preprocess, 26.4ms inference, 2.9ms postprocess per image at shape (1, 3, 640, 640)\n",
      "\n",
      "0: 640x640 1 fire extinguisher, 2 helmets, 24.4ms\n",
      "Speed: 8.0ms preprocess, 24.4ms inference, 1.0ms postprocess per image at shape (1, 3, 640, 640)\n",
      "\n",
      "0: 640x640 2 helmets, 23.9ms\n",
      "Speed: 5.0ms preprocess, 23.9ms inference, 1.2ms postprocess per image at shape (1, 3, 640, 640)\n",
      "\n",
      "0: 640x640 2 helmets, 24.3ms\n",
      "Speed: 7.0ms preprocess, 24.3ms inference, 1.0ms postprocess per image at shape (1, 3, 640, 640)\n",
      "\n",
      "0: 640x640 2 helmets, 24.1ms\n",
      "Speed: 8.0ms preprocess, 24.1ms inference, 1.0ms postprocess per image at shape (1, 3, 640, 640)\n",
      "\n",
      "0: 640x640 2 helmets, 24.3ms\n",
      "Speed: 6.0ms preprocess, 24.3ms inference, 1.0ms postprocess per image at shape (1, 3, 640, 640)\n",
      "\n",
      "0: 640x640 2 helmets, 23.9ms\n",
      "Speed: 5.0ms preprocess, 23.9ms inference, 1.0ms postprocess per image at shape (1, 3, 640, 640)\n",
      "\n",
      "0: 640x640 2 helmets, 26.1ms\n",
      "Speed: 8.2ms preprocess, 26.1ms inference, 2.3ms postprocess per image at shape (1, 3, 640, 640)\n",
      "\n",
      "0: 640x640 2 helmets, 23.9ms\n",
      "Speed: 9.1ms preprocess, 23.9ms inference, 2.0ms postprocess per image at shape (1, 3, 640, 640)\n",
      "\n",
      "0: 640x640 2 helmets, 25.5ms\n",
      "Speed: 6.2ms preprocess, 25.5ms inference, 1.6ms postprocess per image at shape (1, 3, 640, 640)\n",
      "\n",
      "0: 640x640 1 fire extinguisher, 2 helmets, 25.9ms\n",
      "Speed: 5.7ms preprocess, 25.9ms inference, 3.0ms postprocess per image at shape (1, 3, 640, 640)\n",
      "\n",
      "0: 640x640 1 fire extinguisher, 2 helmets, 24.7ms\n",
      "Speed: 6.0ms preprocess, 24.7ms inference, 2.0ms postprocess per image at shape (1, 3, 640, 640)\n",
      "\n",
      "0: 640x640 1 fire extinguisher, 2 helmets, 24.8ms\n",
      "Speed: 6.7ms preprocess, 24.8ms inference, 0.5ms postprocess per image at shape (1, 3, 640, 640)\n",
      "\n",
      "0: 640x640 1 fire extinguisher, 2 helmets, 24.3ms\n",
      "Speed: 8.0ms preprocess, 24.3ms inference, 1.6ms postprocess per image at shape (1, 3, 640, 640)\n",
      "\n",
      "0: 640x640 1 fire extinguisher, 2 helmets, 24.2ms\n",
      "Speed: 7.2ms preprocess, 24.2ms inference, 1.0ms postprocess per image at shape (1, 3, 640, 640)\n",
      "\n",
      "0: 640x640 1 fire extinguisher, 2 helmets, 23.5ms\n",
      "Speed: 7.2ms preprocess, 23.5ms inference, 3.0ms postprocess per image at shape (1, 3, 640, 640)\n",
      "\n",
      "0: 640x640 1 fire extinguisher, 2 helmets, 25.4ms\n",
      "Speed: 13.6ms preprocess, 25.4ms inference, 2.0ms postprocess per image at shape (1, 3, 640, 640)\n",
      "\n",
      "0: 640x640 1 fire extinguisher, 1 fire signage, 2 helmets, 24.8ms\n",
      "Speed: 5.5ms preprocess, 24.8ms inference, 2.5ms postprocess per image at shape (1, 3, 640, 640)\n",
      "\n",
      "0: 640x640 1 fire extinguisher, 2 helmets, 25.0ms\n",
      "Speed: 7.0ms preprocess, 25.0ms inference, 2.0ms postprocess per image at shape (1, 3, 640, 640)\n",
      "\n",
      "0: 640x640 1 fire extinguisher, 1 fire signage, 2 helmets, 24.8ms\n",
      "Speed: 6.7ms preprocess, 24.8ms inference, 2.7ms postprocess per image at shape (1, 3, 640, 640)\n",
      "\n",
      "0: 640x640 1 fire extinguisher, 1 fire signage, 2 helmets, 23.6ms\n",
      "Speed: 7.0ms preprocess, 23.6ms inference, 1.6ms postprocess per image at shape (1, 3, 640, 640)\n",
      "\n",
      "0: 640x640 1 fire extinguisher, 1 fire signage, 2 helmets, 24.9ms\n",
      "Speed: 6.0ms preprocess, 24.9ms inference, 3.0ms postprocess per image at shape (1, 3, 640, 640)\n",
      "\n",
      "0: 640x640 2 helmets, 26.5ms\n",
      "Speed: 6.0ms preprocess, 26.5ms inference, 1.0ms postprocess per image at shape (1, 3, 640, 640)\n",
      "\n",
      "0: 640x640 1 fire extinguisher, 2 helmets, 23.8ms\n",
      "Speed: 1.8ms preprocess, 23.8ms inference, 1.0ms postprocess per image at shape (1, 3, 640, 640)\n",
      "\n",
      "0: 640x640 1 fire extinguisher, 2 helmets, 23.5ms\n",
      "Speed: 7.0ms preprocess, 23.5ms inference, 0.6ms postprocess per image at shape (1, 3, 640, 640)\n",
      "\n",
      "0: 640x640 2 helmets, 20.1ms\n",
      "Speed: 9.0ms preprocess, 20.1ms inference, 1.0ms postprocess per image at shape (1, 3, 640, 640)\n",
      "\n",
      "0: 640x640 2 helmets, 18.8ms\n",
      "Speed: 4.7ms preprocess, 18.8ms inference, 2.0ms postprocess per image at shape (1, 3, 640, 640)\n",
      "\n",
      "0: 640x640 2 helmets, 23.2ms\n",
      "Speed: 6.1ms preprocess, 23.2ms inference, 2.0ms postprocess per image at shape (1, 3, 640, 640)\n",
      "\n",
      "0: 640x640 2 helmets, 20.8ms\n",
      "Speed: 9.0ms preprocess, 20.8ms inference, 2.3ms postprocess per image at shape (1, 3, 640, 640)\n",
      "\n",
      "0: 640x640 2 helmets, 18.1ms\n",
      "Speed: 6.0ms preprocess, 18.1ms inference, 1.0ms postprocess per image at shape (1, 3, 640, 640)\n",
      "\n",
      "0: 640x640 2 fire extinguishers, 1 fire signage, 21.5ms\n",
      "Speed: 5.0ms preprocess, 21.5ms inference, 1.0ms postprocess per image at shape (1, 3, 640, 640)\n",
      "\n",
      "0: 640x640 2 fire extinguishers, 1 fire signage, 17.4ms\n",
      "Speed: 9.0ms preprocess, 17.4ms inference, 1.3ms postprocess per image at shape (1, 3, 640, 640)\n",
      "\n",
      "0: 640x640 3 fire extinguishers, 1 fire signage, 28.6ms\n",
      "Speed: 6.9ms preprocess, 28.6ms inference, 1.0ms postprocess per image at shape (1, 3, 640, 640)\n",
      "\n",
      "0: 640x640 3 fire extinguishers, 1 fire signage, 20.4ms\n",
      "Speed: 6.1ms preprocess, 20.4ms inference, 1.0ms postprocess per image at shape (1, 3, 640, 640)\n",
      "\n",
      "0: 640x640 2 fire extinguishers, 1 fire signage, 11.5ms\n",
      "Speed: 8.0ms preprocess, 11.5ms inference, 0.0ms postprocess per image at shape (1, 3, 640, 640)\n",
      "\n",
      "0: 640x640 4 fire extinguishers, 2 fire signages, 17.3ms\n",
      "Speed: 8.0ms preprocess, 17.3ms inference, 2.5ms postprocess per image at shape (1, 3, 640, 640)\n",
      "\n",
      "0: 640x640 4 fire extinguishers, 2 fire signages, 17.9ms\n",
      "Speed: 7.7ms preprocess, 17.9ms inference, 1.0ms postprocess per image at shape (1, 3, 640, 640)\n",
      "\n",
      "0: 640x640 4 fire extinguishers, 16.7ms\n",
      "Speed: 7.6ms preprocess, 16.7ms inference, 1.0ms postprocess per image at shape (1, 3, 640, 640)\n",
      "\n",
      "0: 640x640 4 fire extinguishers, 18.5ms\n",
      "Speed: 5.0ms preprocess, 18.5ms inference, 1.6ms postprocess per image at shape (1, 3, 640, 640)\n",
      "\n",
      "0: 640x640 5 fire extinguishers, 15.0ms\n",
      "Speed: 6.0ms preprocess, 15.0ms inference, 0.0ms postprocess per image at shape (1, 3, 640, 640)\n",
      "\n",
      "0: 640x640 4 fire extinguishers, 1 fire signage, 19.8ms\n",
      "Speed: 7.0ms preprocess, 19.8ms inference, 1.0ms postprocess per image at shape (1, 3, 640, 640)\n",
      "\n",
      "0: 640x640 3 fire extinguishers, 1 fire signage, 19.7ms\n",
      "Speed: 8.6ms preprocess, 19.7ms inference, 1.0ms postprocess per image at shape (1, 3, 640, 640)\n",
      "\n",
      "0: 640x640 1 fire extinguisher, 1 fire signage, 23.0ms\n",
      "Speed: 6.0ms preprocess, 23.0ms inference, 1.0ms postprocess per image at shape (1, 3, 640, 640)\n",
      "\n",
      "0: 640x640 1 fire extinguisher, 1 fire signage, 16.7ms\n",
      "Speed: 6.0ms preprocess, 16.7ms inference, 1.0ms postprocess per image at shape (1, 3, 640, 640)\n",
      "\n",
      "0: 640x640 3 fire extinguishers, 1 fire signage, 15.5ms\n",
      "Speed: 5.9ms preprocess, 15.5ms inference, 2.0ms postprocess per image at shape (1, 3, 640, 640)\n",
      "\n",
      "0: 640x640 4 fire extinguishers, 1 fire signage, 19.0ms\n",
      "Speed: 5.0ms preprocess, 19.0ms inference, 1.1ms postprocess per image at shape (1, 3, 640, 640)\n",
      "\n",
      "0: 640x640 4 fire extinguishers, 1 fire signage, 15.6ms\n",
      "Speed: 9.0ms preprocess, 15.6ms inference, 1.0ms postprocess per image at shape (1, 3, 640, 640)\n",
      "\n",
      "0: 640x640 2 fire extinguishers, 1 fire signage, 16.4ms\n",
      "Speed: 7.8ms preprocess, 16.4ms inference, 1.2ms postprocess per image at shape (1, 3, 640, 640)\n",
      "\n",
      "0: 640x640 2 fire extinguishers, 1 fire signage, 17.8ms\n",
      "Speed: 5.0ms preprocess, 17.8ms inference, 1.2ms postprocess per image at shape (1, 3, 640, 640)\n",
      "\n",
      "0: 640x640 5 fire extinguishers, 1 fire signage, 17.5ms\n",
      "Speed: 6.0ms preprocess, 17.5ms inference, 2.0ms postprocess per image at shape (1, 3, 640, 640)\n",
      "\n",
      "0: 640x640 4 fire extinguishers, 1 fire signage, 16.8ms\n",
      "Speed: 6.0ms preprocess, 16.8ms inference, 0.5ms postprocess per image at shape (1, 3, 640, 640)\n",
      "\n",
      "0: 640x640 4 fire extinguishers, 1 fire signage, 21.0ms\n",
      "Speed: 5.2ms preprocess, 21.0ms inference, 1.0ms postprocess per image at shape (1, 3, 640, 640)\n",
      "\n",
      "0: 640x640 3 fire extinguishers, 1 fire signage, 19.7ms\n",
      "Speed: 10.0ms preprocess, 19.7ms inference, 1.0ms postprocess per image at shape (1, 3, 640, 640)\n",
      "\n",
      "0: 640x640 4 fire extinguishers, 1 fire signage, 20.2ms\n",
      "Speed: 5.6ms preprocess, 20.2ms inference, 1.7ms postprocess per image at shape (1, 3, 640, 640)\n",
      "\n",
      "0: 640x640 2 fire extinguishers, 1 fire signage, 21.3ms\n",
      "Speed: 5.0ms preprocess, 21.3ms inference, 1.0ms postprocess per image at shape (1, 3, 640, 640)\n",
      "\n",
      "0: 640x640 6 fire extinguishers, 1 fire signage, 20.9ms\n",
      "Speed: 8.4ms preprocess, 20.9ms inference, 2.0ms postprocess per image at shape (1, 3, 640, 640)\n",
      "\n",
      "0: 640x640 6 fire extinguishers, 1 fire signage, 21.7ms\n",
      "Speed: 7.6ms preprocess, 21.7ms inference, 2.0ms postprocess per image at shape (1, 3, 640, 640)\n",
      "\n",
      "0: 640x640 6 fire extinguishers, 1 fire signage, 23.2ms\n",
      "Speed: 8.0ms preprocess, 23.2ms inference, 1.0ms postprocess per image at shape (1, 3, 640, 640)\n",
      "\n",
      "0: 640x640 6 fire extinguishers, 1 fire signage, 22.8ms\n",
      "Speed: 6.0ms preprocess, 22.8ms inference, 2.0ms postprocess per image at shape (1, 3, 640, 640)\n",
      "\n",
      "0: 640x640 8 fire extinguishers, 1 fire signage, 21.3ms\n",
      "Speed: 6.0ms preprocess, 21.3ms inference, 2.0ms postprocess per image at shape (1, 3, 640, 640)\n",
      "\n",
      "0: 640x640 7 fire extinguishers, 1 fire signage, 22.5ms\n",
      "Speed: 6.2ms preprocess, 22.5ms inference, 1.0ms postprocess per image at shape (1, 3, 640, 640)\n",
      "\n",
      "0: 640x640 7 fire extinguishers, 1 fire signage, 23.9ms\n",
      "Speed: 4.8ms preprocess, 23.9ms inference, 2.0ms postprocess per image at shape (1, 3, 640, 640)\n",
      "\n",
      "0: 640x640 6 fire extinguishers, 1 fire signage, 26.1ms\n",
      "Speed: 4.0ms preprocess, 26.1ms inference, 2.0ms postprocess per image at shape (1, 3, 640, 640)\n",
      "\n",
      "0: 640x640 6 fire extinguishers, 1 fire signage, 25.3ms\n",
      "Speed: 8.0ms preprocess, 25.3ms inference, 2.0ms postprocess per image at shape (1, 3, 640, 640)\n",
      "\n",
      "0: 640x640 2 fire extinguishers, 1 fire signage, 24.3ms\n",
      "Speed: 9.0ms preprocess, 24.3ms inference, 1.0ms postprocess per image at shape (1, 3, 640, 640)\n",
      "\n",
      "0: 640x640 1 fire extinguisher, 1 fire signage, 21.9ms\n",
      "Speed: 4.7ms preprocess, 21.9ms inference, 1.0ms postprocess per image at shape (1, 3, 640, 640)\n",
      "\n",
      "0: 640x640 1 fire extinguisher, 1 fire signage, 22.3ms\n",
      "Speed: 8.0ms preprocess, 22.3ms inference, 1.0ms postprocess per image at shape (1, 3, 640, 640)\n",
      "\n",
      "0: 640x640 1 fire signage, 1 helmet, 21.5ms\n",
      "Speed: 8.4ms preprocess, 21.5ms inference, 1.0ms postprocess per image at shape (1, 3, 640, 640)\n",
      "\n",
      "0: 640x640 1 fire signage, 1 helmet, 21.3ms\n",
      "Speed: 8.0ms preprocess, 21.3ms inference, 1.0ms postprocess per image at shape (1, 3, 640, 640)\n",
      "\n",
      "0: 640x640 1 extinguisher-helmet, 1 fire signage, 1 helmet, 21.3ms\n",
      "Speed: 5.0ms preprocess, 21.3ms inference, 1.0ms postprocess per image at shape (1, 3, 640, 640)\n",
      "\n",
      "0: 640x640 1 fire signage, 1 helmet, 21.6ms\n",
      "Speed: 7.0ms preprocess, 21.6ms inference, 1.0ms postprocess per image at shape (1, 3, 640, 640)\n",
      "\n",
      "0: 640x640 1 fire signage, 1 helmet, 20.9ms\n",
      "Speed: 6.8ms preprocess, 20.9ms inference, 1.0ms postprocess per image at shape (1, 3, 640, 640)\n",
      "\n",
      "0: 640x640 1 fire signage, 1 helmet, 26.2ms\n",
      "Speed: 6.8ms preprocess, 26.2ms inference, 1.0ms postprocess per image at shape (1, 3, 640, 640)\n",
      "\n",
      "0: 640x640 2 fire signages, 1 helmet, 21.2ms\n",
      "Speed: 7.8ms preprocess, 21.2ms inference, 1.0ms postprocess per image at shape (1, 3, 640, 640)\n",
      "\n",
      "0: 640x640 1 fire extinguisher, 1 fire signage, 1 helmet, 21.4ms\n",
      "Speed: 7.1ms preprocess, 21.4ms inference, 1.0ms postprocess per image at shape (1, 3, 640, 640)\n",
      "\n",
      "0: 640x640 1 fire signage, 1 helmet, 22.5ms\n",
      "Speed: 4.4ms preprocess, 22.5ms inference, 2.7ms postprocess per image at shape (1, 3, 640, 640)\n",
      "\n",
      "0: 640x640 1 fire signage, 19.2ms\n",
      "Speed: 7.0ms preprocess, 19.2ms inference, 1.6ms postprocess per image at shape (1, 3, 640, 640)\n",
      "\n",
      "0: 640x640 1 fire signage, 1 helmet, 20.1ms\n",
      "Speed: 5.1ms preprocess, 20.1ms inference, 2.0ms postprocess per image at shape (1, 3, 640, 640)\n",
      "\n",
      "0: 640x640 1 fire extinguisher, 1 fire signage, 1 helmet, 20.4ms\n",
      "Speed: 6.4ms preprocess, 20.4ms inference, 2.0ms postprocess per image at shape (1, 3, 640, 640)\n",
      "\n",
      "0: 640x640 1 fire signage, 1 helmet, 18.2ms\n",
      "Speed: 6.3ms preprocess, 18.2ms inference, 1.0ms postprocess per image at shape (1, 3, 640, 640)\n",
      "\n",
      "0: 640x640 1 fire signage, 19.2ms\n",
      "Speed: 8.2ms preprocess, 19.2ms inference, 2.0ms postprocess per image at shape (1, 3, 640, 640)\n",
      "\n",
      "0: 640x640 1 fire signage, 1 helmet, 35.0ms\n",
      "Speed: 7.1ms preprocess, 35.0ms inference, 1.0ms postprocess per image at shape (1, 3, 640, 640)\n",
      "\n",
      "0: 640x640 1 fire signage, 1 helmet, 17.3ms\n",
      "Speed: 6.3ms preprocess, 17.3ms inference, 2.0ms postprocess per image at shape (1, 3, 640, 640)\n",
      "\n",
      "0: 640x640 1 fire signage, 1 helmet, 18.8ms\n",
      "Speed: 8.3ms preprocess, 18.8ms inference, 1.0ms postprocess per image at shape (1, 3, 640, 640)\n",
      "\n",
      "0: 640x640 1 fire signage, 1 helmet, 17.8ms\n",
      "Speed: 9.8ms preprocess, 17.8ms inference, 2.0ms postprocess per image at shape (1, 3, 640, 640)\n",
      "\n",
      "0: 640x640 1 fire signage, 1 helmet, 19.0ms\n",
      "Speed: 8.0ms preprocess, 19.0ms inference, 2.0ms postprocess per image at shape (1, 3, 640, 640)\n",
      "\n",
      "0: 640x640 1 fire signage, 1 helmet, 19.8ms\n",
      "Speed: 5.5ms preprocess, 19.8ms inference, 1.0ms postprocess per image at shape (1, 3, 640, 640)\n",
      "\n",
      "0: 640x640 1 fire signage, 1 helmet, 20.0ms\n",
      "Speed: 9.4ms preprocess, 20.0ms inference, 1.0ms postprocess per image at shape (1, 3, 640, 640)\n",
      "\n",
      "0: 640x640 1 fire signage, 23.2ms\n",
      "Speed: 10.0ms preprocess, 23.2ms inference, 0.0ms postprocess per image at shape (1, 3, 640, 640)\n",
      "\n",
      "0: 640x640 1 fire signage, 22.6ms\n",
      "Speed: 5.6ms preprocess, 22.6ms inference, 2.0ms postprocess per image at shape (1, 3, 640, 640)\n",
      "\n",
      "0: 640x640 1 fire extinguisher, 1 fire signage, 26.4ms\n",
      "Speed: 6.8ms preprocess, 26.4ms inference, 1.0ms postprocess per image at shape (1, 3, 640, 640)\n",
      "\n",
      "0: 640x640 1 fire extinguisher, 2 fire signages, 26.3ms\n",
      "Speed: 34.2ms preprocess, 26.3ms inference, 1.0ms postprocess per image at shape (1, 3, 640, 640)\n",
      "\n",
      "0: 640x640 2 extinguisher-helmets, 1 fire extinguisher, 2 fire signages, 27.1ms\n",
      "Speed: 9.8ms preprocess, 27.1ms inference, 2.0ms postprocess per image at shape (1, 3, 640, 640)\n",
      "\n",
      "0: 640x640 3 fire extinguishers, 2 fire signages, 29.7ms\n",
      "Speed: 3.0ms preprocess, 29.7ms inference, 2.0ms postprocess per image at shape (1, 3, 640, 640)\n",
      "\n",
      "0: 640x640 1 fire extinguisher, 1 fire signage, 26.5ms\n",
      "Speed: 7.1ms preprocess, 26.5ms inference, 3.0ms postprocess per image at shape (1, 3, 640, 640)\n",
      "\n",
      "0: 640x640 2 extinguisher-helmets, 1 fire signage, 27.2ms\n",
      "Speed: 8.4ms preprocess, 27.2ms inference, 1.1ms postprocess per image at shape (1, 3, 640, 640)\n",
      "\n",
      "0: 640x640 1 fire signage, 25.0ms\n",
      "Speed: 8.6ms preprocess, 25.0ms inference, 1.3ms postprocess per image at shape (1, 3, 640, 640)\n",
      "\n",
      "0: 640x640 1 fire signage, 26.1ms\n",
      "Speed: 8.0ms preprocess, 26.1ms inference, 0.9ms postprocess per image at shape (1, 3, 640, 640)\n",
      "\n",
      "0: 640x640 1 fire signage, 24.8ms\n",
      "Speed: 6.5ms preprocess, 24.8ms inference, 1.5ms postprocess per image at shape (1, 3, 640, 640)\n",
      "\n",
      "0: 640x640 1 fire signage, 38.6ms\n",
      "Speed: 9.0ms preprocess, 38.6ms inference, 1.2ms postprocess per image at shape (1, 3, 640, 640)\n",
      "\n",
      "0: 640x640 1 fire extinguisher, 1 fire signage, 23.7ms\n",
      "Speed: 9.5ms preprocess, 23.7ms inference, 2.0ms postprocess per image at shape (1, 3, 640, 640)\n",
      "\n",
      "0: 640x640 2 fire extinguishers, 1 fire signage, 25.2ms\n",
      "Speed: 6.2ms preprocess, 25.2ms inference, 2.0ms postprocess per image at shape (1, 3, 640, 640)\n",
      "\n",
      "0: 640x640 2 fire extinguishers, 1 fire signage, 26.5ms\n",
      "Speed: 5.3ms preprocess, 26.5ms inference, 1.0ms postprocess per image at shape (1, 3, 640, 640)\n",
      "\n",
      "0: 640x640 2 fire extinguishers, 2 fire signages, 17.6ms\n",
      "Speed: 11.5ms preprocess, 17.6ms inference, 0.0ms postprocess per image at shape (1, 3, 640, 640)\n",
      "\n",
      "0: 640x640 1 fire extinguisher, 1 fire signage, 22.9ms\n",
      "Speed: 8.3ms preprocess, 22.9ms inference, 1.0ms postprocess per image at shape (1, 3, 640, 640)\n",
      "\n",
      "0: 640x640 1 fire extinguisher, 1 fire signage, 25.4ms\n",
      "Speed: 6.0ms preprocess, 25.4ms inference, 2.0ms postprocess per image at shape (1, 3, 640, 640)\n",
      "\n",
      "0: 640x640 1 fire extinguisher, 1 fire signage, 23.4ms\n",
      "Speed: 7.0ms preprocess, 23.4ms inference, 2.0ms postprocess per image at shape (1, 3, 640, 640)\n",
      "\n",
      "0: 640x640 1 extinguisher-helmet, 1 fire signage, 23.7ms\n",
      "Speed: 8.1ms preprocess, 23.7ms inference, 1.0ms postprocess per image at shape (1, 3, 640, 640)\n",
      "\n",
      "0: 640x640 1 fire signage, 27.9ms\n",
      "Speed: 6.7ms preprocess, 27.9ms inference, 1.0ms postprocess per image at shape (1, 3, 640, 640)\n",
      "\n",
      "0: 640x640 1 fire signage, 24.8ms\n",
      "Speed: 6.6ms preprocess, 24.8ms inference, 1.0ms postprocess per image at shape (1, 3, 640, 640)\n",
      "\n",
      "0: 640x640 1 fire signage, 25.3ms\n",
      "Speed: 6.0ms preprocess, 25.3ms inference, 1.0ms postprocess per image at shape (1, 3, 640, 640)\n",
      "\n",
      "0: 640x640 1 fire extinguisher, 1 fire signage, 24.7ms\n",
      "Speed: 6.0ms preprocess, 24.7ms inference, 1.0ms postprocess per image at shape (1, 3, 640, 640)\n",
      "\n",
      "0: 640x640 1 fire extinguisher, 2 fire signages, 29.9ms\n",
      "Speed: 1.0ms preprocess, 29.9ms inference, 1.0ms postprocess per image at shape (1, 3, 640, 640)\n",
      "\n",
      "0: 640x640 1 fire extinguisher, 2 fire signages, 24.1ms\n",
      "Speed: 5.5ms preprocess, 24.1ms inference, 1.0ms postprocess per image at shape (1, 3, 640, 640)\n",
      "\n",
      "0: 640x640 1 extinguisher-helmet, 1 fire signage, 24.6ms\n",
      "Speed: 9.7ms preprocess, 24.6ms inference, 1.0ms postprocess per image at shape (1, 3, 640, 640)\n",
      "\n",
      "0: 640x640 1 fire signage, 23.5ms\n",
      "Speed: 7.4ms preprocess, 23.5ms inference, 1.0ms postprocess per image at shape (1, 3, 640, 640)\n",
      "\n",
      "0: 640x640 1 fire extinguisher, 2 fire signages, 25.7ms\n",
      "Speed: 6.0ms preprocess, 25.7ms inference, 1.0ms postprocess per image at shape (1, 3, 640, 640)\n",
      "\n",
      "0: 640x640 2 fire extinguishers, 1 fire signage, 25.3ms\n",
      "Speed: 5.0ms preprocess, 25.3ms inference, 2.0ms postprocess per image at shape (1, 3, 640, 640)\n",
      "\n",
      "0: 640x640 1 fire extinguisher, 2 fire signages, 23.5ms\n",
      "Speed: 9.1ms preprocess, 23.5ms inference, 1.0ms postprocess per image at shape (1, 3, 640, 640)\n",
      "\n",
      "0: 640x640 1 fire extinguisher, 2 fire signages, 24.5ms\n",
      "Speed: 6.1ms preprocess, 24.5ms inference, 1.0ms postprocess per image at shape (1, 3, 640, 640)\n",
      "\n",
      "0: 640x640 1 fire extinguisher, 2 fire signages, 24.5ms\n",
      "Speed: 9.0ms preprocess, 24.5ms inference, 2.0ms postprocess per image at shape (1, 3, 640, 640)\n",
      "\n",
      "0: 640x640 1 fire extinguisher, 2 fire signages, 24.6ms\n",
      "Speed: 6.0ms preprocess, 24.6ms inference, 1.0ms postprocess per image at shape (1, 3, 640, 640)\n",
      "\n",
      "0: 640x640 2 fire extinguishers, 2 fire signages, 24.6ms\n",
      "Speed: 6.0ms preprocess, 24.6ms inference, 1.0ms postprocess per image at shape (1, 3, 640, 640)\n",
      "\n",
      "0: 640x640 1 fire extinguisher, 2 fire signages, 26.3ms\n",
      "Speed: 27.5ms preprocess, 26.3ms inference, 1.0ms postprocess per image at shape (1, 3, 640, 640)\n",
      "\n",
      "0: 640x640 1 fire extinguisher, 2 fire signages, 24.1ms\n",
      "Speed: 9.4ms preprocess, 24.1ms inference, 1.5ms postprocess per image at shape (1, 3, 640, 640)\n",
      "\n",
      "0: 640x640 1 fire extinguisher, 2 fire signages, 37.8ms\n",
      "Speed: 0.0ms preprocess, 37.8ms inference, 1.0ms postprocess per image at shape (1, 3, 640, 640)\n",
      "\n",
      "0: 640x640 1 fire extinguisher, 2 fire signages, 23.4ms\n",
      "Speed: 8.0ms preprocess, 23.4ms inference, 1.0ms postprocess per image at shape (1, 3, 640, 640)\n",
      "\n",
      "0: 640x640 1 fire extinguisher, 1 fire signage, 22.3ms\n",
      "Speed: 7.7ms preprocess, 22.3ms inference, 1.0ms postprocess per image at shape (1, 3, 640, 640)\n",
      "\n",
      "0: 640x640 1 fire extinguisher, 1 fire signage, 24.5ms\n",
      "Speed: 8.9ms preprocess, 24.5ms inference, 1.0ms postprocess per image at shape (1, 3, 640, 640)\n",
      "\n",
      "0: 640x640 1 fire extinguisher, 1 fire signage, 27.0ms\n",
      "Speed: 5.0ms preprocess, 27.0ms inference, 1.0ms postprocess per image at shape (1, 3, 640, 640)\n",
      "\n",
      "0: 640x640 1 fire extinguisher, 1 fire signage, 23.9ms\n",
      "Speed: 14.4ms preprocess, 23.9ms inference, 1.0ms postprocess per image at shape (1, 3, 640, 640)\n",
      "\n",
      "0: 640x640 1 fire extinguisher, 1 fire signage, 28.0ms\n",
      "Speed: 6.5ms preprocess, 28.0ms inference, 1.0ms postprocess per image at shape (1, 3, 640, 640)\n",
      "\n",
      "0: 640x640 1 fire extinguisher, 1 fire signage, 24.9ms\n",
      "Speed: 6.0ms preprocess, 24.9ms inference, 1.0ms postprocess per image at shape (1, 3, 640, 640)\n",
      "\n",
      "0: 640x640 1 fire extinguisher, 1 fire signage, 24.3ms\n",
      "Speed: 9.1ms preprocess, 24.3ms inference, 3.0ms postprocess per image at shape (1, 3, 640, 640)\n",
      "\n",
      "0: 640x640 1 fire signage, 24.3ms\n",
      "Speed: 7.0ms preprocess, 24.3ms inference, 1.9ms postprocess per image at shape (1, 3, 640, 640)\n",
      "\n",
      "0: 640x640 1 fire signage, 25.4ms\n",
      "Speed: 7.0ms preprocess, 25.4ms inference, 1.0ms postprocess per image at shape (1, 3, 640, 640)\n",
      "\n",
      "0: 640x640 (no detections), 26.4ms\n",
      "Speed: 9.7ms preprocess, 26.4ms inference, 0.0ms postprocess per image at shape (1, 3, 640, 640)\n",
      "\n",
      "0: 640x640 1 fire signage, 25.8ms\n",
      "Speed: 5.5ms preprocess, 25.8ms inference, 1.0ms postprocess per image at shape (1, 3, 640, 640)\n",
      "\n",
      "0: 640x640 2 fire signages, 30.0ms\n",
      "Speed: 10.1ms preprocess, 30.0ms inference, 1.0ms postprocess per image at shape (1, 3, 640, 640)\n",
      "\n",
      "0: 640x640 (no detections), 28.2ms\n",
      "Speed: 3.2ms preprocess, 28.2ms inference, 1.0ms postprocess per image at shape (1, 3, 640, 640)\n",
      "\n",
      "0: 640x640 1 fire signage, 21.2ms\n",
      "Speed: 10.8ms preprocess, 21.2ms inference, 0.0ms postprocess per image at shape (1, 3, 640, 640)\n",
      "\n",
      "0: 640x640 2 fire signages, 24.6ms\n",
      "Speed: 7.6ms preprocess, 24.6ms inference, 1.0ms postprocess per image at shape (1, 3, 640, 640)\n",
      "\n",
      "0: 640x640 1 fire signage, 24.6ms\n",
      "Speed: 8.8ms preprocess, 24.6ms inference, 1.0ms postprocess per image at shape (1, 3, 640, 640)\n",
      "\n",
      "0: 640x640 1 fire signage, 26.1ms\n",
      "Speed: 8.4ms preprocess, 26.1ms inference, 1.0ms postprocess per image at shape (1, 3, 640, 640)\n",
      "\n",
      "0: 640x640 2 fire signages, 23.5ms\n",
      "Speed: 5.0ms preprocess, 23.5ms inference, 1.0ms postprocess per image at shape (1, 3, 640, 640)\n",
      "\n",
      "0: 640x640 2 fire signages, 24.9ms\n",
      "Speed: 6.0ms preprocess, 24.9ms inference, 1.0ms postprocess per image at shape (1, 3, 640, 640)\n",
      "\n",
      "0: 640x640 1 fire signage, 22.3ms\n",
      "Speed: 8.4ms preprocess, 22.3ms inference, 2.0ms postprocess per image at shape (1, 3, 640, 640)\n",
      "\n",
      "0: 640x640 2 fire signages, 26.3ms\n",
      "Speed: 8.0ms preprocess, 26.3ms inference, 1.0ms postprocess per image at shape (1, 3, 640, 640)\n",
      "\n",
      "0: 640x640 2 fire signages, 25.1ms\n",
      "Speed: 7.0ms preprocess, 25.1ms inference, 1.0ms postprocess per image at shape (1, 3, 640, 640)\n",
      "\n",
      "0: 640x640 2 fire signages, 25.5ms\n",
      "Speed: 8.5ms preprocess, 25.5ms inference, 1.0ms postprocess per image at shape (1, 3, 640, 640)\n",
      "\n",
      "0: 640x640 2 fire signages, 24.5ms\n",
      "Speed: 8.5ms preprocess, 24.5ms inference, 1.0ms postprocess per image at shape (1, 3, 640, 640)\n",
      "\n",
      "0: 640x640 1 fire signage, 23.9ms\n",
      "Speed: 7.2ms preprocess, 23.9ms inference, 1.0ms postprocess per image at shape (1, 3, 640, 640)\n",
      "\n",
      "0: 640x640 2 fire signages, 26.0ms\n",
      "Speed: 6.6ms preprocess, 26.0ms inference, 2.0ms postprocess per image at shape (1, 3, 640, 640)\n",
      "\n",
      "0: 640x640 1 fire signage, 25.4ms\n",
      "Speed: 7.7ms preprocess, 25.4ms inference, 2.0ms postprocess per image at shape (1, 3, 640, 640)\n",
      "\n",
      "0: 640x640 1 fire signage, 24.7ms\n",
      "Speed: 6.5ms preprocess, 24.7ms inference, 1.0ms postprocess per image at shape (1, 3, 640, 640)\n",
      "\n",
      "0: 640x640 2 fire signages, 24.3ms\n",
      "Speed: 10.2ms preprocess, 24.3ms inference, 1.2ms postprocess per image at shape (1, 3, 640, 640)\n",
      "\n",
      "0: 640x640 1 fire extinguisher, 1 fire signage, 24.9ms\n",
      "Speed: 7.4ms preprocess, 24.9ms inference, 1.5ms postprocess per image at shape (1, 3, 640, 640)\n",
      "\n",
      "0: 640x640 (no detections), 25.1ms\n",
      "Speed: 5.7ms preprocess, 25.1ms inference, 1.2ms postprocess per image at shape (1, 3, 640, 640)\n",
      "\n",
      "0: 640x640 (no detections), 25.3ms\n",
      "Speed: 4.7ms preprocess, 25.3ms inference, 1.5ms postprocess per image at shape (1, 3, 640, 640)\n",
      "\n",
      "0: 640x640 (no detections), 25.5ms\n",
      "Speed: 8.5ms preprocess, 25.5ms inference, 1.0ms postprocess per image at shape (1, 3, 640, 640)\n",
      "\n",
      "0: 640x640 (no detections), 31.8ms\n",
      "Speed: 4.0ms preprocess, 31.8ms inference, 0.0ms postprocess per image at shape (1, 3, 640, 640)\n",
      "\n",
      "0: 640x640 (no detections), 26.3ms\n",
      "Speed: 5.0ms preprocess, 26.3ms inference, 1.0ms postprocess per image at shape (1, 3, 640, 640)\n",
      "\n",
      "0: 640x640 1 fire signage, 24.6ms\n",
      "Speed: 7.7ms preprocess, 24.6ms inference, 2.0ms postprocess per image at shape (1, 3, 640, 640)\n",
      "\n",
      "0: 640x640 1 fire signage, 26.1ms\n",
      "Speed: 26.1ms preprocess, 26.1ms inference, 2.0ms postprocess per image at shape (1, 3, 640, 640)\n",
      "\n",
      "0: 640x640 (no detections), 24.7ms\n",
      "Speed: 6.6ms preprocess, 24.7ms inference, 1.0ms postprocess per image at shape (1, 3, 640, 640)\n",
      "\n",
      "0: 640x640 (no detections), 25.5ms\n",
      "Speed: 10.4ms preprocess, 25.5ms inference, 0.0ms postprocess per image at shape (1, 3, 640, 640)\n",
      "\n",
      "0: 640x640 (no detections), 25.7ms\n",
      "Speed: 5.6ms preprocess, 25.7ms inference, 0.0ms postprocess per image at shape (1, 3, 640, 640)\n",
      "\n",
      "0: 640x640 1 fire signage, 1 helmet, 22.8ms\n",
      "Speed: 16.9ms preprocess, 22.8ms inference, 1.0ms postprocess per image at shape (1, 3, 640, 640)\n",
      "\n",
      "0: 640x640 (no detections), 25.6ms\n",
      "Speed: 6.2ms preprocess, 25.6ms inference, 1.5ms postprocess per image at shape (1, 3, 640, 640)\n",
      "\n",
      "0: 640x640 1 fire extinguisher, 30.8ms\n",
      "Speed: 2.9ms preprocess, 30.8ms inference, 2.1ms postprocess per image at shape (1, 3, 640, 640)\n",
      "\n",
      "0: 640x640 1 fire extinguisher, 25.7ms\n",
      "Speed: 4.5ms preprocess, 25.7ms inference, 1.0ms postprocess per image at shape (1, 3, 640, 640)\n",
      "\n",
      "0: 640x640 1 fire extinguisher, 1 fire signage, 25.6ms\n",
      "Speed: 5.9ms preprocess, 25.6ms inference, 1.0ms postprocess per image at shape (1, 3, 640, 640)\n",
      "\n",
      "0: 640x640 1 fire signage, 24.9ms\n",
      "Speed: 8.4ms preprocess, 24.9ms inference, 1.0ms postprocess per image at shape (1, 3, 640, 640)\n",
      "\n",
      "0: 640x640 1 fire signage, 24.9ms\n",
      "Speed: 6.5ms preprocess, 24.9ms inference, 1.0ms postprocess per image at shape (1, 3, 640, 640)\n",
      "\n",
      "0: 640x640 1 fire signage, 25.7ms\n",
      "Speed: 5.0ms preprocess, 25.7ms inference, 1.6ms postprocess per image at shape (1, 3, 640, 640)\n",
      "\n",
      "0: 640x640 1 fire signage, 24.9ms\n",
      "Speed: 8.1ms preprocess, 24.9ms inference, 2.0ms postprocess per image at shape (1, 3, 640, 640)\n",
      "\n",
      "0: 640x640 1 fire signage, 23.2ms\n",
      "Speed: 9.0ms preprocess, 23.2ms inference, 1.3ms postprocess per image at shape (1, 3, 640, 640)\n",
      "\n",
      "0: 640x640 1 fire signage, 1 helmet, 25.1ms\n",
      "Speed: 4.4ms preprocess, 25.1ms inference, 1.0ms postprocess per image at shape (1, 3, 640, 640)\n",
      "\n",
      "0: 640x640 1 fire signage, 23.9ms\n",
      "Speed: 8.6ms preprocess, 23.9ms inference, 1.0ms postprocess per image at shape (1, 3, 640, 640)\n",
      "\n",
      "0: 640x640 1 fire signage, 24.1ms\n",
      "Speed: 7.6ms preprocess, 24.1ms inference, 3.1ms postprocess per image at shape (1, 3, 640, 640)\n",
      "\n",
      "0: 640x640 1 fire signage, 24.2ms\n",
      "Speed: 6.3ms preprocess, 24.2ms inference, 0.0ms postprocess per image at shape (1, 3, 640, 640)\n",
      "\n",
      "0: 640x640 1 fire signage, 42.6ms\n",
      "Speed: 10.2ms preprocess, 42.6ms inference, 1.0ms postprocess per image at shape (1, 3, 640, 640)\n",
      "\n",
      "0: 640x640 1 fire signage, 25.7ms\n",
      "Speed: 6.8ms preprocess, 25.7ms inference, 1.0ms postprocess per image at shape (1, 3, 640, 640)\n",
      "\n",
      "0: 640x640 1 fire signage, 23.7ms\n",
      "Speed: 9.7ms preprocess, 23.7ms inference, 2.0ms postprocess per image at shape (1, 3, 640, 640)\n",
      "\n",
      "0: 640x640 1 fire signage, 25.8ms\n",
      "Speed: 10.4ms preprocess, 25.8ms inference, 1.0ms postprocess per image at shape (1, 3, 640, 640)\n",
      "\n",
      "0: 640x640 1 fire signage, 1 helmet, 26.2ms\n",
      "Speed: 5.2ms preprocess, 26.2ms inference, 2.4ms postprocess per image at shape (1, 3, 640, 640)\n",
      "\n",
      "0: 640x640 1 fire signage, 1 helmet, 25.3ms\n",
      "Speed: 9.0ms preprocess, 25.3ms inference, 1.0ms postprocess per image at shape (1, 3, 640, 640)\n",
      "\n",
      "0: 640x640 1 helmet, 16.2ms\n",
      "Speed: 10.6ms preprocess, 16.2ms inference, 0.0ms postprocess per image at shape (1, 3, 640, 640)\n",
      "\n",
      "0: 640x640 1 fire signage, 24.5ms\n",
      "Speed: 7.9ms preprocess, 24.5ms inference, 1.0ms postprocess per image at shape (1, 3, 640, 640)\n",
      "\n",
      "0: 640x640 1 fire signage, 1 helmet, 23.9ms\n",
      "Speed: 7.0ms preprocess, 23.9ms inference, 2.5ms postprocess per image at shape (1, 3, 640, 640)\n",
      "\n",
      "0: 640x640 (no detections), 25.2ms\n",
      "Speed: 9.0ms preprocess, 25.2ms inference, 1.0ms postprocess per image at shape (1, 3, 640, 640)\n",
      "\n",
      "0: 640x640 (no detections), 31.5ms\n",
      "Speed: 5.7ms preprocess, 31.5ms inference, 0.1ms postprocess per image at shape (1, 3, 640, 640)\n",
      "\n",
      "0: 640x640 (no detections), 21.5ms\n",
      "Speed: 9.6ms preprocess, 21.5ms inference, 0.0ms postprocess per image at shape (1, 3, 640, 640)\n",
      "\n",
      "0: 640x640 (no detections), 22.4ms\n",
      "Speed: 5.0ms preprocess, 22.4ms inference, 1.0ms postprocess per image at shape (1, 3, 640, 640)\n",
      "\n",
      "0: 640x640 (no detections), 24.4ms\n",
      "Speed: 5.0ms preprocess, 24.4ms inference, 1.0ms postprocess per image at shape (1, 3, 640, 640)\n",
      "\n",
      "0: 640x640 (no detections), 24.0ms\n",
      "Speed: 7.4ms preprocess, 24.0ms inference, 1.0ms postprocess per image at shape (1, 3, 640, 640)\n",
      "\n",
      "0: 640x640 1 fire signage, 24.1ms\n",
      "Speed: 6.6ms preprocess, 24.1ms inference, 1.8ms postprocess per image at shape (1, 3, 640, 640)\n",
      "\n",
      "0: 640x640 (no detections), 24.7ms\n",
      "Speed: 10.0ms preprocess, 24.7ms inference, 1.0ms postprocess per image at shape (1, 3, 640, 640)\n",
      "\n",
      "0: 640x640 1 fire signage, 23.7ms\n",
      "Speed: 11.6ms preprocess, 23.7ms inference, 1.0ms postprocess per image at shape (1, 3, 640, 640)\n",
      "\n",
      "0: 640x640 1 fire signage, 25.3ms\n",
      "Speed: 6.8ms preprocess, 25.3ms inference, 2.0ms postprocess per image at shape (1, 3, 640, 640)\n",
      "\n",
      "0: 640x640 (no detections), 28.0ms\n",
      "Speed: 8.4ms preprocess, 28.0ms inference, 0.0ms postprocess per image at shape (1, 3, 640, 640)\n",
      "\n",
      "0: 640x640 1 fire signage, 26.1ms\n",
      "Speed: 12.0ms preprocess, 26.1ms inference, 1.0ms postprocess per image at shape (1, 3, 640, 640)\n",
      "\n",
      "0: 640x640 (no detections), 25.6ms\n",
      "Speed: 6.0ms preprocess, 25.6ms inference, 1.0ms postprocess per image at shape (1, 3, 640, 640)\n",
      "\n",
      "0: 640x640 1 helmet, 23.1ms\n",
      "Speed: 6.9ms preprocess, 23.1ms inference, 0.8ms postprocess per image at shape (1, 3, 640, 640)\n",
      "\n",
      "0: 640x640 1 fire extinguisher, 1 helmet, 27.2ms\n",
      "Speed: 9.5ms preprocess, 27.2ms inference, 1.2ms postprocess per image at shape (1, 3, 640, 640)\n",
      "\n",
      "0: 640x640 1 fire extinguisher, 26.2ms\n",
      "Speed: 6.0ms preprocess, 26.2ms inference, 1.0ms postprocess per image at shape (1, 3, 640, 640)\n",
      "\n",
      "0: 640x640 1 fire extinguisher, 25.6ms\n",
      "Speed: 5.0ms preprocess, 25.6ms inference, 1.0ms postprocess per image at shape (1, 3, 640, 640)\n",
      "\n",
      "0: 640x640 (no detections), 26.5ms\n",
      "Speed: 8.0ms preprocess, 26.5ms inference, 1.3ms postprocess per image at shape (1, 3, 640, 640)\n",
      "\n",
      "0: 640x640 1 fire extinguisher, 24.7ms\n",
      "Speed: 7.7ms preprocess, 24.7ms inference, 1.0ms postprocess per image at shape (1, 3, 640, 640)\n",
      "\n",
      "0: 640x640 1 fire extinguisher, 1 fire signage, 35.6ms\n",
      "Speed: 5.4ms preprocess, 35.6ms inference, 1.0ms postprocess per image at shape (1, 3, 640, 640)\n",
      "\n",
      "0: 640x640 1 fire extinguisher, 26.7ms\n",
      "Speed: 9.3ms preprocess, 26.7ms inference, 2.0ms postprocess per image at shape (1, 3, 640, 640)\n",
      "\n",
      "0: 640x640 1 fire signage, 23.2ms\n",
      "Speed: 10.0ms preprocess, 23.2ms inference, 1.0ms postprocess per image at shape (1, 3, 640, 640)\n",
      "\n",
      "0: 640x640 1 fire extinguisher, 23.7ms\n",
      "Speed: 9.0ms preprocess, 23.7ms inference, 1.0ms postprocess per image at shape (1, 3, 640, 640)\n",
      "\n",
      "0: 640x640 (no detections), 23.9ms\n",
      "Speed: 5.6ms preprocess, 23.9ms inference, 1.0ms postprocess per image at shape (1, 3, 640, 640)\n",
      "\n",
      "0: 640x640 (no detections), 21.7ms\n",
      "Speed: 6.5ms preprocess, 21.7ms inference, 0.0ms postprocess per image at shape (1, 3, 640, 640)\n",
      "\n",
      "0: 640x640 1 fire signage, 23.0ms\n",
      "Speed: 9.0ms preprocess, 23.0ms inference, 1.0ms postprocess per image at shape (1, 3, 640, 640)\n",
      "\n",
      "0: 640x640 1 fire signage, 22.7ms\n",
      "Speed: 9.5ms preprocess, 22.7ms inference, 1.0ms postprocess per image at shape (1, 3, 640, 640)\n",
      "\n",
      "0: 640x640 (no detections), 26.4ms\n",
      "Speed: 6.0ms preprocess, 26.4ms inference, 0.0ms postprocess per image at shape (1, 3, 640, 640)\n",
      "\n",
      "0: 640x640 (no detections), 35.1ms\n",
      "Speed: 7.5ms preprocess, 35.1ms inference, 1.3ms postprocess per image at shape (1, 3, 640, 640)\n",
      "\n",
      "0: 640x640 (no detections), 24.3ms\n",
      "Speed: 7.5ms preprocess, 24.3ms inference, 1.0ms postprocess per image at shape (1, 3, 640, 640)\n",
      "\n",
      "0: 640x640 (no detections), 24.7ms\n",
      "Speed: 11.6ms preprocess, 24.7ms inference, 1.0ms postprocess per image at shape (1, 3, 640, 640)\n",
      "\n",
      "0: 640x640 1 helmet, 26.3ms\n",
      "Speed: 5.0ms preprocess, 26.3ms inference, 1.0ms postprocess per image at shape (1, 3, 640, 640)\n",
      "\n",
      "0: 640x640 1 helmet, 24.4ms\n",
      "Speed: 5.0ms preprocess, 24.4ms inference, 1.1ms postprocess per image at shape (1, 3, 640, 640)\n",
      "\n",
      "0: 640x640 (no detections), 25.2ms\n",
      "Speed: 9.0ms preprocess, 25.2ms inference, 1.0ms postprocess per image at shape (1, 3, 640, 640)\n",
      "\n",
      "0: 640x640 (no detections), 23.9ms\n",
      "Speed: 4.5ms preprocess, 23.9ms inference, 1.0ms postprocess per image at shape (1, 3, 640, 640)\n",
      "\n",
      "0: 640x640 (no detections), 24.3ms\n",
      "Speed: 5.0ms preprocess, 24.3ms inference, 1.0ms postprocess per image at shape (1, 3, 640, 640)\n",
      "\n",
      "0: 640x640 (no detections), 23.6ms\n",
      "Speed: 7.0ms preprocess, 23.6ms inference, 1.0ms postprocess per image at shape (1, 3, 640, 640)\n",
      "\n",
      "0: 640x640 (no detections), 22.0ms\n",
      "Speed: 8.7ms preprocess, 22.0ms inference, 0.0ms postprocess per image at shape (1, 3, 640, 640)\n",
      "\n",
      "0: 640x640 (no detections), 25.9ms\n",
      "Speed: 8.3ms preprocess, 25.9ms inference, 1.0ms postprocess per image at shape (1, 3, 640, 640)\n",
      "\n",
      "0: 640x640 1 fire extinguisher, 1 fire signage, 24.5ms\n",
      "Speed: 5.6ms preprocess, 24.5ms inference, 1.0ms postprocess per image at shape (1, 3, 640, 640)\n",
      "\n",
      "0: 640x640 1 fire extinguisher, 1 fire signage, 24.6ms\n",
      "Speed: 7.7ms preprocess, 24.6ms inference, 1.0ms postprocess per image at shape (1, 3, 640, 640)\n",
      "\n",
      "0: 640x640 1 fire extinguisher, 1 fire signage, 25.0ms\n",
      "Speed: 9.5ms preprocess, 25.0ms inference, 1.0ms postprocess per image at shape (1, 3, 640, 640)\n",
      "\n",
      "0: 640x640 1 fire extinguisher, 1 fire signage, 26.2ms\n",
      "Speed: 8.0ms preprocess, 26.2ms inference, 1.0ms postprocess per image at shape (1, 3, 640, 640)\n",
      "\n",
      "0: 640x640 1 fire extinguisher, 1 fire signage, 23.3ms\n",
      "Speed: 5.0ms preprocess, 23.3ms inference, 2.0ms postprocess per image at shape (1, 3, 640, 640)\n",
      "\n",
      "0: 640x640 1 fire extinguisher, 1 fire signage, 23.1ms\n",
      "Speed: 5.0ms preprocess, 23.1ms inference, 1.0ms postprocess per image at shape (1, 3, 640, 640)\n",
      "\n",
      "0: 640x640 1 fire signage, 22.4ms\n",
      "Speed: 10.0ms preprocess, 22.4ms inference, 1.0ms postprocess per image at shape (1, 3, 640, 640)\n",
      "\n",
      "0: 640x640 1 fire extinguisher, 1 fire signage, 30.6ms\n",
      "Speed: 5.0ms preprocess, 30.6ms inference, 1.0ms postprocess per image at shape (1, 3, 640, 640)\n",
      "\n",
      "0: 640x640 1 fire signage, 27.2ms\n",
      "Speed: 5.0ms preprocess, 27.2ms inference, 1.0ms postprocess per image at shape (1, 3, 640, 640)\n",
      "\n",
      "0: 640x640 1 fire signage, 24.4ms\n",
      "Speed: 6.5ms preprocess, 24.4ms inference, 1.0ms postprocess per image at shape (1, 3, 640, 640)\n",
      "\n",
      "0: 640x640 1 fire signage, 24.3ms\n",
      "Speed: 6.8ms preprocess, 24.3ms inference, 1.0ms postprocess per image at shape (1, 3, 640, 640)\n",
      "\n",
      "0: 640x640 1 fire signage, 25.4ms\n",
      "Speed: 5.1ms preprocess, 25.4ms inference, 1.0ms postprocess per image at shape (1, 3, 640, 640)\n",
      "\n",
      "0: 640x640 1 fire signage, 24.9ms\n",
      "Speed: 9.8ms preprocess, 24.9ms inference, 1.0ms postprocess per image at shape (1, 3, 640, 640)\n",
      "\n",
      "0: 640x640 1 fire signage, 24.6ms\n",
      "Speed: 7.3ms preprocess, 24.6ms inference, 1.0ms postprocess per image at shape (1, 3, 640, 640)\n",
      "\n",
      "0: 640x640 1 fire signage, 26.3ms\n",
      "Speed: 9.0ms preprocess, 26.3ms inference, 2.0ms postprocess per image at shape (1, 3, 640, 640)\n",
      "\n",
      "0: 640x640 1 fire signage, 24.3ms\n",
      "Speed: 8.9ms preprocess, 24.3ms inference, 1.2ms postprocess per image at shape (1, 3, 640, 640)\n",
      "\n",
      "0: 640x640 1 fire signage, 23.5ms\n",
      "Speed: 6.5ms preprocess, 23.5ms inference, 0.0ms postprocess per image at shape (1, 3, 640, 640)\n",
      "\n",
      "0: 640x640 1 fire signage, 26.1ms\n",
      "Speed: 6.2ms preprocess, 26.1ms inference, 22.0ms postprocess per image at shape (1, 3, 640, 640)\n",
      "\n",
      "0: 640x640 1 fire signage, 25.8ms\n",
      "Speed: 6.6ms preprocess, 25.8ms inference, 2.0ms postprocess per image at shape (1, 3, 640, 640)\n",
      "\n",
      "0: 640x640 1 fire signage, 26.8ms\n",
      "Speed: 9.0ms preprocess, 26.8ms inference, 1.0ms postprocess per image at shape (1, 3, 640, 640)\n",
      "\n",
      "0: 640x640 1 fire signage, 24.9ms\n",
      "Speed: 9.1ms preprocess, 24.9ms inference, 2.4ms postprocess per image at shape (1, 3, 640, 640)\n",
      "\n",
      "0: 640x640 1 fire signage, 23.4ms\n",
      "Speed: 11.9ms preprocess, 23.4ms inference, 0.0ms postprocess per image at shape (1, 3, 640, 640)\n",
      "\n",
      "0: 640x640 1 fire signage, 25.5ms\n",
      "Speed: 6.6ms preprocess, 25.5ms inference, 3.0ms postprocess per image at shape (1, 3, 640, 640)\n",
      "\n",
      "0: 640x640 1 fire signage, 27.6ms\n",
      "Speed: 8.5ms preprocess, 27.6ms inference, 1.0ms postprocess per image at shape (1, 3, 640, 640)\n",
      "\n",
      "0: 640x640 1 fire signage, 25.5ms\n",
      "Speed: 10.0ms preprocess, 25.5ms inference, 2.0ms postprocess per image at shape (1, 3, 640, 640)\n",
      "\n",
      "0: 640x640 1 fire signage, 25.1ms\n",
      "Speed: 13.9ms preprocess, 25.1ms inference, 2.0ms postprocess per image at shape (1, 3, 640, 640)\n",
      "\n",
      "0: 640x640 1 fire signage, 31.4ms\n",
      "Speed: 0.9ms preprocess, 31.4ms inference, 1.0ms postprocess per image at shape (1, 3, 640, 640)\n",
      "\n",
      "0: 640x640 1 fire signage, 23.7ms\n",
      "Speed: 8.5ms preprocess, 23.7ms inference, 2.0ms postprocess per image at shape (1, 3, 640, 640)\n",
      "\n",
      "0: 640x640 1 fire signage, 25.1ms\n",
      "Speed: 6.7ms preprocess, 25.1ms inference, 1.0ms postprocess per image at shape (1, 3, 640, 640)\n",
      "\n",
      "0: 640x640 1 fire signage, 26.6ms\n",
      "Speed: 5.0ms preprocess, 26.6ms inference, 2.0ms postprocess per image at shape (1, 3, 640, 640)\n",
      "\n",
      "0: 640x640 1 fire signage, 25.1ms\n",
      "Speed: 9.5ms preprocess, 25.1ms inference, 1.0ms postprocess per image at shape (1, 3, 640, 640)\n",
      "\n",
      "0: 640x640 1 extinguisher-helmet, 2 fire extinguishers, 1 fire signage, 25.9ms\n",
      "Speed: 7.3ms preprocess, 25.9ms inference, 1.0ms postprocess per image at shape (1, 3, 640, 640)\n",
      "\n",
      "0: 640x640 1 extinguisher-helmet, 2 fire extinguishers, 1 fire signage, 25.1ms\n",
      "Speed: 6.0ms preprocess, 25.1ms inference, 1.0ms postprocess per image at shape (1, 3, 640, 640)\n",
      "\n",
      "0: 640x640 1 extinguisher-helmet, 1 fire extinguisher, 1 fire signage, 27.1ms\n",
      "Speed: 5.8ms preprocess, 27.1ms inference, 2.0ms postprocess per image at shape (1, 3, 640, 640)\n",
      "\n",
      "0: 640x640 1 extinguisher-helmet, 1 fire extinguisher, 1 fire signage, 28.0ms\n",
      "Speed: 8.7ms preprocess, 28.0ms inference, 2.3ms postprocess per image at shape (1, 3, 640, 640)\n",
      "\n",
      "0: 640x640 1 extinguisher-helmet, 1 fire extinguisher, 44.8ms\n",
      "Speed: 8.0ms preprocess, 44.8ms inference, 0.0ms postprocess per image at shape (1, 3, 640, 640)\n",
      "\n",
      "0: 640x640 1 extinguisher-helmet, 2 fire extinguishers, 1 fire signage, 28.1ms\n",
      "Speed: 7.4ms preprocess, 28.1ms inference, 1.3ms postprocess per image at shape (1, 3, 640, 640)\n",
      "\n",
      "0: 640x640 2 fire extinguishers, 1 fire signage, 26.7ms\n",
      "Speed: 8.5ms preprocess, 26.7ms inference, 1.9ms postprocess per image at shape (1, 3, 640, 640)\n",
      "\n",
      "0: 640x640 1 extinguisher-helmet, 2 fire extinguishers, 1 fire signage, 27.3ms\n",
      "Speed: 5.2ms preprocess, 27.3ms inference, 1.6ms postprocess per image at shape (1, 3, 640, 640)\n",
      "\n",
      "0: 640x640 1 extinguisher-helmet, 1 fire extinguisher, 1 fire signage, 24.1ms\n",
      "Speed: 7.0ms preprocess, 24.1ms inference, 1.0ms postprocess per image at shape (1, 3, 640, 640)\n",
      "\n",
      "0: 640x640 1 extinguisher-helmet, 1 fire extinguisher, 1 fire signage, 25.6ms\n",
      "Speed: 6.6ms preprocess, 25.6ms inference, 2.0ms postprocess per image at shape (1, 3, 640, 640)\n",
      "\n",
      "0: 640x640 1 fire extinguisher, 1 fire signage, 24.7ms\n",
      "Speed: 6.0ms preprocess, 24.7ms inference, 1.0ms postprocess per image at shape (1, 3, 640, 640)\n",
      "\n",
      "0: 640x640 1 extinguisher-helmet, 1 fire extinguisher, 1 fire signage, 23.8ms\n",
      "Speed: 7.6ms preprocess, 23.8ms inference, 1.0ms postprocess per image at shape (1, 3, 640, 640)\n",
      "\n",
      "0: 640x640 1 extinguisher-helmet, 2 fire extinguishers, 2 fire signages, 24.8ms\n",
      "Speed: 6.0ms preprocess, 24.8ms inference, 1.0ms postprocess per image at shape (1, 3, 640, 640)\n",
      "\n",
      "0: 640x640 1 extinguisher-helmet, 2 fire extinguishers, 1 fire signage, 27.1ms\n",
      "Speed: 5.4ms preprocess, 27.1ms inference, 1.0ms postprocess per image at shape (1, 3, 640, 640)\n",
      "\n",
      "0: 640x640 1 extinguisher-helmet, 3 fire extinguishers, 1 fire signage, 30.4ms\n",
      "Speed: 4.5ms preprocess, 30.4ms inference, 1.0ms postprocess per image at shape (1, 3, 640, 640)\n",
      "\n",
      "0: 640x640 1 extinguisher-helmet, 2 fire extinguishers, 1 fire signage, 26.0ms\n",
      "Speed: 6.1ms preprocess, 26.0ms inference, 2.3ms postprocess per image at shape (1, 3, 640, 640)\n",
      "\n",
      "0: 640x640 1 extinguisher-helmet, 1 fire signage, 25.9ms\n",
      "Speed: 8.0ms preprocess, 25.9ms inference, 1.0ms postprocess per image at shape (1, 3, 640, 640)\n",
      "\n",
      "0: 640x640 1 fire signage, 26.2ms\n",
      "Speed: 6.0ms preprocess, 26.2ms inference, 0.0ms postprocess per image at shape (1, 3, 640, 640)\n",
      "\n",
      "0: 640x640 1 fire signage, 24.7ms\n",
      "Speed: 5.8ms preprocess, 24.7ms inference, 1.0ms postprocess per image at shape (1, 3, 640, 640)\n",
      "\n",
      "0: 640x640 1 fire signage, 23.6ms\n",
      "Speed: 4.9ms preprocess, 23.6ms inference, 1.0ms postprocess per image at shape (1, 3, 640, 640)\n",
      "\n",
      "0: 640x640 1 extinguisher-helmet, 1 fire signage, 19.0ms\n",
      "Speed: 6.0ms preprocess, 19.0ms inference, 0.0ms postprocess per image at shape (1, 3, 640, 640)\n",
      "\n",
      "0: 640x640 1 extinguisher-helmet, 1 fire signage, 23.5ms\n",
      "Speed: 5.2ms preprocess, 23.5ms inference, 1.0ms postprocess per image at shape (1, 3, 640, 640)\n",
      "\n",
      "0: 640x640 1 extinguisher-helmet, 1 fire extinguisher, 1 fire signage, 25.8ms\n",
      "Speed: 8.4ms preprocess, 25.8ms inference, 1.0ms postprocess per image at shape (1, 3, 640, 640)\n",
      "\n",
      "0: 640x640 1 extinguisher-helmet, 1 fire extinguisher, 1 fire signage, 34.0ms\n",
      "Speed: 6.3ms preprocess, 34.0ms inference, 2.0ms postprocess per image at shape (1, 3, 640, 640)\n",
      "\n",
      "0: 640x640 1 fire extinguisher, 1 fire signage, 24.7ms\n",
      "Speed: 7.6ms preprocess, 24.7ms inference, 2.0ms postprocess per image at shape (1, 3, 640, 640)\n",
      "\n",
      "0: 640x640 1 fire signage, 24.5ms\n",
      "Speed: 7.7ms preprocess, 24.5ms inference, 2.0ms postprocess per image at shape (1, 3, 640, 640)\n",
      "\n",
      "0: 640x640 1 fire extinguisher, 1 fire signage, 23.3ms\n",
      "Speed: 6.8ms preprocess, 23.3ms inference, 1.8ms postprocess per image at shape (1, 3, 640, 640)\n",
      "\n",
      "0: 640x640 1 fire extinguisher, 1 fire signage, 24.3ms\n",
      "Speed: 6.4ms preprocess, 24.3ms inference, 2.0ms postprocess per image at shape (1, 3, 640, 640)\n",
      "\n",
      "0: 640x640 1 fire signage, 26.4ms\n",
      "Speed: 4.4ms preprocess, 26.4ms inference, 1.8ms postprocess per image at shape (1, 3, 640, 640)\n",
      "\n",
      "0: 640x640 1 extinguisher-helmet, 1 fire extinguisher, 1 fire signage, 25.5ms\n",
      "Speed: 8.0ms preprocess, 25.5ms inference, 1.0ms postprocess per image at shape (1, 3, 640, 640)\n",
      "\n",
      "0: 640x640 1 extinguisher-helmet, 1 fire extinguisher, 1 fire signage, 24.0ms\n",
      "Speed: 5.2ms preprocess, 24.0ms inference, 1.3ms postprocess per image at shape (1, 3, 640, 640)\n",
      "\n",
      "0: 640x640 1 extinguisher-helmet, 1 fire extinguisher, 1 fire signage, 26.9ms\n",
      "Speed: 8.0ms preprocess, 26.9ms inference, 2.0ms postprocess per image at shape (1, 3, 640, 640)\n",
      "\n",
      "0: 640x640 1 extinguisher-helmet, 1 fire extinguisher, 1 fire signage, 36.5ms\n",
      "Speed: 8.0ms preprocess, 36.5ms inference, 1.5ms postprocess per image at shape (1, 3, 640, 640)\n",
      "\n",
      "0: 640x640 1 extinguisher-helmet, 1 fire extinguisher, 1 fire signage, 25.1ms\n",
      "Speed: 7.0ms preprocess, 25.1ms inference, 2.0ms postprocess per image at shape (1, 3, 640, 640)\n",
      "\n",
      "0: 640x640 1 fire extinguisher, 1 fire signage, 25.1ms\n",
      "Speed: 6.8ms preprocess, 25.1ms inference, 1.3ms postprocess per image at shape (1, 3, 640, 640)\n",
      "\n",
      "0: 640x640 1 extinguisher-helmet, 1 fire extinguisher, 1 fire signage, 24.7ms\n",
      "Speed: 6.6ms preprocess, 24.7ms inference, 1.0ms postprocess per image at shape (1, 3, 640, 640)\n",
      "\n",
      "0: 640x640 1 extinguisher-helmet, 1 fire signage, 27.5ms\n",
      "Speed: 7.5ms preprocess, 27.5ms inference, 1.7ms postprocess per image at shape (1, 3, 640, 640)\n",
      "\n",
      "0: 640x640 1 extinguisher-helmet, 1 fire signage, 27.5ms\n",
      "Speed: 6.2ms preprocess, 27.5ms inference, 2.0ms postprocess per image at shape (1, 3, 640, 640)\n",
      "\n",
      "0: 640x640 1 extinguisher-helmet, 1 fire extinguisher, 1 fire signage, 25.0ms\n",
      "Speed: 7.0ms preprocess, 25.0ms inference, 1.1ms postprocess per image at shape (1, 3, 640, 640)\n",
      "\n",
      "0: 640x640 1 extinguisher-helmet, 1 fire signage, 25.1ms\n",
      "Speed: 7.4ms preprocess, 25.1ms inference, 1.0ms postprocess per image at shape (1, 3, 640, 640)\n",
      "\n",
      "0: 640x640 1 extinguisher-helmet, 1 fire extinguisher, 1 fire signage, 26.2ms\n",
      "Speed: 9.7ms preprocess, 26.2ms inference, 2.0ms postprocess per image at shape (1, 3, 640, 640)\n",
      "\n",
      "0: 640x640 1 extinguisher-helmet, 2 fire extinguishers, 1 fire signage, 25.9ms\n",
      "Speed: 6.6ms preprocess, 25.9ms inference, 2.0ms postprocess per image at shape (1, 3, 640, 640)\n",
      "\n",
      "0: 640x640 1 extinguisher-helmet, 1 fire extinguisher, 1 fire signage, 29.8ms\n",
      "Speed: 7.1ms preprocess, 29.8ms inference, 1.0ms postprocess per image at shape (1, 3, 640, 640)\n",
      "\n",
      "0: 640x640 1 extinguisher-helmet, 2 fire extinguishers, 1 fire signage, 26.3ms\n",
      "Speed: 10.0ms preprocess, 26.3ms inference, 2.1ms postprocess per image at shape (1, 3, 640, 640)\n",
      "\n",
      "0: 640x640 1 fire extinguisher, 1 fire signage, 23.9ms\n",
      "Speed: 8.2ms preprocess, 23.9ms inference, 2.1ms postprocess per image at shape (1, 3, 640, 640)\n",
      "\n",
      "0: 640x640 1 fire extinguisher, 1 fire signage, 25.1ms\n",
      "Speed: 8.7ms preprocess, 25.1ms inference, 1.1ms postprocess per image at shape (1, 3, 640, 640)\n",
      "\n",
      "0: 640x640 1 fire extinguisher, 1 fire signage, 25.5ms\n",
      "Speed: 5.5ms preprocess, 25.5ms inference, 1.7ms postprocess per image at shape (1, 3, 640, 640)\n",
      "\n",
      "0: 640x640 1 fire extinguisher, 1 fire signage, 27.1ms\n",
      "Speed: 8.8ms preprocess, 27.1ms inference, 2.0ms postprocess per image at shape (1, 3, 640, 640)\n",
      "\n",
      "0: 640x640 1 fire extinguisher, 1 fire signage, 25.6ms\n",
      "Speed: 8.5ms preprocess, 25.6ms inference, 0.9ms postprocess per image at shape (1, 3, 640, 640)\n",
      "\n",
      "0: 640x640 1 fire extinguisher, 1 fire signage, 25.3ms\n",
      "Speed: 11.7ms preprocess, 25.3ms inference, 2.0ms postprocess per image at shape (1, 3, 640, 640)\n",
      "\n",
      "0: 640x640 1 extinguisher-helmet, 1 fire signage, 25.9ms\n",
      "Speed: 6.8ms preprocess, 25.9ms inference, 2.0ms postprocess per image at shape (1, 3, 640, 640)\n",
      "\n",
      "0: 640x640 1 fire extinguisher, 1 fire signage, 22.2ms\n",
      "Speed: 9.6ms preprocess, 22.2ms inference, 3.9ms postprocess per image at shape (1, 3, 640, 640)\n",
      "\n",
      "0: 640x640 1 fire signage, 1 helmet, 26.4ms\n",
      "Speed: 25.4ms preprocess, 26.4ms inference, 2.0ms postprocess per image at shape (1, 3, 640, 640)\n",
      "\n",
      "0: 640x640 1 fire signage, 1 helmet, 25.6ms\n",
      "Speed: 11.3ms preprocess, 25.6ms inference, 2.0ms postprocess per image at shape (1, 3, 640, 640)\n",
      "\n",
      "0: 640x640 1 fire signage, 24.5ms\n",
      "Speed: 9.3ms preprocess, 24.5ms inference, 2.0ms postprocess per image at shape (1, 3, 640, 640)\n",
      "\n",
      "0: 640x640 1 fire signage, 24.7ms\n",
      "Speed: 14.3ms preprocess, 24.7ms inference, 2.0ms postprocess per image at shape (1, 3, 640, 640)\n",
      "\n",
      "0: 640x640 1 fire signage, 24.9ms\n",
      "Speed: 11.5ms preprocess, 24.9ms inference, 1.0ms postprocess per image at shape (1, 3, 640, 640)\n",
      "\n",
      "0: 640x640 1 fire signage, 35.7ms\n",
      "Speed: 0.0ms preprocess, 35.7ms inference, 2.0ms postprocess per image at shape (1, 3, 640, 640)\n",
      "\n",
      "0: 640x640 1 fire signage, 24.9ms\n",
      "Speed: 6.2ms preprocess, 24.9ms inference, 1.0ms postprocess per image at shape (1, 3, 640, 640)\n",
      "\n",
      "0: 640x640 1 fire signage, 30.3ms\n",
      "Speed: 1.7ms preprocess, 30.3ms inference, 1.0ms postprocess per image at shape (1, 3, 640, 640)\n",
      "\n",
      "0: 640x640 2 fire signages, 28.1ms\n",
      "Speed: 7.6ms preprocess, 28.1ms inference, 1.0ms postprocess per image at shape (1, 3, 640, 640)\n",
      "\n",
      "0: 640x640 1 fire signage, 25.7ms\n",
      "Speed: 13.4ms preprocess, 25.7ms inference, 2.0ms postprocess per image at shape (1, 3, 640, 640)\n",
      "\n",
      "0: 640x640 2 fire signages, 24.8ms\n",
      "Speed: 8.9ms preprocess, 24.8ms inference, 2.0ms postprocess per image at shape (1, 3, 640, 640)\n",
      "\n",
      "0: 640x640 1 fire signage, 25.2ms\n",
      "Speed: 11.1ms preprocess, 25.2ms inference, 2.1ms postprocess per image at shape (1, 3, 640, 640)\n",
      "\n",
      "0: 640x640 1 fire signage, 29.2ms\n",
      "Speed: 9.9ms preprocess, 29.2ms inference, 1.0ms postprocess per image at shape (1, 3, 640, 640)\n",
      "\n",
      "0: 640x640 1 fire signage, 25.0ms\n",
      "Speed: 8.9ms preprocess, 25.0ms inference, 1.1ms postprocess per image at shape (1, 3, 640, 640)\n",
      "\n",
      "0: 640x640 1 fire signage, 18.8ms\n",
      "Speed: 6.9ms preprocess, 18.8ms inference, 0.0ms postprocess per image at shape (1, 3, 640, 640)\n",
      "\n",
      "0: 640x640 1 fire signage, 23.5ms\n",
      "Speed: 6.3ms preprocess, 23.5ms inference, 1.8ms postprocess per image at shape (1, 3, 640, 640)\n",
      "\n",
      "0: 640x640 1 fire signage, 23.2ms\n",
      "Speed: 6.2ms preprocess, 23.2ms inference, 1.0ms postprocess per image at shape (1, 3, 640, 640)\n",
      "\n",
      "0: 640x640 1 fire signage, 26.1ms\n",
      "Speed: 5.0ms preprocess, 26.1ms inference, 1.0ms postprocess per image at shape (1, 3, 640, 640)\n",
      "\n",
      "0: 640x640 1 fire signage, 24.7ms\n",
      "Speed: 6.6ms preprocess, 24.7ms inference, 1.0ms postprocess per image at shape (1, 3, 640, 640)\n",
      "\n",
      "0: 640x640 1 fire signage, 25.1ms\n",
      "Speed: 16.2ms preprocess, 25.1ms inference, 2.0ms postprocess per image at shape (1, 3, 640, 640)\n",
      "\n",
      "0: 640x640 1 fire signage, 23.5ms\n",
      "Speed: 11.4ms preprocess, 23.5ms inference, 1.0ms postprocess per image at shape (1, 3, 640, 640)\n",
      "\n",
      "0: 640x640 1 fire signage, 29.3ms\n",
      "Speed: 7.4ms preprocess, 29.3ms inference, 1.3ms postprocess per image at shape (1, 3, 640, 640)\n",
      "\n",
      "0: 640x640 1 fire signage, 25.4ms\n",
      "Speed: 12.3ms preprocess, 25.4ms inference, 1.0ms postprocess per image at shape (1, 3, 640, 640)\n",
      "\n",
      "0: 640x640 1 fire signage, 26.3ms\n",
      "Speed: 11.0ms preprocess, 26.3ms inference, 3.0ms postprocess per image at shape (1, 3, 640, 640)\n",
      "\n",
      "0: 640x640 1 fire extinguisher, 1 fire signage, 24.0ms\n",
      "Speed: 6.9ms preprocess, 24.0ms inference, 2.0ms postprocess per image at shape (1, 3, 640, 640)\n",
      "\n",
      "0: 640x640 1 fire signage, 42.4ms\n",
      "Speed: 6.0ms preprocess, 42.4ms inference, 1.2ms postprocess per image at shape (1, 3, 640, 640)\n",
      "\n",
      "0: 640x640 1 fire signage, 26.3ms\n",
      "Speed: 6.0ms preprocess, 26.3ms inference, 1.4ms postprocess per image at shape (1, 3, 640, 640)\n",
      "\n",
      "0: 640x640 1 fire signage, 25.7ms\n",
      "Speed: 6.7ms preprocess, 25.7ms inference, 1.0ms postprocess per image at shape (1, 3, 640, 640)\n",
      "\n",
      "0: 640x640 1 fire signage, 24.1ms\n",
      "Speed: 11.2ms preprocess, 24.1ms inference, 1.0ms postprocess per image at shape (1, 3, 640, 640)\n",
      "\n",
      "0: 640x640 1 fire signage, 23.8ms\n",
      "Speed: 6.2ms preprocess, 23.8ms inference, 1.0ms postprocess per image at shape (1, 3, 640, 640)\n",
      "\n",
      "0: 640x640 1 fire signage, 24.9ms\n",
      "Speed: 4.0ms preprocess, 24.9ms inference, 1.0ms postprocess per image at shape (1, 3, 640, 640)\n",
      "\n",
      "0: 640x640 1 fire signage, 26.0ms\n",
      "Speed: 8.3ms preprocess, 26.0ms inference, 2.0ms postprocess per image at shape (1, 3, 640, 640)\n",
      "\n",
      "0: 640x640 1 fire signage, 22.2ms\n",
      "Speed: 10.4ms preprocess, 22.2ms inference, 2.2ms postprocess per image at shape (1, 3, 640, 640)\n",
      "\n",
      "0: 640x640 1 fire signage, 26.7ms\n",
      "Speed: 4.3ms preprocess, 26.7ms inference, 2.0ms postprocess per image at shape (1, 3, 640, 640)\n",
      "\n",
      "0: 640x640 1 fire signage, 22.9ms\n",
      "Speed: 6.0ms preprocess, 22.9ms inference, 1.0ms postprocess per image at shape (1, 3, 640, 640)\n",
      "\n",
      "0: 640x640 1 fire signage, 29.5ms\n",
      "Speed: 1.6ms preprocess, 29.5ms inference, 1.4ms postprocess per image at shape (1, 3, 640, 640)\n",
      "\n",
      "0: 640x640 1 fire signage, 26.8ms\n",
      "Speed: 9.4ms preprocess, 26.8ms inference, 1.0ms postprocess per image at shape (1, 3, 640, 640)\n",
      "\n",
      "0: 640x640 1 fire signage, 22.8ms\n",
      "Speed: 6.0ms preprocess, 22.8ms inference, 2.0ms postprocess per image at shape (1, 3, 640, 640)\n",
      "\n",
      "0: 640x640 1 fire extinguisher, 1 fire signage, 23.0ms\n",
      "Speed: 6.0ms preprocess, 23.0ms inference, 1.0ms postprocess per image at shape (1, 3, 640, 640)\n",
      "\n",
      "0: 640x640 1 fire signage, 23.0ms\n",
      "Speed: 6.9ms preprocess, 23.0ms inference, 2.0ms postprocess per image at shape (1, 3, 640, 640)\n",
      "\n",
      "0: 640x640 1 fire signage, 22.7ms\n",
      "Speed: 7.7ms preprocess, 22.7ms inference, 1.0ms postprocess per image at shape (1, 3, 640, 640)\n",
      "\n",
      "0: 640x640 1 fire extinguisher, 1 fire signage, 21.2ms\n",
      "Speed: 11.8ms preprocess, 21.2ms inference, 1.0ms postprocess per image at shape (1, 3, 640, 640)\n",
      "\n",
      "0: 640x640 1 fire signage, 21.9ms\n",
      "Speed: 6.5ms preprocess, 21.9ms inference, 1.0ms postprocess per image at shape (1, 3, 640, 640)\n",
      "\n",
      "0: 640x640 1 fire signage, 22.1ms\n",
      "Speed: 11.6ms preprocess, 22.1ms inference, 2.0ms postprocess per image at shape (1, 3, 640, 640)\n",
      "\n",
      "0: 640x640 1 fire extinguisher, 1 fire signage, 21.5ms\n",
      "Speed: 5.0ms preprocess, 21.5ms inference, 2.0ms postprocess per image at shape (1, 3, 640, 640)\n",
      "\n",
      "0: 640x640 1 fire extinguisher, 1 fire signage, 23.8ms\n",
      "Speed: 5.0ms preprocess, 23.8ms inference, 1.4ms postprocess per image at shape (1, 3, 640, 640)\n",
      "\n",
      "0: 640x640 1 fire extinguisher, 1 fire signage, 20.1ms\n",
      "Speed: 5.1ms preprocess, 20.1ms inference, 6.1ms postprocess per image at shape (1, 3, 640, 640)\n",
      "\n",
      "0: 640x640 3 fire extinguishers, 1 fire signage, 19.0ms\n",
      "Speed: 7.4ms preprocess, 19.0ms inference, 1.3ms postprocess per image at shape (1, 3, 640, 640)\n",
      "\n",
      "0: 640x640 2 fire extinguishers, 1 fire signage, 19.4ms\n",
      "Speed: 9.6ms preprocess, 19.4ms inference, 0.6ms postprocess per image at shape (1, 3, 640, 640)\n",
      "\n",
      "0: 640x640 1 fire extinguisher, 1 fire signage, 19.2ms\n",
      "Speed: 9.0ms preprocess, 19.2ms inference, 1.0ms postprocess per image at shape (1, 3, 640, 640)\n",
      "\n",
      "0: 640x640 1 fire extinguisher, 1 fire signage, 20.5ms\n",
      "Speed: 5.0ms preprocess, 20.5ms inference, 2.0ms postprocess per image at shape (1, 3, 640, 640)\n",
      "\n",
      "0: 640x640 1 fire extinguisher, 1 fire signage, 19.4ms\n",
      "Speed: 8.3ms preprocess, 19.4ms inference, 1.0ms postprocess per image at shape (1, 3, 640, 640)\n",
      "\n",
      "0: 640x640 1 fire extinguisher, 1 fire signage, 17.3ms\n",
      "Speed: 5.4ms preprocess, 17.3ms inference, 1.0ms postprocess per image at shape (1, 3, 640, 640)\n",
      "\n",
      "0: 640x640 1 fire extinguisher, 1 fire signage, 16.6ms\n",
      "Speed: 5.0ms preprocess, 16.6ms inference, 2.0ms postprocess per image at shape (1, 3, 640, 640)\n",
      "\n",
      "0: 640x640 1 fire extinguisher, 1 fire signage, 9.4ms\n",
      "Speed: 8.0ms preprocess, 9.4ms inference, 0.0ms postprocess per image at shape (1, 3, 640, 640)\n",
      "\n",
      "0: 640x640 1 fire extinguisher, 1 fire signage, 18.2ms\n",
      "Speed: 24.4ms preprocess, 18.2ms inference, 1.0ms postprocess per image at shape (1, 3, 640, 640)\n",
      "\n",
      "0: 640x640 1 fire extinguisher, 1 fire signage, 17.1ms\n",
      "Speed: 7.0ms preprocess, 17.1ms inference, 2.0ms postprocess per image at shape (1, 3, 640, 640)\n",
      "\n",
      "0: 640x640 1 fire signage, 17.4ms\n",
      "Speed: 6.0ms preprocess, 17.4ms inference, 1.4ms postprocess per image at shape (1, 3, 640, 640)\n",
      "\n",
      "0: 640x640 1 fire extinguisher, 1 fire signage, 13.8ms\n",
      "Speed: 5.5ms preprocess, 13.8ms inference, 0.0ms postprocess per image at shape (1, 3, 640, 640)\n",
      "\n",
      "0: 640x640 2 fire extinguishers, 1 fire signage, 18.9ms\n",
      "Speed: 8.6ms preprocess, 18.9ms inference, 1.0ms postprocess per image at shape (1, 3, 640, 640)\n",
      "\n",
      "0: 640x640 1 fire extinguisher, 1 fire signage, 18.5ms\n",
      "Speed: 5.0ms preprocess, 18.5ms inference, 0.0ms postprocess per image at shape (1, 3, 640, 640)\n",
      "\n",
      "0: 640x640 1 fire extinguisher, 1 fire signage, 18.4ms\n",
      "Speed: 6.2ms preprocess, 18.4ms inference, 1.0ms postprocess per image at shape (1, 3, 640, 640)\n",
      "\n",
      "0: 640x640 1 fire extinguisher, 1 fire signage, 19.5ms\n",
      "Speed: 6.5ms preprocess, 19.5ms inference, 1.1ms postprocess per image at shape (1, 3, 640, 640)\n",
      "\n",
      "0: 640x640 1 fire extinguisher, 1 fire signage, 26.1ms\n",
      "Speed: 8.0ms preprocess, 26.1ms inference, 1.0ms postprocess per image at shape (1, 3, 640, 640)\n",
      "\n",
      "0: 640x640 1 fire extinguisher, 1 fire signage, 11.6ms\n",
      "Speed: 5.5ms preprocess, 11.6ms inference, 16.4ms postprocess per image at shape (1, 3, 640, 640)\n",
      "\n",
      "0: 640x640 1 fire extinguisher, 1 fire signage, 28.5ms\n",
      "Speed: 3.1ms preprocess, 28.5ms inference, 1.8ms postprocess per image at shape (1, 3, 640, 640)\n",
      "\n",
      "0: 640x640 2 fire extinguishers, 1 fire signage, 25.0ms\n",
      "Speed: 6.6ms preprocess, 25.0ms inference, 1.6ms postprocess per image at shape (1, 3, 640, 640)\n",
      "\n",
      "0: 640x640 1 fire extinguisher, 1 fire signage, 21.6ms\n",
      "Speed: 10.1ms preprocess, 21.6ms inference, 0.0ms postprocess per image at shape (1, 3, 640, 640)\n",
      "\n",
      "0: 640x640 2 fire extinguishers, 1 fire signage, 33.0ms\n",
      "Speed: 1.8ms preprocess, 33.0ms inference, 1.0ms postprocess per image at shape (1, 3, 640, 640)\n",
      "\n",
      "0: 640x640 2 fire extinguishers, 23.9ms\n",
      "Speed: 8.0ms preprocess, 23.9ms inference, 0.0ms postprocess per image at shape (1, 3, 640, 640)\n",
      "\n",
      "0: 640x640 1 fire extinguisher, 25.2ms\n",
      "Speed: 7.8ms preprocess, 25.2ms inference, 1.9ms postprocess per image at shape (1, 3, 640, 640)\n",
      "\n",
      "0: 640x640 2 fire extinguishers, 25.2ms\n",
      "Speed: 13.7ms preprocess, 25.2ms inference, 1.2ms postprocess per image at shape (1, 3, 640, 640)\n",
      "\n",
      "0: 640x640 2 fire extinguishers, 24.8ms\n",
      "Speed: 8.5ms preprocess, 24.8ms inference, 1.0ms postprocess per image at shape (1, 3, 640, 640)\n",
      "\n",
      "0: 640x640 2 fire extinguishers, 23.9ms\n",
      "Speed: 6.2ms preprocess, 23.9ms inference, 1.0ms postprocess per image at shape (1, 3, 640, 640)\n",
      "\n",
      "0: 640x640 1 fire extinguisher, 27.7ms\n",
      "Speed: 5.6ms preprocess, 27.7ms inference, 1.0ms postprocess per image at shape (1, 3, 640, 640)\n",
      "\n",
      "0: 640x640 1 fire extinguisher, 25.0ms\n",
      "Speed: 7.2ms preprocess, 25.0ms inference, 2.0ms postprocess per image at shape (1, 3, 640, 640)\n",
      "\n",
      "0: 640x640 1 fire extinguisher, 25.3ms\n",
      "Speed: 7.9ms preprocess, 25.3ms inference, 1.0ms postprocess per image at shape (1, 3, 640, 640)\n",
      "\n",
      "0: 640x640 1 fire extinguisher, 24.0ms\n",
      "Speed: 9.0ms preprocess, 24.0ms inference, 2.0ms postprocess per image at shape (1, 3, 640, 640)\n",
      "\n",
      "0: 640x640 1 fire extinguisher, 24.8ms\n",
      "Speed: 5.0ms preprocess, 24.8ms inference, 1.0ms postprocess per image at shape (1, 3, 640, 640)\n",
      "\n",
      "0: 640x640 1 fire extinguisher, 26.0ms\n",
      "Speed: 10.0ms preprocess, 26.0ms inference, 3.0ms postprocess per image at shape (1, 3, 640, 640)\n",
      "\n",
      "0: 640x640 1 fire extinguisher, 26.1ms\n",
      "Speed: 7.0ms preprocess, 26.1ms inference, 1.0ms postprocess per image at shape (1, 3, 640, 640)\n",
      "\n",
      "0: 640x640 1 fire extinguisher, 27.1ms\n",
      "Speed: 5.0ms preprocess, 27.1ms inference, 1.0ms postprocess per image at shape (1, 3, 640, 640)\n",
      "\n",
      "0: 640x640 1 fire extinguisher, 23.0ms\n",
      "Speed: 8.0ms preprocess, 23.0ms inference, 2.0ms postprocess per image at shape (1, 3, 640, 640)\n",
      "\n",
      "0: 640x640 1 fire extinguisher, 24.3ms\n",
      "Speed: 7.2ms preprocess, 24.3ms inference, 1.0ms postprocess per image at shape (1, 3, 640, 640)\n",
      "\n",
      "0: 640x640 1 fire extinguisher, 50.4ms\n",
      "Speed: 0.9ms preprocess, 50.4ms inference, 1.8ms postprocess per image at shape (1, 3, 640, 640)\n",
      "\n",
      "0: 640x640 1 fire extinguisher, 1 helmet, 26.1ms\n",
      "Speed: 10.0ms preprocess, 26.1ms inference, 2.0ms postprocess per image at shape (1, 3, 640, 640)\n",
      "\n",
      "0: 640x640 1 fire extinguisher, 25.0ms\n",
      "Speed: 5.5ms preprocess, 25.0ms inference, 1.0ms postprocess per image at shape (1, 3, 640, 640)\n",
      "\n",
      "0: 640x640 1 fire extinguisher, 25.2ms\n",
      "Speed: 9.9ms preprocess, 25.2ms inference, 2.0ms postprocess per image at shape (1, 3, 640, 640)\n",
      "\n",
      "0: 640x640 1 fire extinguisher, 24.6ms\n",
      "Speed: 10.6ms preprocess, 24.6ms inference, 1.0ms postprocess per image at shape (1, 3, 640, 640)\n",
      "\n",
      "0: 640x640 1 fire extinguisher, 24.9ms\n",
      "Speed: 16.4ms preprocess, 24.9ms inference, 2.0ms postprocess per image at shape (1, 3, 640, 640)\n",
      "\n",
      "0: 640x640 1 fire extinguisher, 1 fire signage, 24.8ms\n",
      "Speed: 5.0ms preprocess, 24.8ms inference, 1.0ms postprocess per image at shape (1, 3, 640, 640)\n",
      "\n",
      "0: 640x640 1 fire extinguisher, 24.6ms\n",
      "Speed: 9.0ms preprocess, 24.6ms inference, 1.0ms postprocess per image at shape (1, 3, 640, 640)\n",
      "\n",
      "0: 640x640 1 fire extinguisher, 31.4ms\n",
      "Speed: 4.7ms preprocess, 31.4ms inference, 1.0ms postprocess per image at shape (1, 3, 640, 640)\n",
      "\n",
      "0: 640x640 2 fire extinguishers, 25.3ms\n",
      "Speed: 5.0ms preprocess, 25.3ms inference, 1.0ms postprocess per image at shape (1, 3, 640, 640)\n",
      "\n",
      "0: 640x640 2 fire extinguishers, 25.4ms\n",
      "Speed: 8.0ms preprocess, 25.4ms inference, 2.0ms postprocess per image at shape (1, 3, 640, 640)\n",
      "\n",
      "0: 640x640 2 fire extinguishers, 1 helmet, 24.7ms\n",
      "Speed: 8.8ms preprocess, 24.7ms inference, 2.0ms postprocess per image at shape (1, 3, 640, 640)\n",
      "\n",
      "0: 640x640 2 fire extinguishers, 1 helmet, 26.4ms\n",
      "Speed: 6.8ms preprocess, 26.4ms inference, 2.6ms postprocess per image at shape (1, 3, 640, 640)\n",
      "\n",
      "0: 640x640 2 fire extinguishers, 1 fire signage, 13.8ms\n",
      "Speed: 8.6ms preprocess, 13.8ms inference, 0.0ms postprocess per image at shape (1, 3, 640, 640)\n",
      "\n",
      "0: 640x640 1 fire extinguisher, 25.7ms\n",
      "Speed: 8.1ms preprocess, 25.7ms inference, 1.0ms postprocess per image at shape (1, 3, 640, 640)\n",
      "\n",
      "0: 640x640 1 fire extinguisher, 32.1ms\n",
      "Speed: 6.1ms preprocess, 32.1ms inference, 2.0ms postprocess per image at shape (1, 3, 640, 640)\n",
      "\n",
      "0: 640x640 1 fire extinguisher, 27.6ms\n",
      "Speed: 9.0ms preprocess, 27.6ms inference, 1.1ms postprocess per image at shape (1, 3, 640, 640)\n",
      "\n",
      "0: 640x640 1 fire extinguisher, 24.6ms\n",
      "Speed: 7.0ms preprocess, 24.6ms inference, 1.0ms postprocess per image at shape (1, 3, 640, 640)\n",
      "\n",
      "0: 640x640 1 fire extinguisher, 26.2ms\n",
      "Speed: 5.4ms preprocess, 26.2ms inference, 1.0ms postprocess per image at shape (1, 3, 640, 640)\n",
      "\n",
      "0: 640x640 1 fire extinguisher, 23.3ms\n",
      "Speed: 14.6ms preprocess, 23.3ms inference, 2.0ms postprocess per image at shape (1, 3, 640, 640)\n",
      "\n",
      "0: 640x640 1 fire extinguisher, 25.7ms\n",
      "Speed: 9.0ms preprocess, 25.7ms inference, 2.0ms postprocess per image at shape (1, 3, 640, 640)\n",
      "\n",
      "0: 640x640 1 fire extinguisher, 24.9ms\n",
      "Speed: 7.7ms preprocess, 24.9ms inference, 2.0ms postprocess per image at shape (1, 3, 640, 640)\n",
      "\n",
      "0: 640x640 1 fire extinguisher, 24.5ms\n",
      "Speed: 8.5ms preprocess, 24.5ms inference, 1.0ms postprocess per image at shape (1, 3, 640, 640)\n",
      "\n",
      "0: 640x640 2 fire extinguishers, 18.3ms\n",
      "Speed: 7.5ms preprocess, 18.3ms inference, 0.0ms postprocess per image at shape (1, 3, 640, 640)\n",
      "\n",
      "0: 640x640 3 fire extinguishers, 24.1ms\n",
      "Speed: 7.0ms preprocess, 24.1ms inference, 1.0ms postprocess per image at shape (1, 3, 640, 640)\n",
      "\n",
      "0: 640x640 3 fire extinguishers, 1 helmet, 23.0ms\n",
      "Speed: 6.7ms preprocess, 23.0ms inference, 1.0ms postprocess per image at shape (1, 3, 640, 640)\n",
      "\n",
      "0: 640x640 2 fire extinguishers, 1 helmet, 24.6ms\n",
      "Speed: 8.2ms preprocess, 24.6ms inference, 1.2ms postprocess per image at shape (1, 3, 640, 640)\n",
      "\n",
      "0: 640x640 1 fire extinguisher, 24.1ms\n",
      "Speed: 8.3ms preprocess, 24.1ms inference, 2.0ms postprocess per image at shape (1, 3, 640, 640)\n",
      "\n",
      "0: 640x640 2 fire extinguishers, 25.0ms\n",
      "Speed: 9.0ms preprocess, 25.0ms inference, 2.0ms postprocess per image at shape (1, 3, 640, 640)\n",
      "\n",
      "0: 640x640 2 fire extinguishers, 25.4ms\n",
      "Speed: 8.0ms preprocess, 25.4ms inference, 1.0ms postprocess per image at shape (1, 3, 640, 640)\n",
      "\n",
      "0: 640x640 1 fire extinguisher, 24.9ms\n",
      "Speed: 6.6ms preprocess, 24.9ms inference, 2.0ms postprocess per image at shape (1, 3, 640, 640)\n",
      "\n",
      "0: 640x640 2 fire extinguishers, 1 helmet, 20.6ms\n",
      "Speed: 9.7ms preprocess, 20.6ms inference, 0.0ms postprocess per image at shape (1, 3, 640, 640)\n",
      "\n",
      "0: 640x640 1 fire extinguisher, 1 helmet, 25.3ms\n",
      "Speed: 8.7ms preprocess, 25.3ms inference, 2.0ms postprocess per image at shape (1, 3, 640, 640)\n",
      "\n",
      "0: 640x640 2 fire extinguishers, 1 helmet, 27.2ms\n",
      "Speed: 7.0ms preprocess, 27.2ms inference, 2.0ms postprocess per image at shape (1, 3, 640, 640)\n",
      "\n",
      "0: 640x640 2 fire extinguishers, 1 helmet, 23.7ms\n",
      "Speed: 9.6ms preprocess, 23.7ms inference, 2.0ms postprocess per image at shape (1, 3, 640, 640)\n",
      "\n",
      "0: 640x640 2 fire extinguishers, 2 helmets, 26.1ms\n",
      "Speed: 8.0ms preprocess, 26.1ms inference, 2.0ms postprocess per image at shape (1, 3, 640, 640)\n",
      "\n",
      "0: 640x640 2 fire extinguishers, 1 helmet, 27.5ms\n",
      "Speed: 1.8ms preprocess, 27.5ms inference, 1.7ms postprocess per image at shape (1, 3, 640, 640)\n",
      "\n",
      "0: 640x640 2 fire extinguishers, 1 helmet, 24.3ms\n",
      "Speed: 6.0ms preprocess, 24.3ms inference, 1.0ms postprocess per image at shape (1, 3, 640, 640)\n",
      "\n",
      "0: 640x640 2 fire extinguishers, 1 helmet, 25.4ms\n",
      "Speed: 7.3ms preprocess, 25.4ms inference, 1.0ms postprocess per image at shape (1, 3, 640, 640)\n",
      "\n",
      "0: 640x640 1 fire extinguisher, 1 helmet, 26.2ms\n",
      "Speed: 7.0ms preprocess, 26.2ms inference, 1.0ms postprocess per image at shape (1, 3, 640, 640)\n",
      "\n",
      "0: 640x640 1 fire extinguisher, 1 helmet, 23.5ms\n",
      "Speed: 7.5ms preprocess, 23.5ms inference, 1.0ms postprocess per image at shape (1, 3, 640, 640)\n",
      "\n",
      "0: 640x640 2 fire extinguishers, 1 helmet, 23.9ms\n",
      "Speed: 5.0ms preprocess, 23.9ms inference, 1.0ms postprocess per image at shape (1, 3, 640, 640)\n",
      "\n",
      "0: 640x640 2 fire extinguishers, 1 helmet, 28.4ms\n",
      "Speed: 4.1ms preprocess, 28.4ms inference, 1.0ms postprocess per image at shape (1, 3, 640, 640)\n",
      "\n",
      "0: 640x640 3 fire extinguishers, 23.9ms\n",
      "Speed: 8.5ms preprocess, 23.9ms inference, 1.0ms postprocess per image at shape (1, 3, 640, 640)\n",
      "\n",
      "0: 640x640 3 fire extinguishers, 24.2ms\n",
      "Speed: 7.0ms preprocess, 24.2ms inference, 1.0ms postprocess per image at shape (1, 3, 640, 640)\n",
      "\n",
      "0: 640x640 2 fire extinguishers, 1 helmet, 24.5ms\n",
      "Speed: 6.7ms preprocess, 24.5ms inference, 1.0ms postprocess per image at shape (1, 3, 640, 640)\n",
      "\n",
      "0: 640x640 2 fire extinguishers, 1 helmet, 25.0ms\n",
      "Speed: 6.0ms preprocess, 25.0ms inference, 2.0ms postprocess per image at shape (1, 3, 640, 640)\n",
      "\n",
      "0: 640x640 3 fire extinguishers, 1 helmet, 22.9ms\n",
      "Speed: 8.7ms preprocess, 22.9ms inference, 0.0ms postprocess per image at shape (1, 3, 640, 640)\n",
      "\n",
      "0: 640x640 2 fire extinguishers, 1 helmet, 25.6ms\n",
      "Speed: 6.2ms preprocess, 25.6ms inference, 1.0ms postprocess per image at shape (1, 3, 640, 640)\n",
      "\n",
      "0: 640x640 2 fire extinguishers, 1 helmet, 17.2ms\n",
      "Speed: 5.2ms preprocess, 17.2ms inference, 0.0ms postprocess per image at shape (1, 3, 640, 640)\n",
      "\n",
      "0: 640x640 1 fire extinguisher, 1 helmet, 24.5ms\n",
      "Speed: 6.9ms preprocess, 24.5ms inference, 1.0ms postprocess per image at shape (1, 3, 640, 640)\n",
      "\n",
      "0: 640x640 1 fire extinguisher, 1 helmet, 27.1ms\n",
      "Speed: 6.0ms preprocess, 27.1ms inference, 1.0ms postprocess per image at shape (1, 3, 640, 640)\n",
      "\n",
      "0: 640x640 1 fire extinguisher, 1 helmet, 24.3ms\n",
      "Speed: 8.0ms preprocess, 24.3ms inference, 1.0ms postprocess per image at shape (1, 3, 640, 640)\n",
      "\n",
      "0: 640x640 1 fire extinguisher, 1 helmet, 24.3ms\n",
      "Speed: 8.0ms preprocess, 24.3ms inference, 1.0ms postprocess per image at shape (1, 3, 640, 640)\n",
      "\n",
      "0: 640x640 1 fire extinguisher, 25.3ms\n",
      "Speed: 4.0ms preprocess, 25.3ms inference, 1.0ms postprocess per image at shape (1, 3, 640, 640)\n",
      "\n",
      "0: 640x640 1 fire extinguisher, 1 helmet, 24.7ms\n",
      "Speed: 10.1ms preprocess, 24.7ms inference, 2.0ms postprocess per image at shape (1, 3, 640, 640)\n",
      "\n",
      "0: 640x640 2 fire extinguishers, 1 helmet, 23.7ms\n",
      "Speed: 7.8ms preprocess, 23.7ms inference, 1.0ms postprocess per image at shape (1, 3, 640, 640)\n",
      "\n",
      "0: 640x640 2 fire extinguishers, 25.8ms\n",
      "Speed: 8.1ms preprocess, 25.8ms inference, 1.0ms postprocess per image at shape (1, 3, 640, 640)\n",
      "\n",
      "0: 640x640 2 fire extinguishers, 24.1ms\n",
      "Speed: 6.0ms preprocess, 24.1ms inference, 1.3ms postprocess per image at shape (1, 3, 640, 640)\n",
      "\n",
      "0: 640x640 2 fire extinguishers, 23.9ms\n",
      "Speed: 6.0ms preprocess, 23.9ms inference, 4.4ms postprocess per image at shape (1, 3, 640, 640)\n",
      "\n",
      "0: 640x640 2 fire extinguishers, 24.7ms\n",
      "Speed: 7.0ms preprocess, 24.7ms inference, 1.6ms postprocess per image at shape (1, 3, 640, 640)\n",
      "\n",
      "0: 640x640 2 fire extinguishers, 24.5ms\n",
      "Speed: 7.7ms preprocess, 24.5ms inference, 2.0ms postprocess per image at shape (1, 3, 640, 640)\n",
      "\n",
      "0: 640x640 2 fire extinguishers, 24.5ms\n",
      "Speed: 5.2ms preprocess, 24.5ms inference, 1.0ms postprocess per image at shape (1, 3, 640, 640)\n",
      "\n",
      "0: 640x640 1 fire extinguisher, 24.1ms\n",
      "Speed: 6.6ms preprocess, 24.1ms inference, 1.0ms postprocess per image at shape (1, 3, 640, 640)\n",
      "\n",
      "0: 640x640 2 fire extinguishers, 25.8ms\n",
      "Speed: 7.6ms preprocess, 25.8ms inference, 1.0ms postprocess per image at shape (1, 3, 640, 640)\n",
      "\n",
      "0: 640x640 2 fire extinguishers, 1 helmet, 25.3ms\n",
      "Speed: 4.3ms preprocess, 25.3ms inference, 1.0ms postprocess per image at shape (1, 3, 640, 640)\n",
      "\n",
      "0: 640x640 1 fire extinguisher, 24.7ms\n",
      "Speed: 7.7ms preprocess, 24.7ms inference, 2.0ms postprocess per image at shape (1, 3, 640, 640)\n",
      "\n",
      "0: 640x640 2 fire extinguishers, 1 helmet, 37.2ms\n",
      "Speed: 9.0ms preprocess, 37.2ms inference, 0.9ms postprocess per image at shape (1, 3, 640, 640)\n",
      "\n",
      "0: 640x640 1 fire extinguisher, 1 helmet, 24.3ms\n",
      "Speed: 6.7ms preprocess, 24.3ms inference, 0.0ms postprocess per image at shape (1, 3, 640, 640)\n",
      "\n",
      "0: 640x640 1 fire extinguisher, 1 helmet, 25.8ms\n",
      "Speed: 4.4ms preprocess, 25.8ms inference, 1.0ms postprocess per image at shape (1, 3, 640, 640)\n",
      "\n",
      "0: 640x640 1 fire extinguisher, 1 helmet, 24.3ms\n",
      "Speed: 7.8ms preprocess, 24.3ms inference, 1.0ms postprocess per image at shape (1, 3, 640, 640)\n",
      "\n",
      "0: 640x640 2 fire extinguishers, 1 helmet, 23.9ms\n",
      "Speed: 6.7ms preprocess, 23.9ms inference, 1.0ms postprocess per image at shape (1, 3, 640, 640)\n",
      "\n",
      "0: 640x640 1 fire extinguisher, 1 helmet, 27.1ms\n",
      "Speed: 6.7ms preprocess, 27.1ms inference, 2.0ms postprocess per image at shape (1, 3, 640, 640)\n",
      "\n",
      "0: 640x640 2 fire extinguishers, 1 helmet, 23.8ms\n",
      "Speed: 8.0ms preprocess, 23.8ms inference, 1.0ms postprocess per image at shape (1, 3, 640, 640)\n",
      "\n",
      "0: 640x640 2 fire extinguishers, 1 helmet, 24.7ms\n",
      "Speed: 13.3ms preprocess, 24.7ms inference, 1.0ms postprocess per image at shape (1, 3, 640, 640)\n",
      "\n",
      "0: 640x640 2 fire extinguishers, 1 helmet, 26.2ms\n",
      "Speed: 10.0ms preprocess, 26.2ms inference, 1.0ms postprocess per image at shape (1, 3, 640, 640)\n",
      "\n",
      "0: 640x640 2 fire extinguishers, 1 helmet, 32.9ms\n",
      "Speed: 9.0ms preprocess, 32.9ms inference, 2.0ms postprocess per image at shape (1, 3, 640, 640)\n",
      "\n",
      "0: 640x640 2 fire extinguishers, 1 helmet, 26.6ms\n",
      "Speed: 5.2ms preprocess, 26.6ms inference, 2.0ms postprocess per image at shape (1, 3, 640, 640)\n",
      "\n",
      "0: 640x640 2 fire extinguishers, 1 helmet, 26.2ms\n",
      "Speed: 8.0ms preprocess, 26.2ms inference, 1.0ms postprocess per image at shape (1, 3, 640, 640)\n",
      "\n",
      "0: 640x640 2 fire extinguishers, 1 helmet, 23.3ms\n",
      "Speed: 8.3ms preprocess, 23.3ms inference, 1.0ms postprocess per image at shape (1, 3, 640, 640)\n",
      "\n",
      "0: 640x640 2 fire extinguishers, 1 helmet, 23.9ms\n",
      "Speed: 6.0ms preprocess, 23.9ms inference, 1.0ms postprocess per image at shape (1, 3, 640, 640)\n",
      "\n",
      "0: 640x640 2 fire extinguishers, 1 helmet, 26.2ms\n",
      "Speed: 6.0ms preprocess, 26.2ms inference, 1.0ms postprocess per image at shape (1, 3, 640, 640)\n",
      "\n",
      "0: 640x640 2 fire extinguishers, 1 helmet, 23.6ms\n",
      "Speed: 7.6ms preprocess, 23.6ms inference, 2.0ms postprocess per image at shape (1, 3, 640, 640)\n",
      "\n",
      "0: 640x640 2 fire extinguishers, 1 helmet, 23.0ms\n",
      "Speed: 5.6ms preprocess, 23.0ms inference, 2.0ms postprocess per image at shape (1, 3, 640, 640)\n",
      "\n",
      "0: 640x640 2 fire extinguishers, 1 helmet, 25.1ms\n",
      "Speed: 5.0ms preprocess, 25.1ms inference, 2.0ms postprocess per image at shape (1, 3, 640, 640)\n",
      "\n",
      "0: 640x640 2 fire extinguishers, 1 helmet, 24.6ms\n",
      "Speed: 9.8ms preprocess, 24.6ms inference, 1.0ms postprocess per image at shape (1, 3, 640, 640)\n"
     ]
    }
   ],
   "source": [
    "# from ultralytics import YOLO\n",
    "import cv2\n",
    "import openvino\n",
    "\n",
    "# Load the YOLO model\n",
    "model = YOLO(\"iti107_assignment/train/weights/best_int8_openvino_model\", task=\"detect\")\n",
    "\n",
    "# Open the video file\n",
    "video_path = \"./fire-protection-9074899G.mp4\"\n",
    "cap = cv2.VideoCapture(video_path)\n",
    "\n",
    "# Loop through the video frames\n",
    "while cap.isOpened():\n",
    "    # Read a frame from the video\n",
    "    success, frame = cap.read()\n",
    "\n",
    "    if success:\n",
    "        # Run YOLO inference on the frame on GPU Device 0\n",
    "        results = model(frame, device=\"cpu\")\n",
    "\n",
    "        # Visualize the results on the frame\n",
    "        annotated_frame = results[0].plot()\n",
    "\n",
    "        # Display the annotated frame\n",
    "        cv2.imshow(\"YOLO Inference\", annotated_frame)\n",
    "\n",
    "        # Break the loop if 'q' is pressed\n",
    "        if cv2.waitKey(1) & 0xFF == ord(\"q\"):\n",
    "            break\n",
    "    else:\n",
    "        # Break the loop if the end of the video is reached\n",
    "        break\n",
    "\n",
    "# Release the video capture object and close the display window\n",
    "cap.release()\n",
    "cv2.destroyAllWindows()"
   ]
  },
  {
   "cell_type": "markdown",
   "metadata": {
    "id": "AZoRxssK98O_"
   },
   "source": [
    "### Detect and write to a video file"
   ]
  },
  {
   "cell_type": "code",
   "execution_count": 23,
   "metadata": {
    "id": "fqXYqdRC64mS"
   },
   "outputs": [],
   "source": [
    "# from ultralytics import YOLO\n",
    "# import cv2\n",
    "from tqdm import tqdm\n",
    "\n",
    "def write_video(video_in_filepath, video_out_filepath, model):\n",
    "    # Open the video file\n",
    "\n",
    "    video_reader = cv2.VideoCapture(video_in_filepath)\n",
    "\n",
    "    nb_frames = int(video_reader.get(cv2.CAP_PROP_FRAME_COUNT))\n",
    "    frame_h = int(video_reader.get(cv2.CAP_PROP_FRAME_HEIGHT))\n",
    "    frame_w = int(video_reader.get(cv2.CAP_PROP_FRAME_WIDTH))\n",
    "    fps = video_reader.get(cv2.CAP_PROP_FPS)\n",
    "\n",
    "    video_writer = cv2.VideoWriter(video_out_filepath,\n",
    "                            cv2.VideoWriter_fourcc(*'mp4v'),\n",
    "                            fps,\n",
    "                            (frame_w, frame_h))\n",
    "\n",
    "    # Loop through the video frames\n",
    "    for i in tqdm(range(nb_frames)):\n",
    "        # Read a frame from the video\n",
    "        success, frame = video_reader.read()\n",
    "\n",
    "        if success:\n",
    "            # Run YOLO inference on the frame on GPU Device 0\n",
    "            # results = model(frame, device=0)\n",
    "            results = model(frame, device='cpu')\n",
    "\n",
    "            # Visualize the results on the frame\n",
    "            annotated_frame = results[0].plot()\n",
    "\n",
    "            # Write the annotated frame\n",
    "            video_writer.write(annotated_frame)\n",
    "\n",
    "    video_reader.release()\n",
    "    video_writer.release()\n",
    "    cv2.destroyAllWindows()\n",
    "    cv2.waitKey(1)\n"
   ]
  },
  {
   "cell_type": "code",
   "execution_count": 24,
   "metadata": {
    "id": "oT_bq-gC8q2m"
   },
   "outputs": [
    {
     "name": "stderr",
     "output_type": "stream",
     "text": [
      "  0%|                                                                                         | 0/1315 [00:00<?, ?it/s]"
     ]
    },
    {
     "name": "stdout",
     "output_type": "stream",
     "text": [
      "Loading iti107_assignment\\train\\weights\\best_int8_openvino_model for OpenVINO inference...\n",
      "Using OpenVINO LATENCY mode for batch=1 inference...\n",
      "\n",
      "0: 640x640 3 extinguisher-helmets, 3 fire extinguishers, 1 fire signage, 46.5ms\n",
      "Speed: 3.0ms preprocess, 46.5ms inference, 1.0ms postprocess per image at shape (1, 3, 640, 640)\n"
     ]
    },
    {
     "name": "stderr",
     "output_type": "stream",
     "text": [
      "  0%|                                                                                 | 1/1315 [00:00<21:21,  1.03it/s]"
     ]
    },
    {
     "name": "stdout",
     "output_type": "stream",
     "text": [
      "\n",
      "0: 640x640 3 extinguisher-helmets, 4 fire extinguishers, 1 fire signage, 2 helmets, 74.4ms\n",
      "Speed: 6.0ms preprocess, 74.4ms inference, 11.2ms postprocess per image at shape (1, 3, 640, 640)\n"
     ]
    },
    {
     "name": "stderr",
     "output_type": "stream",
     "text": [
      "  0%|                                                                                 | 2/1315 [00:01<10:43,  2.04it/s]"
     ]
    },
    {
     "name": "stdout",
     "output_type": "stream",
     "text": [
      "\n",
      "0: 640x640 3 extinguisher-helmets, 3 fire extinguishers, 1 fire signage, 40.9ms\n",
      "Speed: 6.1ms preprocess, 40.9ms inference, 2.0ms postprocess per image at shape (1, 3, 640, 640)\n"
     ]
    },
    {
     "name": "stderr",
     "output_type": "stream",
     "text": [
      "  0%|▏                                                                                | 3/1315 [00:01<06:52,  3.18it/s]"
     ]
    },
    {
     "name": "stdout",
     "output_type": "stream",
     "text": [
      "\n",
      "0: 640x640 3 extinguisher-helmets, 4 fire extinguishers, 3 fire signages, 2 helmets, 166.6ms\n",
      "Speed: 6.0ms preprocess, 166.6ms inference, 1.0ms postprocess per image at shape (1, 3, 640, 640)\n"
     ]
    },
    {
     "name": "stderr",
     "output_type": "stream",
     "text": [
      "  0%|▏                                                                                | 4/1315 [00:01<06:17,  3.47it/s]"
     ]
    },
    {
     "name": "stdout",
     "output_type": "stream",
     "text": [
      "\n",
      "0: 640x640 3 extinguisher-helmets, 4 fire extinguishers, 3 fire signages, 74.6ms\n",
      "Speed: 6.0ms preprocess, 74.6ms inference, 1.0ms postprocess per image at shape (1, 3, 640, 640)\n"
     ]
    },
    {
     "name": "stderr",
     "output_type": "stream",
     "text": [
      "  0%|▎                                                                                | 5/1315 [00:01<05:09,  4.23it/s]"
     ]
    },
    {
     "name": "stdout",
     "output_type": "stream",
     "text": [
      "\n",
      "0: 640x640 3 extinguisher-helmets, 5 fire extinguishers, 3 fire signages, 1 helmet, 31.3ms\n",
      "Speed: 6.1ms preprocess, 31.3ms inference, 1.7ms postprocess per image at shape (1, 3, 640, 640)\n"
     ]
    },
    {
     "name": "stderr",
     "output_type": "stream",
     "text": [
      "  0%|▎                                                                                | 6/1315 [00:01<04:09,  5.24it/s]"
     ]
    },
    {
     "name": "stdout",
     "output_type": "stream",
     "text": [
      "\n",
      "0: 640x640 4 extinguisher-helmets, 3 fire extinguishers, 3 fire signages, 1 helmet, 23.5ms\n",
      "Speed: 5.7ms preprocess, 23.5ms inference, 1.0ms postprocess per image at shape (1, 3, 640, 640)\n",
      "\n",
      "0: 640x640 3 extinguisher-helmets, 4 fire extinguishers, 2 fire signages, 3 helmets, 19.7ms\n",
      "Speed: 5.9ms preprocess, 19.7ms inference, 1.0ms postprocess per image at shape (1, 3, 640, 640)\n"
     ]
    },
    {
     "name": "stderr",
     "output_type": "stream",
     "text": [
      "  1%|▍                                                                                | 8/1315 [00:01<03:03,  7.14it/s]"
     ]
    },
    {
     "name": "stdout",
     "output_type": "stream",
     "text": [
      "\n",
      "0: 640x640 3 extinguisher-helmets, 5 fire extinguishers, 1 fire signage, 3 helmets, 19.9ms\n",
      "Speed: 5.0ms preprocess, 19.9ms inference, 1.0ms postprocess per image at shape (1, 3, 640, 640)\n",
      "\n",
      "0: 640x640 4 extinguisher-helmets, 7 fire extinguishers, 1 fire signage, 2 helmets, 24.1ms\n",
      "Speed: 5.0ms preprocess, 24.1ms inference, 1.0ms postprocess per image at shape (1, 3, 640, 640)\n"
     ]
    },
    {
     "name": "stderr",
     "output_type": "stream",
     "text": [
      "  1%|▌                                                                               | 10/1315 [00:02<02:37,  8.31it/s]"
     ]
    },
    {
     "name": "stdout",
     "output_type": "stream",
     "text": [
      "\n",
      "0: 640x640 5 extinguisher-helmets, 7 fire extinguishers, 1 fire signage, 2 helmets, 9.8ms\n",
      "Speed: 5.0ms preprocess, 9.8ms inference, 0.0ms postprocess per image at shape (1, 3, 640, 640)\n",
      "\n",
      "0: 640x640 5 extinguisher-helmets, 6 fire extinguishers, 1 fire signage, 2 helmets, 22.3ms\n",
      "Speed: 6.0ms preprocess, 22.3ms inference, 1.0ms postprocess per image at shape (1, 3, 640, 640)\n"
     ]
    },
    {
     "name": "stderr",
     "output_type": "stream",
     "text": [
      "  1%|▋                                                                               | 12/1315 [00:02<02:29,  8.70it/s]"
     ]
    },
    {
     "name": "stdout",
     "output_type": "stream",
     "text": [
      "\n",
      "0: 640x640 6 extinguisher-helmets, 6 fire extinguishers, 1 fire signage, 3 helmets, 19.5ms\n",
      "Speed: 5.0ms preprocess, 19.5ms inference, 1.0ms postprocess per image at shape (1, 3, 640, 640)\n",
      "\n",
      "0: 640x640 5 extinguisher-helmets, 6 fire extinguishers, 3 fire signages, 2 helmets, 22.5ms\n",
      "Speed: 4.0ms preprocess, 22.5ms inference, 1.0ms postprocess per image at shape (1, 3, 640, 640)\n"
     ]
    },
    {
     "name": "stderr",
     "output_type": "stream",
     "text": [
      "  1%|▊                                                                               | 14/1315 [00:02<02:19,  9.31it/s]"
     ]
    },
    {
     "name": "stdout",
     "output_type": "stream",
     "text": [
      "\n",
      "0: 640x640 5 extinguisher-helmets, 9 fire extinguishers, 3 fire signages, 1 helmet, 19.6ms\n",
      "Speed: 6.0ms preprocess, 19.6ms inference, 2.0ms postprocess per image at shape (1, 3, 640, 640)\n",
      "\n",
      "0: 640x640 5 extinguisher-helmets, 6 fire extinguishers, 3 fire signages, 1 helmet, 21.9ms\n",
      "Speed: 5.2ms preprocess, 21.9ms inference, 1.0ms postprocess per image at shape (1, 3, 640, 640)\n"
     ]
    },
    {
     "name": "stderr",
     "output_type": "stream",
     "text": [
      "  1%|▉                                                                               | 16/1315 [00:02<02:15,  9.58it/s]"
     ]
    },
    {
     "name": "stdout",
     "output_type": "stream",
     "text": [
      "\n",
      "0: 640x640 3 extinguisher-helmets, 9 fire extinguishers, 3 fire signages, 1 helmet, 18.8ms\n",
      "Speed: 5.0ms preprocess, 18.8ms inference, 1.0ms postprocess per image at shape (1, 3, 640, 640)\n"
     ]
    },
    {
     "name": "stderr",
     "output_type": "stream",
     "text": [
      "  1%|█                                                                               | 17/1315 [00:02<02:14,  9.65it/s]"
     ]
    },
    {
     "name": "stdout",
     "output_type": "stream",
     "text": [
      "\n",
      "0: 640x640 5 extinguisher-helmets, 9 fire extinguishers, 4 fire signages, 1 helmet, 22.4ms\n",
      "Speed: 5.3ms preprocess, 22.4ms inference, 2.0ms postprocess per image at shape (1, 3, 640, 640)\n"
     ]
    },
    {
     "name": "stderr",
     "output_type": "stream",
     "text": [
      "  1%|█                                                                               | 18/1315 [00:02<02:13,  9.69it/s]"
     ]
    },
    {
     "name": "stdout",
     "output_type": "stream",
     "text": [
      "\n",
      "0: 640x640 5 extinguisher-helmets, 8 fire extinguishers, 2 fire signages, 1 helmet, 19.7ms\n",
      "Speed: 4.0ms preprocess, 19.7ms inference, 1.0ms postprocess per image at shape (1, 3, 640, 640)\n",
      "\n",
      "0: 640x640 2 extinguisher-helmets, 8 fire extinguishers, 1 fire signage, 1 helmet, 15.5ms\n",
      "Speed: 5.2ms preprocess, 15.5ms inference, 0.0ms postprocess per image at shape (1, 3, 640, 640)\n"
     ]
    },
    {
     "name": "stderr",
     "output_type": "stream",
     "text": [
      "  2%|█▏                                                                              | 20/1315 [00:03<02:14,  9.61it/s]"
     ]
    },
    {
     "name": "stdout",
     "output_type": "stream",
     "text": [
      "\n",
      "0: 640x640 3 extinguisher-helmets, 7 fire extinguishers, 1 fire signage, 1 helmet, 19.5ms\n",
      "Speed: 5.8ms preprocess, 19.5ms inference, 1.0ms postprocess per image at shape (1, 3, 640, 640)\n",
      "\n",
      "0: 640x640 4 extinguisher-helmets, 7 fire extinguishers, 1 fire signage, 1 helmet, 19.6ms\n",
      "Speed: 5.0ms preprocess, 19.6ms inference, 1.0ms postprocess per image at shape (1, 3, 640, 640)\n"
     ]
    },
    {
     "name": "stderr",
     "output_type": "stream",
     "text": [
      "  2%|█▎                                                                              | 22/1315 [00:03<02:09, 10.01it/s]"
     ]
    },
    {
     "name": "stdout",
     "output_type": "stream",
     "text": [
      "\n",
      "0: 640x640 4 extinguisher-helmets, 6 fire extinguishers, 1 fire signage, 1 helmet, 23.7ms\n",
      "Speed: 5.2ms preprocess, 23.7ms inference, 1.0ms postprocess per image at shape (1, 3, 640, 640)\n",
      "\n",
      "0: 640x640 5 extinguisher-helmets, 7 fire extinguishers, 1 fire signage, 1 helmet, 22.6ms\n",
      "Speed: 6.0ms preprocess, 22.6ms inference, 1.0ms postprocess per image at shape (1, 3, 640, 640)\n"
     ]
    },
    {
     "name": "stderr",
     "output_type": "stream",
     "text": [
      "  2%|█▍                                                                              | 24/1315 [00:03<02:05, 10.31it/s]"
     ]
    },
    {
     "name": "stdout",
     "output_type": "stream",
     "text": [
      "\n",
      "0: 640x640 4 extinguisher-helmets, 5 fire extinguishers, 1 fire signage, 1 helmet, 22.1ms\n",
      "Speed: 6.6ms preprocess, 22.1ms inference, 2.0ms postprocess per image at shape (1, 3, 640, 640)\n",
      "\n",
      "0: 640x640 3 extinguisher-helmets, 6 fire extinguishers, 1 fire signage, 1 helmet, 23.6ms\n",
      "Speed: 4.0ms preprocess, 23.6ms inference, 1.0ms postprocess per image at shape (1, 3, 640, 640)\n"
     ]
    },
    {
     "name": "stderr",
     "output_type": "stream",
     "text": [
      "  2%|█▌                                                                              | 26/1315 [00:03<02:02, 10.48it/s]"
     ]
    },
    {
     "name": "stdout",
     "output_type": "stream",
     "text": [
      "\n",
      "0: 640x640 4 extinguisher-helmets, 5 fire extinguishers, 1 fire signage, 1 helmet, 22.6ms\n",
      "Speed: 6.2ms preprocess, 22.6ms inference, 1.0ms postprocess per image at shape (1, 3, 640, 640)\n",
      "\n",
      "0: 640x640 4 extinguisher-helmets, 5 fire extinguishers, 1 fire signage, 1 helmet, 25.5ms\n",
      "Speed: 5.0ms preprocess, 25.5ms inference, 1.0ms postprocess per image at shape (1, 3, 640, 640)\n"
     ]
    },
    {
     "name": "stderr",
     "output_type": "stream",
     "text": [
      "  2%|█▋                                                                              | 28/1315 [00:03<02:00, 10.68it/s]"
     ]
    },
    {
     "name": "stdout",
     "output_type": "stream",
     "text": [
      "\n",
      "0: 640x640 3 extinguisher-helmets, 6 fire extinguishers, 1 fire signage, 1 helmet, 22.4ms\n",
      "Speed: 5.9ms preprocess, 22.4ms inference, 2.0ms postprocess per image at shape (1, 3, 640, 640)\n",
      "\n",
      "0: 640x640 3 extinguisher-helmets, 5 fire extinguishers, 1 fire signage, 1 helmet, 22.2ms\n",
      "Speed: 5.0ms preprocess, 22.2ms inference, 1.0ms postprocess per image at shape (1, 3, 640, 640)\n"
     ]
    },
    {
     "name": "stderr",
     "output_type": "stream",
     "text": [
      "  2%|█▊                                                                              | 30/1315 [00:04<02:01, 10.59it/s]"
     ]
    },
    {
     "name": "stdout",
     "output_type": "stream",
     "text": [
      "\n",
      "0: 640x640 3 extinguisher-helmets, 6 fire extinguishers, 1 fire signage, 1 helmet, 21.9ms\n",
      "Speed: 5.0ms preprocess, 21.9ms inference, 1.0ms postprocess per image at shape (1, 3, 640, 640)\n",
      "\n",
      "0: 640x640 3 extinguisher-helmets, 7 fire extinguishers, 2 fire signages, 23.3ms\n",
      "Speed: 4.0ms preprocess, 23.3ms inference, 1.0ms postprocess per image at shape (1, 3, 640, 640)\n"
     ]
    },
    {
     "name": "stderr",
     "output_type": "stream",
     "text": [
      "  2%|█▉                                                                              | 32/1315 [00:04<01:59, 10.78it/s]"
     ]
    },
    {
     "name": "stdout",
     "output_type": "stream",
     "text": [
      "\n",
      "0: 640x640 3 extinguisher-helmets, 6 fire extinguishers, 2 fire signages, 25.8ms\n",
      "Speed: 5.4ms preprocess, 25.8ms inference, 1.0ms postprocess per image at shape (1, 3, 640, 640)\n",
      "\n",
      "0: 640x640 3 extinguisher-helmets, 3 fire extinguishers, 2 fire signages, 1 helmet, 21.8ms\n",
      "Speed: 5.6ms preprocess, 21.8ms inference, 1.0ms postprocess per image at shape (1, 3, 640, 640)\n"
     ]
    },
    {
     "name": "stderr",
     "output_type": "stream",
     "text": [
      "  3%|██                                                                              | 34/1315 [00:04<02:00, 10.67it/s]"
     ]
    },
    {
     "name": "stdout",
     "output_type": "stream",
     "text": [
      "\n",
      "0: 640x640 3 extinguisher-helmets, 3 fire extinguishers, 2 fire signages, 1 helmet, 23.2ms\n",
      "Speed: 5.0ms preprocess, 23.2ms inference, 1.0ms postprocess per image at shape (1, 3, 640, 640)\n",
      "\n",
      "0: 640x640 3 extinguisher-helmets, 5 fire extinguishers, 2 fire signages, 21.8ms\n",
      "Speed: 6.5ms preprocess, 21.8ms inference, 1.0ms postprocess per image at shape (1, 3, 640, 640)\n"
     ]
    },
    {
     "name": "stderr",
     "output_type": "stream",
     "text": [
      "  3%|██▏                                                                             | 36/1315 [00:04<01:57, 10.88it/s]"
     ]
    },
    {
     "name": "stdout",
     "output_type": "stream",
     "text": [
      "\n",
      "0: 640x640 3 extinguisher-helmets, 5 fire extinguishers, 2 fire signages, 22.4ms\n",
      "Speed: 18.4ms preprocess, 22.4ms inference, 1.0ms postprocess per image at shape (1, 3, 640, 640)\n",
      "\n",
      "0: 640x640 1 extinguisher-helmet, 3 fire extinguishers, 2 fire signages, 19.6ms\n",
      "Speed: 4.0ms preprocess, 19.6ms inference, 0.0ms postprocess per image at shape (1, 3, 640, 640)\n"
     ]
    },
    {
     "name": "stderr",
     "output_type": "stream",
     "text": [
      "  3%|██▎                                                                             | 38/1315 [00:04<01:55, 11.09it/s]"
     ]
    },
    {
     "name": "stdout",
     "output_type": "stream",
     "text": [
      "\n",
      "0: 640x640 2 extinguisher-helmets, 4 fire extinguishers, 2 fire signages, 23.4ms\n",
      "Speed: 22.3ms preprocess, 23.4ms inference, 2.0ms postprocess per image at shape (1, 3, 640, 640)\n",
      "\n",
      "0: 640x640 2 extinguisher-helmets, 4 fire extinguishers, 2 fire signages, 23.6ms\n",
      "Speed: 5.0ms preprocess, 23.6ms inference, 0.0ms postprocess per image at shape (1, 3, 640, 640)\n"
     ]
    },
    {
     "name": "stderr",
     "output_type": "stream",
     "text": [
      "  3%|██▍                                                                             | 40/1315 [00:04<01:58, 10.79it/s]"
     ]
    },
    {
     "name": "stdout",
     "output_type": "stream",
     "text": [
      "\n",
      "0: 640x640 2 extinguisher-helmets, 4 fire extinguishers, 2 fire signages, 20.3ms\n",
      "Speed: 6.3ms preprocess, 20.3ms inference, 0.0ms postprocess per image at shape (1, 3, 640, 640)\n",
      "\n",
      "0: 640x640 3 extinguisher-helmets, 5 fire extinguishers, 3 fire signages, 24.4ms\n",
      "Speed: 5.8ms preprocess, 24.4ms inference, 0.9ms postprocess per image at shape (1, 3, 640, 640)\n"
     ]
    },
    {
     "name": "stderr",
     "output_type": "stream",
     "text": [
      "  3%|██▌                                                                             | 42/1315 [00:05<01:55, 11.04it/s]"
     ]
    },
    {
     "name": "stdout",
     "output_type": "stream",
     "text": [
      "\n",
      "0: 640x640 3 extinguisher-helmets, 4 fire extinguishers, 2 fire signages, 23.6ms\n",
      "Speed: 5.0ms preprocess, 23.6ms inference, 1.0ms postprocess per image at shape (1, 3, 640, 640)\n",
      "\n",
      "0: 640x640 3 extinguisher-helmets, 4 fire extinguishers, 2 fire signages, 23.7ms\n",
      "Speed: 4.0ms preprocess, 23.7ms inference, 1.7ms postprocess per image at shape (1, 3, 640, 640)\n"
     ]
    },
    {
     "name": "stderr",
     "output_type": "stream",
     "text": [
      "  3%|██▋                                                                             | 44/1315 [00:05<01:53, 11.24it/s]"
     ]
    },
    {
     "name": "stdout",
     "output_type": "stream",
     "text": [
      "\n",
      "0: 640x640 2 extinguisher-helmets, 5 fire extinguishers, 2 fire signages, 23.1ms\n",
      "Speed: 6.0ms preprocess, 23.1ms inference, 2.0ms postprocess per image at shape (1, 3, 640, 640)\n",
      "\n",
      "0: 640x640 2 extinguisher-helmets, 4 fire extinguishers, 3 fire signages, 22.9ms\n",
      "Speed: 5.7ms preprocess, 22.9ms inference, 1.0ms postprocess per image at shape (1, 3, 640, 640)\n"
     ]
    },
    {
     "name": "stderr",
     "output_type": "stream",
     "text": [
      "  3%|██▊                                                                             | 46/1315 [00:05<01:51, 11.38it/s]"
     ]
    },
    {
     "name": "stdout",
     "output_type": "stream",
     "text": [
      "\n",
      "0: 640x640 1 extinguisher-helmet, 5 fire extinguishers, 3 fire signages, 1 helmet, 26.1ms\n",
      "Speed: 13.0ms preprocess, 26.1ms inference, 1.0ms postprocess per image at shape (1, 3, 640, 640)\n",
      "\n",
      "0: 640x640 1 extinguisher-helmet, 6 fire extinguishers, 2 fire signages, 1 helmet, 33.8ms\n",
      "Speed: 6.0ms preprocess, 33.8ms inference, 0.0ms postprocess per image at shape (1, 3, 640, 640)\n"
     ]
    },
    {
     "name": "stderr",
     "output_type": "stream",
     "text": [
      "  4%|██▉                                                                             | 48/1315 [00:05<01:55, 10.98it/s]"
     ]
    },
    {
     "name": "stdout",
     "output_type": "stream",
     "text": [
      "\n",
      "0: 640x640 1 fire extinguisher, 1 fire signage, 23.6ms\n",
      "Speed: 5.7ms preprocess, 23.6ms inference, 1.0ms postprocess per image at shape (1, 3, 640, 640)\n",
      "\n",
      "0: 640x640 2 fire extinguishers, 1 fire signage, 23.3ms\n",
      "Speed: 5.2ms preprocess, 23.3ms inference, 2.0ms postprocess per image at shape (1, 3, 640, 640)\n"
     ]
    },
    {
     "name": "stderr",
     "output_type": "stream",
     "text": [
      "  4%|███                                                                             | 50/1315 [00:05<01:51, 11.32it/s]"
     ]
    },
    {
     "name": "stdout",
     "output_type": "stream",
     "text": [
      "\n",
      "0: 640x640 2 fire extinguishers, 1 fire signage, 22.2ms\n",
      "Speed: 5.0ms preprocess, 22.2ms inference, 1.0ms postprocess per image at shape (1, 3, 640, 640)\n",
      "\n",
      "0: 640x640 2 fire extinguishers, 2 fire signages, 23.5ms\n",
      "Speed: 5.0ms preprocess, 23.5ms inference, 1.0ms postprocess per image at shape (1, 3, 640, 640)\n"
     ]
    },
    {
     "name": "stderr",
     "output_type": "stream",
     "text": [
      "  4%|███▏                                                                            | 52/1315 [00:05<01:48, 11.62it/s]"
     ]
    },
    {
     "name": "stdout",
     "output_type": "stream",
     "text": [
      "\n",
      "0: 640x640 1 fire extinguisher, 1 fire signage, 27.2ms\n",
      "Speed: 6.1ms preprocess, 27.2ms inference, 1.0ms postprocess per image at shape (1, 3, 640, 640)\n",
      "\n",
      "0: 640x640 1 fire extinguisher, 22.4ms\n",
      "Speed: 5.0ms preprocess, 22.4ms inference, 1.0ms postprocess per image at shape (1, 3, 640, 640)\n"
     ]
    },
    {
     "name": "stderr",
     "output_type": "stream",
     "text": [
      "  4%|███▎                                                                            | 54/1315 [00:06<01:47, 11.75it/s]"
     ]
    },
    {
     "name": "stdout",
     "output_type": "stream",
     "text": [
      "\n",
      "0: 640x640 1 fire extinguisher, 23.7ms\n",
      "Speed: 5.0ms preprocess, 23.7ms inference, 1.0ms postprocess per image at shape (1, 3, 640, 640)\n",
      "\n",
      "0: 640x640 1 fire extinguisher, 22.4ms\n",
      "Speed: 5.0ms preprocess, 22.4ms inference, 1.0ms postprocess per image at shape (1, 3, 640, 640)\n"
     ]
    },
    {
     "name": "stderr",
     "output_type": "stream",
     "text": [
      "  4%|███▍                                                                            | 56/1315 [00:06<01:45, 11.91it/s]"
     ]
    },
    {
     "name": "stdout",
     "output_type": "stream",
     "text": [
      "\n",
      "0: 640x640 1 fire extinguisher, 22.5ms\n",
      "Speed: 5.7ms preprocess, 22.5ms inference, 1.0ms postprocess per image at shape (1, 3, 640, 640)\n",
      "\n",
      "0: 640x640 1 fire extinguisher, 26.0ms\n",
      "Speed: 4.5ms preprocess, 26.0ms inference, 1.0ms postprocess per image at shape (1, 3, 640, 640)\n"
     ]
    },
    {
     "name": "stderr",
     "output_type": "stream",
     "text": [
      "  4%|███▌                                                                            | 58/1315 [00:06<01:46, 11.83it/s]"
     ]
    },
    {
     "name": "stdout",
     "output_type": "stream",
     "text": [
      "\n",
      "0: 640x640 1 fire extinguisher, 2 fire signages, 24.9ms\n",
      "Speed: 5.0ms preprocess, 24.9ms inference, 1.5ms postprocess per image at shape (1, 3, 640, 640)\n",
      "\n",
      "0: 640x640 3 fire signages, 22.7ms\n",
      "Speed: 5.7ms preprocess, 22.7ms inference, 1.0ms postprocess per image at shape (1, 3, 640, 640)\n"
     ]
    },
    {
     "name": "stderr",
     "output_type": "stream",
     "text": [
      "  5%|███▋                                                                            | 60/1315 [00:06<01:47, 11.70it/s]"
     ]
    },
    {
     "name": "stdout",
     "output_type": "stream",
     "text": [
      "\n",
      "0: 640x640 1 fire extinguisher, 2 fire signages, 22.4ms\n",
      "Speed: 5.2ms preprocess, 22.4ms inference, 2.0ms postprocess per image at shape (1, 3, 640, 640)\n",
      "\n",
      "0: 640x640 1 fire extinguisher, 3 fire signages, 23.4ms\n",
      "Speed: 5.0ms preprocess, 23.4ms inference, 1.0ms postprocess per image at shape (1, 3, 640, 640)\n"
     ]
    },
    {
     "name": "stderr",
     "output_type": "stream",
     "text": [
      "  5%|███▊                                                                            | 62/1315 [00:06<01:44, 11.97it/s]"
     ]
    },
    {
     "name": "stdout",
     "output_type": "stream",
     "text": [
      "\n",
      "0: 640x640 1 fire extinguisher, 3 fire signages, 23.5ms\n",
      "Speed: 5.0ms preprocess, 23.5ms inference, 1.0ms postprocess per image at shape (1, 3, 640, 640)\n",
      "\n",
      "0: 640x640 3 fire signages, 23.6ms\n",
      "Speed: 6.3ms preprocess, 23.6ms inference, 1.0ms postprocess per image at shape (1, 3, 640, 640)\n"
     ]
    },
    {
     "name": "stderr",
     "output_type": "stream",
     "text": [
      "  5%|███▉                                                                            | 64/1315 [00:06<01:43, 12.07it/s]"
     ]
    },
    {
     "name": "stdout",
     "output_type": "stream",
     "text": [
      "\n",
      "0: 640x640 1 fire extinguisher, 2 fire signages, 23.4ms\n",
      "Speed: 4.5ms preprocess, 23.4ms inference, 1.4ms postprocess per image at shape (1, 3, 640, 640)\n",
      "\n",
      "0: 640x640 1 fire extinguisher, 3 fire signages, 25.1ms\n",
      "Speed: 5.0ms preprocess, 25.1ms inference, 1.0ms postprocess per image at shape (1, 3, 640, 640)\n"
     ]
    },
    {
     "name": "stderr",
     "output_type": "stream",
     "text": [
      "  5%|████                                                                            | 66/1315 [00:07<01:42, 12.22it/s]"
     ]
    },
    {
     "name": "stdout",
     "output_type": "stream",
     "text": [
      "\n",
      "0: 640x640 2 fire signages, 25.0ms\n",
      "Speed: 4.3ms preprocess, 25.0ms inference, 1.0ms postprocess per image at shape (1, 3, 640, 640)\n",
      "\n",
      "0: 640x640 1 fire extinguisher, 2 fire signages, 22.9ms\n",
      "Speed: 8.5ms preprocess, 22.9ms inference, 1.0ms postprocess per image at shape (1, 3, 640, 640)\n"
     ]
    },
    {
     "name": "stderr",
     "output_type": "stream",
     "text": [
      "  5%|████▏                                                                           | 68/1315 [00:07<01:42, 12.18it/s]"
     ]
    },
    {
     "name": "stdout",
     "output_type": "stream",
     "text": [
      "\n",
      "0: 640x640 3 fire signages, 25.2ms\n",
      "Speed: 5.0ms preprocess, 25.2ms inference, 1.0ms postprocess per image at shape (1, 3, 640, 640)\n",
      "\n",
      "0: 640x640 3 fire signages, 22.1ms\n",
      "Speed: 4.0ms preprocess, 22.1ms inference, 1.0ms postprocess per image at shape (1, 3, 640, 640)\n"
     ]
    },
    {
     "name": "stderr",
     "output_type": "stream",
     "text": [
      "  5%|████▎                                                                           | 70/1315 [00:07<01:41, 12.23it/s]"
     ]
    },
    {
     "name": "stdout",
     "output_type": "stream",
     "text": [
      "\n",
      "0: 640x640 1 fire signage, 22.9ms\n",
      "Speed: 4.4ms preprocess, 22.9ms inference, 1.0ms postprocess per image at shape (1, 3, 640, 640)\n",
      "\n",
      "0: 640x640 2 fire signages, 26.1ms\n",
      "Speed: 5.7ms preprocess, 26.1ms inference, 2.0ms postprocess per image at shape (1, 3, 640, 640)\n"
     ]
    },
    {
     "name": "stderr",
     "output_type": "stream",
     "text": [
      "  5%|████▍                                                                           | 72/1315 [00:07<01:41, 12.27it/s]"
     ]
    },
    {
     "name": "stdout",
     "output_type": "stream",
     "text": [
      "\n",
      "0: 640x640 2 fire signages, 23.6ms\n",
      "Speed: 5.8ms preprocess, 23.6ms inference, 1.0ms postprocess per image at shape (1, 3, 640, 640)\n",
      "\n",
      "0: 640x640 1 fire extinguisher, 1 fire signage, 24.0ms\n",
      "Speed: 5.5ms preprocess, 24.0ms inference, 2.0ms postprocess per image at shape (1, 3, 640, 640)\n"
     ]
    },
    {
     "name": "stderr",
     "output_type": "stream",
     "text": [
      "  6%|████▌                                                                           | 74/1315 [00:07<01:42, 12.12it/s]"
     ]
    },
    {
     "name": "stdout",
     "output_type": "stream",
     "text": [
      "\n",
      "0: 640x640 1 fire signage, 22.8ms\n",
      "Speed: 6.9ms preprocess, 22.8ms inference, 4.3ms postprocess per image at shape (1, 3, 640, 640)\n",
      "\n",
      "0: 640x640 2 fire signages, 24.3ms\n",
      "Speed: 6.0ms preprocess, 24.3ms inference, 1.0ms postprocess per image at shape (1, 3, 640, 640)\n"
     ]
    },
    {
     "name": "stderr",
     "output_type": "stream",
     "text": [
      "  6%|████▌                                                                           | 76/1315 [00:07<01:43, 11.97it/s]"
     ]
    },
    {
     "name": "stdout",
     "output_type": "stream",
     "text": [
      "\n",
      "0: 640x640 2 fire signages, 25.1ms\n",
      "Speed: 10.1ms preprocess, 25.1ms inference, 1.0ms postprocess per image at shape (1, 3, 640, 640)\n",
      "\n",
      "0: 640x640 2 fire signages, 24.1ms\n",
      "Speed: 7.7ms preprocess, 24.1ms inference, 1.4ms postprocess per image at shape (1, 3, 640, 640)\n"
     ]
    },
    {
     "name": "stderr",
     "output_type": "stream",
     "text": [
      "  6%|████▋                                                                           | 78/1315 [00:08<01:41, 12.16it/s]"
     ]
    },
    {
     "name": "stdout",
     "output_type": "stream",
     "text": [
      "\n",
      "0: 640x640 2 fire signages, 23.6ms\n",
      "Speed: 5.6ms preprocess, 23.6ms inference, 2.0ms postprocess per image at shape (1, 3, 640, 640)\n",
      "\n",
      "0: 640x640 1 fire extinguisher, 1 fire signage, 24.2ms\n",
      "Speed: 6.0ms preprocess, 24.2ms inference, 1.6ms postprocess per image at shape (1, 3, 640, 640)\n"
     ]
    },
    {
     "name": "stderr",
     "output_type": "stream",
     "text": [
      "  6%|████▊                                                                           | 80/1315 [00:08<01:48, 11.43it/s]"
     ]
    },
    {
     "name": "stdout",
     "output_type": "stream",
     "text": [
      "\n",
      "0: 640x640 1 fire extinguisher, 1 fire signage, 22.7ms\n",
      "Speed: 6.7ms preprocess, 22.7ms inference, 1.0ms postprocess per image at shape (1, 3, 640, 640)\n",
      "\n",
      "0: 640x640 1 fire extinguisher, 1 fire signage, 24.2ms\n",
      "Speed: 5.0ms preprocess, 24.2ms inference, 1.0ms postprocess per image at shape (1, 3, 640, 640)\n"
     ]
    },
    {
     "name": "stderr",
     "output_type": "stream",
     "text": [
      "  6%|████▉                                                                           | 82/1315 [00:08<01:46, 11.57it/s]"
     ]
    },
    {
     "name": "stdout",
     "output_type": "stream",
     "text": [
      "\n",
      "0: 640x640 1 fire extinguisher, 1 fire signage, 23.8ms\n",
      "Speed: 6.2ms preprocess, 23.8ms inference, 1.0ms postprocess per image at shape (1, 3, 640, 640)\n",
      "\n",
      "0: 640x640 1 fire extinguisher, 1 fire signage, 22.6ms\n",
      "Speed: 7.7ms preprocess, 22.6ms inference, 1.0ms postprocess per image at shape (1, 3, 640, 640)\n"
     ]
    },
    {
     "name": "stderr",
     "output_type": "stream",
     "text": [
      "  6%|█████                                                                           | 84/1315 [00:08<01:44, 11.74it/s]"
     ]
    },
    {
     "name": "stdout",
     "output_type": "stream",
     "text": [
      "\n",
      "0: 640x640 1 fire extinguisher, 1 fire signage, 23.6ms\n",
      "Speed: 4.6ms preprocess, 23.6ms inference, 1.0ms postprocess per image at shape (1, 3, 640, 640)\n",
      "\n",
      "0: 640x640 1 fire extinguisher, 1 fire signage, 22.6ms\n",
      "Speed: 4.7ms preprocess, 22.6ms inference, 2.0ms postprocess per image at shape (1, 3, 640, 640)\n"
     ]
    },
    {
     "name": "stderr",
     "output_type": "stream",
     "text": [
      "  7%|█████▏                                                                          | 86/1315 [00:08<01:44, 11.81it/s]"
     ]
    },
    {
     "name": "stdout",
     "output_type": "stream",
     "text": [
      "\n",
      "0: 640x640 1 fire extinguisher, 1 fire signage, 22.8ms\n",
      "Speed: 9.5ms preprocess, 22.8ms inference, 1.0ms postprocess per image at shape (1, 3, 640, 640)\n",
      "\n",
      "0: 640x640 1 fire extinguisher, 1 fire signage, 23.2ms\n",
      "Speed: 6.0ms preprocess, 23.2ms inference, 2.0ms postprocess per image at shape (1, 3, 640, 640)\n"
     ]
    },
    {
     "name": "stderr",
     "output_type": "stream",
     "text": [
      "  7%|█████▎                                                                          | 88/1315 [00:08<01:41, 12.06it/s]"
     ]
    },
    {
     "name": "stdout",
     "output_type": "stream",
     "text": [
      "\n",
      "0: 640x640 1 fire extinguisher, 1 fire signage, 27.6ms\n",
      "Speed: 5.9ms preprocess, 27.6ms inference, 1.0ms postprocess per image at shape (1, 3, 640, 640)\n",
      "\n",
      "0: 640x640 1 fire extinguisher, 3 fire signages, 40.1ms\n",
      "Speed: 6.0ms preprocess, 40.1ms inference, 2.1ms postprocess per image at shape (1, 3, 640, 640)\n"
     ]
    },
    {
     "name": "stderr",
     "output_type": "stream",
     "text": [
      "  7%|█████▍                                                                          | 90/1315 [00:09<01:49, 11.19it/s]"
     ]
    },
    {
     "name": "stdout",
     "output_type": "stream",
     "text": [
      "\n",
      "0: 640x640 1 fire extinguisher, 3 fire signages, 24.5ms\n",
      "Speed: 6.3ms preprocess, 24.5ms inference, 1.0ms postprocess per image at shape (1, 3, 640, 640)\n",
      "\n",
      "0: 640x640 1 fire extinguisher, 3 fire signages, 28.6ms\n",
      "Speed: 2.1ms preprocess, 28.6ms inference, 1.0ms postprocess per image at shape (1, 3, 640, 640)\n"
     ]
    },
    {
     "name": "stderr",
     "output_type": "stream",
     "text": [
      "  7%|█████▌                                                                          | 92/1315 [00:09<01:47, 11.38it/s]"
     ]
    },
    {
     "name": "stdout",
     "output_type": "stream",
     "text": [
      "\n",
      "0: 640x640 1 fire extinguisher, 3 fire signages, 23.7ms\n",
      "Speed: 5.9ms preprocess, 23.7ms inference, 1.0ms postprocess per image at shape (1, 3, 640, 640)\n",
      "\n",
      "0: 640x640 1 fire extinguisher, 3 fire signages, 25.8ms\n",
      "Speed: 5.7ms preprocess, 25.8ms inference, 1.0ms postprocess per image at shape (1, 3, 640, 640)\n"
     ]
    },
    {
     "name": "stderr",
     "output_type": "stream",
     "text": [
      "  7%|█████▋                                                                          | 94/1315 [00:09<01:47, 11.40it/s]"
     ]
    },
    {
     "name": "stdout",
     "output_type": "stream",
     "text": [
      "\n",
      "0: 640x640 1 fire extinguisher, 3 fire signages, 25.4ms\n",
      "Speed: 5.3ms preprocess, 25.4ms inference, 2.0ms postprocess per image at shape (1, 3, 640, 640)\n",
      "\n",
      "0: 640x640 1 fire extinguisher, 3 fire signages, 24.3ms\n",
      "Speed: 6.0ms preprocess, 24.3ms inference, 1.0ms postprocess per image at shape (1, 3, 640, 640)\n"
     ]
    },
    {
     "name": "stderr",
     "output_type": "stream",
     "text": [
      "  7%|█████▊                                                                          | 96/1315 [00:09<01:46, 11.42it/s]"
     ]
    },
    {
     "name": "stdout",
     "output_type": "stream",
     "text": [
      "\n",
      "0: 640x640 1 fire extinguisher, 3 fire signages, 22.7ms\n",
      "Speed: 5.6ms preprocess, 22.7ms inference, 2.0ms postprocess per image at shape (1, 3, 640, 640)\n",
      "\n",
      "0: 640x640 1 fire extinguisher, 3 fire signages, 14.5ms\n",
      "Speed: 6.1ms preprocess, 14.5ms inference, 0.0ms postprocess per image at shape (1, 3, 640, 640)\n"
     ]
    },
    {
     "name": "stderr",
     "output_type": "stream",
     "text": [
      "  7%|█████▉                                                                          | 98/1315 [00:09<01:45, 11.56it/s]"
     ]
    },
    {
     "name": "stdout",
     "output_type": "stream",
     "text": [
      "\n",
      "0: 640x640 1 fire extinguisher, 3 fire signages, 27.1ms\n",
      "Speed: 4.6ms preprocess, 27.1ms inference, 1.6ms postprocess per image at shape (1, 3, 640, 640)\n",
      "\n",
      "0: 640x640 1 fire extinguisher, 3 fire signages, 22.3ms\n",
      "Speed: 6.0ms preprocess, 22.3ms inference, 2.1ms postprocess per image at shape (1, 3, 640, 640)\n"
     ]
    },
    {
     "name": "stderr",
     "output_type": "stream",
     "text": [
      "  8%|██████                                                                         | 100/1315 [00:10<01:46, 11.46it/s]"
     ]
    },
    {
     "name": "stdout",
     "output_type": "stream",
     "text": [
      "\n",
      "0: 640x640 1 fire extinguisher, 4 fire signages, 23.4ms\n",
      "Speed: 5.0ms preprocess, 23.4ms inference, 1.0ms postprocess per image at shape (1, 3, 640, 640)\n",
      "\n",
      "0: 640x640 1 fire extinguisher, 4 fire signages, 24.7ms\n",
      "Speed: 15.9ms preprocess, 24.7ms inference, 1.0ms postprocess per image at shape (1, 3, 640, 640)\n"
     ]
    },
    {
     "name": "stderr",
     "output_type": "stream",
     "text": [
      "  8%|██████▏                                                                        | 102/1315 [00:10<01:44, 11.62it/s]"
     ]
    },
    {
     "name": "stdout",
     "output_type": "stream",
     "text": [
      "\n",
      "0: 640x640 1 fire extinguisher, 4 fire signages, 25.3ms\n",
      "Speed: 5.0ms preprocess, 25.3ms inference, 1.0ms postprocess per image at shape (1, 3, 640, 640)\n",
      "\n",
      "0: 640x640 1 fire extinguisher, 4 fire signages, 24.3ms\n",
      "Speed: 5.0ms preprocess, 24.3ms inference, 1.0ms postprocess per image at shape (1, 3, 640, 640)\n"
     ]
    },
    {
     "name": "stderr",
     "output_type": "stream",
     "text": [
      "  8%|██████▏                                                                        | 104/1315 [00:10<01:43, 11.73it/s]"
     ]
    },
    {
     "name": "stdout",
     "output_type": "stream",
     "text": [
      "\n",
      "0: 640x640 1 fire extinguisher, 3 fire signages, 22.8ms\n",
      "Speed: 7.5ms preprocess, 22.8ms inference, 1.0ms postprocess per image at shape (1, 3, 640, 640)\n",
      "\n",
      "0: 640x640 1 fire extinguisher, 3 fire signages, 23.3ms\n",
      "Speed: 4.0ms preprocess, 23.3ms inference, 1.0ms postprocess per image at shape (1, 3, 640, 640)\n"
     ]
    },
    {
     "name": "stderr",
     "output_type": "stream",
     "text": [
      "  8%|██████▎                                                                        | 106/1315 [00:10<01:41, 11.93it/s]"
     ]
    },
    {
     "name": "stdout",
     "output_type": "stream",
     "text": [
      "\n",
      "0: 640x640 1 fire extinguisher, 3 fire signages, 22.5ms\n",
      "Speed: 5.0ms preprocess, 22.5ms inference, 1.0ms postprocess per image at shape (1, 3, 640, 640)\n",
      "\n",
      "0: 640x640 1 fire extinguisher, 3 fire signages, 24.0ms\n",
      "Speed: 5.5ms preprocess, 24.0ms inference, 1.0ms postprocess per image at shape (1, 3, 640, 640)\n"
     ]
    },
    {
     "name": "stderr",
     "output_type": "stream",
     "text": [
      "  8%|██████▍                                                                        | 108/1315 [00:10<01:38, 12.30it/s]"
     ]
    },
    {
     "name": "stdout",
     "output_type": "stream",
     "text": [
      "\n",
      "0: 640x640 1 fire extinguisher, 3 fire signages, 23.3ms\n",
      "Speed: 5.0ms preprocess, 23.3ms inference, 1.0ms postprocess per image at shape (1, 3, 640, 640)\n",
      "\n",
      "0: 640x640 1 fire extinguisher, 2 fire signages, 23.2ms\n",
      "Speed: 5.0ms preprocess, 23.2ms inference, 1.0ms postprocess per image at shape (1, 3, 640, 640)\n"
     ]
    },
    {
     "name": "stderr",
     "output_type": "stream",
     "text": [
      "  8%|██████▌                                                                        | 110/1315 [00:10<01:38, 12.28it/s]"
     ]
    },
    {
     "name": "stdout",
     "output_type": "stream",
     "text": [
      "\n",
      "0: 640x640 1 fire extinguisher, 2 fire signages, 26.7ms\n",
      "Speed: 4.7ms preprocess, 26.7ms inference, 0.0ms postprocess per image at shape (1, 3, 640, 640)\n",
      "\n",
      "0: 640x640 1 fire extinguisher, 2 fire signages, 25.7ms\n",
      "Speed: 5.6ms preprocess, 25.7ms inference, 1.0ms postprocess per image at shape (1, 3, 640, 640)\n"
     ]
    },
    {
     "name": "stderr",
     "output_type": "stream",
     "text": [
      "  9%|██████▋                                                                        | 112/1315 [00:11<01:38, 12.19it/s]"
     ]
    },
    {
     "name": "stdout",
     "output_type": "stream",
     "text": [
      "\n",
      "0: 640x640 1 fire extinguisher, 2 fire signages, 23.9ms\n",
      "Speed: 5.8ms preprocess, 23.9ms inference, 2.0ms postprocess per image at shape (1, 3, 640, 640)\n",
      "\n",
      "0: 640x640 1 fire extinguisher, 2 fire signages, 22.5ms\n",
      "Speed: 5.0ms preprocess, 22.5ms inference, 2.0ms postprocess per image at shape (1, 3, 640, 640)\n"
     ]
    },
    {
     "name": "stderr",
     "output_type": "stream",
     "text": [
      "  9%|██████▊                                                                        | 114/1315 [00:11<01:36, 12.40it/s]"
     ]
    },
    {
     "name": "stdout",
     "output_type": "stream",
     "text": [
      "\n",
      "0: 640x640 1 fire extinguisher, 2 fire signages, 23.1ms\n",
      "Speed: 5.0ms preprocess, 23.1ms inference, 1.0ms postprocess per image at shape (1, 3, 640, 640)\n",
      "\n",
      "0: 640x640 1 fire extinguisher, 3 fire signages, 22.1ms\n",
      "Speed: 5.0ms preprocess, 22.1ms inference, 1.0ms postprocess per image at shape (1, 3, 640, 640)\n"
     ]
    },
    {
     "name": "stderr",
     "output_type": "stream",
     "text": [
      "  9%|██████▉                                                                        | 116/1315 [00:11<01:36, 12.41it/s]"
     ]
    },
    {
     "name": "stdout",
     "output_type": "stream",
     "text": [
      "\n",
      "0: 640x640 1 fire extinguisher, 3 fire signages, 23.7ms\n",
      "Speed: 5.0ms preprocess, 23.7ms inference, 1.0ms postprocess per image at shape (1, 3, 640, 640)\n",
      "\n",
      "0: 640x640 1 fire extinguisher, 3 fire signages, 22.5ms\n",
      "Speed: 4.9ms preprocess, 22.5ms inference, 2.0ms postprocess per image at shape (1, 3, 640, 640)\n"
     ]
    },
    {
     "name": "stderr",
     "output_type": "stream",
     "text": [
      "  9%|███████                                                                        | 118/1315 [00:11<01:36, 12.45it/s]"
     ]
    },
    {
     "name": "stdout",
     "output_type": "stream",
     "text": [
      "\n",
      "0: 640x640 3 fire signages, 22.2ms\n",
      "Speed: 6.0ms preprocess, 22.2ms inference, 2.3ms postprocess per image at shape (1, 3, 640, 640)\n",
      "\n",
      "0: 640x640 2 fire signages, 22.8ms\n",
      "Speed: 4.5ms preprocess, 22.8ms inference, 2.4ms postprocess per image at shape (1, 3, 640, 640)\n"
     ]
    },
    {
     "name": "stderr",
     "output_type": "stream",
     "text": [
      "  9%|███████▏                                                                       | 120/1315 [00:11<01:37, 12.30it/s]"
     ]
    },
    {
     "name": "stdout",
     "output_type": "stream",
     "text": [
      "\n",
      "0: 640x640 2 fire signages, 23.8ms\n",
      "Speed: 5.9ms preprocess, 23.8ms inference, 2.0ms postprocess per image at shape (1, 3, 640, 640)\n",
      "\n",
      "0: 640x640 2 fire signages, 25.2ms\n",
      "Speed: 8.5ms preprocess, 25.2ms inference, 0.5ms postprocess per image at shape (1, 3, 640, 640)\n"
     ]
    },
    {
     "name": "stderr",
     "output_type": "stream",
     "text": [
      "  9%|███████▎                                                                       | 122/1315 [00:11<01:39, 12.04it/s]"
     ]
    },
    {
     "name": "stdout",
     "output_type": "stream",
     "text": [
      "\n",
      "0: 640x640 3 fire signages, 22.4ms\n",
      "Speed: 5.0ms preprocess, 22.4ms inference, 2.0ms postprocess per image at shape (1, 3, 640, 640)\n",
      "\n",
      "0: 640x640 3 fire signages, 23.6ms\n",
      "Speed: 5.7ms preprocess, 23.6ms inference, 2.0ms postprocess per image at shape (1, 3, 640, 640)\n"
     ]
    },
    {
     "name": "stderr",
     "output_type": "stream",
     "text": [
      "  9%|███████▍                                                                       | 124/1315 [00:11<01:38, 12.08it/s]"
     ]
    },
    {
     "name": "stdout",
     "output_type": "stream",
     "text": [
      "\n",
      "0: 640x640 3 fire signages, 23.8ms\n",
      "Speed: 7.0ms preprocess, 23.8ms inference, 1.0ms postprocess per image at shape (1, 3, 640, 640)\n",
      "\n",
      "0: 640x640 1 fire extinguisher, 3 fire signages, 23.4ms\n",
      "Speed: 5.2ms preprocess, 23.4ms inference, 1.0ms postprocess per image at shape (1, 3, 640, 640)\n"
     ]
    },
    {
     "name": "stderr",
     "output_type": "stream",
     "text": [
      " 10%|███████▌                                                                       | 126/1315 [00:12<01:39, 12.00it/s]"
     ]
    },
    {
     "name": "stdout",
     "output_type": "stream",
     "text": [
      "\n",
      "0: 640x640 1 fire extinguisher, 3 fire signages, 27.5ms\n",
      "Speed: 4.0ms preprocess, 27.5ms inference, 1.8ms postprocess per image at shape (1, 3, 640, 640)\n",
      "\n",
      "0: 640x640 1 fire extinguisher, 3 fire signages, 22.4ms\n",
      "Speed: 6.4ms preprocess, 22.4ms inference, 1.3ms postprocess per image at shape (1, 3, 640, 640)\n"
     ]
    },
    {
     "name": "stderr",
     "output_type": "stream",
     "text": [
      " 10%|███████▋                                                                       | 128/1315 [00:12<01:35, 12.38it/s]"
     ]
    },
    {
     "name": "stdout",
     "output_type": "stream",
     "text": [
      "\n",
      "0: 640x640 1 fire extinguisher, 2 fire signages, 22.9ms\n",
      "Speed: 5.0ms preprocess, 22.9ms inference, 1.3ms postprocess per image at shape (1, 3, 640, 640)\n",
      "\n",
      "0: 640x640 1 fire extinguisher, 2 fire signages, 22.7ms\n",
      "Speed: 4.7ms preprocess, 22.7ms inference, 1.0ms postprocess per image at shape (1, 3, 640, 640)\n"
     ]
    },
    {
     "name": "stderr",
     "output_type": "stream",
     "text": [
      " 10%|███████▊                                                                       | 130/1315 [00:12<01:35, 12.37it/s]"
     ]
    },
    {
     "name": "stdout",
     "output_type": "stream",
     "text": [
      "\n",
      "0: 640x640 1 fire extinguisher, 2 fire signages, 40.5ms\n",
      "Speed: 5.5ms preprocess, 40.5ms inference, 1.0ms postprocess per image at shape (1, 3, 640, 640)\n",
      "\n",
      "0: 640x640 1 fire extinguisher, 2 fire signages, 24.0ms\n",
      "Speed: 5.0ms preprocess, 24.0ms inference, 1.0ms postprocess per image at shape (1, 3, 640, 640)\n"
     ]
    },
    {
     "name": "stderr",
     "output_type": "stream",
     "text": [
      " 10%|███████▉                                                                       | 132/1315 [00:12<01:37, 12.18it/s]"
     ]
    },
    {
     "name": "stdout",
     "output_type": "stream",
     "text": [
      "\n",
      "0: 640x640 1 fire extinguisher, 2 fire signages, 23.6ms\n",
      "Speed: 5.4ms preprocess, 23.6ms inference, 1.0ms postprocess per image at shape (1, 3, 640, 640)\n",
      "\n",
      "0: 640x640 1 fire extinguisher, 2 fire signages, 31.0ms\n",
      "Speed: 0.0ms preprocess, 31.0ms inference, 1.0ms postprocess per image at shape (1, 3, 640, 640)\n"
     ]
    },
    {
     "name": "stderr",
     "output_type": "stream",
     "text": [
      " 10%|████████                                                                       | 134/1315 [00:12<01:35, 12.33it/s]"
     ]
    },
    {
     "name": "stdout",
     "output_type": "stream",
     "text": [
      "\n",
      "0: 640x640 1 fire extinguisher, 2 fire signages, 24.1ms\n",
      "Speed: 4.0ms preprocess, 24.1ms inference, 1.0ms postprocess per image at shape (1, 3, 640, 640)\n",
      "\n",
      "0: 640x640 1 fire extinguisher, 2 fire signages, 23.6ms\n",
      "Speed: 5.5ms preprocess, 23.6ms inference, 2.0ms postprocess per image at shape (1, 3, 640, 640)\n"
     ]
    },
    {
     "name": "stderr",
     "output_type": "stream",
     "text": [
      " 10%|████████▏                                                                      | 136/1315 [00:12<01:33, 12.66it/s]"
     ]
    },
    {
     "name": "stdout",
     "output_type": "stream",
     "text": [
      "\n",
      "0: 640x640 1 fire extinguisher, 1 fire signage, 22.5ms\n",
      "Speed: 5.0ms preprocess, 22.5ms inference, 1.6ms postprocess per image at shape (1, 3, 640, 640)\n",
      "\n",
      "0: 640x640 1 fire extinguisher, 1 fire signage, 21.7ms\n",
      "Speed: 4.6ms preprocess, 21.7ms inference, 2.0ms postprocess per image at shape (1, 3, 640, 640)\n"
     ]
    },
    {
     "name": "stderr",
     "output_type": "stream",
     "text": [
      " 10%|████████▎                                                                      | 138/1315 [00:13<01:31, 12.92it/s]"
     ]
    },
    {
     "name": "stdout",
     "output_type": "stream",
     "text": [
      "\n",
      "0: 640x640 1 fire extinguisher, 1 fire signage, 22.8ms\n",
      "Speed: 5.1ms preprocess, 22.8ms inference, 1.0ms postprocess per image at shape (1, 3, 640, 640)\n",
      "\n",
      "0: 640x640 1 fire extinguisher, 2 fire signages, 22.4ms\n",
      "Speed: 5.0ms preprocess, 22.4ms inference, 1.0ms postprocess per image at shape (1, 3, 640, 640)\n"
     ]
    },
    {
     "name": "stderr",
     "output_type": "stream",
     "text": [
      " 11%|████████▍                                                                      | 140/1315 [00:13<01:31, 12.81it/s]"
     ]
    },
    {
     "name": "stdout",
     "output_type": "stream",
     "text": [
      "\n",
      "0: 640x640 1 fire extinguisher, 2 fire signages, 23.3ms\n",
      "Speed: 5.0ms preprocess, 23.3ms inference, 1.0ms postprocess per image at shape (1, 3, 640, 640)\n",
      "\n",
      "0: 640x640 1 fire extinguisher, 2 fire signages, 29.4ms\n",
      "Speed: 0.0ms preprocess, 29.4ms inference, 1.0ms postprocess per image at shape (1, 3, 640, 640)\n"
     ]
    },
    {
     "name": "stderr",
     "output_type": "stream",
     "text": [
      " 11%|████████▌                                                                      | 142/1315 [00:13<01:33, 12.49it/s]"
     ]
    },
    {
     "name": "stdout",
     "output_type": "stream",
     "text": [
      "\n",
      "0: 640x640 1 fire extinguisher, 2 fire signages, 25.1ms\n",
      "Speed: 6.0ms preprocess, 25.1ms inference, 1.0ms postprocess per image at shape (1, 3, 640, 640)\n",
      "\n",
      "0: 640x640 1 fire extinguisher, 3 fire signages, 22.4ms\n",
      "Speed: 5.0ms preprocess, 22.4ms inference, 2.0ms postprocess per image at shape (1, 3, 640, 640)\n"
     ]
    },
    {
     "name": "stderr",
     "output_type": "stream",
     "text": [
      " 11%|████████▋                                                                      | 144/1315 [00:13<01:33, 12.56it/s]"
     ]
    },
    {
     "name": "stdout",
     "output_type": "stream",
     "text": [
      "\n",
      "0: 640x640 1 fire extinguisher, 3 fire signages, 23.9ms\n",
      "Speed: 5.0ms preprocess, 23.9ms inference, 1.0ms postprocess per image at shape (1, 3, 640, 640)\n",
      "\n",
      "0: 640x640 1 fire extinguisher, 1 fire signage, 22.6ms\n",
      "Speed: 4.7ms preprocess, 22.6ms inference, 2.0ms postprocess per image at shape (1, 3, 640, 640)\n"
     ]
    },
    {
     "name": "stderr",
     "output_type": "stream",
     "text": [
      " 11%|████████▊                                                                      | 146/1315 [00:13<01:31, 12.72it/s]"
     ]
    },
    {
     "name": "stdout",
     "output_type": "stream",
     "text": [
      "\n",
      "0: 640x640 1 fire extinguisher, 2 fire signages, 24.2ms\n",
      "Speed: 6.1ms preprocess, 24.2ms inference, 1.2ms postprocess per image at shape (1, 3, 640, 640)\n",
      "\n",
      "0: 640x640 1 fire extinguisher, 2 fire signages, 27.3ms\n",
      "Speed: 5.0ms preprocess, 27.3ms inference, 1.0ms postprocess per image at shape (1, 3, 640, 640)\n"
     ]
    },
    {
     "name": "stderr",
     "output_type": "stream",
     "text": [
      " 11%|████████▉                                                                      | 148/1315 [00:13<01:30, 12.93it/s]"
     ]
    },
    {
     "name": "stdout",
     "output_type": "stream",
     "text": [
      "\n",
      "0: 640x640 1 fire extinguisher, 3 fire signages, 23.3ms\n",
      "Speed: 5.0ms preprocess, 23.3ms inference, 1.0ms postprocess per image at shape (1, 3, 640, 640)\n",
      "\n",
      "0: 640x640 1 fire extinguisher, 3 fire signages, 22.6ms\n",
      "Speed: 4.7ms preprocess, 22.6ms inference, 1.0ms postprocess per image at shape (1, 3, 640, 640)\n"
     ]
    },
    {
     "name": "stderr",
     "output_type": "stream",
     "text": [
      " 11%|█████████                                                                      | 150/1315 [00:14<01:30, 12.89it/s]"
     ]
    },
    {
     "name": "stdout",
     "output_type": "stream",
     "text": [
      "\n",
      "0: 640x640 1 fire extinguisher, 2 fire signages, 24.4ms\n",
      "Speed: 5.0ms preprocess, 24.4ms inference, 1.0ms postprocess per image at shape (1, 3, 640, 640)\n",
      "\n",
      "0: 640x640 1 fire extinguisher, 2 fire signages, 21.7ms\n",
      "Speed: 6.0ms preprocess, 21.7ms inference, 2.0ms postprocess per image at shape (1, 3, 640, 640)\n"
     ]
    },
    {
     "name": "stderr",
     "output_type": "stream",
     "text": [
      " 12%|█████████▏                                                                     | 152/1315 [00:14<01:34, 12.24it/s]"
     ]
    },
    {
     "name": "stdout",
     "output_type": "stream",
     "text": [
      "\n",
      "0: 640x640 1 fire extinguisher, 2 fire signages, 22.6ms\n",
      "Speed: 6.8ms preprocess, 22.6ms inference, 1.0ms postprocess per image at shape (1, 3, 640, 640)\n",
      "\n",
      "0: 640x640 2 fire extinguishers, 2 fire signages, 23.4ms\n",
      "Speed: 5.0ms preprocess, 23.4ms inference, 1.0ms postprocess per image at shape (1, 3, 640, 640)\n"
     ]
    },
    {
     "name": "stderr",
     "output_type": "stream",
     "text": [
      " 12%|█████████▎                                                                     | 154/1315 [00:14<01:34, 12.32it/s]"
     ]
    },
    {
     "name": "stdout",
     "output_type": "stream",
     "text": [
      "\n",
      "0: 640x640 1 fire extinguisher, 2 fire signages, 25.0ms\n",
      "Speed: 6.0ms preprocess, 25.0ms inference, 1.0ms postprocess per image at shape (1, 3, 640, 640)\n",
      "\n",
      "0: 640x640 1 fire extinguisher, 2 fire signages, 23.0ms\n",
      "Speed: 5.0ms preprocess, 23.0ms inference, 1.0ms postprocess per image at shape (1, 3, 640, 640)\n"
     ]
    },
    {
     "name": "stderr",
     "output_type": "stream",
     "text": [
      " 12%|█████████▎                                                                     | 156/1315 [00:14<01:33, 12.34it/s]"
     ]
    },
    {
     "name": "stdout",
     "output_type": "stream",
     "text": [
      "\n",
      "0: 640x640 1 fire extinguisher, 2 fire signages, 22.6ms\n",
      "Speed: 4.8ms preprocess, 22.6ms inference, 1.0ms postprocess per image at shape (1, 3, 640, 640)\n",
      "\n",
      "0: 640x640 1 fire extinguisher, 2 fire signages, 22.3ms\n",
      "Speed: 6.7ms preprocess, 22.3ms inference, 0.0ms postprocess per image at shape (1, 3, 640, 640)\n"
     ]
    },
    {
     "name": "stderr",
     "output_type": "stream",
     "text": [
      " 12%|█████████▍                                                                     | 158/1315 [00:14<01:33, 12.36it/s]"
     ]
    },
    {
     "name": "stdout",
     "output_type": "stream",
     "text": [
      "\n",
      "0: 640x640 1 fire extinguisher, 3 fire signages, 26.4ms\n",
      "Speed: 6.0ms preprocess, 26.4ms inference, 1.0ms postprocess per image at shape (1, 3, 640, 640)\n",
      "\n",
      "0: 640x640 1 fire extinguisher, 3 fire signages, 30.8ms\n",
      "Speed: 0.7ms preprocess, 30.8ms inference, 1.0ms postprocess per image at shape (1, 3, 640, 640)\n"
     ]
    },
    {
     "name": "stderr",
     "output_type": "stream",
     "text": [
      " 12%|█████████▌                                                                     | 160/1315 [00:14<01:34, 12.27it/s]"
     ]
    },
    {
     "name": "stdout",
     "output_type": "stream",
     "text": [
      "\n",
      "0: 640x640 3 fire signages, 19.7ms\n",
      "Speed: 5.0ms preprocess, 19.7ms inference, 0.6ms postprocess per image at shape (1, 3, 640, 640)\n",
      "\n",
      "0: 640x640 2 fire signages, 19.8ms\n",
      "Speed: 5.6ms preprocess, 19.8ms inference, 1.0ms postprocess per image at shape (1, 3, 640, 640)\n"
     ]
    },
    {
     "name": "stderr",
     "output_type": "stream",
     "text": [
      " 12%|█████████▋                                                                     | 162/1315 [00:15<01:30, 12.71it/s]"
     ]
    },
    {
     "name": "stdout",
     "output_type": "stream",
     "text": [
      "\n",
      "0: 640x640 2 fire signages, 23.8ms\n",
      "Speed: 5.5ms preprocess, 23.8ms inference, 0.9ms postprocess per image at shape (1, 3, 640, 640)\n",
      "\n",
      "0: 640x640 2 fire signages, 20.9ms\n",
      "Speed: 6.0ms preprocess, 20.9ms inference, 1.0ms postprocess per image at shape (1, 3, 640, 640)\n"
     ]
    },
    {
     "name": "stderr",
     "output_type": "stream",
     "text": [
      " 12%|█████████▊                                                                     | 164/1315 [00:15<01:30, 12.66it/s]"
     ]
    },
    {
     "name": "stdout",
     "output_type": "stream",
     "text": [
      "\n",
      "0: 640x640 2 fire signages, 18.6ms\n",
      "Speed: 5.4ms preprocess, 18.6ms inference, 1.0ms postprocess per image at shape (1, 3, 640, 640)\n",
      "\n",
      "0: 640x640 2 fire signages, 22.6ms\n",
      "Speed: 5.0ms preprocess, 22.6ms inference, 1.0ms postprocess per image at shape (1, 3, 640, 640)\n"
     ]
    },
    {
     "name": "stderr",
     "output_type": "stream",
     "text": [
      " 13%|█████████▉                                                                     | 166/1315 [00:15<01:28, 12.95it/s]"
     ]
    },
    {
     "name": "stdout",
     "output_type": "stream",
     "text": [
      "\n",
      "0: 640x640 2 fire signages, 19.4ms\n",
      "Speed: 5.0ms preprocess, 19.4ms inference, 2.0ms postprocess per image at shape (1, 3, 640, 640)\n",
      "\n",
      "0: 640x640 2 fire signages, 20.3ms\n",
      "Speed: 5.0ms preprocess, 20.3ms inference, 1.0ms postprocess per image at shape (1, 3, 640, 640)\n"
     ]
    },
    {
     "name": "stderr",
     "output_type": "stream",
     "text": [
      " 13%|██████████                                                                     | 168/1315 [00:15<01:24, 13.50it/s]"
     ]
    },
    {
     "name": "stdout",
     "output_type": "stream",
     "text": [
      "\n",
      "0: 640x640 2 fire signages, 23.3ms\n",
      "Speed: 5.0ms preprocess, 23.3ms inference, 1.0ms postprocess per image at shape (1, 3, 640, 640)\n",
      "\n",
      "0: 640x640 2 fire signages, 10.6ms\n",
      "Speed: 5.0ms preprocess, 10.6ms inference, 0.0ms postprocess per image at shape (1, 3, 640, 640)\n"
     ]
    },
    {
     "name": "stderr",
     "output_type": "stream",
     "text": [
      " 13%|██████████▏                                                                    | 170/1315 [00:15<01:24, 13.59it/s]"
     ]
    },
    {
     "name": "stdout",
     "output_type": "stream",
     "text": [
      "\n",
      "0: 640x640 2 fire signages, 18.9ms\n",
      "Speed: 5.0ms preprocess, 18.9ms inference, 2.0ms postprocess per image at shape (1, 3, 640, 640)\n",
      "\n",
      "0: 640x640 2 fire signages, 22.7ms\n",
      "Speed: 6.7ms preprocess, 22.7ms inference, 1.0ms postprocess per image at shape (1, 3, 640, 640)\n"
     ]
    },
    {
     "name": "stderr",
     "output_type": "stream",
     "text": [
      " 13%|██████████▎                                                                    | 172/1315 [00:15<01:24, 13.54it/s]"
     ]
    },
    {
     "name": "stdout",
     "output_type": "stream",
     "text": [
      "\n",
      "0: 640x640 2 fire signages, 19.6ms\n",
      "Speed: 6.0ms preprocess, 19.6ms inference, 1.0ms postprocess per image at shape (1, 3, 640, 640)\n",
      "\n",
      "0: 640x640 2 fire signages, 18.8ms\n",
      "Speed: 5.6ms preprocess, 18.8ms inference, 2.5ms postprocess per image at shape (1, 3, 640, 640)\n"
     ]
    },
    {
     "name": "stderr",
     "output_type": "stream",
     "text": [
      " 13%|██████████▍                                                                    | 174/1315 [00:15<01:24, 13.48it/s]"
     ]
    },
    {
     "name": "stdout",
     "output_type": "stream",
     "text": [
      "\n",
      "0: 640x640 2 fire signages, 29.5ms\n",
      "Speed: 0.3ms preprocess, 29.5ms inference, 1.0ms postprocess per image at shape (1, 3, 640, 640)\n",
      "\n",
      "0: 640x640 4 fire signages, 20.4ms\n",
      "Speed: 6.0ms preprocess, 20.4ms inference, 1.0ms postprocess per image at shape (1, 3, 640, 640)\n"
     ]
    },
    {
     "name": "stderr",
     "output_type": "stream",
     "text": [
      " 13%|██████████▌                                                                    | 176/1315 [00:16<01:27, 13.02it/s]"
     ]
    },
    {
     "name": "stdout",
     "output_type": "stream",
     "text": [
      "\n",
      "0: 640x640 4 fire signages, 18.7ms\n",
      "Speed: 6.0ms preprocess, 18.7ms inference, 2.1ms postprocess per image at shape (1, 3, 640, 640)\n",
      "\n",
      "0: 640x640 5 fire signages, 10.7ms\n",
      "Speed: 5.0ms preprocess, 10.7ms inference, 12.6ms postprocess per image at shape (1, 3, 640, 640)\n"
     ]
    },
    {
     "name": "stderr",
     "output_type": "stream",
     "text": [
      " 14%|██████████▋                                                                    | 178/1315 [00:16<01:26, 13.22it/s]"
     ]
    },
    {
     "name": "stdout",
     "output_type": "stream",
     "text": [
      "\n",
      "0: 640x640 5 fire signages, 19.4ms\n",
      "Speed: 5.7ms preprocess, 19.4ms inference, 2.0ms postprocess per image at shape (1, 3, 640, 640)\n",
      "\n",
      "0: 640x640 4 fire signages, 19.8ms\n",
      "Speed: 4.0ms preprocess, 19.8ms inference, 1.5ms postprocess per image at shape (1, 3, 640, 640)\n"
     ]
    },
    {
     "name": "stderr",
     "output_type": "stream",
     "text": [
      " 14%|██████████▊                                                                    | 180/1315 [00:16<01:26, 13.15it/s]"
     ]
    },
    {
     "name": "stdout",
     "output_type": "stream",
     "text": [
      "\n",
      "0: 640x640 4 fire signages, 19.3ms\n",
      "Speed: 4.0ms preprocess, 19.3ms inference, 2.0ms postprocess per image at shape (1, 3, 640, 640)\n",
      "\n",
      "0: 640x640 4 fire signages, 22.9ms\n",
      "Speed: 6.0ms preprocess, 22.9ms inference, 1.0ms postprocess per image at shape (1, 3, 640, 640)\n"
     ]
    },
    {
     "name": "stderr",
     "output_type": "stream",
     "text": [
      " 14%|██████████▉                                                                    | 182/1315 [00:16<01:25, 13.18it/s]"
     ]
    },
    {
     "name": "stdout",
     "output_type": "stream",
     "text": [
      "\n",
      "0: 640x640 4 fire signages, 22.6ms\n",
      "Speed: 5.0ms preprocess, 22.6ms inference, 1.0ms postprocess per image at shape (1, 3, 640, 640)\n",
      "\n",
      "0: 640x640 5 fire signages, 43.3ms\n",
      "Speed: 5.7ms preprocess, 43.3ms inference, 1.0ms postprocess per image at shape (1, 3, 640, 640)\n"
     ]
    },
    {
     "name": "stderr",
     "output_type": "stream",
     "text": [
      " 14%|███████████                                                                    | 184/1315 [00:16<01:31, 12.34it/s]"
     ]
    },
    {
     "name": "stdout",
     "output_type": "stream",
     "text": [
      "\n",
      "0: 640x640 5 fire signages, 23.1ms\n",
      "Speed: 5.0ms preprocess, 23.1ms inference, 1.0ms postprocess per image at shape (1, 3, 640, 640)\n",
      "\n",
      "0: 640x640 5 fire signages, 23.2ms\n",
      "Speed: 4.0ms preprocess, 23.2ms inference, 1.0ms postprocess per image at shape (1, 3, 640, 640)\n"
     ]
    },
    {
     "name": "stderr",
     "output_type": "stream",
     "text": [
      " 14%|███████████▏                                                                   | 186/1315 [00:16<01:32, 12.23it/s]"
     ]
    },
    {
     "name": "stdout",
     "output_type": "stream",
     "text": [
      "\n",
      "0: 640x640 4 fire signages, 23.3ms\n",
      "Speed: 5.0ms preprocess, 23.3ms inference, 1.0ms postprocess per image at shape (1, 3, 640, 640)\n",
      "\n",
      "0: 640x640 4 fire signages, 25.8ms\n",
      "Speed: 1.0ms preprocess, 25.8ms inference, 1.0ms postprocess per image at shape (1, 3, 640, 640)\n"
     ]
    },
    {
     "name": "stderr",
     "output_type": "stream",
     "text": [
      " 14%|███████████▎                                                                   | 188/1315 [00:17<01:30, 12.47it/s]"
     ]
    },
    {
     "name": "stdout",
     "output_type": "stream",
     "text": [
      "\n",
      "0: 640x640 5 fire signages, 22.3ms\n",
      "Speed: 5.0ms preprocess, 22.3ms inference, 1.0ms postprocess per image at shape (1, 3, 640, 640)\n",
      "\n",
      "0: 640x640 7 fire signages, 23.2ms\n",
      "Speed: 4.0ms preprocess, 23.2ms inference, 2.0ms postprocess per image at shape (1, 3, 640, 640)\n"
     ]
    },
    {
     "name": "stderr",
     "output_type": "stream",
     "text": [
      " 14%|███████████▍                                                                   | 190/1315 [00:17<01:30, 12.40it/s]"
     ]
    },
    {
     "name": "stdout",
     "output_type": "stream",
     "text": [
      "\n",
      "0: 640x640 6 fire signages, 23.3ms\n",
      "Speed: 5.0ms preprocess, 23.3ms inference, 1.0ms postprocess per image at shape (1, 3, 640, 640)\n",
      "\n",
      "0: 640x640 5 fire signages, 23.4ms\n",
      "Speed: 5.0ms preprocess, 23.4ms inference, 2.0ms postprocess per image at shape (1, 3, 640, 640)\n"
     ]
    },
    {
     "name": "stderr",
     "output_type": "stream",
     "text": [
      " 15%|███████████▌                                                                   | 192/1315 [00:17<01:30, 12.41it/s]"
     ]
    },
    {
     "name": "stdout",
     "output_type": "stream",
     "text": [
      "\n",
      "0: 640x640 6 fire signages, 23.5ms\n",
      "Speed: 4.1ms preprocess, 23.5ms inference, 1.0ms postprocess per image at shape (1, 3, 640, 640)\n",
      "\n",
      "0: 640x640 4 fire signages, 24.3ms\n",
      "Speed: 6.0ms preprocess, 24.3ms inference, 1.0ms postprocess per image at shape (1, 3, 640, 640)\n"
     ]
    },
    {
     "name": "stderr",
     "output_type": "stream",
     "text": [
      " 15%|███████████▋                                                                   | 194/1315 [00:17<01:35, 11.74it/s]"
     ]
    },
    {
     "name": "stdout",
     "output_type": "stream",
     "text": [
      "\n",
      "0: 640x640 4 fire signages, 23.2ms\n",
      "Speed: 5.0ms preprocess, 23.2ms inference, 1.0ms postprocess per image at shape (1, 3, 640, 640)\n",
      "\n",
      "0: 640x640 3 fire signages, 24.3ms\n",
      "Speed: 1.7ms preprocess, 24.3ms inference, 1.0ms postprocess per image at shape (1, 3, 640, 640)\n"
     ]
    },
    {
     "name": "stderr",
     "output_type": "stream",
     "text": [
      " 15%|███████████▊                                                                   | 196/1315 [00:17<01:31, 12.21it/s]"
     ]
    },
    {
     "name": "stdout",
     "output_type": "stream",
     "text": [
      "\n",
      "0: 640x640 4 fire signages, 20.5ms\n",
      "Speed: 5.0ms preprocess, 20.5ms inference, 1.5ms postprocess per image at shape (1, 3, 640, 640)\n",
      "\n",
      "0: 640x640 4 fire signages, 22.4ms\n",
      "Speed: 5.0ms preprocess, 22.4ms inference, 1.0ms postprocess per image at shape (1, 3, 640, 640)\n"
     ]
    },
    {
     "name": "stderr",
     "output_type": "stream",
     "text": [
      " 15%|███████████▉                                                                   | 198/1315 [00:17<01:27, 12.72it/s]"
     ]
    },
    {
     "name": "stdout",
     "output_type": "stream",
     "text": [
      "\n",
      "0: 640x640 4 fire signages, 19.7ms\n",
      "Speed: 4.6ms preprocess, 19.7ms inference, 1.0ms postprocess per image at shape (1, 3, 640, 640)\n",
      "\n",
      "0: 640x640 5 fire signages, 19.9ms\n",
      "Speed: 6.4ms preprocess, 19.9ms inference, 1.0ms postprocess per image at shape (1, 3, 640, 640)\n"
     ]
    },
    {
     "name": "stderr",
     "output_type": "stream",
     "text": [
      " 15%|████████████                                                                   | 200/1315 [00:17<01:26, 12.85it/s]"
     ]
    },
    {
     "name": "stdout",
     "output_type": "stream",
     "text": [
      "\n",
      "0: 640x640 4 fire signages, 23.7ms\n",
      "Speed: 5.0ms preprocess, 23.7ms inference, 1.0ms postprocess per image at shape (1, 3, 640, 640)\n",
      "\n",
      "0: 640x640 4 fire signages, 19.9ms\n",
      "Speed: 4.8ms preprocess, 19.9ms inference, 1.0ms postprocess per image at shape (1, 3, 640, 640)\n"
     ]
    },
    {
     "name": "stderr",
     "output_type": "stream",
     "text": [
      " 15%|████████████▏                                                                  | 202/1315 [00:18<01:25, 13.04it/s]"
     ]
    },
    {
     "name": "stdout",
     "output_type": "stream",
     "text": [
      "\n",
      "0: 640x640 4 fire signages, 19.6ms\n",
      "Speed: 5.6ms preprocess, 19.6ms inference, 1.0ms postprocess per image at shape (1, 3, 640, 640)\n",
      "\n",
      "0: 640x640 3 fire signages, 23.1ms\n",
      "Speed: 4.7ms preprocess, 23.1ms inference, 1.0ms postprocess per image at shape (1, 3, 640, 640)\n"
     ]
    },
    {
     "name": "stderr",
     "output_type": "stream",
     "text": [
      " 16%|████████████▎                                                                  | 204/1315 [00:18<01:29, 12.45it/s]"
     ]
    },
    {
     "name": "stdout",
     "output_type": "stream",
     "text": [
      "\n",
      "0: 640x640 3 fire signages, 20.1ms\n",
      "Speed: 5.0ms preprocess, 20.1ms inference, 1.0ms postprocess per image at shape (1, 3, 640, 640)\n",
      "\n",
      "0: 640x640 1 fire extinguisher, 1 fire signage, 2 helmets, 20.2ms\n",
      "Speed: 5.0ms preprocess, 20.2ms inference, 0.0ms postprocess per image at shape (1, 3, 640, 640)\n"
     ]
    },
    {
     "name": "stderr",
     "output_type": "stream",
     "text": [
      " 16%|████████████▍                                                                  | 206/1315 [00:18<01:30, 12.25it/s]"
     ]
    },
    {
     "name": "stdout",
     "output_type": "stream",
     "text": [
      "\n",
      "0: 640x640 1 fire extinguisher, 2 helmets, 18.4ms\n",
      "Speed: 4.0ms preprocess, 18.4ms inference, 1.0ms postprocess per image at shape (1, 3, 640, 640)\n",
      "\n",
      "0: 640x640 1 fire extinguisher, 1 fire signage, 2 helmets, 25.1ms\n",
      "Speed: 0.0ms preprocess, 25.1ms inference, 2.0ms postprocess per image at shape (1, 3, 640, 640)\n"
     ]
    },
    {
     "name": "stderr",
     "output_type": "stream",
     "text": [
      " 16%|████████████▍                                                                  | 208/1315 [00:18<01:24, 13.05it/s]"
     ]
    },
    {
     "name": "stdout",
     "output_type": "stream",
     "text": [
      "\n",
      "0: 640x640 1 fire extinguisher, 2 helmets, 20.4ms\n",
      "Speed: 6.0ms preprocess, 20.4ms inference, 1.0ms postprocess per image at shape (1, 3, 640, 640)\n",
      "\n",
      "0: 640x640 3 fire extinguishers, 2 helmets, 20.9ms\n",
      "Speed: 5.0ms preprocess, 20.9ms inference, 1.0ms postprocess per image at shape (1, 3, 640, 640)\n"
     ]
    },
    {
     "name": "stderr",
     "output_type": "stream",
     "text": [
      " 16%|████████████▌                                                                  | 210/1315 [00:18<01:25, 12.87it/s]"
     ]
    },
    {
     "name": "stdout",
     "output_type": "stream",
     "text": [
      "\n",
      "0: 640x640 2 fire extinguishers, 2 helmets, 21.2ms\n",
      "Speed: 5.0ms preprocess, 21.2ms inference, 0.0ms postprocess per image at shape (1, 3, 640, 640)\n",
      "\n",
      "0: 640x640 1 fire extinguisher, 1 helmet, 20.6ms\n",
      "Speed: 5.7ms preprocess, 20.6ms inference, 1.0ms postprocess per image at shape (1, 3, 640, 640)\n"
     ]
    },
    {
     "name": "stderr",
     "output_type": "stream",
     "text": [
      " 16%|████████████▋                                                                  | 212/1315 [00:18<01:24, 12.98it/s]"
     ]
    },
    {
     "name": "stdout",
     "output_type": "stream",
     "text": [
      "\n",
      "0: 640x640 1 fire extinguisher, 1 helmet, 20.6ms\n",
      "Speed: 5.0ms preprocess, 20.6ms inference, 1.0ms postprocess per image at shape (1, 3, 640, 640)\n",
      "\n",
      "0: 640x640 1 fire extinguisher, 1 helmet, 27.4ms\n",
      "Speed: 4.0ms preprocess, 27.4ms inference, 2.0ms postprocess per image at shape (1, 3, 640, 640)\n"
     ]
    },
    {
     "name": "stderr",
     "output_type": "stream",
     "text": [
      " 16%|████████████▊                                                                  | 214/1315 [00:19<01:23, 13.16it/s]"
     ]
    },
    {
     "name": "stdout",
     "output_type": "stream",
     "text": [
      "\n",
      "0: 640x640 1 fire extinguisher, 1 helmet, 22.7ms\n",
      "Speed: 4.0ms preprocess, 22.7ms inference, 2.0ms postprocess per image at shape (1, 3, 640, 640)\n",
      "\n",
      "0: 640x640 1 fire extinguisher, 1 helmet, 22.6ms\n",
      "Speed: 4.0ms preprocess, 22.6ms inference, 1.4ms postprocess per image at shape (1, 3, 640, 640)\n"
     ]
    },
    {
     "name": "stderr",
     "output_type": "stream",
     "text": [
      " 16%|████████████▉                                                                  | 216/1315 [00:19<01:22, 13.29it/s]"
     ]
    },
    {
     "name": "stdout",
     "output_type": "stream",
     "text": [
      "\n",
      "0: 640x640 1 fire extinguisher, 1 helmet, 16.5ms\n",
      "Speed: 4.7ms preprocess, 16.5ms inference, 7.5ms postprocess per image at shape (1, 3, 640, 640)\n",
      "\n",
      "0: 640x640 2 helmets, 22.3ms\n",
      "Speed: 5.0ms preprocess, 22.3ms inference, 1.6ms postprocess per image at shape (1, 3, 640, 640)\n"
     ]
    },
    {
     "name": "stderr",
     "output_type": "stream",
     "text": [
      " 17%|█████████████                                                                  | 218/1315 [00:19<01:21, 13.39it/s]"
     ]
    },
    {
     "name": "stdout",
     "output_type": "stream",
     "text": [
      "\n",
      "0: 640x640 3 fire extinguishers, 3 helmets, 25.9ms\n",
      "Speed: 5.0ms preprocess, 25.9ms inference, 1.0ms postprocess per image at shape (1, 3, 640, 640)\n",
      "\n",
      "0: 640x640 3 fire extinguishers, 3 helmets, 22.8ms\n",
      "Speed: 5.7ms preprocess, 22.8ms inference, 1.0ms postprocess per image at shape (1, 3, 640, 640)\n"
     ]
    },
    {
     "name": "stderr",
     "output_type": "stream",
     "text": [
      " 17%|█████████████▏                                                                 | 220/1315 [00:19<01:23, 13.16it/s]"
     ]
    },
    {
     "name": "stdout",
     "output_type": "stream",
     "text": [
      "\n",
      "0: 640x640 3 fire extinguishers, 1 fire signage, 3 helmets, 23.3ms\n",
      "Speed: 5.4ms preprocess, 23.3ms inference, 2.0ms postprocess per image at shape (1, 3, 640, 640)\n",
      "\n",
      "0: 640x640 3 fire extinguishers, 1 fire signage, 3 helmets, 22.6ms\n",
      "Speed: 4.7ms preprocess, 22.6ms inference, 1.0ms postprocess per image at shape (1, 3, 640, 640)\n"
     ]
    },
    {
     "name": "stderr",
     "output_type": "stream",
     "text": [
      " 17%|█████████████▎                                                                 | 222/1315 [00:19<01:23, 13.07it/s]"
     ]
    },
    {
     "name": "stdout",
     "output_type": "stream",
     "text": [
      "\n",
      "0: 640x640 5 fire extinguishers, 1 fire signage, 3 helmets, 22.9ms\n",
      "Speed: 4.0ms preprocess, 22.9ms inference, 1.0ms postprocess per image at shape (1, 3, 640, 640)\n",
      "\n",
      "0: 640x640 3 fire extinguishers, 1 helmet, 25.2ms\n",
      "Speed: 6.0ms preprocess, 25.2ms inference, 2.0ms postprocess per image at shape (1, 3, 640, 640)\n"
     ]
    },
    {
     "name": "stderr",
     "output_type": "stream",
     "text": [
      " 17%|█████████████▍                                                                 | 224/1315 [00:19<01:26, 12.58it/s]"
     ]
    },
    {
     "name": "stdout",
     "output_type": "stream",
     "text": [
      "\n",
      "0: 640x640 4 fire extinguishers, 1 helmet, 24.0ms\n",
      "Speed: 5.2ms preprocess, 24.0ms inference, 1.0ms postprocess per image at shape (1, 3, 640, 640)\n",
      "\n",
      "0: 640x640 2 fire extinguishers, 1 helmet, 24.4ms\n",
      "Speed: 4.8ms preprocess, 24.4ms inference, 1.0ms postprocess per image at shape (1, 3, 640, 640)\n"
     ]
    },
    {
     "name": "stderr",
     "output_type": "stream",
     "text": [
      " 17%|█████████████▌                                                                 | 226/1315 [00:20<01:27, 12.45it/s]"
     ]
    },
    {
     "name": "stdout",
     "output_type": "stream",
     "text": [
      "\n",
      "0: 640x640 2 fire extinguishers, 1 helmet, 18.8ms\n",
      "Speed: 4.8ms preprocess, 18.8ms inference, 0.0ms postprocess per image at shape (1, 3, 640, 640)\n",
      "\n",
      "0: 640x640 3 fire extinguishers, 1 helmet, 23.3ms\n",
      "Speed: 4.5ms preprocess, 23.3ms inference, 1.0ms postprocess per image at shape (1, 3, 640, 640)\n"
     ]
    },
    {
     "name": "stderr",
     "output_type": "stream",
     "text": [
      " 17%|█████████████▋                                                                 | 228/1315 [00:20<01:26, 12.56it/s]"
     ]
    },
    {
     "name": "stdout",
     "output_type": "stream",
     "text": [
      "\n",
      "0: 640x640 3 fire extinguishers, 2 helmets, 22.9ms\n",
      "Speed: 6.0ms preprocess, 22.9ms inference, 1.0ms postprocess per image at shape (1, 3, 640, 640)\n",
      "\n",
      "0: 640x640 3 fire extinguishers, 3 helmets, 26.6ms\n",
      "Speed: 5.8ms preprocess, 26.6ms inference, 1.0ms postprocess per image at shape (1, 3, 640, 640)\n"
     ]
    },
    {
     "name": "stderr",
     "output_type": "stream",
     "text": [
      " 17%|█████████████▊                                                                 | 230/1315 [00:20<01:26, 12.61it/s]"
     ]
    },
    {
     "name": "stdout",
     "output_type": "stream",
     "text": [
      "\n",
      "0: 640x640 3 fire extinguishers, 3 helmets, 23.2ms\n",
      "Speed: 4.0ms preprocess, 23.2ms inference, 1.0ms postprocess per image at shape (1, 3, 640, 640)\n",
      "\n",
      "0: 640x640 5 fire extinguishers, 1 helmet, 23.6ms\n",
      "Speed: 5.6ms preprocess, 23.6ms inference, 1.0ms postprocess per image at shape (1, 3, 640, 640)\n"
     ]
    },
    {
     "name": "stderr",
     "output_type": "stream",
     "text": [
      " 18%|█████████████▉                                                                 | 232/1315 [00:20<01:24, 12.79it/s]"
     ]
    },
    {
     "name": "stdout",
     "output_type": "stream",
     "text": [
      "\n",
      "0: 640x640 4 fire extinguishers, 1 helmet, 22.9ms\n",
      "Speed: 5.4ms preprocess, 22.9ms inference, 1.0ms postprocess per image at shape (1, 3, 640, 640)\n",
      "\n",
      "0: 640x640 3 fire extinguishers, 1 fire signage, 1 helmet, 23.8ms\n",
      "Speed: 5.0ms preprocess, 23.8ms inference, 1.0ms postprocess per image at shape (1, 3, 640, 640)\n"
     ]
    },
    {
     "name": "stderr",
     "output_type": "stream",
     "text": [
      " 18%|██████████████                                                                 | 234/1315 [00:20<01:27, 12.37it/s]"
     ]
    },
    {
     "name": "stdout",
     "output_type": "stream",
     "text": [
      "\n",
      "0: 640x640 3 fire extinguishers, 1 helmet, 24.4ms\n",
      "Speed: 5.0ms preprocess, 24.4ms inference, 1.7ms postprocess per image at shape (1, 3, 640, 640)\n",
      "\n",
      "0: 640x640 2 fire extinguishers, 1 helmet, 22.7ms\n",
      "Speed: 5.0ms preprocess, 22.7ms inference, 1.0ms postprocess per image at shape (1, 3, 640, 640)\n"
     ]
    },
    {
     "name": "stderr",
     "output_type": "stream",
     "text": [
      " 18%|██████████████▏                                                                | 236/1315 [00:20<01:26, 12.42it/s]"
     ]
    },
    {
     "name": "stdout",
     "output_type": "stream",
     "text": [
      "\n",
      "0: 640x640 3 fire extinguishers, 2 fire signages, 1 helmet, 17.8ms\n",
      "Speed: 5.0ms preprocess, 17.8ms inference, 0.0ms postprocess per image at shape (1, 3, 640, 640)\n",
      "\n",
      "0: 640x640 3 fire extinguishers, 2 fire signages, 1 helmet, 23.7ms\n",
      "Speed: 4.0ms preprocess, 23.7ms inference, 1.0ms postprocess per image at shape (1, 3, 640, 640)\n"
     ]
    },
    {
     "name": "stderr",
     "output_type": "stream",
     "text": [
      " 18%|██████████████▎                                                                | 238/1315 [00:20<01:27, 12.28it/s]"
     ]
    },
    {
     "name": "stdout",
     "output_type": "stream",
     "text": [
      "\n",
      "0: 640x640 3 fire extinguishers, 2 fire signages, 1 helmet, 22.2ms\n",
      "Speed: 16.5ms preprocess, 22.2ms inference, 1.0ms postprocess per image at shape (1, 3, 640, 640)\n",
      "\n",
      "0: 640x640 2 fire extinguishers, 2 fire signages, 1 helmet, 22.4ms\n",
      "Speed: 5.5ms preprocess, 22.4ms inference, 1.0ms postprocess per image at shape (1, 3, 640, 640)\n"
     ]
    },
    {
     "name": "stderr",
     "output_type": "stream",
     "text": [
      " 18%|██████████████▍                                                                | 240/1315 [00:21<01:26, 12.47it/s]"
     ]
    },
    {
     "name": "stdout",
     "output_type": "stream",
     "text": [
      "\n",
      "0: 640x640 3 fire extinguishers, 2 fire signages, 27.2ms\n",
      "Speed: 5.1ms preprocess, 27.2ms inference, 1.0ms postprocess per image at shape (1, 3, 640, 640)\n",
      "\n",
      "0: 640x640 3 fire extinguishers, 2 fire signages, 22.6ms\n",
      "Speed: 5.8ms preprocess, 22.6ms inference, 1.0ms postprocess per image at shape (1, 3, 640, 640)\n"
     ]
    },
    {
     "name": "stderr",
     "output_type": "stream",
     "text": [
      " 18%|██████████████▌                                                                | 242/1315 [00:21<01:25, 12.50it/s]"
     ]
    },
    {
     "name": "stdout",
     "output_type": "stream",
     "text": [
      "\n",
      "0: 640x640 4 fire extinguishers, 2 fire signages, 23.0ms\n",
      "Speed: 4.4ms preprocess, 23.0ms inference, 1.0ms postprocess per image at shape (1, 3, 640, 640)\n",
      "\n",
      "0: 640x640 1 fire extinguisher, 1 fire signage, 23.7ms\n",
      "Speed: 4.9ms preprocess, 23.7ms inference, 1.0ms postprocess per image at shape (1, 3, 640, 640)\n"
     ]
    },
    {
     "name": "stderr",
     "output_type": "stream",
     "text": [
      " 19%|██████████████▋                                                                | 244/1315 [00:21<01:24, 12.65it/s]"
     ]
    },
    {
     "name": "stdout",
     "output_type": "stream",
     "text": [
      "\n",
      "0: 640x640 1 fire signage, 38.3ms\n",
      "Speed: 5.8ms preprocess, 38.3ms inference, 1.4ms postprocess per image at shape (1, 3, 640, 640)\n",
      "\n",
      "0: 640x640 2 fire signages, 23.6ms\n",
      "Speed: 4.5ms preprocess, 23.6ms inference, 3.0ms postprocess per image at shape (1, 3, 640, 640)\n"
     ]
    },
    {
     "name": "stderr",
     "output_type": "stream",
     "text": [
      " 19%|██████████████▊                                                                | 246/1315 [00:21<01:27, 12.29it/s]"
     ]
    },
    {
     "name": "stdout",
     "output_type": "stream",
     "text": [
      "\n",
      "0: 640x640 3 fire signages, 23.7ms\n",
      "Speed: 4.0ms preprocess, 23.7ms inference, 1.2ms postprocess per image at shape (1, 3, 640, 640)\n",
      "\n",
      "0: 640x640 3 fire signages, 23.9ms\n",
      "Speed: 5.4ms preprocess, 23.9ms inference, 2.0ms postprocess per image at shape (1, 3, 640, 640)\n"
     ]
    },
    {
     "name": "stderr",
     "output_type": "stream",
     "text": [
      " 19%|██████████████▉                                                                | 248/1315 [00:21<01:25, 12.49it/s]"
     ]
    },
    {
     "name": "stdout",
     "output_type": "stream",
     "text": [
      "\n",
      "0: 640x640 1 fire extinguisher, 1 fire signage, 24.4ms\n",
      "Speed: 5.0ms preprocess, 24.4ms inference, 1.4ms postprocess per image at shape (1, 3, 640, 640)\n",
      "\n",
      "0: 640x640 1 fire signage, 22.8ms\n",
      "Speed: 4.7ms preprocess, 22.8ms inference, 1.0ms postprocess per image at shape (1, 3, 640, 640)\n"
     ]
    },
    {
     "name": "stderr",
     "output_type": "stream",
     "text": [
      " 19%|███████████████                                                                | 250/1315 [00:21<01:22, 12.87it/s]"
     ]
    },
    {
     "name": "stdout",
     "output_type": "stream",
     "text": [
      "\n",
      "0: 640x640 1 fire signage, 1 helmet, 24.0ms\n",
      "Speed: 5.0ms preprocess, 24.0ms inference, 1.0ms postprocess per image at shape (1, 3, 640, 640)\n",
      "\n",
      "0: 640x640 1 fire signage, 1 helmet, 24.3ms\n",
      "Speed: 4.7ms preprocess, 24.3ms inference, 1.0ms postprocess per image at shape (1, 3, 640, 640)\n"
     ]
    },
    {
     "name": "stderr",
     "output_type": "stream",
     "text": [
      " 19%|███████████████▏                                                               | 252/1315 [00:22<01:22, 12.84it/s]"
     ]
    },
    {
     "name": "stdout",
     "output_type": "stream",
     "text": [
      "\n",
      "0: 640x640 1 fire extinguisher, 2 fire signages, 22.7ms\n",
      "Speed: 4.5ms preprocess, 22.7ms inference, 2.0ms postprocess per image at shape (1, 3, 640, 640)\n",
      "\n",
      "0: 640x640 1 fire extinguisher, 2 fire signages, 19.9ms\n",
      "Speed: 5.7ms preprocess, 19.9ms inference, 0.0ms postprocess per image at shape (1, 3, 640, 640)\n"
     ]
    },
    {
     "name": "stderr",
     "output_type": "stream",
     "text": [
      " 19%|███████████████▎                                                               | 254/1315 [00:22<01:22, 12.89it/s]"
     ]
    },
    {
     "name": "stdout",
     "output_type": "stream",
     "text": [
      "\n",
      "0: 640x640 1 fire extinguisher, 2 fire signages, 24.4ms\n",
      "Speed: 4.0ms preprocess, 24.4ms inference, 1.0ms postprocess per image at shape (1, 3, 640, 640)\n",
      "\n",
      "0: 640x640 2 fire signages, 42.5ms\n",
      "Speed: 5.0ms preprocess, 42.5ms inference, 1.0ms postprocess per image at shape (1, 3, 640, 640)\n"
     ]
    },
    {
     "name": "stderr",
     "output_type": "stream",
     "text": [
      " 19%|███████████████▍                                                               | 256/1315 [00:22<01:25, 12.39it/s]"
     ]
    },
    {
     "name": "stdout",
     "output_type": "stream",
     "text": [
      "\n",
      "0: 640x640 3 fire signages, 23.8ms\n",
      "Speed: 8.1ms preprocess, 23.8ms inference, 1.0ms postprocess per image at shape (1, 3, 640, 640)\n",
      "\n",
      "0: 640x640 2 fire signages, 22.5ms\n",
      "Speed: 5.2ms preprocess, 22.5ms inference, 1.0ms postprocess per image at shape (1, 3, 640, 640)\n"
     ]
    },
    {
     "name": "stderr",
     "output_type": "stream",
     "text": [
      " 20%|███████████████▍                                                               | 258/1315 [00:22<01:23, 12.60it/s]"
     ]
    },
    {
     "name": "stdout",
     "output_type": "stream",
     "text": [
      "\n",
      "0: 640x640 2 fire signages, 23.4ms\n",
      "Speed: 5.0ms preprocess, 23.4ms inference, 2.5ms postprocess per image at shape (1, 3, 640, 640)\n",
      "\n",
      "0: 640x640 2 fire signages, 22.7ms\n",
      "Speed: 5.0ms preprocess, 22.7ms inference, 1.0ms postprocess per image at shape (1, 3, 640, 640)\n"
     ]
    },
    {
     "name": "stderr",
     "output_type": "stream",
     "text": [
      " 20%|███████████████▌                                                               | 260/1315 [00:22<01:23, 12.66it/s]"
     ]
    },
    {
     "name": "stdout",
     "output_type": "stream",
     "text": [
      "\n",
      "0: 640x640 1 fire signage, 23.1ms\n",
      "Speed: 5.0ms preprocess, 23.1ms inference, 2.0ms postprocess per image at shape (1, 3, 640, 640)\n",
      "\n",
      "0: 640x640 1 fire signage, 16.6ms\n",
      "Speed: 5.1ms preprocess, 16.6ms inference, 7.0ms postprocess per image at shape (1, 3, 640, 640)\n"
     ]
    },
    {
     "name": "stderr",
     "output_type": "stream",
     "text": [
      " 20%|███████████████▋                                                               | 262/1315 [00:22<01:21, 12.93it/s]"
     ]
    },
    {
     "name": "stdout",
     "output_type": "stream",
     "text": [
      "\n",
      "0: 640x640 1 fire signage, 24.4ms\n",
      "Speed: 5.0ms preprocess, 24.4ms inference, 1.0ms postprocess per image at shape (1, 3, 640, 640)\n",
      "\n",
      "0: 640x640 1 fire signage, 27.6ms\n",
      "Speed: 5.5ms preprocess, 27.6ms inference, 1.0ms postprocess per image at shape (1, 3, 640, 640)\n"
     ]
    },
    {
     "name": "stderr",
     "output_type": "stream",
     "text": [
      " 20%|███████████████▊                                                               | 264/1315 [00:23<01:20, 13.09it/s]"
     ]
    },
    {
     "name": "stdout",
     "output_type": "stream",
     "text": [
      "\n",
      "0: 640x640 1 fire signage, 24.8ms\n",
      "Speed: 5.2ms preprocess, 24.8ms inference, 1.0ms postprocess per image at shape (1, 3, 640, 640)\n",
      "\n",
      "0: 640x640 1 fire signage, 22.6ms\n",
      "Speed: 15.9ms preprocess, 22.6ms inference, 1.0ms postprocess per image at shape (1, 3, 640, 640)\n"
     ]
    },
    {
     "name": "stderr",
     "output_type": "stream",
     "text": [
      " 20%|███████████████▉                                                               | 266/1315 [00:23<01:23, 12.57it/s]"
     ]
    },
    {
     "name": "stdout",
     "output_type": "stream",
     "text": [
      "\n",
      "0: 640x640 1 fire signage, 22.7ms\n",
      "Speed: 5.0ms preprocess, 22.7ms inference, 1.0ms postprocess per image at shape (1, 3, 640, 640)\n",
      "\n",
      "0: 640x640 2 fire signages, 22.8ms\n",
      "Speed: 6.0ms preprocess, 22.8ms inference, 1.0ms postprocess per image at shape (1, 3, 640, 640)\n"
     ]
    },
    {
     "name": "stderr",
     "output_type": "stream",
     "text": [
      " 20%|████████████████                                                               | 268/1315 [00:23<01:22, 12.76it/s]"
     ]
    },
    {
     "name": "stdout",
     "output_type": "stream",
     "text": [
      "\n",
      "0: 640x640 1 fire extinguisher, 1 fire signage, 22.7ms\n",
      "Speed: 5.6ms preprocess, 22.7ms inference, 1.0ms postprocess per image at shape (1, 3, 640, 640)\n",
      "\n",
      "0: 640x640 1 fire signage, 23.1ms\n",
      "Speed: 5.0ms preprocess, 23.1ms inference, 2.0ms postprocess per image at shape (1, 3, 640, 640)\n"
     ]
    },
    {
     "name": "stderr",
     "output_type": "stream",
     "text": [
      " 21%|████████████████▏                                                              | 270/1315 [00:23<01:20, 13.03it/s]"
     ]
    },
    {
     "name": "stdout",
     "output_type": "stream",
     "text": [
      "\n",
      "0: 640x640 2 fire signages, 16.4ms\n",
      "Speed: 5.0ms preprocess, 16.4ms inference, 0.0ms postprocess per image at shape (1, 3, 640, 640)\n",
      "\n",
      "0: 640x640 2 fire signages, 22.7ms\n",
      "Speed: 14.3ms preprocess, 22.7ms inference, 1.0ms postprocess per image at shape (1, 3, 640, 640)\n"
     ]
    },
    {
     "name": "stderr",
     "output_type": "stream",
     "text": [
      " 21%|████████████████▎                                                              | 272/1315 [00:23<01:21, 12.82it/s]"
     ]
    },
    {
     "name": "stdout",
     "output_type": "stream",
     "text": [
      "\n",
      "0: 640x640 1 fire signage, 35.8ms\n",
      "Speed: 0.0ms preprocess, 35.8ms inference, 1.0ms postprocess per image at shape (1, 3, 640, 640)\n",
      "\n",
      "0: 640x640 2 fire signages, 23.1ms\n",
      "Speed: 5.8ms preprocess, 23.1ms inference, 1.0ms postprocess per image at shape (1, 3, 640, 640)\n"
     ]
    },
    {
     "name": "stderr",
     "output_type": "stream",
     "text": [
      " 21%|████████████████▍                                                              | 274/1315 [00:23<01:20, 12.88it/s]"
     ]
    },
    {
     "name": "stdout",
     "output_type": "stream",
     "text": [
      "\n",
      "0: 640x640 1 fire signage, 23.5ms\n",
      "Speed: 6.3ms preprocess, 23.5ms inference, 2.0ms postprocess per image at shape (1, 3, 640, 640)\n",
      "\n",
      "0: 640x640 2 fire signages, 22.6ms\n",
      "Speed: 6.4ms preprocess, 22.6ms inference, 1.0ms postprocess per image at shape (1, 3, 640, 640)\n"
     ]
    },
    {
     "name": "stderr",
     "output_type": "stream",
     "text": [
      " 21%|████████████████▌                                                              | 276/1315 [00:23<01:22, 12.58it/s]"
     ]
    },
    {
     "name": "stdout",
     "output_type": "stream",
     "text": [
      "\n",
      "0: 640x640 2 fire signages, 25.3ms\n",
      "Speed: 5.0ms preprocess, 25.3ms inference, 1.0ms postprocess per image at shape (1, 3, 640, 640)\n",
      "\n",
      "0: 640x640 2 fire signages, 33.7ms\n",
      "Speed: 0.0ms preprocess, 33.7ms inference, 1.0ms postprocess per image at shape (1, 3, 640, 640)\n"
     ]
    },
    {
     "name": "stderr",
     "output_type": "stream",
     "text": [
      " 21%|████████████████▋                                                              | 278/1315 [00:24<01:26, 11.93it/s]"
     ]
    },
    {
     "name": "stdout",
     "output_type": "stream",
     "text": [
      "\n",
      "0: 640x640 1 fire signage, 22.6ms\n",
      "Speed: 5.0ms preprocess, 22.6ms inference, 2.5ms postprocess per image at shape (1, 3, 640, 640)\n",
      "\n",
      "0: 640x640 1 fire signage, 24.4ms\n",
      "Speed: 6.4ms preprocess, 24.4ms inference, 2.0ms postprocess per image at shape (1, 3, 640, 640)\n"
     ]
    },
    {
     "name": "stderr",
     "output_type": "stream",
     "text": [
      " 21%|████████████████▊                                                              | 280/1315 [00:24<01:26, 12.00it/s]"
     ]
    },
    {
     "name": "stdout",
     "output_type": "stream",
     "text": [
      "\n",
      "0: 640x640 1 fire signage, 26.9ms\n",
      "Speed: 6.6ms preprocess, 26.9ms inference, 1.0ms postprocess per image at shape (1, 3, 640, 640)\n",
      "\n",
      "0: 640x640 1 fire signage, 23.2ms\n",
      "Speed: 5.0ms preprocess, 23.2ms inference, 1.4ms postprocess per image at shape (1, 3, 640, 640)\n"
     ]
    },
    {
     "name": "stderr",
     "output_type": "stream",
     "text": [
      " 21%|████████████████▉                                                              | 282/1315 [00:24<01:23, 12.37it/s]"
     ]
    },
    {
     "name": "stdout",
     "output_type": "stream",
     "text": [
      "\n",
      "0: 640x640 1 fire signage, 23.7ms\n",
      "Speed: 5.7ms preprocess, 23.7ms inference, 1.0ms postprocess per image at shape (1, 3, 640, 640)\n",
      "\n",
      "0: 640x640 1 fire signage, 23.4ms\n",
      "Speed: 7.0ms preprocess, 23.4ms inference, 2.5ms postprocess per image at shape (1, 3, 640, 640)\n"
     ]
    },
    {
     "name": "stderr",
     "output_type": "stream",
     "text": [
      " 22%|█████████████████                                                              | 284/1315 [00:24<01:26, 11.98it/s]"
     ]
    },
    {
     "name": "stdout",
     "output_type": "stream",
     "text": [
      "\n",
      "0: 640x640 2 fire signages, 23.5ms\n",
      "Speed: 5.9ms preprocess, 23.5ms inference, 2.0ms postprocess per image at shape (1, 3, 640, 640)\n",
      "\n",
      "0: 640x640 1 fire signage, 23.1ms\n",
      "Speed: 6.5ms preprocess, 23.1ms inference, 1.0ms postprocess per image at shape (1, 3, 640, 640)\n"
     ]
    },
    {
     "name": "stderr",
     "output_type": "stream",
     "text": [
      " 22%|█████████████████▏                                                             | 286/1315 [00:24<01:23, 12.27it/s]"
     ]
    },
    {
     "name": "stdout",
     "output_type": "stream",
     "text": [
      "\n",
      "0: 640x640 1 fire signage, 23.3ms\n",
      "Speed: 16.4ms preprocess, 23.3ms inference, 1.0ms postprocess per image at shape (1, 3, 640, 640)\n",
      "\n",
      "0: 640x640 1 fire signage, 22.6ms\n",
      "Speed: 5.5ms preprocess, 22.6ms inference, 1.0ms postprocess per image at shape (1, 3, 640, 640)\n"
     ]
    },
    {
     "name": "stderr",
     "output_type": "stream",
     "text": [
      " 22%|█████████████████▎                                                             | 288/1315 [00:24<01:25, 11.98it/s]"
     ]
    },
    {
     "name": "stdout",
     "output_type": "stream",
     "text": [
      "\n",
      "0: 640x640 1 fire signage, 24.6ms\n",
      "Speed: 9.8ms preprocess, 24.6ms inference, 1.0ms postprocess per image at shape (1, 3, 640, 640)\n",
      "\n",
      "0: 640x640 1 fire signage, 28.1ms\n",
      "Speed: 5.6ms preprocess, 28.1ms inference, 1.5ms postprocess per image at shape (1, 3, 640, 640)\n"
     ]
    },
    {
     "name": "stderr",
     "output_type": "stream",
     "text": [
      " 22%|█████████████████▍                                                             | 290/1315 [00:25<01:25, 11.96it/s]"
     ]
    },
    {
     "name": "stdout",
     "output_type": "stream",
     "text": [
      "\n",
      "0: 640x640 1 fire signage, 23.5ms\n",
      "Speed: 5.8ms preprocess, 23.5ms inference, 1.4ms postprocess per image at shape (1, 3, 640, 640)\n",
      "\n",
      "0: 640x640 1 fire signage, 24.3ms\n",
      "Speed: 6.1ms preprocess, 24.3ms inference, 1.0ms postprocess per image at shape (1, 3, 640, 640)\n"
     ]
    },
    {
     "name": "stderr",
     "output_type": "stream",
     "text": [
      " 22%|█████████████████▌                                                             | 292/1315 [00:25<01:24, 12.11it/s]"
     ]
    },
    {
     "name": "stdout",
     "output_type": "stream",
     "text": [
      "\n",
      "0: 640x640 2 fire signages, 22.5ms\n",
      "Speed: 5.0ms preprocess, 22.5ms inference, 2.0ms postprocess per image at shape (1, 3, 640, 640)\n",
      "\n",
      "0: 640x640 1 fire signage, 22.4ms\n",
      "Speed: 6.0ms preprocess, 22.4ms inference, 0.0ms postprocess per image at shape (1, 3, 640, 640)\n"
     ]
    },
    {
     "name": "stderr",
     "output_type": "stream",
     "text": [
      " 22%|█████████████████▋                                                             | 294/1315 [00:25<01:23, 12.17it/s]"
     ]
    },
    {
     "name": "stdout",
     "output_type": "stream",
     "text": [
      "\n",
      "0: 640x640 1 fire signage, 23.1ms\n",
      "Speed: 5.2ms preprocess, 23.1ms inference, 2.0ms postprocess per image at shape (1, 3, 640, 640)\n",
      "\n",
      "0: 640x640 1 fire signage, 22.9ms\n",
      "Speed: 6.4ms preprocess, 22.9ms inference, 2.0ms postprocess per image at shape (1, 3, 640, 640)\n"
     ]
    },
    {
     "name": "stderr",
     "output_type": "stream",
     "text": [
      " 23%|█████████████████▊                                                             | 296/1315 [00:25<01:22, 12.29it/s]"
     ]
    },
    {
     "name": "stdout",
     "output_type": "stream",
     "text": [
      "\n",
      "0: 640x640 1 fire signage, 22.4ms\n",
      "Speed: 6.0ms preprocess, 22.4ms inference, 2.0ms postprocess per image at shape (1, 3, 640, 640)\n",
      "\n",
      "0: 640x640 1 fire signage, 23.6ms\n",
      "Speed: 5.1ms preprocess, 23.6ms inference, 1.0ms postprocess per image at shape (1, 3, 640, 640)\n"
     ]
    },
    {
     "name": "stderr",
     "output_type": "stream",
     "text": [
      " 23%|█████████████████▉                                                             | 298/1315 [00:25<01:22, 12.36it/s]"
     ]
    },
    {
     "name": "stdout",
     "output_type": "stream",
     "text": [
      "\n",
      "0: 640x640 1 fire signage, 24.7ms\n",
      "Speed: 6.0ms preprocess, 24.7ms inference, 1.0ms postprocess per image at shape (1, 3, 640, 640)\n",
      "\n",
      "0: 640x640 1 fire signage, 20.7ms\n",
      "Speed: 6.0ms preprocess, 20.7ms inference, 0.0ms postprocess per image at shape (1, 3, 640, 640)\n"
     ]
    },
    {
     "name": "stderr",
     "output_type": "stream",
     "text": [
      " 23%|██████████████████                                                             | 300/1315 [00:25<01:22, 12.32it/s]"
     ]
    },
    {
     "name": "stdout",
     "output_type": "stream",
     "text": [
      "\n",
      "0: 640x640 1 fire signage, 23.7ms\n",
      "Speed: 5.3ms preprocess, 23.7ms inference, 1.0ms postprocess per image at shape (1, 3, 640, 640)\n",
      "\n",
      "0: 640x640 1 fire signage, 22.3ms\n",
      "Speed: 6.0ms preprocess, 22.3ms inference, 2.0ms postprocess per image at shape (1, 3, 640, 640)\n"
     ]
    },
    {
     "name": "stderr",
     "output_type": "stream",
     "text": [
      " 23%|██████████████████▏                                                            | 302/1315 [00:26<01:20, 12.66it/s]"
     ]
    },
    {
     "name": "stdout",
     "output_type": "stream",
     "text": [
      "\n",
      "0: 640x640 1 fire signage, 23.3ms\n",
      "Speed: 6.0ms preprocess, 23.3ms inference, 1.0ms postprocess per image at shape (1, 3, 640, 640)\n",
      "\n",
      "0: 640x640 1 fire signage, 22.9ms\n",
      "Speed: 5.0ms preprocess, 22.9ms inference, 1.0ms postprocess per image at shape (1, 3, 640, 640)\n"
     ]
    },
    {
     "name": "stderr",
     "output_type": "stream",
     "text": [
      " 23%|██████████████████▎                                                            | 304/1315 [00:26<01:18, 12.92it/s]"
     ]
    },
    {
     "name": "stdout",
     "output_type": "stream",
     "text": [
      "\n",
      "0: 640x640 1 fire signage, 23.3ms\n",
      "Speed: 4.0ms preprocess, 23.3ms inference, 1.0ms postprocess per image at shape (1, 3, 640, 640)\n",
      "\n",
      "0: 640x640 1 fire signage, 23.3ms\n",
      "Speed: 5.0ms preprocess, 23.3ms inference, 1.0ms postprocess per image at shape (1, 3, 640, 640)\n"
     ]
    },
    {
     "name": "stderr",
     "output_type": "stream",
     "text": [
      " 23%|██████████████████▍                                                            | 306/1315 [00:26<01:16, 13.27it/s]"
     ]
    },
    {
     "name": "stdout",
     "output_type": "stream",
     "text": [
      "\n",
      "0: 640x640 1 fire signage, 24.7ms\n",
      "Speed: 4.6ms preprocess, 24.7ms inference, 1.0ms postprocess per image at shape (1, 3, 640, 640)\n",
      "\n",
      "0: 640x640 2 fire signages, 23.7ms\n",
      "Speed: 5.0ms preprocess, 23.7ms inference, 1.0ms postprocess per image at shape (1, 3, 640, 640)\n"
     ]
    },
    {
     "name": "stderr",
     "output_type": "stream",
     "text": [
      " 23%|██████████████████▌                                                            | 308/1315 [00:26<01:15, 13.32it/s]"
     ]
    },
    {
     "name": "stdout",
     "output_type": "stream",
     "text": [
      "\n",
      "0: 640x640 2 fire signages, 22.8ms\n",
      "Speed: 5.3ms preprocess, 22.8ms inference, 2.0ms postprocess per image at shape (1, 3, 640, 640)\n",
      "\n",
      "0: 640x640 2 fire signages, 33.0ms\n",
      "Speed: 5.0ms preprocess, 33.0ms inference, 1.0ms postprocess per image at shape (1, 3, 640, 640)\n"
     ]
    },
    {
     "name": "stderr",
     "output_type": "stream",
     "text": [
      " 24%|██████████████████▌                                                            | 310/1315 [00:26<01:16, 13.14it/s]"
     ]
    },
    {
     "name": "stdout",
     "output_type": "stream",
     "text": [
      "\n",
      "0: 640x640 2 fire signages, 26.8ms\n",
      "Speed: 6.0ms preprocess, 26.8ms inference, 1.1ms postprocess per image at shape (1, 3, 640, 640)\n",
      "\n",
      "0: 640x640 2 fire signages, 1 helmet, 24.1ms\n",
      "Speed: 4.0ms preprocess, 24.1ms inference, 1.2ms postprocess per image at shape (1, 3, 640, 640)\n"
     ]
    },
    {
     "name": "stderr",
     "output_type": "stream",
     "text": [
      " 24%|██████████████████▋                                                            | 312/1315 [00:26<01:16, 13.07it/s]"
     ]
    },
    {
     "name": "stdout",
     "output_type": "stream",
     "text": [
      "\n",
      "0: 640x640 3 fire signages, 1 helmet, 23.1ms\n",
      "Speed: 6.0ms preprocess, 23.1ms inference, 1.0ms postprocess per image at shape (1, 3, 640, 640)\n",
      "\n",
      "0: 640x640 3 fire extinguishers, 2 fire signages, 22.7ms\n",
      "Speed: 5.0ms preprocess, 22.7ms inference, 1.0ms postprocess per image at shape (1, 3, 640, 640)\n"
     ]
    },
    {
     "name": "stderr",
     "output_type": "stream",
     "text": [
      " 24%|██████████████████▊                                                            | 314/1315 [00:27<01:19, 12.57it/s]"
     ]
    },
    {
     "name": "stdout",
     "output_type": "stream",
     "text": [
      "\n",
      "0: 640x640 3 fire extinguishers, 2 fire signages, 22.5ms\n",
      "Speed: 3.9ms preprocess, 22.5ms inference, 1.0ms postprocess per image at shape (1, 3, 640, 640)\n",
      "\n",
      "0: 640x640 3 fire extinguishers, 2 fire signages, 23.2ms\n",
      "Speed: 6.1ms preprocess, 23.2ms inference, 1.0ms postprocess per image at shape (1, 3, 640, 640)\n"
     ]
    },
    {
     "name": "stderr",
     "output_type": "stream",
     "text": [
      " 24%|██████████████████▉                                                            | 316/1315 [00:27<01:19, 12.64it/s]"
     ]
    },
    {
     "name": "stdout",
     "output_type": "stream",
     "text": [
      "\n",
      "0: 640x640 3 fire extinguishers, 2 fire signages, 24.3ms\n",
      "Speed: 5.0ms preprocess, 24.3ms inference, 1.0ms postprocess per image at shape (1, 3, 640, 640)\n",
      "\n",
      "0: 640x640 3 fire extinguishers, 2 fire signages, 23.1ms\n",
      "Speed: 5.0ms preprocess, 23.1ms inference, 1.0ms postprocess per image at shape (1, 3, 640, 640)\n"
     ]
    },
    {
     "name": "stderr",
     "output_type": "stream",
     "text": [
      " 24%|███████████████████                                                            | 318/1315 [00:27<01:19, 12.60it/s]"
     ]
    },
    {
     "name": "stdout",
     "output_type": "stream",
     "text": [
      "\n",
      "0: 640x640 3 fire extinguishers, 1 fire signage, 23.8ms\n",
      "Speed: 6.1ms preprocess, 23.8ms inference, 1.0ms postprocess per image at shape (1, 3, 640, 640)\n",
      "\n",
      "0: 640x640 3 fire extinguishers, 1 fire signage, 22.6ms\n",
      "Speed: 5.7ms preprocess, 22.6ms inference, 1.0ms postprocess per image at shape (1, 3, 640, 640)\n"
     ]
    },
    {
     "name": "stderr",
     "output_type": "stream",
     "text": [
      " 24%|███████████████████▏                                                           | 320/1315 [00:27<01:19, 12.54it/s]"
     ]
    },
    {
     "name": "stdout",
     "output_type": "stream",
     "text": [
      "\n",
      "0: 640x640 3 fire extinguishers, 2 fire signages, 34.1ms\n",
      "Speed: 5.9ms preprocess, 34.1ms inference, 2.0ms postprocess per image at shape (1, 3, 640, 640)\n",
      "\n",
      "0: 640x640 3 fire extinguishers, 2 fire signages, 23.5ms\n",
      "Speed: 5.0ms preprocess, 23.5ms inference, 2.1ms postprocess per image at shape (1, 3, 640, 640)\n"
     ]
    },
    {
     "name": "stderr",
     "output_type": "stream",
     "text": [
      " 24%|███████████████████▎                                                           | 322/1315 [00:27<01:22, 12.04it/s]"
     ]
    },
    {
     "name": "stdout",
     "output_type": "stream",
     "text": [
      "\n",
      "0: 640x640 1 extinguisher-helmet, 3 fire extinguishers, 1 fire signage, 24.6ms\n",
      "Speed: 5.0ms preprocess, 24.6ms inference, 0.0ms postprocess per image at shape (1, 3, 640, 640)\n",
      "\n",
      "0: 640x640 3 fire extinguishers, 1 fire signage, 23.1ms\n",
      "Speed: 5.3ms preprocess, 23.1ms inference, 2.0ms postprocess per image at shape (1, 3, 640, 640)\n"
     ]
    },
    {
     "name": "stderr",
     "output_type": "stream",
     "text": [
      " 25%|███████████████████▍                                                           | 324/1315 [00:27<01:22, 12.02it/s]"
     ]
    },
    {
     "name": "stdout",
     "output_type": "stream",
     "text": [
      "\n",
      "0: 640x640 3 fire extinguishers, 1 fire signage, 36.1ms\n",
      "Speed: 0.0ms preprocess, 36.1ms inference, 1.0ms postprocess per image at shape (1, 3, 640, 640)\n",
      "\n",
      "0: 640x640 3 fire extinguishers, 1 fire signage, 22.7ms\n",
      "Speed: 5.0ms preprocess, 22.7ms inference, 1.6ms postprocess per image at shape (1, 3, 640, 640)\n"
     ]
    },
    {
     "name": "stderr",
     "output_type": "stream",
     "text": [
      " 25%|███████████████████▌                                                           | 326/1315 [00:28<01:22, 12.06it/s]"
     ]
    },
    {
     "name": "stdout",
     "output_type": "stream",
     "text": [
      "\n",
      "0: 640x640 3 fire extinguishers, 2 fire signages, 23.3ms\n",
      "Speed: 5.0ms preprocess, 23.3ms inference, 1.0ms postprocess per image at shape (1, 3, 640, 640)\n",
      "\n",
      "0: 640x640 3 fire extinguishers, 3 fire signages, 22.7ms\n",
      "Speed: 5.6ms preprocess, 22.7ms inference, 1.0ms postprocess per image at shape (1, 3, 640, 640)\n"
     ]
    },
    {
     "name": "stderr",
     "output_type": "stream",
     "text": [
      " 25%|███████████████████▋                                                           | 328/1315 [00:28<01:21, 12.18it/s]"
     ]
    },
    {
     "name": "stdout",
     "output_type": "stream",
     "text": [
      "\n",
      "0: 640x640 3 fire extinguishers, 3 fire signages, 23.8ms\n",
      "Speed: 5.0ms preprocess, 23.8ms inference, 1.0ms postprocess per image at shape (1, 3, 640, 640)\n",
      "\n",
      "0: 640x640 4 fire extinguishers, 3 fire signages, 22.4ms\n",
      "Speed: 4.0ms preprocess, 22.4ms inference, 2.0ms postprocess per image at shape (1, 3, 640, 640)\n"
     ]
    },
    {
     "name": "stderr",
     "output_type": "stream",
     "text": [
      " 25%|███████████████████▊                                                           | 330/1315 [00:28<01:22, 11.89it/s]"
     ]
    },
    {
     "name": "stdout",
     "output_type": "stream",
     "text": [
      "\n",
      "0: 640x640 3 fire extinguishers, 3 fire signages, 24.0ms\n",
      "Speed: 5.0ms preprocess, 24.0ms inference, 1.0ms postprocess per image at shape (1, 3, 640, 640)\n",
      "\n",
      "0: 640x640 3 fire extinguishers, 3 fire signages, 23.6ms\n",
      "Speed: 7.0ms preprocess, 23.6ms inference, 1.0ms postprocess per image at shape (1, 3, 640, 640)\n"
     ]
    },
    {
     "name": "stderr",
     "output_type": "stream",
     "text": [
      " 25%|███████████████████▉                                                           | 332/1315 [00:28<01:24, 11.67it/s]"
     ]
    },
    {
     "name": "stdout",
     "output_type": "stream",
     "text": [
      "\n",
      "0: 640x640 2 fire extinguishers, 3 fire signages, 24.1ms\n",
      "Speed: 5.4ms preprocess, 24.1ms inference, 1.8ms postprocess per image at shape (1, 3, 640, 640)\n",
      "\n",
      "0: 640x640 2 fire extinguishers, 3 fire signages, 1 helmet, 24.6ms\n",
      "Speed: 7.0ms preprocess, 24.6ms inference, 2.0ms postprocess per image at shape (1, 3, 640, 640)\n"
     ]
    },
    {
     "name": "stderr",
     "output_type": "stream",
     "text": [
      " 25%|████████████████████                                                           | 334/1315 [00:28<01:27, 11.16it/s]"
     ]
    },
    {
     "name": "stdout",
     "output_type": "stream",
     "text": [
      "\n",
      "0: 640x640 2 fire extinguishers, 3 fire signages, 1 helmet, 19.4ms\n",
      "Speed: 6.0ms preprocess, 19.4ms inference, 2.0ms postprocess per image at shape (1, 3, 640, 640)\n",
      "\n",
      "0: 640x640 3 fire extinguishers, 2 fire signages, 20.0ms\n",
      "Speed: 5.1ms preprocess, 20.0ms inference, 1.1ms postprocess per image at shape (1, 3, 640, 640)\n"
     ]
    },
    {
     "name": "stderr",
     "output_type": "stream",
     "text": [
      " 26%|████████████████████▏                                                          | 336/1315 [00:28<01:26, 11.36it/s]"
     ]
    },
    {
     "name": "stdout",
     "output_type": "stream",
     "text": [
      "\n",
      "0: 640x640 1 extinguisher-helmet, 3 fire extinguishers, 2 fire signages, 19.9ms\n",
      "Speed: 7.4ms preprocess, 19.9ms inference, 0.0ms postprocess per image at shape (1, 3, 640, 640)\n",
      "\n",
      "0: 640x640 1 extinguisher-helmet, 3 fire extinguishers, 3 fire signages, 20.7ms\n",
      "Speed: 4.5ms preprocess, 20.7ms inference, 1.0ms postprocess per image at shape (1, 3, 640, 640)\n"
     ]
    },
    {
     "name": "stderr",
     "output_type": "stream",
     "text": [
      " 26%|████████████████████▎                                                          | 338/1315 [00:29<01:25, 11.46it/s]"
     ]
    },
    {
     "name": "stdout",
     "output_type": "stream",
     "text": [
      "\n",
      "0: 640x640 2 fire extinguishers, 3 fire signages, 17.2ms\n",
      "Speed: 0.8ms preprocess, 17.2ms inference, 10.0ms postprocess per image at shape (1, 3, 640, 640)\n",
      "\n",
      "0: 640x640 2 fire extinguishers, 1 fire signage, 22.1ms\n",
      "Speed: 0.0ms preprocess, 22.1ms inference, 1.0ms postprocess per image at shape (1, 3, 640, 640)\n"
     ]
    },
    {
     "name": "stderr",
     "output_type": "stream",
     "text": [
      " 26%|████████████████████▍                                                          | 340/1315 [00:29<01:22, 11.80it/s]"
     ]
    },
    {
     "name": "stdout",
     "output_type": "stream",
     "text": [
      "\n",
      "0: 640x640 1 extinguisher-helmet, 2 fire extinguishers, 2 fire signages, 18.4ms\n",
      "Speed: 0.0ms preprocess, 18.4ms inference, 0.0ms postprocess per image at shape (1, 3, 640, 640)\n",
      "\n",
      "0: 640x640 1 extinguisher-helmet, 3 fire extinguishers, 2 fire signages, 24.8ms\n",
      "Speed: 0.0ms preprocess, 24.8ms inference, 1.0ms postprocess per image at shape (1, 3, 640, 640)\n"
     ]
    },
    {
     "name": "stderr",
     "output_type": "stream",
     "text": [
      " 26%|████████████████████▌                                                          | 342/1315 [00:29<01:19, 12.24it/s]"
     ]
    },
    {
     "name": "stdout",
     "output_type": "stream",
     "text": [
      "\n",
      "0: 640x640 3 fire extinguishers, 2 fire signages, 16.5ms\n",
      "Speed: 0.0ms preprocess, 16.5ms inference, 0.0ms postprocess per image at shape (1, 3, 640, 640)\n",
      "\n",
      "0: 640x640 3 fire extinguishers, 3 fire signages, 20.5ms\n",
      "Speed: 5.1ms preprocess, 20.5ms inference, 1.0ms postprocess per image at shape (1, 3, 640, 640)\n"
     ]
    },
    {
     "name": "stderr",
     "output_type": "stream",
     "text": [
      " 26%|████████████████████▋                                                          | 344/1315 [00:29<01:18, 12.34it/s]"
     ]
    },
    {
     "name": "stdout",
     "output_type": "stream",
     "text": [
      "\n",
      "0: 640x640 3 fire extinguishers, 1 fire signage, 21.2ms\n",
      "Speed: 0.7ms preprocess, 21.2ms inference, 0.0ms postprocess per image at shape (1, 3, 640, 640)\n",
      "\n",
      "0: 640x640 3 fire extinguishers, 3 fire signages, 16.5ms\n",
      "Speed: 4.6ms preprocess, 16.5ms inference, 0.0ms postprocess per image at shape (1, 3, 640, 640)\n"
     ]
    },
    {
     "name": "stderr",
     "output_type": "stream",
     "text": [
      " 26%|████████████████████▊                                                          | 346/1315 [00:29<01:16, 12.74it/s]"
     ]
    },
    {
     "name": "stdout",
     "output_type": "stream",
     "text": [
      "\n",
      "0: 640x640 3 fire extinguishers, 2 fire signages, 11.0ms\n",
      "Speed: 0.8ms preprocess, 11.0ms inference, 0.0ms postprocess per image at shape (1, 3, 640, 640)\n",
      "\n",
      "0: 640x640 2 fire extinguishers, 1 fire signage, 18.6ms\n",
      "Speed: 4.7ms preprocess, 18.6ms inference, 1.0ms postprocess per image at shape (1, 3, 640, 640)\n"
     ]
    },
    {
     "name": "stderr",
     "output_type": "stream",
     "text": [
      " 26%|████████████████████▉                                                          | 348/1315 [00:29<01:13, 13.07it/s]"
     ]
    },
    {
     "name": "stdout",
     "output_type": "stream",
     "text": [
      "\n",
      "0: 640x640 3 fire extinguishers, 2 fire signages, 15.6ms\n",
      "Speed: 1.5ms preprocess, 15.6ms inference, 0.0ms postprocess per image at shape (1, 3, 640, 640)\n",
      "\n",
      "0: 640x640 3 fire extinguishers, 2 fire signages, 22.2ms\n",
      "Speed: 0.6ms preprocess, 22.2ms inference, 1.0ms postprocess per image at shape (1, 3, 640, 640)\n"
     ]
    },
    {
     "name": "stderr",
     "output_type": "stream",
     "text": [
      " 27%|█████████████████████                                                          | 350/1315 [00:29<01:11, 13.43it/s]"
     ]
    },
    {
     "name": "stdout",
     "output_type": "stream",
     "text": [
      "\n",
      "0: 640x640 3 fire extinguishers, 2 fire signages, 6.5ms\n",
      "Speed: 8.8ms preprocess, 6.5ms inference, 0.0ms postprocess per image at shape (1, 3, 640, 640)\n",
      "\n",
      "0: 640x640 3 fire extinguishers, 2 fire signages, 19.4ms\n",
      "Speed: 4.5ms preprocess, 19.4ms inference, 0.0ms postprocess per image at shape (1, 3, 640, 640)\n"
     ]
    },
    {
     "name": "stderr",
     "output_type": "stream",
     "text": [
      " 27%|█████████████████████▏                                                         | 352/1315 [00:30<01:11, 13.56it/s]"
     ]
    },
    {
     "name": "stdout",
     "output_type": "stream",
     "text": [
      "\n",
      "0: 640x640 4 fire extinguishers, 1 fire signage, 15.4ms\n",
      "Speed: 1.5ms preprocess, 15.4ms inference, 0.0ms postprocess per image at shape (1, 3, 640, 640)\n",
      "\n",
      "0: 640x640 3 fire extinguishers, 34.5ms\n",
      "Speed: 0.0ms preprocess, 34.5ms inference, 1.0ms postprocess per image at shape (1, 3, 640, 640)\n"
     ]
    },
    {
     "name": "stderr",
     "output_type": "stream",
     "text": [
      " 27%|█████████████████████▎                                                         | 354/1315 [00:30<01:11, 13.47it/s]"
     ]
    },
    {
     "name": "stdout",
     "output_type": "stream",
     "text": [
      "\n",
      "0: 640x640 3 fire extinguishers, 17.1ms\n",
      "Speed: 4.2ms preprocess, 17.1ms inference, 0.0ms postprocess per image at shape (1, 3, 640, 640)\n",
      "\n",
      "0: 640x640 3 fire extinguishers, 1 fire signage, 23.4ms\n",
      "Speed: 4.0ms preprocess, 23.4ms inference, 1.4ms postprocess per image at shape (1, 3, 640, 640)\n"
     ]
    },
    {
     "name": "stderr",
     "output_type": "stream",
     "text": [
      " 27%|█████████████████████▍                                                         | 356/1315 [00:30<01:10, 13.66it/s]"
     ]
    },
    {
     "name": "stdout",
     "output_type": "stream",
     "text": [
      "\n",
      "0: 640x640 3 fire extinguishers, 1 fire signage, 23.7ms\n",
      "Speed: 0.6ms preprocess, 23.7ms inference, 0.0ms postprocess per image at shape (1, 3, 640, 640)\n",
      "\n",
      "0: 640x640 2 fire extinguishers, 2 fire signages, 21.3ms\n",
      "Speed: 4.4ms preprocess, 21.3ms inference, 0.0ms postprocess per image at shape (1, 3, 640, 640)\n"
     ]
    },
    {
     "name": "stderr",
     "output_type": "stream",
     "text": [
      " 27%|█████████████████████▌                                                         | 358/1315 [00:30<01:09, 13.79it/s]"
     ]
    },
    {
     "name": "stdout",
     "output_type": "stream",
     "text": [
      "\n",
      "0: 640x640 3 fire extinguishers, 1 fire signage, 15.7ms\n",
      "Speed: 1.4ms preprocess, 15.7ms inference, 0.0ms postprocess per image at shape (1, 3, 640, 640)\n",
      "\n",
      "0: 640x640 3 fire extinguishers, 1 fire signage, 26.3ms\n",
      "Speed: 0.0ms preprocess, 26.3ms inference, 1.0ms postprocess per image at shape (1, 3, 640, 640)\n"
     ]
    },
    {
     "name": "stderr",
     "output_type": "stream",
     "text": [
      " 27%|█████████████████████▋                                                         | 360/1315 [00:30<01:09, 13.82it/s]"
     ]
    },
    {
     "name": "stdout",
     "output_type": "stream",
     "text": [
      "\n",
      "0: 640x640 2 fire extinguishers, 2 fire signages, 18.7ms\n",
      "Speed: 4.0ms preprocess, 18.7ms inference, 0.0ms postprocess per image at shape (1, 3, 640, 640)\n",
      "\n",
      "0: 640x640 2 fire extinguishers, 2 fire signages, 27.2ms\n",
      "Speed: 1.4ms preprocess, 27.2ms inference, 1.0ms postprocess per image at shape (1, 3, 640, 640)\n"
     ]
    },
    {
     "name": "stderr",
     "output_type": "stream",
     "text": [
      " 28%|█████████████████████▋                                                         | 362/1315 [00:30<01:08, 13.82it/s]"
     ]
    },
    {
     "name": "stdout",
     "output_type": "stream",
     "text": [
      "\n",
      "0: 640x640 1 fire extinguisher, 2 fire signages, 8.1ms\n",
      "Speed: 4.0ms preprocess, 8.1ms inference, 0.0ms postprocess per image at shape (1, 3, 640, 640)\n",
      "\n",
      "0: 640x640 1 fire extinguisher, 2 fire signages, 21.7ms\n",
      "Speed: 4.3ms preprocess, 21.7ms inference, 0.0ms postprocess per image at shape (1, 3, 640, 640)\n"
     ]
    },
    {
     "name": "stderr",
     "output_type": "stream",
     "text": [
      " 28%|█████████████████████▊                                                         | 364/1315 [00:30<01:08, 13.88it/s]"
     ]
    },
    {
     "name": "stdout",
     "output_type": "stream",
     "text": [
      "\n",
      "0: 640x640 1 fire extinguisher, 2 fire signages, 16.6ms\n",
      "Speed: 3.2ms preprocess, 16.6ms inference, 0.0ms postprocess per image at shape (1, 3, 640, 640)\n",
      "\n",
      "0: 640x640 1 fire extinguisher, 3 fire signages, 26.3ms\n",
      "Speed: 1.5ms preprocess, 26.3ms inference, 1.0ms postprocess per image at shape (1, 3, 640, 640)\n"
     ]
    },
    {
     "name": "stderr",
     "output_type": "stream",
     "text": [
      " 28%|█████████████████████▉                                                         | 366/1315 [00:31<01:07, 13.99it/s]"
     ]
    },
    {
     "name": "stdout",
     "output_type": "stream",
     "text": [
      "\n",
      "0: 640x640 1 fire extinguisher, 4 fire signages, 26.1ms\n",
      "Speed: 0.0ms preprocess, 26.1ms inference, 0.0ms postprocess per image at shape (1, 3, 640, 640)\n",
      "\n",
      "0: 640x640 1 fire extinguisher, 2 fire signages, 22.6ms\n",
      "Speed: 4.2ms preprocess, 22.6ms inference, 0.0ms postprocess per image at shape (1, 3, 640, 640)\n"
     ]
    },
    {
     "name": "stderr",
     "output_type": "stream",
     "text": [
      " 28%|██████████████████████                                                         | 368/1315 [00:31<01:08, 13.76it/s]"
     ]
    },
    {
     "name": "stdout",
     "output_type": "stream",
     "text": [
      "\n",
      "0: 640x640 1 fire extinguisher, 2 fire signages, 35.3ms\n",
      "Speed: 0.0ms preprocess, 35.3ms inference, 1.5ms postprocess per image at shape (1, 3, 640, 640)\n",
      "\n",
      "0: 640x640 1 fire extinguisher, 3 fire signages, 25.2ms\n",
      "Speed: 2.5ms preprocess, 25.2ms inference, 1.0ms postprocess per image at shape (1, 3, 640, 640)\n"
     ]
    },
    {
     "name": "stderr",
     "output_type": "stream",
     "text": [
      " 28%|██████████████████████▏                                                        | 370/1315 [00:31<01:09, 13.66it/s]"
     ]
    },
    {
     "name": "stdout",
     "output_type": "stream",
     "text": [
      "\n",
      "0: 640x640 3 fire extinguishers, 3 fire signages, 26.8ms\n",
      "Speed: 0.0ms preprocess, 26.8ms inference, 0.0ms postprocess per image at shape (1, 3, 640, 640)\n",
      "\n",
      "0: 640x640 2 fire extinguishers, 4 fire signages, 21.4ms\n",
      "Speed: 4.8ms preprocess, 21.4ms inference, 1.0ms postprocess per image at shape (1, 3, 640, 640)\n"
     ]
    },
    {
     "name": "stderr",
     "output_type": "stream",
     "text": [
      " 28%|██████████████████████▎                                                        | 372/1315 [00:31<01:09, 13.61it/s]"
     ]
    },
    {
     "name": "stdout",
     "output_type": "stream",
     "text": [
      "\n",
      "0: 640x640 3 fire extinguishers, 4 fire signages, 31.2ms\n",
      "Speed: 0.0ms preprocess, 31.2ms inference, 0.0ms postprocess per image at shape (1, 3, 640, 640)\n",
      "\n",
      "0: 640x640 2 fire signages, 16.5ms\n",
      "Speed: 4.4ms preprocess, 16.5ms inference, 0.0ms postprocess per image at shape (1, 3, 640, 640)\n"
     ]
    },
    {
     "name": "stderr",
     "output_type": "stream",
     "text": [
      " 28%|██████████████████████▍                                                        | 374/1315 [00:31<01:10, 13.39it/s]"
     ]
    },
    {
     "name": "stdout",
     "output_type": "stream",
     "text": [
      "\n",
      "0: 640x640 2 fire signages, 19.9ms\n",
      "Speed: 12.0ms preprocess, 19.9ms inference, 0.0ms postprocess per image at shape (1, 3, 640, 640)\n",
      "\n",
      "0: 640x640 2 fire signages, 18.0ms\n",
      "Speed: 3.2ms preprocess, 18.0ms inference, 0.0ms postprocess per image at shape (1, 3, 640, 640)\n"
     ]
    },
    {
     "name": "stderr",
     "output_type": "stream",
     "text": [
      " 29%|██████████████████████▌                                                        | 376/1315 [00:31<01:08, 13.73it/s]"
     ]
    },
    {
     "name": "stdout",
     "output_type": "stream",
     "text": [
      "\n",
      "0: 640x640 2 fire signages, 16.3ms\n",
      "Speed: 5.0ms preprocess, 16.3ms inference, 0.0ms postprocess per image at shape (1, 3, 640, 640)\n",
      "\n",
      "0: 640x640 2 fire signages, 27.1ms\n",
      "Speed: 2.4ms preprocess, 27.1ms inference, 1.0ms postprocess per image at shape (1, 3, 640, 640)\n"
     ]
    },
    {
     "name": "stderr",
     "output_type": "stream",
     "text": [
      " 29%|██████████████████████▋                                                        | 378/1315 [00:31<01:06, 14.00it/s]"
     ]
    },
    {
     "name": "stdout",
     "output_type": "stream",
     "text": [
      "\n",
      "0: 640x640 2 fire signages, 23.2ms\n",
      "Speed: 5.0ms preprocess, 23.2ms inference, 1.0ms postprocess per image at shape (1, 3, 640, 640)\n",
      "\n",
      "0: 640x640 2 fire signages, 25.5ms\n",
      "Speed: 0.9ms preprocess, 25.5ms inference, 1.0ms postprocess per image at shape (1, 3, 640, 640)\n"
     ]
    },
    {
     "name": "stderr",
     "output_type": "stream",
     "text": [
      " 29%|██████████████████████▊                                                        | 380/1315 [00:32<01:07, 13.91it/s]"
     ]
    },
    {
     "name": "stdout",
     "output_type": "stream",
     "text": [
      "\n",
      "0: 640x640 2 fire signages, 17.9ms\n",
      "Speed: 4.0ms preprocess, 17.9ms inference, 0.0ms postprocess per image at shape (1, 3, 640, 640)\n",
      "\n",
      "0: 640x640 2 fire signages, 20.5ms\n",
      "Speed: 4.4ms preprocess, 20.5ms inference, 0.0ms postprocess per image at shape (1, 3, 640, 640)\n"
     ]
    },
    {
     "name": "stderr",
     "output_type": "stream",
     "text": [
      " 29%|██████████████████████▉                                                        | 382/1315 [00:32<01:05, 14.30it/s]"
     ]
    },
    {
     "name": "stdout",
     "output_type": "stream",
     "text": [
      "\n",
      "0: 640x640 2 fire signages, 20.1ms\n",
      "Speed: 5.0ms preprocess, 20.1ms inference, 0.0ms postprocess per image at shape (1, 3, 640, 640)\n",
      "\n",
      "0: 640x640 2 fire signages, 21.8ms\n",
      "Speed: 4.3ms preprocess, 21.8ms inference, 1.0ms postprocess per image at shape (1, 3, 640, 640)\n"
     ]
    },
    {
     "name": "stderr",
     "output_type": "stream",
     "text": [
      " 29%|███████████████████████                                                        | 384/1315 [00:32<01:04, 14.42it/s]"
     ]
    },
    {
     "name": "stdout",
     "output_type": "stream",
     "text": [
      "\n",
      "0: 640x640 2 fire signages, 18.1ms\n",
      "Speed: 4.0ms preprocess, 18.1ms inference, 0.0ms postprocess per image at shape (1, 3, 640, 640)\n",
      "\n",
      "0: 640x640 2 fire signages, 16.5ms\n",
      "Speed: 5.6ms preprocess, 16.5ms inference, 0.0ms postprocess per image at shape (1, 3, 640, 640)\n"
     ]
    },
    {
     "name": "stderr",
     "output_type": "stream",
     "text": [
      " 29%|███████████████████████▏                                                       | 386/1315 [00:32<01:04, 14.50it/s]"
     ]
    },
    {
     "name": "stdout",
     "output_type": "stream",
     "text": [
      "\n",
      "0: 640x640 2 fire signages, 15.5ms\n",
      "Speed: 3.5ms preprocess, 15.5ms inference, 0.0ms postprocess per image at shape (1, 3, 640, 640)\n",
      "\n",
      "0: 640x640 2 fire signages, 24.0ms\n",
      "Speed: 3.7ms preprocess, 24.0ms inference, 1.0ms postprocess per image at shape (1, 3, 640, 640)\n"
     ]
    },
    {
     "name": "stderr",
     "output_type": "stream",
     "text": [
      " 30%|███████████████████████▎                                                       | 388/1315 [00:32<01:03, 14.51it/s]"
     ]
    },
    {
     "name": "stdout",
     "output_type": "stream",
     "text": [
      "\n",
      "0: 640x640 1 fire signage, 15.2ms\n",
      "Speed: 2.1ms preprocess, 15.2ms inference, 0.0ms postprocess per image at shape (1, 3, 640, 640)\n",
      "\n",
      "0: 640x640 2 fire signages, 22.2ms\n",
      "Speed: 3.8ms preprocess, 22.2ms inference, 1.0ms postprocess per image at shape (1, 3, 640, 640)\n"
     ]
    },
    {
     "name": "stderr",
     "output_type": "stream",
     "text": [
      " 30%|███████████████████████▍                                                       | 390/1315 [00:32<01:03, 14.46it/s]"
     ]
    },
    {
     "name": "stdout",
     "output_type": "stream",
     "text": [
      "\n",
      "0: 640x640 2 fire signages, 21.9ms\n",
      "Speed: 4.0ms preprocess, 21.9ms inference, 0.0ms postprocess per image at shape (1, 3, 640, 640)\n",
      "\n",
      "0: 640x640 1 fire signage, 23.1ms\n",
      "Speed: 4.1ms preprocess, 23.1ms inference, 0.0ms postprocess per image at shape (1, 3, 640, 640)\n"
     ]
    },
    {
     "name": "stderr",
     "output_type": "stream",
     "text": [
      " 30%|███████████████████████▌                                                       | 392/1315 [00:32<01:03, 14.51it/s]"
     ]
    },
    {
     "name": "stdout",
     "output_type": "stream",
     "text": [
      "\n",
      "0: 640x640 1 fire signage, 17.4ms\n",
      "Speed: 4.5ms preprocess, 17.4ms inference, 0.0ms postprocess per image at shape (1, 3, 640, 640)\n",
      "\n",
      "0: 640x640 2 fire signages, 22.2ms\n",
      "Speed: 4.1ms preprocess, 22.2ms inference, 1.0ms postprocess per image at shape (1, 3, 640, 640)\n"
     ]
    },
    {
     "name": "stderr",
     "output_type": "stream",
     "text": [
      " 30%|███████████████████████▋                                                       | 394/1315 [00:33<01:02, 14.62it/s]"
     ]
    },
    {
     "name": "stdout",
     "output_type": "stream",
     "text": [
      "\n",
      "0: 640x640 1 fire signage, 14.9ms\n",
      "Speed: 4.6ms preprocess, 14.9ms inference, 0.0ms postprocess per image at shape (1, 3, 640, 640)\n",
      "\n",
      "0: 640x640 1 fire signage, 21.7ms\n",
      "Speed: 4.7ms preprocess, 21.7ms inference, 1.0ms postprocess per image at shape (1, 3, 640, 640)\n"
     ]
    },
    {
     "name": "stderr",
     "output_type": "stream",
     "text": [
      " 30%|███████████████████████▊                                                       | 396/1315 [00:33<01:02, 14.77it/s]"
     ]
    },
    {
     "name": "stdout",
     "output_type": "stream",
     "text": [
      "\n",
      "0: 640x640 1 fire signage, 17.1ms\n",
      "Speed: 4.0ms preprocess, 17.1ms inference, 0.0ms postprocess per image at shape (1, 3, 640, 640)\n",
      "\n",
      "0: 640x640 1 fire signage, 21.0ms\n",
      "Speed: 4.2ms preprocess, 21.0ms inference, 0.0ms postprocess per image at shape (1, 3, 640, 640)\n"
     ]
    },
    {
     "name": "stderr",
     "output_type": "stream",
     "text": [
      " 30%|███████████████████████▉                                                       | 398/1315 [00:33<01:01, 14.91it/s]"
     ]
    },
    {
     "name": "stdout",
     "output_type": "stream",
     "text": [
      "\n",
      "0: 640x640 1 fire signage, 20.0ms\n",
      "Speed: 4.0ms preprocess, 20.0ms inference, 0.0ms postprocess per image at shape (1, 3, 640, 640)\n",
      "\n",
      "0: 640x640 1 fire signage, 20.2ms\n",
      "Speed: 4.9ms preprocess, 20.2ms inference, 0.0ms postprocess per image at shape (1, 3, 640, 640)\n"
     ]
    },
    {
     "name": "stderr",
     "output_type": "stream",
     "text": [
      " 30%|████████████████████████                                                       | 400/1315 [00:33<01:01, 14.83it/s]"
     ]
    },
    {
     "name": "stdout",
     "output_type": "stream",
     "text": [
      "\n",
      "0: 640x640 1 fire signage, 16.4ms\n",
      "Speed: 4.5ms preprocess, 16.4ms inference, 0.0ms postprocess per image at shape (1, 3, 640, 640)\n",
      "\n",
      "0: 640x640 1 fire signage, 22.9ms\n",
      "Speed: 4.0ms preprocess, 22.9ms inference, 0.0ms postprocess per image at shape (1, 3, 640, 640)\n"
     ]
    },
    {
     "name": "stderr",
     "output_type": "stream",
     "text": [
      " 31%|████████████████████████▏                                                      | 402/1315 [00:33<01:03, 14.41it/s]"
     ]
    },
    {
     "name": "stdout",
     "output_type": "stream",
     "text": [
      "\n",
      "0: 640x640 1 fire signage, 15.7ms\n",
      "Speed: 4.0ms preprocess, 15.7ms inference, 0.0ms postprocess per image at shape (1, 3, 640, 640)\n",
      "\n",
      "0: 640x640 1 fire extinguisher, 2 fire signages, 21.2ms\n",
      "Speed: 3.6ms preprocess, 21.2ms inference, 1.0ms postprocess per image at shape (1, 3, 640, 640)\n"
     ]
    },
    {
     "name": "stderr",
     "output_type": "stream",
     "text": [
      " 31%|████████████████████████▎                                                      | 404/1315 [00:33<01:03, 14.33it/s]"
     ]
    },
    {
     "name": "stdout",
     "output_type": "stream",
     "text": [
      "\n",
      "0: 640x640 1 fire extinguisher, 1 fire signage, 17.0ms\n",
      "Speed: 0.0ms preprocess, 17.0ms inference, 0.0ms postprocess per image at shape (1, 3, 640, 640)\n",
      "\n",
      "0: 640x640 1 fire extinguisher, 1 fire signage, 22.5ms\n",
      "Speed: 3.5ms preprocess, 22.5ms inference, 0.0ms postprocess per image at shape (1, 3, 640, 640)\n"
     ]
    },
    {
     "name": "stderr",
     "output_type": "stream",
     "text": [
      " 31%|████████████████████████▍                                                      | 406/1315 [00:33<01:03, 14.22it/s]"
     ]
    },
    {
     "name": "stdout",
     "output_type": "stream",
     "text": [
      "\n",
      "0: 640x640 1 fire extinguisher, 1 fire signage, 18.0ms\n",
      "Speed: 4.0ms preprocess, 18.0ms inference, 0.0ms postprocess per image at shape (1, 3, 640, 640)\n",
      "\n",
      "0: 640x640 1 fire extinguisher, 1 fire signage, 24.0ms\n",
      "Speed: 2.0ms preprocess, 24.0ms inference, 1.0ms postprocess per image at shape (1, 3, 640, 640)\n"
     ]
    },
    {
     "name": "stderr",
     "output_type": "stream",
     "text": [
      " 31%|████████████████████████▌                                                      | 408/1315 [00:34<01:03, 14.23it/s]"
     ]
    },
    {
     "name": "stdout",
     "output_type": "stream",
     "text": [
      "\n",
      "0: 640x640 1 fire extinguisher, 1 fire signage, 16.2ms\n",
      "Speed: 0.0ms preprocess, 16.2ms inference, 0.0ms postprocess per image at shape (1, 3, 640, 640)\n",
      "\n",
      "0: 640x640 1 fire extinguisher, 1 fire signage, 21.9ms\n",
      "Speed: 3.9ms preprocess, 21.9ms inference, 1.0ms postprocess per image at shape (1, 3, 640, 640)\n"
     ]
    },
    {
     "name": "stderr",
     "output_type": "stream",
     "text": [
      " 31%|████████████████████████▋                                                      | 410/1315 [00:34<01:03, 14.19it/s]"
     ]
    },
    {
     "name": "stdout",
     "output_type": "stream",
     "text": [
      "\n",
      "0: 640x640 1 fire extinguisher, 1 fire signage, 25.0ms\n",
      "Speed: 4.0ms preprocess, 25.0ms inference, 0.0ms postprocess per image at shape (1, 3, 640, 640)\n",
      "\n",
      "0: 640x640 1 fire extinguisher, 2 fire signages, 24.0ms\n",
      "Speed: 2.9ms preprocess, 24.0ms inference, 1.0ms postprocess per image at shape (1, 3, 640, 640)\n"
     ]
    },
    {
     "name": "stderr",
     "output_type": "stream",
     "text": [
      " 31%|████████████████████████▊                                                      | 412/1315 [00:34<01:04, 13.99it/s]"
     ]
    },
    {
     "name": "stdout",
     "output_type": "stream",
     "text": [
      "\n",
      "0: 640x640 1 fire extinguisher, 2 fire signages, 24.0ms\n",
      "Speed: 0.8ms preprocess, 24.0ms inference, 0.0ms postprocess per image at shape (1, 3, 640, 640)\n",
      "\n",
      "0: 640x640 1 fire extinguisher, 1 fire signage, 19.4ms\n",
      "Speed: 4.4ms preprocess, 19.4ms inference, 0.0ms postprocess per image at shape (1, 3, 640, 640)\n"
     ]
    },
    {
     "name": "stderr",
     "output_type": "stream",
     "text": [
      " 31%|████████████████████████▊                                                      | 414/1315 [00:34<01:04, 14.00it/s]"
     ]
    },
    {
     "name": "stdout",
     "output_type": "stream",
     "text": [
      "\n",
      "0: 640x640 1 fire extinguisher, 1 fire signage, 15.8ms\n",
      "Speed: 1.4ms preprocess, 15.8ms inference, 0.0ms postprocess per image at shape (1, 3, 640, 640)\n",
      "\n",
      "0: 640x640 1 fire extinguisher, 1 fire signage, 23.5ms\n",
      "Speed: 2.9ms preprocess, 23.5ms inference, 1.0ms postprocess per image at shape (1, 3, 640, 640)\n"
     ]
    },
    {
     "name": "stderr",
     "output_type": "stream",
     "text": [
      " 32%|████████████████████████▉                                                      | 416/1315 [00:34<01:03, 14.06it/s]"
     ]
    },
    {
     "name": "stdout",
     "output_type": "stream",
     "text": [
      "\n",
      "0: 640x640 1 fire extinguisher, 3 fire signages, 20.0ms\n",
      "Speed: 4.0ms preprocess, 20.0ms inference, 0.0ms postprocess per image at shape (1, 3, 640, 640)\n",
      "\n",
      "0: 640x640 1 fire extinguisher, 3 fire signages, 24.5ms\n",
      "Speed: 2.5ms preprocess, 24.5ms inference, 1.0ms postprocess per image at shape (1, 3, 640, 640)\n"
     ]
    },
    {
     "name": "stderr",
     "output_type": "stream",
     "text": [
      " 32%|█████████████████████████                                                      | 418/1315 [00:34<01:04, 13.95it/s]"
     ]
    },
    {
     "name": "stdout",
     "output_type": "stream",
     "text": [
      "\n",
      "0: 640x640 1 fire extinguisher, 2 fire signages, 13.5ms\n",
      "Speed: 0.6ms preprocess, 13.5ms inference, 0.0ms postprocess per image at shape (1, 3, 640, 640)\n",
      "\n",
      "0: 640x640 1 fire extinguisher, 3 fire signages, 19.4ms\n",
      "Speed: 4.6ms preprocess, 19.4ms inference, 0.0ms postprocess per image at shape (1, 3, 640, 640)\n"
     ]
    },
    {
     "name": "stderr",
     "output_type": "stream",
     "text": [
      " 32%|█████████████████████████▏                                                     | 420/1315 [00:34<01:05, 13.69it/s]"
     ]
    },
    {
     "name": "stdout",
     "output_type": "stream",
     "text": [
      "\n",
      "0: 640x640 1 fire extinguisher, 2 fire signages, 24.8ms\n",
      "Speed: 0.8ms preprocess, 24.8ms inference, 0.0ms postprocess per image at shape (1, 3, 640, 640)\n",
      "\n",
      "0: 640x640 1 fire extinguisher, 3 fire signages, 22.1ms\n",
      "Speed: 4.8ms preprocess, 22.1ms inference, 1.0ms postprocess per image at shape (1, 3, 640, 640)\n"
     ]
    },
    {
     "name": "stderr",
     "output_type": "stream",
     "text": [
      " 32%|█████████████████████████▎                                                     | 422/1315 [00:35<01:05, 13.66it/s]"
     ]
    },
    {
     "name": "stdout",
     "output_type": "stream",
     "text": [
      "\n",
      "0: 640x640 1 fire extinguisher, 3 fire signages, 14.4ms\n",
      "Speed: 0.6ms preprocess, 14.4ms inference, 0.0ms postprocess per image at shape (1, 3, 640, 640)\n",
      "\n",
      "0: 640x640 2 fire signages, 22.4ms\n",
      "Speed: 3.3ms preprocess, 22.4ms inference, 1.5ms postprocess per image at shape (1, 3, 640, 640)\n"
     ]
    },
    {
     "name": "stderr",
     "output_type": "stream",
     "text": [
      " 32%|█████████████████████████▍                                                     | 424/1315 [00:35<01:04, 13.78it/s]"
     ]
    },
    {
     "name": "stdout",
     "output_type": "stream",
     "text": [
      "\n",
      "0: 640x640 1 fire extinguisher, 2 fire signages, 16.9ms\n",
      "Speed: 4.0ms preprocess, 16.9ms inference, 0.0ms postprocess per image at shape (1, 3, 640, 640)\n",
      "\n",
      "0: 640x640 1 fire extinguisher, 1 fire signage, 22.2ms\n",
      "Speed: 2.9ms preprocess, 22.2ms inference, 1.0ms postprocess per image at shape (1, 3, 640, 640)\n"
     ]
    },
    {
     "name": "stderr",
     "output_type": "stream",
     "text": [
      " 32%|█████████████████████████▌                                                     | 426/1315 [00:35<01:04, 13.85it/s]"
     ]
    },
    {
     "name": "stdout",
     "output_type": "stream",
     "text": [
      "\n",
      "0: 640x640 1 fire extinguisher, 2 fire signages, 24.0ms\n",
      "Speed: 4.3ms preprocess, 24.0ms inference, 0.0ms postprocess per image at shape (1, 3, 640, 640)\n",
      "\n",
      "0: 640x640 1 fire extinguisher, 2 fire signages, 24.1ms\n",
      "Speed: 4.8ms preprocess, 24.1ms inference, 1.0ms postprocess per image at shape (1, 3, 640, 640)\n"
     ]
    },
    {
     "name": "stderr",
     "output_type": "stream",
     "text": [
      " 33%|█████████████████████████▋                                                     | 428/1315 [00:35<01:04, 13.78it/s]"
     ]
    },
    {
     "name": "stdout",
     "output_type": "stream",
     "text": [
      "\n",
      "0: 640x640 1 fire extinguisher, 1 fire signage, 15.8ms\n",
      "Speed: 0.0ms preprocess, 15.8ms inference, 0.0ms postprocess per image at shape (1, 3, 640, 640)\n",
      "\n",
      "0: 640x640 1 fire extinguisher, 2 fire signages, 19.9ms\n",
      "Speed: 4.3ms preprocess, 19.9ms inference, 0.0ms postprocess per image at shape (1, 3, 640, 640)\n"
     ]
    },
    {
     "name": "stderr",
     "output_type": "stream",
     "text": [
      " 33%|█████████████████████████▊                                                     | 430/1315 [00:35<01:04, 13.63it/s]"
     ]
    },
    {
     "name": "stdout",
     "output_type": "stream",
     "text": [
      "\n",
      "0: 640x640 1 fire extinguisher, 2 fire signages, 13.5ms\n",
      "Speed: 0.0ms preprocess, 13.5ms inference, 0.0ms postprocess per image at shape (1, 3, 640, 640)\n",
      "\n",
      "0: 640x640 1 fire extinguisher, 2 fire signages, 21.2ms\n",
      "Speed: 4.2ms preprocess, 21.2ms inference, 1.0ms postprocess per image at shape (1, 3, 640, 640)\n"
     ]
    },
    {
     "name": "stderr",
     "output_type": "stream",
     "text": [
      " 33%|█████████████████████████▉                                                     | 432/1315 [00:35<01:04, 13.72it/s]"
     ]
    },
    {
     "name": "stdout",
     "output_type": "stream",
     "text": [
      "\n",
      "0: 640x640 1 fire extinguisher, 1 fire signage, 15.6ms\n",
      "Speed: 4.1ms preprocess, 15.6ms inference, 0.0ms postprocess per image at shape (1, 3, 640, 640)\n",
      "\n",
      "0: 640x640 1 fire extinguisher, 1 fire signage, 25.8ms\n",
      "Speed: 0.6ms preprocess, 25.8ms inference, 1.0ms postprocess per image at shape (1, 3, 640, 640)\n"
     ]
    },
    {
     "name": "stderr",
     "output_type": "stream",
     "text": [
      " 33%|██████████████████████████                                                     | 434/1315 [00:35<01:03, 13.80it/s]"
     ]
    },
    {
     "name": "stdout",
     "output_type": "stream",
     "text": [
      "\n",
      "0: 640x640 1 fire extinguisher, 2 fire signages, 31.2ms\n",
      "Speed: 0.0ms preprocess, 31.2ms inference, 0.0ms postprocess per image at shape (1, 3, 640, 640)\n",
      "\n",
      "0: 640x640 1 fire extinguisher, 2 fire signages, 22.6ms\n",
      "Speed: 4.6ms preprocess, 22.6ms inference, 1.0ms postprocess per image at shape (1, 3, 640, 640)\n"
     ]
    },
    {
     "name": "stderr",
     "output_type": "stream",
     "text": [
      " 33%|██████████████████████████▏                                                    | 436/1315 [00:36<01:03, 13.86it/s]"
     ]
    },
    {
     "name": "stdout",
     "output_type": "stream",
     "text": [
      "\n",
      "0: 640x640 1 fire extinguisher, 2 fire signages, 15.6ms\n",
      "Speed: 2.3ms preprocess, 15.6ms inference, 0.0ms postprocess per image at shape (1, 3, 640, 640)\n",
      "\n",
      "0: 640x640 1 fire extinguisher, 2 fire signages, 26.6ms\n",
      "Speed: 0.8ms preprocess, 26.6ms inference, 1.0ms postprocess per image at shape (1, 3, 640, 640)\n"
     ]
    },
    {
     "name": "stderr",
     "output_type": "stream",
     "text": [
      " 33%|██████████████████████████▎                                                    | 438/1315 [00:36<01:02, 13.96it/s]"
     ]
    },
    {
     "name": "stdout",
     "output_type": "stream",
     "text": [
      "\n",
      "0: 640x640 1 fire extinguisher, 2 fire signages, 23.1ms\n",
      "Speed: 4.0ms preprocess, 23.1ms inference, 0.6ms postprocess per image at shape (1, 3, 640, 640)\n",
      "\n",
      "0: 640x640 1 fire extinguisher, 1 fire signage, 15.6ms\n",
      "Speed: 5.1ms preprocess, 15.6ms inference, 0.0ms postprocess per image at shape (1, 3, 640, 640)\n"
     ]
    },
    {
     "name": "stderr",
     "output_type": "stream",
     "text": [
      " 33%|██████████████████████████▍                                                    | 440/1315 [00:36<01:02, 13.89it/s]"
     ]
    },
    {
     "name": "stdout",
     "output_type": "stream",
     "text": [
      "\n",
      "0: 640x640 1 fire extinguisher, 2 fire signages, 15.5ms\n",
      "Speed: 4.1ms preprocess, 15.5ms inference, 0.0ms postprocess per image at shape (1, 3, 640, 640)\n",
      "\n",
      "0: 640x640 1 fire extinguisher, 3 fire signages, 22.3ms\n",
      "Speed: 4.3ms preprocess, 22.3ms inference, 1.0ms postprocess per image at shape (1, 3, 640, 640)\n"
     ]
    },
    {
     "name": "stderr",
     "output_type": "stream",
     "text": [
      " 34%|██████████████████████████▌                                                    | 442/1315 [00:36<01:02, 13.92it/s]"
     ]
    },
    {
     "name": "stdout",
     "output_type": "stream",
     "text": [
      "\n",
      "0: 640x640 1 fire extinguisher, 3 fire signages, 18.0ms\n",
      "Speed: 4.0ms preprocess, 18.0ms inference, 0.0ms postprocess per image at shape (1, 3, 640, 640)\n",
      "\n",
      "0: 640x640 1 fire signage, 24.0ms\n",
      "Speed: 5.2ms preprocess, 24.0ms inference, 1.0ms postprocess per image at shape (1, 3, 640, 640)\n"
     ]
    },
    {
     "name": "stderr",
     "output_type": "stream",
     "text": [
      " 34%|██████████████████████████▋                                                    | 444/1315 [00:36<01:03, 13.77it/s]"
     ]
    },
    {
     "name": "stdout",
     "output_type": "stream",
     "text": [
      "\n",
      "0: 640x640 1 fire signage, 20.6ms\n",
      "Speed: 4.3ms preprocess, 20.6ms inference, 0.0ms postprocess per image at shape (1, 3, 640, 640)\n",
      "\n",
      "0: 640x640 2 fire signages, 21.6ms\n",
      "Speed: 4.0ms preprocess, 21.6ms inference, 1.3ms postprocess per image at shape (1, 3, 640, 640)\n"
     ]
    },
    {
     "name": "stderr",
     "output_type": "stream",
     "text": [
      " 34%|██████████████████████████▊                                                    | 446/1315 [00:36<01:01, 14.06it/s]"
     ]
    },
    {
     "name": "stdout",
     "output_type": "stream",
     "text": [
      "\n",
      "0: 640x640 1 fire signage, 27.0ms\n",
      "Speed: 4.0ms preprocess, 27.0ms inference, 1.0ms postprocess per image at shape (1, 3, 640, 640)\n",
      "\n",
      "0: 640x640 2 fire signages, 25.8ms\n",
      "Speed: 1.3ms preprocess, 25.8ms inference, 1.0ms postprocess per image at shape (1, 3, 640, 640)\n"
     ]
    },
    {
     "name": "stderr",
     "output_type": "stream",
     "text": [
      " 34%|██████████████████████████▉                                                    | 448/1315 [00:36<01:01, 14.20it/s]"
     ]
    },
    {
     "name": "stdout",
     "output_type": "stream",
     "text": [
      "\n",
      "0: 640x640 1 fire signage, 13.5ms\n",
      "Speed: 3.6ms preprocess, 13.5ms inference, 0.0ms postprocess per image at shape (1, 3, 640, 640)\n",
      "\n",
      "0: 640x640 2 fire signages, 22.2ms\n",
      "Speed: 4.6ms preprocess, 22.2ms inference, 1.0ms postprocess per image at shape (1, 3, 640, 640)\n"
     ]
    },
    {
     "name": "stderr",
     "output_type": "stream",
     "text": [
      " 34%|███████████████████████████                                                    | 450/1315 [00:37<01:00, 14.25it/s]"
     ]
    },
    {
     "name": "stdout",
     "output_type": "stream",
     "text": [
      "\n",
      "0: 640x640 1 fire signage, 31.3ms\n",
      "Speed: 0.0ms preprocess, 31.3ms inference, 0.0ms postprocess per image at shape (1, 3, 640, 640)\n",
      "\n",
      "0: 640x640 1 fire signage, 23.2ms\n",
      "Speed: 4.5ms preprocess, 23.2ms inference, 0.4ms postprocess per image at shape (1, 3, 640, 640)\n"
     ]
    },
    {
     "name": "stderr",
     "output_type": "stream",
     "text": [
      " 34%|███████████████████████████▏                                                   | 452/1315 [00:37<00:59, 14.50it/s]"
     ]
    },
    {
     "name": "stdout",
     "output_type": "stream",
     "text": [
      "\n",
      "0: 640x640 1 fire signage, 8.6ms\n",
      "Speed: 4.0ms preprocess, 8.6ms inference, 0.0ms postprocess per image at shape (1, 3, 640, 640)\n",
      "\n",
      "0: 640x640 1 fire signage, 22.2ms\n",
      "Speed: 4.5ms preprocess, 22.2ms inference, 1.0ms postprocess per image at shape (1, 3, 640, 640)\n"
     ]
    },
    {
     "name": "stderr",
     "output_type": "stream",
     "text": [
      " 35%|███████████████████████████▎                                                   | 454/1315 [00:37<00:58, 14.60it/s]"
     ]
    },
    {
     "name": "stdout",
     "output_type": "stream",
     "text": [
      "\n",
      "0: 640x640 1 fire signage, 22.6ms\n",
      "Speed: 4.0ms preprocess, 22.6ms inference, 0.8ms postprocess per image at shape (1, 3, 640, 640)\n",
      "\n",
      "0: 640x640 1 fire signage, 23.2ms\n",
      "Speed: 4.5ms preprocess, 23.2ms inference, 1.0ms postprocess per image at shape (1, 3, 640, 640)\n"
     ]
    },
    {
     "name": "stderr",
     "output_type": "stream",
     "text": [
      " 35%|███████████████████████████▍                                                   | 456/1315 [00:37<00:58, 14.62it/s]"
     ]
    },
    {
     "name": "stdout",
     "output_type": "stream",
     "text": [
      "\n",
      "0: 640x640 1 fire signage, 16.9ms\n",
      "Speed: 5.0ms preprocess, 16.9ms inference, 0.0ms postprocess per image at shape (1, 3, 640, 640)\n",
      "\n",
      "0: 640x640 1 fire signage, 22.4ms\n",
      "Speed: 4.7ms preprocess, 22.4ms inference, 1.0ms postprocess per image at shape (1, 3, 640, 640)\n"
     ]
    },
    {
     "name": "stderr",
     "output_type": "stream",
     "text": [
      " 35%|███████████████████████████▌                                                   | 458/1315 [00:37<00:59, 14.44it/s]"
     ]
    },
    {
     "name": "stdout",
     "output_type": "stream",
     "text": [
      "\n",
      "0: 640x640 1 fire signage, 12.5ms\n",
      "Speed: 0.7ms preprocess, 12.5ms inference, 0.0ms postprocess per image at shape (1, 3, 640, 640)\n",
      "\n",
      "0: 640x640 1 fire signage, 27.3ms\n",
      "Speed: 4.5ms preprocess, 27.3ms inference, 0.0ms postprocess per image at shape (1, 3, 640, 640)\n"
     ]
    },
    {
     "name": "stderr",
     "output_type": "stream",
     "text": [
      " 35%|███████████████████████████▋                                                   | 460/1315 [00:37<00:59, 14.40it/s]"
     ]
    },
    {
     "name": "stdout",
     "output_type": "stream",
     "text": [
      "\n",
      "0: 640x640 1 fire signage, 19.0ms\n",
      "Speed: 5.5ms preprocess, 19.0ms inference, 4.5ms postprocess per image at shape (1, 3, 640, 640)\n",
      "\n",
      "0: 640x640 1 fire signage, 18.0ms\n",
      "Speed: 3.8ms preprocess, 18.0ms inference, 0.0ms postprocess per image at shape (1, 3, 640, 640)\n"
     ]
    },
    {
     "name": "stderr",
     "output_type": "stream",
     "text": [
      " 35%|███████████████████████████▊                                                   | 462/1315 [00:37<00:58, 14.50it/s]"
     ]
    },
    {
     "name": "stdout",
     "output_type": "stream",
     "text": [
      "\n",
      "0: 640x640 1 fire signage, 18.6ms\n",
      "Speed: 4.3ms preprocess, 18.6ms inference, 0.0ms postprocess per image at shape (1, 3, 640, 640)\n",
      "\n",
      "0: 640x640 1 fire signage, 22.4ms\n",
      "Speed: 4.8ms preprocess, 22.4ms inference, 0.0ms postprocess per image at shape (1, 3, 640, 640)\n"
     ]
    },
    {
     "name": "stderr",
     "output_type": "stream",
     "text": [
      " 35%|███████████████████████████▉                                                   | 464/1315 [00:38<00:57, 14.68it/s]"
     ]
    },
    {
     "name": "stdout",
     "output_type": "stream",
     "text": [
      "\n",
      "0: 640x640 1 fire signage, 15.1ms\n",
      "Speed: 0.7ms preprocess, 15.1ms inference, 0.0ms postprocess per image at shape (1, 3, 640, 640)\n",
      "\n",
      "0: 640x640 1 fire signage, 22.6ms\n",
      "Speed: 4.1ms preprocess, 22.6ms inference, 1.0ms postprocess per image at shape (1, 3, 640, 640)\n"
     ]
    },
    {
     "name": "stderr",
     "output_type": "stream",
     "text": [
      " 35%|███████████████████████████▉                                                   | 466/1315 [00:38<00:58, 14.45it/s]"
     ]
    },
    {
     "name": "stdout",
     "output_type": "stream",
     "text": [
      "\n",
      "0: 640x640 2 fire signages, 19.0ms\n",
      "Speed: 0.6ms preprocess, 19.0ms inference, 8.0ms postprocess per image at shape (1, 3, 640, 640)\n",
      "\n",
      "0: 640x640 2 fire signages, 21.3ms\n",
      "Speed: 4.4ms preprocess, 21.3ms inference, 2.0ms postprocess per image at shape (1, 3, 640, 640)\n"
     ]
    },
    {
     "name": "stderr",
     "output_type": "stream",
     "text": [
      " 36%|████████████████████████████                                                   | 468/1315 [00:38<00:58, 14.41it/s]"
     ]
    },
    {
     "name": "stdout",
     "output_type": "stream",
     "text": [
      "\n",
      "0: 640x640 2 fire signages, 18.8ms\n",
      "Speed: 4.0ms preprocess, 18.8ms inference, 0.0ms postprocess per image at shape (1, 3, 640, 640)\n",
      "\n",
      "0: 640x640 2 fire signages, 17.8ms\n",
      "Speed: 4.4ms preprocess, 17.8ms inference, 0.0ms postprocess per image at shape (1, 3, 640, 640)\n"
     ]
    },
    {
     "name": "stderr",
     "output_type": "stream",
     "text": [
      " 36%|████████████████████████████▏                                                  | 470/1315 [00:38<00:58, 14.54it/s]"
     ]
    },
    {
     "name": "stdout",
     "output_type": "stream",
     "text": [
      "\n",
      "0: 640x640 2 fire signages, 17.6ms\n",
      "Speed: 4.0ms preprocess, 17.6ms inference, 0.0ms postprocess per image at shape (1, 3, 640, 640)\n",
      "\n",
      "0: 640x640 2 fire signages, 19.5ms\n",
      "Speed: 4.4ms preprocess, 19.5ms inference, 0.0ms postprocess per image at shape (1, 3, 640, 640)\n"
     ]
    },
    {
     "name": "stderr",
     "output_type": "stream",
     "text": [
      " 36%|████████████████████████████▎                                                  | 472/1315 [00:38<00:56, 14.86it/s]"
     ]
    },
    {
     "name": "stdout",
     "output_type": "stream",
     "text": [
      "\n",
      "0: 640x640 1 fire signage, 1 helmet, 22.7ms\n",
      "Speed: 4.0ms preprocess, 22.7ms inference, 0.0ms postprocess per image at shape (1, 3, 640, 640)\n",
      "\n",
      "0: 640x640 2 fire signages, 1 helmet, 18.4ms\n",
      "Speed: 4.8ms preprocess, 18.4ms inference, 0.0ms postprocess per image at shape (1, 3, 640, 640)\n"
     ]
    },
    {
     "name": "stderr",
     "output_type": "stream",
     "text": [
      " 36%|████████████████████████████▍                                                  | 474/1315 [00:38<00:57, 14.53it/s]"
     ]
    },
    {
     "name": "stdout",
     "output_type": "stream",
     "text": [
      "\n",
      "0: 640x640 2 fire signages, 1 helmet, 14.5ms\n",
      "Speed: 0.0ms preprocess, 14.5ms inference, 0.0ms postprocess per image at shape (1, 3, 640, 640)\n",
      "\n",
      "0: 640x640 2 fire signages, 1 helmet, 23.5ms\n",
      "Speed: 5.2ms preprocess, 23.5ms inference, 1.5ms postprocess per image at shape (1, 3, 640, 640)\n"
     ]
    },
    {
     "name": "stderr",
     "output_type": "stream",
     "text": [
      " 36%|████████████████████████████▌                                                  | 476/1315 [00:38<00:58, 14.30it/s]"
     ]
    },
    {
     "name": "stdout",
     "output_type": "stream",
     "text": [
      "\n",
      "0: 640x640 1 fire signage, 1 helmet, 21.8ms\n",
      "Speed: 5.4ms preprocess, 21.8ms inference, 0.0ms postprocess per image at shape (1, 3, 640, 640)\n",
      "\n",
      "0: 640x640 3 fire signages, 17.7ms\n",
      "Speed: 4.4ms preprocess, 17.7ms inference, 0.0ms postprocess per image at shape (1, 3, 640, 640)\n"
     ]
    },
    {
     "name": "stderr",
     "output_type": "stream",
     "text": [
      " 36%|████████████████████████████▋                                                  | 478/1315 [00:39<01:00, 13.93it/s]"
     ]
    },
    {
     "name": "stdout",
     "output_type": "stream",
     "text": [
      "\n",
      "0: 640x640 2 fire signages, 15.5ms\n",
      "Speed: 4.7ms preprocess, 15.5ms inference, 0.0ms postprocess per image at shape (1, 3, 640, 640)\n",
      "\n",
      "0: 640x640 2 fire signages, 24.3ms\n",
      "Speed: 0.6ms preprocess, 24.3ms inference, 1.0ms postprocess per image at shape (1, 3, 640, 640)\n"
     ]
    },
    {
     "name": "stderr",
     "output_type": "stream",
     "text": [
      " 37%|████████████████████████████▊                                                  | 480/1315 [00:39<00:59, 13.99it/s]"
     ]
    },
    {
     "name": "stdout",
     "output_type": "stream",
     "text": [
      "\n",
      "0: 640x640 2 fire signages, 26.4ms\n",
      "Speed: 0.0ms preprocess, 26.4ms inference, 0.0ms postprocess per image at shape (1, 3, 640, 640)\n",
      "\n",
      "0: 640x640 2 fire signages, 25.9ms\n",
      "Speed: 0.6ms preprocess, 25.9ms inference, 1.0ms postprocess per image at shape (1, 3, 640, 640)\n"
     ]
    },
    {
     "name": "stderr",
     "output_type": "stream",
     "text": [
      " 37%|████████████████████████████▉                                                  | 482/1315 [00:39<00:59, 14.12it/s]"
     ]
    },
    {
     "name": "stdout",
     "output_type": "stream",
     "text": [
      "\n",
      "0: 640x640 2 fire signages, 17.7ms\n",
      "Speed: 4.0ms preprocess, 17.7ms inference, 0.0ms postprocess per image at shape (1, 3, 640, 640)\n",
      "\n",
      "0: 640x640 2 fire signages, 25.1ms\n",
      "Speed: 2.6ms preprocess, 25.1ms inference, 1.0ms postprocess per image at shape (1, 3, 640, 640)\n"
     ]
    },
    {
     "name": "stderr",
     "output_type": "stream",
     "text": [
      " 37%|█████████████████████████████                                                  | 484/1315 [00:39<00:58, 14.19it/s]"
     ]
    },
    {
     "name": "stdout",
     "output_type": "stream",
     "text": [
      "\n",
      "0: 640x640 2 fire signages, 15.0ms\n",
      "Speed: 0.6ms preprocess, 15.0ms inference, 0.0ms postprocess per image at shape (1, 3, 640, 640)\n",
      "\n",
      "0: 640x640 2 fire signages, 21.2ms\n",
      "Speed: 5.0ms preprocess, 21.2ms inference, 1.1ms postprocess per image at shape (1, 3, 640, 640)\n"
     ]
    },
    {
     "name": "stderr",
     "output_type": "stream",
     "text": [
      " 37%|█████████████████████████████▏                                                 | 486/1315 [00:39<00:58, 14.13it/s]"
     ]
    },
    {
     "name": "stdout",
     "output_type": "stream",
     "text": [
      "\n",
      "0: 640x640 2 fire signages, 18.9ms\n",
      "Speed: 6.0ms preprocess, 18.9ms inference, 0.0ms postprocess per image at shape (1, 3, 640, 640)\n",
      "\n",
      "0: 640x640 2 fire signages, 22.6ms\n",
      "Speed: 5.1ms preprocess, 22.6ms inference, 2.0ms postprocess per image at shape (1, 3, 640, 640)\n"
     ]
    },
    {
     "name": "stderr",
     "output_type": "stream",
     "text": [
      " 37%|█████████████████████████████▎                                                 | 488/1315 [00:39<01:00, 13.75it/s]"
     ]
    },
    {
     "name": "stdout",
     "output_type": "stream",
     "text": [
      "\n",
      "0: 640x640 2 fire signages, 25.5ms\n",
      "Speed: 1.6ms preprocess, 25.5ms inference, 0.0ms postprocess per image at shape (1, 3, 640, 640)\n",
      "\n",
      "0: 640x640 2 fire signages, 21.6ms\n",
      "Speed: 4.1ms preprocess, 21.6ms inference, 0.0ms postprocess per image at shape (1, 3, 640, 640)\n"
     ]
    },
    {
     "name": "stderr",
     "output_type": "stream",
     "text": [
      " 37%|█████████████████████████████▍                                                 | 490/1315 [00:39<01:01, 13.47it/s]"
     ]
    },
    {
     "name": "stdout",
     "output_type": "stream",
     "text": [
      "\n",
      "0: 640x640 2 fire signages, 26.1ms\n",
      "Speed: 5.0ms preprocess, 26.1ms inference, 0.0ms postprocess per image at shape (1, 3, 640, 640)\n",
      "\n",
      "0: 640x640 2 fire signages, 28.7ms\n",
      "Speed: 1.0ms preprocess, 28.7ms inference, 1.0ms postprocess per image at shape (1, 3, 640, 640)\n"
     ]
    },
    {
     "name": "stderr",
     "output_type": "stream",
     "text": [
      " 37%|█████████████████████████████▌                                                 | 492/1315 [00:40<01:01, 13.31it/s]"
     ]
    },
    {
     "name": "stdout",
     "output_type": "stream",
     "text": [
      "\n",
      "0: 640x640 2 fire signages, 18.1ms\n",
      "Speed: 5.0ms preprocess, 18.1ms inference, 0.0ms postprocess per image at shape (1, 3, 640, 640)\n",
      "\n",
      "0: 640x640 2 fire signages, 31.5ms\n",
      "Speed: 0.0ms preprocess, 31.5ms inference, 1.3ms postprocess per image at shape (1, 3, 640, 640)\n"
     ]
    },
    {
     "name": "stderr",
     "output_type": "stream",
     "text": [
      " 38%|█████████████████████████████▋                                                 | 494/1315 [00:40<01:02, 13.11it/s]"
     ]
    },
    {
     "name": "stdout",
     "output_type": "stream",
     "text": [
      "\n",
      "0: 640x640 2 fire signages, 15.6ms\n",
      "Speed: 0.4ms preprocess, 15.6ms inference, 0.0ms postprocess per image at shape (1, 3, 640, 640)\n",
      "\n",
      "0: 640x640 2 fire signages, 21.4ms\n",
      "Speed: 5.8ms preprocess, 21.4ms inference, 0.0ms postprocess per image at shape (1, 3, 640, 640)\n"
     ]
    },
    {
     "name": "stderr",
     "output_type": "stream",
     "text": [
      " 38%|█████████████████████████████▊                                                 | 496/1315 [00:40<01:02, 13.12it/s]"
     ]
    },
    {
     "name": "stdout",
     "output_type": "stream",
     "text": [
      "\n",
      "0: 640x640 2 fire signages, 16.0ms\n",
      "Speed: 0.0ms preprocess, 16.0ms inference, 15.0ms postprocess per image at shape (1, 3, 640, 640)\n",
      "\n",
      "0: 640x640 2 fire signages, 23.1ms\n",
      "Speed: 5.3ms preprocess, 23.1ms inference, 0.5ms postprocess per image at shape (1, 3, 640, 640)\n"
     ]
    },
    {
     "name": "stderr",
     "output_type": "stream",
     "text": [
      " 38%|█████████████████████████████▉                                                 | 498/1315 [00:40<01:02, 13.15it/s]"
     ]
    },
    {
     "name": "stdout",
     "output_type": "stream",
     "text": [
      "\n",
      "0: 640x640 2 fire signages, 28.7ms\n",
      "Speed: 0.0ms preprocess, 28.7ms inference, 0.0ms postprocess per image at shape (1, 3, 640, 640)\n",
      "\n",
      "0: 640x640 2 fire signages, 27.5ms\n",
      "Speed: 3.0ms preprocess, 27.5ms inference, 1.0ms postprocess per image at shape (1, 3, 640, 640)\n"
     ]
    },
    {
     "name": "stderr",
     "output_type": "stream",
     "text": [
      " 38%|██████████████████████████████                                                 | 500/1315 [00:40<01:02, 13.10it/s]"
     ]
    },
    {
     "name": "stdout",
     "output_type": "stream",
     "text": [
      "\n",
      "0: 640x640 2 fire signages, 19.8ms\n",
      "Speed: 5.0ms preprocess, 19.8ms inference, 0.0ms postprocess per image at shape (1, 3, 640, 640)\n",
      "\n",
      "0: 640x640 2 fire signages, 16.6ms\n",
      "Speed: 5.6ms preprocess, 16.6ms inference, 0.0ms postprocess per image at shape (1, 3, 640, 640)\n"
     ]
    },
    {
     "name": "stderr",
     "output_type": "stream",
     "text": [
      " 38%|██████████████████████████████▏                                                | 502/1315 [00:40<01:01, 13.32it/s]"
     ]
    },
    {
     "name": "stdout",
     "output_type": "stream",
     "text": [
      "\n",
      "0: 640x640 2 fire signages, 29.6ms\n",
      "Speed: 0.0ms preprocess, 29.6ms inference, 0.6ms postprocess per image at shape (1, 3, 640, 640)\n",
      "\n",
      "0: 640x640 2 fire signages, 17.0ms\n",
      "Speed: 5.0ms preprocess, 17.0ms inference, 0.0ms postprocess per image at shape (1, 3, 640, 640)\n"
     ]
    },
    {
     "name": "stderr",
     "output_type": "stream",
     "text": [
      " 38%|██████████████████████████████▎                                                | 504/1315 [00:40<01:01, 13.21it/s]"
     ]
    },
    {
     "name": "stdout",
     "output_type": "stream",
     "text": [
      "\n",
      "0: 640x640 2 fire signages, 15.8ms\n",
      "Speed: 11.0ms preprocess, 15.8ms inference, 5.0ms postprocess per image at shape (1, 3, 640, 640)\n",
      "\n",
      "0: 640x640 2 fire signages, 16.5ms\n",
      "Speed: 5.6ms preprocess, 16.5ms inference, 0.0ms postprocess per image at shape (1, 3, 640, 640)\n"
     ]
    },
    {
     "name": "stderr",
     "output_type": "stream",
     "text": [
      " 38%|██████████████████████████████▍                                                | 506/1315 [00:41<01:00, 13.41it/s]"
     ]
    },
    {
     "name": "stdout",
     "output_type": "stream",
     "text": [
      "\n",
      "0: 640x640 2 fire signages, 15.6ms\n",
      "Speed: 1.0ms preprocess, 15.6ms inference, 0.0ms postprocess per image at shape (1, 3, 640, 640)\n",
      "\n",
      "0: 640x640 2 fire signages, 26.7ms\n",
      "Speed: 1.4ms preprocess, 26.7ms inference, 1.0ms postprocess per image at shape (1, 3, 640, 640)\n"
     ]
    },
    {
     "name": "stderr",
     "output_type": "stream",
     "text": [
      " 39%|██████████████████████████████▌                                                | 508/1315 [00:41<00:59, 13.64it/s]"
     ]
    },
    {
     "name": "stdout",
     "output_type": "stream",
     "text": [
      "\n",
      "0: 640x640 2 fire signages, 19.7ms\n",
      "Speed: 5.0ms preprocess, 19.7ms inference, 0.0ms postprocess per image at shape (1, 3, 640, 640)\n",
      "\n",
      "0: 640x640 2 fire signages, 18.9ms\n",
      "Speed: 5.4ms preprocess, 18.9ms inference, 0.0ms postprocess per image at shape (1, 3, 640, 640)\n"
     ]
    },
    {
     "name": "stderr",
     "output_type": "stream",
     "text": [
      " 39%|██████████████████████████████▋                                                | 510/1315 [00:41<00:58, 13.86it/s]"
     ]
    },
    {
     "name": "stdout",
     "output_type": "stream",
     "text": [
      "\n",
      "0: 640x640 2 fire signages, 20.4ms\n",
      "Speed: 3.5ms preprocess, 20.4ms inference, 0.0ms postprocess per image at shape (1, 3, 640, 640)\n",
      "\n",
      "0: 640x640 2 fire signages, 21.5ms\n",
      "Speed: 7.8ms preprocess, 21.5ms inference, 1.4ms postprocess per image at shape (1, 3, 640, 640)\n"
     ]
    },
    {
     "name": "stderr",
     "output_type": "stream",
     "text": [
      " 39%|██████████████████████████████▊                                                | 512/1315 [00:41<00:58, 13.79it/s]"
     ]
    },
    {
     "name": "stdout",
     "output_type": "stream",
     "text": [
      "\n",
      "0: 640x640 2 fire signages, 17.9ms\n",
      "Speed: 5.0ms preprocess, 17.9ms inference, 0.0ms postprocess per image at shape (1, 3, 640, 640)\n",
      "\n",
      "0: 640x640 3 fire signages, 25.8ms\n",
      "Speed: 3.8ms preprocess, 25.8ms inference, 1.0ms postprocess per image at shape (1, 3, 640, 640)\n"
     ]
    },
    {
     "name": "stderr",
     "output_type": "stream",
     "text": [
      " 39%|██████████████████████████████▉                                                | 514/1315 [00:41<01:00, 13.24it/s]"
     ]
    },
    {
     "name": "stdout",
     "output_type": "stream",
     "text": [
      "\n",
      "0: 640x640 3 fire signages, 1 helmet, 22.8ms\n",
      "Speed: 0.9ms preprocess, 22.8ms inference, 0.8ms postprocess per image at shape (1, 3, 640, 640)\n",
      "\n",
      "0: 640x640 2 fire signages, 1 helmet, 20.2ms\n",
      "Speed: 4.8ms preprocess, 20.2ms inference, 0.9ms postprocess per image at shape (1, 3, 640, 640)\n"
     ]
    },
    {
     "name": "stderr",
     "output_type": "stream",
     "text": [
      " 39%|██████████████████████████████▉                                                | 516/1315 [00:41<00:58, 13.62it/s]"
     ]
    },
    {
     "name": "stdout",
     "output_type": "stream",
     "text": [
      "\n",
      "0: 640x640 2 fire signages, 1 helmet, 21.0ms\n",
      "Speed: 5.0ms preprocess, 21.0ms inference, 0.0ms postprocess per image at shape (1, 3, 640, 640)\n",
      "\n",
      "0: 640x640 2 fire signages, 1 helmet, 23.1ms\n",
      "Speed: 2.0ms preprocess, 23.1ms inference, 1.0ms postprocess per image at shape (1, 3, 640, 640)\n"
     ]
    },
    {
     "name": "stderr",
     "output_type": "stream",
     "text": [
      " 39%|███████████████████████████████                                                | 518/1315 [00:41<00:57, 13.95it/s]"
     ]
    },
    {
     "name": "stdout",
     "output_type": "stream",
     "text": [
      "\n",
      "0: 640x640 2 fire signages, 1 helmet, 20.2ms\n",
      "Speed: 4.1ms preprocess, 20.2ms inference, 0.9ms postprocess per image at shape (1, 3, 640, 640)\n",
      "\n",
      "0: 640x640 2 fire signages, 1 helmet, 16.5ms\n",
      "Speed: 4.7ms preprocess, 16.5ms inference, 0.0ms postprocess per image at shape (1, 3, 640, 640)\n"
     ]
    },
    {
     "name": "stderr",
     "output_type": "stream",
     "text": [
      " 40%|███████████████████████████████▏                                               | 520/1315 [00:42<00:56, 14.17it/s]"
     ]
    },
    {
     "name": "stdout",
     "output_type": "stream",
     "text": [
      "\n",
      "0: 640x640 2 fire signages, 16.1ms\n",
      "Speed: 1.0ms preprocess, 16.1ms inference, 0.0ms postprocess per image at shape (1, 3, 640, 640)\n",
      "\n",
      "0: 640x640 2 fire signages, 26.1ms\n",
      "Speed: 0.6ms preprocess, 26.1ms inference, 1.0ms postprocess per image at shape (1, 3, 640, 640)\n"
     ]
    },
    {
     "name": "stderr",
     "output_type": "stream",
     "text": [
      " 40%|███████████████████████████████▎                                               | 522/1315 [00:42<00:55, 14.29it/s]"
     ]
    },
    {
     "name": "stdout",
     "output_type": "stream",
     "text": [
      "\n",
      "0: 640x640 2 fire signages, 9.6ms\n",
      "Speed: 5.0ms preprocess, 9.6ms inference, 0.0ms postprocess per image at shape (1, 3, 640, 640)\n",
      "\n",
      "0: 640x640 2 fire signages, 21.8ms\n",
      "Speed: 4.5ms preprocess, 21.8ms inference, 1.5ms postprocess per image at shape (1, 3, 640, 640)\n"
     ]
    },
    {
     "name": "stderr",
     "output_type": "stream",
     "text": [
      " 40%|███████████████████████████████▍                                               | 524/1315 [00:42<00:55, 14.27it/s]"
     ]
    },
    {
     "name": "stdout",
     "output_type": "stream",
     "text": [
      "\n",
      "0: 640x640 2 fire signages, 16.8ms\n",
      "Speed: 4.0ms preprocess, 16.8ms inference, 0.0ms postprocess per image at shape (1, 3, 640, 640)\n",
      "\n",
      "0: 640x640 2 fire signages, 17.3ms\n",
      "Speed: 3.9ms preprocess, 17.3ms inference, 0.0ms postprocess per image at shape (1, 3, 640, 640)\n"
     ]
    },
    {
     "name": "stderr",
     "output_type": "stream",
     "text": [
      " 40%|███████████████████████████████▌                                               | 526/1315 [00:42<00:54, 14.45it/s]"
     ]
    },
    {
     "name": "stdout",
     "output_type": "stream",
     "text": [
      "\n",
      "0: 640x640 2 fire signages, 17.1ms\n",
      "Speed: 4.0ms preprocess, 17.1ms inference, 0.0ms postprocess per image at shape (1, 3, 640, 640)\n",
      "\n",
      "0: 640x640 3 fire signages, 20.1ms\n",
      "Speed: 5.1ms preprocess, 20.1ms inference, 0.0ms postprocess per image at shape (1, 3, 640, 640)\n"
     ]
    },
    {
     "name": "stderr",
     "output_type": "stream",
     "text": [
      " 40%|███████████████████████████████▋                                               | 528/1315 [00:42<00:54, 14.36it/s]"
     ]
    },
    {
     "name": "stdout",
     "output_type": "stream",
     "text": [
      "\n",
      "0: 640x640 2 fire signages, 13.2ms\n",
      "Speed: 2.7ms preprocess, 13.2ms inference, 0.0ms postprocess per image at shape (1, 3, 640, 640)\n",
      "\n",
      "0: 640x640 2 fire signages, 22.3ms\n",
      "Speed: 4.4ms preprocess, 22.3ms inference, 1.0ms postprocess per image at shape (1, 3, 640, 640)\n"
     ]
    },
    {
     "name": "stderr",
     "output_type": "stream",
     "text": [
      " 40%|███████████████████████████████▊                                               | 530/1315 [00:42<00:54, 14.47it/s]"
     ]
    },
    {
     "name": "stdout",
     "output_type": "stream",
     "text": [
      "\n",
      "0: 640x640 3 fire signages, 8.1ms\n",
      "Speed: 3.5ms preprocess, 8.1ms inference, 15.6ms postprocess per image at shape (1, 3, 640, 640)\n",
      "\n",
      "0: 640x640 3 fire signages, 22.7ms\n",
      "Speed: 3.5ms preprocess, 22.7ms inference, 1.0ms postprocess per image at shape (1, 3, 640, 640)\n"
     ]
    },
    {
     "name": "stderr",
     "output_type": "stream",
     "text": [
      " 40%|███████████████████████████████▉                                               | 532/1315 [00:42<00:54, 14.40it/s]"
     ]
    },
    {
     "name": "stdout",
     "output_type": "stream",
     "text": [
      "\n",
      "0: 640x640 3 fire signages, 16.6ms\n",
      "Speed: 4.4ms preprocess, 16.6ms inference, 0.0ms postprocess per image at shape (1, 3, 640, 640)\n",
      "\n",
      "0: 640x640 3 fire signages, 22.7ms\n",
      "Speed: 5.0ms preprocess, 22.7ms inference, 1.0ms postprocess per image at shape (1, 3, 640, 640)\n"
     ]
    },
    {
     "name": "stderr",
     "output_type": "stream",
     "text": [
      " 41%|████████████████████████████████                                               | 534/1315 [00:43<00:54, 14.27it/s]"
     ]
    },
    {
     "name": "stdout",
     "output_type": "stream",
     "text": [
      "\n",
      "0: 640x640 3 fire signages, 23.1ms\n",
      "Speed: 4.0ms preprocess, 23.1ms inference, 0.6ms postprocess per image at shape (1, 3, 640, 640)\n",
      "\n",
      "0: 640x640 3 fire signages, 22.1ms\n",
      "Speed: 4.4ms preprocess, 22.1ms inference, 1.0ms postprocess per image at shape (1, 3, 640, 640)\n"
     ]
    },
    {
     "name": "stderr",
     "output_type": "stream",
     "text": [
      " 41%|████████████████████████████████▏                                              | 536/1315 [00:43<00:54, 14.32it/s]"
     ]
    },
    {
     "name": "stdout",
     "output_type": "stream",
     "text": [
      "\n",
      "0: 640x640 3 fire signages, 17.1ms\n",
      "Speed: 5.0ms preprocess, 17.1ms inference, 0.0ms postprocess per image at shape (1, 3, 640, 640)\n",
      "\n",
      "0: 640x640 3 fire signages, 26.2ms\n",
      "Speed: 4.6ms preprocess, 26.2ms inference, 1.0ms postprocess per image at shape (1, 3, 640, 640)\n"
     ]
    },
    {
     "name": "stderr",
     "output_type": "stream",
     "text": [
      " 41%|████████████████████████████████▎                                              | 538/1315 [00:43<00:55, 14.09it/s]"
     ]
    },
    {
     "name": "stdout",
     "output_type": "stream",
     "text": [
      "\n",
      "0: 640x640 3 fire signages, 31.3ms\n",
      "Speed: 0.0ms preprocess, 31.3ms inference, 0.0ms postprocess per image at shape (1, 3, 640, 640)\n",
      "\n",
      "0: 640x640 3 fire signages, 24.1ms\n",
      "Speed: 2.4ms preprocess, 24.1ms inference, 1.0ms postprocess per image at shape (1, 3, 640, 640)\n"
     ]
    },
    {
     "name": "stderr",
     "output_type": "stream",
     "text": [
      " 41%|████████████████████████████████▍                                              | 540/1315 [00:43<00:55, 14.08it/s]"
     ]
    },
    {
     "name": "stdout",
     "output_type": "stream",
     "text": [
      "\n",
      "0: 640x640 3 fire signages, 15.0ms\n",
      "Speed: 0.6ms preprocess, 15.0ms inference, 0.0ms postprocess per image at shape (1, 3, 640, 640)\n",
      "\n",
      "0: 640x640 3 fire signages, 23.4ms\n",
      "Speed: 4.3ms preprocess, 23.4ms inference, 1.0ms postprocess per image at shape (1, 3, 640, 640)\n"
     ]
    },
    {
     "name": "stderr",
     "output_type": "stream",
     "text": [
      " 41%|████████████████████████████████▌                                              | 542/1315 [00:43<00:54, 14.12it/s]"
     ]
    },
    {
     "name": "stdout",
     "output_type": "stream",
     "text": [
      "\n",
      "0: 640x640 3 fire signages, 21.1ms\n",
      "Speed: 4.0ms preprocess, 21.1ms inference, 0.0ms postprocess per image at shape (1, 3, 640, 640)\n",
      "\n",
      "0: 640x640 2 fire signages, 18.2ms\n",
      "Speed: 4.6ms preprocess, 18.2ms inference, 0.0ms postprocess per image at shape (1, 3, 640, 640)\n"
     ]
    },
    {
     "name": "stderr",
     "output_type": "stream",
     "text": [
      " 41%|████████████████████████████████▋                                              | 544/1315 [00:43<00:54, 14.10it/s]"
     ]
    },
    {
     "name": "stdout",
     "output_type": "stream",
     "text": [
      "\n",
      "0: 640x640 2 fire signages, 16.2ms\n",
      "Speed: 0.5ms preprocess, 16.2ms inference, 0.0ms postprocess per image at shape (1, 3, 640, 640)\n",
      "\n",
      "0: 640x640 2 fire signages, 23.6ms\n",
      "Speed: 4.4ms preprocess, 23.6ms inference, 1.0ms postprocess per image at shape (1, 3, 640, 640)\n"
     ]
    },
    {
     "name": "stderr",
     "output_type": "stream",
     "text": [
      " 42%|████████████████████████████████▊                                              | 546/1315 [00:43<00:53, 14.30it/s]"
     ]
    },
    {
     "name": "stdout",
     "output_type": "stream",
     "text": [
      "\n",
      "0: 640x640 2 fire signages, 14.8ms\n",
      "Speed: 1.5ms preprocess, 14.8ms inference, 0.0ms postprocess per image at shape (1, 3, 640, 640)\n",
      "\n",
      "0: 640x640 2 fire signages, 22.3ms\n",
      "Speed: 4.9ms preprocess, 22.3ms inference, 1.0ms postprocess per image at shape (1, 3, 640, 640)\n"
     ]
    },
    {
     "name": "stderr",
     "output_type": "stream",
     "text": [
      " 42%|████████████████████████████████▉                                              | 548/1315 [00:44<00:53, 14.44it/s]"
     ]
    },
    {
     "name": "stdout",
     "output_type": "stream",
     "text": [
      "\n",
      "0: 640x640 2 fire signages, 11.2ms\n",
      "Speed: 0.8ms preprocess, 11.2ms inference, 0.0ms postprocess per image at shape (1, 3, 640, 640)\n",
      "\n",
      "0: 640x640 2 fire signages, 22.2ms\n",
      "Speed: 4.3ms preprocess, 22.2ms inference, 1.0ms postprocess per image at shape (1, 3, 640, 640)\n"
     ]
    },
    {
     "name": "stderr",
     "output_type": "stream",
     "text": [
      " 42%|█████████████████████████████████                                              | 550/1315 [00:44<00:53, 14.43it/s]"
     ]
    },
    {
     "name": "stdout",
     "output_type": "stream",
     "text": [
      "\n",
      "0: 640x640 2 fire signages, 19.7ms\n",
      "Speed: 4.0ms preprocess, 19.7ms inference, 0.0ms postprocess per image at shape (1, 3, 640, 640)\n",
      "\n",
      "0: 640x640 2 fire signages, 20.5ms\n",
      "Speed: 4.4ms preprocess, 20.5ms inference, 0.0ms postprocess per image at shape (1, 3, 640, 640)\n"
     ]
    },
    {
     "name": "stderr",
     "output_type": "stream",
     "text": [
      " 42%|█████████████████████████████████▏                                             | 552/1315 [00:44<00:52, 14.63it/s]"
     ]
    },
    {
     "name": "stdout",
     "output_type": "stream",
     "text": [
      "\n",
      "0: 640x640 2 fire signages, 22.0ms\n",
      "Speed: 4.0ms preprocess, 22.0ms inference, 0.0ms postprocess per image at shape (1, 3, 640, 640)\n",
      "\n",
      "0: 640x640 2 fire signages, 15.6ms\n",
      "Speed: 5.1ms preprocess, 15.6ms inference, 0.0ms postprocess per image at shape (1, 3, 640, 640)\n"
     ]
    },
    {
     "name": "stderr",
     "output_type": "stream",
     "text": [
      " 42%|█████████████████████████████████▎                                             | 554/1315 [00:44<00:53, 14.35it/s]"
     ]
    },
    {
     "name": "stdout",
     "output_type": "stream",
     "text": [
      "\n",
      "0: 640x640 2 fire signages, 21.2ms\n",
      "Speed: 0.0ms preprocess, 21.2ms inference, 0.0ms postprocess per image at shape (1, 3, 640, 640)\n",
      "\n",
      "0: 640x640 5 fire signages, 21.7ms\n",
      "Speed: 5.0ms preprocess, 21.7ms inference, 1.0ms postprocess per image at shape (1, 3, 640, 640)\n"
     ]
    },
    {
     "name": "stderr",
     "output_type": "stream",
     "text": [
      " 42%|█████████████████████████████████▍                                             | 556/1315 [00:44<00:53, 14.06it/s]"
     ]
    },
    {
     "name": "stdout",
     "output_type": "stream",
     "text": [
      "\n",
      "0: 640x640 3 fire signages, 13.7ms\n",
      "Speed: 0.0ms preprocess, 13.7ms inference, 0.0ms postprocess per image at shape (1, 3, 640, 640)\n",
      "\n",
      "0: 640x640 2 fire signages, 22.2ms\n",
      "Speed: 4.8ms preprocess, 22.2ms inference, 0.0ms postprocess per image at shape (1, 3, 640, 640)\n"
     ]
    },
    {
     "name": "stderr",
     "output_type": "stream",
     "text": [
      " 42%|█████████████████████████████████▌                                             | 558/1315 [00:44<00:53, 14.16it/s]"
     ]
    },
    {
     "name": "stdout",
     "output_type": "stream",
     "text": [
      "\n",
      "0: 640x640 1 fire extinguisher, 20.8ms\n",
      "Speed: 4.0ms preprocess, 20.8ms inference, 0.0ms postprocess per image at shape (1, 3, 640, 640)\n",
      "\n",
      "0: 640x640 1 fire extinguisher, 26.7ms\n",
      "Speed: 0.0ms preprocess, 26.7ms inference, 1.0ms postprocess per image at shape (1, 3, 640, 640)\n"
     ]
    },
    {
     "name": "stderr",
     "output_type": "stream",
     "text": [
      " 43%|█████████████████████████████████▋                                             | 560/1315 [00:44<00:54, 13.97it/s]"
     ]
    },
    {
     "name": "stdout",
     "output_type": "stream",
     "text": [
      "\n",
      "0: 640x640 1 fire extinguisher, 7.1ms\n",
      "Speed: 4.0ms preprocess, 7.1ms inference, 16.0ms postprocess per image at shape (1, 3, 640, 640)\n",
      "\n",
      "0: 640x640 1 fire extinguisher, 23.0ms\n",
      "Speed: 3.7ms preprocess, 23.0ms inference, 1.0ms postprocess per image at shape (1, 3, 640, 640)\n"
     ]
    },
    {
     "name": "stderr",
     "output_type": "stream",
     "text": [
      " 43%|█████████████████████████████████▊                                             | 562/1315 [00:45<00:52, 14.29it/s]"
     ]
    },
    {
     "name": "stdout",
     "output_type": "stream",
     "text": [
      "\n",
      "0: 640x640 1 fire extinguisher, 8.2ms\n",
      "Speed: 4.0ms preprocess, 8.2ms inference, 15.6ms postprocess per image at shape (1, 3, 640, 640)\n",
      "\n",
      "0: 640x640 1 fire extinguisher, 1 fire signage, 22.9ms\n",
      "Speed: 4.8ms preprocess, 22.9ms inference, 1.0ms postprocess per image at shape (1, 3, 640, 640)\n"
     ]
    },
    {
     "name": "stderr",
     "output_type": "stream",
     "text": [
      " 43%|█████████████████████████████████▉                                             | 564/1315 [00:45<00:52, 14.37it/s]"
     ]
    },
    {
     "name": "stdout",
     "output_type": "stream",
     "text": [
      "\n",
      "0: 640x640 1 fire signage, 19.7ms\n",
      "Speed: 4.0ms preprocess, 19.7ms inference, 0.0ms postprocess per image at shape (1, 3, 640, 640)\n",
      "\n",
      "0: 640x640 1 fire signage, 19.8ms\n",
      "Speed: 4.5ms preprocess, 19.8ms inference, 0.0ms postprocess per image at shape (1, 3, 640, 640)\n"
     ]
    },
    {
     "name": "stderr",
     "output_type": "stream",
     "text": [
      " 43%|██████████████████████████████████                                             | 566/1315 [00:45<00:51, 14.48it/s]"
     ]
    },
    {
     "name": "stdout",
     "output_type": "stream",
     "text": [
      "\n",
      "0: 640x640 1 fire extinguisher, 17.0ms\n",
      "Speed: 5.0ms preprocess, 17.0ms inference, 0.0ms postprocess per image at shape (1, 3, 640, 640)\n",
      "\n",
      "0: 640x640 2 fire extinguishers, 1 fire signage, 17.7ms\n",
      "Speed: 4.4ms preprocess, 17.7ms inference, 0.0ms postprocess per image at shape (1, 3, 640, 640)\n"
     ]
    },
    {
     "name": "stderr",
     "output_type": "stream",
     "text": [
      " 43%|██████████████████████████████████                                             | 568/1315 [00:45<00:51, 14.54it/s]"
     ]
    },
    {
     "name": "stdout",
     "output_type": "stream",
     "text": [
      "\n",
      "0: 640x640 1 fire extinguisher, 15.7ms\n",
      "Speed: 3.3ms preprocess, 15.7ms inference, 0.0ms postprocess per image at shape (1, 3, 640, 640)\n",
      "\n",
      "0: 640x640 1 fire extinguisher, 26.3ms\n",
      "Speed: 1.1ms preprocess, 26.3ms inference, 1.0ms postprocess per image at shape (1, 3, 640, 640)\n"
     ]
    },
    {
     "name": "stderr",
     "output_type": "stream",
     "text": [
      " 43%|██████████████████████████████████▏                                            | 570/1315 [00:45<00:51, 14.59it/s]"
     ]
    },
    {
     "name": "stdout",
     "output_type": "stream",
     "text": [
      "\n",
      "0: 640x640 1 fire extinguisher, 16.3ms\n",
      "Speed: 1.0ms preprocess, 16.3ms inference, 13.3ms postprocess per image at shape (1, 3, 640, 640)\n",
      "\n",
      "0: 640x640 1 fire extinguisher, 22.4ms\n",
      "Speed: 4.3ms preprocess, 22.4ms inference, 1.0ms postprocess per image at shape (1, 3, 640, 640)\n"
     ]
    },
    {
     "name": "stderr",
     "output_type": "stream",
     "text": [
      " 43%|██████████████████████████████████▎                                            | 572/1315 [00:45<00:50, 14.59it/s]"
     ]
    },
    {
     "name": "stdout",
     "output_type": "stream",
     "text": [
      "\n",
      "0: 640x640 1 fire extinguisher, 8.5ms\n",
      "Speed: 4.0ms preprocess, 8.5ms inference, 16.3ms postprocess per image at shape (1, 3, 640, 640)\n",
      "\n",
      "0: 640x640 1 fire extinguisher, 22.8ms\n",
      "Speed: 3.0ms preprocess, 22.8ms inference, 1.0ms postprocess per image at shape (1, 3, 640, 640)\n"
     ]
    },
    {
     "name": "stderr",
     "output_type": "stream",
     "text": [
      " 44%|██████████████████████████████████▍                                            | 574/1315 [00:45<00:50, 14.68it/s]"
     ]
    },
    {
     "name": "stdout",
     "output_type": "stream",
     "text": [
      "\n",
      "0: 640x640 1 fire extinguisher, 8.5ms\n",
      "Speed: 4.0ms preprocess, 8.5ms inference, 0.0ms postprocess per image at shape (1, 3, 640, 640)\n",
      "\n",
      "0: 640x640 1 fire extinguisher, 25.4ms\n",
      "Speed: 4.9ms preprocess, 25.4ms inference, 1.0ms postprocess per image at shape (1, 3, 640, 640)\n"
     ]
    },
    {
     "name": "stderr",
     "output_type": "stream",
     "text": [
      " 44%|██████████████████████████████████▌                                            | 576/1315 [00:45<00:49, 14.87it/s]"
     ]
    },
    {
     "name": "stdout",
     "output_type": "stream",
     "text": [
      "\n",
      "0: 640x640 1 fire signage, 2 helmets, 22.3ms\n",
      "Speed: 4.0ms preprocess, 22.3ms inference, 1.0ms postprocess per image at shape (1, 3, 640, 640)\n",
      "\n",
      "0: 640x640 1 fire extinguisher, 1 fire signage, 2 helmets, 22.4ms\n",
      "Speed: 4.4ms preprocess, 22.4ms inference, 1.0ms postprocess per image at shape (1, 3, 640, 640)\n"
     ]
    },
    {
     "name": "stderr",
     "output_type": "stream",
     "text": [
      " 44%|██████████████████████████████████▋                                            | 578/1315 [00:46<00:49, 14.95it/s]"
     ]
    },
    {
     "name": "stdout",
     "output_type": "stream",
     "text": [
      "\n",
      "0: 640x640 1 fire signage, 1 helmet, 11.5ms\n",
      "Speed: 4.1ms preprocess, 11.5ms inference, 0.0ms postprocess per image at shape (1, 3, 640, 640)\n",
      "\n",
      "0: 640x640 1 fire signage, 1 helmet, 22.5ms\n",
      "Speed: 4.5ms preprocess, 22.5ms inference, 1.0ms postprocess per image at shape (1, 3, 640, 640)\n"
     ]
    },
    {
     "name": "stderr",
     "output_type": "stream",
     "text": [
      " 44%|██████████████████████████████████▊                                            | 580/1315 [00:46<00:47, 15.36it/s]"
     ]
    },
    {
     "name": "stdout",
     "output_type": "stream",
     "text": [
      "\n",
      "0: 640x640 1 fire signage, 1 helmet, 21.0ms\n",
      "Speed: 4.0ms preprocess, 21.0ms inference, 0.0ms postprocess per image at shape (1, 3, 640, 640)\n",
      "\n",
      "0: 640x640 1 fire signage, 1 helmet, 22.8ms\n",
      "Speed: 3.9ms preprocess, 22.8ms inference, 1.0ms postprocess per image at shape (1, 3, 640, 640)\n"
     ]
    },
    {
     "name": "stderr",
     "output_type": "stream",
     "text": [
      " 44%|██████████████████████████████████▉                                            | 582/1315 [00:46<00:47, 15.57it/s]"
     ]
    },
    {
     "name": "stdout",
     "output_type": "stream",
     "text": [
      "\n",
      "0: 640x640 1 fire signage, 1 helmet, 15.5ms\n",
      "Speed: 3.3ms preprocess, 15.5ms inference, 0.0ms postprocess per image at shape (1, 3, 640, 640)\n",
      "\n",
      "0: 640x640 1 fire signage, 1 helmet, 20.3ms\n",
      "Speed: 4.9ms preprocess, 20.3ms inference, 0.0ms postprocess per image at shape (1, 3, 640, 640)\n"
     ]
    },
    {
     "name": "stderr",
     "output_type": "stream",
     "text": [
      " 44%|███████████████████████████████████                                            | 584/1315 [00:46<00:46, 15.80it/s]"
     ]
    },
    {
     "name": "stdout",
     "output_type": "stream",
     "text": [
      "\n",
      "0: 640x640 1 fire signage, 1 helmet, 18.2ms\n",
      "Speed: 4.1ms preprocess, 18.2ms inference, 0.0ms postprocess per image at shape (1, 3, 640, 640)\n",
      "\n",
      "0: 640x640 1 fire signage, 21.9ms\n",
      "Speed: 3.2ms preprocess, 21.9ms inference, 1.0ms postprocess per image at shape (1, 3, 640, 640)\n"
     ]
    },
    {
     "name": "stderr",
     "output_type": "stream",
     "text": [
      " 45%|███████████████████████████████████▏                                           | 586/1315 [00:46<00:45, 16.07it/s]"
     ]
    },
    {
     "name": "stdout",
     "output_type": "stream",
     "text": [
      "\n",
      "0: 640x640 1 fire signage, 7.5ms\n",
      "Speed: 4.0ms preprocess, 7.5ms inference, 0.6ms postprocess per image at shape (1, 3, 640, 640)\n",
      "\n",
      "0: 640x640 1 fire signage, 1 helmet, 22.3ms\n",
      "Speed: 4.9ms preprocess, 22.3ms inference, 1.0ms postprocess per image at shape (1, 3, 640, 640)\n"
     ]
    },
    {
     "name": "stderr",
     "output_type": "stream",
     "text": [
      " 45%|███████████████████████████████████▎                                           | 588/1315 [00:46<00:45, 16.06it/s]"
     ]
    },
    {
     "name": "stdout",
     "output_type": "stream",
     "text": [
      "\n",
      "0: 640x640 1 fire signage, 2 helmets, 15.6ms\n",
      "Speed: 3.5ms preprocess, 15.6ms inference, 0.0ms postprocess per image at shape (1, 3, 640, 640)\n",
      "\n",
      "0: 640x640 1 fire signage, 24.1ms\n",
      "Speed: 2.6ms preprocess, 24.1ms inference, 1.0ms postprocess per image at shape (1, 3, 640, 640)\n"
     ]
    },
    {
     "name": "stderr",
     "output_type": "stream",
     "text": [
      " 45%|███████████████████████████████████▍                                           | 590/1315 [00:46<00:45, 15.88it/s]"
     ]
    },
    {
     "name": "stdout",
     "output_type": "stream",
     "text": [
      "\n",
      "0: 640x640 1 fire extinguisher, 1 fire signage, 1 helmet, 24.1ms\n",
      "Speed: 4.0ms preprocess, 24.1ms inference, 1.0ms postprocess per image at shape (1, 3, 640, 640)\n",
      "\n",
      "0: 640x640 1 fire signage, 3 helmets, 23.0ms\n",
      "Speed: 3.0ms preprocess, 23.0ms inference, 0.0ms postprocess per image at shape (1, 3, 640, 640)\n"
     ]
    },
    {
     "name": "stderr",
     "output_type": "stream",
     "text": [
      " 45%|███████████████████████████████████▌                                           | 592/1315 [00:46<00:46, 15.66it/s]"
     ]
    },
    {
     "name": "stdout",
     "output_type": "stream",
     "text": [
      "\n",
      "0: 640x640 1 fire signage, 2 helmets, 19.8ms\n",
      "Speed: 3.7ms preprocess, 19.8ms inference, 0.0ms postprocess per image at shape (1, 3, 640, 640)\n",
      "\n",
      "0: 640x640 1 fire signage, 2 helmets, 22.6ms\n",
      "Speed: 4.6ms preprocess, 22.6ms inference, 0.0ms postprocess per image at shape (1, 3, 640, 640)\n"
     ]
    },
    {
     "name": "stderr",
     "output_type": "stream",
     "text": [
      " 45%|███████████████████████████████████▋                                           | 594/1315 [00:47<00:46, 15.63it/s]"
     ]
    },
    {
     "name": "stdout",
     "output_type": "stream",
     "text": [
      "\n",
      "0: 640x640 1 fire signage, 1 helmet, 9.5ms\n",
      "Speed: 4.1ms preprocess, 9.5ms inference, 0.0ms postprocess per image at shape (1, 3, 640, 640)\n",
      "\n",
      "0: 640x640 1 fire extinguisher, 1 fire signage, 2 helmets, 21.8ms\n",
      "Speed: 5.2ms preprocess, 21.8ms inference, 1.0ms postprocess per image at shape (1, 3, 640, 640)\n"
     ]
    },
    {
     "name": "stderr",
     "output_type": "stream",
     "text": [
      " 45%|███████████████████████████████████▊                                           | 596/1315 [00:47<00:45, 15.70it/s]"
     ]
    },
    {
     "name": "stdout",
     "output_type": "stream",
     "text": [
      "\n",
      "0: 640x640 1 fire signage, 1 helmet, 15.9ms\n",
      "Speed: 4.6ms preprocess, 15.9ms inference, 0.0ms postprocess per image at shape (1, 3, 640, 640)\n",
      "\n",
      "0: 640x640 1 fire signage, 2 helmets, 20.9ms\n",
      "Speed: 3.3ms preprocess, 20.9ms inference, 0.0ms postprocess per image at shape (1, 3, 640, 640)\n"
     ]
    },
    {
     "name": "stderr",
     "output_type": "stream",
     "text": [
      " 45%|███████████████████████████████████▉                                           | 598/1315 [00:47<00:45, 15.80it/s]"
     ]
    },
    {
     "name": "stdout",
     "output_type": "stream",
     "text": [
      "\n",
      "0: 640x640 1 fire signage, 21.1ms\n",
      "Speed: 4.0ms preprocess, 21.1ms inference, 3.3ms postprocess per image at shape (1, 3, 640, 640)\n",
      "\n",
      "0: 640x640 1 fire signage, 3 helmets, 21.9ms\n",
      "Speed: 4.2ms preprocess, 21.9ms inference, 1.0ms postprocess per image at shape (1, 3, 640, 640)\n"
     ]
    },
    {
     "name": "stderr",
     "output_type": "stream",
     "text": [
      " 46%|████████████████████████████████████                                           | 600/1315 [00:47<00:44, 15.92it/s]"
     ]
    },
    {
     "name": "stdout",
     "output_type": "stream",
     "text": [
      "\n",
      "0: 640x640 1 fire signage, 3 helmets, 15.6ms\n",
      "Speed: 5.1ms preprocess, 15.6ms inference, 0.0ms postprocess per image at shape (1, 3, 640, 640)\n",
      "\n",
      "0: 640x640 1 fire signage, 1 helmet, 19.4ms\n",
      "Speed: 4.6ms preprocess, 19.4ms inference, 0.0ms postprocess per image at shape (1, 3, 640, 640)\n"
     ]
    },
    {
     "name": "stderr",
     "output_type": "stream",
     "text": [
      " 46%|████████████████████████████████████▏                                          | 602/1315 [00:47<00:45, 15.77it/s]"
     ]
    },
    {
     "name": "stdout",
     "output_type": "stream",
     "text": [
      "\n",
      "0: 640x640 1 fire signage, 1 helmet, 21.3ms\n",
      "Speed: 5.2ms preprocess, 21.3ms inference, 0.0ms postprocess per image at shape (1, 3, 640, 640)\n",
      "\n",
      "0: 640x640 1 fire signage, 1 helmet, 21.4ms\n",
      "Speed: 4.4ms preprocess, 21.4ms inference, 1.0ms postprocess per image at shape (1, 3, 640, 640)\n"
     ]
    },
    {
     "name": "stderr",
     "output_type": "stream",
     "text": [
      " 46%|████████████████████████████████████▎                                          | 604/1315 [00:47<00:44, 15.93it/s]"
     ]
    },
    {
     "name": "stdout",
     "output_type": "stream",
     "text": [
      "\n",
      "0: 640x640 1 fire signage, 2 helmets, 16.4ms\n",
      "Speed: 4.0ms preprocess, 16.4ms inference, 0.0ms postprocess per image at shape (1, 3, 640, 640)\n",
      "\n",
      "0: 640x640 1 fire signage, 2 helmets, 20.1ms\n",
      "Speed: 5.1ms preprocess, 20.1ms inference, 0.0ms postprocess per image at shape (1, 3, 640, 640)\n"
     ]
    },
    {
     "name": "stderr",
     "output_type": "stream",
     "text": [
      " 46%|████████████████████████████████████▍                                          | 606/1315 [00:47<00:44, 16.05it/s]"
     ]
    },
    {
     "name": "stdout",
     "output_type": "stream",
     "text": [
      "\n",
      "0: 640x640 1 fire signage, 2 helmets, 20.5ms\n",
      "Speed: 3.0ms preprocess, 20.5ms inference, 0.0ms postprocess per image at shape (1, 3, 640, 640)\n",
      "\n",
      "0: 640x640 1 fire signage, 1 helmet, 26.3ms\n",
      "Speed: 4.7ms preprocess, 26.3ms inference, 1.0ms postprocess per image at shape (1, 3, 640, 640)\n"
     ]
    },
    {
     "name": "stderr",
     "output_type": "stream",
     "text": [
      " 46%|████████████████████████████████████▌                                          | 608/1315 [00:47<00:44, 15.94it/s]"
     ]
    },
    {
     "name": "stdout",
     "output_type": "stream",
     "text": [
      "\n",
      "0: 640x640 1 fire extinguisher, 6 fire signages, 22.6ms\n",
      "Speed: 4.4ms preprocess, 22.6ms inference, 1.0ms postprocess per image at shape (1, 3, 640, 640)\n",
      "\n",
      "0: 640x640 1 fire extinguisher, 6 fire signages, 33.6ms\n",
      "Speed: 0.0ms preprocess, 33.6ms inference, 1.0ms postprocess per image at shape (1, 3, 640, 640)\n"
     ]
    },
    {
     "name": "stderr",
     "output_type": "stream",
     "text": [
      " 46%|████████████████████████████████████▋                                          | 610/1315 [00:48<00:46, 15.19it/s]"
     ]
    },
    {
     "name": "stdout",
     "output_type": "stream",
     "text": [
      "\n",
      "0: 640x640 1 fire extinguisher, 6 fire signages, 20.0ms\n",
      "Speed: 4.0ms preprocess, 20.0ms inference, 0.0ms postprocess per image at shape (1, 3, 640, 640)\n",
      "\n",
      "0: 640x640 1 fire extinguisher, 5 fire signages, 19.9ms\n",
      "Speed: 5.0ms preprocess, 19.9ms inference, 0.0ms postprocess per image at shape (1, 3, 640, 640)\n"
     ]
    },
    {
     "name": "stderr",
     "output_type": "stream",
     "text": [
      " 47%|████████████████████████████████████▊                                          | 612/1315 [00:48<00:46, 15.04it/s]"
     ]
    },
    {
     "name": "stdout",
     "output_type": "stream",
     "text": [
      "\n",
      "0: 640x640 1 fire extinguisher, 6 fire signages, 16.7ms\n",
      "Speed: 4.0ms preprocess, 16.7ms inference, 0.0ms postprocess per image at shape (1, 3, 640, 640)\n",
      "\n",
      "0: 640x640 1 fire extinguisher, 6 fire signages, 27.1ms\n",
      "Speed: 0.0ms preprocess, 27.1ms inference, 1.0ms postprocess per image at shape (1, 3, 640, 640)\n"
     ]
    },
    {
     "name": "stderr",
     "output_type": "stream",
     "text": [
      " 47%|████████████████████████████████████▉                                          | 614/1315 [00:48<00:47, 14.75it/s]"
     ]
    },
    {
     "name": "stdout",
     "output_type": "stream",
     "text": [
      "\n",
      "0: 640x640 1 fire extinguisher, 6 fire signages, 9.5ms\n",
      "Speed: 4.0ms preprocess, 9.5ms inference, 0.0ms postprocess per image at shape (1, 3, 640, 640)\n",
      "\n",
      "0: 640x640 1 fire extinguisher, 6 fire signages, 22.4ms\n",
      "Speed: 3.3ms preprocess, 22.4ms inference, 1.0ms postprocess per image at shape (1, 3, 640, 640)\n"
     ]
    },
    {
     "name": "stderr",
     "output_type": "stream",
     "text": [
      " 47%|█████████████████████████████████████                                          | 616/1315 [00:48<00:47, 14.80it/s]"
     ]
    },
    {
     "name": "stdout",
     "output_type": "stream",
     "text": [
      "\n",
      "0: 640x640 1 fire extinguisher, 6 fire signages, 24.0ms\n",
      "Speed: 4.0ms preprocess, 24.0ms inference, 1.6ms postprocess per image at shape (1, 3, 640, 640)\n",
      "\n",
      "0: 640x640 1 fire extinguisher, 6 fire signages, 21.9ms\n",
      "Speed: 4.9ms preprocess, 21.9ms inference, 0.4ms postprocess per image at shape (1, 3, 640, 640)\n"
     ]
    },
    {
     "name": "stderr",
     "output_type": "stream",
     "text": [
      " 47%|█████████████████████████████████████▏                                         | 618/1315 [00:48<00:47, 14.76it/s]"
     ]
    },
    {
     "name": "stdout",
     "output_type": "stream",
     "text": [
      "\n",
      "0: 640x640 1 fire extinguisher, 6 fire signages, 20.9ms\n",
      "Speed: 3.5ms preprocess, 20.9ms inference, 0.0ms postprocess per image at shape (1, 3, 640, 640)\n",
      "\n",
      "0: 640x640 1 fire extinguisher, 6 fire signages, 22.2ms\n",
      "Speed: 3.9ms preprocess, 22.2ms inference, 0.0ms postprocess per image at shape (1, 3, 640, 640)\n"
     ]
    },
    {
     "name": "stderr",
     "output_type": "stream",
     "text": [
      " 47%|█████████████████████████████████████▏                                         | 620/1315 [00:48<00:46, 14.80it/s]"
     ]
    },
    {
     "name": "stdout",
     "output_type": "stream",
     "text": [
      "\n",
      "0: 640x640 1 fire extinguisher, 6 fire signages, 20.0ms\n",
      "Speed: 4.0ms preprocess, 20.0ms inference, 0.0ms postprocess per image at shape (1, 3, 640, 640)\n",
      "\n",
      "0: 640x640 1 fire extinguisher, 6 fire signages, 19.1ms\n",
      "Speed: 4.1ms preprocess, 19.1ms inference, 0.0ms postprocess per image at shape (1, 3, 640, 640)\n"
     ]
    },
    {
     "name": "stderr",
     "output_type": "stream",
     "text": [
      " 47%|█████████████████████████████████████▎                                         | 622/1315 [00:48<00:46, 14.74it/s]"
     ]
    },
    {
     "name": "stdout",
     "output_type": "stream",
     "text": [
      "\n",
      "0: 640x640 1 fire extinguisher, 5 fire signages, 16.4ms\n",
      "Speed: 4.0ms preprocess, 16.4ms inference, 0.0ms postprocess per image at shape (1, 3, 640, 640)\n",
      "\n",
      "0: 640x640 1 fire extinguisher, 6 fire signages, 16.5ms\n",
      "Speed: 4.6ms preprocess, 16.5ms inference, 0.0ms postprocess per image at shape (1, 3, 640, 640)\n"
     ]
    },
    {
     "name": "stderr",
     "output_type": "stream",
     "text": [
      " 47%|█████████████████████████████████████▍                                         | 624/1315 [00:49<00:46, 14.72it/s]"
     ]
    },
    {
     "name": "stdout",
     "output_type": "stream",
     "text": [
      "\n",
      "0: 640x640 1 fire extinguisher, 5 fire signages, 24.4ms\n",
      "Speed: 1.9ms preprocess, 24.4ms inference, 0.7ms postprocess per image at shape (1, 3, 640, 640)\n",
      "\n",
      "0: 640x640 1 fire extinguisher, 6 fire signages, 24.3ms\n",
      "Speed: 3.3ms preprocess, 24.3ms inference, 1.0ms postprocess per image at shape (1, 3, 640, 640)\n"
     ]
    },
    {
     "name": "stderr",
     "output_type": "stream",
     "text": [
      " 48%|█████████████████████████████████████▌                                         | 626/1315 [00:49<00:48, 14.25it/s]"
     ]
    },
    {
     "name": "stdout",
     "output_type": "stream",
     "text": [
      "\n",
      "0: 640x640 1 fire extinguisher, 5 fire signages, 15.6ms\n",
      "Speed: 0.0ms preprocess, 15.6ms inference, 0.0ms postprocess per image at shape (1, 3, 640, 640)\n",
      "\n",
      "0: 640x640 1 fire extinguisher, 6 fire signages, 17.2ms\n",
      "Speed: 5.0ms preprocess, 17.2ms inference, 0.0ms postprocess per image at shape (1, 3, 640, 640)\n"
     ]
    },
    {
     "name": "stderr",
     "output_type": "stream",
     "text": [
      " 48%|█████████████████████████████████████▋                                         | 628/1315 [00:49<00:49, 13.93it/s]"
     ]
    },
    {
     "name": "stdout",
     "output_type": "stream",
     "text": [
      "\n",
      "0: 640x640 1 fire extinguisher, 6 fire signages, 16.0ms\n",
      "Speed: 0.0ms preprocess, 16.0ms inference, 0.0ms postprocess per image at shape (1, 3, 640, 640)\n",
      "\n",
      "0: 640x640 1 fire extinguisher, 6 fire signages, 22.7ms\n",
      "Speed: 4.4ms preprocess, 22.7ms inference, 1.0ms postprocess per image at shape (1, 3, 640, 640)\n"
     ]
    },
    {
     "name": "stderr",
     "output_type": "stream",
     "text": [
      " 48%|█████████████████████████████████████▊                                         | 630/1315 [00:49<00:48, 14.08it/s]"
     ]
    },
    {
     "name": "stdout",
     "output_type": "stream",
     "text": [
      "\n",
      "0: 640x640 1 fire extinguisher, 6 fire signages, 20.2ms\n",
      "Speed: 4.3ms preprocess, 20.2ms inference, 0.0ms postprocess per image at shape (1, 3, 640, 640)\n",
      "\n",
      "0: 640x640 1 fire extinguisher, 5 fire signages, 22.4ms\n",
      "Speed: 4.8ms preprocess, 22.4ms inference, 0.0ms postprocess per image at shape (1, 3, 640, 640)\n"
     ]
    },
    {
     "name": "stderr",
     "output_type": "stream",
     "text": [
      " 48%|█████████████████████████████████████▉                                         | 632/1315 [00:49<00:47, 14.25it/s]"
     ]
    },
    {
     "name": "stdout",
     "output_type": "stream",
     "text": [
      "\n",
      "0: 640x640 1 fire extinguisher, 6 fire signages, 20.8ms\n",
      "Speed: 4.0ms preprocess, 20.8ms inference, 0.0ms postprocess per image at shape (1, 3, 640, 640)\n",
      "\n",
      "0: 640x640 1 fire extinguisher, 6 fire signages, 19.8ms\n",
      "Speed: 3.4ms preprocess, 19.8ms inference, 0.0ms postprocess per image at shape (1, 3, 640, 640)\n"
     ]
    },
    {
     "name": "stderr",
     "output_type": "stream",
     "text": [
      " 48%|██████████████████████████████████████                                         | 634/1315 [00:49<00:47, 14.33it/s]"
     ]
    },
    {
     "name": "stdout",
     "output_type": "stream",
     "text": [
      "\n",
      "0: 640x640 1 fire extinguisher, 6 fire signages, 16.3ms\n",
      "Speed: 4.1ms preprocess, 16.3ms inference, 0.0ms postprocess per image at shape (1, 3, 640, 640)\n",
      "\n",
      "0: 640x640 1 fire extinguisher, 5 fire signages, 21.6ms\n",
      "Speed: 4.7ms preprocess, 21.6ms inference, 1.0ms postprocess per image at shape (1, 3, 640, 640)\n"
     ]
    },
    {
     "name": "stderr",
     "output_type": "stream",
     "text": [
      " 48%|██████████████████████████████████████▏                                        | 636/1315 [00:49<00:47, 14.40it/s]"
     ]
    },
    {
     "name": "stdout",
     "output_type": "stream",
     "text": [
      "\n",
      "0: 640x640 1 fire extinguisher, 6 fire signages, 15.3ms\n",
      "Speed: 0.0ms preprocess, 15.3ms inference, 0.0ms postprocess per image at shape (1, 3, 640, 640)\n",
      "\n",
      "0: 640x640 1 fire extinguisher, 5 fire signages, 20.3ms\n",
      "Speed: 4.0ms preprocess, 20.3ms inference, 0.0ms postprocess per image at shape (1, 3, 640, 640)\n"
     ]
    },
    {
     "name": "stderr",
     "output_type": "stream",
     "text": [
      " 49%|██████████████████████████████████████▎                                        | 638/1315 [00:50<00:47, 14.21it/s]"
     ]
    },
    {
     "name": "stdout",
     "output_type": "stream",
     "text": [
      "\n",
      "0: 640x640 1 fire extinguisher, 6 fire signages, 15.8ms\n",
      "Speed: 4.0ms preprocess, 15.8ms inference, 0.0ms postprocess per image at shape (1, 3, 640, 640)\n",
      "\n",
      "0: 640x640 1 fire extinguisher, 6 fire signages, 16.5ms\n",
      "Speed: 4.4ms preprocess, 16.5ms inference, 0.0ms postprocess per image at shape (1, 3, 640, 640)\n"
     ]
    },
    {
     "name": "stderr",
     "output_type": "stream",
     "text": [
      " 49%|██████████████████████████████████████▍                                        | 640/1315 [00:50<00:47, 14.32it/s]"
     ]
    },
    {
     "name": "stdout",
     "output_type": "stream",
     "text": [
      "\n",
      "0: 640x640 1 fire extinguisher, 6 fire signages, 14.0ms\n",
      "Speed: 2.7ms preprocess, 14.0ms inference, 0.0ms postprocess per image at shape (1, 3, 640, 640)\n",
      "\n",
      "0: 640x640 1 fire extinguisher, 6 fire signages, 24.6ms\n",
      "Speed: 3.1ms preprocess, 24.6ms inference, 1.0ms postprocess per image at shape (1, 3, 640, 640)\n"
     ]
    },
    {
     "name": "stderr",
     "output_type": "stream",
     "text": [
      " 49%|██████████████████████████████████████▌                                        | 642/1315 [00:50<00:46, 14.45it/s]"
     ]
    },
    {
     "name": "stdout",
     "output_type": "stream",
     "text": [
      "\n",
      "0: 640x640 1 fire extinguisher, 6 fire signages, 26.0ms\n",
      "Speed: 1.1ms preprocess, 26.0ms inference, 3.5ms postprocess per image at shape (1, 3, 640, 640)\n",
      "\n",
      "0: 640x640 1 fire extinguisher, 6 fire signages, 23.2ms\n",
      "Speed: 3.5ms preprocess, 23.2ms inference, 1.0ms postprocess per image at shape (1, 3, 640, 640)\n"
     ]
    },
    {
     "name": "stderr",
     "output_type": "stream",
     "text": [
      " 49%|██████████████████████████████████████▋                                        | 644/1315 [00:50<00:46, 14.46it/s]"
     ]
    },
    {
     "name": "stdout",
     "output_type": "stream",
     "text": [
      "\n",
      "0: 640x640 1 fire extinguisher, 5 fire signages, 22.3ms\n",
      "Speed: 4.0ms preprocess, 22.3ms inference, 0.7ms postprocess per image at shape (1, 3, 640, 640)\n",
      "\n",
      "0: 640x640 1 fire extinguisher, 6 fire signages, 22.8ms\n",
      "Speed: 3.4ms preprocess, 22.8ms inference, 1.1ms postprocess per image at shape (1, 3, 640, 640)\n"
     ]
    },
    {
     "name": "stderr",
     "output_type": "stream",
     "text": [
      " 49%|██████████████████████████████████████▊                                        | 646/1315 [00:50<00:46, 14.54it/s]"
     ]
    },
    {
     "name": "stdout",
     "output_type": "stream",
     "text": [
      "\n",
      "0: 640x640 1 fire extinguisher, 6 fire signages, 20.9ms\n",
      "Speed: 4.0ms preprocess, 20.9ms inference, 0.0ms postprocess per image at shape (1, 3, 640, 640)\n",
      "\n",
      "0: 640x640 1 fire extinguisher, 6 fire signages, 18.6ms\n",
      "Speed: 6.0ms preprocess, 18.6ms inference, 0.0ms postprocess per image at shape (1, 3, 640, 640)\n"
     ]
    },
    {
     "name": "stderr",
     "output_type": "stream",
     "text": [
      " 49%|██████████████████████████████████████▉                                        | 648/1315 [00:50<00:46, 14.38it/s]"
     ]
    },
    {
     "name": "stdout",
     "output_type": "stream",
     "text": [
      "\n",
      "0: 640x640 1 fire extinguisher, 6 fire signages, 14.1ms\n",
      "Speed: 0.0ms preprocess, 14.1ms inference, 0.0ms postprocess per image at shape (1, 3, 640, 640)\n",
      "\n",
      "0: 640x640 1 fire extinguisher, 6 fire signages, 21.8ms\n",
      "Speed: 3.4ms preprocess, 21.8ms inference, 0.0ms postprocess per image at shape (1, 3, 640, 640)\n"
     ]
    },
    {
     "name": "stderr",
     "output_type": "stream",
     "text": [
      " 49%|███████████████████████████████████████                                        | 650/1315 [00:50<00:46, 14.16it/s]"
     ]
    },
    {
     "name": "stdout",
     "output_type": "stream",
     "text": [
      "\n",
      "0: 640x640 1 fire extinguisher, 6 fire signages, 14.7ms\n",
      "Speed: 4.4ms preprocess, 14.7ms inference, 0.0ms postprocess per image at shape (1, 3, 640, 640)\n",
      "\n",
      "0: 640x640 1 fire extinguisher, 6 fire signages, 22.1ms\n",
      "Speed: 4.7ms preprocess, 22.1ms inference, 1.0ms postprocess per image at shape (1, 3, 640, 640)\n"
     ]
    },
    {
     "name": "stderr",
     "output_type": "stream",
     "text": [
      " 50%|███████████████████████████████████████▏                                       | 652/1315 [00:51<00:46, 14.15it/s]"
     ]
    },
    {
     "name": "stdout",
     "output_type": "stream",
     "text": [
      "\n",
      "0: 640x640 1 fire extinguisher, 6 fire signages, 22.6ms\n",
      "Speed: 4.0ms preprocess, 22.6ms inference, 4.8ms postprocess per image at shape (1, 3, 640, 640)\n",
      "\n",
      "0: 640x640 1 fire extinguisher, 6 fire signages, 16.5ms\n",
      "Speed: 5.5ms preprocess, 16.5ms inference, 0.0ms postprocess per image at shape (1, 3, 640, 640)\n"
     ]
    },
    {
     "name": "stderr",
     "output_type": "stream",
     "text": [
      " 50%|███████████████████████████████████████▎                                       | 654/1315 [00:51<00:47, 13.99it/s]"
     ]
    },
    {
     "name": "stdout",
     "output_type": "stream",
     "text": [
      "\n",
      "0: 640x640 1 fire extinguisher, 6 fire signages, 23.4ms\n",
      "Speed: 5.0ms preprocess, 23.4ms inference, 1.0ms postprocess per image at shape (1, 3, 640, 640)\n",
      "\n",
      "0: 640x640 1 fire extinguisher, 6 fire signages, 20.0ms\n",
      "Speed: 4.5ms preprocess, 20.0ms inference, 1.3ms postprocess per image at shape (1, 3, 640, 640)\n"
     ]
    },
    {
     "name": "stderr",
     "output_type": "stream",
     "text": [
      " 50%|███████████████████████████████████████▍                                       | 656/1315 [00:51<00:46, 14.05it/s]"
     ]
    },
    {
     "name": "stdout",
     "output_type": "stream",
     "text": [
      "\n",
      "0: 640x640 1 fire extinguisher, 6 fire signages, 20.6ms\n",
      "Speed: 4.5ms preprocess, 20.6ms inference, 1.2ms postprocess per image at shape (1, 3, 640, 640)\n",
      "\n",
      "0: 640x640 1 fire extinguisher, 7 fire signages, 19.5ms\n",
      "Speed: 5.3ms preprocess, 19.5ms inference, 1.0ms postprocess per image at shape (1, 3, 640, 640)\n"
     ]
    },
    {
     "name": "stderr",
     "output_type": "stream",
     "text": [
      " 50%|███████████████████████████████████████▌                                       | 658/1315 [00:51<00:46, 14.20it/s]"
     ]
    },
    {
     "name": "stdout",
     "output_type": "stream",
     "text": [
      "\n",
      "0: 640x640 1 fire extinguisher, 22.5ms\n",
      "Speed: 5.0ms preprocess, 22.5ms inference, 1.0ms postprocess per image at shape (1, 3, 640, 640)\n",
      "\n",
      "0: 640x640 2 fire extinguishers, 22.3ms\n",
      "Speed: 5.2ms preprocess, 22.3ms inference, 1.0ms postprocess per image at shape (1, 3, 640, 640)\n"
     ]
    },
    {
     "name": "stderr",
     "output_type": "stream",
     "text": [
      " 50%|███████████████████████████████████████▋                                       | 660/1315 [00:51<00:47, 13.80it/s]"
     ]
    },
    {
     "name": "stdout",
     "output_type": "stream",
     "text": [
      "\n",
      "0: 640x640 2 fire extinguishers, 19.3ms\n",
      "Speed: 4.4ms preprocess, 19.3ms inference, 1.0ms postprocess per image at shape (1, 3, 640, 640)\n",
      "\n",
      "0: 640x640 2 fire extinguishers, 25.8ms\n",
      "Speed: 0.0ms preprocess, 25.8ms inference, 0.7ms postprocess per image at shape (1, 3, 640, 640)\n"
     ]
    },
    {
     "name": "stderr",
     "output_type": "stream",
     "text": [
      " 50%|███████████████████████████████████████▊                                       | 662/1315 [00:51<00:46, 14.06it/s]"
     ]
    },
    {
     "name": "stdout",
     "output_type": "stream",
     "text": [
      "\n",
      "0: 640x640 1 fire extinguisher, 22.8ms\n",
      "Speed: 5.3ms preprocess, 22.8ms inference, 1.7ms postprocess per image at shape (1, 3, 640, 640)\n",
      "\n",
      "0: 640x640 2 fire extinguishers, 18.9ms\n",
      "Speed: 4.2ms preprocess, 18.9ms inference, 1.0ms postprocess per image at shape (1, 3, 640, 640)\n"
     ]
    },
    {
     "name": "stderr",
     "output_type": "stream",
     "text": [
      " 50%|███████████████████████████████████████▉                                       | 664/1315 [00:51<00:45, 14.46it/s]"
     ]
    },
    {
     "name": "stdout",
     "output_type": "stream",
     "text": [
      "\n",
      "0: 640x640 2 fire extinguishers, 1 fire signage, 20.0ms\n",
      "Speed: 3.4ms preprocess, 20.0ms inference, 1.0ms postprocess per image at shape (1, 3, 640, 640)\n",
      "\n",
      "0: 640x640 2 fire extinguishers, 1 fire signage, 21.9ms\n",
      "Speed: 4.9ms preprocess, 21.9ms inference, 1.0ms postprocess per image at shape (1, 3, 640, 640)\n"
     ]
    },
    {
     "name": "stderr",
     "output_type": "stream",
     "text": [
      " 51%|████████████████████████████████████████                                       | 666/1315 [00:52<00:44, 14.53it/s]"
     ]
    },
    {
     "name": "stdout",
     "output_type": "stream",
     "text": [
      "\n",
      "0: 640x640 1 fire extinguisher, 1 fire signage, 19.0ms\n",
      "Speed: 3.9ms preprocess, 19.0ms inference, 1.0ms postprocess per image at shape (1, 3, 640, 640)\n",
      "\n",
      "0: 640x640 1 fire extinguisher, 1 fire signage, 21.2ms\n",
      "Speed: 4.0ms preprocess, 21.2ms inference, 1.0ms postprocess per image at shape (1, 3, 640, 640)\n"
     ]
    },
    {
     "name": "stderr",
     "output_type": "stream",
     "text": [
      " 51%|████████████████████████████████████████▏                                      | 668/1315 [00:52<00:44, 14.68it/s]"
     ]
    },
    {
     "name": "stdout",
     "output_type": "stream",
     "text": [
      "\n",
      "0: 640x640 1 fire extinguisher, 10.3ms\n",
      "Speed: 4.0ms preprocess, 10.3ms inference, 0.0ms postprocess per image at shape (1, 3, 640, 640)\n",
      "\n",
      "0: 640x640 1 fire extinguisher, 19.5ms\n",
      "Speed: 4.2ms preprocess, 19.5ms inference, 1.0ms postprocess per image at shape (1, 3, 640, 640)\n"
     ]
    },
    {
     "name": "stderr",
     "output_type": "stream",
     "text": [
      " 51%|████████████████████████████████████████▎                                      | 670/1315 [00:52<00:43, 14.76it/s]"
     ]
    },
    {
     "name": "stdout",
     "output_type": "stream",
     "text": [
      "\n",
      "0: 640x640 1 fire extinguisher, 19.1ms\n",
      "Speed: 4.0ms preprocess, 19.1ms inference, 1.0ms postprocess per image at shape (1, 3, 640, 640)\n",
      "\n",
      "0: 640x640 1 fire extinguisher, 17.8ms\n",
      "Speed: 4.2ms preprocess, 17.8ms inference, 0.0ms postprocess per image at shape (1, 3, 640, 640)\n"
     ]
    },
    {
     "name": "stderr",
     "output_type": "stream",
     "text": [
      " 51%|████████████████████████████████████████▎                                      | 672/1315 [00:52<00:42, 15.17it/s]"
     ]
    },
    {
     "name": "stdout",
     "output_type": "stream",
     "text": [
      "\n",
      "0: 640x640 1 fire extinguisher, 20.0ms\n",
      "Speed: 4.4ms preprocess, 20.0ms inference, 0.4ms postprocess per image at shape (1, 3, 640, 640)\n",
      "\n",
      "0: 640x640 1 fire extinguisher, 19.9ms\n",
      "Speed: 4.1ms preprocess, 19.9ms inference, 1.0ms postprocess per image at shape (1, 3, 640, 640)\n"
     ]
    },
    {
     "name": "stderr",
     "output_type": "stream",
     "text": [
      " 51%|████████████████████████████████████████▍                                      | 674/1315 [00:52<00:42, 15.21it/s]"
     ]
    },
    {
     "name": "stdout",
     "output_type": "stream",
     "text": [
      "\n",
      "0: 640x640 1 fire extinguisher, 18.9ms\n",
      "Speed: 4.5ms preprocess, 18.9ms inference, 1.3ms postprocess per image at shape (1, 3, 640, 640)\n",
      "\n",
      "0: 640x640 1 fire extinguisher, 20.1ms\n",
      "Speed: 3.7ms preprocess, 20.1ms inference, 1.0ms postprocess per image at shape (1, 3, 640, 640)\n"
     ]
    },
    {
     "name": "stderr",
     "output_type": "stream",
     "text": [
      " 51%|████████████████████████████████████████▌                                      | 676/1315 [00:52<00:41, 15.42it/s]"
     ]
    },
    {
     "name": "stdout",
     "output_type": "stream",
     "text": [
      "\n",
      "0: 640x640 1 fire extinguisher, 1 helmet, 22.1ms\n",
      "Speed: 4.4ms preprocess, 22.1ms inference, 1.0ms postprocess per image at shape (1, 3, 640, 640)\n",
      "\n",
      "0: 640x640 1 fire extinguisher, 1 helmet, 26.1ms\n",
      "Speed: 0.8ms preprocess, 26.1ms inference, 1.5ms postprocess per image at shape (1, 3, 640, 640)\n"
     ]
    },
    {
     "name": "stderr",
     "output_type": "stream",
     "text": [
      " 52%|████████████████████████████████████████▋                                      | 678/1315 [00:52<00:41, 15.24it/s]"
     ]
    },
    {
     "name": "stdout",
     "output_type": "stream",
     "text": [
      "\n",
      "0: 640x640 1 helmet, 22.8ms\n",
      "Speed: 4.0ms preprocess, 22.8ms inference, 1.0ms postprocess per image at shape (1, 3, 640, 640)\n",
      "\n",
      "0: 640x640 (no detections), 23.3ms\n",
      "Speed: 3.6ms preprocess, 23.3ms inference, 1.0ms postprocess per image at shape (1, 3, 640, 640)\n"
     ]
    },
    {
     "name": "stderr",
     "output_type": "stream",
     "text": [
      " 52%|████████████████████████████████████████▊                                      | 680/1315 [00:52<00:41, 15.33it/s]"
     ]
    },
    {
     "name": "stdout",
     "output_type": "stream",
     "text": [
      "\n",
      "0: 640x640 (no detections), 22.5ms\n",
      "Speed: 3.9ms preprocess, 22.5ms inference, 0.0ms postprocess per image at shape (1, 3, 640, 640)\n",
      "\n",
      "0: 640x640 (no detections), 22.1ms\n",
      "Speed: 4.0ms preprocess, 22.1ms inference, 1.0ms postprocess per image at shape (1, 3, 640, 640)\n"
     ]
    },
    {
     "name": "stderr",
     "output_type": "stream",
     "text": [
      " 52%|████████████████████████████████████████▉                                      | 682/1315 [00:53<00:40, 15.53it/s]"
     ]
    },
    {
     "name": "stdout",
     "output_type": "stream",
     "text": [
      "\n",
      "0: 640x640 (no detections), 22.6ms\n",
      "Speed: 4.1ms preprocess, 22.6ms inference, 0.7ms postprocess per image at shape (1, 3, 640, 640)\n",
      "\n",
      "0: 640x640 1 fire signage, 22.6ms\n",
      "Speed: 4.0ms preprocess, 22.6ms inference, 1.0ms postprocess per image at shape (1, 3, 640, 640)\n"
     ]
    },
    {
     "name": "stderr",
     "output_type": "stream",
     "text": [
      " 52%|█████████████████████████████████████████                                      | 684/1315 [00:53<00:40, 15.54it/s]"
     ]
    },
    {
     "name": "stdout",
     "output_type": "stream",
     "text": [
      "\n",
      "0: 640x640 1 fire signage, 23.7ms\n",
      "Speed: 4.0ms preprocess, 23.7ms inference, 1.6ms postprocess per image at shape (1, 3, 640, 640)\n",
      "\n",
      "0: 640x640 2 fire signages, 21.7ms\n",
      "Speed: 4.0ms preprocess, 21.7ms inference, 1.0ms postprocess per image at shape (1, 3, 640, 640)\n"
     ]
    },
    {
     "name": "stderr",
     "output_type": "stream",
     "text": [
      " 52%|█████████████████████████████████████████▏                                     | 686/1315 [00:53<00:41, 15.22it/s]"
     ]
    },
    {
     "name": "stdout",
     "output_type": "stream",
     "text": [
      "\n",
      "0: 640x640 1 fire signage, 24.4ms\n",
      "Speed: 4.0ms preprocess, 24.4ms inference, 0.0ms postprocess per image at shape (1, 3, 640, 640)\n",
      "\n",
      "0: 640x640 1 fire signage, 21.6ms\n",
      "Speed: 4.0ms preprocess, 21.6ms inference, 1.0ms postprocess per image at shape (1, 3, 640, 640)\n"
     ]
    },
    {
     "name": "stderr",
     "output_type": "stream",
     "text": [
      " 52%|█████████████████████████████████████████▎                                     | 688/1315 [00:53<00:41, 15.13it/s]"
     ]
    },
    {
     "name": "stdout",
     "output_type": "stream",
     "text": [
      "\n",
      "0: 640x640 1 fire signage, 22.6ms\n",
      "Speed: 4.0ms preprocess, 22.6ms inference, 2.0ms postprocess per image at shape (1, 3, 640, 640)\n",
      "\n",
      "0: 640x640 1 fire signage, 22.1ms\n",
      "Speed: 4.3ms preprocess, 22.1ms inference, 2.0ms postprocess per image at shape (1, 3, 640, 640)\n"
     ]
    },
    {
     "name": "stderr",
     "output_type": "stream",
     "text": [
      " 52%|█████████████████████████████████████████▍                                     | 690/1315 [00:53<00:41, 15.14it/s]"
     ]
    },
    {
     "name": "stdout",
     "output_type": "stream",
     "text": [
      "\n",
      "0: 640x640 1 fire signage, 22.2ms\n",
      "Speed: 3.8ms preprocess, 22.2ms inference, 1.0ms postprocess per image at shape (1, 3, 640, 640)\n",
      "\n",
      "0: 640x640 2 fire signages, 22.8ms\n",
      "Speed: 4.6ms preprocess, 22.8ms inference, 1.0ms postprocess per image at shape (1, 3, 640, 640)\n"
     ]
    },
    {
     "name": "stderr",
     "output_type": "stream",
     "text": [
      " 53%|█████████████████████████████████████████▌                                     | 692/1315 [00:53<00:41, 15.08it/s]"
     ]
    },
    {
     "name": "stdout",
     "output_type": "stream",
     "text": [
      "\n",
      "0: 640x640 2 fire signages, 22.4ms\n",
      "Speed: 5.0ms preprocess, 22.4ms inference, 2.1ms postprocess per image at shape (1, 3, 640, 640)\n",
      "\n",
      "0: 640x640 1 fire signage, 1 helmet, 22.2ms\n",
      "Speed: 4.5ms preprocess, 22.2ms inference, 1.0ms postprocess per image at shape (1, 3, 640, 640)\n"
     ]
    },
    {
     "name": "stderr",
     "output_type": "stream",
     "text": [
      " 53%|█████████████████████████████████████████▋                                     | 694/1315 [00:53<00:41, 14.85it/s]"
     ]
    },
    {
     "name": "stdout",
     "output_type": "stream",
     "text": [
      "\n",
      "0: 640x640 1 fire signage, 1 helmet, 23.4ms\n",
      "Speed: 3.6ms preprocess, 23.4ms inference, 1.0ms postprocess per image at shape (1, 3, 640, 640)\n",
      "\n",
      "0: 640x640 1 fire signage, 1 helmet, 21.6ms\n",
      "Speed: 5.0ms preprocess, 21.6ms inference, 1.0ms postprocess per image at shape (1, 3, 640, 640)\n"
     ]
    },
    {
     "name": "stderr",
     "output_type": "stream",
     "text": [
      " 53%|█████████████████████████████████████████▊                                     | 696/1315 [00:54<00:41, 14.76it/s]"
     ]
    },
    {
     "name": "stdout",
     "output_type": "stream",
     "text": [
      "\n",
      "0: 640x640 1 fire signage, 1 helmet, 18.9ms\n",
      "Speed: 4.2ms preprocess, 18.9ms inference, 0.0ms postprocess per image at shape (1, 3, 640, 640)\n",
      "\n",
      "0: 640x640 1 fire signage, 1 helmet, 29.4ms\n",
      "Speed: 2.3ms preprocess, 29.4ms inference, 1.0ms postprocess per image at shape (1, 3, 640, 640)\n"
     ]
    },
    {
     "name": "stderr",
     "output_type": "stream",
     "text": [
      " 53%|█████████████████████████████████████████▉                                     | 698/1315 [00:54<00:42, 14.46it/s]"
     ]
    },
    {
     "name": "stdout",
     "output_type": "stream",
     "text": [
      "\n",
      "0: 640x640 1 fire signage, 1 helmet, 28.3ms\n",
      "Speed: 0.8ms preprocess, 28.3ms inference, 0.0ms postprocess per image at shape (1, 3, 640, 640)\n",
      "\n",
      "0: 640x640 1 fire signage, 1 helmet, 22.0ms\n",
      "Speed: 5.0ms preprocess, 22.0ms inference, 1.0ms postprocess per image at shape (1, 3, 640, 640)\n"
     ]
    },
    {
     "name": "stderr",
     "output_type": "stream",
     "text": [
      " 53%|██████████████████████████████████████████                                     | 700/1315 [00:54<00:42, 14.35it/s]"
     ]
    },
    {
     "name": "stdout",
     "output_type": "stream",
     "text": [
      "\n",
      "0: 640x640 1 fire signage, 1 helmet, 11.4ms\n",
      "Speed: 4.7ms preprocess, 11.4ms inference, 0.0ms postprocess per image at shape (1, 3, 640, 640)\n",
      "\n",
      "0: 640x640 1 fire extinguisher, 2 helmets, 22.7ms\n",
      "Speed: 5.2ms preprocess, 22.7ms inference, 1.0ms postprocess per image at shape (1, 3, 640, 640)\n"
     ]
    },
    {
     "name": "stderr",
     "output_type": "stream",
     "text": [
      " 53%|██████████████████████████████████████████▏                                    | 702/1315 [00:54<00:44, 13.92it/s]"
     ]
    },
    {
     "name": "stdout",
     "output_type": "stream",
     "text": [
      "\n",
      "0: 640x640 1 fire extinguisher, 2 helmets, 24.7ms\n",
      "Speed: 0.6ms preprocess, 24.7ms inference, 1.9ms postprocess per image at shape (1, 3, 640, 640)\n",
      "\n",
      "0: 640x640 1 fire extinguisher, 2 helmets, 23.0ms\n",
      "Speed: 4.0ms preprocess, 23.0ms inference, 1.2ms postprocess per image at shape (1, 3, 640, 640)\n"
     ]
    },
    {
     "name": "stderr",
     "output_type": "stream",
     "text": [
      " 54%|██████████████████████████████████████████▎                                    | 704/1315 [00:54<00:43, 14.07it/s]"
     ]
    },
    {
     "name": "stdout",
     "output_type": "stream",
     "text": [
      "\n",
      "0: 640x640 1 fire extinguisher, 1 helmet, 18.5ms\n",
      "Speed: 4.0ms preprocess, 18.5ms inference, 0.0ms postprocess per image at shape (1, 3, 640, 640)\n",
      "\n",
      "0: 640x640 1 fire extinguisher, 2 helmets, 21.6ms\n",
      "Speed: 4.2ms preprocess, 21.6ms inference, 1.0ms postprocess per image at shape (1, 3, 640, 640)\n"
     ]
    },
    {
     "name": "stderr",
     "output_type": "stream",
     "text": [
      " 54%|██████████████████████████████████████████▍                                    | 706/1315 [00:54<00:42, 14.28it/s]"
     ]
    },
    {
     "name": "stdout",
     "output_type": "stream",
     "text": [
      "\n",
      "0: 640x640 1 fire extinguisher, 2 helmets, 22.7ms\n",
      "Speed: 4.7ms preprocess, 22.7ms inference, 1.0ms postprocess per image at shape (1, 3, 640, 640)\n",
      "\n",
      "0: 640x640 1 fire extinguisher, 2 helmets, 22.6ms\n",
      "Speed: 4.3ms preprocess, 22.6ms inference, 1.0ms postprocess per image at shape (1, 3, 640, 640)\n"
     ]
    },
    {
     "name": "stderr",
     "output_type": "stream",
     "text": [
      " 54%|██████████████████████████████████████████▌                                    | 708/1315 [00:54<00:42, 14.35it/s]"
     ]
    },
    {
     "name": "stdout",
     "output_type": "stream",
     "text": [
      "\n",
      "0: 640x640 1 fire extinguisher, 2 helmets, 11.5ms\n",
      "Speed: 3.3ms preprocess, 11.5ms inference, 0.0ms postprocess per image at shape (1, 3, 640, 640)\n",
      "\n",
      "0: 640x640 1 fire extinguisher, 2 helmets, 22.7ms\n",
      "Speed: 3.7ms preprocess, 22.7ms inference, 1.0ms postprocess per image at shape (1, 3, 640, 640)\n"
     ]
    },
    {
     "name": "stderr",
     "output_type": "stream",
     "text": [
      " 54%|██████████████████████████████████████████▋                                    | 710/1315 [00:55<00:42, 14.36it/s]"
     ]
    },
    {
     "name": "stdout",
     "output_type": "stream",
     "text": [
      "\n",
      "0: 640x640 1 fire extinguisher, 1 helmet, 22.0ms\n",
      "Speed: 4.0ms preprocess, 22.0ms inference, 1.1ms postprocess per image at shape (1, 3, 640, 640)\n",
      "\n",
      "0: 640x640 1 fire extinguisher, 2 helmets, 22.2ms\n",
      "Speed: 4.6ms preprocess, 22.2ms inference, 1.3ms postprocess per image at shape (1, 3, 640, 640)\n"
     ]
    },
    {
     "name": "stderr",
     "output_type": "stream",
     "text": [
      " 54%|██████████████████████████████████████████▊                                    | 712/1315 [00:55<00:41, 14.37it/s]"
     ]
    },
    {
     "name": "stdout",
     "output_type": "stream",
     "text": [
      "\n",
      "0: 640x640 1 fire extinguisher, 1 fire signage, 1 helmet, 23.1ms\n",
      "Speed: 5.0ms preprocess, 23.1ms inference, 1.0ms postprocess per image at shape (1, 3, 640, 640)\n",
      "\n",
      "0: 640x640 1 fire extinguisher, 1 helmet, 21.6ms\n",
      "Speed: 4.5ms preprocess, 21.6ms inference, 1.0ms postprocess per image at shape (1, 3, 640, 640)\n"
     ]
    },
    {
     "name": "stderr",
     "output_type": "stream",
     "text": [
      " 54%|██████████████████████████████████████████▉                                    | 714/1315 [00:55<00:42, 14.28it/s]"
     ]
    },
    {
     "name": "stdout",
     "output_type": "stream",
     "text": [
      "\n",
      "0: 640x640 1 fire extinguisher, 1 fire signage, 1 helmet, 23.5ms\n",
      "Speed: 4.1ms preprocess, 23.5ms inference, 1.0ms postprocess per image at shape (1, 3, 640, 640)\n",
      "\n",
      "0: 640x640 1 fire extinguisher, 1 fire signage, 2 helmets, 22.7ms\n",
      "Speed: 4.3ms preprocess, 22.7ms inference, 1.0ms postprocess per image at shape (1, 3, 640, 640)\n"
     ]
    },
    {
     "name": "stderr",
     "output_type": "stream",
     "text": [
      " 54%|███████████████████████████████████████████                                    | 716/1315 [00:55<00:42, 14.15it/s]"
     ]
    },
    {
     "name": "stdout",
     "output_type": "stream",
     "text": [
      "\n",
      "0: 640x640 1 fire extinguisher, 1 fire signage, 2 helmets, 22.3ms\n",
      "Speed: 4.8ms preprocess, 22.3ms inference, 1.0ms postprocess per image at shape (1, 3, 640, 640)\n",
      "\n",
      "0: 640x640 1 fire extinguisher, 1 fire signage, 2 helmets, 23.3ms\n",
      "Speed: 5.3ms preprocess, 23.3ms inference, 0.9ms postprocess per image at shape (1, 3, 640, 640)\n"
     ]
    },
    {
     "name": "stderr",
     "output_type": "stream",
     "text": [
      " 55%|███████████████████████████████████████████▏                                   | 718/1315 [00:55<00:43, 13.86it/s]"
     ]
    },
    {
     "name": "stdout",
     "output_type": "stream",
     "text": [
      "\n",
      "0: 640x640 1 fire extinguisher, 1 fire signage, 2 helmets, 18.8ms\n",
      "Speed: 4.5ms preprocess, 18.8ms inference, 0.0ms postprocess per image at shape (1, 3, 640, 640)\n",
      "\n",
      "0: 640x640 3 fire extinguishers, 2 helmets, 21.9ms\n",
      "Speed: 6.8ms preprocess, 21.9ms inference, 0.0ms postprocess per image at shape (1, 3, 640, 640)\n"
     ]
    },
    {
     "name": "stderr",
     "output_type": "stream",
     "text": [
      " 55%|███████████████████████████████████████████▎                                   | 720/1315 [00:55<00:44, 13.22it/s]"
     ]
    },
    {
     "name": "stdout",
     "output_type": "stream",
     "text": [
      "\n",
      "0: 640x640 2 fire extinguishers, 2 helmets, 28.2ms\n",
      "Speed: 2.1ms preprocess, 28.2ms inference, 1.0ms postprocess per image at shape (1, 3, 640, 640)\n",
      "\n",
      "0: 640x640 1 fire extinguisher, 1 helmet, 23.2ms\n",
      "Speed: 5.0ms preprocess, 23.2ms inference, 2.0ms postprocess per image at shape (1, 3, 640, 640)\n"
     ]
    },
    {
     "name": "stderr",
     "output_type": "stream",
     "text": [
      " 55%|███████████████████████████████████████████▎                                   | 722/1315 [00:55<00:46, 12.87it/s]"
     ]
    },
    {
     "name": "stdout",
     "output_type": "stream",
     "text": [
      "\n",
      "0: 640x640 2 fire extinguishers, 2 fire signages, 1 helmet, 22.4ms\n",
      "Speed: 6.4ms preprocess, 22.4ms inference, 1.0ms postprocess per image at shape (1, 3, 640, 640)\n",
      "\n",
      "0: 640x640 1 helmet, 20.9ms\n",
      "Speed: 6.2ms preprocess, 20.9ms inference, 0.0ms postprocess per image at shape (1, 3, 640, 640)\n"
     ]
    },
    {
     "name": "stderr",
     "output_type": "stream",
     "text": [
      " 55%|███████████████████████████████████████████▍                                   | 724/1315 [00:56<00:46, 12.82it/s]"
     ]
    },
    {
     "name": "stdout",
     "output_type": "stream",
     "text": [
      "\n",
      "0: 640x640 1 helmet, 28.5ms\n",
      "Speed: 0.0ms preprocess, 28.5ms inference, 1.0ms postprocess per image at shape (1, 3, 640, 640)\n",
      "\n",
      "0: 640x640 2 fire signages, 1 helmet, 19.7ms\n",
      "Speed: 8.7ms preprocess, 19.7ms inference, 0.5ms postprocess per image at shape (1, 3, 640, 640)\n"
     ]
    },
    {
     "name": "stderr",
     "output_type": "stream",
     "text": [
      " 55%|███████████████████████████████████████████▌                                   | 726/1315 [00:56<00:44, 13.13it/s]"
     ]
    },
    {
     "name": "stdout",
     "output_type": "stream",
     "text": [
      "\n",
      "0: 640x640 1 fire extinguisher, 3 fire signages, 2 helmets, 19.4ms\n",
      "Speed: 5.0ms preprocess, 19.4ms inference, 1.0ms postprocess per image at shape (1, 3, 640, 640)\n",
      "\n",
      "0: 640x640 2 fire signages, 2 helmets, 18.7ms\n",
      "Speed: 5.1ms preprocess, 18.7ms inference, 1.0ms postprocess per image at shape (1, 3, 640, 640)\n"
     ]
    },
    {
     "name": "stderr",
     "output_type": "stream",
     "text": [
      " 55%|███████████████████████████████████████████▋                                   | 728/1315 [00:56<00:45, 12.87it/s]"
     ]
    },
    {
     "name": "stdout",
     "output_type": "stream",
     "text": [
      "\n",
      "0: 640x640 1 fire extinguisher, 2 fire signages, 1 helmet, 20.7ms\n",
      "Speed: 4.4ms preprocess, 20.7ms inference, 1.0ms postprocess per image at shape (1, 3, 640, 640)\n",
      "\n",
      "0: 640x640 2 fire signages, 1 helmet, 15.5ms\n",
      "Speed: 0.0ms preprocess, 15.5ms inference, 0.0ms postprocess per image at shape (1, 3, 640, 640)\n"
     ]
    },
    {
     "name": "stderr",
     "output_type": "stream",
     "text": [
      " 56%|███████████████████████████████████████████▊                                   | 730/1315 [00:56<00:44, 13.01it/s]"
     ]
    },
    {
     "name": "stdout",
     "output_type": "stream",
     "text": [
      "\n",
      "0: 640x640 1 fire extinguisher, 2 fire signages, 2 helmets, 19.9ms\n",
      "Speed: 7.2ms preprocess, 19.9ms inference, 1.0ms postprocess per image at shape (1, 3, 640, 640)\n",
      "\n",
      "0: 640x640 1 fire extinguisher, 2 fire signages, 1 helmet, 28.5ms\n",
      "Speed: 0.0ms preprocess, 28.5ms inference, 1.0ms postprocess per image at shape (1, 3, 640, 640)\n"
     ]
    },
    {
     "name": "stderr",
     "output_type": "stream",
     "text": [
      " 56%|███████████████████████████████████████████▉                                   | 732/1315 [00:56<00:44, 12.98it/s]"
     ]
    },
    {
     "name": "stdout",
     "output_type": "stream",
     "text": [
      "\n",
      "0: 640x640 2 fire signages, 3 helmets, 21.7ms\n",
      "Speed: 5.0ms preprocess, 21.7ms inference, 1.0ms postprocess per image at shape (1, 3, 640, 640)\n",
      "\n",
      "0: 640x640 3 fire signages, 3 helmets, 24.4ms\n",
      "Speed: 2.2ms preprocess, 24.4ms inference, 2.0ms postprocess per image at shape (1, 3, 640, 640)\n"
     ]
    },
    {
     "name": "stderr",
     "output_type": "stream",
     "text": [
      " 56%|████████████████████████████████████████████                                   | 734/1315 [00:56<00:45, 12.73it/s]"
     ]
    },
    {
     "name": "stdout",
     "output_type": "stream",
     "text": [
      "\n",
      "0: 640x640 3 fire signages, 3 helmets, 21.7ms\n",
      "Speed: 0.0ms preprocess, 21.7ms inference, 0.0ms postprocess per image at shape (1, 3, 640, 640)\n",
      "\n",
      "0: 640x640 3 fire signages, 3 helmets, 21.2ms\n",
      "Speed: 7.7ms preprocess, 21.2ms inference, 0.0ms postprocess per image at shape (1, 3, 640, 640)\n"
     ]
    },
    {
     "name": "stderr",
     "output_type": "stream",
     "text": [
      " 56%|████████████████████████████████████████████▏                                  | 736/1315 [00:57<00:45, 12.85it/s]"
     ]
    },
    {
     "name": "stdout",
     "output_type": "stream",
     "text": [
      "\n",
      "0: 640x640 3 fire signages, 3 helmets, 21.7ms\n",
      "Speed: 10.1ms preprocess, 21.7ms inference, 1.0ms postprocess per image at shape (1, 3, 640, 640)\n",
      "\n",
      "0: 640x640 2 fire signages, 1 helmet, 20.3ms\n",
      "Speed: 5.0ms preprocess, 20.3ms inference, 0.0ms postprocess per image at shape (1, 3, 640, 640)\n"
     ]
    },
    {
     "name": "stderr",
     "output_type": "stream",
     "text": [
      " 56%|████████████████████████████████████████████▎                                  | 738/1315 [00:57<00:45, 12.62it/s]"
     ]
    },
    {
     "name": "stdout",
     "output_type": "stream",
     "text": [
      "\n",
      "0: 640x640 2 fire signages, 1 helmet, 14.1ms\n",
      "Speed: 7.1ms preprocess, 14.1ms inference, 0.0ms postprocess per image at shape (1, 3, 640, 640)\n",
      "\n",
      "0: 640x640 2 fire signages, 1 helmet, 19.4ms\n",
      "Speed: 14.1ms preprocess, 19.4ms inference, 0.0ms postprocess per image at shape (1, 3, 640, 640)\n"
     ]
    },
    {
     "name": "stderr",
     "output_type": "stream",
     "text": [
      " 56%|████████████████████████████████████████████▍                                  | 740/1315 [00:57<00:44, 12.79it/s]"
     ]
    },
    {
     "name": "stdout",
     "output_type": "stream",
     "text": [
      "\n",
      "0: 640x640 2 fire signages, 1 helmet, 22.4ms\n",
      "Speed: 5.0ms preprocess, 22.4ms inference, 1.0ms postprocess per image at shape (1, 3, 640, 640)\n",
      "\n",
      "0: 640x640 2 fire signages, 1 helmet, 22.8ms\n",
      "Speed: 8.9ms preprocess, 22.8ms inference, 1.8ms postprocess per image at shape (1, 3, 640, 640)\n"
     ]
    },
    {
     "name": "stderr",
     "output_type": "stream",
     "text": [
      " 56%|████████████████████████████████████████████▌                                  | 742/1315 [00:57<00:45, 12.65it/s]"
     ]
    },
    {
     "name": "stdout",
     "output_type": "stream",
     "text": [
      "\n",
      "0: 640x640 1 fire extinguisher, 1 helmet, 14.3ms\n",
      "Speed: 4.2ms preprocess, 14.3ms inference, 0.0ms postprocess per image at shape (1, 3, 640, 640)\n",
      "\n",
      "0: 640x640 1 helmet, 21.7ms\n",
      "Speed: 17.8ms preprocess, 21.7ms inference, 1.0ms postprocess per image at shape (1, 3, 640, 640)\n"
     ]
    },
    {
     "name": "stderr",
     "output_type": "stream",
     "text": [
      " 57%|████████████████████████████████████████████▋                                  | 744/1315 [00:57<00:45, 12.55it/s]"
     ]
    },
    {
     "name": "stdout",
     "output_type": "stream",
     "text": [
      "\n",
      "0: 640x640 1 helmet, 23.1ms\n",
      "Speed: 7.2ms preprocess, 23.1ms inference, 2.0ms postprocess per image at shape (1, 3, 640, 640)\n",
      "\n",
      "0: 640x640 1 helmet, 24.8ms\n",
      "Speed: 4.6ms preprocess, 24.8ms inference, 2.0ms postprocess per image at shape (1, 3, 640, 640)\n"
     ]
    },
    {
     "name": "stderr",
     "output_type": "stream",
     "text": [
      " 57%|████████████████████████████████████████████▊                                  | 746/1315 [00:57<00:44, 12.67it/s]"
     ]
    },
    {
     "name": "stdout",
     "output_type": "stream",
     "text": [
      "\n",
      "0: 640x640 1 helmet, 27.9ms\n",
      "Speed: 2.7ms preprocess, 27.9ms inference, 1.5ms postprocess per image at shape (1, 3, 640, 640)\n",
      "\n",
      "0: 640x640 1 helmet, 27.0ms\n",
      "Speed: 2.9ms preprocess, 27.0ms inference, 2.0ms postprocess per image at shape (1, 3, 640, 640)\n"
     ]
    },
    {
     "name": "stderr",
     "output_type": "stream",
     "text": [
      " 57%|████████████████████████████████████████████▉                                  | 748/1315 [00:57<00:45, 12.41it/s]"
     ]
    },
    {
     "name": "stdout",
     "output_type": "stream",
     "text": [
      "\n",
      "0: 640x640 4 fire signages, 27.9ms\n",
      "Speed: 1.2ms preprocess, 27.9ms inference, 2.0ms postprocess per image at shape (1, 3, 640, 640)\n",
      "\n",
      "0: 640x640 5 fire signages, 23.8ms\n",
      "Speed: 5.6ms preprocess, 23.8ms inference, 1.0ms postprocess per image at shape (1, 3, 640, 640)\n"
     ]
    },
    {
     "name": "stderr",
     "output_type": "stream",
     "text": [
      " 57%|█████████████████████████████████████████████                                  | 750/1315 [00:58<00:47, 12.01it/s]"
     ]
    },
    {
     "name": "stdout",
     "output_type": "stream",
     "text": [
      "\n",
      "0: 640x640 4 fire signages, 17.1ms\n",
      "Speed: 15.4ms preprocess, 17.1ms inference, 6.5ms postprocess per image at shape (1, 3, 640, 640)\n",
      "\n",
      "0: 640x640 5 fire signages, 28.7ms\n",
      "Speed: 1.4ms preprocess, 28.7ms inference, 1.0ms postprocess per image at shape (1, 3, 640, 640)\n"
     ]
    },
    {
     "name": "stderr",
     "output_type": "stream",
     "text": [
      " 57%|█████████████████████████████████████████████▏                                 | 752/1315 [00:58<00:46, 12.17it/s]"
     ]
    },
    {
     "name": "stdout",
     "output_type": "stream",
     "text": [
      "\n",
      "0: 640x640 3 fire signages, 29.2ms\n",
      "Speed: 0.0ms preprocess, 29.2ms inference, 1.3ms postprocess per image at shape (1, 3, 640, 640)\n",
      "\n",
      "0: 640x640 5 fire signages, 26.8ms\n",
      "Speed: 4.9ms preprocess, 26.8ms inference, 1.0ms postprocess per image at shape (1, 3, 640, 640)\n"
     ]
    },
    {
     "name": "stderr",
     "output_type": "stream",
     "text": [
      " 57%|█████████████████████████████████████████████▎                                 | 754/1315 [00:58<00:46, 12.19it/s]"
     ]
    },
    {
     "name": "stdout",
     "output_type": "stream",
     "text": [
      "\n",
      "0: 640x640 5 fire signages, 16.9ms\n",
      "Speed: 3.2ms preprocess, 16.9ms inference, 0.0ms postprocess per image at shape (1, 3, 640, 640)\n",
      "\n",
      "0: 640x640 7 fire signages, 23.0ms\n",
      "Speed: 5.0ms preprocess, 23.0ms inference, 1.1ms postprocess per image at shape (1, 3, 640, 640)\n"
     ]
    },
    {
     "name": "stderr",
     "output_type": "stream",
     "text": [
      " 57%|█████████████████████████████████████████████▍                                 | 756/1315 [00:58<00:45, 12.40it/s]"
     ]
    },
    {
     "name": "stdout",
     "output_type": "stream",
     "text": [
      "\n",
      "0: 640x640 7 fire signages, 26.5ms\n",
      "Speed: 0.9ms preprocess, 26.5ms inference, 1.3ms postprocess per image at shape (1, 3, 640, 640)\n",
      "\n",
      "0: 640x640 6 fire signages, 24.5ms\n",
      "Speed: 4.1ms preprocess, 24.5ms inference, 1.0ms postprocess per image at shape (1, 3, 640, 640)\n"
     ]
    },
    {
     "name": "stderr",
     "output_type": "stream",
     "text": [
      " 58%|█████████████████████████████████████████████▌                                 | 758/1315 [00:58<00:44, 12.61it/s]"
     ]
    },
    {
     "name": "stdout",
     "output_type": "stream",
     "text": [
      "\n",
      "0: 640x640 6 fire signages, 21.6ms\n",
      "Speed: 4.0ms preprocess, 21.6ms inference, 1.2ms postprocess per image at shape (1, 3, 640, 640)\n",
      "\n",
      "0: 640x640 6 fire signages, 24.1ms\n",
      "Speed: 1.5ms preprocess, 24.1ms inference, 1.0ms postprocess per image at shape (1, 3, 640, 640)\n"
     ]
    },
    {
     "name": "stderr",
     "output_type": "stream",
     "text": [
      " 58%|█████████████████████████████████████████████▋                                 | 760/1315 [00:58<00:43, 12.89it/s]"
     ]
    },
    {
     "name": "stdout",
     "output_type": "stream",
     "text": [
      "\n",
      "0: 640x640 4 fire signages, 11.8ms\n",
      "Speed: 0.0ms preprocess, 11.8ms inference, 16.3ms postprocess per image at shape (1, 3, 640, 640)\n",
      "\n",
      "0: 640x640 4 fire signages, 22.2ms\n",
      "Speed: 4.6ms preprocess, 22.2ms inference, 1.0ms postprocess per image at shape (1, 3, 640, 640)\n"
     ]
    },
    {
     "name": "stderr",
     "output_type": "stream",
     "text": [
      " 58%|█████████████████████████████████████████████▊                                 | 762/1315 [00:59<00:41, 13.23it/s]"
     ]
    },
    {
     "name": "stdout",
     "output_type": "stream",
     "text": [
      "\n",
      "0: 640x640 6 fire signages, 17.2ms\n",
      "Speed: 4.0ms preprocess, 17.2ms inference, 0.0ms postprocess per image at shape (1, 3, 640, 640)\n",
      "\n",
      "0: 640x640 5 fire signages, 26.5ms\n",
      "Speed: 0.8ms preprocess, 26.5ms inference, 1.0ms postprocess per image at shape (1, 3, 640, 640)\n"
     ]
    },
    {
     "name": "stderr",
     "output_type": "stream",
     "text": [
      " 58%|█████████████████████████████████████████████▉                                 | 764/1315 [00:59<00:41, 13.26it/s]"
     ]
    },
    {
     "name": "stdout",
     "output_type": "stream",
     "text": [
      "\n",
      "0: 640x640 5 fire signages, 16.3ms\n",
      "Speed: 5.0ms preprocess, 16.3ms inference, 0.0ms postprocess per image at shape (1, 3, 640, 640)\n",
      "\n",
      "0: 640x640 5 fire signages, 27.2ms\n",
      "Speed: 0.0ms preprocess, 27.2ms inference, 1.0ms postprocess per image at shape (1, 3, 640, 640)\n"
     ]
    },
    {
     "name": "stderr",
     "output_type": "stream",
     "text": [
      " 58%|██████████████████████████████████████████████                                 | 766/1315 [00:59<00:40, 13.40it/s]"
     ]
    },
    {
     "name": "stdout",
     "output_type": "stream",
     "text": [
      "\n",
      "0: 640x640 5 fire signages, 21.2ms\n",
      "Speed: 4.0ms preprocess, 21.2ms inference, 0.0ms postprocess per image at shape (1, 3, 640, 640)\n",
      "\n",
      "0: 640x640 6 fire signages, 21.0ms\n",
      "Speed: 4.2ms preprocess, 21.0ms inference, 0.0ms postprocess per image at shape (1, 3, 640, 640)\n"
     ]
    },
    {
     "name": "stderr",
     "output_type": "stream",
     "text": [
      " 58%|██████████████████████████████████████████████▏                                | 768/1315 [00:59<00:40, 13.55it/s]"
     ]
    },
    {
     "name": "stdout",
     "output_type": "stream",
     "text": [
      "\n",
      "0: 640x640 5 fire signages, 16.3ms\n",
      "Speed: 0.0ms preprocess, 16.3ms inference, 15.0ms postprocess per image at shape (1, 3, 640, 640)\n",
      "\n",
      "0: 640x640 6 fire signages, 19.9ms\n",
      "Speed: 3.3ms preprocess, 19.9ms inference, 0.0ms postprocess per image at shape (1, 3, 640, 640)\n"
     ]
    },
    {
     "name": "stderr",
     "output_type": "stream",
     "text": [
      " 59%|██████████████████████████████████████████████▎                                | 770/1315 [00:59<00:40, 13.43it/s]"
     ]
    },
    {
     "name": "stdout",
     "output_type": "stream",
     "text": [
      "\n",
      "0: 640x640 5 fire signages, 12.6ms\n",
      "Speed: 0.0ms preprocess, 12.6ms inference, 0.0ms postprocess per image at shape (1, 3, 640, 640)\n",
      "\n",
      "0: 640x640 5 fire signages, 23.6ms\n",
      "Speed: 4.7ms preprocess, 23.6ms inference, 1.0ms postprocess per image at shape (1, 3, 640, 640)\n"
     ]
    },
    {
     "name": "stderr",
     "output_type": "stream",
     "text": [
      " 59%|██████████████████████████████████████████████▍                                | 772/1315 [00:59<00:40, 13.38it/s]"
     ]
    },
    {
     "name": "stdout",
     "output_type": "stream",
     "text": [
      "\n",
      "0: 640x640 6 fire signages, 26.4ms\n",
      "Speed: 0.0ms preprocess, 26.4ms inference, 0.0ms postprocess per image at shape (1, 3, 640, 640)\n",
      "\n",
      "0: 640x640 5 fire signages, 25.2ms\n",
      "Speed: 2.5ms preprocess, 25.2ms inference, 1.0ms postprocess per image at shape (1, 3, 640, 640)\n"
     ]
    },
    {
     "name": "stderr",
     "output_type": "stream",
     "text": [
      " 59%|██████████████████████████████████████████████▍                                | 774/1315 [00:59<00:40, 13.36it/s]"
     ]
    },
    {
     "name": "stdout",
     "output_type": "stream",
     "text": [
      "\n",
      "0: 640x640 5 fire signages, 11.0ms\n",
      "Speed: 0.8ms preprocess, 11.0ms inference, 0.0ms postprocess per image at shape (1, 3, 640, 640)\n",
      "\n",
      "0: 640x640 5 fire signages, 22.2ms\n",
      "Speed: 5.0ms preprocess, 22.2ms inference, 0.0ms postprocess per image at shape (1, 3, 640, 640)\n"
     ]
    },
    {
     "name": "stderr",
     "output_type": "stream",
     "text": [
      " 59%|██████████████████████████████████████████████▌                                | 776/1315 [01:00<00:40, 13.38it/s]"
     ]
    },
    {
     "name": "stdout",
     "output_type": "stream",
     "text": [
      "\n",
      "0: 640x640 5 fire signages, 26.8ms\n",
      "Speed: 0.7ms preprocess, 26.8ms inference, 0.0ms postprocess per image at shape (1, 3, 640, 640)\n",
      "\n",
      "0: 640x640 3 fire signages, 21.7ms\n",
      "Speed: 3.6ms preprocess, 21.7ms inference, 0.0ms postprocess per image at shape (1, 3, 640, 640)\n"
     ]
    },
    {
     "name": "stderr",
     "output_type": "stream",
     "text": [
      " 59%|██████████████████████████████████████████████▋                                | 778/1315 [01:00<00:39, 13.45it/s]"
     ]
    },
    {
     "name": "stdout",
     "output_type": "stream",
     "text": [
      "\n",
      "0: 640x640 4 fire signages, 11.5ms\n",
      "Speed: 4.4ms preprocess, 11.5ms inference, 0.0ms postprocess per image at shape (1, 3, 640, 640)\n",
      "\n",
      "0: 640x640 4 fire signages, 19.4ms\n",
      "Speed: 4.1ms preprocess, 19.4ms inference, 1.0ms postprocess per image at shape (1, 3, 640, 640)\n"
     ]
    },
    {
     "name": "stderr",
     "output_type": "stream",
     "text": [
      " 59%|██████████████████████████████████████████████▊                                | 780/1315 [01:00<00:38, 13.78it/s]"
     ]
    },
    {
     "name": "stdout",
     "output_type": "stream",
     "text": [
      "\n",
      "0: 640x640 1 fire extinguisher, 3 fire signages, 7.8ms\n",
      "Speed: 5.0ms preprocess, 7.8ms inference, 0.0ms postprocess per image at shape (1, 3, 640, 640)\n",
      "\n",
      "0: 640x640 1 fire extinguisher, 3 fire signages, 22.7ms\n",
      "Speed: 4.5ms preprocess, 22.7ms inference, 0.5ms postprocess per image at shape (1, 3, 640, 640)\n"
     ]
    },
    {
     "name": "stderr",
     "output_type": "stream",
     "text": [
      " 59%|██████████████████████████████████████████████▉                                | 782/1315 [01:00<00:38, 14.01it/s]"
     ]
    },
    {
     "name": "stdout",
     "output_type": "stream",
     "text": [
      "\n",
      "0: 640x640 1 fire extinguisher, 3 fire signages, 20.7ms\n",
      "Speed: 4.0ms preprocess, 20.7ms inference, 0.0ms postprocess per image at shape (1, 3, 640, 640)\n",
      "\n",
      "0: 640x640 1 fire extinguisher, 3 fire signages, 22.1ms\n",
      "Speed: 3.7ms preprocess, 22.1ms inference, 0.8ms postprocess per image at shape (1, 3, 640, 640)\n"
     ]
    },
    {
     "name": "stderr",
     "output_type": "stream",
     "text": [
      " 60%|███████████████████████████████████████████████                                | 784/1315 [01:00<00:37, 14.07it/s]"
     ]
    },
    {
     "name": "stdout",
     "output_type": "stream",
     "text": [
      "\n",
      "0: 640x640 1 fire extinguisher, 3 fire signages, 17.2ms\n",
      "Speed: 2.5ms preprocess, 17.2ms inference, 0.0ms postprocess per image at shape (1, 3, 640, 640)\n",
      "\n",
      "0: 640x640 1 fire extinguisher, 3 fire signages, 26.5ms\n",
      "Speed: 0.8ms preprocess, 26.5ms inference, 1.0ms postprocess per image at shape (1, 3, 640, 640)\n"
     ]
    },
    {
     "name": "stderr",
     "output_type": "stream",
     "text": [
      " 60%|███████████████████████████████████████████████▏                               | 786/1315 [01:00<00:37, 14.01it/s]"
     ]
    },
    {
     "name": "stdout",
     "output_type": "stream",
     "text": [
      "\n",
      "0: 640x640 1 fire extinguisher, 3 fire signages, 23.0ms\n",
      "Speed: 0.6ms preprocess, 23.0ms inference, 0.0ms postprocess per image at shape (1, 3, 640, 640)\n",
      "\n",
      "0: 640x640 6 fire signages, 17.9ms\n",
      "Speed: 4.5ms preprocess, 17.9ms inference, 1.4ms postprocess per image at shape (1, 3, 640, 640)\n"
     ]
    },
    {
     "name": "stderr",
     "output_type": "stream",
     "text": [
      " 60%|███████████████████████████████████████████████▎                               | 788/1315 [01:00<00:37, 14.06it/s]"
     ]
    },
    {
     "name": "stdout",
     "output_type": "stream",
     "text": [
      "\n",
      "0: 640x640 4 fire signages, 26.0ms\n",
      "Speed: 0.6ms preprocess, 26.0ms inference, 1.4ms postprocess per image at shape (1, 3, 640, 640)\n",
      "\n",
      "0: 640x640 5 fire signages, 18.7ms\n",
      "Speed: 4.7ms preprocess, 18.7ms inference, 1.5ms postprocess per image at shape (1, 3, 640, 640)\n"
     ]
    },
    {
     "name": "stderr",
     "output_type": "stream",
     "text": [
      " 60%|███████████████████████████████████████████████▍                               | 790/1315 [01:01<00:37, 14.02it/s]"
     ]
    },
    {
     "name": "stdout",
     "output_type": "stream",
     "text": [
      "\n",
      "0: 640x640 5 fire signages, 17.9ms\n",
      "Speed: 4.0ms preprocess, 17.9ms inference, 0.0ms postprocess per image at shape (1, 3, 640, 640)\n",
      "\n",
      "0: 640x640 5 fire signages, 18.7ms\n",
      "Speed: 4.0ms preprocess, 18.7ms inference, 0.0ms postprocess per image at shape (1, 3, 640, 640)\n"
     ]
    },
    {
     "name": "stderr",
     "output_type": "stream",
     "text": [
      " 60%|███████████████████████████████████████████████▌                               | 792/1315 [01:01<00:36, 14.19it/s]"
     ]
    },
    {
     "name": "stdout",
     "output_type": "stream",
     "text": [
      "\n",
      "0: 640x640 4 fire signages, 15.3ms\n",
      "Speed: 3.5ms preprocess, 15.3ms inference, 0.0ms postprocess per image at shape (1, 3, 640, 640)\n",
      "\n",
      "0: 640x640 4 fire signages, 21.2ms\n",
      "Speed: 3.0ms preprocess, 21.2ms inference, 1.0ms postprocess per image at shape (1, 3, 640, 640)\n"
     ]
    },
    {
     "name": "stderr",
     "output_type": "stream",
     "text": [
      " 60%|███████████████████████████████████████████████▋                               | 794/1315 [01:01<00:36, 14.18it/s]"
     ]
    },
    {
     "name": "stdout",
     "output_type": "stream",
     "text": [
      "\n",
      "0: 640x640 4 fire signages, 17.2ms\n",
      "Speed: 0.0ms preprocess, 17.2ms inference, 0.0ms postprocess per image at shape (1, 3, 640, 640)\n",
      "\n",
      "0: 640x640 4 fire signages, 20.0ms\n",
      "Speed: 3.7ms preprocess, 20.0ms inference, 1.0ms postprocess per image at shape (1, 3, 640, 640)\n"
     ]
    },
    {
     "name": "stderr",
     "output_type": "stream",
     "text": [
      " 61%|███████████████████████████████████████████████▊                               | 796/1315 [01:01<00:36, 14.27it/s]"
     ]
    },
    {
     "name": "stdout",
     "output_type": "stream",
     "text": [
      "\n",
      "0: 640x640 4 fire signages, 18.1ms\n",
      "Speed: 4.0ms preprocess, 18.1ms inference, 0.0ms postprocess per image at shape (1, 3, 640, 640)\n",
      "\n",
      "0: 640x640 4 fire signages, 20.8ms\n",
      "Speed: 4.4ms preprocess, 20.8ms inference, 0.0ms postprocess per image at shape (1, 3, 640, 640)\n"
     ]
    },
    {
     "name": "stderr",
     "output_type": "stream",
     "text": [
      " 61%|███████████████████████████████████████████████▉                               | 798/1315 [01:01<00:36, 14.33it/s]"
     ]
    },
    {
     "name": "stdout",
     "output_type": "stream",
     "text": [
      "\n",
      "0: 640x640 4 fire signages, 14.6ms\n",
      "Speed: 3.8ms preprocess, 14.6ms inference, 0.0ms postprocess per image at shape (1, 3, 640, 640)\n",
      "\n",
      "0: 640x640 6 fire signages, 23.9ms\n",
      "Speed: 4.3ms preprocess, 23.9ms inference, 1.0ms postprocess per image at shape (1, 3, 640, 640)\n"
     ]
    },
    {
     "name": "stderr",
     "output_type": "stream",
     "text": [
      " 61%|████████████████████████████████████████████████                               | 800/1315 [01:01<00:36, 14.24it/s]"
     ]
    },
    {
     "name": "stdout",
     "output_type": "stream",
     "text": [
      "\n",
      "0: 640x640 5 fire signages, 22.8ms\n",
      "Speed: 9.7ms preprocess, 22.8ms inference, 0.0ms postprocess per image at shape (1, 3, 640, 640)\n",
      "\n",
      "0: 640x640 5 fire signages, 25.2ms\n",
      "Speed: 1.6ms preprocess, 25.2ms inference, 2.0ms postprocess per image at shape (1, 3, 640, 640)\n"
     ]
    },
    {
     "name": "stderr",
     "output_type": "stream",
     "text": [
      " 61%|████████████████████████████████████████████████▏                              | 802/1315 [01:01<00:36, 14.05it/s]"
     ]
    },
    {
     "name": "stdout",
     "output_type": "stream",
     "text": [
      "\n",
      "0: 640x640 6 fire signages, 32.1ms\n",
      "Speed: 0.0ms preprocess, 32.1ms inference, 1.4ms postprocess per image at shape (1, 3, 640, 640)\n",
      "\n",
      "0: 640x640 4 fire signages, 25.4ms\n",
      "Speed: 0.7ms preprocess, 25.4ms inference, 1.0ms postprocess per image at shape (1, 3, 640, 640)\n"
     ]
    },
    {
     "name": "stderr",
     "output_type": "stream",
     "text": [
      " 61%|████████████████████████████████████████████████▎                              | 804/1315 [01:02<00:37, 13.61it/s]"
     ]
    },
    {
     "name": "stdout",
     "output_type": "stream",
     "text": [
      "\n",
      "0: 640x640 4 fire signages, 16.0ms\n",
      "Speed: 5.0ms preprocess, 16.0ms inference, 0.0ms postprocess per image at shape (1, 3, 640, 640)\n",
      "\n",
      "0: 640x640 4 fire signages, 25.9ms\n",
      "Speed: 1.2ms preprocess, 25.9ms inference, 1.0ms postprocess per image at shape (1, 3, 640, 640)\n"
     ]
    },
    {
     "name": "stderr",
     "output_type": "stream",
     "text": [
      " 61%|████████████████████████████████████████████████▍                              | 806/1315 [01:02<00:37, 13.65it/s]"
     ]
    },
    {
     "name": "stdout",
     "output_type": "stream",
     "text": [
      "\n",
      "0: 640x640 6 fire signages, 31.8ms\n",
      "Speed: 0.0ms preprocess, 31.8ms inference, 0.0ms postprocess per image at shape (1, 3, 640, 640)\n",
      "\n",
      "0: 640x640 1 fire extinguisher, 3 fire signages, 16.6ms\n",
      "Speed: 4.6ms preprocess, 16.6ms inference, 0.0ms postprocess per image at shape (1, 3, 640, 640)\n"
     ]
    },
    {
     "name": "stderr",
     "output_type": "stream",
     "text": [
      " 61%|████████████████████████████████████████████████▌                              | 808/1315 [01:02<00:36, 13.84it/s]"
     ]
    },
    {
     "name": "stdout",
     "output_type": "stream",
     "text": [
      "\n",
      "0: 640x640 6 fire signages, 15.0ms\n",
      "Speed: 2.5ms preprocess, 15.0ms inference, 0.0ms postprocess per image at shape (1, 3, 640, 640)\n",
      "\n",
      "0: 640x640 5 fire signages, 24.0ms\n",
      "Speed: 15.5ms preprocess, 24.0ms inference, 1.0ms postprocess per image at shape (1, 3, 640, 640)\n"
     ]
    },
    {
     "name": "stderr",
     "output_type": "stream",
     "text": [
      " 62%|████████████████████████████████████████████████▋                              | 810/1315 [01:02<00:37, 13.54it/s]"
     ]
    },
    {
     "name": "stdout",
     "output_type": "stream",
     "text": [
      "\n",
      "0: 640x640 6 fire signages, 12.0ms\n",
      "Speed: 1.3ms preprocess, 12.0ms inference, 0.0ms postprocess per image at shape (1, 3, 640, 640)\n",
      "\n",
      "0: 640x640 4 fire signages, 16.6ms\n",
      "Speed: 4.5ms preprocess, 16.6ms inference, 0.0ms postprocess per image at shape (1, 3, 640, 640)\n"
     ]
    },
    {
     "name": "stderr",
     "output_type": "stream",
     "text": [
      " 62%|████████████████████████████████████████████████▊                              | 812/1315 [01:02<00:37, 13.48it/s]"
     ]
    },
    {
     "name": "stdout",
     "output_type": "stream",
     "text": [
      "\n",
      "0: 640x640 1 fire extinguisher, 5 fire signages, 13.7ms\n",
      "Speed: 0.8ms preprocess, 13.7ms inference, 0.0ms postprocess per image at shape (1, 3, 640, 640)\n",
      "\n",
      "0: 640x640 1 fire extinguisher, 1 helmet, 20.4ms\n",
      "Speed: 3.6ms preprocess, 20.4ms inference, 0.0ms postprocess per image at shape (1, 3, 640, 640)\n"
     ]
    },
    {
     "name": "stderr",
     "output_type": "stream",
     "text": [
      " 62%|████████████████████████████████████████████████▉                              | 814/1315 [01:02<00:37, 13.33it/s]"
     ]
    },
    {
     "name": "stdout",
     "output_type": "stream",
     "text": [
      "\n",
      "0: 640x640 1 fire extinguisher, 1 helmet, 24.7ms\n",
      "Speed: 0.0ms preprocess, 24.7ms inference, 0.0ms postprocess per image at shape (1, 3, 640, 640)\n",
      "\n",
      "0: 640x640 1 fire extinguisher, 1 helmet, 24.1ms\n",
      "Speed: 5.1ms preprocess, 24.1ms inference, 0.0ms postprocess per image at shape (1, 3, 640, 640)\n"
     ]
    },
    {
     "name": "stderr",
     "output_type": "stream",
     "text": [
      " 62%|█████████████████████████████████████████████████                              | 816/1315 [01:02<00:36, 13.63it/s]"
     ]
    },
    {
     "name": "stdout",
     "output_type": "stream",
     "text": [
      "\n",
      "0: 640x640 1 fire extinguisher, 1 helmet, 23.6ms\n",
      "Speed: 5.8ms preprocess, 23.6ms inference, 1.0ms postprocess per image at shape (1, 3, 640, 640)\n",
      "\n",
      "0: 640x640 2 fire extinguishers, 1 helmet, 26.3ms\n",
      "Speed: 0.0ms preprocess, 26.3ms inference, 1.0ms postprocess per image at shape (1, 3, 640, 640)\n"
     ]
    },
    {
     "name": "stderr",
     "output_type": "stream",
     "text": [
      " 62%|█████████████████████████████████████████████████▏                             | 818/1315 [01:03<00:36, 13.75it/s]"
     ]
    },
    {
     "name": "stdout",
     "output_type": "stream",
     "text": [
      "\n",
      "0: 640x640 1 fire extinguisher, 25.7ms\n",
      "Speed: 0.6ms preprocess, 25.7ms inference, 0.0ms postprocess per image at shape (1, 3, 640, 640)\n",
      "\n",
      "0: 640x640 1 fire extinguisher, 21.0ms\n",
      "Speed: 4.3ms preprocess, 21.0ms inference, 0.0ms postprocess per image at shape (1, 3, 640, 640)\n"
     ]
    },
    {
     "name": "stderr",
     "output_type": "stream",
     "text": [
      " 62%|█████████████████████████████████████████████████▎                             | 820/1315 [01:03<00:35, 14.04it/s]"
     ]
    },
    {
     "name": "stdout",
     "output_type": "stream",
     "text": [
      "\n",
      "0: 640x640 1 fire extinguisher, 1 helmet, 23.0ms\n",
      "Speed: 4.0ms preprocess, 23.0ms inference, 0.0ms postprocess per image at shape (1, 3, 640, 640)\n",
      "\n",
      "0: 640x640 1 fire extinguisher, 22.4ms\n",
      "Speed: 3.7ms preprocess, 22.4ms inference, 0.0ms postprocess per image at shape (1, 3, 640, 640)\n"
     ]
    },
    {
     "name": "stderr",
     "output_type": "stream",
     "text": [
      " 63%|█████████████████████████████████████████████████▍                             | 822/1315 [01:03<00:34, 14.37it/s]"
     ]
    },
    {
     "name": "stdout",
     "output_type": "stream",
     "text": [
      "\n",
      "0: 640x640 1 fire extinguisher, 1 helmet, 15.5ms\n",
      "Speed: 4.0ms preprocess, 15.5ms inference, 7.5ms postprocess per image at shape (1, 3, 640, 640)\n",
      "\n",
      "0: 640x640 1 fire extinguisher, 21.9ms\n",
      "Speed: 4.4ms preprocess, 21.9ms inference, 0.0ms postprocess per image at shape (1, 3, 640, 640)\n"
     ]
    },
    {
     "name": "stderr",
     "output_type": "stream",
     "text": [
      " 63%|█████████████████████████████████████████████████▌                             | 824/1315 [01:03<00:34, 14.39it/s]"
     ]
    },
    {
     "name": "stdout",
     "output_type": "stream",
     "text": [
      "\n",
      "0: 640x640 1 fire extinguisher, 1 helmet, 20.2ms\n",
      "Speed: 4.3ms preprocess, 20.2ms inference, 0.0ms postprocess per image at shape (1, 3, 640, 640)\n",
      "\n",
      "0: 640x640 1 fire extinguisher, 1 helmet, 20.8ms\n",
      "Speed: 3.5ms preprocess, 20.8ms inference, 0.0ms postprocess per image at shape (1, 3, 640, 640)\n"
     ]
    },
    {
     "name": "stderr",
     "output_type": "stream",
     "text": [
      " 63%|█████████████████████████████████████████████████▌                             | 826/1315 [01:03<00:33, 14.50it/s]"
     ]
    },
    {
     "name": "stdout",
     "output_type": "stream",
     "text": [
      "\n",
      "0: 640x640 1 fire extinguisher, 16.6ms\n",
      "Speed: 5.6ms preprocess, 16.6ms inference, 7.2ms postprocess per image at shape (1, 3, 640, 640)\n",
      "\n",
      "0: 640x640 1 fire extinguisher, 1 helmet, 16.6ms\n",
      "Speed: 4.7ms preprocess, 16.6ms inference, 0.0ms postprocess per image at shape (1, 3, 640, 640)\n"
     ]
    },
    {
     "name": "stderr",
     "output_type": "stream",
     "text": [
      " 63%|█████████████████████████████████████████████████▋                             | 828/1315 [01:03<00:33, 14.49it/s]"
     ]
    },
    {
     "name": "stdout",
     "output_type": "stream",
     "text": [
      "\n",
      "0: 640x640 1 fire extinguisher, 1 helmet, 13.9ms\n",
      "Speed: 0.6ms preprocess, 13.9ms inference, 0.0ms postprocess per image at shape (1, 3, 640, 640)\n",
      "\n",
      "0: 640x640 1 fire extinguisher, 2 helmets, 26.3ms\n",
      "Speed: 3.5ms preprocess, 26.3ms inference, 0.0ms postprocess per image at shape (1, 3, 640, 640)\n"
     ]
    },
    {
     "name": "stderr",
     "output_type": "stream",
     "text": [
      " 63%|█████████████████████████████████████████████████▊                             | 830/1315 [01:03<00:33, 14.38it/s]"
     ]
    },
    {
     "name": "stdout",
     "output_type": "stream",
     "text": [
      "\n",
      "0: 640x640 1 fire extinguisher, 2 helmets, 20.1ms\n",
      "Speed: 4.0ms preprocess, 20.1ms inference, 0.0ms postprocess per image at shape (1, 3, 640, 640)\n",
      "\n",
      "0: 640x640 1 fire extinguisher, 2 helmets, 20.5ms\n",
      "Speed: 3.7ms preprocess, 20.5ms inference, 0.0ms postprocess per image at shape (1, 3, 640, 640)\n"
     ]
    },
    {
     "name": "stderr",
     "output_type": "stream",
     "text": [
      " 63%|█████████████████████████████████████████████████▉                             | 832/1315 [01:04<00:33, 14.48it/s]"
     ]
    },
    {
     "name": "stdout",
     "output_type": "stream",
     "text": [
      "\n",
      "0: 640x640 1 fire extinguisher, 2 helmets, 18.4ms\n",
      "Speed: 4.0ms preprocess, 18.4ms inference, 0.0ms postprocess per image at shape (1, 3, 640, 640)\n",
      "\n",
      "0: 640x640 1 fire extinguisher, 1 helmet, 16.9ms\n",
      "Speed: 4.8ms preprocess, 16.9ms inference, 0.0ms postprocess per image at shape (1, 3, 640, 640)\n"
     ]
    },
    {
     "name": "stderr",
     "output_type": "stream",
     "text": [
      " 63%|██████████████████████████████████████████████████                             | 834/1315 [01:04<00:33, 14.48it/s]"
     ]
    },
    {
     "name": "stdout",
     "output_type": "stream",
     "text": [
      "\n",
      "0: 640x640 1 fire extinguisher, 2 helmets, 15.8ms\n",
      "Speed: 0.5ms preprocess, 15.8ms inference, 0.0ms postprocess per image at shape (1, 3, 640, 640)\n",
      "\n",
      "0: 640x640 2 helmets, 16.6ms\n",
      "Speed: 4.1ms preprocess, 16.6ms inference, 0.0ms postprocess per image at shape (1, 3, 640, 640)\n"
     ]
    },
    {
     "name": "stderr",
     "output_type": "stream",
     "text": [
      " 64%|██████████████████████████████████████████████████▏                            | 836/1315 [01:04<00:32, 14.76it/s]"
     ]
    },
    {
     "name": "stdout",
     "output_type": "stream",
     "text": [
      "\n",
      "0: 640x640 2 helmets, 17.0ms\n",
      "Speed: 5.0ms preprocess, 17.0ms inference, 0.0ms postprocess per image at shape (1, 3, 640, 640)\n",
      "\n",
      "0: 640x640 2 helmets, 18.7ms\n",
      "Speed: 4.6ms preprocess, 18.7ms inference, 0.0ms postprocess per image at shape (1, 3, 640, 640)\n"
     ]
    },
    {
     "name": "stderr",
     "output_type": "stream",
     "text": [
      " 64%|██████████████████████████████████████████████████▎                            | 838/1315 [01:04<00:32, 14.90it/s]"
     ]
    },
    {
     "name": "stdout",
     "output_type": "stream",
     "text": [
      "\n",
      "0: 640x640 2 helmets, 20.2ms\n",
      "Speed: 4.0ms preprocess, 20.2ms inference, 0.0ms postprocess per image at shape (1, 3, 640, 640)\n",
      "\n",
      "0: 640x640 2 helmets, 21.1ms\n",
      "Speed: 5.1ms preprocess, 21.1ms inference, 0.0ms postprocess per image at shape (1, 3, 640, 640)\n"
     ]
    },
    {
     "name": "stderr",
     "output_type": "stream",
     "text": [
      " 64%|██████████████████████████████████████████████████▍                            | 840/1315 [01:04<00:31, 14.98it/s]"
     ]
    },
    {
     "name": "stdout",
     "output_type": "stream",
     "text": [
      "\n",
      "0: 640x640 2 helmets, 4.3ms\n",
      "Speed: 4.0ms preprocess, 4.3ms inference, 15.6ms postprocess per image at shape (1, 3, 640, 640)\n",
      "\n",
      "0: 640x640 2 helmets, 20.7ms\n",
      "Speed: 3.6ms preprocess, 20.7ms inference, 1.0ms postprocess per image at shape (1, 3, 640, 640)\n"
     ]
    },
    {
     "name": "stderr",
     "output_type": "stream",
     "text": [
      " 64%|██████████████████████████████████████████████████▌                            | 842/1315 [01:04<00:31, 15.17it/s]"
     ]
    },
    {
     "name": "stdout",
     "output_type": "stream",
     "text": [
      "\n",
      "0: 640x640 2 helmets, 9.5ms\n",
      "Speed: 5.0ms preprocess, 9.5ms inference, 0.0ms postprocess per image at shape (1, 3, 640, 640)\n",
      "\n",
      "0: 640x640 1 fire extinguisher, 2 helmets, 19.3ms\n",
      "Speed: 4.5ms preprocess, 19.3ms inference, 1.0ms postprocess per image at shape (1, 3, 640, 640)\n"
     ]
    },
    {
     "name": "stderr",
     "output_type": "stream",
     "text": [
      " 64%|██████████████████████████████████████████████████▋                            | 844/1315 [01:04<00:31, 15.06it/s]"
     ]
    },
    {
     "name": "stdout",
     "output_type": "stream",
     "text": [
      "\n",
      "0: 640x640 1 fire extinguisher, 2 helmets, 7.5ms\n",
      "Speed: 4.0ms preprocess, 7.5ms inference, 15.6ms postprocess per image at shape (1, 3, 640, 640)\n",
      "\n",
      "0: 640x640 1 fire extinguisher, 2 helmets, 17.8ms\n",
      "Speed: 4.6ms preprocess, 17.8ms inference, 1.0ms postprocess per image at shape (1, 3, 640, 640)\n"
     ]
    },
    {
     "name": "stderr",
     "output_type": "stream",
     "text": [
      " 64%|██████████████████████████████████████████████████▊                            | 846/1315 [01:05<00:30, 15.13it/s]"
     ]
    },
    {
     "name": "stdout",
     "output_type": "stream",
     "text": [
      "\n",
      "0: 640x640 1 fire extinguisher, 2 helmets, 11.1ms\n",
      "Speed: 4.5ms preprocess, 11.1ms inference, 0.0ms postprocess per image at shape (1, 3, 640, 640)\n",
      "\n",
      "0: 640x640 1 fire extinguisher, 2 helmets, 18.0ms\n",
      "Speed: 4.1ms preprocess, 18.0ms inference, 0.0ms postprocess per image at shape (1, 3, 640, 640)\n"
     ]
    },
    {
     "name": "stderr",
     "output_type": "stream",
     "text": [
      " 64%|██████████████████████████████████████████████████▉                            | 848/1315 [01:05<00:30, 15.40it/s]"
     ]
    },
    {
     "name": "stdout",
     "output_type": "stream",
     "text": [
      "\n",
      "0: 640x640 1 fire extinguisher, 2 helmets, 18.0ms\n",
      "Speed: 4.0ms preprocess, 18.0ms inference, 0.0ms postprocess per image at shape (1, 3, 640, 640)\n",
      "\n",
      "0: 640x640 1 fire extinguisher, 2 helmets, 21.0ms\n",
      "Speed: 3.8ms preprocess, 21.0ms inference, 0.0ms postprocess per image at shape (1, 3, 640, 640)\n"
     ]
    },
    {
     "name": "stderr",
     "output_type": "stream",
     "text": [
      " 65%|███████████████████████████████████████████████████                            | 850/1315 [01:05<00:30, 15.24it/s]"
     ]
    },
    {
     "name": "stdout",
     "output_type": "stream",
     "text": [
      "\n",
      "0: 640x640 1 fire extinguisher, 1 fire signage, 2 helmets, 17.7ms\n",
      "Speed: 5.4ms preprocess, 17.7ms inference, 0.0ms postprocess per image at shape (1, 3, 640, 640)\n",
      "\n",
      "0: 640x640 1 fire extinguisher, 2 helmets, 22.2ms\n",
      "Speed: 3.4ms preprocess, 22.2ms inference, 1.0ms postprocess per image at shape (1, 3, 640, 640)\n"
     ]
    },
    {
     "name": "stderr",
     "output_type": "stream",
     "text": [
      " 65%|███████████████████████████████████████████████████▏                           | 852/1315 [01:05<00:30, 15.07it/s]"
     ]
    },
    {
     "name": "stdout",
     "output_type": "stream",
     "text": [
      "\n",
      "0: 640x640 1 fire extinguisher, 1 fire signage, 2 helmets, 15.5ms\n",
      "Speed: 2.5ms preprocess, 15.5ms inference, 0.0ms postprocess per image at shape (1, 3, 640, 640)\n",
      "\n",
      "0: 640x640 1 fire extinguisher, 1 fire signage, 2 helmets, 24.2ms\n",
      "Speed: 1.0ms preprocess, 24.2ms inference, 1.0ms postprocess per image at shape (1, 3, 640, 640)\n"
     ]
    },
    {
     "name": "stderr",
     "output_type": "stream",
     "text": [
      " 65%|███████████████████████████████████████████████████▎                           | 854/1315 [01:05<00:30, 14.91it/s]"
     ]
    },
    {
     "name": "stdout",
     "output_type": "stream",
     "text": [
      "\n",
      "0: 640x640 1 fire extinguisher, 1 fire signage, 2 helmets, 15.2ms\n",
      "Speed: 0.0ms preprocess, 15.2ms inference, 0.0ms postprocess per image at shape (1, 3, 640, 640)\n",
      "\n",
      "0: 640x640 2 helmets, 26.1ms\n",
      "Speed: 2.5ms preprocess, 26.1ms inference, 1.0ms postprocess per image at shape (1, 3, 640, 640)\n"
     ]
    },
    {
     "name": "stderr",
     "output_type": "stream",
     "text": [
      " 65%|███████████████████████████████████████████████████▍                           | 856/1315 [01:05<00:30, 14.94it/s]"
     ]
    },
    {
     "name": "stdout",
     "output_type": "stream",
     "text": [
      "\n",
      "0: 640x640 1 fire extinguisher, 2 helmets, 16.9ms\n",
      "Speed: 1.4ms preprocess, 16.9ms inference, 0.0ms postprocess per image at shape (1, 3, 640, 640)\n",
      "\n",
      "0: 640x640 1 fire extinguisher, 2 helmets, 22.7ms\n",
      "Speed: 5.1ms preprocess, 22.7ms inference, 1.0ms postprocess per image at shape (1, 3, 640, 640)\n"
     ]
    },
    {
     "name": "stderr",
     "output_type": "stream",
     "text": [
      " 65%|███████████████████████████████████████████████████▌                           | 858/1315 [01:05<00:30, 14.81it/s]"
     ]
    },
    {
     "name": "stdout",
     "output_type": "stream",
     "text": [
      "\n",
      "0: 640x640 2 helmets, 7.4ms\n",
      "Speed: 4.1ms preprocess, 7.4ms inference, 15.6ms postprocess per image at shape (1, 3, 640, 640)\n",
      "\n",
      "0: 640x640 2 helmets, 24.4ms\n",
      "Speed: 3.8ms preprocess, 24.4ms inference, 1.0ms postprocess per image at shape (1, 3, 640, 640)\n"
     ]
    },
    {
     "name": "stderr",
     "output_type": "stream",
     "text": [
      " 65%|███████████████████████████████████████████████████▋                           | 860/1315 [01:05<00:30, 14.89it/s]"
     ]
    },
    {
     "name": "stdout",
     "output_type": "stream",
     "text": [
      "\n",
      "0: 640x640 2 helmets, 9.6ms\n",
      "Speed: 4.0ms preprocess, 9.6ms inference, 13.5ms postprocess per image at shape (1, 3, 640, 640)\n",
      "\n",
      "0: 640x640 2 helmets, 23.8ms\n",
      "Speed: 3.4ms preprocess, 23.8ms inference, 0.0ms postprocess per image at shape (1, 3, 640, 640)\n"
     ]
    },
    {
     "name": "stderr",
     "output_type": "stream",
     "text": [
      " 66%|███████████████████████████████████████████████████▊                           | 862/1315 [01:06<00:30, 14.80it/s]"
     ]
    },
    {
     "name": "stdout",
     "output_type": "stream",
     "text": [
      "\n",
      "0: 640x640 2 helmets, 20.2ms\n",
      "Speed: 4.0ms preprocess, 20.2ms inference, 0.0ms postprocess per image at shape (1, 3, 640, 640)\n",
      "\n",
      "0: 640x640 2 fire extinguishers, 1 fire signage, 21.1ms\n",
      "Speed: 5.1ms preprocess, 21.1ms inference, 0.0ms postprocess per image at shape (1, 3, 640, 640)\n"
     ]
    },
    {
     "name": "stderr",
     "output_type": "stream",
     "text": [
      " 66%|███████████████████████████████████████████████████▉                           | 864/1315 [01:06<00:31, 14.31it/s]"
     ]
    },
    {
     "name": "stdout",
     "output_type": "stream",
     "text": [
      "\n",
      "0: 640x640 2 fire extinguishers, 1 fire signage, 22.9ms\n",
      "Speed: 0.0ms preprocess, 22.9ms inference, 0.0ms postprocess per image at shape (1, 3, 640, 640)\n",
      "\n",
      "0: 640x640 3 fire extinguishers, 1 fire signage, 24.7ms\n",
      "Speed: 2.5ms preprocess, 24.7ms inference, 1.0ms postprocess per image at shape (1, 3, 640, 640)\n"
     ]
    },
    {
     "name": "stderr",
     "output_type": "stream",
     "text": [
      " 66%|████████████████████████████████████████████████████                           | 866/1315 [01:06<00:31, 14.06it/s]"
     ]
    },
    {
     "name": "stdout",
     "output_type": "stream",
     "text": [
      "\n",
      "0: 640x640 3 fire extinguishers, 1 fire signage, 23.5ms\n",
      "Speed: 0.8ms preprocess, 23.5ms inference, 0.0ms postprocess per image at shape (1, 3, 640, 640)\n",
      "\n",
      "0: 640x640 2 fire extinguishers, 1 fire signage, 20.3ms\n",
      "Speed: 3.9ms preprocess, 20.3ms inference, 0.0ms postprocess per image at shape (1, 3, 640, 640)\n"
     ]
    },
    {
     "name": "stderr",
     "output_type": "stream",
     "text": [
      " 66%|████████████████████████████████████████████████████▏                          | 868/1315 [01:06<00:31, 14.07it/s]"
     ]
    },
    {
     "name": "stdout",
     "output_type": "stream",
     "text": [
      "\n",
      "0: 640x640 4 fire extinguishers, 2 fire signages, 15.5ms\n",
      "Speed: 1.6ms preprocess, 15.5ms inference, 0.0ms postprocess per image at shape (1, 3, 640, 640)\n",
      "\n",
      "0: 640x640 4 fire extinguishers, 2 fire signages, 15.6ms\n",
      "Speed: 3.6ms preprocess, 15.6ms inference, 0.0ms postprocess per image at shape (1, 3, 640, 640)\n"
     ]
    },
    {
     "name": "stderr",
     "output_type": "stream",
     "text": [
      " 66%|████████████████████████████████████████████████████▎                          | 870/1315 [01:06<00:32, 13.60it/s]"
     ]
    },
    {
     "name": "stdout",
     "output_type": "stream",
     "text": [
      "\n",
      "0: 640x640 4 fire extinguishers, 27.5ms\n",
      "Speed: 0.0ms preprocess, 27.5ms inference, 0.6ms postprocess per image at shape (1, 3, 640, 640)\n",
      "\n",
      "0: 640x640 4 fire extinguishers, 26.2ms\n",
      "Speed: 2.0ms preprocess, 26.2ms inference, 1.0ms postprocess per image at shape (1, 3, 640, 640)\n"
     ]
    },
    {
     "name": "stderr",
     "output_type": "stream",
     "text": [
      " 66%|████████████████████████████████████████████████████▍                          | 872/1315 [01:06<00:32, 13.52it/s]"
     ]
    },
    {
     "name": "stdout",
     "output_type": "stream",
     "text": [
      "\n",
      "0: 640x640 5 fire extinguishers, 19.8ms\n",
      "Speed: 4.7ms preprocess, 19.8ms inference, 0.0ms postprocess per image at shape (1, 3, 640, 640)\n",
      "\n",
      "0: 640x640 4 fire extinguishers, 1 fire signage, 30.5ms\n",
      "Speed: 4.0ms preprocess, 30.5ms inference, 1.0ms postprocess per image at shape (1, 3, 640, 640)\n"
     ]
    },
    {
     "name": "stderr",
     "output_type": "stream",
     "text": [
      " 66%|████████████████████████████████████████████████████▌                          | 874/1315 [01:07<00:33, 13.16it/s]"
     ]
    },
    {
     "name": "stdout",
     "output_type": "stream",
     "text": [
      "\n",
      "0: 640x640 3 fire extinguishers, 1 fire signage, 23.2ms\n",
      "Speed: 3.5ms preprocess, 23.2ms inference, 1.0ms postprocess per image at shape (1, 3, 640, 640)\n",
      "\n",
      "0: 640x640 1 fire extinguisher, 1 fire signage, 20.8ms\n",
      "Speed: 4.4ms preprocess, 20.8ms inference, 0.0ms postprocess per image at shape (1, 3, 640, 640)\n"
     ]
    },
    {
     "name": "stderr",
     "output_type": "stream",
     "text": [
      " 67%|████████████████████████████████████████████████████▋                          | 876/1315 [01:07<00:32, 13.35it/s]"
     ]
    },
    {
     "name": "stdout",
     "output_type": "stream",
     "text": [
      "\n",
      "0: 640x640 1 fire extinguisher, 1 fire signage, 15.3ms\n",
      "Speed: 2.5ms preprocess, 15.3ms inference, 0.0ms postprocess per image at shape (1, 3, 640, 640)\n",
      "\n",
      "0: 640x640 3 fire extinguishers, 1 fire signage, 25.3ms\n",
      "Speed: 0.5ms preprocess, 25.3ms inference, 1.0ms postprocess per image at shape (1, 3, 640, 640)\n"
     ]
    },
    {
     "name": "stderr",
     "output_type": "stream",
     "text": [
      " 67%|████████████████████████████████████████████████████▋                          | 878/1315 [01:07<00:32, 13.50it/s]"
     ]
    },
    {
     "name": "stdout",
     "output_type": "stream",
     "text": [
      "\n",
      "0: 640x640 4 fire extinguishers, 1 fire signage, 23.9ms\n",
      "Speed: 7.9ms preprocess, 23.9ms inference, 0.0ms postprocess per image at shape (1, 3, 640, 640)\n",
      "\n",
      "0: 640x640 4 fire extinguishers, 1 fire signage, 24.8ms\n",
      "Speed: 0.6ms preprocess, 24.8ms inference, 1.0ms postprocess per image at shape (1, 3, 640, 640)\n"
     ]
    },
    {
     "name": "stderr",
     "output_type": "stream",
     "text": [
      " 67%|████████████████████████████████████████████████████▊                          | 880/1315 [01:07<00:32, 13.56it/s]"
     ]
    },
    {
     "name": "stdout",
     "output_type": "stream",
     "text": [
      "\n",
      "0: 640x640 2 fire extinguishers, 1 fire signage, 25.4ms\n",
      "Speed: 1.6ms preprocess, 25.4ms inference, 0.9ms postprocess per image at shape (1, 3, 640, 640)\n",
      "\n",
      "0: 640x640 2 fire extinguishers, 1 fire signage, 17.6ms\n",
      "Speed: 4.7ms preprocess, 17.6ms inference, 0.0ms postprocess per image at shape (1, 3, 640, 640)\n"
     ]
    },
    {
     "name": "stderr",
     "output_type": "stream",
     "text": [
      " 67%|████████████████████████████████████████████████████▉                          | 882/1315 [01:07<00:31, 13.58it/s]"
     ]
    },
    {
     "name": "stdout",
     "output_type": "stream",
     "text": [
      "\n",
      "0: 640x640 5 fire extinguishers, 1 fire signage, 15.2ms\n",
      "Speed: 4.3ms preprocess, 15.2ms inference, 0.0ms postprocess per image at shape (1, 3, 640, 640)\n",
      "\n",
      "0: 640x640 4 fire extinguishers, 1 fire signage, 17.8ms\n",
      "Speed: 4.5ms preprocess, 17.8ms inference, 0.0ms postprocess per image at shape (1, 3, 640, 640)\n"
     ]
    },
    {
     "name": "stderr",
     "output_type": "stream",
     "text": [
      " 67%|█████████████████████████████████████████████████████                          | 884/1315 [01:07<00:32, 13.33it/s]"
     ]
    },
    {
     "name": "stdout",
     "output_type": "stream",
     "text": [
      "\n",
      "0: 640x640 4 fire extinguishers, 1 fire signage, 24.6ms\n",
      "Speed: 0.0ms preprocess, 24.6ms inference, 0.0ms postprocess per image at shape (1, 3, 640, 640)\n",
      "\n",
      "0: 640x640 3 fire extinguishers, 1 fire signage, 18.4ms\n",
      "Speed: 3.5ms preprocess, 18.4ms inference, 0.0ms postprocess per image at shape (1, 3, 640, 640)\n"
     ]
    },
    {
     "name": "stderr",
     "output_type": "stream",
     "text": [
      " 67%|█████████████████████████████████████████████████████▏                         | 886/1315 [01:07<00:31, 13.47it/s]"
     ]
    },
    {
     "name": "stdout",
     "output_type": "stream",
     "text": [
      "\n",
      "0: 640x640 4 fire extinguishers, 1 fire signage, 13.0ms\n",
      "Speed: 3.4ms preprocess, 13.0ms inference, 0.0ms postprocess per image at shape (1, 3, 640, 640)\n",
      "\n",
      "0: 640x640 2 fire extinguishers, 1 fire signage, 19.9ms\n",
      "Speed: 5.2ms preprocess, 19.9ms inference, 0.0ms postprocess per image at shape (1, 3, 640, 640)\n"
     ]
    },
    {
     "name": "stderr",
     "output_type": "stream",
     "text": [
      " 68%|█████████████████████████████████████████████████████▎                         | 888/1315 [01:08<00:31, 13.68it/s]"
     ]
    },
    {
     "name": "stdout",
     "output_type": "stream",
     "text": [
      "\n",
      "0: 640x640 6 fire extinguishers, 1 fire signage, 12.0ms\n",
      "Speed: 3.0ms preprocess, 12.0ms inference, 16.0ms postprocess per image at shape (1, 3, 640, 640)\n",
      "\n",
      "0: 640x640 6 fire extinguishers, 1 fire signage, 17.3ms\n",
      "Speed: 4.7ms preprocess, 17.3ms inference, 0.0ms postprocess per image at shape (1, 3, 640, 640)\n"
     ]
    },
    {
     "name": "stderr",
     "output_type": "stream",
     "text": [
      " 68%|█████████████████████████████████████████████████████▍                         | 890/1315 [01:08<00:31, 13.30it/s]"
     ]
    },
    {
     "name": "stdout",
     "output_type": "stream",
     "text": [
      "\n",
      "0: 640x640 6 fire extinguishers, 1 fire signage, 12.5ms\n",
      "Speed: 0.8ms preprocess, 12.5ms inference, 0.0ms postprocess per image at shape (1, 3, 640, 640)\n",
      "\n",
      "0: 640x640 6 fire extinguishers, 1 fire signage, 27.1ms\n",
      "Speed: 2.5ms preprocess, 27.1ms inference, 1.0ms postprocess per image at shape (1, 3, 640, 640)\n"
     ]
    },
    {
     "name": "stderr",
     "output_type": "stream",
     "text": [
      " 68%|█████████████████████████████████████████████████████▌                         | 892/1315 [01:08<00:32, 13.13it/s]"
     ]
    },
    {
     "name": "stdout",
     "output_type": "stream",
     "text": [
      "\n",
      "0: 640x640 8 fire extinguishers, 1 fire signage, 19.4ms\n",
      "Speed: 4.5ms preprocess, 19.4ms inference, 0.0ms postprocess per image at shape (1, 3, 640, 640)\n",
      "\n",
      "0: 640x640 7 fire extinguishers, 1 fire signage, 25.4ms\n",
      "Speed: 0.7ms preprocess, 25.4ms inference, 1.0ms postprocess per image at shape (1, 3, 640, 640)\n"
     ]
    },
    {
     "name": "stderr",
     "output_type": "stream",
     "text": [
      " 68%|█████████████████████████████████████████████████████▋                         | 894/1315 [01:08<00:32, 12.91it/s]"
     ]
    },
    {
     "name": "stdout",
     "output_type": "stream",
     "text": [
      "\n",
      "0: 640x640 7 fire extinguishers, 1 fire signage, 10.4ms\n",
      "Speed: 0.6ms preprocess, 10.4ms inference, 16.0ms postprocess per image at shape (1, 3, 640, 640)\n",
      "\n",
      "0: 640x640 6 fire extinguishers, 1 fire signage, 16.4ms\n",
      "Speed: 4.8ms preprocess, 16.4ms inference, 0.0ms postprocess per image at shape (1, 3, 640, 640)\n"
     ]
    },
    {
     "name": "stderr",
     "output_type": "stream",
     "text": [
      " 68%|█████████████████████████████████████████████████████▊                         | 896/1315 [01:08<00:32, 12.90it/s]"
     ]
    },
    {
     "name": "stdout",
     "output_type": "stream",
     "text": [
      "\n",
      "0: 640x640 6 fire extinguishers, 1 fire signage, 19.6ms\n",
      "Speed: 11.1ms preprocess, 19.6ms inference, 0.0ms postprocess per image at shape (1, 3, 640, 640)\n",
      "\n",
      "0: 640x640 2 fire extinguishers, 1 fire signage, 26.5ms\n",
      "Speed: 1.5ms preprocess, 26.5ms inference, 1.0ms postprocess per image at shape (1, 3, 640, 640)\n"
     ]
    },
    {
     "name": "stderr",
     "output_type": "stream",
     "text": [
      " 68%|█████████████████████████████████████████████████████▉                         | 898/1315 [01:08<00:31, 13.05it/s]"
     ]
    },
    {
     "name": "stdout",
     "output_type": "stream",
     "text": [
      "\n",
      "0: 640x640 1 fire extinguisher, 1 fire signage, 19.7ms\n",
      "Speed: 5.3ms preprocess, 19.7ms inference, 0.0ms postprocess per image at shape (1, 3, 640, 640)\n",
      "\n",
      "0: 640x640 1 fire extinguisher, 1 fire signage, 18.1ms\n",
      "Speed: 4.7ms preprocess, 18.1ms inference, 0.0ms postprocess per image at shape (1, 3, 640, 640)\n"
     ]
    },
    {
     "name": "stderr",
     "output_type": "stream",
     "text": [
      " 68%|██████████████████████████████████████████████████████                         | 900/1315 [01:08<00:30, 13.49it/s]"
     ]
    },
    {
     "name": "stdout",
     "output_type": "stream",
     "text": [
      "\n",
      "0: 640x640 1 fire signage, 1 helmet, 16.3ms\n",
      "Speed: 5.7ms preprocess, 16.3ms inference, 0.0ms postprocess per image at shape (1, 3, 640, 640)\n",
      "\n",
      "0: 640x640 1 fire signage, 1 helmet, 22.5ms\n",
      "Speed: 4.7ms preprocess, 22.5ms inference, 1.0ms postprocess per image at shape (1, 3, 640, 640)\n"
     ]
    },
    {
     "name": "stderr",
     "output_type": "stream",
     "text": [
      " 69%|██████████████████████████████████████████████████████▏                        | 902/1315 [01:09<00:29, 13.94it/s]"
     ]
    },
    {
     "name": "stdout",
     "output_type": "stream",
     "text": [
      "\n",
      "0: 640x640 1 extinguisher-helmet, 1 fire signage, 1 helmet, 19.9ms\n",
      "Speed: 4.0ms preprocess, 19.9ms inference, 0.0ms postprocess per image at shape (1, 3, 640, 640)\n",
      "\n",
      "0: 640x640 1 fire signage, 1 helmet, 16.4ms\n",
      "Speed: 5.6ms preprocess, 16.4ms inference, 0.0ms postprocess per image at shape (1, 3, 640, 640)\n"
     ]
    },
    {
     "name": "stderr",
     "output_type": "stream",
     "text": [
      " 69%|██████████████████████████████████████████████████████▎                        | 904/1315 [01:09<00:28, 14.18it/s]"
     ]
    },
    {
     "name": "stdout",
     "output_type": "stream",
     "text": [
      "\n",
      "0: 640x640 1 fire signage, 1 helmet, 15.5ms\n",
      "Speed: 4.6ms preprocess, 15.5ms inference, 0.0ms postprocess per image at shape (1, 3, 640, 640)\n",
      "\n",
      "0: 640x640 1 fire signage, 1 helmet, 22.1ms\n",
      "Speed: 4.8ms preprocess, 22.1ms inference, 1.0ms postprocess per image at shape (1, 3, 640, 640)\n"
     ]
    },
    {
     "name": "stderr",
     "output_type": "stream",
     "text": [
      " 69%|██████████████████████████████████████████████████████▍                        | 906/1315 [01:09<00:28, 14.36it/s]"
     ]
    },
    {
     "name": "stdout",
     "output_type": "stream",
     "text": [
      "\n",
      "0: 640x640 2 fire signages, 1 helmet, 24.3ms\n",
      "Speed: 1.5ms preprocess, 24.3ms inference, 1.9ms postprocess per image at shape (1, 3, 640, 640)\n",
      "\n",
      "0: 640x640 1 fire extinguisher, 1 fire signage, 1 helmet, 27.2ms\n",
      "Speed: 0.0ms preprocess, 27.2ms inference, 1.0ms postprocess per image at shape (1, 3, 640, 640)\n"
     ]
    },
    {
     "name": "stderr",
     "output_type": "stream",
     "text": [
      " 69%|██████████████████████████████████████████████████████▌                        | 908/1315 [01:09<00:28, 14.31it/s]"
     ]
    },
    {
     "name": "stdout",
     "output_type": "stream",
     "text": [
      "\n",
      "0: 640x640 1 fire signage, 1 helmet, 22.0ms\n",
      "Speed: 4.0ms preprocess, 22.0ms inference, 0.0ms postprocess per image at shape (1, 3, 640, 640)\n",
      "\n",
      "0: 640x640 1 fire signage, 24.1ms\n",
      "Speed: 4.0ms preprocess, 24.1ms inference, 0.0ms postprocess per image at shape (1, 3, 640, 640)\n"
     ]
    },
    {
     "name": "stderr",
     "output_type": "stream",
     "text": [
      " 69%|██████████████████████████████████████████████████████▋                        | 910/1315 [01:09<00:28, 14.39it/s]"
     ]
    },
    {
     "name": "stdout",
     "output_type": "stream",
     "text": [
      "\n",
      "0: 640x640 1 fire signage, 1 helmet, 19.1ms\n",
      "Speed: 4.0ms preprocess, 19.1ms inference, 0.0ms postprocess per image at shape (1, 3, 640, 640)\n",
      "\n",
      "0: 640x640 1 fire extinguisher, 1 fire signage, 1 helmet, 19.2ms\n",
      "Speed: 4.5ms preprocess, 19.2ms inference, 0.0ms postprocess per image at shape (1, 3, 640, 640)\n"
     ]
    },
    {
     "name": "stderr",
     "output_type": "stream",
     "text": [
      " 69%|██████████████████████████████████████████████████████▊                        | 912/1315 [01:09<00:27, 14.46it/s]"
     ]
    },
    {
     "name": "stdout",
     "output_type": "stream",
     "text": [
      "\n",
      "0: 640x640 1 fire signage, 1 helmet, 14.2ms\n",
      "Speed: 4.9ms preprocess, 14.2ms inference, 0.0ms postprocess per image at shape (1, 3, 640, 640)\n",
      "\n",
      "0: 640x640 1 fire signage, 17.9ms\n",
      "Speed: 3.3ms preprocess, 17.9ms inference, 0.0ms postprocess per image at shape (1, 3, 640, 640)\n"
     ]
    },
    {
     "name": "stderr",
     "output_type": "stream",
     "text": [
      " 70%|██████████████████████████████████████████████████████▉                        | 914/1315 [01:09<00:27, 14.65it/s]"
     ]
    },
    {
     "name": "stdout",
     "output_type": "stream",
     "text": [
      "\n",
      "0: 640x640 1 fire signage, 1 helmet, 16.5ms\n",
      "Speed: 4.6ms preprocess, 16.5ms inference, 0.0ms postprocess per image at shape (1, 3, 640, 640)\n",
      "\n",
      "0: 640x640 1 fire signage, 1 helmet, 17.9ms\n",
      "Speed: 4.2ms preprocess, 17.9ms inference, 0.0ms postprocess per image at shape (1, 3, 640, 640)\n"
     ]
    },
    {
     "name": "stderr",
     "output_type": "stream",
     "text": [
      " 70%|███████████████████████████████████████████████████████                        | 916/1315 [01:10<00:26, 14.82it/s]"
     ]
    },
    {
     "name": "stdout",
     "output_type": "stream",
     "text": [
      "\n",
      "0: 640x640 1 fire signage, 1 helmet, 16.0ms\n",
      "Speed: 3.5ms preprocess, 16.0ms inference, 0.0ms postprocess per image at shape (1, 3, 640, 640)\n",
      "\n",
      "0: 640x640 1 fire signage, 1 helmet, 22.1ms\n",
      "Speed: 5.9ms preprocess, 22.1ms inference, 0.0ms postprocess per image at shape (1, 3, 640, 640)\n"
     ]
    },
    {
     "name": "stderr",
     "output_type": "stream",
     "text": [
      " 70%|███████████████████████████████████████████████████████▏                       | 918/1315 [01:10<00:26, 14.84it/s]"
     ]
    },
    {
     "name": "stdout",
     "output_type": "stream",
     "text": [
      "\n",
      "0: 640x640 1 fire signage, 1 helmet, 17.9ms\n",
      "Speed: 4.0ms preprocess, 17.9ms inference, 0.0ms postprocess per image at shape (1, 3, 640, 640)\n",
      "\n",
      "0: 640x640 1 fire signage, 1 helmet, 19.1ms\n",
      "Speed: 5.0ms preprocess, 19.1ms inference, 0.0ms postprocess per image at shape (1, 3, 640, 640)\n"
     ]
    },
    {
     "name": "stderr",
     "output_type": "stream",
     "text": [
      " 70%|███████████████████████████████████████████████████████▎                       | 920/1315 [01:10<00:26, 14.89it/s]"
     ]
    },
    {
     "name": "stdout",
     "output_type": "stream",
     "text": [
      "\n",
      "0: 640x640 1 fire signage, 1 helmet, 16.0ms\n",
      "Speed: 5.0ms preprocess, 16.0ms inference, 0.0ms postprocess per image at shape (1, 3, 640, 640)\n",
      "\n",
      "0: 640x640 1 fire signage, 25.3ms\n",
      "Speed: 2.5ms preprocess, 25.3ms inference, 1.0ms postprocess per image at shape (1, 3, 640, 640)\n"
     ]
    },
    {
     "name": "stderr",
     "output_type": "stream",
     "text": [
      " 70%|███████████████████████████████████████████████████████▍                       | 922/1315 [01:10<00:26, 14.66it/s]"
     ]
    },
    {
     "name": "stdout",
     "output_type": "stream",
     "text": [
      "\n",
      "0: 640x640 1 fire signage, 12.8ms\n",
      "Speed: 2.7ms preprocess, 12.8ms inference, 0.0ms postprocess per image at shape (1, 3, 640, 640)\n",
      "\n",
      "0: 640x640 1 fire extinguisher, 1 fire signage, 22.6ms\n",
      "Speed: 5.2ms preprocess, 22.6ms inference, 0.0ms postprocess per image at shape (1, 3, 640, 640)\n"
     ]
    },
    {
     "name": "stderr",
     "output_type": "stream",
     "text": [
      " 70%|███████████████████████████████████████████████████████▌                       | 924/1315 [01:10<00:27, 14.48it/s]"
     ]
    },
    {
     "name": "stdout",
     "output_type": "stream",
     "text": [
      "\n",
      "0: 640x640 1 fire extinguisher, 2 fire signages, 17.8ms\n",
      "Speed: 5.4ms preprocess, 17.8ms inference, 0.0ms postprocess per image at shape (1, 3, 640, 640)\n",
      "\n",
      "0: 640x640 2 extinguisher-helmets, 1 fire extinguisher, 2 fire signages, 16.6ms\n",
      "Speed: 4.6ms preprocess, 16.6ms inference, 0.0ms postprocess per image at shape (1, 3, 640, 640)\n"
     ]
    },
    {
     "name": "stderr",
     "output_type": "stream",
     "text": [
      " 70%|███████████████████████████████████████████████████████▋                       | 926/1315 [01:10<00:27, 14.29it/s]"
     ]
    },
    {
     "name": "stdout",
     "output_type": "stream",
     "text": [
      "\n",
      "0: 640x640 3 fire extinguishers, 2 fire signages, 25.4ms\n",
      "Speed: 1.0ms preprocess, 25.4ms inference, 0.9ms postprocess per image at shape (1, 3, 640, 640)\n",
      "\n",
      "0: 640x640 1 fire extinguisher, 1 fire signage, 20.8ms\n",
      "Speed: 4.8ms preprocess, 20.8ms inference, 1.0ms postprocess per image at shape (1, 3, 640, 640)\n"
     ]
    },
    {
     "name": "stderr",
     "output_type": "stream",
     "text": [
      " 71%|███████████████████████████████████████████████████████▊                       | 928/1315 [01:10<00:27, 14.11it/s]"
     ]
    },
    {
     "name": "stdout",
     "output_type": "stream",
     "text": [
      "\n",
      "0: 640x640 2 extinguisher-helmets, 1 fire signage, 14.6ms\n",
      "Speed: 0.6ms preprocess, 14.6ms inference, 15.0ms postprocess per image at shape (1, 3, 640, 640)\n",
      "\n",
      "0: 640x640 1 fire signage, 20.8ms\n",
      "Speed: 4.5ms preprocess, 20.8ms inference, 0.0ms postprocess per image at shape (1, 3, 640, 640)\n"
     ]
    },
    {
     "name": "stderr",
     "output_type": "stream",
     "text": [
      " 71%|███████████████████████████████████████████████████████▊                       | 930/1315 [01:11<00:27, 14.15it/s]"
     ]
    },
    {
     "name": "stdout",
     "output_type": "stream",
     "text": [
      "\n",
      "0: 640x640 1 fire signage, 23.4ms\n",
      "Speed: 4.0ms preprocess, 23.4ms inference, 1.0ms postprocess per image at shape (1, 3, 640, 640)\n",
      "\n",
      "0: 640x640 1 fire signage, 23.8ms\n",
      "Speed: 3.8ms preprocess, 23.8ms inference, 1.9ms postprocess per image at shape (1, 3, 640, 640)\n"
     ]
    },
    {
     "name": "stderr",
     "output_type": "stream",
     "text": [
      " 71%|███████████████████████████████████████████████████████▉                       | 932/1315 [01:11<00:26, 14.25it/s]"
     ]
    },
    {
     "name": "stdout",
     "output_type": "stream",
     "text": [
      "\n",
      "0: 640x640 1 fire signage, 15.6ms\n",
      "Speed: 3.2ms preprocess, 15.6ms inference, 0.0ms postprocess per image at shape (1, 3, 640, 640)\n",
      "\n",
      "0: 640x640 1 fire extinguisher, 1 fire signage, 16.5ms\n",
      "Speed: 4.7ms preprocess, 16.5ms inference, 0.0ms postprocess per image at shape (1, 3, 640, 640)\n"
     ]
    },
    {
     "name": "stderr",
     "output_type": "stream",
     "text": [
      " 71%|████████████████████████████████████████████████████████                       | 934/1315 [01:11<00:26, 14.28it/s]"
     ]
    },
    {
     "name": "stdout",
     "output_type": "stream",
     "text": [
      "\n",
      "0: 640x640 2 fire extinguishers, 1 fire signage, 13.5ms\n",
      "Speed: 0.6ms preprocess, 13.5ms inference, 0.0ms postprocess per image at shape (1, 3, 640, 640)\n",
      "\n",
      "0: 640x640 2 fire extinguishers, 1 fire signage, 22.3ms\n",
      "Speed: 4.9ms preprocess, 22.3ms inference, 1.0ms postprocess per image at shape (1, 3, 640, 640)\n"
     ]
    },
    {
     "name": "stderr",
     "output_type": "stream",
     "text": [
      " 71%|████████████████████████████████████████████████████████▏                      | 936/1315 [01:11<00:26, 14.25it/s]"
     ]
    },
    {
     "name": "stdout",
     "output_type": "stream",
     "text": [
      "\n",
      "0: 640x640 2 fire extinguishers, 2 fire signages, 19.6ms\n",
      "Speed: 4.4ms preprocess, 19.6ms inference, 0.0ms postprocess per image at shape (1, 3, 640, 640)\n",
      "\n",
      "0: 640x640 1 fire extinguisher, 1 fire signage, 17.6ms\n",
      "Speed: 4.6ms preprocess, 17.6ms inference, 0.0ms postprocess per image at shape (1, 3, 640, 640)\n"
     ]
    },
    {
     "name": "stderr",
     "output_type": "stream",
     "text": [
      " 71%|████████████████████████████████████████████████████████▎                      | 938/1315 [01:11<00:26, 14.19it/s]"
     ]
    },
    {
     "name": "stdout",
     "output_type": "stream",
     "text": [
      "\n",
      "0: 640x640 1 fire extinguisher, 1 fire signage, 33.6ms\n",
      "Speed: 0.0ms preprocess, 33.6ms inference, 0.0ms postprocess per image at shape (1, 3, 640, 640)\n",
      "\n",
      "0: 640x640 1 fire extinguisher, 1 fire signage, 25.3ms\n",
      "Speed: 1.6ms preprocess, 25.3ms inference, 1.0ms postprocess per image at shape (1, 3, 640, 640)\n"
     ]
    },
    {
     "name": "stderr",
     "output_type": "stream",
     "text": [
      " 71%|████████████████████████████████████████████████████████▍                      | 940/1315 [01:11<00:27, 13.79it/s]"
     ]
    },
    {
     "name": "stdout",
     "output_type": "stream",
     "text": [
      "\n",
      "0: 640x640 1 extinguisher-helmet, 1 fire signage, 19.1ms\n",
      "Speed: 5.0ms preprocess, 19.1ms inference, 0.0ms postprocess per image at shape (1, 3, 640, 640)\n",
      "\n",
      "0: 640x640 1 fire signage, 27.1ms\n",
      "Speed: 1.1ms preprocess, 27.1ms inference, 1.0ms postprocess per image at shape (1, 3, 640, 640)\n"
     ]
    },
    {
     "name": "stderr",
     "output_type": "stream",
     "text": [
      " 72%|████████████████████████████████████████████████████████▌                      | 942/1315 [01:11<00:27, 13.59it/s]"
     ]
    },
    {
     "name": "stdout",
     "output_type": "stream",
     "text": [
      "\n",
      "0: 640x640 1 fire signage, 23.4ms\n",
      "Speed: 5.2ms preprocess, 23.4ms inference, 0.8ms postprocess per image at shape (1, 3, 640, 640)\n",
      "\n",
      "0: 640x640 1 fire signage, 24.5ms\n",
      "Speed: 4.6ms preprocess, 24.5ms inference, 1.0ms postprocess per image at shape (1, 3, 640, 640)\n"
     ]
    },
    {
     "name": "stderr",
     "output_type": "stream",
     "text": [
      " 72%|████████████████████████████████████████████████████████▋                      | 944/1315 [01:12<00:27, 13.43it/s]"
     ]
    },
    {
     "name": "stdout",
     "output_type": "stream",
     "text": [
      "\n",
      "0: 640x640 1 fire extinguisher, 1 fire signage, 17.2ms\n",
      "Speed: 7.4ms preprocess, 17.2ms inference, 0.0ms postprocess per image at shape (1, 3, 640, 640)\n",
      "\n",
      "0: 640x640 1 fire extinguisher, 2 fire signages, 23.1ms\n",
      "Speed: 5.5ms preprocess, 23.1ms inference, 1.4ms postprocess per image at shape (1, 3, 640, 640)\n"
     ]
    },
    {
     "name": "stderr",
     "output_type": "stream",
     "text": [
      " 72%|████████████████████████████████████████████████████████▊                      | 946/1315 [01:12<00:28, 13.02it/s]"
     ]
    },
    {
     "name": "stdout",
     "output_type": "stream",
     "text": [
      "\n",
      "0: 640x640 1 fire extinguisher, 2 fire signages, 21.9ms\n",
      "Speed: 15.6ms preprocess, 21.9ms inference, 0.0ms postprocess per image at shape (1, 3, 640, 640)\n",
      "\n",
      "0: 640x640 1 extinguisher-helmet, 1 fire signage, 28.5ms\n",
      "Speed: 0.0ms preprocess, 28.5ms inference, 1.0ms postprocess per image at shape (1, 3, 640, 640)\n"
     ]
    },
    {
     "name": "stderr",
     "output_type": "stream",
     "text": [
      " 72%|████████████████████████████████████████████████████████▉                      | 948/1315 [01:12<00:28, 13.03it/s]"
     ]
    },
    {
     "name": "stdout",
     "output_type": "stream",
     "text": [
      "\n",
      "0: 640x640 1 fire signage, 16.2ms\n",
      "Speed: 2.5ms preprocess, 16.2ms inference, 0.0ms postprocess per image at shape (1, 3, 640, 640)\n",
      "\n",
      "0: 640x640 1 fire extinguisher, 2 fire signages, 23.4ms\n",
      "Speed: 5.2ms preprocess, 23.4ms inference, 1.0ms postprocess per image at shape (1, 3, 640, 640)\n"
     ]
    },
    {
     "name": "stderr",
     "output_type": "stream",
     "text": [
      " 72%|█████████████████████████████████████████████████████████                      | 950/1315 [01:12<00:27, 13.07it/s]"
     ]
    },
    {
     "name": "stdout",
     "output_type": "stream",
     "text": [
      "\n",
      "0: 640x640 2 fire extinguishers, 1 fire signage, 25.0ms\n",
      "Speed: 1.5ms preprocess, 25.0ms inference, 0.0ms postprocess per image at shape (1, 3, 640, 640)\n",
      "\n",
      "0: 640x640 1 fire extinguisher, 2 fire signages, 16.3ms\n",
      "Speed: 6.0ms preprocess, 16.3ms inference, 0.0ms postprocess per image at shape (1, 3, 640, 640)\n"
     ]
    },
    {
     "name": "stderr",
     "output_type": "stream",
     "text": [
      " 72%|█████████████████████████████████████████████████████████▏                     | 952/1315 [01:12<00:28, 12.95it/s]"
     ]
    },
    {
     "name": "stdout",
     "output_type": "stream",
     "text": [
      "\n",
      "0: 640x640 1 fire extinguisher, 2 fire signages, 27.4ms\n",
      "Speed: 10.5ms preprocess, 27.4ms inference, 0.0ms postprocess per image at shape (1, 3, 640, 640)\n",
      "\n",
      "0: 640x640 1 fire extinguisher, 2 fire signages, 32.2ms\n",
      "Speed: 0.0ms preprocess, 32.2ms inference, 2.3ms postprocess per image at shape (1, 3, 640, 640)\n"
     ]
    },
    {
     "name": "stderr",
     "output_type": "stream",
     "text": [
      " 73%|█████████████████████████████████████████████████████████▎                     | 954/1315 [01:12<00:28, 12.85it/s]"
     ]
    },
    {
     "name": "stdout",
     "output_type": "stream",
     "text": [
      "\n",
      "0: 640x640 1 fire extinguisher, 2 fire signages, 13.6ms\n",
      "Speed: 3.2ms preprocess, 13.6ms inference, 0.0ms postprocess per image at shape (1, 3, 640, 640)\n",
      "\n",
      "0: 640x640 2 fire extinguishers, 2 fire signages, 25.2ms\n",
      "Speed: 3.0ms preprocess, 25.2ms inference, 1.0ms postprocess per image at shape (1, 3, 640, 640)\n"
     ]
    },
    {
     "name": "stderr",
     "output_type": "stream",
     "text": [
      " 73%|█████████████████████████████████████████████████████████▍                     | 956/1315 [01:12<00:28, 12.70it/s]"
     ]
    },
    {
     "name": "stdout",
     "output_type": "stream",
     "text": [
      "\n",
      "0: 640x640 1 fire extinguisher, 2 fire signages, 24.4ms\n",
      "Speed: 4.2ms preprocess, 24.4ms inference, 1.1ms postprocess per image at shape (1, 3, 640, 640)\n",
      "\n",
      "0: 640x640 1 fire extinguisher, 2 fire signages, 19.7ms\n",
      "Speed: 4.7ms preprocess, 19.7ms inference, 0.0ms postprocess per image at shape (1, 3, 640, 640)\n"
     ]
    },
    {
     "name": "stderr",
     "output_type": "stream",
     "text": [
      " 73%|█████████████████████████████████████████████████████████▌                     | 958/1315 [01:13<00:28, 12.60it/s]"
     ]
    },
    {
     "name": "stdout",
     "output_type": "stream",
     "text": [
      "\n",
      "0: 640x640 1 fire extinguisher, 2 fire signages, 19.7ms\n",
      "Speed: 7.5ms preprocess, 19.7ms inference, 0.0ms postprocess per image at shape (1, 3, 640, 640)\n",
      "\n",
      "0: 640x640 1 fire extinguisher, 2 fire signages, 24.7ms\n",
      "Speed: 5.3ms preprocess, 24.7ms inference, 1.0ms postprocess per image at shape (1, 3, 640, 640)\n"
     ]
    },
    {
     "name": "stderr",
     "output_type": "stream",
     "text": [
      " 73%|█████████████████████████████████████████████████████████▋                     | 960/1315 [01:13<00:28, 12.40it/s]"
     ]
    },
    {
     "name": "stdout",
     "output_type": "stream",
     "text": [
      "\n",
      "0: 640x640 1 fire extinguisher, 1 fire signage, 19.6ms\n",
      "Speed: 14.5ms preprocess, 19.6ms inference, 0.0ms postprocess per image at shape (1, 3, 640, 640)\n",
      "\n",
      "0: 640x640 1 fire extinguisher, 1 fire signage, 31.2ms\n",
      "Speed: 0.0ms preprocess, 31.2ms inference, 1.0ms postprocess per image at shape (1, 3, 640, 640)\n"
     ]
    },
    {
     "name": "stderr",
     "output_type": "stream",
     "text": [
      " 73%|█████████████████████████████████████████████████████████▊                     | 962/1315 [01:13<00:28, 12.44it/s]"
     ]
    },
    {
     "name": "stdout",
     "output_type": "stream",
     "text": [
      "\n",
      "0: 640x640 1 fire extinguisher, 1 fire signage, 8.8ms\n",
      "Speed: 6.3ms preprocess, 8.8ms inference, 0.0ms postprocess per image at shape (1, 3, 640, 640)\n",
      "\n",
      "0: 640x640 1 fire extinguisher, 1 fire signage, 22.9ms\n",
      "Speed: 5.8ms preprocess, 22.9ms inference, 1.0ms postprocess per image at shape (1, 3, 640, 640)\n"
     ]
    },
    {
     "name": "stderr",
     "output_type": "stream",
     "text": [
      " 73%|█████████████████████████████████████████████████████████▉                     | 964/1315 [01:13<00:28, 12.40it/s]"
     ]
    },
    {
     "name": "stdout",
     "output_type": "stream",
     "text": [
      "\n",
      "0: 640x640 1 fire extinguisher, 1 fire signage, 15.1ms\n",
      "Speed: 5.0ms preprocess, 15.1ms inference, 0.0ms postprocess per image at shape (1, 3, 640, 640)\n",
      "\n",
      "0: 640x640 1 fire extinguisher, 1 fire signage, 22.7ms\n",
      "Speed: 6.0ms preprocess, 22.7ms inference, 1.0ms postprocess per image at shape (1, 3, 640, 640)\n"
     ]
    },
    {
     "name": "stderr",
     "output_type": "stream",
     "text": [
      " 73%|██████████████████████████████████████████████████████████                     | 966/1315 [01:13<00:28, 12.35it/s]"
     ]
    },
    {
     "name": "stdout",
     "output_type": "stream",
     "text": [
      "\n",
      "0: 640x640 1 fire extinguisher, 1 fire signage, 23.8ms\n",
      "Speed: 15.0ms preprocess, 23.8ms inference, 0.0ms postprocess per image at shape (1, 3, 640, 640)\n",
      "\n",
      "0: 640x640 1 fire signage, 27.4ms\n",
      "Speed: 0.9ms preprocess, 27.4ms inference, 2.0ms postprocess per image at shape (1, 3, 640, 640)\n"
     ]
    },
    {
     "name": "stderr",
     "output_type": "stream",
     "text": [
      " 74%|██████████████████████████████████████████████████████████▏                    | 968/1315 [01:13<00:27, 12.55it/s]"
     ]
    },
    {
     "name": "stdout",
     "output_type": "stream",
     "text": [
      "\n",
      "0: 640x640 1 fire signage, 15.2ms\n",
      "Speed: 4.5ms preprocess, 15.2ms inference, 0.0ms postprocess per image at shape (1, 3, 640, 640)\n",
      "\n",
      "0: 640x640 (no detections), 22.7ms\n",
      "Speed: 5.0ms preprocess, 22.7ms inference, 0.0ms postprocess per image at shape (1, 3, 640, 640)\n"
     ]
    },
    {
     "name": "stderr",
     "output_type": "stream",
     "text": [
      " 74%|██████████████████████████████████████████████████████████▎                    | 970/1315 [01:14<00:26, 12.96it/s]"
     ]
    },
    {
     "name": "stdout",
     "output_type": "stream",
     "text": [
      "\n",
      "0: 640x640 1 fire signage, 23.1ms\n",
      "Speed: 5.0ms preprocess, 23.1ms inference, 0.0ms postprocess per image at shape (1, 3, 640, 640)\n",
      "\n",
      "0: 640x640 2 fire signages, 17.7ms\n",
      "Speed: 5.1ms preprocess, 17.7ms inference, 0.0ms postprocess per image at shape (1, 3, 640, 640)\n"
     ]
    },
    {
     "name": "stderr",
     "output_type": "stream",
     "text": [
      " 74%|██████████████████████████████████████████████████████████▍                    | 972/1315 [01:14<00:26, 13.08it/s]"
     ]
    },
    {
     "name": "stdout",
     "output_type": "stream",
     "text": [
      "\n",
      "0: 640x640 (no detections), 10.5ms\n",
      "Speed: 0.6ms preprocess, 10.5ms inference, 16.8ms postprocess per image at shape (1, 3, 640, 640)\n",
      "\n",
      "0: 640x640 1 fire signage, 23.2ms\n",
      "Speed: 4.4ms preprocess, 23.2ms inference, 1.0ms postprocess per image at shape (1, 3, 640, 640)\n"
     ]
    },
    {
     "name": "stderr",
     "output_type": "stream",
     "text": [
      " 74%|██████████████████████████████████████████████████████████▌                    | 974/1315 [01:14<00:25, 13.45it/s]"
     ]
    },
    {
     "name": "stdout",
     "output_type": "stream",
     "text": [
      "\n",
      "0: 640x640 2 fire signages, 21.1ms\n",
      "Speed: 4.0ms preprocess, 21.1ms inference, 0.0ms postprocess per image at shape (1, 3, 640, 640)\n",
      "\n",
      "0: 640x640 1 fire signage, 22.9ms\n",
      "Speed: 6.0ms preprocess, 22.9ms inference, 1.0ms postprocess per image at shape (1, 3, 640, 640)\n"
     ]
    },
    {
     "name": "stderr",
     "output_type": "stream",
     "text": [
      " 74%|██████████████████████████████████████████████████████████▋                    | 976/1315 [01:14<00:25, 13.51it/s]"
     ]
    },
    {
     "name": "stdout",
     "output_type": "stream",
     "text": [
      "\n",
      "0: 640x640 1 fire signage, 24.9ms\n",
      "Speed: 0.6ms preprocess, 24.9ms inference, 0.0ms postprocess per image at shape (1, 3, 640, 640)\n",
      "\n",
      "0: 640x640 2 fire signages, 18.6ms\n",
      "Speed: 5.5ms preprocess, 18.6ms inference, 0.0ms postprocess per image at shape (1, 3, 640, 640)\n"
     ]
    },
    {
     "name": "stderr",
     "output_type": "stream",
     "text": [
      " 74%|██████████████████████████████████████████████████████████▊                    | 978/1315 [01:14<00:24, 13.51it/s]"
     ]
    },
    {
     "name": "stdout",
     "output_type": "stream",
     "text": [
      "\n",
      "0: 640x640 2 fire signages, 33.3ms\n",
      "Speed: 0.0ms preprocess, 33.3ms inference, 0.0ms postprocess per image at shape (1, 3, 640, 640)\n",
      "\n",
      "0: 640x640 1 fire signage, 25.4ms\n",
      "Speed: 2.5ms preprocess, 25.4ms inference, 1.0ms postprocess per image at shape (1, 3, 640, 640)\n"
     ]
    },
    {
     "name": "stderr",
     "output_type": "stream",
     "text": [
      " 75%|██████████████████████████████████████████████████████████▊                    | 980/1315 [01:14<00:24, 13.43it/s]"
     ]
    },
    {
     "name": "stdout",
     "output_type": "stream",
     "text": [
      "\n",
      "0: 640x640 2 fire signages, 12.3ms\n",
      "Speed: 0.0ms preprocess, 12.3ms inference, 0.0ms postprocess per image at shape (1, 3, 640, 640)\n",
      "\n",
      "0: 640x640 2 fire signages, 20.2ms\n",
      "Speed: 3.7ms preprocess, 20.2ms inference, 1.0ms postprocess per image at shape (1, 3, 640, 640)\n"
     ]
    },
    {
     "name": "stderr",
     "output_type": "stream",
     "text": [
      " 75%|██████████████████████████████████████████████████████████▉                    | 982/1315 [01:14<00:24, 13.77it/s]"
     ]
    },
    {
     "name": "stdout",
     "output_type": "stream",
     "text": [
      "\n",
      "0: 640x640 2 fire signages, 20.1ms\n",
      "Speed: 4.0ms preprocess, 20.1ms inference, 0.0ms postprocess per image at shape (1, 3, 640, 640)\n",
      "\n",
      "0: 640x640 2 fire signages, 18.7ms\n",
      "Speed: 5.2ms preprocess, 18.7ms inference, 2.0ms postprocess per image at shape (1, 3, 640, 640)\n"
     ]
    },
    {
     "name": "stderr",
     "output_type": "stream",
     "text": [
      " 75%|███████████████████████████████████████████████████████████                    | 984/1315 [01:15<00:23, 14.02it/s]"
     ]
    },
    {
     "name": "stdout",
     "output_type": "stream",
     "text": [
      "\n",
      "0: 640x640 1 fire signage, 17.8ms\n",
      "Speed: 5.0ms preprocess, 17.8ms inference, 0.0ms postprocess per image at shape (1, 3, 640, 640)\n",
      "\n",
      "0: 640x640 2 fire signages, 20.8ms\n",
      "Speed: 5.2ms preprocess, 20.8ms inference, 0.0ms postprocess per image at shape (1, 3, 640, 640)\n"
     ]
    },
    {
     "name": "stderr",
     "output_type": "stream",
     "text": [
      " 75%|███████████████████████████████████████████████████████████▏                   | 986/1315 [01:15<00:23, 14.21it/s]"
     ]
    },
    {
     "name": "stdout",
     "output_type": "stream",
     "text": [
      "\n",
      "0: 640x640 1 fire signage, 15.5ms\n",
      "Speed: 3.5ms preprocess, 15.5ms inference, 0.0ms postprocess per image at shape (1, 3, 640, 640)\n",
      "\n",
      "0: 640x640 1 fire signage, 16.5ms\n",
      "Speed: 4.7ms preprocess, 16.5ms inference, 0.0ms postprocess per image at shape (1, 3, 640, 640)\n"
     ]
    },
    {
     "name": "stderr",
     "output_type": "stream",
     "text": [
      " 75%|███████████████████████████████████████████████████████████▎                   | 988/1315 [01:15<00:22, 14.41it/s]"
     ]
    },
    {
     "name": "stdout",
     "output_type": "stream",
     "text": [
      "\n",
      "0: 640x640 2 fire signages, 15.1ms\n",
      "Speed: 2.1ms preprocess, 15.1ms inference, 0.0ms postprocess per image at shape (1, 3, 640, 640)\n",
      "\n",
      "0: 640x640 1 fire extinguisher, 1 fire signage, 23.1ms\n",
      "Speed: 0.6ms preprocess, 23.1ms inference, 1.0ms postprocess per image at shape (1, 3, 640, 640)\n"
     ]
    },
    {
     "name": "stderr",
     "output_type": "stream",
     "text": [
      " 75%|███████████████████████████████████████████████████████████▍                   | 990/1315 [01:15<00:22, 14.39it/s]"
     ]
    },
    {
     "name": "stdout",
     "output_type": "stream",
     "text": [
      "\n",
      "0: 640x640 (no detections), 16.3ms\n",
      "Speed: 0.0ms preprocess, 16.3ms inference, 0.0ms postprocess per image at shape (1, 3, 640, 640)\n",
      "\n",
      "0: 640x640 (no detections), 19.7ms\n",
      "Speed: 4.0ms preprocess, 19.7ms inference, 1.0ms postprocess per image at shape (1, 3, 640, 640)\n"
     ]
    },
    {
     "name": "stderr",
     "output_type": "stream",
     "text": [
      " 75%|███████████████████████████████████████████████████████████▌                   | 992/1315 [01:15<00:22, 14.66it/s]"
     ]
    },
    {
     "name": "stdout",
     "output_type": "stream",
     "text": [
      "\n",
      "0: 640x640 (no detections), 11.5ms\n",
      "Speed: 4.0ms preprocess, 11.5ms inference, 0.0ms postprocess per image at shape (1, 3, 640, 640)\n",
      "\n",
      "0: 640x640 (no detections), 19.2ms\n",
      "Speed: 4.5ms preprocess, 19.2ms inference, 1.0ms postprocess per image at shape (1, 3, 640, 640)\n"
     ]
    },
    {
     "name": "stderr",
     "output_type": "stream",
     "text": [
      " 76%|███████████████████████████████████████████████████████████▋                   | 994/1315 [01:15<00:21, 15.03it/s]"
     ]
    },
    {
     "name": "stdout",
     "output_type": "stream",
     "text": [
      "\n",
      "0: 640x640 (no detections), 18.7ms\n",
      "Speed: 4.3ms preprocess, 18.7ms inference, 0.0ms postprocess per image at shape (1, 3, 640, 640)\n",
      "\n",
      "0: 640x640 1 fire signage, 20.1ms\n",
      "Speed: 4.6ms preprocess, 20.1ms inference, 0.0ms postprocess per image at shape (1, 3, 640, 640)\n"
     ]
    },
    {
     "name": "stderr",
     "output_type": "stream",
     "text": [
      " 76%|███████████████████████████████████████████████████████████▊                   | 996/1315 [01:15<00:21, 14.95it/s]"
     ]
    },
    {
     "name": "stdout",
     "output_type": "stream",
     "text": [
      "\n",
      "0: 640x640 1 fire signage, 15.6ms\n",
      "Speed: 4.4ms preprocess, 15.6ms inference, 0.0ms postprocess per image at shape (1, 3, 640, 640)\n",
      "\n",
      "0: 640x640 (no detections), 19.6ms\n",
      "Speed: 4.6ms preprocess, 19.6ms inference, 0.0ms postprocess per image at shape (1, 3, 640, 640)\n"
     ]
    },
    {
     "name": "stderr",
     "output_type": "stream",
     "text": [
      " 76%|███████████████████████████████████████████████████████████▉                   | 998/1315 [01:16<00:21, 15.00it/s]"
     ]
    },
    {
     "name": "stdout",
     "output_type": "stream",
     "text": [
      "\n",
      "0: 640x640 (no detections), 17.9ms\n",
      "Speed: 4.0ms preprocess, 17.9ms inference, 0.0ms postprocess per image at shape (1, 3, 640, 640)\n",
      "\n",
      "0: 640x640 (no detections), 19.7ms\n",
      "Speed: 3.9ms preprocess, 19.7ms inference, 1.0ms postprocess per image at shape (1, 3, 640, 640)\n"
     ]
    },
    {
     "name": "stderr",
     "output_type": "stream",
     "text": [
      " 76%|███████████████████████████████████████████████████████████▎                  | 1000/1315 [01:16<00:20, 15.35it/s]"
     ]
    },
    {
     "name": "stdout",
     "output_type": "stream",
     "text": [
      "\n",
      "0: 640x640 1 fire signage, 1 helmet, 16.5ms\n",
      "Speed: 2.7ms preprocess, 16.5ms inference, 0.0ms postprocess per image at shape (1, 3, 640, 640)\n",
      "\n",
      "0: 640x640 (no detections), 20.6ms\n",
      "Speed: 3.8ms preprocess, 20.6ms inference, 1.0ms postprocess per image at shape (1, 3, 640, 640)\n"
     ]
    },
    {
     "name": "stderr",
     "output_type": "stream",
     "text": [
      " 76%|███████████████████████████████████████████████████████████▍                  | 1002/1315 [01:16<00:20, 15.26it/s]"
     ]
    },
    {
     "name": "stdout",
     "output_type": "stream",
     "text": [
      "\n",
      "0: 640x640 1 fire extinguisher, 16.7ms\n",
      "Speed: 0.0ms preprocess, 16.7ms inference, 0.0ms postprocess per image at shape (1, 3, 640, 640)\n",
      "\n",
      "0: 640x640 1 fire extinguisher, 23.1ms\n",
      "Speed: 4.6ms preprocess, 23.1ms inference, 1.0ms postprocess per image at shape (1, 3, 640, 640)\n"
     ]
    },
    {
     "name": "stderr",
     "output_type": "stream",
     "text": [
      " 76%|███████████████████████████████████████████████████████████▌                  | 1004/1315 [01:16<00:20, 15.12it/s]"
     ]
    },
    {
     "name": "stdout",
     "output_type": "stream",
     "text": [
      "\n",
      "0: 640x640 1 fire extinguisher, 1 fire signage, 12.5ms\n",
      "Speed: 0.6ms preprocess, 12.5ms inference, 0.0ms postprocess per image at shape (1, 3, 640, 640)\n",
      "\n",
      "0: 640x640 1 fire signage, 22.9ms\n",
      "Speed: 3.6ms preprocess, 22.9ms inference, 1.0ms postprocess per image at shape (1, 3, 640, 640)\n"
     ]
    },
    {
     "name": "stderr",
     "output_type": "stream",
     "text": [
      " 77%|███████████████████████████████████████████████████████████▋                  | 1006/1315 [01:16<00:20, 14.97it/s]"
     ]
    },
    {
     "name": "stdout",
     "output_type": "stream",
     "text": [
      "\n",
      "0: 640x640 1 fire signage, 22.6ms\n",
      "Speed: 4.0ms preprocess, 22.6ms inference, 0.0ms postprocess per image at shape (1, 3, 640, 640)\n",
      "\n",
      "0: 640x640 1 fire signage, 20.6ms\n",
      "Speed: 4.5ms preprocess, 20.6ms inference, 0.0ms postprocess per image at shape (1, 3, 640, 640)\n"
     ]
    },
    {
     "name": "stderr",
     "output_type": "stream",
     "text": [
      " 77%|███████████████████████████████████████████████████████████▊                  | 1008/1315 [01:16<00:20, 14.83it/s]"
     ]
    },
    {
     "name": "stdout",
     "output_type": "stream",
     "text": [
      "\n",
      "0: 640x640 1 fire signage, 17.5ms\n",
      "Speed: 4.0ms preprocess, 17.5ms inference, 5.4ms postprocess per image at shape (1, 3, 640, 640)\n",
      "\n",
      "0: 640x640 1 fire signage, 20.5ms\n",
      "Speed: 3.7ms preprocess, 20.5ms inference, 0.0ms postprocess per image at shape (1, 3, 640, 640)\n"
     ]
    },
    {
     "name": "stderr",
     "output_type": "stream",
     "text": [
      " 77%|███████████████████████████████████████████████████████████▉                  | 1010/1315 [01:16<00:20, 14.82it/s]"
     ]
    },
    {
     "name": "stdout",
     "output_type": "stream",
     "text": [
      "\n",
      "0: 640x640 1 fire signage, 1 helmet, 15.6ms\n",
      "Speed: 4.0ms preprocess, 15.6ms inference, 0.0ms postprocess per image at shape (1, 3, 640, 640)\n",
      "\n",
      "0: 640x640 1 fire signage, 16.6ms\n",
      "Speed: 5.5ms preprocess, 16.6ms inference, 0.0ms postprocess per image at shape (1, 3, 640, 640)\n"
     ]
    },
    {
     "name": "stderr",
     "output_type": "stream",
     "text": [
      " 77%|████████████████████████████████████████████████████████████                  | 1012/1315 [01:16<00:20, 14.80it/s]"
     ]
    },
    {
     "name": "stdout",
     "output_type": "stream",
     "text": [
      "\n",
      "0: 640x640 1 fire signage, 22.0ms\n",
      "Speed: 2.1ms preprocess, 22.0ms inference, 0.5ms postprocess per image at shape (1, 3, 640, 640)\n",
      "\n",
      "0: 640x640 1 fire signage, 22.2ms\n",
      "Speed: 4.8ms preprocess, 22.2ms inference, 1.0ms postprocess per image at shape (1, 3, 640, 640)\n"
     ]
    },
    {
     "name": "stderr",
     "output_type": "stream",
     "text": [
      " 77%|████████████████████████████████████████████████████████████▏                 | 1014/1315 [01:17<00:20, 14.89it/s]"
     ]
    },
    {
     "name": "stdout",
     "output_type": "stream",
     "text": [
      "\n",
      "0: 640x640 1 fire signage, 15.7ms\n",
      "Speed: 5.1ms preprocess, 15.7ms inference, 0.0ms postprocess per image at shape (1, 3, 640, 640)\n",
      "\n",
      "0: 640x640 1 fire signage, 18.8ms\n",
      "Speed: 4.9ms preprocess, 18.8ms inference, 0.0ms postprocess per image at shape (1, 3, 640, 640)\n"
     ]
    },
    {
     "name": "stderr",
     "output_type": "stream",
     "text": [
      " 77%|████████████████████████████████████████████████████████████▎                 | 1016/1315 [01:17<00:20, 14.90it/s]"
     ]
    },
    {
     "name": "stdout",
     "output_type": "stream",
     "text": [
      "\n",
      "0: 640x640 1 fire signage, 15.7ms\n",
      "Speed: 3.4ms preprocess, 15.7ms inference, 0.0ms postprocess per image at shape (1, 3, 640, 640)\n",
      "\n",
      "0: 640x640 1 fire signage, 22.5ms\n",
      "Speed: 1.5ms preprocess, 22.5ms inference, 1.4ms postprocess per image at shape (1, 3, 640, 640)\n"
     ]
    },
    {
     "name": "stderr",
     "output_type": "stream",
     "text": [
      " 77%|████████████████████████████████████████████████████████████▍                 | 1018/1315 [01:17<00:20, 14.83it/s]"
     ]
    },
    {
     "name": "stdout",
     "output_type": "stream",
     "text": [
      "\n",
      "0: 640x640 1 fire signage, 1 helmet, 13.6ms\n",
      "Speed: 0.9ms preprocess, 13.6ms inference, 0.0ms postprocess per image at shape (1, 3, 640, 640)\n",
      "\n",
      "0: 640x640 1 fire signage, 1 helmet, 23.7ms\n",
      "Speed: 3.4ms preprocess, 23.7ms inference, 1.0ms postprocess per image at shape (1, 3, 640, 640)\n"
     ]
    },
    {
     "name": "stderr",
     "output_type": "stream",
     "text": [
      " 78%|████████████████████████████████████████████████████████████▌                 | 1020/1315 [01:17<00:20, 14.72it/s]"
     ]
    },
    {
     "name": "stdout",
     "output_type": "stream",
     "text": [
      "\n",
      "0: 640x640 1 helmet, 7.5ms\n",
      "Speed: 4.0ms preprocess, 7.5ms inference, 0.0ms postprocess per image at shape (1, 3, 640, 640)\n",
      "\n",
      "0: 640x640 1 fire signage, 20.4ms\n",
      "Speed: 4.4ms preprocess, 20.4ms inference, 1.0ms postprocess per image at shape (1, 3, 640, 640)\n"
     ]
    },
    {
     "name": "stderr",
     "output_type": "stream",
     "text": [
      " 78%|████████████████████████████████████████████████████████████▌                 | 1022/1315 [01:17<00:19, 14.86it/s]"
     ]
    },
    {
     "name": "stdout",
     "output_type": "stream",
     "text": [
      "\n",
      "0: 640x640 1 fire signage, 1 helmet, 11.8ms\n",
      "Speed: 0.5ms preprocess, 11.8ms inference, 15.6ms postprocess per image at shape (1, 3, 640, 640)\n",
      "\n",
      "0: 640x640 (no detections), 19.9ms\n",
      "Speed: 4.3ms preprocess, 19.9ms inference, 0.0ms postprocess per image at shape (1, 3, 640, 640)\n"
     ]
    },
    {
     "name": "stderr",
     "output_type": "stream",
     "text": [
      " 78%|████████████████████████████████████████████████████████████▋                 | 1024/1315 [01:17<00:19, 14.82it/s]"
     ]
    },
    {
     "name": "stdout",
     "output_type": "stream",
     "text": [
      "\n",
      "0: 640x640 (no detections), 12.1ms\n",
      "Speed: 4.0ms preprocess, 12.1ms inference, 0.0ms postprocess per image at shape (1, 3, 640, 640)\n",
      "\n",
      "0: 640x640 (no detections), 19.8ms\n",
      "Speed: 4.7ms preprocess, 19.8ms inference, 0.0ms postprocess per image at shape (1, 3, 640, 640)\n"
     ]
    },
    {
     "name": "stderr",
     "output_type": "stream",
     "text": [
      " 78%|████████████████████████████████████████████████████████████▊                 | 1026/1315 [01:17<00:19, 14.84it/s]"
     ]
    },
    {
     "name": "stdout",
     "output_type": "stream",
     "text": [
      "\n",
      "0: 640x640 (no detections), 21.3ms\n",
      "Speed: 4.0ms preprocess, 21.3ms inference, 0.0ms postprocess per image at shape (1, 3, 640, 640)\n",
      "\n",
      "0: 640x640 (no detections), 23.2ms\n",
      "Speed: 3.5ms preprocess, 23.2ms inference, 0.0ms postprocess per image at shape (1, 3, 640, 640)\n"
     ]
    },
    {
     "name": "stderr",
     "output_type": "stream",
     "text": [
      " 78%|████████████████████████████████████████████████████████████▉                 | 1028/1315 [01:18<00:19, 15.06it/s]"
     ]
    },
    {
     "name": "stdout",
     "output_type": "stream",
     "text": [
      "\n",
      "0: 640x640 (no detections), 17.1ms\n",
      "Speed: 4.0ms preprocess, 17.1ms inference, 0.0ms postprocess per image at shape (1, 3, 640, 640)\n",
      "\n",
      "0: 640x640 1 fire signage, 22.1ms\n",
      "Speed: 3.6ms preprocess, 22.1ms inference, 1.0ms postprocess per image at shape (1, 3, 640, 640)\n"
     ]
    },
    {
     "name": "stderr",
     "output_type": "stream",
     "text": [
      " 78%|█████████████████████████████████████████████████████████████                 | 1030/1315 [01:18<00:18, 15.09it/s]"
     ]
    },
    {
     "name": "stdout",
     "output_type": "stream",
     "text": [
      "\n",
      "0: 640x640 (no detections), 13.0ms\n",
      "Speed: 0.5ms preprocess, 13.0ms inference, 0.0ms postprocess per image at shape (1, 3, 640, 640)\n",
      "\n",
      "0: 640x640 1 fire signage, 22.1ms\n",
      "Speed: 4.6ms preprocess, 22.1ms inference, 1.0ms postprocess per image at shape (1, 3, 640, 640)\n"
     ]
    },
    {
     "name": "stderr",
     "output_type": "stream",
     "text": [
      " 78%|█████████████████████████████████████████████████████████████▏                | 1032/1315 [01:18<00:18, 15.10it/s]"
     ]
    },
    {
     "name": "stdout",
     "output_type": "stream",
     "text": [
      "\n",
      "0: 640x640 1 fire signage, 12.7ms\n",
      "Speed: 2.8ms preprocess, 12.7ms inference, 15.6ms postprocess per image at shape (1, 3, 640, 640)\n",
      "\n",
      "0: 640x640 (no detections), 22.8ms\n",
      "Speed: 3.6ms preprocess, 22.8ms inference, 1.0ms postprocess per image at shape (1, 3, 640, 640)\n"
     ]
    },
    {
     "name": "stderr",
     "output_type": "stream",
     "text": [
      " 79%|█████████████████████████████████████████████████████████████▎                | 1034/1315 [01:18<00:18, 14.89it/s]"
     ]
    },
    {
     "name": "stdout",
     "output_type": "stream",
     "text": [
      "\n",
      "0: 640x640 1 fire signage, 22.5ms\n",
      "Speed: 4.0ms preprocess, 22.5ms inference, 0.0ms postprocess per image at shape (1, 3, 640, 640)\n",
      "\n",
      "0: 640x640 (no detections), 22.1ms\n",
      "Speed: 3.4ms preprocess, 22.1ms inference, 1.5ms postprocess per image at shape (1, 3, 640, 640)\n"
     ]
    },
    {
     "name": "stderr",
     "output_type": "stream",
     "text": [
      " 79%|█████████████████████████████████████████████████████████████▍                | 1036/1315 [01:18<00:18, 14.92it/s]"
     ]
    },
    {
     "name": "stdout",
     "output_type": "stream",
     "text": [
      "\n",
      "0: 640x640 1 helmet, 22.9ms\n",
      "Speed: 4.0ms preprocess, 22.9ms inference, 0.0ms postprocess per image at shape (1, 3, 640, 640)\n",
      "\n",
      "0: 640x640 1 fire extinguisher, 1 helmet, 24.8ms\n",
      "Speed: 4.6ms preprocess, 24.8ms inference, 0.0ms postprocess per image at shape (1, 3, 640, 640)\n"
     ]
    },
    {
     "name": "stderr",
     "output_type": "stream",
     "text": [
      " 79%|█████████████████████████████████████████████████████████████▌                | 1038/1315 [01:18<00:18, 14.64it/s]"
     ]
    },
    {
     "name": "stdout",
     "output_type": "stream",
     "text": [
      "\n",
      "0: 640x640 1 fire extinguisher, 15.5ms\n",
      "Speed: 2.5ms preprocess, 15.5ms inference, 0.0ms postprocess per image at shape (1, 3, 640, 640)\n",
      "\n",
      "0: 640x640 1 fire extinguisher, 25.8ms\n",
      "Speed: 1.5ms preprocess, 25.8ms inference, 1.0ms postprocess per image at shape (1, 3, 640, 640)\n"
     ]
    },
    {
     "name": "stderr",
     "output_type": "stream",
     "text": [
      " 79%|█████████████████████████████████████████████████████████████▋                | 1040/1315 [01:18<00:18, 14.65it/s]"
     ]
    },
    {
     "name": "stdout",
     "output_type": "stream",
     "text": [
      "\n",
      "0: 640x640 (no detections), 15.7ms\n",
      "Speed: 0.0ms preprocess, 15.7ms inference, 0.0ms postprocess per image at shape (1, 3, 640, 640)\n",
      "\n",
      "0: 640x640 1 fire extinguisher, 22.9ms\n",
      "Speed: 3.9ms preprocess, 22.9ms inference, 1.0ms postprocess per image at shape (1, 3, 640, 640)\n"
     ]
    },
    {
     "name": "stderr",
     "output_type": "stream",
     "text": [
      " 79%|█████████████████████████████████████████████████████████████▊                | 1042/1315 [01:18<00:18, 14.72it/s]"
     ]
    },
    {
     "name": "stdout",
     "output_type": "stream",
     "text": [
      "\n",
      "0: 640x640 1 fire extinguisher, 1 fire signage, 29.6ms\n",
      "Speed: 0.0ms preprocess, 29.6ms inference, 1.5ms postprocess per image at shape (1, 3, 640, 640)\n",
      "\n",
      "0: 640x640 1 fire extinguisher, 23.7ms\n",
      "Speed: 4.9ms preprocess, 23.7ms inference, 1.0ms postprocess per image at shape (1, 3, 640, 640)\n"
     ]
    },
    {
     "name": "stderr",
     "output_type": "stream",
     "text": [
      " 79%|█████████████████████████████████████████████████████████████▉                | 1044/1315 [01:19<00:18, 14.46it/s]"
     ]
    },
    {
     "name": "stdout",
     "output_type": "stream",
     "text": [
      "\n",
      "0: 640x640 1 fire signage, 15.7ms\n",
      "Speed: 4.6ms preprocess, 15.7ms inference, 0.0ms postprocess per image at shape (1, 3, 640, 640)\n",
      "\n",
      "0: 640x640 1 fire extinguisher, 17.9ms\n",
      "Speed: 4.0ms preprocess, 17.9ms inference, 0.0ms postprocess per image at shape (1, 3, 640, 640)\n"
     ]
    },
    {
     "name": "stderr",
     "output_type": "stream",
     "text": [
      " 80%|██████████████████████████████████████████████████████████████                | 1046/1315 [01:19<00:18, 14.49it/s]"
     ]
    },
    {
     "name": "stdout",
     "output_type": "stream",
     "text": [
      "\n",
      "0: 640x640 (no detections), 25.8ms\n",
      "Speed: 0.0ms preprocess, 25.8ms inference, 0.0ms postprocess per image at shape (1, 3, 640, 640)\n",
      "\n",
      "0: 640x640 (no detections), 24.2ms\n",
      "Speed: 2.5ms preprocess, 24.2ms inference, 0.0ms postprocess per image at shape (1, 3, 640, 640)\n"
     ]
    },
    {
     "name": "stderr",
     "output_type": "stream",
     "text": [
      " 80%|██████████████████████████████████████████████████████████████▏               | 1048/1315 [01:19<00:18, 14.71it/s]"
     ]
    },
    {
     "name": "stdout",
     "output_type": "stream",
     "text": [
      "\n",
      "0: 640x640 1 fire signage, 13.8ms\n",
      "Speed: 4.1ms preprocess, 13.8ms inference, 0.0ms postprocess per image at shape (1, 3, 640, 640)\n",
      "\n",
      "0: 640x640 1 fire signage, 25.2ms\n",
      "Speed: 1.5ms preprocess, 25.2ms inference, 1.0ms postprocess per image at shape (1, 3, 640, 640)\n"
     ]
    },
    {
     "name": "stderr",
     "output_type": "stream",
     "text": [
      " 80%|██████████████████████████████████████████████████████████████▎               | 1050/1315 [01:19<00:18, 14.66it/s]"
     ]
    },
    {
     "name": "stdout",
     "output_type": "stream",
     "text": [
      "\n",
      "0: 640x640 (no detections), 12.5ms\n",
      "Speed: 0.6ms preprocess, 12.5ms inference, 0.0ms postprocess per image at shape (1, 3, 640, 640)\n",
      "\n",
      "0: 640x640 (no detections), 23.4ms\n",
      "Speed: 4.4ms preprocess, 23.4ms inference, 0.0ms postprocess per image at shape (1, 3, 640, 640)\n"
     ]
    },
    {
     "name": "stderr",
     "output_type": "stream",
     "text": [
      " 80%|██████████████████████████████████████████████████████████████▍               | 1052/1315 [01:19<00:17, 14.76it/s]"
     ]
    },
    {
     "name": "stdout",
     "output_type": "stream",
     "text": [
      "\n",
      "0: 640x640 (no detections), 13.9ms\n",
      "Speed: 0.0ms preprocess, 13.9ms inference, 0.0ms postprocess per image at shape (1, 3, 640, 640)\n",
      "\n",
      "0: 640x640 (no detections), 21.6ms\n",
      "Speed: 5.1ms preprocess, 21.6ms inference, 1.0ms postprocess per image at shape (1, 3, 640, 640)\n"
     ]
    },
    {
     "name": "stderr",
     "output_type": "stream",
     "text": [
      " 80%|██████████████████████████████████████████████████████████████▌               | 1054/1315 [01:19<00:17, 14.79it/s]"
     ]
    },
    {
     "name": "stdout",
     "output_type": "stream",
     "text": [
      "\n",
      "0: 640x640 1 helmet, 8.1ms\n",
      "Speed: 4.0ms preprocess, 8.1ms inference, 16.3ms postprocess per image at shape (1, 3, 640, 640)\n",
      "\n",
      "0: 640x640 1 helmet, 21.1ms\n",
      "Speed: 4.7ms preprocess, 21.1ms inference, 2.0ms postprocess per image at shape (1, 3, 640, 640)\n"
     ]
    },
    {
     "name": "stderr",
     "output_type": "stream",
     "text": [
      " 80%|██████████████████████████████████████████████████████████████▋               | 1056/1315 [01:19<00:17, 14.85it/s]"
     ]
    },
    {
     "name": "stdout",
     "output_type": "stream",
     "text": [
      "\n",
      "0: 640x640 (no detections), 8.6ms\n",
      "Speed: 4.0ms preprocess, 8.6ms inference, 0.0ms postprocess per image at shape (1, 3, 640, 640)\n",
      "\n",
      "0: 640x640 (no detections), 23.4ms\n",
      "Speed: 3.7ms preprocess, 23.4ms inference, 0.0ms postprocess per image at shape (1, 3, 640, 640)\n"
     ]
    },
    {
     "name": "stderr",
     "output_type": "stream",
     "text": [
      " 80%|██████████████████████████████████████████████████████████████▊               | 1058/1315 [01:20<00:17, 14.96it/s]"
     ]
    },
    {
     "name": "stdout",
     "output_type": "stream",
     "text": [
      "\n",
      "0: 640x640 (no detections), 11.1ms\n",
      "Speed: 4.0ms preprocess, 11.1ms inference, 0.0ms postprocess per image at shape (1, 3, 640, 640)\n",
      "\n",
      "0: 640x640 (no detections), 22.2ms\n",
      "Speed: 4.5ms preprocess, 22.2ms inference, 0.0ms postprocess per image at shape (1, 3, 640, 640)\n"
     ]
    },
    {
     "name": "stderr",
     "output_type": "stream",
     "text": [
      " 81%|██████████████████████████████████████████████████████████████▊               | 1060/1315 [01:20<00:16, 15.16it/s]"
     ]
    },
    {
     "name": "stdout",
     "output_type": "stream",
     "text": [
      "\n",
      "0: 640x640 (no detections), 15.5ms\n",
      "Speed: 5.3ms preprocess, 15.5ms inference, 0.0ms postprocess per image at shape (1, 3, 640, 640)\n",
      "\n",
      "0: 640x640 (no detections), 17.7ms\n",
      "Speed: 4.5ms preprocess, 17.7ms inference, 0.0ms postprocess per image at shape (1, 3, 640, 640)\n"
     ]
    },
    {
     "name": "stderr",
     "output_type": "stream",
     "text": [
      " 81%|██████████████████████████████████████████████████████████████▉               | 1062/1315 [01:20<00:16, 15.18it/s]"
     ]
    },
    {
     "name": "stdout",
     "output_type": "stream",
     "text": [
      "\n",
      "0: 640x640 1 fire extinguisher, 1 fire signage, 16.5ms\n",
      "Speed: 5.0ms preprocess, 16.5ms inference, 0.0ms postprocess per image at shape (1, 3, 640, 640)\n",
      "\n",
      "0: 640x640 1 fire extinguisher, 1 fire signage, 27.5ms\n",
      "Speed: 0.6ms preprocess, 27.5ms inference, 1.0ms postprocess per image at shape (1, 3, 640, 640)\n"
     ]
    },
    {
     "name": "stderr",
     "output_type": "stream",
     "text": [
      " 81%|███████████████████████████████████████████████████████████████               | 1064/1315 [01:20<00:16, 14.90it/s]"
     ]
    },
    {
     "name": "stdout",
     "output_type": "stream",
     "text": [
      "\n",
      "0: 640x640 1 fire extinguisher, 1 fire signage, 10.6ms\n",
      "Speed: 6.0ms preprocess, 10.6ms inference, 0.0ms postprocess per image at shape (1, 3, 640, 640)\n",
      "\n",
      "0: 640x640 1 fire extinguisher, 1 fire signage, 22.4ms\n",
      "Speed: 3.5ms preprocess, 22.4ms inference, 1.0ms postprocess per image at shape (1, 3, 640, 640)\n"
     ]
    },
    {
     "name": "stderr",
     "output_type": "stream",
     "text": [
      " 81%|███████████████████████████████████████████████████████████████▏              | 1066/1315 [01:20<00:16, 14.98it/s]"
     ]
    },
    {
     "name": "stdout",
     "output_type": "stream",
     "text": [
      "\n",
      "0: 640x640 1 fire extinguisher, 1 fire signage, 13.0ms\n",
      "Speed: 2.6ms preprocess, 13.0ms inference, 0.0ms postprocess per image at shape (1, 3, 640, 640)\n",
      "\n",
      "0: 640x640 1 fire extinguisher, 1 fire signage, 21.8ms\n",
      "Speed: 5.0ms preprocess, 21.8ms inference, 1.0ms postprocess per image at shape (1, 3, 640, 640)\n"
     ]
    },
    {
     "name": "stderr",
     "output_type": "stream",
     "text": [
      " 81%|███████████████████████████████████████████████████████████████▎              | 1068/1315 [01:20<00:16, 14.78it/s]"
     ]
    },
    {
     "name": "stdout",
     "output_type": "stream",
     "text": [
      "\n",
      "0: 640x640 1 fire signage, 7.5ms\n",
      "Speed: 4.0ms preprocess, 7.5ms inference, 15.5ms postprocess per image at shape (1, 3, 640, 640)\n",
      "\n",
      "0: 640x640 1 fire extinguisher, 1 fire signage, 22.4ms\n",
      "Speed: 4.3ms preprocess, 22.4ms inference, 1.0ms postprocess per image at shape (1, 3, 640, 640)\n"
     ]
    },
    {
     "name": "stderr",
     "output_type": "stream",
     "text": [
      " 81%|███████████████████████████████████████████████████████████████▍              | 1070/1315 [01:20<00:16, 14.88it/s]"
     ]
    },
    {
     "name": "stdout",
     "output_type": "stream",
     "text": [
      "\n",
      "0: 640x640 1 fire signage, 22.6ms\n",
      "Speed: 4.0ms preprocess, 22.6ms inference, 0.0ms postprocess per image at shape (1, 3, 640, 640)\n",
      "\n",
      "0: 640x640 1 fire signage, 21.5ms\n",
      "Speed: 4.3ms preprocess, 21.5ms inference, 1.1ms postprocess per image at shape (1, 3, 640, 640)\n"
     ]
    },
    {
     "name": "stderr",
     "output_type": "stream",
     "text": [
      " 82%|███████████████████████████████████████████████████████████████▌              | 1072/1315 [01:21<00:16, 14.78it/s]"
     ]
    },
    {
     "name": "stdout",
     "output_type": "stream",
     "text": [
      "\n",
      "0: 640x640 1 fire signage, 20.3ms\n",
      "Speed: 4.0ms preprocess, 20.3ms inference, 0.0ms postprocess per image at shape (1, 3, 640, 640)\n",
      "\n",
      "0: 640x640 1 fire signage, 22.7ms\n",
      "Speed: 4.7ms preprocess, 22.7ms inference, 1.0ms postprocess per image at shape (1, 3, 640, 640)\n"
     ]
    },
    {
     "name": "stderr",
     "output_type": "stream",
     "text": [
      " 82%|███████████████████████████████████████████████████████████████▋              | 1074/1315 [01:21<00:16, 14.71it/s]"
     ]
    },
    {
     "name": "stdout",
     "output_type": "stream",
     "text": [
      "\n",
      "0: 640x640 1 fire signage, 15.4ms\n",
      "Speed: 4.7ms preprocess, 15.4ms inference, 0.0ms postprocess per image at shape (1, 3, 640, 640)\n",
      "\n",
      "0: 640x640 1 fire signage, 24.4ms\n",
      "Speed: 3.9ms preprocess, 24.4ms inference, 1.0ms postprocess per image at shape (1, 3, 640, 640)\n"
     ]
    },
    {
     "name": "stderr",
     "output_type": "stream",
     "text": [
      " 82%|███████████████████████████████████████████████████████████████▊              | 1076/1315 [01:21<00:16, 14.52it/s]"
     ]
    },
    {
     "name": "stdout",
     "output_type": "stream",
     "text": [
      "\n",
      "0: 640x640 1 fire signage, 24.1ms\n",
      "Speed: 6.6ms preprocess, 24.1ms inference, 0.0ms postprocess per image at shape (1, 3, 640, 640)\n",
      "\n",
      "0: 640x640 1 fire signage, 24.6ms\n",
      "Speed: 5.2ms preprocess, 24.6ms inference, 1.0ms postprocess per image at shape (1, 3, 640, 640)\n"
     ]
    },
    {
     "name": "stderr",
     "output_type": "stream",
     "text": [
      " 82%|███████████████████████████████████████████████████████████████▉              | 1078/1315 [01:21<00:16, 14.65it/s]"
     ]
    },
    {
     "name": "stdout",
     "output_type": "stream",
     "text": [
      "\n",
      "0: 640x640 1 fire signage, 7.5ms\n",
      "Speed: 4.0ms preprocess, 7.5ms inference, 15.5ms postprocess per image at shape (1, 3, 640, 640)\n",
      "\n",
      "0: 640x640 1 fire signage, 22.5ms\n",
      "Speed: 3.7ms preprocess, 22.5ms inference, 1.0ms postprocess per image at shape (1, 3, 640, 640)\n"
     ]
    },
    {
     "name": "stderr",
     "output_type": "stream",
     "text": [
      " 82%|████████████████████████████████████████████████████████████████              | 1080/1315 [01:21<00:15, 14.77it/s]"
     ]
    },
    {
     "name": "stdout",
     "output_type": "stream",
     "text": [
      "\n",
      "0: 640x640 1 fire signage, 9.1ms\n",
      "Speed: 4.4ms preprocess, 9.1ms inference, 0.0ms postprocess per image at shape (1, 3, 640, 640)\n",
      "\n",
      "0: 640x640 1 fire signage, 22.8ms\n",
      "Speed: 4.0ms preprocess, 22.8ms inference, 1.0ms postprocess per image at shape (1, 3, 640, 640)\n"
     ]
    },
    {
     "name": "stderr",
     "output_type": "stream",
     "text": [
      " 82%|████████████████████████████████████████████████████████████████▏             | 1082/1315 [01:21<00:15, 14.92it/s]"
     ]
    },
    {
     "name": "stdout",
     "output_type": "stream",
     "text": [
      "\n",
      "0: 640x640 1 fire signage, 14.3ms\n",
      "Speed: 4.0ms preprocess, 14.3ms inference, 0.0ms postprocess per image at shape (1, 3, 640, 640)\n",
      "\n",
      "0: 640x640 1 fire signage, 21.1ms\n",
      "Speed: 4.7ms preprocess, 21.1ms inference, 1.0ms postprocess per image at shape (1, 3, 640, 640)\n"
     ]
    },
    {
     "name": "stderr",
     "output_type": "stream",
     "text": [
      " 82%|████████████████████████████████████████████████████████████████▎             | 1084/1315 [01:21<00:15, 14.78it/s]"
     ]
    },
    {
     "name": "stdout",
     "output_type": "stream",
     "text": [
      "\n",
      "0: 640x640 1 fire signage, 21.1ms\n",
      "Speed: 4.0ms preprocess, 21.1ms inference, 0.0ms postprocess per image at shape (1, 3, 640, 640)\n",
      "\n",
      "0: 640x640 1 fire signage, 21.6ms\n",
      "Speed: 4.6ms preprocess, 21.6ms inference, 0.0ms postprocess per image at shape (1, 3, 640, 640)\n"
     ]
    },
    {
     "name": "stderr",
     "output_type": "stream",
     "text": [
      " 83%|████████████████████████████████████████████████████████████████▍             | 1086/1315 [01:21<00:15, 14.83it/s]"
     ]
    },
    {
     "name": "stdout",
     "output_type": "stream",
     "text": [
      "\n",
      "0: 640x640 1 fire signage, 22.2ms\n",
      "Speed: 4.0ms preprocess, 22.2ms inference, 0.5ms postprocess per image at shape (1, 3, 640, 640)\n",
      "\n",
      "0: 640x640 1 fire signage, 19.4ms\n",
      "Speed: 3.8ms preprocess, 19.4ms inference, 0.0ms postprocess per image at shape (1, 3, 640, 640)\n"
     ]
    },
    {
     "name": "stderr",
     "output_type": "stream",
     "text": [
      " 83%|████████████████████████████████████████████████████████████████▌             | 1088/1315 [01:22<00:15, 14.74it/s]"
     ]
    },
    {
     "name": "stdout",
     "output_type": "stream",
     "text": [
      "\n",
      "0: 640x640 1 fire signage, 15.9ms\n",
      "Speed: 5.0ms preprocess, 15.9ms inference, 0.0ms postprocess per image at shape (1, 3, 640, 640)\n",
      "\n",
      "0: 640x640 1 fire signage, 18.3ms\n",
      "Speed: 3.9ms preprocess, 18.3ms inference, 0.0ms postprocess per image at shape (1, 3, 640, 640)\n"
     ]
    },
    {
     "name": "stderr",
     "output_type": "stream",
     "text": [
      " 83%|████████████████████████████████████████████████████████████████▋             | 1090/1315 [01:22<00:15, 14.78it/s]"
     ]
    },
    {
     "name": "stdout",
     "output_type": "stream",
     "text": [
      "\n",
      "0: 640x640 1 fire signage, 15.9ms\n",
      "Speed: 4.0ms preprocess, 15.9ms inference, 0.0ms postprocess per image at shape (1, 3, 640, 640)\n",
      "\n",
      "0: 640x640 1 fire signage, 17.8ms\n",
      "Speed: 5.0ms preprocess, 17.8ms inference, 0.0ms postprocess per image at shape (1, 3, 640, 640)\n"
     ]
    },
    {
     "name": "stderr",
     "output_type": "stream",
     "text": [
      " 83%|████████████████████████████████████████████████████████████████▊             | 1092/1315 [01:22<00:14, 15.03it/s]"
     ]
    },
    {
     "name": "stdout",
     "output_type": "stream",
     "text": [
      "\n",
      "0: 640x640 1 fire signage, 21.9ms\n",
      "Speed: 4.0ms preprocess, 21.9ms inference, 5.0ms postprocess per image at shape (1, 3, 640, 640)\n",
      "\n",
      "0: 640x640 1 extinguisher-helmet, 2 fire extinguishers, 1 fire signage, 19.8ms\n",
      "Speed: 5.4ms preprocess, 19.8ms inference, 0.0ms postprocess per image at shape (1, 3, 640, 640)\n"
     ]
    },
    {
     "name": "stderr",
     "output_type": "stream",
     "text": [
      " 83%|████████████████████████████████████████████████████████████████▉             | 1094/1315 [01:22<00:15, 14.45it/s]"
     ]
    },
    {
     "name": "stdout",
     "output_type": "stream",
     "text": [
      "\n",
      "0: 640x640 1 extinguisher-helmet, 2 fire extinguishers, 1 fire signage, 16.6ms\n",
      "Speed: 5.0ms preprocess, 16.6ms inference, 0.0ms postprocess per image at shape (1, 3, 640, 640)\n",
      "\n",
      "0: 640x640 1 extinguisher-helmet, 1 fire extinguisher, 1 fire signage, 22.7ms\n",
      "Speed: 4.0ms preprocess, 22.7ms inference, 1.0ms postprocess per image at shape (1, 3, 640, 640)\n"
     ]
    },
    {
     "name": "stderr",
     "output_type": "stream",
     "text": [
      " 83%|█████████████████████████████████████████████████████████████████             | 1096/1315 [01:22<00:15, 14.37it/s]"
     ]
    },
    {
     "name": "stdout",
     "output_type": "stream",
     "text": [
      "\n",
      "0: 640x640 1 extinguisher-helmet, 1 fire extinguisher, 1 fire signage, 15.4ms\n",
      "Speed: 1.6ms preprocess, 15.4ms inference, 0.0ms postprocess per image at shape (1, 3, 640, 640)\n",
      "\n",
      "0: 640x640 1 extinguisher-helmet, 1 fire extinguisher, 25.3ms\n",
      "Speed: 0.9ms preprocess, 25.3ms inference, 1.0ms postprocess per image at shape (1, 3, 640, 640)\n"
     ]
    },
    {
     "name": "stderr",
     "output_type": "stream",
     "text": [
      " 83%|█████████████████████████████████████████████████████████████████▏            | 1098/1315 [01:22<00:15, 14.45it/s]"
     ]
    },
    {
     "name": "stdout",
     "output_type": "stream",
     "text": [
      "\n",
      "0: 640x640 1 extinguisher-helmet, 2 fire extinguishers, 1 fire signage, 14.0ms\n",
      "Speed: 4.0ms preprocess, 14.0ms inference, 0.0ms postprocess per image at shape (1, 3, 640, 640)\n",
      "\n",
      "0: 640x640 2 fire extinguishers, 1 fire signage, 22.8ms\n",
      "Speed: 4.4ms preprocess, 22.8ms inference, 0.0ms postprocess per image at shape (1, 3, 640, 640)\n"
     ]
    },
    {
     "name": "stderr",
     "output_type": "stream",
     "text": [
      " 84%|█████████████████████████████████████████████████████████████████▏            | 1100/1315 [01:22<00:14, 14.44it/s]"
     ]
    },
    {
     "name": "stdout",
     "output_type": "stream",
     "text": [
      "\n",
      "0: 640x640 1 extinguisher-helmet, 2 fire extinguishers, 1 fire signage, 21.2ms\n",
      "Speed: 4.0ms preprocess, 21.2ms inference, 0.0ms postprocess per image at shape (1, 3, 640, 640)\n",
      "\n",
      "0: 640x640 1 extinguisher-helmet, 1 fire extinguisher, 1 fire signage, 22.5ms\n",
      "Speed: 4.4ms preprocess, 22.5ms inference, 1.0ms postprocess per image at shape (1, 3, 640, 640)\n"
     ]
    },
    {
     "name": "stderr",
     "output_type": "stream",
     "text": [
      " 84%|█████████████████████████████████████████████████████████████████▎            | 1102/1315 [01:23<00:14, 14.38it/s]"
     ]
    },
    {
     "name": "stdout",
     "output_type": "stream",
     "text": [
      "\n",
      "0: 640x640 1 extinguisher-helmet, 1 fire extinguisher, 1 fire signage, 16.1ms\n",
      "Speed: 1.5ms preprocess, 16.1ms inference, 0.0ms postprocess per image at shape (1, 3, 640, 640)\n",
      "\n",
      "0: 640x640 1 fire extinguisher, 1 fire signage, 22.1ms\n",
      "Speed: 4.7ms preprocess, 22.1ms inference, 1.0ms postprocess per image at shape (1, 3, 640, 640)\n"
     ]
    },
    {
     "name": "stderr",
     "output_type": "stream",
     "text": [
      " 84%|█████████████████████████████████████████████████████████████████▍            | 1104/1315 [01:23<00:14, 14.40it/s]"
     ]
    },
    {
     "name": "stdout",
     "output_type": "stream",
     "text": [
      "\n",
      "0: 640x640 1 extinguisher-helmet, 1 fire extinguisher, 1 fire signage, 9.1ms\n",
      "Speed: 4.3ms preprocess, 9.1ms inference, 0.0ms postprocess per image at shape (1, 3, 640, 640)\n",
      "\n",
      "0: 640x640 1 extinguisher-helmet, 2 fire extinguishers, 2 fire signages, 22.3ms\n",
      "Speed: 3.3ms preprocess, 22.3ms inference, 1.0ms postprocess per image at shape (1, 3, 640, 640)\n"
     ]
    },
    {
     "name": "stderr",
     "output_type": "stream",
     "text": [
      " 84%|█████████████████████████████████████████████████████████████████▌            | 1106/1315 [01:23<00:14, 14.34it/s]"
     ]
    },
    {
     "name": "stdout",
     "output_type": "stream",
     "text": [
      "\n",
      "0: 640x640 1 extinguisher-helmet, 2 fire extinguishers, 1 fire signage, 17.0ms\n",
      "Speed: 4.0ms preprocess, 17.0ms inference, 0.0ms postprocess per image at shape (1, 3, 640, 640)\n",
      "\n",
      "0: 640x640 1 extinguisher-helmet, 3 fire extinguishers, 1 fire signage, 22.3ms\n",
      "Speed: 3.7ms preprocess, 22.3ms inference, 1.0ms postprocess per image at shape (1, 3, 640, 640)\n"
     ]
    },
    {
     "name": "stderr",
     "output_type": "stream",
     "text": [
      " 84%|█████████████████████████████████████████████████████████████████▋            | 1108/1315 [01:23<00:14, 14.38it/s]"
     ]
    },
    {
     "name": "stdout",
     "output_type": "stream",
     "text": [
      "\n",
      "0: 640x640 1 extinguisher-helmet, 2 fire extinguishers, 1 fire signage, 21.8ms\n",
      "Speed: 1.1ms preprocess, 21.8ms inference, 0.0ms postprocess per image at shape (1, 3, 640, 640)\n",
      "\n",
      "0: 640x640 1 extinguisher-helmet, 1 fire signage, 25.8ms\n",
      "Speed: 0.0ms preprocess, 25.8ms inference, 1.0ms postprocess per image at shape (1, 3, 640, 640)\n"
     ]
    },
    {
     "name": "stderr",
     "output_type": "stream",
     "text": [
      " 84%|█████████████████████████████████████████████████████████████████▊            | 1110/1315 [01:23<00:14, 14.50it/s]"
     ]
    },
    {
     "name": "stdout",
     "output_type": "stream",
     "text": [
      "\n",
      "0: 640x640 1 fire signage, 11.6ms\n",
      "Speed: 5.0ms preprocess, 11.6ms inference, 0.0ms postprocess per image at shape (1, 3, 640, 640)\n",
      "\n",
      "0: 640x640 1 fire signage, 22.2ms\n",
      "Speed: 5.3ms preprocess, 22.2ms inference, 1.0ms postprocess per image at shape (1, 3, 640, 640)\n"
     ]
    },
    {
     "name": "stderr",
     "output_type": "stream",
     "text": [
      " 85%|█████████████████████████████████████████████████████████████████▉            | 1112/1315 [01:23<00:13, 14.91it/s]"
     ]
    },
    {
     "name": "stdout",
     "output_type": "stream",
     "text": [
      "\n",
      "0: 640x640 1 fire signage, 20.7ms\n",
      "Speed: 0.5ms preprocess, 20.7ms inference, 0.0ms postprocess per image at shape (1, 3, 640, 640)\n",
      "\n",
      "0: 640x640 1 extinguisher-helmet, 1 fire signage, 22.8ms\n",
      "Speed: 3.7ms preprocess, 22.8ms inference, 0.0ms postprocess per image at shape (1, 3, 640, 640)\n"
     ]
    },
    {
     "name": "stderr",
     "output_type": "stream",
     "text": [
      " 85%|██████████████████████████████████████████████████████████████████            | 1114/1315 [01:23<00:13, 15.05it/s]"
     ]
    },
    {
     "name": "stdout",
     "output_type": "stream",
     "text": [
      "\n",
      "0: 640x640 1 extinguisher-helmet, 1 fire signage, 21.0ms\n",
      "Speed: 4.0ms preprocess, 21.0ms inference, 0.0ms postprocess per image at shape (1, 3, 640, 640)\n",
      "\n",
      "0: 640x640 1 extinguisher-helmet, 1 fire extinguisher, 1 fire signage, 21.8ms\n",
      "Speed: 4.5ms preprocess, 21.8ms inference, 1.4ms postprocess per image at shape (1, 3, 640, 640)\n"
     ]
    },
    {
     "name": "stderr",
     "output_type": "stream",
     "text": [
      " 85%|██████████████████████████████████████████████████████████████████▏           | 1116/1315 [01:24<00:13, 15.03it/s]"
     ]
    },
    {
     "name": "stdout",
     "output_type": "stream",
     "text": [
      "\n",
      "0: 640x640 1 extinguisher-helmet, 1 fire extinguisher, 1 fire signage, 22.0ms\n",
      "Speed: 4.0ms preprocess, 22.0ms inference, 0.0ms postprocess per image at shape (1, 3, 640, 640)\n",
      "\n",
      "0: 640x640 1 fire extinguisher, 1 fire signage, 21.9ms\n",
      "Speed: 3.4ms preprocess, 21.9ms inference, 0.0ms postprocess per image at shape (1, 3, 640, 640)\n"
     ]
    },
    {
     "name": "stderr",
     "output_type": "stream",
     "text": [
      " 85%|██████████████████████████████████████████████████████████████████▎           | 1118/1315 [01:24<00:13, 14.91it/s]"
     ]
    },
    {
     "name": "stdout",
     "output_type": "stream",
     "text": [
      "\n",
      "0: 640x640 1 fire signage, 19.6ms\n",
      "Speed: 4.0ms preprocess, 19.6ms inference, 0.0ms postprocess per image at shape (1, 3, 640, 640)\n",
      "\n",
      "0: 640x640 1 fire extinguisher, 1 fire signage, 21.6ms\n",
      "Speed: 3.1ms preprocess, 21.6ms inference, 0.0ms postprocess per image at shape (1, 3, 640, 640)\n"
     ]
    },
    {
     "name": "stderr",
     "output_type": "stream",
     "text": [
      " 85%|██████████████████████████████████████████████████████████████████▍           | 1120/1315 [01:24<00:13, 14.98it/s]"
     ]
    },
    {
     "name": "stdout",
     "output_type": "stream",
     "text": [
      "\n",
      "0: 640x640 1 fire extinguisher, 1 fire signage, 19.8ms\n",
      "Speed: 4.0ms preprocess, 19.8ms inference, 0.0ms postprocess per image at shape (1, 3, 640, 640)\n",
      "\n",
      "0: 640x640 1 fire signage, 20.5ms\n",
      "Speed: 4.8ms preprocess, 20.5ms inference, 0.0ms postprocess per image at shape (1, 3, 640, 640)\n"
     ]
    },
    {
     "name": "stderr",
     "output_type": "stream",
     "text": [
      " 85%|██████████████████████████████████████████████████████████████████▌           | 1122/1315 [01:24<00:12, 15.16it/s]"
     ]
    },
    {
     "name": "stdout",
     "output_type": "stream",
     "text": [
      "\n",
      "0: 640x640 1 extinguisher-helmet, 1 fire extinguisher, 1 fire signage, 8.6ms\n",
      "Speed: 4.5ms preprocess, 8.6ms inference, 0.0ms postprocess per image at shape (1, 3, 640, 640)\n",
      "\n",
      "0: 640x640 1 extinguisher-helmet, 1 fire extinguisher, 1 fire signage, 22.2ms\n",
      "Speed: 4.1ms preprocess, 22.2ms inference, 1.0ms postprocess per image at shape (1, 3, 640, 640)\n"
     ]
    },
    {
     "name": "stderr",
     "output_type": "stream",
     "text": [
      " 85%|██████████████████████████████████████████████████████████████████▋           | 1124/1315 [01:24<00:12, 14.97it/s]"
     ]
    },
    {
     "name": "stdout",
     "output_type": "stream",
     "text": [
      "\n",
      "0: 640x640 1 extinguisher-helmet, 1 fire extinguisher, 1 fire signage, 21.5ms\n",
      "Speed: 3.5ms preprocess, 21.5ms inference, 0.0ms postprocess per image at shape (1, 3, 640, 640)\n",
      "\n",
      "0: 640x640 1 extinguisher-helmet, 1 fire extinguisher, 1 fire signage, 19.8ms\n",
      "Speed: 3.7ms preprocess, 19.8ms inference, 0.0ms postprocess per image at shape (1, 3, 640, 640)\n"
     ]
    },
    {
     "name": "stderr",
     "output_type": "stream",
     "text": [
      " 86%|██████████████████████████████████████████████████████████████████▊           | 1126/1315 [01:24<00:12, 14.87it/s]"
     ]
    },
    {
     "name": "stdout",
     "output_type": "stream",
     "text": [
      "\n",
      "0: 640x640 1 extinguisher-helmet, 1 fire extinguisher, 1 fire signage, 24.2ms\n",
      "Speed: 4.0ms preprocess, 24.2ms inference, 0.0ms postprocess per image at shape (1, 3, 640, 640)\n",
      "\n",
      "0: 640x640 1 fire extinguisher, 1 fire signage, 23.4ms\n",
      "Speed: 2.2ms preprocess, 23.4ms inference, 1.0ms postprocess per image at shape (1, 3, 640, 640)\n"
     ]
    },
    {
     "name": "stderr",
     "output_type": "stream",
     "text": [
      " 86%|██████████████████████████████████████████████████████████████████▉           | 1128/1315 [01:24<00:12, 14.74it/s]"
     ]
    },
    {
     "name": "stdout",
     "output_type": "stream",
     "text": [
      "\n",
      "0: 640x640 1 extinguisher-helmet, 1 fire extinguisher, 1 fire signage, 16.9ms\n",
      "Speed: 1.6ms preprocess, 16.9ms inference, 0.0ms postprocess per image at shape (1, 3, 640, 640)\n",
      "\n",
      "0: 640x640 1 extinguisher-helmet, 1 fire signage, 25.7ms\n",
      "Speed: 2.5ms preprocess, 25.7ms inference, 1.0ms postprocess per image at shape (1, 3, 640, 640)\n"
     ]
    },
    {
     "name": "stderr",
     "output_type": "stream",
     "text": [
      " 86%|███████████████████████████████████████████████████████████████████           | 1130/1315 [01:24<00:12, 14.75it/s]"
     ]
    },
    {
     "name": "stdout",
     "output_type": "stream",
     "text": [
      "\n",
      "0: 640x640 1 extinguisher-helmet, 1 fire signage, 14.0ms\n",
      "Speed: 0.8ms preprocess, 14.0ms inference, 0.0ms postprocess per image at shape (1, 3, 640, 640)\n",
      "\n",
      "0: 640x640 1 extinguisher-helmet, 1 fire extinguisher, 1 fire signage, 22.2ms\n",
      "Speed: 4.4ms preprocess, 22.2ms inference, 1.0ms postprocess per image at shape (1, 3, 640, 640)\n"
     ]
    },
    {
     "name": "stderr",
     "output_type": "stream",
     "text": [
      " 86%|███████████████████████████████████████████████████████████████████▏          | 1132/1315 [01:25<00:12, 14.70it/s]"
     ]
    },
    {
     "name": "stdout",
     "output_type": "stream",
     "text": [
      "\n",
      "0: 640x640 1 extinguisher-helmet, 1 fire signage, 14.1ms\n",
      "Speed: 4.0ms preprocess, 14.1ms inference, 9.0ms postprocess per image at shape (1, 3, 640, 640)\n",
      "\n",
      "0: 640x640 1 extinguisher-helmet, 1 fire extinguisher, 1 fire signage, 23.5ms\n",
      "Speed: 4.7ms preprocess, 23.5ms inference, 0.0ms postprocess per image at shape (1, 3, 640, 640)\n"
     ]
    },
    {
     "name": "stderr",
     "output_type": "stream",
     "text": [
      " 86%|███████████████████████████████████████████████████████████████████▎          | 1134/1315 [01:25<00:12, 14.66it/s]"
     ]
    },
    {
     "name": "stdout",
     "output_type": "stream",
     "text": [
      "\n",
      "0: 640x640 1 extinguisher-helmet, 2 fire extinguishers, 1 fire signage, 19.0ms\n",
      "Speed: 4.0ms preprocess, 19.0ms inference, 0.0ms postprocess per image at shape (1, 3, 640, 640)\n",
      "\n",
      "0: 640x640 1 extinguisher-helmet, 1 fire extinguisher, 1 fire signage, 18.1ms\n",
      "Speed: 4.1ms preprocess, 18.1ms inference, 0.0ms postprocess per image at shape (1, 3, 640, 640)\n"
     ]
    },
    {
     "name": "stderr",
     "output_type": "stream",
     "text": [
      " 86%|███████████████████████████████████████████████████████████████████▍          | 1136/1315 [01:25<00:12, 14.51it/s]"
     ]
    },
    {
     "name": "stdout",
     "output_type": "stream",
     "text": [
      "\n",
      "0: 640x640 1 extinguisher-helmet, 2 fire extinguishers, 1 fire signage, 15.6ms\n",
      "Speed: 0.0ms preprocess, 15.6ms inference, 0.0ms postprocess per image at shape (1, 3, 640, 640)\n",
      "\n",
      "0: 640x640 1 fire extinguisher, 1 fire signage, 22.5ms\n",
      "Speed: 3.9ms preprocess, 22.5ms inference, 1.0ms postprocess per image at shape (1, 3, 640, 640)\n"
     ]
    },
    {
     "name": "stderr",
     "output_type": "stream",
     "text": [
      " 87%|███████████████████████████████████████████████████████████████████▌          | 1138/1315 [01:25<00:12, 14.48it/s]"
     ]
    },
    {
     "name": "stdout",
     "output_type": "stream",
     "text": [
      "\n",
      "0: 640x640 1 fire extinguisher, 1 fire signage, 21.7ms\n",
      "Speed: 4.5ms preprocess, 21.7ms inference, 0.0ms postprocess per image at shape (1, 3, 640, 640)\n",
      "\n",
      "0: 640x640 1 fire extinguisher, 1 fire signage, 22.2ms\n",
      "Speed: 4.6ms preprocess, 22.2ms inference, 0.0ms postprocess per image at shape (1, 3, 640, 640)\n"
     ]
    },
    {
     "name": "stderr",
     "output_type": "stream",
     "text": [
      " 87%|███████████████████████████████████████████████████████████████████▌          | 1140/1315 [01:25<00:12, 14.57it/s]"
     ]
    },
    {
     "name": "stdout",
     "output_type": "stream",
     "text": [
      "\n",
      "0: 640x640 1 fire extinguisher, 1 fire signage, 20.9ms\n",
      "Speed: 4.0ms preprocess, 20.9ms inference, 0.0ms postprocess per image at shape (1, 3, 640, 640)\n",
      "\n",
      "0: 640x640 1 fire extinguisher, 1 fire signage, 18.2ms\n",
      "Speed: 4.5ms preprocess, 18.2ms inference, 0.0ms postprocess per image at shape (1, 3, 640, 640)\n"
     ]
    },
    {
     "name": "stderr",
     "output_type": "stream",
     "text": [
      " 87%|███████████████████████████████████████████████████████████████████▋          | 1142/1315 [01:25<00:11, 14.56it/s]"
     ]
    },
    {
     "name": "stdout",
     "output_type": "stream",
     "text": [
      "\n",
      "0: 640x640 1 fire extinguisher, 1 fire signage, 18.7ms\n",
      "Speed: 4.0ms preprocess, 18.7ms inference, 0.0ms postprocess per image at shape (1, 3, 640, 640)\n",
      "\n",
      "0: 640x640 1 extinguisher-helmet, 1 fire signage, 17.9ms\n",
      "Speed: 3.8ms preprocess, 17.9ms inference, 0.0ms postprocess per image at shape (1, 3, 640, 640)\n"
     ]
    },
    {
     "name": "stderr",
     "output_type": "stream",
     "text": [
      " 87%|███████████████████████████████████████████████████████████████████▊          | 1144/1315 [01:25<00:11, 14.59it/s]"
     ]
    },
    {
     "name": "stdout",
     "output_type": "stream",
     "text": [
      "\n",
      "0: 640x640 1 fire extinguisher, 1 fire signage, 16.1ms\n",
      "Speed: 1.7ms preprocess, 16.1ms inference, 0.0ms postprocess per image at shape (1, 3, 640, 640)\n",
      "\n",
      "0: 640x640 1 fire signage, 1 helmet, 26.5ms\n",
      "Speed: 0.0ms preprocess, 26.5ms inference, 1.0ms postprocess per image at shape (1, 3, 640, 640)\n"
     ]
    },
    {
     "name": "stderr",
     "output_type": "stream",
     "text": [
      " 87%|███████████████████████████████████████████████████████████████████▉          | 1146/1315 [01:26<00:11, 14.35it/s]"
     ]
    },
    {
     "name": "stdout",
     "output_type": "stream",
     "text": [
      "\n",
      "0: 640x640 1 fire signage, 1 helmet, 20.9ms\n",
      "Speed: 0.6ms preprocess, 20.9ms inference, 0.0ms postprocess per image at shape (1, 3, 640, 640)\n",
      "\n",
      "0: 640x640 1 fire signage, 18.8ms\n",
      "Speed: 4.5ms preprocess, 18.8ms inference, 0.0ms postprocess per image at shape (1, 3, 640, 640)\n"
     ]
    },
    {
     "name": "stderr",
     "output_type": "stream",
     "text": [
      " 87%|████████████████████████████████████████████████████████████████████          | 1148/1315 [01:26<00:11, 14.53it/s]"
     ]
    },
    {
     "name": "stdout",
     "output_type": "stream",
     "text": [
      "\n",
      "0: 640x640 1 fire signage, 17.9ms\n",
      "Speed: 5.0ms preprocess, 17.9ms inference, 0.0ms postprocess per image at shape (1, 3, 640, 640)\n",
      "\n",
      "0: 640x640 1 fire signage, 22.3ms\n",
      "Speed: 3.7ms preprocess, 22.3ms inference, 0.0ms postprocess per image at shape (1, 3, 640, 640)\n"
     ]
    },
    {
     "name": "stderr",
     "output_type": "stream",
     "text": [
      " 87%|████████████████████████████████████████████████████████████████████▏         | 1150/1315 [01:26<00:11, 14.73it/s]"
     ]
    },
    {
     "name": "stdout",
     "output_type": "stream",
     "text": [
      "\n",
      "0: 640x640 1 fire signage, 21.8ms\n",
      "Speed: 4.0ms preprocess, 21.8ms inference, 2.5ms postprocess per image at shape (1, 3, 640, 640)\n",
      "\n",
      "0: 640x640 1 fire signage, 19.9ms\n",
      "Speed: 5.2ms preprocess, 19.9ms inference, 0.0ms postprocess per image at shape (1, 3, 640, 640)\n"
     ]
    },
    {
     "name": "stderr",
     "output_type": "stream",
     "text": [
      " 88%|████████████████████████████████████████████████████████████████████▎         | 1152/1315 [01:26<00:11, 14.80it/s]"
     ]
    },
    {
     "name": "stdout",
     "output_type": "stream",
     "text": [
      "\n",
      "0: 640x640 1 fire signage, 18.9ms\n",
      "Speed: 4.0ms preprocess, 18.9ms inference, 0.0ms postprocess per image at shape (1, 3, 640, 640)\n",
      "\n",
      "0: 640x640 2 fire signages, 22.3ms\n",
      "Speed: 3.9ms preprocess, 22.3ms inference, 0.0ms postprocess per image at shape (1, 3, 640, 640)\n"
     ]
    },
    {
     "name": "stderr",
     "output_type": "stream",
     "text": [
      " 88%|████████████████████████████████████████████████████████████████████▍         | 1154/1315 [01:26<00:10, 14.74it/s]"
     ]
    },
    {
     "name": "stdout",
     "output_type": "stream",
     "text": [
      "\n",
      "0: 640x640 1 fire signage, 15.5ms\n",
      "Speed: 4.5ms preprocess, 15.5ms inference, 0.0ms postprocess per image at shape (1, 3, 640, 640)\n",
      "\n",
      "0: 640x640 2 fire signages, 21.6ms\n",
      "Speed: 5.1ms preprocess, 21.6ms inference, 1.0ms postprocess per image at shape (1, 3, 640, 640)\n"
     ]
    },
    {
     "name": "stderr",
     "output_type": "stream",
     "text": [
      " 88%|████████████████████████████████████████████████████████████████████▌         | 1156/1315 [01:26<00:10, 14.66it/s]"
     ]
    },
    {
     "name": "stdout",
     "output_type": "stream",
     "text": [
      "\n",
      "0: 640x640 1 fire signage, 13.5ms\n",
      "Speed: 2.9ms preprocess, 13.5ms inference, 0.0ms postprocess per image at shape (1, 3, 640, 640)\n",
      "\n",
      "0: 640x640 1 fire signage, 21.7ms\n",
      "Speed: 5.0ms preprocess, 21.7ms inference, 1.0ms postprocess per image at shape (1, 3, 640, 640)\n"
     ]
    },
    {
     "name": "stderr",
     "output_type": "stream",
     "text": [
      " 88%|████████████████████████████████████████████████████████████████████▋         | 1158/1315 [01:26<00:10, 14.68it/s]"
     ]
    },
    {
     "name": "stdout",
     "output_type": "stream",
     "text": [
      "\n",
      "0: 640x640 1 fire signage, 9.5ms\n",
      "Speed: 4.0ms preprocess, 9.5ms inference, 0.0ms postprocess per image at shape (1, 3, 640, 640)\n",
      "\n",
      "0: 640x640 1 fire signage, 22.5ms\n",
      "Speed: 4.0ms preprocess, 22.5ms inference, 1.0ms postprocess per image at shape (1, 3, 640, 640)\n"
     ]
    },
    {
     "name": "stderr",
     "output_type": "stream",
     "text": [
      " 88%|████████████████████████████████████████████████████████████████████▊         | 1160/1315 [01:27<00:10, 14.67it/s]"
     ]
    },
    {
     "name": "stdout",
     "output_type": "stream",
     "text": [
      "\n",
      "0: 640x640 1 fire signage, 22.2ms\n",
      "Speed: 4.5ms preprocess, 22.2ms inference, 1.3ms postprocess per image at shape (1, 3, 640, 640)\n",
      "\n",
      "0: 640x640 1 fire signage, 22.8ms\n",
      "Speed: 3.3ms preprocess, 22.8ms inference, 0.0ms postprocess per image at shape (1, 3, 640, 640)\n"
     ]
    },
    {
     "name": "stderr",
     "output_type": "stream",
     "text": [
      " 88%|████████████████████████████████████████████████████████████████████▉         | 1162/1315 [01:27<00:10, 14.64it/s]"
     ]
    },
    {
     "name": "stdout",
     "output_type": "stream",
     "text": [
      "\n",
      "0: 640x640 1 fire signage, 20.3ms\n",
      "Speed: 4.0ms preprocess, 20.3ms inference, 0.0ms postprocess per image at shape (1, 3, 640, 640)\n",
      "\n",
      "0: 640x640 1 fire signage, 17.4ms\n",
      "Speed: 6.5ms preprocess, 17.4ms inference, 0.0ms postprocess per image at shape (1, 3, 640, 640)\n"
     ]
    },
    {
     "name": "stderr",
     "output_type": "stream",
     "text": [
      " 89%|█████████████████████████████████████████████████████████████████████         | 1164/1315 [01:27<00:10, 14.52it/s]"
     ]
    },
    {
     "name": "stdout",
     "output_type": "stream",
     "text": [
      "\n",
      "0: 640x640 1 fire signage, 24.1ms\n",
      "Speed: 2.6ms preprocess, 24.1ms inference, 0.0ms postprocess per image at shape (1, 3, 640, 640)\n",
      "\n",
      "0: 640x640 1 fire signage, 24.2ms\n",
      "Speed: 2.5ms preprocess, 24.2ms inference, 1.0ms postprocess per image at shape (1, 3, 640, 640)\n"
     ]
    },
    {
     "name": "stderr",
     "output_type": "stream",
     "text": [
      " 89%|█████████████████████████████████████████████████████████████████████▏        | 1166/1315 [01:27<00:10, 14.73it/s]"
     ]
    },
    {
     "name": "stdout",
     "output_type": "stream",
     "text": [
      "\n",
      "0: 640x640 1 fire signage, 15.7ms\n",
      "Speed: 3.0ms preprocess, 15.7ms inference, 0.0ms postprocess per image at shape (1, 3, 640, 640)\n",
      "\n",
      "0: 640x640 1 fire signage, 21.5ms\n",
      "Speed: 4.9ms preprocess, 21.5ms inference, 1.0ms postprocess per image at shape (1, 3, 640, 640)\n"
     ]
    },
    {
     "name": "stderr",
     "output_type": "stream",
     "text": [
      " 89%|█████████████████████████████████████████████████████████████████████▎        | 1168/1315 [01:27<00:09, 14.74it/s]"
     ]
    },
    {
     "name": "stdout",
     "output_type": "stream",
     "text": [
      "\n",
      "0: 640x640 1 fire signage, 32.0ms\n",
      "Speed: 0.0ms preprocess, 32.0ms inference, 0.0ms postprocess per image at shape (1, 3, 640, 640)\n",
      "\n",
      "0: 640x640 1 fire extinguisher, 1 fire signage, 21.3ms\n",
      "Speed: 6.5ms preprocess, 21.3ms inference, 0.0ms postprocess per image at shape (1, 3, 640, 640)\n"
     ]
    },
    {
     "name": "stderr",
     "output_type": "stream",
     "text": [
      " 89%|█████████████████████████████████████████████████████████████████████▍        | 1170/1315 [01:27<00:10, 14.38it/s]"
     ]
    },
    {
     "name": "stdout",
     "output_type": "stream",
     "text": [
      "\n",
      "0: 640x640 1 fire signage, 26.5ms\n",
      "Speed: 1.4ms preprocess, 26.5ms inference, 0.0ms postprocess per image at shape (1, 3, 640, 640)\n",
      "\n",
      "0: 640x640 1 fire signage, 23.5ms\n",
      "Speed: 4.7ms preprocess, 23.5ms inference, 0.8ms postprocess per image at shape (1, 3, 640, 640)\n"
     ]
    },
    {
     "name": "stderr",
     "output_type": "stream",
     "text": [
      " 89%|█████████████████████████████████████████████████████████████████████▌        | 1172/1315 [01:27<00:10, 14.11it/s]"
     ]
    },
    {
     "name": "stdout",
     "output_type": "stream",
     "text": [
      "\n",
      "0: 640x640 1 fire signage, 13.0ms\n",
      "Speed: 7.1ms preprocess, 13.0ms inference, 0.0ms postprocess per image at shape (1, 3, 640, 640)\n",
      "\n",
      "0: 640x640 1 fire signage, 20.4ms\n",
      "Speed: 5.8ms preprocess, 20.4ms inference, 3.4ms postprocess per image at shape (1, 3, 640, 640)\n"
     ]
    },
    {
     "name": "stderr",
     "output_type": "stream",
     "text": [
      " 89%|█████████████████████████████████████████████████████████████████████▋        | 1174/1315 [01:27<00:10, 13.77it/s]"
     ]
    },
    {
     "name": "stdout",
     "output_type": "stream",
     "text": [
      "\n",
      "0: 640x640 1 fire signage, 18.9ms\n",
      "Speed: 5.4ms preprocess, 18.9ms inference, 0.0ms postprocess per image at shape (1, 3, 640, 640)\n",
      "\n",
      "0: 640x640 1 fire signage, 19.3ms\n",
      "Speed: 5.1ms preprocess, 19.3ms inference, 0.0ms postprocess per image at shape (1, 3, 640, 640)\n"
     ]
    },
    {
     "name": "stderr",
     "output_type": "stream",
     "text": [
      " 89%|█████████████████████████████████████████████████████████████████████▊        | 1176/1315 [01:28<00:10, 13.64it/s]"
     ]
    },
    {
     "name": "stdout",
     "output_type": "stream",
     "text": [
      "\n",
      "0: 640x640 1 fire signage, 11.6ms\n",
      "Speed: 3.9ms preprocess, 11.6ms inference, 0.0ms postprocess per image at shape (1, 3, 640, 640)\n",
      "\n",
      "0: 640x640 1 fire signage, 23.6ms\n",
      "Speed: 6.6ms preprocess, 23.6ms inference, 0.0ms postprocess per image at shape (1, 3, 640, 640)\n"
     ]
    },
    {
     "name": "stderr",
     "output_type": "stream",
     "text": [
      " 90%|█████████████████████████████████████████████████████████████████████▊        | 1178/1315 [01:28<00:10, 13.58it/s]"
     ]
    },
    {
     "name": "stdout",
     "output_type": "stream",
     "text": [
      "\n",
      "0: 640x640 1 fire signage, 26.2ms\n",
      "Speed: 1.5ms preprocess, 26.2ms inference, 0.0ms postprocess per image at shape (1, 3, 640, 640)\n",
      "\n",
      "0: 640x640 1 fire signage, 20.8ms\n",
      "Speed: 5.5ms preprocess, 20.8ms inference, 0.0ms postprocess per image at shape (1, 3, 640, 640)\n"
     ]
    },
    {
     "name": "stderr",
     "output_type": "stream",
     "text": [
      " 90%|█████████████████████████████████████████████████████████████████████▉        | 1180/1315 [01:28<00:10, 13.48it/s]"
     ]
    },
    {
     "name": "stdout",
     "output_type": "stream",
     "text": [
      "\n",
      "0: 640x640 1 fire signage, 15.6ms\n",
      "Speed: 0.0ms preprocess, 15.6ms inference, 16.3ms postprocess per image at shape (1, 3, 640, 640)\n",
      "\n",
      "0: 640x640 1 fire signage, 20.3ms\n",
      "Speed: 5.9ms preprocess, 20.3ms inference, 5.5ms postprocess per image at shape (1, 3, 640, 640)\n"
     ]
    },
    {
     "name": "stderr",
     "output_type": "stream",
     "text": [
      " 90%|██████████████████████████████████████████████████████████████████████        | 1182/1315 [01:28<00:09, 13.38it/s]"
     ]
    },
    {
     "name": "stdout",
     "output_type": "stream",
     "text": [
      "\n",
      "0: 640x640 1 fire signage, 28.3ms\n",
      "Speed: 0.0ms preprocess, 28.3ms inference, 0.0ms postprocess per image at shape (1, 3, 640, 640)\n",
      "\n",
      "0: 640x640 1 fire extinguisher, 1 fire signage, 19.9ms\n",
      "Speed: 5.7ms preprocess, 19.9ms inference, 0.0ms postprocess per image at shape (1, 3, 640, 640)\n"
     ]
    },
    {
     "name": "stderr",
     "output_type": "stream",
     "text": [
      " 90%|██████████████████████████████████████████████████████████████████████▏       | 1184/1315 [01:28<00:09, 13.26it/s]"
     ]
    },
    {
     "name": "stdout",
     "output_type": "stream",
     "text": [
      "\n",
      "0: 640x640 1 fire signage, 32.1ms\n",
      "Speed: 0.0ms preprocess, 32.1ms inference, 0.0ms postprocess per image at shape (1, 3, 640, 640)\n",
      "\n",
      "0: 640x640 1 fire signage, 25.8ms\n",
      "Speed: 4.9ms preprocess, 25.8ms inference, 1.0ms postprocess per image at shape (1, 3, 640, 640)\n"
     ]
    },
    {
     "name": "stderr",
     "output_type": "stream",
     "text": [
      " 90%|██████████████████████████████████████████████████████████████████████▎       | 1186/1315 [01:28<00:09, 13.19it/s]"
     ]
    },
    {
     "name": "stdout",
     "output_type": "stream",
     "text": [
      "\n",
      "0: 640x640 1 fire extinguisher, 1 fire signage, 17.5ms\n",
      "Speed: 5.0ms preprocess, 17.5ms inference, 0.0ms postprocess per image at shape (1, 3, 640, 640)\n",
      "\n",
      "0: 640x640 1 fire signage, 23.3ms\n",
      "Speed: 5.1ms preprocess, 23.3ms inference, 1.0ms postprocess per image at shape (1, 3, 640, 640)\n"
     ]
    },
    {
     "name": "stderr",
     "output_type": "stream",
     "text": [
      " 90%|██████████████████████████████████████████████████████████████████████▍       | 1188/1315 [01:29<00:09, 13.03it/s]"
     ]
    },
    {
     "name": "stdout",
     "output_type": "stream",
     "text": [
      "\n",
      "0: 640x640 1 fire signage, 23.6ms\n",
      "Speed: 5.5ms preprocess, 23.6ms inference, 0.0ms postprocess per image at shape (1, 3, 640, 640)\n",
      "\n",
      "0: 640x640 1 fire extinguisher, 1 fire signage, 21.4ms\n",
      "Speed: 5.8ms preprocess, 21.4ms inference, 0.0ms postprocess per image at shape (1, 3, 640, 640)\n"
     ]
    },
    {
     "name": "stderr",
     "output_type": "stream",
     "text": [
      " 90%|██████████████████████████████████████████████████████████████████████▌       | 1190/1315 [01:29<00:09, 13.13it/s]"
     ]
    },
    {
     "name": "stdout",
     "output_type": "stream",
     "text": [
      "\n",
      "0: 640x640 1 fire extinguisher, 1 fire signage, 16.0ms\n",
      "Speed: 0.0ms preprocess, 16.0ms inference, 0.0ms postprocess per image at shape (1, 3, 640, 640)\n",
      "\n",
      "0: 640x640 1 fire extinguisher, 1 fire signage, 16.6ms\n",
      "Speed: 5.7ms preprocess, 16.6ms inference, 0.0ms postprocess per image at shape (1, 3, 640, 640)\n"
     ]
    },
    {
     "name": "stderr",
     "output_type": "stream",
     "text": [
      " 91%|██████████████████████████████████████████████████████████████████████▋       | 1192/1315 [01:29<00:09, 13.09it/s]"
     ]
    },
    {
     "name": "stdout",
     "output_type": "stream",
     "text": [
      "\n",
      "0: 640x640 3 fire extinguishers, 1 fire signage, 31.9ms\n",
      "Speed: 0.0ms preprocess, 31.9ms inference, 0.0ms postprocess per image at shape (1, 3, 640, 640)\n",
      "\n",
      "0: 640x640 2 fire extinguishers, 1 fire signage, 27.6ms\n",
      "Speed: 5.4ms preprocess, 27.6ms inference, 2.0ms postprocess per image at shape (1, 3, 640, 640)\n"
     ]
    },
    {
     "name": "stderr",
     "output_type": "stream",
     "text": [
      " 91%|██████████████████████████████████████████████████████████████████████▊       | 1194/1315 [01:29<00:09, 12.77it/s]"
     ]
    },
    {
     "name": "stdout",
     "output_type": "stream",
     "text": [
      "\n",
      "0: 640x640 1 fire extinguisher, 1 fire signage, 26.9ms\n",
      "Speed: 5.3ms preprocess, 26.9ms inference, 0.7ms postprocess per image at shape (1, 3, 640, 640)\n",
      "\n",
      "0: 640x640 1 fire extinguisher, 1 fire signage, 27.7ms\n",
      "Speed: 2.0ms preprocess, 27.7ms inference, 1.0ms postprocess per image at shape (1, 3, 640, 640)\n"
     ]
    },
    {
     "name": "stderr",
     "output_type": "stream",
     "text": [
      " 91%|██████████████████████████████████████████████████████████████████████▉       | 1196/1315 [01:29<00:09, 12.77it/s]"
     ]
    },
    {
     "name": "stdout",
     "output_type": "stream",
     "text": [
      "\n",
      "0: 640x640 1 fire extinguisher, 1 fire signage, 21.0ms\n",
      "Speed: 5.0ms preprocess, 21.0ms inference, 2.1ms postprocess per image at shape (1, 3, 640, 640)\n",
      "\n",
      "0: 640x640 1 fire extinguisher, 1 fire signage, 20.2ms\n",
      "Speed: 3.8ms preprocess, 20.2ms inference, 0.0ms postprocess per image at shape (1, 3, 640, 640)\n"
     ]
    },
    {
     "name": "stderr",
     "output_type": "stream",
     "text": [
      " 91%|███████████████████████████████████████████████████████████████████████       | 1198/1315 [01:29<00:08, 13.23it/s]"
     ]
    },
    {
     "name": "stdout",
     "output_type": "stream",
     "text": [
      "\n",
      "0: 640x640 1 fire extinguisher, 1 fire signage, 15.0ms\n",
      "Speed: 4.6ms preprocess, 15.0ms inference, 0.0ms postprocess per image at shape (1, 3, 640, 640)\n",
      "\n",
      "0: 640x640 1 fire extinguisher, 1 fire signage, 19.4ms\n",
      "Speed: 4.7ms preprocess, 19.4ms inference, 0.0ms postprocess per image at shape (1, 3, 640, 640)\n"
     ]
    },
    {
     "name": "stderr",
     "output_type": "stream",
     "text": [
      " 91%|███████████████████████████████████████████████████████████████████████▏      | 1200/1315 [01:29<00:08, 13.66it/s]"
     ]
    },
    {
     "name": "stdout",
     "output_type": "stream",
     "text": [
      "\n",
      "0: 640x640 1 fire extinguisher, 1 fire signage, 16.1ms\n",
      "Speed: 1.2ms preprocess, 16.1ms inference, 0.0ms postprocess per image at shape (1, 3, 640, 640)\n",
      "\n",
      "0: 640x640 1 fire extinguisher, 1 fire signage, 25.2ms\n",
      "Speed: 1.9ms preprocess, 25.2ms inference, 1.0ms postprocess per image at shape (1, 3, 640, 640)\n"
     ]
    },
    {
     "name": "stderr",
     "output_type": "stream",
     "text": [
      " 91%|███████████████████████████████████████████████████████████████████████▎      | 1202/1315 [01:30<00:08, 13.85it/s]"
     ]
    },
    {
     "name": "stdout",
     "output_type": "stream",
     "text": [
      "\n",
      "0: 640x640 1 fire signage, 22.0ms\n",
      "Speed: 5.3ms preprocess, 22.0ms inference, 0.0ms postprocess per image at shape (1, 3, 640, 640)\n",
      "\n",
      "0: 640x640 1 fire extinguisher, 1 fire signage, 20.2ms\n",
      "Speed: 3.5ms preprocess, 20.2ms inference, 0.0ms postprocess per image at shape (1, 3, 640, 640)\n"
     ]
    },
    {
     "name": "stderr",
     "output_type": "stream",
     "text": [
      " 92%|███████████████████████████████████████████████████████████████████████▍      | 1204/1315 [01:30<00:07, 13.96it/s]"
     ]
    },
    {
     "name": "stdout",
     "output_type": "stream",
     "text": [
      "\n",
      "0: 640x640 2 fire extinguishers, 1 fire signage, 22.1ms\n",
      "Speed: 4.5ms preprocess, 22.1ms inference, 0.0ms postprocess per image at shape (1, 3, 640, 640)\n",
      "\n",
      "0: 640x640 1 fire extinguisher, 1 fire signage, 29.4ms\n",
      "Speed: 0.0ms preprocess, 29.4ms inference, 1.0ms postprocess per image at shape (1, 3, 640, 640)\n"
     ]
    },
    {
     "name": "stderr",
     "output_type": "stream",
     "text": [
      " 92%|███████████████████████████████████████████████████████████████████████▌      | 1206/1315 [01:30<00:07, 13.89it/s]"
     ]
    },
    {
     "name": "stdout",
     "output_type": "stream",
     "text": [
      "\n",
      "0: 640x640 1 fire extinguisher, 1 fire signage, 20.0ms\n",
      "Speed: 4.0ms preprocess, 20.0ms inference, 0.0ms postprocess per image at shape (1, 3, 640, 640)\n",
      "\n",
      "0: 640x640 1 fire extinguisher, 1 fire signage, 18.5ms\n",
      "Speed: 3.7ms preprocess, 18.5ms inference, 0.0ms postprocess per image at shape (1, 3, 640, 640)\n"
     ]
    },
    {
     "name": "stderr",
     "output_type": "stream",
     "text": [
      " 92%|███████████████████████████████████████████████████████████████████████▋      | 1208/1315 [01:30<00:07, 14.05it/s]"
     ]
    },
    {
     "name": "stdout",
     "output_type": "stream",
     "text": [
      "\n",
      "0: 640x640 1 fire extinguisher, 1 fire signage, 16.3ms\n",
      "Speed: 4.3ms preprocess, 16.3ms inference, 0.0ms postprocess per image at shape (1, 3, 640, 640)\n",
      "\n",
      "0: 640x640 1 fire extinguisher, 1 fire signage, 16.5ms\n",
      "Speed: 5.2ms preprocess, 16.5ms inference, 0.0ms postprocess per image at shape (1, 3, 640, 640)\n"
     ]
    },
    {
     "name": "stderr",
     "output_type": "stream",
     "text": [
      " 92%|███████████████████████████████████████████████████████████████████████▊      | 1210/1315 [01:30<00:07, 14.29it/s]"
     ]
    },
    {
     "name": "stdout",
     "output_type": "stream",
     "text": [
      "\n",
      "0: 640x640 1 fire extinguisher, 1 fire signage, 15.4ms\n",
      "Speed: 2.4ms preprocess, 15.4ms inference, 0.0ms postprocess per image at shape (1, 3, 640, 640)\n",
      "\n",
      "0: 640x640 2 fire extinguishers, 1 fire signage, 29.2ms\n",
      "Speed: 0.0ms preprocess, 29.2ms inference, 1.0ms postprocess per image at shape (1, 3, 640, 640)\n"
     ]
    },
    {
     "name": "stderr",
     "output_type": "stream",
     "text": [
      " 92%|███████████████████████████████████████████████████████████████████████▉      | 1212/1315 [01:30<00:07, 14.08it/s]"
     ]
    },
    {
     "name": "stdout",
     "output_type": "stream",
     "text": [
      "\n",
      "0: 640x640 1 fire extinguisher, 1 fire signage, 17.6ms\n",
      "Speed: 4.5ms preprocess, 17.6ms inference, 0.0ms postprocess per image at shape (1, 3, 640, 640)\n",
      "\n",
      "0: 640x640 2 fire extinguishers, 1 fire signage, 22.9ms\n",
      "Speed: 5.5ms preprocess, 22.9ms inference, 1.0ms postprocess per image at shape (1, 3, 640, 640)\n"
     ]
    },
    {
     "name": "stderr",
     "output_type": "stream",
     "text": [
      " 92%|████████████████████████████████████████████████████████████████████████      | 1214/1315 [01:30<00:07, 14.22it/s]"
     ]
    },
    {
     "name": "stdout",
     "output_type": "stream",
     "text": [
      "\n",
      "0: 640x640 2 fire extinguishers, 14.5ms\n",
      "Speed: 3.5ms preprocess, 14.5ms inference, 0.0ms postprocess per image at shape (1, 3, 640, 640)\n",
      "\n",
      "0: 640x640 1 fire extinguisher, 26.0ms\n",
      "Speed: 2.6ms preprocess, 26.0ms inference, 1.0ms postprocess per image at shape (1, 3, 640, 640)\n"
     ]
    },
    {
     "name": "stderr",
     "output_type": "stream",
     "text": [
      " 92%|████████████████████████████████████████████████████████████████████████▏     | 1216/1315 [01:31<00:07, 13.81it/s]"
     ]
    },
    {
     "name": "stdout",
     "output_type": "stream",
     "text": [
      "\n",
      "0: 640x640 2 fire extinguishers, 33.5ms\n",
      "Speed: 0.0ms preprocess, 33.5ms inference, 0.0ms postprocess per image at shape (1, 3, 640, 640)\n",
      "\n",
      "0: 640x640 2 fire extinguishers, 25.1ms\n",
      "Speed: 4.9ms preprocess, 25.1ms inference, 1.0ms postprocess per image at shape (1, 3, 640, 640)\n"
     ]
    },
    {
     "name": "stderr",
     "output_type": "stream",
     "text": [
      " 93%|████████████████████████████████████████████████████████████████████████▏     | 1218/1315 [01:31<00:07, 13.68it/s]"
     ]
    },
    {
     "name": "stdout",
     "output_type": "stream",
     "text": [
      "\n",
      "0: 640x640 2 fire extinguishers, 13.2ms\n",
      "Speed: 0.0ms preprocess, 13.2ms inference, 15.0ms postprocess per image at shape (1, 3, 640, 640)\n",
      "\n",
      "0: 640x640 1 fire extinguisher, 25.2ms\n",
      "Speed: 4.6ms preprocess, 25.2ms inference, 0.0ms postprocess per image at shape (1, 3, 640, 640)\n"
     ]
    },
    {
     "name": "stderr",
     "output_type": "stream",
     "text": [
      " 93%|████████████████████████████████████████████████████████████████████████▎     | 1220/1315 [01:31<00:06, 13.66it/s]"
     ]
    },
    {
     "name": "stdout",
     "output_type": "stream",
     "text": [
      "\n",
      "0: 640x640 1 fire extinguisher, 22.0ms\n",
      "Speed: 3.6ms preprocess, 22.0ms inference, 0.0ms postprocess per image at shape (1, 3, 640, 640)\n",
      "\n",
      "0: 640x640 1 fire extinguisher, 20.2ms\n",
      "Speed: 5.7ms preprocess, 20.2ms inference, 3.7ms postprocess per image at shape (1, 3, 640, 640)\n"
     ]
    },
    {
     "name": "stderr",
     "output_type": "stream",
     "text": [
      " 93%|████████████████████████████████████████████████████████████████████████▍     | 1222/1315 [01:31<00:06, 13.64it/s]"
     ]
    },
    {
     "name": "stdout",
     "output_type": "stream",
     "text": [
      "\n",
      "0: 640x640 1 fire extinguisher, 15.7ms\n",
      "Speed: 2.8ms preprocess, 15.7ms inference, 0.0ms postprocess per image at shape (1, 3, 640, 640)\n",
      "\n",
      "0: 640x640 1 fire extinguisher, 22.0ms\n",
      "Speed: 5.1ms preprocess, 22.0ms inference, 0.0ms postprocess per image at shape (1, 3, 640, 640)\n"
     ]
    },
    {
     "name": "stderr",
     "output_type": "stream",
     "text": [
      " 93%|████████████████████████████████████████████████████████████████████████▌     | 1224/1315 [01:31<00:06, 13.57it/s]"
     ]
    },
    {
     "name": "stdout",
     "output_type": "stream",
     "text": [
      "\n",
      "0: 640x640 1 fire extinguisher, 16.3ms\n",
      "Speed: 4.4ms preprocess, 16.3ms inference, 0.0ms postprocess per image at shape (1, 3, 640, 640)\n",
      "\n",
      "0: 640x640 1 fire extinguisher, 24.2ms\n",
      "Speed: 2.5ms preprocess, 24.2ms inference, 1.0ms postprocess per image at shape (1, 3, 640, 640)\n"
     ]
    },
    {
     "name": "stderr",
     "output_type": "stream",
     "text": [
      " 93%|████████████████████████████████████████████████████████████████████████▋     | 1226/1315 [01:31<00:06, 13.83it/s]"
     ]
    },
    {
     "name": "stdout",
     "output_type": "stream",
     "text": [
      "\n",
      "0: 640x640 1 fire extinguisher, 13.9ms\n",
      "Speed: 0.6ms preprocess, 13.9ms inference, 0.0ms postprocess per image at shape (1, 3, 640, 640)\n",
      "\n",
      "0: 640x640 1 fire extinguisher, 22.2ms\n",
      "Speed: 5.3ms preprocess, 22.2ms inference, 1.0ms postprocess per image at shape (1, 3, 640, 640)\n"
     ]
    },
    {
     "name": "stderr",
     "output_type": "stream",
     "text": [
      " 93%|████████████████████████████████████████████████████████████████████████▊     | 1228/1315 [01:31<00:06, 14.09it/s]"
     ]
    },
    {
     "name": "stdout",
     "output_type": "stream",
     "text": [
      "\n",
      "0: 640x640 1 fire extinguisher, 19.3ms\n",
      "Speed: 5.0ms preprocess, 19.3ms inference, 3.7ms postprocess per image at shape (1, 3, 640, 640)\n",
      "\n",
      "0: 640x640 1 fire extinguisher, 22.0ms\n",
      "Speed: 5.4ms preprocess, 22.0ms inference, 1.0ms postprocess per image at shape (1, 3, 640, 640)\n"
     ]
    },
    {
     "name": "stderr",
     "output_type": "stream",
     "text": [
      " 94%|████████████████████████████████████████████████████████████████████████▉     | 1230/1315 [01:32<00:05, 14.39it/s]"
     ]
    },
    {
     "name": "stdout",
     "output_type": "stream",
     "text": [
      "\n",
      "0: 640x640 1 fire extinguisher, 1 helmet, 13.1ms\n",
      "Speed: 0.7ms preprocess, 13.1ms inference, 0.0ms postprocess per image at shape (1, 3, 640, 640)\n",
      "\n",
      "0: 640x640 1 fire extinguisher, 22.9ms\n",
      "Speed: 3.8ms preprocess, 22.9ms inference, 1.0ms postprocess per image at shape (1, 3, 640, 640)\n"
     ]
    },
    {
     "name": "stderr",
     "output_type": "stream",
     "text": [
      " 94%|█████████████████████████████████████████████████████████████████████████     | 1232/1315 [01:32<00:05, 14.49it/s]"
     ]
    },
    {
     "name": "stdout",
     "output_type": "stream",
     "text": [
      "\n",
      "0: 640x640 1 fire extinguisher, 8.6ms\n",
      "Speed: 4.0ms preprocess, 8.6ms inference, 0.0ms postprocess per image at shape (1, 3, 640, 640)\n",
      "\n",
      "0: 640x640 1 fire extinguisher, 22.3ms\n",
      "Speed: 4.4ms preprocess, 22.3ms inference, 1.0ms postprocess per image at shape (1, 3, 640, 640)\n"
     ]
    },
    {
     "name": "stderr",
     "output_type": "stream",
     "text": [
      " 94%|█████████████████████████████████████████████████████████████████████████▏    | 1234/1315 [01:32<00:05, 14.60it/s]"
     ]
    },
    {
     "name": "stdout",
     "output_type": "stream",
     "text": [
      "\n",
      "0: 640x640 1 fire extinguisher, 7.6ms\n",
      "Speed: 4.0ms preprocess, 7.6ms inference, 16.4ms postprocess per image at shape (1, 3, 640, 640)\n",
      "\n",
      "0: 640x640 1 fire extinguisher, 1 fire signage, 21.9ms\n",
      "Speed: 4.8ms preprocess, 21.9ms inference, 1.0ms postprocess per image at shape (1, 3, 640, 640)\n"
     ]
    },
    {
     "name": "stderr",
     "output_type": "stream",
     "text": [
      " 94%|█████████████████████████████████████████████████████████████████████████▎    | 1236/1315 [01:32<00:05, 14.64it/s]"
     ]
    },
    {
     "name": "stdout",
     "output_type": "stream",
     "text": [
      "\n",
      "0: 640x640 1 fire extinguisher, 22.3ms\n",
      "Speed: 4.0ms preprocess, 22.3ms inference, 0.5ms postprocess per image at shape (1, 3, 640, 640)\n",
      "\n",
      "0: 640x640 1 fire extinguisher, 22.0ms\n",
      "Speed: 4.1ms preprocess, 22.0ms inference, 0.0ms postprocess per image at shape (1, 3, 640, 640)\n"
     ]
    },
    {
     "name": "stderr",
     "output_type": "stream",
     "text": [
      " 94%|█████████████████████████████████████████████████████████████████████████▍    | 1238/1315 [01:32<00:05, 14.67it/s]"
     ]
    },
    {
     "name": "stdout",
     "output_type": "stream",
     "text": [
      "\n",
      "0: 640x640 2 fire extinguishers, 19.9ms\n",
      "Speed: 4.0ms preprocess, 19.9ms inference, 0.0ms postprocess per image at shape (1, 3, 640, 640)\n",
      "\n",
      "0: 640x640 2 fire extinguishers, 17.3ms\n",
      "Speed: 4.9ms preprocess, 17.3ms inference, 0.0ms postprocess per image at shape (1, 3, 640, 640)\n"
     ]
    },
    {
     "name": "stderr",
     "output_type": "stream",
     "text": [
      " 94%|█████████████████████████████████████████████████████████████████████████▌    | 1240/1315 [01:32<00:05, 14.64it/s]"
     ]
    },
    {
     "name": "stdout",
     "output_type": "stream",
     "text": [
      "\n",
      "0: 640x640 2 fire extinguishers, 1 helmet, 15.7ms\n",
      "Speed: 3.2ms preprocess, 15.7ms inference, 0.0ms postprocess per image at shape (1, 3, 640, 640)\n",
      "\n",
      "0: 640x640 2 fire extinguishers, 1 helmet, 25.2ms\n",
      "Speed: 2.6ms preprocess, 25.2ms inference, 1.0ms postprocess per image at shape (1, 3, 640, 640)\n"
     ]
    },
    {
     "name": "stderr",
     "output_type": "stream",
     "text": [
      " 94%|█████████████████████████████████████████████████████████████████████████▋    | 1242/1315 [01:32<00:05, 14.55it/s]"
     ]
    },
    {
     "name": "stdout",
     "output_type": "stream",
     "text": [
      "\n",
      "0: 640x640 2 fire extinguishers, 1 fire signage, 12.7ms\n",
      "Speed: 0.6ms preprocess, 12.7ms inference, 0.0ms postprocess per image at shape (1, 3, 640, 640)\n",
      "\n",
      "0: 640x640 1 fire extinguisher, 22.0ms\n",
      "Speed: 4.2ms preprocess, 22.0ms inference, 1.0ms postprocess per image at shape (1, 3, 640, 640)\n"
     ]
    },
    {
     "name": "stderr",
     "output_type": "stream",
     "text": [
      " 95%|█████████████████████████████████████████████████████████████████████████▊    | 1244/1315 [01:33<00:04, 14.74it/s]"
     ]
    },
    {
     "name": "stdout",
     "output_type": "stream",
     "text": [
      "\n",
      "0: 640x640 1 fire extinguisher, 11.0ms\n",
      "Speed: 4.5ms preprocess, 11.0ms inference, 0.0ms postprocess per image at shape (1, 3, 640, 640)\n",
      "\n",
      "0: 640x640 1 fire extinguisher, 22.0ms\n",
      "Speed: 4.8ms preprocess, 22.0ms inference, 1.0ms postprocess per image at shape (1, 3, 640, 640)\n"
     ]
    },
    {
     "name": "stderr",
     "output_type": "stream",
     "text": [
      " 95%|█████████████████████████████████████████████████████████████████████████▉    | 1246/1315 [01:33<00:04, 14.81it/s]"
     ]
    },
    {
     "name": "stdout",
     "output_type": "stream",
     "text": [
      "\n",
      "0: 640x640 1 fire extinguisher, 24.9ms\n",
      "Speed: 4.0ms preprocess, 24.9ms inference, 1.0ms postprocess per image at shape (1, 3, 640, 640)\n",
      "\n",
      "0: 640x640 1 fire extinguisher, 21.8ms\n",
      "Speed: 5.0ms preprocess, 21.8ms inference, 1.0ms postprocess per image at shape (1, 3, 640, 640)\n"
     ]
    },
    {
     "name": "stderr",
     "output_type": "stream",
     "text": [
      " 95%|██████████████████████████████████████████████████████████████████████████    | 1248/1315 [01:33<00:04, 14.87it/s]"
     ]
    },
    {
     "name": "stdout",
     "output_type": "stream",
     "text": [
      "\n",
      "0: 640x640 1 fire extinguisher, 11.5ms\n",
      "Speed: 4.1ms preprocess, 11.5ms inference, 0.0ms postprocess per image at shape (1, 3, 640, 640)\n",
      "\n",
      "0: 640x640 1 fire extinguisher, 22.8ms\n",
      "Speed: 3.8ms preprocess, 22.8ms inference, 1.0ms postprocess per image at shape (1, 3, 640, 640)\n"
     ]
    },
    {
     "name": "stderr",
     "output_type": "stream",
     "text": [
      " 95%|██████████████████████████████████████████████████████████████████████████▏   | 1250/1315 [01:33<00:04, 14.95it/s]"
     ]
    },
    {
     "name": "stdout",
     "output_type": "stream",
     "text": [
      "\n",
      "0: 640x640 1 fire extinguisher, 16.4ms\n",
      "Speed: 0.0ms preprocess, 16.4ms inference, 0.0ms postprocess per image at shape (1, 3, 640, 640)\n",
      "\n",
      "0: 640x640 1 fire extinguisher, 24.7ms\n",
      "Speed: 4.3ms preprocess, 24.7ms inference, 1.0ms postprocess per image at shape (1, 3, 640, 640)\n"
     ]
    },
    {
     "name": "stderr",
     "output_type": "stream",
     "text": [
      " 95%|██████████████████████████████████████████████████████████████████████████▎   | 1252/1315 [01:33<00:04, 14.93it/s]"
     ]
    },
    {
     "name": "stdout",
     "output_type": "stream",
     "text": [
      "\n",
      "0: 640x640 2 fire extinguishers, 10.6ms\n",
      "Speed: 4.0ms preprocess, 10.6ms inference, 0.0ms postprocess per image at shape (1, 3, 640, 640)\n",
      "\n",
      "0: 640x640 3 fire extinguishers, 22.7ms\n",
      "Speed: 4.2ms preprocess, 22.7ms inference, 1.0ms postprocess per image at shape (1, 3, 640, 640)\n"
     ]
    },
    {
     "name": "stderr",
     "output_type": "stream",
     "text": [
      " 95%|██████████████████████████████████████████████████████████████████████████▍   | 1254/1315 [01:33<00:04, 14.81it/s]"
     ]
    },
    {
     "name": "stdout",
     "output_type": "stream",
     "text": [
      "\n",
      "0: 640x640 3 fire extinguishers, 1 helmet, 6.5ms\n",
      "Speed: 4.0ms preprocess, 6.5ms inference, 15.5ms postprocess per image at shape (1, 3, 640, 640)\n",
      "\n",
      "0: 640x640 2 fire extinguishers, 1 helmet, 23.0ms\n",
      "Speed: 4.1ms preprocess, 23.0ms inference, 0.0ms postprocess per image at shape (1, 3, 640, 640)\n"
     ]
    },
    {
     "name": "stderr",
     "output_type": "stream",
     "text": [
      " 96%|██████████████████████████████████████████████████████████████████████████▌   | 1256/1315 [01:33<00:03, 14.77it/s]"
     ]
    },
    {
     "name": "stdout",
     "output_type": "stream",
     "text": [
      "\n",
      "0: 640x640 1 fire extinguisher, 19.7ms\n",
      "Speed: 4.0ms preprocess, 19.7ms inference, 0.0ms postprocess per image at shape (1, 3, 640, 640)\n",
      "\n",
      "0: 640x640 2 fire extinguishers, 22.9ms\n",
      "Speed: 3.2ms preprocess, 22.9ms inference, 0.0ms postprocess per image at shape (1, 3, 640, 640)\n"
     ]
    },
    {
     "name": "stderr",
     "output_type": "stream",
     "text": [
      " 96%|██████████████████████████████████████████████████████████████████████████▌   | 1258/1315 [01:33<00:03, 14.79it/s]"
     ]
    },
    {
     "name": "stdout",
     "output_type": "stream",
     "text": [
      "\n",
      "0: 640x640 2 fire extinguishers, 19.7ms\n",
      "Speed: 4.4ms preprocess, 19.7ms inference, 0.0ms postprocess per image at shape (1, 3, 640, 640)\n",
      "\n",
      "0: 640x640 1 fire extinguisher, 22.4ms\n",
      "Speed: 3.8ms preprocess, 22.4ms inference, 0.0ms postprocess per image at shape (1, 3, 640, 640)\n"
     ]
    },
    {
     "name": "stderr",
     "output_type": "stream",
     "text": [
      " 96%|██████████████████████████████████████████████████████████████████████████▋   | 1260/1315 [01:34<00:03, 14.97it/s]"
     ]
    },
    {
     "name": "stdout",
     "output_type": "stream",
     "text": [
      "\n",
      "0: 640x640 2 fire extinguishers, 1 helmet, 22.3ms\n",
      "Speed: 3.0ms preprocess, 22.3ms inference, 0.8ms postprocess per image at shape (1, 3, 640, 640)\n",
      "\n",
      "0: 640x640 1 fire extinguisher, 1 helmet, 21.6ms\n",
      "Speed: 3.5ms preprocess, 21.6ms inference, 0.0ms postprocess per image at shape (1, 3, 640, 640)\n"
     ]
    },
    {
     "name": "stderr",
     "output_type": "stream",
     "text": [
      " 96%|██████████████████████████████████████████████████████████████████████████▊   | 1262/1315 [01:34<00:03, 14.87it/s]"
     ]
    },
    {
     "name": "stdout",
     "output_type": "stream",
     "text": [
      "\n",
      "0: 640x640 2 fire extinguishers, 1 helmet, 19.1ms\n",
      "Speed: 4.0ms preprocess, 19.1ms inference, 0.0ms postprocess per image at shape (1, 3, 640, 640)\n",
      "\n",
      "0: 640x640 2 fire extinguishers, 1 helmet, 20.2ms\n",
      "Speed: 4.0ms preprocess, 20.2ms inference, 0.0ms postprocess per image at shape (1, 3, 640, 640)\n"
     ]
    },
    {
     "name": "stderr",
     "output_type": "stream",
     "text": [
      " 96%|██████████████████████████████████████████████████████████████████████████▉   | 1264/1315 [01:34<00:03, 14.90it/s]"
     ]
    },
    {
     "name": "stdout",
     "output_type": "stream",
     "text": [
      "\n",
      "0: 640x640 2 fire extinguishers, 2 helmets, 20.1ms\n",
      "Speed: 4.0ms preprocess, 20.1ms inference, 0.0ms postprocess per image at shape (1, 3, 640, 640)\n",
      "\n",
      "0: 640x640 2 fire extinguishers, 1 helmet, 16.6ms\n",
      "Speed: 4.6ms preprocess, 16.6ms inference, 0.0ms postprocess per image at shape (1, 3, 640, 640)\n"
     ]
    },
    {
     "name": "stderr",
     "output_type": "stream",
     "text": [
      " 96%|███████████████████████████████████████████████████████████████████████████   | 1266/1315 [01:34<00:03, 14.70it/s]"
     ]
    },
    {
     "name": "stdout",
     "output_type": "stream",
     "text": [
      "\n",
      "0: 640x640 2 fire extinguishers, 1 helmet, 25.5ms\n",
      "Speed: 0.0ms preprocess, 25.5ms inference, 0.0ms postprocess per image at shape (1, 3, 640, 640)\n",
      "\n",
      "0: 640x640 2 fire extinguishers, 1 helmet, 23.5ms\n",
      "Speed: 4.3ms preprocess, 23.5ms inference, 1.0ms postprocess per image at shape (1, 3, 640, 640)\n"
     ]
    },
    {
     "name": "stderr",
     "output_type": "stream",
     "text": [
      " 96%|███████████████████████████████████████████████████████████████████████████▏  | 1268/1315 [01:34<00:03, 14.65it/s]"
     ]
    },
    {
     "name": "stdout",
     "output_type": "stream",
     "text": [
      "\n",
      "0: 640x640 1 fire extinguisher, 1 helmet, 8.5ms\n",
      "Speed: 4.0ms preprocess, 8.5ms inference, 0.0ms postprocess per image at shape (1, 3, 640, 640)\n",
      "\n",
      "0: 640x640 1 fire extinguisher, 1 helmet, 21.7ms\n",
      "Speed: 3.6ms preprocess, 21.7ms inference, 1.2ms postprocess per image at shape (1, 3, 640, 640)\n"
     ]
    },
    {
     "name": "stderr",
     "output_type": "stream",
     "text": [
      " 97%|███████████████████████████████████████████████████████████████████████████▎  | 1270/1315 [01:34<00:03, 14.72it/s]"
     ]
    },
    {
     "name": "stdout",
     "output_type": "stream",
     "text": [
      "\n",
      "0: 640x640 2 fire extinguishers, 1 helmet, 22.8ms\n",
      "Speed: 4.0ms preprocess, 22.8ms inference, 0.0ms postprocess per image at shape (1, 3, 640, 640)\n",
      "\n",
      "0: 640x640 2 fire extinguishers, 1 helmet, 21.5ms\n",
      "Speed: 3.6ms preprocess, 21.5ms inference, 0.0ms postprocess per image at shape (1, 3, 640, 640)\n"
     ]
    },
    {
     "name": "stderr",
     "output_type": "stream",
     "text": [
      " 97%|███████████████████████████████████████████████████████████████████████████▍  | 1272/1315 [01:34<00:02, 14.63it/s]"
     ]
    },
    {
     "name": "stdout",
     "output_type": "stream",
     "text": [
      "\n",
      "0: 640x640 3 fire extinguishers, 18.8ms\n",
      "Speed: 4.0ms preprocess, 18.8ms inference, 0.0ms postprocess per image at shape (1, 3, 640, 640)\n",
      "\n",
      "0: 640x640 3 fire extinguishers, 23.1ms\n",
      "Speed: 3.7ms preprocess, 23.1ms inference, 1.0ms postprocess per image at shape (1, 3, 640, 640)\n"
     ]
    },
    {
     "name": "stderr",
     "output_type": "stream",
     "text": [
      " 97%|███████████████████████████████████████████████████████████████████████████▌  | 1274/1315 [01:35<00:02, 14.61it/s]"
     ]
    },
    {
     "name": "stdout",
     "output_type": "stream",
     "text": [
      "\n",
      "0: 640x640 2 fire extinguishers, 1 helmet, 14.0ms\n",
      "Speed: 2.7ms preprocess, 14.0ms inference, 0.0ms postprocess per image at shape (1, 3, 640, 640)\n",
      "\n",
      "0: 640x640 2 fire extinguishers, 1 helmet, 23.9ms\n",
      "Speed: 3.4ms preprocess, 23.9ms inference, 1.0ms postprocess per image at shape (1, 3, 640, 640)\n"
     ]
    },
    {
     "name": "stderr",
     "output_type": "stream",
     "text": [
      " 97%|███████████████████████████████████████████████████████████████████████████▋  | 1276/1315 [01:35<00:02, 14.59it/s]"
     ]
    },
    {
     "name": "stdout",
     "output_type": "stream",
     "text": [
      "\n",
      "0: 640x640 3 fire extinguishers, 1 helmet, 17.3ms\n",
      "Speed: 4.0ms preprocess, 17.3ms inference, 0.0ms postprocess per image at shape (1, 3, 640, 640)\n",
      "\n",
      "0: 640x640 2 fire extinguishers, 1 helmet, 22.9ms\n",
      "Speed: 3.8ms preprocess, 22.9ms inference, 0.0ms postprocess per image at shape (1, 3, 640, 640)\n"
     ]
    },
    {
     "name": "stderr",
     "output_type": "stream",
     "text": [
      " 97%|███████████████████████████████████████████████████████████████████████████▊  | 1278/1315 [01:35<00:02, 14.55it/s]"
     ]
    },
    {
     "name": "stdout",
     "output_type": "stream",
     "text": [
      "\n",
      "0: 640x640 2 fire extinguishers, 1 helmet, 20.1ms\n",
      "Speed: 4.0ms preprocess, 20.1ms inference, 0.0ms postprocess per image at shape (1, 3, 640, 640)\n",
      "\n",
      "0: 640x640 1 fire extinguisher, 1 helmet, 22.3ms\n",
      "Speed: 3.6ms preprocess, 22.3ms inference, 0.0ms postprocess per image at shape (1, 3, 640, 640)\n"
     ]
    },
    {
     "name": "stderr",
     "output_type": "stream",
     "text": [
      " 97%|███████████████████████████████████████████████████████████████████████████▉  | 1280/1315 [01:35<00:02, 14.57it/s]"
     ]
    },
    {
     "name": "stdout",
     "output_type": "stream",
     "text": [
      "\n",
      "0: 640x640 1 fire extinguisher, 1 helmet, 18.6ms\n",
      "Speed: 5.0ms preprocess, 18.6ms inference, 0.0ms postprocess per image at shape (1, 3, 640, 640)\n",
      "\n",
      "0: 640x640 1 fire extinguisher, 1 helmet, 20.5ms\n",
      "Speed: 3.8ms preprocess, 20.5ms inference, 0.0ms postprocess per image at shape (1, 3, 640, 640)\n"
     ]
    },
    {
     "name": "stderr",
     "output_type": "stream",
     "text": [
      " 97%|████████████████████████████████████████████████████████████████████████████  | 1282/1315 [01:35<00:02, 14.78it/s]"
     ]
    },
    {
     "name": "stdout",
     "output_type": "stream",
     "text": [
      "\n",
      "0: 640x640 1 fire extinguisher, 1 helmet, 19.7ms\n",
      "Speed: 4.0ms preprocess, 19.7ms inference, 0.0ms postprocess per image at shape (1, 3, 640, 640)\n",
      "\n",
      "0: 640x640 1 fire extinguisher, 21.8ms\n",
      "Speed: 5.0ms preprocess, 21.8ms inference, 0.5ms postprocess per image at shape (1, 3, 640, 640)\n"
     ]
    },
    {
     "name": "stderr",
     "output_type": "stream",
     "text": [
      " 98%|████████████████████████████████████████████████████████████████████████████▏ | 1284/1315 [01:35<00:02, 14.94it/s]"
     ]
    },
    {
     "name": "stdout",
     "output_type": "stream",
     "text": [
      "\n",
      "0: 640x640 1 fire extinguisher, 1 helmet, 20.1ms\n",
      "Speed: 4.0ms preprocess, 20.1ms inference, 0.0ms postprocess per image at shape (1, 3, 640, 640)\n",
      "\n",
      "0: 640x640 2 fire extinguishers, 1 helmet, 24.7ms\n",
      "Speed: 4.8ms preprocess, 24.7ms inference, 0.0ms postprocess per image at shape (1, 3, 640, 640)\n"
     ]
    },
    {
     "name": "stderr",
     "output_type": "stream",
     "text": [
      " 98%|████████████████████████████████████████████████████████████████████████████▎ | 1286/1315 [01:35<00:01, 14.71it/s]"
     ]
    },
    {
     "name": "stdout",
     "output_type": "stream",
     "text": [
      "\n",
      "0: 640x640 2 fire extinguishers, 17.4ms\n",
      "Speed: 4.5ms preprocess, 17.4ms inference, 0.0ms postprocess per image at shape (1, 3, 640, 640)\n",
      "\n",
      "0: 640x640 2 fire extinguishers, 22.1ms\n",
      "Speed: 4.3ms preprocess, 22.1ms inference, 1.0ms postprocess per image at shape (1, 3, 640, 640)\n"
     ]
    },
    {
     "name": "stderr",
     "output_type": "stream",
     "text": [
      " 98%|████████████████████████████████████████████████████████████████████████████▍ | 1288/1315 [01:36<00:01, 14.62it/s]"
     ]
    },
    {
     "name": "stdout",
     "output_type": "stream",
     "text": [
      "\n",
      "0: 640x640 2 fire extinguishers, 31.5ms\n",
      "Speed: 0.0ms preprocess, 31.5ms inference, 0.0ms postprocess per image at shape (1, 3, 640, 640)\n",
      "\n",
      "0: 640x640 2 fire extinguishers, 19.0ms\n",
      "Speed: 4.0ms preprocess, 19.0ms inference, 0.0ms postprocess per image at shape (1, 3, 640, 640)\n"
     ]
    },
    {
     "name": "stderr",
     "output_type": "stream",
     "text": [
      " 98%|████████████████████████████████████████████████████████████████████████████▌ | 1290/1315 [01:36<00:01, 14.37it/s]"
     ]
    },
    {
     "name": "stdout",
     "output_type": "stream",
     "text": [
      "\n",
      "0: 640x640 2 fire extinguishers, 15.7ms\n",
      "Speed: 3.8ms preprocess, 15.7ms inference, 0.0ms postprocess per image at shape (1, 3, 640, 640)\n",
      "\n",
      "0: 640x640 2 fire extinguishers, 23.2ms\n",
      "Speed: 4.2ms preprocess, 23.2ms inference, 1.0ms postprocess per image at shape (1, 3, 640, 640)\n"
     ]
    },
    {
     "name": "stderr",
     "output_type": "stream",
     "text": [
      " 98%|████████████████████████████████████████████████████████████████████████████▋ | 1292/1315 [01:36<00:01, 14.44it/s]"
     ]
    },
    {
     "name": "stdout",
     "output_type": "stream",
     "text": [
      "\n",
      "0: 640x640 1 fire extinguisher, 15.0ms\n",
      "Speed: 1.0ms preprocess, 15.0ms inference, 0.0ms postprocess per image at shape (1, 3, 640, 640)\n",
      "\n",
      "0: 640x640 2 fire extinguishers, 22.5ms\n",
      "Speed: 4.3ms preprocess, 22.5ms inference, 1.0ms postprocess per image at shape (1, 3, 640, 640)\n"
     ]
    },
    {
     "name": "stderr",
     "output_type": "stream",
     "text": [
      " 98%|████████████████████████████████████████████████████████████████████████████▊ | 1294/1315 [01:36<00:01, 14.50it/s]"
     ]
    },
    {
     "name": "stdout",
     "output_type": "stream",
     "text": [
      "\n",
      "0: 640x640 2 fire extinguishers, 1 helmet, 12.0ms\n",
      "Speed: 0.6ms preprocess, 12.0ms inference, 0.0ms postprocess per image at shape (1, 3, 640, 640)\n",
      "\n",
      "0: 640x640 1 fire extinguisher, 22.4ms\n",
      "Speed: 4.3ms preprocess, 22.4ms inference, 0.9ms postprocess per image at shape (1, 3, 640, 640)\n"
     ]
    },
    {
     "name": "stderr",
     "output_type": "stream",
     "text": [
      " 99%|████████████████████████████████████████████████████████████████████████████▊ | 1296/1315 [01:36<00:01, 14.53it/s]"
     ]
    },
    {
     "name": "stdout",
     "output_type": "stream",
     "text": [
      "\n",
      "0: 640x640 2 fire extinguishers, 1 helmet, 23.0ms\n",
      "Speed: 4.0ms preprocess, 23.0ms inference, 0.0ms postprocess per image at shape (1, 3, 640, 640)\n",
      "\n",
      "0: 640x640 1 fire extinguisher, 1 helmet, 20.1ms\n",
      "Speed: 4.0ms preprocess, 20.1ms inference, 0.0ms postprocess per image at shape (1, 3, 640, 640)\n"
     ]
    },
    {
     "name": "stderr",
     "output_type": "stream",
     "text": [
      " 99%|████████████████████████████████████████████████████████████████████████████▉ | 1298/1315 [01:36<00:01, 14.48it/s]"
     ]
    },
    {
     "name": "stdout",
     "output_type": "stream",
     "text": [
      "\n",
      "0: 640x640 1 fire extinguisher, 1 helmet, 15.8ms\n",
      "Speed: 4.2ms preprocess, 15.8ms inference, 0.0ms postprocess per image at shape (1, 3, 640, 640)\n",
      "\n",
      "0: 640x640 1 fire extinguisher, 1 helmet, 22.1ms\n",
      "Speed: 4.3ms preprocess, 22.1ms inference, 1.0ms postprocess per image at shape (1, 3, 640, 640)\n"
     ]
    },
    {
     "name": "stderr",
     "output_type": "stream",
     "text": [
      " 99%|█████████████████████████████████████████████████████████████████████████████ | 1300/1315 [01:36<00:01, 14.57it/s]"
     ]
    },
    {
     "name": "stdout",
     "output_type": "stream",
     "text": [
      "\n",
      "0: 640x640 2 fire extinguishers, 1 helmet, 16.3ms\n",
      "Speed: 2.6ms preprocess, 16.3ms inference, 0.0ms postprocess per image at shape (1, 3, 640, 640)\n",
      "\n",
      "0: 640x640 1 fire extinguisher, 1 helmet, 22.9ms\n",
      "Speed: 4.9ms preprocess, 22.9ms inference, 1.0ms postprocess per image at shape (1, 3, 640, 640)\n"
     ]
    },
    {
     "name": "stderr",
     "output_type": "stream",
     "text": [
      " 99%|█████████████████████████████████████████████████████████████████████████████▏| 1302/1315 [01:36<00:00, 14.65it/s]"
     ]
    },
    {
     "name": "stdout",
     "output_type": "stream",
     "text": [
      "\n",
      "0: 640x640 2 fire extinguishers, 1 helmet, 14.2ms\n",
      "Speed: 4.4ms preprocess, 14.2ms inference, 12.5ms postprocess per image at shape (1, 3, 640, 640)\n",
      "\n",
      "0: 640x640 2 fire extinguishers, 1 helmet, 23.3ms\n",
      "Speed: 3.8ms preprocess, 23.3ms inference, 0.0ms postprocess per image at shape (1, 3, 640, 640)\n"
     ]
    },
    {
     "name": "stderr",
     "output_type": "stream",
     "text": [
      " 99%|█████████████████████████████████████████████████████████████████████████████▎| 1304/1315 [01:37<00:00, 14.53it/s]"
     ]
    },
    {
     "name": "stdout",
     "output_type": "stream",
     "text": [
      "\n",
      "0: 640x640 2 fire extinguishers, 1 helmet, 20.9ms\n",
      "Speed: 4.0ms preprocess, 20.9ms inference, 0.0ms postprocess per image at shape (1, 3, 640, 640)\n",
      "\n",
      "0: 640x640 2 fire extinguishers, 1 helmet, 23.0ms\n",
      "Speed: 3.4ms preprocess, 23.0ms inference, 1.0ms postprocess per image at shape (1, 3, 640, 640)\n"
     ]
    },
    {
     "name": "stderr",
     "output_type": "stream",
     "text": [
      " 99%|█████████████████████████████████████████████████████████████████████████████▍| 1306/1315 [01:37<00:00, 14.50it/s]"
     ]
    },
    {
     "name": "stdout",
     "output_type": "stream",
     "text": [
      "\n",
      "0: 640x640 2 fire extinguishers, 1 helmet, 16.1ms\n",
      "Speed: 4.0ms preprocess, 16.1ms inference, 0.0ms postprocess per image at shape (1, 3, 640, 640)\n",
      "\n",
      "0: 640x640 2 fire extinguishers, 1 helmet, 15.7ms\n",
      "Speed: 4.6ms preprocess, 15.7ms inference, 0.0ms postprocess per image at shape (1, 3, 640, 640)\n"
     ]
    },
    {
     "name": "stderr",
     "output_type": "stream",
     "text": [
      " 99%|█████████████████████████████████████████████████████████████████████████████▌| 1308/1315 [01:37<00:00, 14.55it/s]"
     ]
    },
    {
     "name": "stdout",
     "output_type": "stream",
     "text": [
      "\n",
      "0: 640x640 2 fire extinguishers, 1 helmet, 20.3ms\n",
      "Speed: 3.5ms preprocess, 20.3ms inference, 0.0ms postprocess per image at shape (1, 3, 640, 640)\n",
      "\n",
      "0: 640x640 2 fire extinguishers, 1 helmet, 22.7ms\n",
      "Speed: 4.6ms preprocess, 22.7ms inference, 1.0ms postprocess per image at shape (1, 3, 640, 640)\n"
     ]
    },
    {
     "name": "stderr",
     "output_type": "stream",
     "text": [
      "100%|█████████████████████████████████████████████████████████████████████████████▋| 1310/1315 [01:37<00:00, 14.62it/s]"
     ]
    },
    {
     "name": "stdout",
     "output_type": "stream",
     "text": [
      "\n",
      "0: 640x640 2 fire extinguishers, 1 helmet, 16.3ms\n",
      "Speed: 0.6ms preprocess, 16.3ms inference, 0.0ms postprocess per image at shape (1, 3, 640, 640)\n",
      "\n",
      "0: 640x640 2 fire extinguishers, 1 helmet, 22.8ms\n",
      "Speed: 4.1ms preprocess, 22.8ms inference, 1.0ms postprocess per image at shape (1, 3, 640, 640)\n"
     ]
    },
    {
     "name": "stderr",
     "output_type": "stream",
     "text": [
      "100%|█████████████████████████████████████████████████████████████████████████████▊| 1312/1315 [01:37<00:00, 14.60it/s]"
     ]
    },
    {
     "name": "stdout",
     "output_type": "stream",
     "text": [
      "\n",
      "0: 640x640 2 fire extinguishers, 1 helmet, 31.3ms\n",
      "Speed: 0.0ms preprocess, 31.3ms inference, 0.0ms postprocess per image at shape (1, 3, 640, 640)\n",
      "\n",
      "0: 640x640 2 fire extinguishers, 1 helmet, 22.6ms\n",
      "Speed: 3.6ms preprocess, 22.6ms inference, 0.0ms postprocess per image at shape (1, 3, 640, 640)\n"
     ]
    },
    {
     "name": "stderr",
     "output_type": "stream",
     "text": [
      "100%|█████████████████████████████████████████████████████████████████████████████▉| 1314/1315 [01:37<00:00, 14.54it/s]"
     ]
    },
    {
     "name": "stdout",
     "output_type": "stream",
     "text": [
      "\n",
      "0: 640x640 2 fire extinguishers, 1 helmet, 21.5ms\n",
      "Speed: 4.0ms preprocess, 21.5ms inference, 0.0ms postprocess per image at shape (1, 3, 640, 640)\n"
     ]
    },
    {
     "name": "stderr",
     "output_type": "stream",
     "text": [
      "100%|██████████████████████████████████████████████████████████████████████████████| 1315/1315 [01:37<00:00, 13.43it/s]\n"
     ]
    }
   ],
   "source": [
    "from pathlib import Path\n",
    "import os\n",
    "\n",
    "video_in_file = \"fire-protection-9074899G.mp4\"\n",
    "basename = Path(video_in_file).stem\n",
    "video_out_file = os.path.join(basename + '_detected-1' + '.mp4')\n",
    "model = YOLO(\"iti107_assignment/train/weights/best_int8_openvino_model\", task=\"detect\")\n",
    "write_video(video_in_file, video_out_file, model)"
   ]
  },
  {
   "cell_type": "code",
   "execution_count": null,
   "metadata": {},
   "outputs": [],
   "source": []
  }
 ],
 "metadata": {
  "accelerator": "GPU",
  "colab": {
   "gpuType": "T4",
   "provenance": []
  },
  "kernelspec": {
   "display_name": "Python 3 (ipykernel)",
   "language": "python",
   "name": "python3"
  },
  "language_info": {
   "codemirror_mode": {
    "name": "ipython",
    "version": 3
   },
   "file_extension": ".py",
   "mimetype": "text/x-python",
   "name": "python",
   "nbconvert_exporter": "python",
   "pygments_lexer": "ipython3",
   "version": "3.8.18"
  },
  "widgets": {
   "application/vnd.jupyter.widget-state+json": {
    "01f88ef279f2429e83207456c4b18291": {
     "model_module": "@jupyter-widgets/base",
     "model_module_version": "1.2.0",
     "model_name": "LayoutModel",
     "state": {
      "_model_module": "@jupyter-widgets/base",
      "_model_module_version": "1.2.0",
      "_model_name": "LayoutModel",
      "_view_count": null,
      "_view_module": "@jupyter-widgets/base",
      "_view_module_version": "1.2.0",
      "_view_name": "LayoutView",
      "align_content": null,
      "align_items": null,
      "align_self": null,
      "border": null,
      "bottom": null,
      "display": null,
      "flex": null,
      "flex_flow": null,
      "grid_area": null,
      "grid_auto_columns": null,
      "grid_auto_flow": null,
      "grid_auto_rows": null,
      "grid_column": null,
      "grid_gap": null,
      "grid_row": null,
      "grid_template_areas": null,
      "grid_template_columns": null,
      "grid_template_rows": null,
      "height": null,
      "justify_content": null,
      "justify_items": null,
      "left": null,
      "margin": null,
      "max_height": null,
      "max_width": null,
      "min_height": null,
      "min_width": null,
      "object_fit": null,
      "object_position": null,
      "order": null,
      "overflow": null,
      "overflow_x": null,
      "overflow_y": null,
      "padding": null,
      "right": null,
      "top": null,
      "visibility": null,
      "width": null
     }
    },
    "10b28a53f1624ce9a704ea1b516163c1": {
     "model_module": "@jupyter-widgets/base",
     "model_module_version": "1.2.0",
     "model_name": "LayoutModel",
     "state": {
      "_model_module": "@jupyter-widgets/base",
      "_model_module_version": "1.2.0",
      "_model_name": "LayoutModel",
      "_view_count": null,
      "_view_module": "@jupyter-widgets/base",
      "_view_module_version": "1.2.0",
      "_view_name": "LayoutView",
      "align_content": null,
      "align_items": null,
      "align_self": null,
      "border": null,
      "bottom": null,
      "display": null,
      "flex": null,
      "flex_flow": null,
      "grid_area": null,
      "grid_auto_columns": null,
      "grid_auto_flow": null,
      "grid_auto_rows": null,
      "grid_column": null,
      "grid_gap": null,
      "grid_row": null,
      "grid_template_areas": null,
      "grid_template_columns": null,
      "grid_template_rows": null,
      "height": null,
      "justify_content": null,
      "justify_items": null,
      "left": null,
      "margin": null,
      "max_height": null,
      "max_width": null,
      "min_height": null,
      "min_width": null,
      "object_fit": null,
      "object_position": null,
      "order": null,
      "overflow": null,
      "overflow_x": null,
      "overflow_y": null,
      "padding": null,
      "right": null,
      "top": null,
      "visibility": null,
      "width": null
     }
    },
    "4f0ccf20a5f547f8af03b4ba37447be0": {
     "model_module": "@jupyter-widgets/output",
     "model_module_version": "1.0.0",
     "model_name": "OutputModel",
     "state": {
      "_dom_classes": [],
      "_model_module": "@jupyter-widgets/output",
      "_model_module_version": "1.0.0",
      "_model_name": "OutputModel",
      "_view_count": null,
      "_view_module": "@jupyter-widgets/output",
      "_view_module_version": "1.0.0",
      "_view_name": "OutputView",
      "layout": "IPY_MODEL_10b28a53f1624ce9a704ea1b516163c1",
      "msg_id": "",
      "outputs": [
       {
        "data": {
         "text/html": "<pre style=\"white-space:pre;overflow-x:auto;line-height:normal;font-family:Menlo,'DejaVu Sans Mono',consolas,'Courier New',monospace\">Applying Fast Bias correction <span style=\"color: #729c1f; text-decoration-color: #729c1f\">━━━━━━━━━━━━━━━━━━━━━━━━━━━━━━━━━━━━━━━━━━━━━━━━━━━━━━</span> <span style=\"color: #800080; text-decoration-color: #800080\">100%</span> <span style=\"color: #0068b5; text-decoration-color: #0068b5\">63/63</span> • <span style=\"color: #0068b5; text-decoration-color: #0068b5\">0:00:03</span> • <span style=\"color: #0068b5; text-decoration-color: #0068b5\">0:00:00</span>\n</pre>\n",
         "text/plain": "Applying Fast Bias correction \u001b[38;2;114;156;31m━━━━━━━━━━━━━━━━━━━━━━━━━━━━━━━━━━━━━━━━━━━━━━━━━━━━━━\u001b[0m \u001b[35m100%\u001b[0m \u001b[38;2;0;104;181m63/63\u001b[0m • \u001b[38;2;0;104;181m0:00:03\u001b[0m • \u001b[38;2;0;104;181m0:00:00\u001b[0m\n"
        },
        "metadata": {},
        "output_type": "display_data"
       }
      ]
     }
    },
    "f52059f487234ae18f480d435e33f661": {
     "model_module": "@jupyter-widgets/output",
     "model_module_version": "1.0.0",
     "model_name": "OutputModel",
     "state": {
      "_dom_classes": [],
      "_model_module": "@jupyter-widgets/output",
      "_model_module_version": "1.0.0",
      "_model_name": "OutputModel",
      "_view_count": null,
      "_view_module": "@jupyter-widgets/output",
      "_view_module_version": "1.0.0",
      "_view_name": "OutputView",
      "layout": "IPY_MODEL_01f88ef279f2429e83207456c4b18291",
      "msg_id": "",
      "outputs": [
       {
        "data": {
         "text/html": "<pre style=\"white-space:pre;overflow-x:auto;line-height:normal;font-family:Menlo,'DejaVu Sans Mono',consolas,'Courier New',monospace\">Statistics collection <span style=\"color: #729c1f; text-decoration-color: #729c1f\">━━━━━━━━━━━━━━━━━━━━━━━━━━━━━━━━━━━━━━━━━━━━━━━━━━━━━━━━━━━━━━━━</span> <span style=\"color: #800080; text-decoration-color: #800080\">100%</span> <span style=\"color: #0068b5; text-decoration-color: #0068b5\">4/4</span> • <span style=\"color: #0068b5; text-decoration-color: #0068b5\">0:00:04</span> • <span style=\"color: #0068b5; text-decoration-color: #0068b5\">0:00:00</span>\n</pre>\n",
         "text/plain": "Statistics collection \u001b[38;2;114;156;31m━━━━━━━━━━━━━━━━━━━━━━━━━━━━━━━━━━━━━━━━━━━━━━━━━━━━━━━━━━━━━━━━\u001b[0m \u001b[35m100%\u001b[0m \u001b[38;2;0;104;181m4/4\u001b[0m • \u001b[38;2;0;104;181m0:00:04\u001b[0m • \u001b[38;2;0;104;181m0:00:00\u001b[0m\n"
        },
        "metadata": {},
        "output_type": "display_data"
       }
      ]
     }
    }
   }
  }
 },
 "nbformat": 4,
 "nbformat_minor": 4
}
